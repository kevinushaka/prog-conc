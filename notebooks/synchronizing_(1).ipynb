{
  "nbformat": 4,
  "nbformat_minor": 0,
  "metadata": {
    "kernelspec": {
      "display_name": "Python 3",
      "language": "python",
      "name": "python3"
    },
    "language_info": {
      "codemirror_mode": {
        "name": "ipython",
        "version": 3
      },
      "file_extension": ".py",
      "mimetype": "text/x-python",
      "name": "python",
      "nbconvert_exporter": "python",
      "pygments_lexer": "ipython3",
      "version": "3.8.3"
    },
    "colab": {
      "name": "synchronizing (1).ipynb",
      "provenance": []
    }
  },
  "cells": [
    {
      "cell_type": "markdown",
      "metadata": {
        "id": "9u8JwYEd7Wlh"
      },
      "source": [
        "Référence(s):\n",
        "\n",
        "> \n",
        "\n",
        "\n",
        "    https://docs.python.org/fr/3/library/_thread.html\n",
        "\n",
        "> \n",
        "\n",
        "\n",
        "    http://effbot.org/zone/thread-synchronization.htm\n",
        "\n",
        "> \n",
        "\n"
      ]
    },
    {
      "cell_type": "markdown",
      "metadata": {
        "id": "qYFmEEj8B6h7"
      },
      "source": [
        "# Membres:\n",
        "\n",
        "\n",
        "> Kévin Ushaka \n",
        "\n",
        "\n",
        "> Denis ADANLEHOUSSI\n",
        "\n",
        "\n",
        "\n",
        "\n"
      ]
    },
    {
      "cell_type": "markdown",
      "metadata": {
        "id": "Gv27N0a37Wli"
      },
      "source": [
        "# Synchronizing"
      ]
    },
    {
      "cell_type": "markdown",
      "metadata": {
        "id": "aD2F5w577Wlq"
      },
      "source": [
        "### Lock"
      ]
    },
    {
      "cell_type": "markdown",
      "metadata": {
        "id": "uIA-c2dC7Wlr"
      },
      "source": [
        "Un verrou primitif est soit « verrouillé » soit « déverrouillé ». Il est créé dans un état déverrouillé. Il a deux méthodes, acquire() et release(). Lorsque l'état d'un verrou est déverrouillé, l'appel à acquire() le verrouille. Lorsque l'état d'un verrou est verrouillé, l'appel à acquire() le bloque jusqu'à ce qu'un appel à release() le déverrouille.\n",
        "\n",
        "Lorsque plusieurs threads sont bloqués à cause de l'appel à acquire() par un autre thread en attendant que l'état passe à déverrouillé, un seul  de ces threads se poursuit lors de l'appel de release () par le thread à lorigine du verrouillage. Le thread parmis les threads en attente qui continue son execution (prend le verrou) n'est pas défini et peut varier selon les implémentations.\n",
        "\n",
        "Pour un fonctionnement correct, il est important de libérer le verrou même si quelque chose ne va pas lors de l’accès à la ressource. On peut utiliser try-finally.\n",
        "\n",
        "**Pseudo code :**"
      ]
    },
    {
      "cell_type": "markdown",
      "metadata": {
        "id": "Wav9kbK07Wlr"
      },
      "source": [
        "\n",
        "`lock.acquire()`\n",
        "\n",
        "`try:`\n",
        "\n",
        "    ... access shared resource\n",
        "\n",
        "`finally:`\n",
        "\n",
        "    lock.release() # release lock, no matter what\n"
      ]
    },
    {
      "cell_type": "markdown",
      "metadata": {
        "id": "dMb3Zro17Wls"
      },
      "source": [
        "La méthode acquire() prend un indicateur d'attente facultatif, qui peut être utilisé pour éviter le blocage si le verrou est détenu par quelqu'un d'autre. Si vous passez False, la méthode ne bloque jamais, mais retourne False si le verrou était déjà maintenu.\n",
        "\n",
        "\n"
      ]
    },
    {
      "cell_type": "markdown",
      "metadata": {
        "id": "1MRsMic6lnyd"
      },
      "source": [
        "**Preuve** : "
      ]
    },
    {
      "cell_type": "markdown",
      "metadata": {
        "id": "ooVFXuNk7Wlv"
      },
      "source": [
        "\n",
        "*Version 1 :* \n",
        "\n",
        "Dans l'exemple suivant, deux methodes utilisent une même varible globale \"g\", on gère pas les sections critqiues.\n",
        "\n",
        "Dans `add_one_one()` on reinitialise g à 0 puis on l'incrément de 1. Par la suite on cré une boucle de 30 avec affichage de texte juste pour faire durer l'execution de la methode . On incremente encore une fois g avant de l'afficher\n",
        "La resultat attendu appres cette afficheage est donc 2.\n",
        "\n",
        "Dans `add_two()` on incremente juste g de 2.\n",
        "\n",
        "Nous appelons deux threads sur ces deux methodes\n",
        "(`add_one_one()` en premier et `add_two()` apres).\n",
        "\n",
        "Notons que l'on attends que les deux threads se termine ( fonction join()), pour afficher le résultat seulement lexecution totale des deux Threads."
      ]
    },
    {
      "cell_type": "code",
      "metadata": {
        "id": "e1-3jUFFQ8GD",
        "outputId": "c222abc6-1a19-405b-add9-8de0acecec5b",
        "colab": {
          "base_uri": "https://localhost:8080/",
          "height": 561
        }
      },
      "source": [
        "#lock_tut.py\n",
        "from threading import Lock, Thread\n",
        "lock = Lock()\n",
        "g = 0\n",
        "\n",
        "def add_one_one():\n",
        "   \"\"\"\n",
        "   Just used for demonstration. It's bad to use the 'global'\n",
        "   statement in general.\n",
        "   \"\"\"\n",
        "   \n",
        "   global g\n",
        "   g=0\n",
        "   g += 1\n",
        "   for i in range(30):\n",
        "     print('boucle d\\'attente')\n",
        "   g += 1\n",
        "   print('Affichage de g dans add one one :',g)\n",
        "\n",
        "def add_two():\n",
        "   global g\n",
        "   g += 2\n",
        "\n",
        "threads = []\n",
        "for func in [add_one_one, add_two]:\n",
        "   threads.append(Thread(target=func))\n",
        "\n",
        "threads[0].start() \n",
        "threads[1].start()\n",
        "\n",
        "for thread in threads:\n",
        "   \"\"\"\n",
        "   Waits for threads to complete before moving on with the main\n",
        "   script.\n",
        "   \"\"\"\n",
        "   thread.join()\n",
        "\n",
        "print(g)"
      ],
      "execution_count": 103,
      "outputs": [
        {
          "output_type": "stream",
          "text": [
            "boucle d'attente\n",
            "boucle d'attente\n",
            "boucle d'attente\n",
            "boucle d'attente\n",
            "boucle d'attente\n",
            "boucle d'attente\n",
            "boucle d'attente\n",
            "boucle d'attente\n",
            "boucle d'attente\n",
            "boucle d'attente\n",
            "boucle d'attente\n",
            "boucle d'attente\n",
            "boucle d'attente\n",
            "boucle d'attente\n",
            "boucle d'attente\n",
            "boucle d'attente\n",
            "boucle d'attente\n",
            "boucle d'attente\n",
            "boucle d'attente\n",
            "boucle d'attente\n",
            "boucle d'attente\n",
            "boucle d'attente\n",
            "boucle d'attente\n",
            "boucle d'attente\n",
            "boucle d'attente\n",
            "boucle d'attente\n",
            "boucle d'attente\n",
            "boucle d'attente\n",
            "boucle d'attente\n",
            "boucle d'attente\n",
            "Affichage de g dans add one one : 4\n",
            "4\n"
          ],
          "name": "stdout"
        }
      ]
    },
    {
      "cell_type": "markdown",
      "metadata": {
        "id": "f4XBcj70grXv"
      },
      "source": [
        "On remarque apres plusieurs executions que l'affichage de g dans add_one_one donne tantôt 2 tantôt 4 ce qui n'est pas normal. La variable g a donc été modifier en tre temps par le thread `add_two()` avant sont affichage dans `add_one_one()`.\n",
        "\n",
        "\n",
        "\n"
      ]
    },
    {
      "cell_type": "markdown",
      "metadata": {
        "id": "bjgX6lZFlz-d"
      },
      "source": [
        "*Version 2 :*\n",
        "\n",
        "Dans cette seconde version, nous gèrons les sections critqiues avec le verrou threading.Lock"
      ]
    },
    {
      "cell_type": "code",
      "metadata": {
        "id": "EZONoJfN7Wlw",
        "outputId": "e5ae18ef-cc6b-4a1a-e329-711331420f14",
        "colab": {
          "base_uri": "https://localhost:8080/",
          "height": 561
        }
      },
      "source": [
        "#lock_tut.py\n",
        "from threading import Lock, Thread\n",
        "lock = Lock()\n",
        "g = 0\n",
        "\n",
        "def add_one():\n",
        "   \"\"\"\n",
        "   Just used for demonstration. It's bad to use the 'global'\n",
        "   statement in general.\n",
        "   \"\"\"\n",
        "   \n",
        "   global g\n",
        "   lock.acquire()\n",
        "   g=0\n",
        "   g += 1\n",
        "   for i in range(30):\n",
        "     print('boucle d\\'attente')\n",
        "   g += 1\n",
        "   print('Affichage de g dans add one :',g)\n",
        "   lock.release()\n",
        "\n",
        "def add_two():\n",
        "   global g\n",
        "   lock.acquire()\n",
        "   g += 2\n",
        "   lock.release()\n",
        "\n",
        "threads = []\n",
        "for func in [add_one, add_two]:\n",
        "   threads.append(Thread(target=func))\n",
        "   threads[-1].start()\n",
        "\n",
        "for thread in threads:\n",
        "   \"\"\"\n",
        "   Waits for threads to complete before moving on with the main\n",
        "   script.\n",
        "   \"\"\"\n",
        "   thread.join()\n",
        "\n",
        "print(g)"
      ],
      "execution_count": 104,
      "outputs": [
        {
          "output_type": "stream",
          "text": [
            "boucle d'attente\n",
            "boucle d'attente\n",
            "boucle d'attente\n",
            "boucle d'attente\n",
            "boucle d'attente\n",
            "boucle d'attente\n",
            "boucle d'attente\n",
            "boucle d'attente\n",
            "boucle d'attente\n",
            "boucle d'attente\n",
            "boucle d'attente\n",
            "boucle d'attente\n",
            "boucle d'attente\n",
            "boucle d'attente\n",
            "boucle d'attente\n",
            "boucle d'attente\n",
            "boucle d'attente\n",
            "boucle d'attente\n",
            "boucle d'attente\n",
            "boucle d'attente\n",
            "boucle d'attente\n",
            "boucle d'attente\n",
            "boucle d'attente\n",
            "boucle d'attente\n",
            "boucle d'attente\n",
            "boucle d'attente\n",
            "boucle d'attente\n",
            "boucle d'attente\n",
            "boucle d'attente\n",
            "boucle d'attente\n",
            "Affichage de g dans add one : 2\n",
            "4\n"
          ],
          "name": "stdout"
        }
      ]
    },
    {
      "cell_type": "markdown",
      "metadata": {
        "id": "wrbt4HVzuwco"
      },
      "source": [
        "On obtient toujours 2 pour l'affichage dans add_one_one et 4 a la fin, ce qui veut dire que les sections critiques ont été bien gérée."
      ]
    },
    {
      "cell_type": "markdown",
      "metadata": {
        "id": "R6D2o2A6usmU"
      },
      "source": [
        "### ReLock"
      ]
    },
    {
      "cell_type": "markdown",
      "metadata": {
        "id": "K4QhOajW7Wl1"
      },
      "source": [
        "Les objets de verrouillage normal ne peuvent pas être acquis plus d'une fois, même par le même thread. Cela peut introduire des effets secondaires indésirables si un verrou est accédé par plus d'une fonction dans la même chaîne d'appels."
      ]
    },
    {
      "cell_type": "code",
      "metadata": {
        "id": "vfhIa_UI7Wl2",
        "outputId": "41fc1889-6228-432b-88eb-bfd37dc12fed",
        "colab": {
          "base_uri": "https://localhost:8080/",
          "height": 68
        }
      },
      "source": [
        "import threading\n",
        "\n",
        "lock = threading.Lock()\n",
        "\n",
        "print('First try :',lock.acquire())\n",
        "print('Second try:',lock.acquire(0))\n",
        "print(\"print this if not blocked...\")"
      ],
      "execution_count": 114,
      "outputs": [
        {
          "output_type": "stream",
          "text": [
            "First try : True\n",
            "Second try: False\n",
            "print this if not blocked...\n"
          ],
          "name": "stdout"
        }
      ]
    },
    {
      "cell_type": "markdown",
      "metadata": {
        "id": "RvbnzD1G7Wl5"
      },
      "source": [
        "Comme nous pouvons le voir dans le code, puisque les deux fonctions utilisent le même verrou global et que l'une appelle l'autre, la deuxième acquisition échoue et se serait bloquée en utilisant les arguments par défaut pour acquérir (blocking = True, timeout = -1) comme indiqué dans le code suivant et sa sortie :"
      ]
    },
    {
      "cell_type": "code",
      "metadata": {
        "id": "Afuia0MI7Wl6",
        "outputId": "884c3b7e-c8da-4867-a852-7a679cacd808",
        "colab": {
          "base_uri": "https://localhost:8080/",
          "height": 248
        }
      },
      "source": [
        "import threading\n",
        "\n",
        "lock = threading.Lock()\n",
        "\n",
        "print('First try :', lock.acquire())\n",
        "print('Second try:', lock.acquire(blocking = True, timeout = -1))\n",
        "\n",
        "print(\"print this if not blocked...\")"
      ],
      "execution_count": 123,
      "outputs": [
        {
          "output_type": "stream",
          "text": [
            "First try : True\n"
          ],
          "name": "stdout"
        },
        {
          "output_type": "error",
          "ename": "KeyboardInterrupt",
          "evalue": "ignored",
          "traceback": [
            "\u001b[0;31m---------------------------------------------------------------------------\u001b[0m",
            "\u001b[0;31mKeyboardInterrupt\u001b[0m                         Traceback (most recent call last)",
            "\u001b[0;32m<ipython-input-123-c052632b0655>\u001b[0m in \u001b[0;36m<module>\u001b[0;34m()\u001b[0m\n\u001b[1;32m      4\u001b[0m \u001b[0;34m\u001b[0m\u001b[0m\n\u001b[1;32m      5\u001b[0m \u001b[0mprint\u001b[0m\u001b[0;34m(\u001b[0m\u001b[0;34m'First try :'\u001b[0m\u001b[0;34m,\u001b[0m \u001b[0mlock\u001b[0m\u001b[0;34m.\u001b[0m\u001b[0macquire\u001b[0m\u001b[0;34m(\u001b[0m\u001b[0;34m)\u001b[0m\u001b[0;34m)\u001b[0m\u001b[0;34m\u001b[0m\u001b[0;34m\u001b[0m\u001b[0m\n\u001b[0;32m----> 6\u001b[0;31m \u001b[0mprint\u001b[0m\u001b[0;34m(\u001b[0m\u001b[0;34m'Second try:'\u001b[0m\u001b[0;34m,\u001b[0m \u001b[0mlock\u001b[0m\u001b[0;34m.\u001b[0m\u001b[0macquire\u001b[0m\u001b[0;34m(\u001b[0m\u001b[0mblocking\u001b[0m \u001b[0;34m=\u001b[0m \u001b[0;32mTrue\u001b[0m\u001b[0;34m,\u001b[0m \u001b[0mtimeout\u001b[0m \u001b[0;34m=\u001b[0m \u001b[0;34m-\u001b[0m\u001b[0;36m1\u001b[0m\u001b[0;34m)\u001b[0m\u001b[0;34m)\u001b[0m\u001b[0;34m\u001b[0m\u001b[0;34m\u001b[0m\u001b[0m\n\u001b[0m\u001b[1;32m      7\u001b[0m \u001b[0;34m\u001b[0m\u001b[0m\n\u001b[1;32m      8\u001b[0m \u001b[0mprint\u001b[0m\u001b[0;34m(\u001b[0m\u001b[0;34m\"print this if not blocked...\"\u001b[0m\u001b[0;34m)\u001b[0m\u001b[0;34m\u001b[0m\u001b[0;34m\u001b[0m\u001b[0m\n",
            "\u001b[0;31mKeyboardInterrupt\u001b[0m: "
          ]
        }
      ]
    },
    {
      "cell_type": "markdown",
      "metadata": {
        "id": "1SPXcoNMwp4y"
      },
      "source": [
        "On remarque qu'on a vraiment un deadLock.\n",
        "\n",
        "Ainsi, comme dans l'exemple ci-dessus, dans une situation où un code séparé du même thread doit «réacquérir» le verrou, nous devons utiliser un threading.RLock au lieu d'un simple threading.Lock () :"
      ]
    },
    {
      "cell_type": "code",
      "metadata": {
        "id": "9HacTV2Dw-5M",
        "outputId": "4aef9621-0702-44b4-cfa1-a65e03017f38",
        "colab": {
          "base_uri": "https://localhost:8080/",
          "height": 68
        }
      },
      "source": [
        "import threading\n",
        "\n",
        "lock = threading.RLock()\n",
        "\n",
        "print('First try :', lock.acquire())\n",
        "print('Second try:', lock.acquire(blocking = True, timeout = -1))\n",
        "print(\"print this if not blocked...\")"
      ],
      "execution_count": 168,
      "outputs": [
        {
          "output_type": "stream",
          "text": [
            "First try : True\n",
            "Second try: True\n",
            "print this if not blocked...\n"
          ],
          "name": "stdout"
        }
      ]
    },
    {
      "cell_type": "markdown",
      "metadata": {
        "id": "DZX2dRxT7Wl9"
      },
      "source": [
        "### Semaphore"
      ]
    },
    {
      "cell_type": "markdown",
      "metadata": {
        "id": "k3rPjajY7Wl-"
      },
      "source": [
        "Les sémaphores sont simplement des compteurs avancés. Un `acquire()` appel à un sémaphore ne se bloquera qu'après qu'un certain nombre de threads l'auront `acquire()`. Le compteur associé diminue par appel à `acquire()` et augmente par appel à `release()`. Un `ValueError` se produira si les appels à `release()` tentent d'incrémenter le compteur au-delà de sa valeur maximale assignée (qui est le nombre de threads qui peuvent `acquire()` le sémaphore avant le blocage).Dans de nombreux cas, nous souhaitons autoriser plusieurs utilisateurs à accéder à une ressource tout en limitant le nombre total d'accès.\n",
        "\n",
        "Par exemple, nous pouvons souhaiter utiliser un sémaphore dans une situation où nous devons prendre en charge des connexions / téléchargements simultanés. Les sémaphores sont également souvent utilisés pour protéger les ressources dont la capacité est limitée, par exemple un serveur de base de données. Le code suivant illustre l'utilisation de sémaphores:"
      ]
    },
    {
      "cell_type": "code",
      "metadata": {
        "id": "pJ9pCEIO7Wl-",
        "outputId": "73c5f197-a44c-47b9-a75d-1cddd8e180d8",
        "colab": {
          "base_uri": "https://localhost:8080/",
          "height": 306
        }
      },
      "source": [
        "import threading\n",
        "import time\n",
        "import logging\n",
        "\n",
        "logging.basicConfig(level=logging.DEBUG,\n",
        "                    format='(%(threadName)-9s) %(message)s',)\n",
        "\n",
        "class ThreadPool(object):\n",
        "    def __init__(self):\n",
        "        super(ThreadPool, self).__init__()\n",
        "        self.active = []\n",
        "        self.lock = threading.Lock()\n",
        "    def makeActive(self, name):\n",
        "        with self.lock:\n",
        "            self.active.append(name)\n",
        "            logging.debug('Running: %s', self.active)\n",
        "    def makeInactive(self, name):\n",
        "        with self.lock:\n",
        "            self.active.remove(name)\n",
        "            logging.debug('Running: %s', self.active)\n",
        "\n",
        "def f(s, pool):\n",
        "    logging.debug('Waiting to join the pool')\n",
        "    with s:\n",
        "        name = threading.currentThread().getName()\n",
        "        pool.makeActive(name)\n",
        "        time.sleep(0.5)\n",
        "        pool.makeInactive(name)\n",
        "\n",
        "\n",
        "pool = ThreadPool()\n",
        "s = threading.Semaphore(3)\n",
        "for i in range(10):\n",
        "  t = threading.Thread(target=f, name='thread_'+str(i), args=(s, pool))\n",
        "  t.start()"
      ],
      "execution_count": 163,
      "outputs": [
        {
          "output_type": "stream",
          "text": [
            "(thread_0 ) Waiting to join the pool\n",
            "(thread_0 ) Running: ['thread_0']\n",
            "(thread_1 ) Waiting to join the pool\n",
            "(thread_1 ) Running: ['thread_0', 'thread_1']\n",
            "(thread_2 ) Waiting to join the pool\n",
            "(thread_2 ) Running: ['thread_0', 'thread_1', 'thread_2']\n",
            "(thread_3 ) Waiting to join the pool\n",
            "(thread_4 ) Waiting to join the pool\n",
            "(thread_5 ) Waiting to join the pool\n",
            "(thread_6 ) Waiting to join the pool\n",
            "(thread_7 ) Waiting to join the pool\n",
            "(thread_8 ) Waiting to join the pool\n",
            "(thread_9 ) Waiting to join the pool\n",
            "(thread_6 ) Running: ['thread_7', 'thread_8']\n",
            "(thread_9 ) Running: ['thread_7', 'thread_8', 'thread_9']\n",
            "(thread_7 ) Running: ['thread_8', 'thread_9']\n",
            "(thread_8 ) Running: ['thread_9']\n"
          ],
          "name": "stderr"
        }
      ]
    },
    {
      "cell_type": "markdown",
      "metadata": {
        "id": "7P_iL0pC6Yy_"
      },
      "source": [
        "Dans le code, la classe `ThreadPool` suit quels threads peuvent s'exécuter à un moment donné. Un vrai pool de ressources allouerait une connexion ou une autre valeur au thread nouvellement actif, et récupérerait la valeur lorsque le thread est terminé. Ici, il est utilisé uniquement pour contenir les noms des threads actifs pour montrer que seuls 10 sont exécutés simultanément."
      ]
    },
    {
      "cell_type": "markdown",
      "metadata": {
        "id": "8ATDyE918NbT"
      },
      "source": [
        "## Objet Event\n",
        "\n",
        "Nous utilisons plusieurs threads pour faire tourner des opérations séparées afin de les exécuter simultanément, cependant, il y a des moments où il est important de pouvoir synchroniser les opérations de deux ou plusieurs threads. L'utilisation d' objets Event est le moyen simple de communiquer entre les threads.\n",
        "\n",
        "Un événement gère un indicateur interne que les appelants peuvent définir () ou effacer () . D'autres threads peuvent attendre () que l'indicateur soit défini () . Notez que la méthode wait () se bloque jusqu'à ce que l'indicateur soit vrai."
      ]
    },
    {
      "cell_type": "code",
      "metadata": {
        "id": "aBHpjLL49_V9",
        "outputId": "f41c4752-656c-41e9-b0d1-19e5a6b0bdc5",
        "colab": {
          "base_uri": "https://localhost:8080/",
          "height": 187
        }
      },
      "source": [
        "import threading\n",
        "import time\n",
        "import logging\n",
        "\n",
        "logging.basicConfig(level=logging.DEBUG,\n",
        "                    format='(%(threadName)-9s) %(message)s',)\n",
        "                    \n",
        "def wait_for_event(e):\n",
        "    logging.debug('wait_for_event starting')\n",
        "    event_is_set = e.wait()\n",
        "    logging.debug('event set: %s', event_is_set)\n",
        "\n",
        "def wait_for_event_timeout(e, t):\n",
        "    while not e.isSet():\n",
        "        logging.debug('wait_for_event_timeout starting')\n",
        "        event_is_set = e.wait(t)\n",
        "        logging.debug('event set: %s', event_is_set)\n",
        "        if event_is_set:\n",
        "            logging.debug('processing event')\n",
        "        else:\n",
        "            logging.debug('doing other things')\n",
        "\n",
        "if __name__ == '__main__':\n",
        "    e = threading.Event()\n",
        "    t1 = threading.Thread(name='blocking', \n",
        "                      target=wait_for_event,\n",
        "                      args=(e,))\n",
        "    t1.start()\n",
        "\n",
        "    t2 = threading.Thread(name='non-blocking', \n",
        "                      target=wait_for_event_timeout, \n",
        "                      args=(e, 2))\n",
        "    t2.start()\n",
        "\n",
        "    logging.debug('Waiting before calling Event.set()')\n",
        "    time.sleep(3)\n",
        "    e.set()\n",
        "    logging.debug('Event is set')"
      ],
      "execution_count": 169,
      "outputs": [
        {
          "output_type": "stream",
          "text": [
            "(blocking ) wait_for_event starting\n",
            "(non-blocking) wait_for_event_timeout starting\n",
            "(MainThread) Waiting before calling Event.set()\n",
            "(non-blocking) event set: False\n",
            "(non-blocking) doing other things\n",
            "(non-blocking) wait_for_event_timeout starting\n",
            "(MainThread) Event is set\n",
            "(blocking ) event set: True\n",
            "(non-blocking) event set: True\n",
            "(non-blocking) processing event\n"
          ],
          "name": "stderr"
        }
      ]
    },
    {
      "cell_type": "markdown",
      "metadata": {
        "id": "NAxxa_1uBBg1"
      },
      "source": [
        "# Barrier\n",
        "\n",
        "Une barrière est une simple primitive de synchronisation qui peut être utilisée par différents threads pour s'attendre les uns les autres. Chaque thread tente de passer une barrière en appelant la wait()méthode, qui se bloquera jusqu'à ce que tous les threads aient effectué cet appel. Dès que cela se produit, les threads sont libérés simultanément. L'extrait de code suivant illustre l'utilisation de Barrier"
      ]
    },
    {
      "cell_type": "code",
      "metadata": {
        "id": "BFKr-pEQBX6i",
        "outputId": "53836f74-d4dd-441b-b07f-2596bdb4135c",
        "colab": {
          "base_uri": "https://localhost:8080/",
          "height": 136
        }
      },
      "source": [
        "#barrier_tut.py\n",
        "from random import randrange\n",
        "from threading import Barrier, Thread\n",
        "from time import ctime, sleep\n",
        "\n",
        "num = 4\n",
        "# 4 threads will need to pass this barrier to get released.\n",
        "b = Barrier(num)\n",
        "names = [\"Harsh\", \"Lokesh\", \"George\", \"Iqbal\"]\n",
        "\n",
        "def player():\n",
        "    name = names.pop()\n",
        "    sleep(randrange(2, 5))\n",
        "    print(\"%s reached the barrier at: %s\" % (name, ctime()))\n",
        "    b.wait()\n",
        "    \n",
        "threads = []\n",
        "print(\"Race starts now…\")\n",
        "\n",
        "for i in range(num):\n",
        "    threads.append(Thread(target=player))\n",
        "    threads[-1].start()\n",
        "\"\"\"\n",
        "Following loop enables waiting for the threads to complete before moving on with the main script.\n",
        "\"\"\"\n",
        "for thread in threads:\n",
        "    thread.join()\n",
        "print()\n",
        "print(\"Race over!\")"
      ],
      "execution_count": 170,
      "outputs": [
        {
          "output_type": "stream",
          "text": [
            "Race starts now…\n",
            "George reached the barrier at: Thu Oct  1 21:16:17 2020\n",
            "Iqbal reached the barrier at: Thu Oct  1 21:16:18 2020\n",
            "Harsh reached the barrier at: Thu Oct  1 21:16:18 2020\n",
            "Lokesh reached the barrier at: Thu Oct  1 21:16:19 2020\n",
            "\n",
            "Race over!\n"
          ],
          "name": "stdout"
        }
      ]
    }
  ]
}