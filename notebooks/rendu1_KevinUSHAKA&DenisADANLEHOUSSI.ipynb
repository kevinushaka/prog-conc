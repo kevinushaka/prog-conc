{
 "cells": [
  {
   "cell_type": "markdown",
   "metadata": {
    "colab_type": "text",
    "id": "Libv1-d_K0bW"
   },
   "source": [
    "# Projet Gestion de la Concurrence\n",
    "\n",
    "**Kévin** **Ushaka**\n",
    "\n",
    "**Denis** **ADANLEHOUSSI**\n",
    "\n",
    "\n",
    "\n",
    "\n",
    "\n",
    "\n",
    "\n",
    "\n"
   ]
  },
  {
   "cell_type": "raw",
   "metadata": {
    "colab": {
     "base_uri": "https://localhost:8080/",
     "height": 129
    },
    "colab_type": "code",
    "id": "n4egOV5v1er1",
    "outputId": "41ad946b-087b-4503-9653-f3df1a0b90d8"
   },
   "source": [
    "Référence(s) : \n",
    "    https://docs.python.org/fr/3/library/multiprocessing.html\n",
    "    https://docs.python.org/3/library/_thread.html\n",
    "    https://realpython.com/python-gil/\n",
    "    https://www.tutorialspoint.com/python3/python_multithreading.htm"
   ]
  },
  {
   "cell_type": "markdown",
   "metadata": {
    "colab_type": "raw",
    "id": "lveuL0SW1er6"
   },
   "source": [
    "Il existe plusieures modules qui prennent en charge l'utilisation des threads en Python: _thread, \n",
    "multiprocessing, threading, asyncio."
   ]
  },
  {
   "cell_type": "markdown",
   "metadata": {
    "colab_type": "raw",
    "id": "xgp1a5yE1er6"
   },
   "source": [
    "Le module _thread traite un thread comme une fonction, tandis que les modules multiprocessing, threading et asyncio sont \n",
    "implémentés de manière orientée objet, c'est-à-dire que chaque processus/thread correspond à un objet.\n",
    "\n",
    "\n",
    "\n",
    "![LesBiblioDeTread.png](data:image/png;base64,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)"
   ]
  },
  {
   "cell_type": "markdown",
   "metadata": {
    "colab_type": "raw",
    "id": "Bbeq9Wcs1er7"
   },
   "source": [
    "Quand on fait du multi-threading en python, 2 threads ne peuvent pas exécuter du code python en même temps à cause du Global Interpreter Lock. L'exécution simultanée de plusieurs tâches nécessite une implémentation non standard de Python\n",
    "ou l'utilisation du multiprocessing qui entraîne une surcharge supplémentaire.\n",
    "\n",
    "Quand on fait du multi-processing, c'est plus lourd, car il faut créer des processus, et la communication entre process est plus difficile car ils ne partagent pas la mémoire."
   ]
  },
  {
   "cell_type": "markdown",
   "metadata": {
    "colab_type": "raw",
    "id": "16obf2I31er8"
   },
   "source": [
    "#Pourquoi GIL?\n",
    "Python utilise le comptage de références pour la gestion de la mémoire. \n",
    "Cela signifie que les objets créés en Python ont une variable de comptage de références qui assure \n",
    "le suivi du nombre de références pointant vers l'objet. \n",
    "Lorsque ce décompte atteint zéro, la mémoire occupée par l'objet est libérée.\n",
    "\n",
    "Le problème est que cette variable de comptage de référence nécessite une protection contre les \n",
    "conditions de concurrence où deux threads augmentent ou diminuent simultanément sa valeur. \n",
    "Cela peut provoquer une fuite de mémoire qui n'est jamais libérée ouune libération incorrecte de la mémoire \n",
    "alors qu'une référence à cet objet existe toujours. "
   ]
  },
  {
   "cell_type": "markdown",
   "metadata": {
    "colab_type": "text",
    "id": "zObMuXN-1er8"
   },
   "source": [
    "# _thread"
   ]
  },
  {
   "cell_type": "markdown",
   "metadata": {
    "colab_type": "raw",
    "id": "WtvgG7cv1er9"
   },
   "source": [
    "#_thread\n",
    "Il est possible d'exécuter des fonctions dans un thread séparé avec le module Thread. \n",
    "\n",
    "thread.start_new_thread (fonction, args [, kwargs])\n",
    "\n",
    "Cette méthode démarre un nouveau thread et renvoie son identifiant. \n",
    "Le thread exécute la fonction avec l'argument list args. L'argument kwargs facultatif spécifie un dictionnaire \n",
    "d'arguments de mot-clé. Lorsque la fonction revient, le thread se ferme silencieusement. Lorsque la fonction se termine \n",
    "avec une exception non gérée, une trace de pile est imprimée, puis le thread se termine."
   ]
  },
  {
   "cell_type": "code",
   "execution_count": 2,
   "metadata": {
    "colab": {
     "base_uri": "https://localhost:8080/",
     "height": 136
    },
    "colab_type": "code",
    "id": "AhSHH7wF1er-",
    "outputId": "18582d93-c6bf-49c7-f953-c1648d7e307a"
   },
   "outputs": [
    {
     "name": "stdout",
     "output_type": "stream",
     "text": [
      "Done.\n",
      "Thread 99: starting.\n",
      "Thread 999: starting.\n",
      "Thread 1733: starting.\n",
      "Thread 99: finishing.\n",
      "Thread 999: finishing.\n",
      "Thread 1733: finishing.\n"
     ]
    }
   ],
   "source": [
    "from _thread import start_new_thread\n",
    "import time\n",
    "\n",
    "def thread_function(name):\n",
    "    print(\"Thread \" +str(name)+ \": starting.\")\n",
    "    time.sleep(2)\n",
    "    print(\"Thread \" +str(name)+\": finishing.\")\n",
    "\n",
    "_thread.\n",
    "start_new_thread(thread_function,(99,))\n",
    "start_new_thread(thread_function,(999,))\n",
    "start_new_thread(thread_function,(1733,))\n",
    "\n",
    "print(\"Done.\")"
   ]
  },
  {
   "cell_type": "markdown",
   "metadata": {
    "colab_type": "text",
    "id": "hBJcKfL91esD"
   },
   "source": [
    "# threading"
   ]
  },
  {
   "cell_type": "markdown",
   "metadata": {
    "colab_type": "raw",
    "id": "MKhmrYxm1esD"
   },
   "source": [
    "Le module threading fournit une API de fils d'exécution de haut niveau, \n",
    "plus facile à utiliser et construite à partir de ce module."
   ]
  },
  {
   "cell_type": "markdown",
   "metadata": {
    "colab_type": "raw",
    "id": "F0xOTvLl1esE"
   },
   "source": [
    "Pour implémenter un nouveau thread à l'aide du module de threading,on doit-\n",
    "\n",
    "Définir une nouvelle sous-classe de la classe Thread.\n",
    "\n",
    "Override la méthode __init __ (self [, args]) pour ajouter des arguments supplémentaires.\n",
    "\n",
    "Override la méthode run (self [, args]) pour implémenter ce que le thread doit faire au démarrage."
   ]
  },
  {
   "cell_type": "code",
   "execution_count": 7,
   "metadata": {
    "colab": {
     "base_uri": "https://localhost:8080/",
     "height": 119
    },
    "colab_type": "code",
    "id": "mY3clAsb1esF",
    "outputId": "d78003db-9c97-454d-c760-e4a96b8c68f8"
   },
   "outputs": [
    {
     "name": "stdout",
     "output_type": "stream",
     "text": [
      "Starting Thread-1\n",
      "Starting Thread-2Exiting Main Thread\n",
      "\n",
      "Thread-2Thu Sep 17 16:16:56 2020\n",
      "Thread-1Thu Sep 17 16:16:56 2020\n",
      "Thread-2Thu Sep 17 16:16:56 2020\n"
     ]
    }
   ],
   "source": [
    "import threading\n",
    "import time\n",
    "\n",
    "exitFlag = 0\n",
    "\n",
    "class myThread (threading.Thread):\n",
    "   def __init__(self, threadID, name, counter):\n",
    "      threading.Thread.__init__(self)\n",
    "      self.threadID = threadID\n",
    "      self.name = name\n",
    "      self.counter = counter\n",
    "   def run(self):\n",
    "      print (\"Starting \" + self.name)\n",
    "      print_time(self.name, 5, self.counter)\n",
    "      print (\"Exiting \" + self.name)\n",
    "\n",
    "def print_time(threadName, counter, delay):\n",
    "   while counter:\n",
    "      if exitFlag:\n",
    "         threadName.exit()\n",
    "      time.sleep(delay)\n",
    "      print (threadName + time.ctime(time.time()))\n",
    "      counter -= 1\n",
    "\n",
    "# Create new threads\n",
    "thread1 = myThread(1, \"Thread-1\", 1)\n",
    "thread2 = myThread(2, \"Thread-2\", 2)\n",
    "\n",
    "# Start new Threads\n",
    "thread1.start()\n",
    "thread2.start()\n",
    "\n",
    "print (\"Exiting Main Thread\")"
   ]
  },
  {
   "cell_type": "markdown",
   "metadata": {
    "colab_type": "text",
    "id": "TPmqlI0E1esJ"
   },
   "source": [
    "# multiprocessing"
   ]
  },
  {
   "cell_type": "markdown",
   "metadata": {
    "colab_type": "raw",
    "id": "vBlJqGbp1esK"
   },
   "source": [
    "Le module multiprocessing permet de tirer pleinement parti de plusieurs processeurs sur une machine donnée. L'API utilisée est similaire au module de threading classique.\n",
    "Pour créer un second processus, il faut instancier un objet Process avec une fonction cible et appeler start () \n",
    "pour le laisser commencer à fonctionner.\n",
    "Le guide de style multiprocessing Python recommande de placer le code multiprocesseur dans l'idiome __name__ == '__main__'. Cela est dû à la façon dont les processus sont créés sous Windows. Le but est d'éviter la boucle sans fin des générations de processus."
   ]
  },
  {
   "cell_type": "code",
   "execution_count": 3,
   "metadata": {
    "colab": {
     "base_uri": "https://localhost:8080/",
     "height": 367
    },
    "colab_type": "code",
    "id": "y_edKaSx1esL",
    "outputId": "2dc00591-7346-4c4e-edf3-9c8002f544ad"
   },
   "outputs": [],
   "source": [
    "import multiprocessing\n",
    "\n",
    "def worker(num):\n",
    "    print ('Worker:'+ str(num))\n",
    "    return\n",
    "\n",
    "if __name__ == '__main__':\n",
    "    jobs = []\n",
    "    for i in range(5):\n",
    "        p = multiprocessing.Process(target=worker, args=(i,))\n",
    "        jobs.append(p)\n",
    "        p.start()"
   ]
  },
  {
   "cell_type": "markdown",
   "metadata": {
    "colab_type": "raw",
    "id": "4EmqfkQR1esC"
   },
   "source": [
    "Par défaut, le programme principal ne se fermera pas tant que tous les enfants ne seront pas sortis. \n",
    "\n",
    "Un thread daemon s'arrêtera immédiatement lorsque le programme se fermera. \n",
    "Le thread daemon est un thread qui s'exécute en arrière-plan sans se soucier de l'arrêter.\n",
    "\n",
    "Un programme exécutant des threads qui ne sont pas des daemon attendra \n",
    "que ces threads se terminent avant de se terminer. Cependant, les threads qui sont des daemons \n",
    "sont simplement tués où qu'ils soient lorsque le programme se termine.\n",
    "\n",
    "Pour marquer un processus comme un daemon, il faut définir son attribut de démon avec une valeur booléenne. La valeur par défaut est que les processus ne sont pas des daemon, donc passer True active le mode daemon"
   ]
  },
  {
   "cell_type": "code",
   "execution_count": 10,
   "metadata": {
    "colab": {
     "base_uri": "https://localhost:8080/",
     "height": 367
    },
    "colab_type": "code",
    "id": "4uIt1wAp1esP",
    "outputId": "18fab752-cbd2-4869-bacc-51dc9f835052"
   },
   "outputs": [
    {
     "ename": "ModuleNotFoundError",
     "evalue": "ignored",
     "output_type": "error",
     "traceback": [
      "\u001b[0;31m---------------------------------------------------------------------------\u001b[0m",
      "\u001b[0;31mModuleNotFoundError\u001b[0m                       Traceback (most recent call last)",
      "\u001b[0;32m<ipython-input-10-b19dc5401f4e>\u001b[0m in \u001b[0;36m<module>\u001b[0;34m()\u001b[0m\n\u001b[1;32m      2\u001b[0m \u001b[0;32mimport\u001b[0m \u001b[0mtime\u001b[0m\u001b[0;34m\u001b[0m\u001b[0;34m\u001b[0m\u001b[0m\n\u001b[1;32m      3\u001b[0m \u001b[0;32mimport\u001b[0m \u001b[0msys\u001b[0m\u001b[0;34m\u001b[0m\u001b[0;34m\u001b[0m\u001b[0m\n\u001b[0;32m----> 4\u001b[0;31m \u001b[0;32mfrom\u001b[0m \u001b[0mdaemon\u001b[0m \u001b[0;32mimport\u001b[0m \u001b[0mDaemon\u001b[0m\u001b[0;34m\u001b[0m\u001b[0;34m\u001b[0m\u001b[0m\n\u001b[0m\u001b[1;32m      5\u001b[0m \u001b[0;32mimport\u001b[0m \u001b[0mnon_daemon\u001b[0m\u001b[0;34m\u001b[0m\u001b[0;34m\u001b[0m\u001b[0m\n\u001b[1;32m      6\u001b[0m \u001b[0;34m\u001b[0m\u001b[0m\n",
      "\u001b[0;31mModuleNotFoundError\u001b[0m: No module named 'daemon'",
      "",
      "\u001b[0;31m---------------------------------------------------------------------------\u001b[0;32m\nNOTE: If your import is failing due to a missing package, you can\nmanually install dependencies using either !pip or !apt.\n\nTo view examples of installing some common dependencies, click the\n\"Open Examples\" button below.\n\u001b[0;31m---------------------------------------------------------------------------\u001b[0m\n"
     ]
    }
   ],
   "source": [
    "import multiprocessing\n",
    "import time\n",
    "import sys\n",
    "import daemon\n",
    "import non_daemon\n",
    "\n",
    "if __name__ == '__main__':\n",
    "    d = multiprocessing.Process(name='daemon', target=daemon)\n",
    "    d.daemon = True\n",
    "\n",
    "    n = multiprocessing.Process(name='non-daemon', target=non_daemon)\n",
    "    n.daemon = False\n",
    "\n",
    "    d.start()\n",
    "    time.sleep(1)\n",
    "    n.start()"
   ]
  },
  {
   "cell_type": "markdown",
   "metadata": {
    "colab_type": "text",
    "id": "gG8y-xEx8ciu"
   },
   "source": [
    "# **asyncio**\n",
    "\n",
    "\n",
    "\n",
    "Le concept général de asyncio est qu’un seul objet Python, appelé la boucle d’événements, contrôle comment et quand chaque tâche est exécutée. La boucle d’événements est consciente de chaque tâche et sait dans quel état elle se trouve. En réalité, il existe de nombreux états dans lesquels les tâches pourraient être mais nous allons dans un souci de simplicité supposer qu'il n'y a que deux états.\n",
    "\n",
    "L’état prêt indique qu’une tâche a du travail à faire et est prête à être exécutée, et l’état d’attente signifie que la tâche attend que quelque chose externe se termine (une opération réseau par exemple).\n",
    "\n",
    "La boucle d’événements simplifiée gère deux listes de tâches, une pour chacun de ces états. Il sélectionne l’une des tâches prêtes et la redémarre. Cette tâche est sous contrôle complet jusqu’à ce qu’elle remette en coopération le contrôle à la boucle d’événements.\n",
    "\n",
    "Lorsque la tâche en cours d’exécution redonne le contrôle à la boucle d’événements, la boucle d’événements place cette tâche dans la liste prête ou en attente, puis passe en revue chacune des tâches de la liste d’attente pour voir si elle est devenue prête par une opération d’E/S achèvement. Et ainsi de suite jusqu'a la fin de l'execution du programme."
   ]
  },
  {
   "cell_type": "code",
   "execution_count": 23,
   "metadata": {
    "colab": {
     "base_uri": "https://localhost:8080/",
     "height": 425
    },
    "colab_type": "code",
    "id": "2XhpgipL1esU",
    "outputId": "757429be-7b5c-4088-aeab-888999f01649"
   },
   "outputs": [
    {
     "ename": "RuntimeError",
     "evalue": "ignored",
     "output_type": "error",
     "traceback": [
      "\u001b[0;31m---------------------------------------------------------------------------\u001b[0m",
      "\u001b[0;31mRuntimeError\u001b[0m                              Traceback (most recent call last)",
      "\u001b[0;32m<ipython-input-23-52cb83b45818>\u001b[0m in \u001b[0;36m<module>\u001b[0;34m()\u001b[0m\n\u001b[1;32m     16\u001b[0m     \u001b[0ms\u001b[0m \u001b[0;34m=\u001b[0m \u001b[0mtime\u001b[0m\u001b[0;34m.\u001b[0m\u001b[0mperf_counter\u001b[0m\u001b[0;34m(\u001b[0m\u001b[0;34m)\u001b[0m\u001b[0;34m\u001b[0m\u001b[0;34m\u001b[0m\u001b[0m\n\u001b[1;32m     17\u001b[0m     \u001b[0mloop\u001b[0m \u001b[0;34m=\u001b[0m \u001b[0masyncio\u001b[0m\u001b[0;34m.\u001b[0m\u001b[0mget_event_loop\u001b[0m\u001b[0;34m(\u001b[0m\u001b[0;34m)\u001b[0m\u001b[0;34m\u001b[0m\u001b[0;34m\u001b[0m\u001b[0m\n\u001b[0;32m---> 18\u001b[0;31m     \u001b[0mloop\u001b[0m\u001b[0;34m.\u001b[0m\u001b[0mrun_until_complete\u001b[0m\u001b[0;34m(\u001b[0m\u001b[0mmain\u001b[0m\u001b[0;34m(\u001b[0m\u001b[0;34m)\u001b[0m\u001b[0;34m)\u001b[0m\u001b[0;34m\u001b[0m\u001b[0;34m\u001b[0m\u001b[0m\n\u001b[0m\u001b[1;32m     19\u001b[0m     \u001b[0melapsed\u001b[0m \u001b[0;34m=\u001b[0m \u001b[0mtime\u001b[0m\u001b[0;34m.\u001b[0m\u001b[0mperf_counter\u001b[0m\u001b[0;34m(\u001b[0m\u001b[0;34m)\u001b[0m \u001b[0;34m-\u001b[0m \u001b[0ms\u001b[0m\u001b[0;34m\u001b[0m\u001b[0;34m\u001b[0m\u001b[0m\n\u001b[1;32m     20\u001b[0m     \u001b[0mprint\u001b[0m\u001b[0;34m(\u001b[0m\u001b[0;34mf\"{__file__} executed in {elapsed:0.2f} seconds.\"\u001b[0m\u001b[0;34m)\u001b[0m\u001b[0;34m\u001b[0m\u001b[0;34m\u001b[0m\u001b[0m\n",
      "\u001b[0;32m/usr/lib/python3.6/asyncio/base_events.py\u001b[0m in \u001b[0;36mrun_until_complete\u001b[0;34m(self, future)\u001b[0m\n\u001b[1;32m    469\u001b[0m         \u001b[0mfuture\u001b[0m\u001b[0;34m.\u001b[0m\u001b[0madd_done_callback\u001b[0m\u001b[0;34m(\u001b[0m\u001b[0m_run_until_complete_cb\u001b[0m\u001b[0;34m)\u001b[0m\u001b[0;34m\u001b[0m\u001b[0;34m\u001b[0m\u001b[0m\n\u001b[1;32m    470\u001b[0m         \u001b[0;32mtry\u001b[0m\u001b[0;34m:\u001b[0m\u001b[0;34m\u001b[0m\u001b[0;34m\u001b[0m\u001b[0m\n\u001b[0;32m--> 471\u001b[0;31m             \u001b[0mself\u001b[0m\u001b[0;34m.\u001b[0m\u001b[0mrun_forever\u001b[0m\u001b[0;34m(\u001b[0m\u001b[0;34m)\u001b[0m\u001b[0;34m\u001b[0m\u001b[0;34m\u001b[0m\u001b[0m\n\u001b[0m\u001b[1;32m    472\u001b[0m         \u001b[0;32mexcept\u001b[0m\u001b[0;34m:\u001b[0m\u001b[0;34m\u001b[0m\u001b[0;34m\u001b[0m\u001b[0m\n\u001b[1;32m    473\u001b[0m             \u001b[0;32mif\u001b[0m \u001b[0mnew_task\u001b[0m \u001b[0;32mand\u001b[0m \u001b[0mfuture\u001b[0m\u001b[0;34m.\u001b[0m\u001b[0mdone\u001b[0m\u001b[0;34m(\u001b[0m\u001b[0;34m)\u001b[0m \u001b[0;32mand\u001b[0m \u001b[0;32mnot\u001b[0m \u001b[0mfuture\u001b[0m\u001b[0;34m.\u001b[0m\u001b[0mcancelled\u001b[0m\u001b[0;34m(\u001b[0m\u001b[0;34m)\u001b[0m\u001b[0;34m:\u001b[0m\u001b[0;34m\u001b[0m\u001b[0;34m\u001b[0m\u001b[0m\n",
      "\u001b[0;32m/usr/lib/python3.6/asyncio/base_events.py\u001b[0m in \u001b[0;36mrun_forever\u001b[0;34m(self)\u001b[0m\n\u001b[1;32m    423\u001b[0m         \u001b[0mself\u001b[0m\u001b[0;34m.\u001b[0m\u001b[0m_check_closed\u001b[0m\u001b[0;34m(\u001b[0m\u001b[0;34m)\u001b[0m\u001b[0;34m\u001b[0m\u001b[0;34m\u001b[0m\u001b[0m\n\u001b[1;32m    424\u001b[0m         \u001b[0;32mif\u001b[0m \u001b[0mself\u001b[0m\u001b[0;34m.\u001b[0m\u001b[0mis_running\u001b[0m\u001b[0;34m(\u001b[0m\u001b[0;34m)\u001b[0m\u001b[0;34m:\u001b[0m\u001b[0;34m\u001b[0m\u001b[0;34m\u001b[0m\u001b[0m\n\u001b[0;32m--> 425\u001b[0;31m             \u001b[0;32mraise\u001b[0m \u001b[0mRuntimeError\u001b[0m\u001b[0;34m(\u001b[0m\u001b[0;34m'This event loop is already running'\u001b[0m\u001b[0;34m)\u001b[0m\u001b[0;34m\u001b[0m\u001b[0;34m\u001b[0m\u001b[0m\n\u001b[0m\u001b[1;32m    426\u001b[0m         \u001b[0;32mif\u001b[0m \u001b[0mevents\u001b[0m\u001b[0;34m.\u001b[0m\u001b[0m_get_running_loop\u001b[0m\u001b[0;34m(\u001b[0m\u001b[0;34m)\u001b[0m \u001b[0;32mis\u001b[0m \u001b[0;32mnot\u001b[0m \u001b[0;32mNone\u001b[0m\u001b[0;34m:\u001b[0m\u001b[0;34m\u001b[0m\u001b[0;34m\u001b[0m\u001b[0m\n\u001b[1;32m    427\u001b[0m             raise RuntimeError(\n",
      "\u001b[0;31mRuntimeError\u001b[0m: This event loop is already running"
     ]
    },
    {
     "name": "stdout",
     "output_type": "stream",
     "text": [
      "One\n",
      "One\n",
      "One\n"
     ]
    }
   ],
   "source": [
    "#!/usr/bin/env python3\n",
    "# countasync.py\n",
    "\n",
    "import asyncio\n",
    "\n",
    "async def count():\n",
    "    print(\"One\")\n",
    "    await asyncio.sleep(1)\n",
    "    print(\"Two\")\n",
    "\n",
    "async def main():\n",
    "    await asyncio.gather(count(), count(), count())\n",
    "\n",
    "if __name__ == \"__main__\":\n",
    "    import time\n",
    "    s = time.perf_counter()\n",
    "    loop = asyncio.get_event_loop()\n",
    "    loop.run_until_complete(main())\n",
    "    elapsed = time.perf_counter() - s\n",
    "    print(f\"{__file__} executed in {elapsed:0.2f} seconds.\")"
   ]
  }
 ],
 "metadata": {
  "colab": {
   "name": "threading.ipynb",
   "provenance": []
  },
  "kernelspec": {
   "display_name": "Python 3",
   "language": "python",
   "name": "python3"
  },
  "language_info": {
   "codemirror_mode": {
    "name": "ipython",
    "version": 3
   },
   "file_extension": ".py",
   "mimetype": "text/x-python",
   "name": "python",
   "nbconvert_exporter": "python",
   "pygments_lexer": "ipython3",
   "version": "3.8.3"
  }
 },
 "nbformat": 4,
 "nbformat_minor": 1
}
