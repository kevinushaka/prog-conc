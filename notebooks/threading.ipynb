{
 "cells": [
  {
   "cell_type": "code",
   "execution_count": null,
   "metadata": {},
   "outputs": [],
   "source": [
    "Référence(s) : \n",
    "    https://docs.python.org/fr/3/library/multiprocessing.html\n",
    "    https://docs.python.org/3/library/_thread.html\n",
    "    https://realpython.com/python-gil/\n",
    "    https://www.tutorialspoint.com/python3/python_multithreading.htm"
   ]
  },
  {
   "cell_type": "raw",
   "metadata": {},
   "source": [
    "Il existe plusieures modules qui prennent en charge l'utilisation des threads en Python: _thread, \n",
    "multiprocessing, threading."
   ]
  },
  {
   "cell_type": "raw",
   "metadata": {},
   "source": [
    "Le module _thread traite un thread comme une fonction, tandis que les modules multiprocessing et threading sont \n",
    "implémentés de manière orientée objet, c'est-à-dire que chaque processus/thread correspond à un objet."
   ]
  },
  {
   "cell_type": "raw",
   "metadata": {},
   "source": [
    "Quand on fait du multi-threading en python, 2 threads ne peuvent pas exécuter du code python en même temps à cause du Global Interpreter Lock. L'exécution simultanée de plusieurs tâches nécessite une implémentation non standard de Python\n",
    "ou l'utilisation du multiprocessing qui entraîne une surcharge supplémentaire.\n",
    "\n",
    "Quand on fait du multi-processing, c'est plus lourd, car il faut créer des processus, et la communication entre process est plus difficile car ils ne partagent pas la mémoire."
   ]
  },
  {
   "cell_type": "raw",
   "metadata": {},
   "source": [
    "#Pourquoi GIL?\n",
    "Python utilise le comptage de références pour la gestion de la mémoire. \n",
    "Cela signifie que les objets créés en Python ont une variable de comptage de références qui assure \n",
    "le suivi du nombre de références pointant vers l'objet. \n",
    "Lorsque ce décompte atteint zéro, la mémoire occupée par l'objet est libérée.\n",
    "\n",
    "Le problème est que cette variable de comptage de référence nécessite une protection contre les \n",
    "conditions de concurrence où deux threads augmentent ou diminuent simultanément sa valeur. \n",
    "Cela peut provoquer une fuite de mémoire qui n'est jamais libérée ouune libération incorrecte de la mémoire \n",
    "alors qu'une référence à cet objet existe toujours. "
   ]
  },
  {
   "cell_type": "markdown",
   "metadata": {},
   "source": [
    "# _thread"
   ]
  },
  {
   "cell_type": "raw",
   "metadata": {},
   "source": [
    "Un thread a un début, une séquence d'exécution et une conclusion. \n",
    "Il a un pointeur d'instruction qui garde une trace de où dans son contexte est-il en cours d'exécution.\n",
    "\n",
    "    Il peut être interrompu.\n",
    "\n",
    "    Il peut être temporairement mis en attente \n",
    "    pendant que d'autres threads sont en cours d'exécution - c'est ce qu'on appelle le rendement."
   ]
  },
  {
   "cell_type": "raw",
   "metadata": {},
   "source": [
    "#_thread\n",
    "Il est possible d'exécuter des fonctions dans un thread séparé avec le module Thread. \n",
    "\n",
    "thread.start_new_thread (fonction, args [, kwargs])\n",
    "\n",
    "Cette méthode démarre un nouveau thread et renvoie son identifiant. \n",
    "Le thread exécute la fonction avec l'argument list args. L'argument kwargs facultatif spécifie un dictionnaire \n",
    "d'arguments de mot-clé. Lorsque la fonction revient, le thread se ferme silencieusement. Lorsque la fonction se termine \n",
    "avec une exception non gérée, une trace de pile est imprimée, puis le thread se termine."
   ]
  },
  {
   "cell_type": "code",
   "execution_count": 1,
   "metadata": {},
   "outputs": [
    {
     "name": "stdout",
     "output_type": "stream",
     "text": [
      "Done.Thread 99: starting.\n",
      "Thread 1733: starting.\n",
      "Thread 999: starting.\n",
      "\n",
      "Thread 99: finishing.\n",
      "Thread 999: finishing.Thread 1733: finishing.\n",
      "\n"
     ]
    }
   ],
   "source": [
    "from _thread import start_new_thread\n",
    "import time\n",
    "\n",
    "def thread_function(name):\n",
    "    print(\"Thread \" +str(name)+ \": starting.\")\n",
    "    time.sleep(2)\n",
    "    print(\"Thread \" +str(name)+\": finishing.\")\n",
    "\n",
    "start_new_thread(thread_function,(99,))\n",
    "start_new_thread(thread_function,(999,))\n",
    "start_new_thread(thread_function,(1733,))\n",
    "\n",
    "print(\"Done.\")"
   ]
  },
  {
   "cell_type": "raw",
   "metadata": {},
   "source": [
    "Par défaut, le programme principal ne se fermera pas tant que tous les enfants ne seront pas sortis. \n",
    "\n",
    "Un thread daemon s'arrêtera immédiatement lorsque le programme se fermera. \n",
    "Le thread daemon est un thread qui s'exécute en arrière-plan sans se soucier de l'arrêter.\n",
    "\n",
    "Un programme exécutant des threads qui ne sont pas des daemon attendra \n",
    "que ces threads se terminent avant de se terminer. Cependant, les threads qui sont des daemons \n",
    "sont simplement tués où qu'ils soient lorsque le programme se termine."
   ]
  },
  {
   "cell_type": "markdown",
   "metadata": {},
   "source": [
    "# threading"
   ]
  },
  {
   "cell_type": "raw",
   "metadata": {},
   "source": [
    "Le module threading fournit une API de fils d'exécution de haut niveau, \n",
    "plus facile à utiliser et construite à partir de ce module."
   ]
  },
  {
   "cell_type": "raw",
   "metadata": {},
   "source": [
    "Pour implémenter un nouveau thread à l'aide du module de threading,on doit-\n",
    "\n",
    "    Définir une nouvelle sous-classe de la classe Thread.\n",
    "\n",
    "    Override la méthode __init __ (self [, args]) pour ajouter des arguments supplémentaires.\n",
    "\n",
    "    Override la méthode run (self [, args]) pour implémenter ce que le thread doit faire au démarrage."
   ]
  },
  {
   "cell_type": "code",
   "execution_count": 5,
   "metadata": {},
   "outputs": [
    {
     "name": "stdout",
     "output_type": "stream",
     "text": [
      "Starting Thread-1Starting Thread-2Exiting Main Thread\n",
      "\n",
      "\n",
      "Thread-1Thu Sep 17 17:47:46 2020\n",
      "Thread-2Thu Sep 17 17:47:47 2020\n",
      "Thread-1Thu Sep 17 17:47:47 2020\n",
      "Thread-1Thu Sep 17 17:47:48 2020\n",
      "Thread-2Thu Sep 17 17:47:49 2020\n",
      "Thread-1Thu Sep 17 17:47:49 2020\n",
      "Thread-1Thu Sep 17 17:47:50 2020\n",
      "Exiting Thread-1\n",
      "Thread-2Thu Sep 17 17:47:51 2020\n",
      "Thread-2Thu Sep 17 17:47:53 2020\n",
      "Thread-2Thu Sep 17 17:47:55 2020\n",
      "Exiting Thread-2\n"
     ]
    }
   ],
   "source": [
    "import threading\n",
    "import time\n",
    "\n",
    "exitFlag = 0\n",
    "\n",
    "class myThread (threading.Thread):\n",
    "   def __init__(self, threadID, name, counter):\n",
    "      threading.Thread.__init__(self)\n",
    "      self.threadID = threadID\n",
    "      self.name = name\n",
    "      self.counter = counter\n",
    "   def run(self):\n",
    "      print (\"Starting \" + self.name)\n",
    "      print_time(self.name, 5, self.counter)\n",
    "      print (\"Exiting \" + self.name)\n",
    "\n",
    "def print_time(threadName, counter, delay):\n",
    "   while counter:\n",
    "      if exitFlag:\n",
    "         threadName.exit()\n",
    "      time.sleep(delay)\n",
    "      print (threadName + time.ctime(time.time()))\n",
    "      counter -= 1\n",
    "\n",
    "# Create new threads\n",
    "thread1 = myThread(1, \"Thread-1\", 1)\n",
    "thread2 = myThread(2, \"Thread-2\", 2)\n",
    "\n",
    "# Start new Threads\n",
    "thread1.start()\n",
    "thread2.start()\n",
    "\n",
    "print (\"Exiting Main Thread\")"
   ]
  },
  {
   "cell_type": "markdown",
   "metadata": {},
   "source": [
    "# multiprocessing"
   ]
  },
  {
   "cell_type": "raw",
   "metadata": {},
   "source": [
    "Pour créer un second processus, il faut instancier un objet Process avec une fonction cible et appeler start () \n",
    "pour le laisser commencer à fonctionner."
   ]
  },
  {
   "cell_type": "raw",
   "metadata": {},
   "source": [
    "multiprocessing peut marcher à partir d'un bloc-notes Jupyter sous Windows en enregistrant sa fonction dans un fichier \n",
    ".py distinct et en incluant ce fichier dans le bloc-notes. Le sortie est sur la console."
   ]
  },
  {
   "cell_type": "code",
   "execution_count": 17,
   "metadata": {},
   "outputs": [],
   "source": [
    "import multiprocessing\n",
    "\n",
    "import worker\n",
    "\n",
    "if __name__ == '__main__':\n",
    "    jobs = []\n",
    "    for i in range(5):\n",
    "        p = multiprocessing.Process(target=worker.worker, args=(i,))\n",
    "        jobs.append(p)\n",
    "        p.start()"
   ]
  },
  {
   "cell_type": "raw",
   "metadata": {},
   "source": [
    "Pour marquer un processus comme un daemon, il faut définir son attribut de démon avec une valeur booléenne. \n",
    "La valeur par défaut est que les processus ne sont pas des daemon, donc passer True active le mode daemon."
   ]
  },
  {
   "cell_type": "code",
   "execution_count": 11,
   "metadata": {},
   "outputs": [],
   "source": [
    "import multiprocessing\n",
    "import time\n",
    "import sys\n",
    "import daemon\n",
    "import non_daemon\n",
    "\n",
    "def daemon():\n",
    "    p = multiprocessing.current_process()\n",
    "    print ('Starting:', p.name, p.pid)\n",
    "    sys.stdout.flush()\n",
    "    time.sleep(2)\n",
    "    print ('Exiting :', p.name, p.pid)\n",
    "    sys.stdout.flush()\n",
    "\n",
    "def non_daemon():\n",
    "    p = multiprocessing.current_process()\n",
    "    print ('Starting:', p.name, p.pid)\n",
    "    sys.stdout.flush()\n",
    "    print ('Exiting :', p.name, p.pid)\n",
    "    sys.stdout.flush()\n",
    "\n",
    "\n",
    "if __name__ == '__main__':\n",
    "    d = multiprocessing.Process(target=daemon)\n",
    "    d.daemon = True\n",
    "\n",
    "    n = multiprocessing.Process(target=non_daemon)\n",
    "    n.daemon = False\n",
    "\n",
    "    d.start()\n",
    "    time.sleep(1)\n",
    "    n.start()"
   ]
  },
  {
   "cell_type": "code",
   "execution_count": null,
   "metadata": {},
   "outputs": [],
   "source": []
  }
 ],
 "metadata": {
  "kernelspec": {
   "display_name": "Python 3",
   "language": "python",
   "name": "python3"
  },
  "language_info": {
   "codemirror_mode": {
    "name": "ipython",
    "version": 3
   },
   "file_extension": ".py",
   "mimetype": "text/x-python",
   "name": "python",
   "nbconvert_exporter": "python",
   "pygments_lexer": "ipython3",
   "version": "3.8.3"
  }
 },
 "nbformat": 4,
 "nbformat_minor": 4
}
