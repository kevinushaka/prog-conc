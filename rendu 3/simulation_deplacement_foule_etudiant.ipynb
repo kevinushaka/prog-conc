{
 "cells": [
  {
   "cell_type": "markdown",
   "metadata": {},
   "source": [
    "# Simulation de déplacement d'une foule\n",
    "\n",
    "USHAKA KUBWAWE Kévin\n",
    "ADANLEHOUSSI Denis"
   ]
  },
  {
   "cell_type": "markdown",
   "metadata": {
    "ExecuteTime": {
     "end_time": "2020-09-09T14:05:18.487484Z",
     "start_time": "2020-09-09T14:05:18.483571Z"
    }
   },
   "source": [
    "## Introduction\n",
    "<span style=\"color:red\">Mettre ici votre description du projet.</span>"
   ]
  },
  {
   "cell_type": "markdown",
   "metadata": {
    "toc": true
   },
   "source": [
    "<h1>Table of Contents<span class=\"tocSkip\"></span></h1>\n",
    "<div class=\"toc\"><ul class=\"toc-item\"><li><span><a href=\"#Introduction\" data-toc-modified-id=\"Introduction-1\"><span class=\"toc-item-num\">1&nbsp;&nbsp;</span>Introduction</a></span></li><li><span><a href=\"#Bibliothèque-Python-pour-le-multi-flots-d'exécution.\" data-toc-modified-id=\"Bibliothèque-Python-pour-le-multi-flots-d'exécution.-2\"><span class=\"toc-item-num\">2&nbsp;&nbsp;</span>Bibliothèque Python pour le multi-flots d'exécution.</a></span></li><li><span><a href=\"#Les-mécanismes-de-synchronisation-en-Python\" data-toc-modified-id=\"Les-mécanismes-de-synchronisation-en-Python-3\"><span class=\"toc-item-num\">3&nbsp;&nbsp;</span>Les mécanismes de synchronisation en Python</a></span></li><li><span><a href=\"#Définitions-de-quelques-procédures-pour-initialiser-une-grille-à-partir-d'un-fichier-de-configuration\" data-toc-modified-id=\"Définitions-de-quelques-procédures-pour-initialiser-une-grille-à-partir-d'un-fichier-de-configuration-4\"><span class=\"toc-item-num\">4&nbsp;&nbsp;</span>Définitions de quelques procédures pour initialiser une grille à partir d'un fichier de configuration</a></span><ul class=\"toc-item\"><li><span><a href=\"#Définition-de-la-grille\" data-toc-modified-id=\"Définition-de-la-grille-4.1\"><span class=\"toc-item-num\">4.1&nbsp;&nbsp;</span>Définition de la grille</a></span></li><li><span><a href=\"#Définition-d'un-obstacle\" data-toc-modified-id=\"Définition-d'un-obstacle-4.2\"><span class=\"toc-item-num\">4.2&nbsp;&nbsp;</span>Définition d'un obstacle</a></span></li><li><span><a href=\"#Définition-d'une-personne\" data-toc-modified-id=\"Définition-d'une-personne-4.3\"><span class=\"toc-item-num\">4.3&nbsp;&nbsp;</span>Définition d'une personne</a></span></li><li><span><a href=\"#Construction-d'une-image-pour-OpenCV\" data-toc-modified-id=\"Construction-d'une-image-pour-OpenCV-4.4\"><span class=\"toc-item-num\">4.4&nbsp;&nbsp;</span>Construction d'une image pour OpenCV</a></span></li></ul></li><li><span><a href=\"#Solution-itérative\" data-toc-modified-id=\"Solution-itérative-5\"><span class=\"toc-item-num\">5&nbsp;&nbsp;</span>Solution itérative</a></span><ul class=\"toc-item\"><li><span><a href=\"#Avec-trace-mais-sans-visualisation\" data-toc-modified-id=\"Avec-trace-mais-sans-visualisation-5.1\"><span class=\"toc-item-num\">5.1&nbsp;&nbsp;</span>Avec trace mais sans visualisation</a></span></li><li><span><a href=\"#Visualisation-de-chacune-des-itérations-avec-Matplotlib\" data-toc-modified-id=\"Visualisation-de-chacune-des-itérations-avec-Matplotlib-5.2\"><span class=\"toc-item-num\">5.2&nbsp;&nbsp;</span>Visualisation de chacune des itérations avec Matplotlib</a></span></li><li><span><a href=\"#Visualisation-de-chacune-des-itérations-avec-OpenCV\" data-toc-modified-id=\"Visualisation-de-chacune-des-itérations-avec-OpenCV-5.3\"><span class=\"toc-item-num\">5.3&nbsp;&nbsp;</span>Visualisation de chacune des itérations avec OpenCV</a></span></li><li><span><a href=\"#Sans-trace-mais-avec-visualisation\" data-toc-modified-id=\"Sans-trace-mais-avec-visualisation-5.4\"><span class=\"toc-item-num\">5.4&nbsp;&nbsp;</span>Sans trace mais avec visualisation</a></span></li><li><span><a href=\"#Utilisation-des-procédures-précédentes-pour-créer-une-nouvelle-grille-qui-sera-sauvegardée-dans-un-fichier\" data-toc-modified-id=\"Utilisation-des-procédures-précédentes-pour-créer-une-nouvelle-grille-qui-sera-sauvegardée-dans-un-fichier-5.5\"><span class=\"toc-item-num\">5.5&nbsp;&nbsp;</span>Utilisation des procédures précédentes pour créer une nouvelle grille qui sera sauvegardée dans un fichier</a></span></li></ul></li><li><span><a href=\"#Votre-travail\" data-toc-modified-id=\"Votre-travail-6\"><span class=\"toc-item-num\">6&nbsp;&nbsp;</span><span style=\"color: red\">Votre travail</span></a></span></li><li><span><a href=\"#Scénario-1\" data-toc-modified-id=\"Scénario-1-7\"><span class=\"toc-item-num\">7&nbsp;&nbsp;</span>Scénario 1</a></span></li><li><span><a href=\"#Scénario-2\" data-toc-modified-id=\"Scénario-2-8\"><span class=\"toc-item-num\">8&nbsp;&nbsp;</span>Scénario 2</a></span></li><li><span><a href=\"#Scénario-3\" data-toc-modified-id=\"Scénario-3-9\"><span class=\"toc-item-num\">9&nbsp;&nbsp;</span>Scénario 3</a></span></li><li><span><a href=\"#Comparaison-des-trois-approches\" data-toc-modified-id=\"Comparaison-des-trois-approches-10\"><span class=\"toc-item-num\">10&nbsp;&nbsp;</span>Comparaison des trois approches</a></span></li><li><span><a href=\"#Export-du-notebook-dans-un-fichier-python\" data-toc-modified-id=\"Export-du-notebook-dans-un-fichier-python-11\"><span class=\"toc-item-num\">11&nbsp;&nbsp;</span>Export du notebook dans un fichier python</a></span></li></ul></div>"
   ]
  },
  {
   "cell_type": "markdown",
   "metadata": {},
   "source": [
    "## Bibliothèque Python pour le multi-flots d'exécution.\n",
    "\n",
    "<span style=\"color:red\">Dans cette section vous présenterez votre étude comparative, avec exemple, des bibliothèques python permettant d'exécuter plusieurs flots en parallèle</span>\n",
    "\n",
    "<span style=\"color:red\">Vous préciserez de manière justifiée à la fin de cette section la bibliothèque choisie. La cellule suivante, exécutable comprendra l'import de la bibliothèque.</span>"
   ]
  },
  {
   "cell_type": "code",
   "execution_count": 1,
   "metadata": {},
   "outputs": [],
   "source": [
    "import threading\n",
    "import multiprocessing\n",
    "import asyncio"
   ]
  },
  {
   "cell_type": "markdown",
   "metadata": {},
   "source": [
    "Il existe plusieures modules qui prennent en charge l'utilisation des threads en Python: _thread, multiprocessing, threading, asyncio.\n",
    "\n",
    "Le module _thread traite un thread comme une fonction, tandis que les modules multiprocessing, threading et asyncio sont implémentés de manière orientée objet, c'est-à-dire que chaque processus/thread correspond à un objet.\n",
    "\n",
    "Quand on fait du multi-threading en python, 2 threads ne peuvent pas exécuter du code python en même temps à cause du Global Interpreter Lock. L'exécution simultanée de plusieurs tâches nécessite une implémentation non standard de Python ou l'utilisation du multiprocessing qui entraîne une surcharge supplémentaire.\n",
    "\n",
    "Quand on fait du multi-processing, c'est plus lourd, car il faut créer des processus, et la communication entre process est plus difficile car ils ne partagent pas la mémoire.\n",
    "\n",
    "\n",
    "#Pourquoi GIL? Python utilise le comptage de références pour la gestion de la mémoire. Cela signifie que les objets créés en Python ont une variable de comptage de références qui assure le suivi du nombre de références pointant vers l'objet. Lorsque ce décompte atteint zéro, la mémoire occupée par l'objet est libérée.\n",
    "\n",
    "Le problème est que cette variable de comptage de référence nécessite une protection contre les conditions de concurrence où deux threads augmentent ou diminuent simultanément sa valeur. Cela peut provoquer une fuite de mémoire qui n'est jamais libérée ouune libération incorrecte de la mémoire alors qu'une référence à cet objet existe toujours.\n"
   ]
  },
  {
   "cell_type": "markdown",
   "metadata": {},
   "source": [
    "# _thread"
   ]
  },
  {
   "cell_type": "markdown",
   "metadata": {},
   "source": [
    "Il est possible d'exécuter des fonctions dans un thread séparé avec le module Thread.\n",
    "\n",
    "thread.start_new_thread (fonction, args [, kwargs])\n",
    "\n",
    "Cette méthode démarre un nouveau thread et renvoie son identifiant. Le thread exécute la fonction avec l'argument list args. L'argument kwargs facultatif spécifie un dictionnaire d'arguments de mot-clé. Lorsque la fonction revient, le thread se ferme silencieusement. Lorsque la fonction se termine avec une exception non gérée, une trace de pile est imprimée, puis le thread se termine.\n"
   ]
  },
  {
   "cell_type": "code",
   "execution_count": 3,
   "metadata": {},
   "outputs": [
    {
     "ename": "SyntaxError",
     "evalue": "invalid syntax (<ipython-input-3-661062d81d86>, line 9)",
     "output_type": "error",
     "traceback": [
      "\u001b[0;36m  File \u001b[0;32m\"<ipython-input-3-661062d81d86>\"\u001b[0;36m, line \u001b[0;32m9\u001b[0m\n\u001b[0;31m    _thread.\u001b[0m\n\u001b[0m            ^\u001b[0m\n\u001b[0;31mSyntaxError\u001b[0m\u001b[0;31m:\u001b[0m invalid syntax\n"
     ]
    }
   ],
   "source": [
    "from _thread import start_new_thread\n",
    "import time\n",
    "\n",
    "def thread_function(name):\n",
    "    print(\"Thread \" +str(name)+ \": starting.\")\n",
    "    time.sleep(2)\n",
    "    print(\"Thread \" +str(name)+\": finishing.\")\n",
    "\n",
    "_thread.\n",
    "start_new_thread(thread_function,(99,))\n",
    "start_new_thread(thread_function,(999,))\n",
    "start_new_thread(thread_function,(1733,))\n",
    "\n",
    "print(\"Done.\")"
   ]
  },
  {
   "cell_type": "markdown",
   "metadata": {},
   "source": [
    "# threading"
   ]
  },
  {
   "cell_type": "markdown",
   "metadata": {},
   "source": [
    "Le module threading fournit une API de fils d'exécution de haut niveau, plus facile à utiliser et construite à partir de ce module.\n",
    "\n",
    "Pour implémenter un nouveau thread à l'aide du module de threading,on doit-\n",
    "\n",
    "Définir une nouvelle sous-classe de la classe Thread.\n",
    "\n",
    "Override la méthode __init __ (self [, args]) pour ajouter des arguments supplémentaires.\n",
    "\n",
    "Override la méthode run (self [, args]) pour implémenter ce que le thread doit faire au démarrage."
   ]
  },
  {
   "cell_type": "code",
   "execution_count": 4,
   "metadata": {},
   "outputs": [
    {
     "name": "stdout",
     "output_type": "stream",
     "text": [
      "Starting Thread-1\n",
      "Starting Thread-2Exiting Main Thread\n",
      "\n",
      "Thread-1Sat Oct 31 14:01:07 2020\n",
      "Thread-1Sat Oct 31 14:01:08 2020\n",
      "Thread-2Sat Oct 31 14:01:08 2020\n",
      "Thread-1Sat Oct 31 14:01:09 2020\n"
     ]
    }
   ],
   "source": [
    "import time\n",
    "\n",
    "exitFlag = 0\n",
    "\n",
    "class myThread (threading.Thread):\n",
    "   def __init__(self, threadID, name, counter):\n",
    "      threading.Thread.__init__(self)\n",
    "      self.threadID = threadID\n",
    "      self.name = name\n",
    "      self.counter = counter\n",
    "   def run(self):\n",
    "      print (\"Starting \" + self.name)\n",
    "      print_time(self.name, 5, self.counter)\n",
    "      print (\"Exiting \" + self.name)\n",
    "\n",
    "def print_time(threadName, counter, delay):\n",
    "   while counter:\n",
    "      if exitFlag:\n",
    "         threadName.exit()\n",
    "      time.sleep(delay)\n",
    "      print (threadName + time.ctime(time.time()))\n",
    "      counter -= 1\n",
    "\n",
    "# Create new threads\n",
    "thread1 = myThread(1, \"Thread-1\", 1)\n",
    "thread2 = myThread(2, \"Thread-2\", 2)\n",
    "\n",
    "# Start new Threads\n",
    "thread1.start()\n",
    "thread2.start()\n",
    "\n",
    "print (\"Exiting Main Thread\")"
   ]
  },
  {
   "cell_type": "markdown",
   "metadata": {},
   "source": [
    "# multiprocessing"
   ]
  },
  {
   "cell_type": "markdown",
   "metadata": {},
   "source": [
    "Le module multiprocessing permet de tirer pleinement parti de plusieurs processeurs sur une machine donnée. L'API utilisée est similaire au module de threading classique. Pour créer un second processus, il faut instancier un objet Process avec une fonction cible et appeler start () pour le laisser commencer à fonctionner. Le guide de style multiprocessing Python recommande de placer le code multiprocesseur dans l'idiome name == 'main'. Cela est dû à la façon dont les processus sont créés sous Windows. Le but est d'éviter la boucle sans fin des générations de processus."
   ]
  },
  {
   "cell_type": "code",
   "execution_count": 5,
   "metadata": {},
   "outputs": [
    {
     "name": "stdout",
     "output_type": "stream",
     "text": [
      "Worker:1Worker:2\n",
      "Worker:0\n",
      "\n",
      "Worker:3Worker:4\n",
      "\n",
      "Thread-1Sat Oct 31 14:01:10 2020\n",
      "Thread-2Sat Oct 31 14:01:10 2020\n",
      "Thread-1Sat Oct 31 14:01:11 2020\n",
      "Exiting Thread-1\n",
      "Thread-2Sat Oct 31 14:01:12 2020\n"
     ]
    }
   ],
   "source": [
    "def worker(num):\n",
    "    print ('Worker:'+ str(num))\n",
    "    return\n",
    "\n",
    "if __name__ == '__main__':\n",
    "    jobs = []\n",
    "    for i in range(5):\n",
    "        p = multiprocessing.Process(target=worker, args=(i,))\n",
    "        jobs.append(p)\n",
    "        p.start()"
   ]
  },
  {
   "cell_type": "markdown",
   "metadata": {},
   "source": [
    "Par défaut, le programme principal ne se fermera pas tant que tous les enfants ne seront pas sortis.\n",
    "\n",
    "Un thread daemon s'arrêtera immédiatement lorsque le programme se fermera. Le thread daemon est un thread qui s'exécute en arrière-plan sans se soucier de l'arrêter.\n",
    "\n",
    "Un programme exécutant des threads qui ne sont pas des daemon attendra que ces threads se terminent avant de se terminer. Cependant, les threads qui sont des daemons sont simplement tués où qu'ils soient lorsque le programme se termine.\n",
    "\n",
    "Pour marquer un processus comme un daemon, il faut définir son attribut de démon avec une valeur booléenne. La valeur par défaut est que les processus ne sont pas des daemon, donc passer True active le mode daemon."
   ]
  },
  {
   "cell_type": "code",
   "execution_count": 6,
   "metadata": {},
   "outputs": [
    {
     "ename": "ModuleNotFoundError",
     "evalue": "No module named 'daemon'",
     "output_type": "error",
     "traceback": [
      "\u001b[0;31m---------------------------------------------------------------------------\u001b[0m",
      "\u001b[0;31mModuleNotFoundError\u001b[0m                       Traceback (most recent call last)",
      "\u001b[0;32m<ipython-input-6-e121a8dcefc3>\u001b[0m in \u001b[0;36m<module>\u001b[0;34m\u001b[0m\n\u001b[1;32m      1\u001b[0m \u001b[0;32mimport\u001b[0m \u001b[0mtime\u001b[0m\u001b[0;34m\u001b[0m\u001b[0;34m\u001b[0m\u001b[0m\n\u001b[1;32m      2\u001b[0m \u001b[0;32mimport\u001b[0m \u001b[0msys\u001b[0m\u001b[0;34m\u001b[0m\u001b[0;34m\u001b[0m\u001b[0m\n\u001b[0;32m----> 3\u001b[0;31m \u001b[0;32mimport\u001b[0m \u001b[0mdaemon\u001b[0m\u001b[0;34m\u001b[0m\u001b[0;34m\u001b[0m\u001b[0m\n\u001b[0m\u001b[1;32m      4\u001b[0m \u001b[0;32mimport\u001b[0m \u001b[0mnon_daemon\u001b[0m\u001b[0;34m\u001b[0m\u001b[0;34m\u001b[0m\u001b[0m\n\u001b[1;32m      5\u001b[0m \u001b[0;34m\u001b[0m\u001b[0m\n",
      "\u001b[0;31mModuleNotFoundError\u001b[0m: No module named 'daemon'"
     ]
    },
    {
     "name": "stdout",
     "output_type": "stream",
     "text": [
      "Thread-2Sat Oct 31 14:01:14 2020\n",
      "Thread-2Sat Oct 31 14:01:16 2020\n",
      "Exiting Thread-2\n"
     ]
    }
   ],
   "source": [
    "import time\n",
    "import sys\n",
    "import daemon\n",
    "import non_daemon\n",
    "\n",
    "if __name__ == '__main__':\n",
    "    d = multiprocessing.Process(name='daemon', target=daemon)\n",
    "    d.daemon = True\n",
    "\n",
    "    n = multiprocessing.Process(name='non-daemon', target=non_daemon)\n",
    "    n.daemon = False\n",
    "\n",
    "    d.start()\n",
    "    time.sleep(1)\n",
    "    n.start()"
   ]
  },
  {
   "cell_type": "markdown",
   "metadata": {},
   "source": [
    "Les processus ont leur propre espace virtuel, ils ne partagent pas leur mémoire. C'est pourquoi le module multiprocessing gère deux types de canaux de communication entre les processus : Queue , Tubes."
   ]
  },
  {
   "cell_type": "code",
   "execution_count": 7,
   "metadata": {},
   "outputs": [
    {
     "name": "stdout",
     "output_type": "stream",
     "text": [
      "[42, None, 'hello']\n"
     ]
    }
   ],
   "source": [
    "from multiprocessing import Process, Queue\n",
    "\n",
    "def f(q):\n",
    "    q.put([42, None, 'hello'])\n",
    "\n",
    "if __name__ == '__main__':\n",
    "    q = Queue()\n",
    "    p = Process(target=f, args=(q,))\n",
    "    p.start()\n",
    "    print(q.get())    # prints \"[42, None, 'hello']\"\n",
    "    p.join()"
   ]
  },
  {
   "cell_type": "markdown",
   "metadata": {},
   "source": [
    "Pour utiliser un tube on instancie un objet Pipe. Les deux objets de connexion renvoyés par Pipe() représentent les deux bouts d'un tube. Chaque objet de connexion possède des méthodes send() et recv()."
   ]
  },
  {
   "cell_type": "code",
   "execution_count": 8,
   "metadata": {},
   "outputs": [
    {
     "name": "stdout",
     "output_type": "stream",
     "text": [
      "[42, None, 'hello']\n"
     ]
    }
   ],
   "source": [
    "from multiprocessing import Process, Pipe\n",
    "\n",
    "def f(conn):\n",
    "    conn.send([42, None, 'hello'])\n",
    "    conn.close()\n",
    "\n",
    "if __name__ == '__main__':\n",
    "    parent_conn, child_conn = Pipe()\n",
    "    p = Process(target=f, args=(child_conn,))\n",
    "    p.start()\n",
    "    print(parent_conn.recv())   # prints \"[42, None, 'hello']\"\n",
    "    p.join()"
   ]
  },
  {
   "cell_type": "markdown",
   "metadata": {},
   "source": [
    "Il est également possible de créer des objets partagés utilisant une mémoire partagée pouvant être héritée par les processus enfants avec multiprocessing.Value(typecode_or_type, *args, lock=True).\n",
    "\n",
    "Les opérations telles que += qui impliquent une lecture et une écriture ne sont pas atomique. Ainsi si on souhaite par exemple réaliser une incrémentation atomique sur une valeur partagée, on ne peut pas simplement faire."
   ]
  },
  {
   "cell_type": "code",
   "execution_count": 9,
   "metadata": {},
   "outputs": [
    {
     "name": "stdout",
     "output_type": "stream",
     "text": [
      "Final balance = 2\n"
     ]
    }
   ],
   "source": [
    "# function to deposit to account \n",
    "def increment(variable):     \n",
    "    variable.value = variable.value + 1\n",
    "\n",
    "if __name__ == \"__main__\": \n",
    "    counter = multiprocessing.Value('i', 0)\n",
    "\n",
    "    p1 = multiprocessing.Process(target=increment, args=(counter,)) \n",
    "    p2 = multiprocessing.Process(target=increment, args=(counter,)) \n",
    "  \n",
    "    p1.start() \n",
    "    p2.start() \n",
    "\n",
    "    p1.join();\n",
    "    p2.join();\n",
    "\n",
    "    print(\"Final balance = \"+str(counter.value)) "
   ]
  },
  {
   "cell_type": "markdown",
   "metadata": {},
   "source": [
    "# **asyncio**\n",
    "\n",
    "Le concept général de asyncio est qu’un seul objet Python, appelé la boucle d’événements, contrôle comment et quand chaque tâche est exécutée. La boucle d’événements est consciente de chaque tâche et sait dans quel état elle se trouve. En réalité, il existe de nombreux états dans lesquels les tâches pourraient être mais nous allons dans un souci de simplicité supposer qu'il n'y a que deux états.\n",
    "\n",
    "L’état prêt indique qu’une tâche a du travail à faire et est prête à être exécutée, et l’état d’attente signifie que la tâche attend que quelque chose externe se termine (une opération réseau par exemple).\n",
    "\n",
    "La boucle d’événements simplifiée gère deux listes de tâches, une pour chacun de ces états. Il sélectionne l’une des tâches prêtes et la redémarre. Cette tâche est sous contrôle complet jusqu’à ce qu’elle remette en coopération le contrôle à la boucle d’événements.\n",
    "\n",
    "Lorsque la tâche en cours d’exécution redonne le contrôle à la boucle d’événements, la boucle d’événements place cette tâche dans la liste prête ou en attente, puis passe en revue chacune des tâches de la liste d’attente pour voir si elle est devenue prête par une opération d’E/S achèvement. Et ainsi de suite jusqu'a la fin de l'execution du programme."
   ]
  },
  {
   "cell_type": "code",
   "execution_count": 10,
   "metadata": {},
   "outputs": [
    {
     "ename": "RuntimeError",
     "evalue": "This event loop is already running",
     "output_type": "error",
     "traceback": [
      "\u001b[0;31m---------------------------------------------------------------------------\u001b[0m",
      "\u001b[0;31mRuntimeError\u001b[0m                              Traceback (most recent call last)",
      "\u001b[0;32m<ipython-input-10-c3d7296a4619>\u001b[0m in \u001b[0;36m<module>\u001b[0;34m\u001b[0m\n\u001b[1;32m     14\u001b[0m     \u001b[0ms\u001b[0m \u001b[0;34m=\u001b[0m \u001b[0mtime\u001b[0m\u001b[0;34m.\u001b[0m\u001b[0mperf_counter\u001b[0m\u001b[0;34m(\u001b[0m\u001b[0;34m)\u001b[0m\u001b[0;34m\u001b[0m\u001b[0;34m\u001b[0m\u001b[0m\n\u001b[1;32m     15\u001b[0m     \u001b[0mloop\u001b[0m \u001b[0;34m=\u001b[0m \u001b[0masyncio\u001b[0m\u001b[0;34m.\u001b[0m\u001b[0mget_event_loop\u001b[0m\u001b[0;34m(\u001b[0m\u001b[0;34m)\u001b[0m\u001b[0;34m\u001b[0m\u001b[0;34m\u001b[0m\u001b[0m\n\u001b[0;32m---> 16\u001b[0;31m     \u001b[0mloop\u001b[0m\u001b[0;34m.\u001b[0m\u001b[0mrun_until_complete\u001b[0m\u001b[0;34m(\u001b[0m\u001b[0mmain\u001b[0m\u001b[0;34m(\u001b[0m\u001b[0;34m)\u001b[0m\u001b[0;34m)\u001b[0m\u001b[0;34m\u001b[0m\u001b[0;34m\u001b[0m\u001b[0m\n\u001b[0m\u001b[1;32m     17\u001b[0m     \u001b[0melapsed\u001b[0m \u001b[0;34m=\u001b[0m \u001b[0mtime\u001b[0m\u001b[0;34m.\u001b[0m\u001b[0mperf_counter\u001b[0m\u001b[0;34m(\u001b[0m\u001b[0;34m)\u001b[0m \u001b[0;34m-\u001b[0m \u001b[0ms\u001b[0m\u001b[0;34m\u001b[0m\u001b[0;34m\u001b[0m\u001b[0m\n\u001b[1;32m     18\u001b[0m     \u001b[0mprint\u001b[0m\u001b[0;34m(\u001b[0m\u001b[0;34mf\"{__file__} executed in {elapsed:0.2f} seconds.\"\u001b[0m\u001b[0;34m)\u001b[0m\u001b[0;34m\u001b[0m\u001b[0;34m\u001b[0m\u001b[0m\n",
      "\u001b[0;32m/usr/lib/python3.8/asyncio/base_events.py\u001b[0m in \u001b[0;36mrun_until_complete\u001b[0;34m(self, future)\u001b[0m\n\u001b[1;32m    590\u001b[0m         \"\"\"\n\u001b[1;32m    591\u001b[0m         \u001b[0mself\u001b[0m\u001b[0;34m.\u001b[0m\u001b[0m_check_closed\u001b[0m\u001b[0;34m(\u001b[0m\u001b[0;34m)\u001b[0m\u001b[0;34m\u001b[0m\u001b[0;34m\u001b[0m\u001b[0m\n\u001b[0;32m--> 592\u001b[0;31m         \u001b[0mself\u001b[0m\u001b[0;34m.\u001b[0m\u001b[0m_check_running\u001b[0m\u001b[0;34m(\u001b[0m\u001b[0;34m)\u001b[0m\u001b[0;34m\u001b[0m\u001b[0;34m\u001b[0m\u001b[0m\n\u001b[0m\u001b[1;32m    593\u001b[0m \u001b[0;34m\u001b[0m\u001b[0m\n\u001b[1;32m    594\u001b[0m         \u001b[0mnew_task\u001b[0m \u001b[0;34m=\u001b[0m \u001b[0;32mnot\u001b[0m \u001b[0mfutures\u001b[0m\u001b[0;34m.\u001b[0m\u001b[0misfuture\u001b[0m\u001b[0;34m(\u001b[0m\u001b[0mfuture\u001b[0m\u001b[0;34m)\u001b[0m\u001b[0;34m\u001b[0m\u001b[0;34m\u001b[0m\u001b[0m\n",
      "\u001b[0;32m/usr/lib/python3.8/asyncio/base_events.py\u001b[0m in \u001b[0;36m_check_running\u001b[0;34m(self)\u001b[0m\n\u001b[1;32m    550\u001b[0m     \u001b[0;32mdef\u001b[0m \u001b[0m_check_running\u001b[0m\u001b[0;34m(\u001b[0m\u001b[0mself\u001b[0m\u001b[0;34m)\u001b[0m\u001b[0;34m:\u001b[0m\u001b[0;34m\u001b[0m\u001b[0;34m\u001b[0m\u001b[0m\n\u001b[1;32m    551\u001b[0m         \u001b[0;32mif\u001b[0m \u001b[0mself\u001b[0m\u001b[0;34m.\u001b[0m\u001b[0mis_running\u001b[0m\u001b[0;34m(\u001b[0m\u001b[0;34m)\u001b[0m\u001b[0;34m:\u001b[0m\u001b[0;34m\u001b[0m\u001b[0;34m\u001b[0m\u001b[0m\n\u001b[0;32m--> 552\u001b[0;31m             \u001b[0;32mraise\u001b[0m \u001b[0mRuntimeError\u001b[0m\u001b[0;34m(\u001b[0m\u001b[0;34m'This event loop is already running'\u001b[0m\u001b[0;34m)\u001b[0m\u001b[0;34m\u001b[0m\u001b[0;34m\u001b[0m\u001b[0m\n\u001b[0m\u001b[1;32m    553\u001b[0m         \u001b[0;32mif\u001b[0m \u001b[0mevents\u001b[0m\u001b[0;34m.\u001b[0m\u001b[0m_get_running_loop\u001b[0m\u001b[0;34m(\u001b[0m\u001b[0;34m)\u001b[0m \u001b[0;32mis\u001b[0m \u001b[0;32mnot\u001b[0m \u001b[0;32mNone\u001b[0m\u001b[0;34m:\u001b[0m\u001b[0;34m\u001b[0m\u001b[0;34m\u001b[0m\u001b[0m\n\u001b[1;32m    554\u001b[0m             raise RuntimeError(\n",
      "\u001b[0;31mRuntimeError\u001b[0m: This event loop is already running"
     ]
    }
   ],
   "source": [
    "#!/usr/bin/env python3\n",
    "# countasync.py\n",
    "\n",
    "async def count():\n",
    "    print(\"One\")\n",
    "    await asyncio.sleep(1)\n",
    "    print(\"Two\")\n",
    "\n",
    "async def main():\n",
    "    await asyncio.gather(count(), count(), count())\n",
    "\n",
    "if __name__ == \"__main__\":\n",
    "    import time\n",
    "    s = time.perf_counter()\n",
    "    loop = asyncio.get_event_loop()\n",
    "    loop.run_until_complete(main())\n",
    "    elapsed = time.perf_counter() - s\n",
    "    print(f\"{__file__} executed in {elapsed:0.2f} seconds.\")"
   ]
  },
  {
   "cell_type": "markdown",
   "metadata": {},
   "source": [
    "## Les mécanismes de synchronisation en Python\n",
    "\n",
    "<span style=\"color:red\">Dans cette section vous présenterez votre étude comparative, avec exemple, des mécanimes présent dans la bibliothèque ou pouvant être associé pour construire une section critique ou permettant de contrôler l'accès à des ressources critiques.\n",
    "    \n",
    "<span style=\"color:red\">Vous préciserez de manière justifiée à la fin de cette section les mécanismes choisis. La cellule suivante, exécutable comprendra l'import des bibliothèques.</span>"
   ]
  },
  {
   "cell_type": "markdown",
   "metadata": {},
   "source": [
    "### Lock\n",
    "\n",
    "Un verrou primitif est soit « verrouillé » soit « déverrouillé ». Il est créé dans un état déverrouillé. Il a deux méthodes, acquire() et release(). Lorsque l'état est déverrouillé, acquire() verrouille et se termine immédiatement. Lorsque l'état est verrouillé, acquire() bloque jusqu'à ce qu'un appel à release() provenant d'un autre fil d'exécution le déverrouille.\n",
    "\n",
    "Lorsque plus d'un thread est bloqué dans acquire () en attendant que l'état passe à déverrouillé, un seul thread se poursuit lorsqu'un appel release () réinitialise l'état à déverrouillé; lequel des threads en attente continue n'est pas défini et peut varier selon les implémentations.\n",
    "\n",
    "Pour un fonctionnement correct, il est important de libérer le verrou même si quelque chose ne va pas lors de l’accès à la ressource. On peut utiliser try-finally.\n",
    "\n",
    "lock.acquire()\n",
    "try:\n",
    "    ... access shared resource\n",
    "finally:\n",
    "    lock.release() # release lock, no matter what\n",
    "    \n",
    "La méthode acquire() prend un indicateur d'attente facultatif, qui peut être utilisé pour éviter le blocage si le verrou est détenu par quelqu'un d'autre."
   ]
  },
  {
   "cell_type": "markdown",
   "metadata": {},
   "source": [
    "if not lock.acquire(False):\n",
    "    ... failed to lock the resource\n",
    "else:\n",
    "    try:\n",
    "        ... access shared resource\n",
    "    finally:\n",
    "        lock.release()"
   ]
  },
  {
   "cell_type": "markdown",
   "metadata": {},
   "source": [
    "Dans l'exemple suivant, deux methodes utilisent une même varible globale g, on gère pas les sections critqiues.\n",
    "\n",
    "Dans add_one_one() on reinitialise g à 0 puis on l'incrément de 1. Par la suite on cré une boucle de 30 avec affichage de texte juste pour faire durer l'execution de la methode . On incremente encore une fois g avant de l'afficher La resultat attendu appres cette afficheage est donc 2.\n",
    "\n",
    "Dans add_two() on incremente juste g de 2.\n",
    "\n",
    "Nous appelons deux threads sur ces deux methodes (add_one_one() en premier et add_two() apres).\n",
    "Notons que l'on attends que les deux threads se termine ( fonction join()), pour afficher le résultat seulement lexecution totale des deux Threads."
   ]
  },
  {
   "cell_type": "code",
   "execution_count": 11,
   "metadata": {},
   "outputs": [
    {
     "name": "stdout",
     "output_type": "stream",
     "text": [
      "boucle d'attente\n",
      "boucle d'attente\n",
      "boucle d'attente\n",
      "boucle d'attente\n",
      "boucle d'attente\n",
      "boucle d'attente\n",
      "boucle d'attente\n",
      "boucle d'attente\n",
      "boucle d'attente\n",
      "boucle d'attente\n",
      "boucle d'attente\n",
      "boucle d'attente\n",
      "boucle d'attente\n",
      "boucle d'attente\n",
      "boucle d'attente\n",
      "boucle d'attente\n",
      "boucle d'attente\n",
      "boucle d'attente\n",
      "boucle d'attente\n",
      "boucle d'attente\n",
      "boucle d'attente\n",
      "boucle d'attente\n",
      "boucle d'attente\n",
      "boucle d'attente\n",
      "boucle d'attente\n",
      "boucle d'attente\n",
      "boucle d'attente\n",
      "boucle d'attente\n",
      "boucle d'attente\n",
      "boucle d'attente\n",
      "Affichage de g dans add one one : 4\n",
      "4\n"
     ]
    }
   ],
   "source": [
    "#lock_tut.py\n",
    "from threading import Lock, Thread\n",
    "lock = Lock()\n",
    "g = 0\n",
    "\n",
    "def add_one_one():\n",
    "\n",
    "   global g\n",
    "   g=0\n",
    "   g += 1\n",
    "   for i in range(30):\n",
    "     print('boucle d\\'attente')\n",
    "   g += 1\n",
    "   print('Affichage de g dans add one one :',g)\n",
    "\n",
    "def add_two():\n",
    "   global g\n",
    "   g += 2\n",
    "\n",
    "threads = []\n",
    "for func in [add_one_one, add_two]:\n",
    "   threads.append(Thread(target=func))\n",
    "\n",
    "threads[0].start() \n",
    "threads[1].start()\n",
    "\n",
    "for thread in threads:\n",
    "   \"\"\"\n",
    "   Waits for threads to complete before moving on with the main\n",
    "   script.\n",
    "   \"\"\"\n",
    "   thread.join()\n",
    "\n",
    "print(g)"
   ]
  },
  {
   "cell_type": "markdown",
   "metadata": {},
   "source": [
    "Dans l'exemple suivant, nous gèrons les sections critqiues avec le verrou threading.Lock. On obtient toujours 2 pour l'affichage dans add_one_one et 4 à la fin"
   ]
  },
  {
   "cell_type": "code",
   "execution_count": 12,
   "metadata": {},
   "outputs": [
    {
     "name": "stdout",
     "output_type": "stream",
     "text": [
      "boucle d'attente\n",
      "boucle d'attente\n",
      "boucle d'attente\n",
      "boucle d'attente\n",
      "boucle d'attente\n",
      "boucle d'attente\n",
      "boucle d'attente\n",
      "boucle d'attente\n",
      "boucle d'attente\n",
      "boucle d'attente\n",
      "boucle d'attente\n",
      "boucle d'attente\n",
      "boucle d'attente\n",
      "boucle d'attente\n",
      "boucle d'attente\n",
      "boucle d'attente\n",
      "boucle d'attente\n",
      "boucle d'attente\n",
      "boucle d'attente\n",
      "boucle d'attente\n",
      "boucle d'attente\n",
      "boucle d'attente\n",
      "boucle d'attente\n",
      "boucle d'attente\n",
      "boucle d'attente\n",
      "boucle d'attente\n",
      "boucle d'attente\n",
      "boucle d'attente\n",
      "boucle d'attente\n",
      "boucle d'attente\n",
      "Affichage de g dans add one : 2\n",
      "4\n"
     ]
    }
   ],
   "source": [
    "#lock_tut.py\n",
    "from threading import Lock, Thread\n",
    "lock = Lock()\n",
    "g = 0\n",
    "\n",
    "def add_one():\n",
    "   global g\n",
    "   lock.acquire()\n",
    "   g=0\n",
    "   g += 1\n",
    "   for i in range(30):\n",
    "     print('boucle d\\'attente')\n",
    "   g += 1\n",
    "   print('Affichage de g dans add one :',g)\n",
    "   lock.release()\n",
    "\n",
    "def add_two():\n",
    "   global g\n",
    "   lock.acquire()\n",
    "   g += 2\n",
    "   lock.release()\n",
    "\n",
    "threads = []\n",
    "for func in [add_one, add_two]:\n",
    "   threads.append(Thread(target=func))\n",
    "   threads[-1].start()\n",
    "\n",
    "for thread in threads:\n",
    "   \"\"\"\n",
    "   Waits for threads to complete before moving on with the main\n",
    "   script.\n",
    "   \"\"\"\n",
    "   thread.join()\n",
    "\n",
    "print(g)"
   ]
  },
  {
   "cell_type": "markdown",
   "metadata": {},
   "source": [
    "### ReLock\n",
    "\n",
    "L'objet de verrouillage standard ne se soucie pas du thread qui détient actuellement le verrou; si le verrou est maintenu, tout thread qui tente d'acquérir le verrou se bloque, même si le même thread détient déjà le verrou. Dans l'exemple suivant, les fonctions get_first_part() et get_second_part() resteront bloquées, car la fonction externe increment() détient déjà le verrou."
   ]
  },
  {
   "cell_type": "code",
   "execution_count": 15,
   "metadata": {},
   "outputs": [
    {
     "name": "stdout",
     "output_type": "stream",
     "text": [
      "First try : True\n",
      "Second try: False\n",
      "print this if not blocked...\n"
     ]
    }
   ],
   "source": [
    "lock = threading.Lock()\n",
    "\n",
    "print('First try :',lock.acquire())\n",
    "print('Second try:',lock.acquire(0))\n",
    "print(\"print this if not blocked...\")"
   ]
  },
  {
   "cell_type": "markdown",
   "metadata": {},
   "source": [
    "La classe RLock est une version du verrouillage qui ne se bloque que si le verrou est détenu par un autre thread. Alors que les verrous simples se bloquent si le même thread tente d'acquérir le même verrou deux fois, un verrou rentrant ne se bloque que si un autre thread détient actuellement le verrou. Si le thread actuel tente d'acquérir un verrou qu'il détient déjà, l'exécution se poursuit comme d'habitude."
   ]
  },
  {
   "cell_type": "code",
   "execution_count": 16,
   "metadata": {},
   "outputs": [
    {
     "name": "stdout",
     "output_type": "stream",
     "text": [
      "First try : True\n",
      "Second try: True\n",
      "print this if not blocked...\n"
     ]
    }
   ],
   "source": [
    "lock = threading.RLock()\n",
    "\n",
    "print('First try :', lock.acquire())\n",
    "print('Second try:', lock.acquire(blocking = True, timeout = -1))\n",
    "print(\"print this if not blocked...\")"
   ]
  },
  {
   "cell_type": "markdown",
   "metadata": {},
   "source": [
    "En reprenant le même exemple mais avec un ReLock, , on réussi à réobtenir le verrou."
   ]
  },
  {
   "cell_type": "markdown",
   "metadata": {},
   "source": [
    "### Semaphore\n",
    "\n",
    "Un sémaphore gère un compteur interne qui est décrémenté à chaque appel acquise () et incrémenté à chaque appel release (). Le compteur ne peut jamais descendre en dessous de zéro; quand acquiert () trouve qu'il est égal à zéro, il bloque, en attendant qu'un autre thread appelle release ()."
   ]
  },
  {
   "cell_type": "code",
   "execution_count": 17,
   "metadata": {},
   "outputs": [
    {
     "name": "stdout",
     "output_type": "stream",
     "text": [
      "Waiting for a lock\n",
      "Acquired a lock\n",
      "Released a lock\n",
      "Done\n",
      "Waiting for a lockWaiting for worker threads\n",
      "\n",
      "Acquired a lock\n",
      "Released a lock\n",
      "Done\n",
      "Counter:2\n"
     ]
    }
   ],
   "source": [
    "class Counter(object):\n",
    "    def __init__(self, start = 0):\n",
    "        self.semaphore = threading.BoundedSemaphore(value=1)\n",
    "        self.value = start\n",
    "    def increment(self):\n",
    "        print('Waiting for a lock')\n",
    "        self.semaphore.acquire()\n",
    "        try:\n",
    "            print('Acquired a lock')\n",
    "            self.value = self.value + 1\n",
    "        finally:\n",
    "            print('Released a lock')\n",
    "            self.semaphore.release()\n",
    "\n",
    "def worker(c):\n",
    "    c.increment()\n",
    "    print('Done')\n",
    "\n",
    "\n",
    "my_list=[]\n",
    "counter = Counter()\n",
    "for i in range(2):\n",
    "    t = threading.Thread(target=worker, args=(counter,))\n",
    "    my_list.append(t)\n",
    "    t.start()\n",
    "\n",
    "print('Waiting for worker threads')\n",
    "main_thread = threading.currentThread()\n",
    "for t in my_list:\n",
    "    t.join()\n",
    "print('Counter:'+ str(counter.value))"
   ]
  },
  {
   "cell_type": "markdown",
   "metadata": {},
   "source": [
    "### Barrier\n",
    "\n",
    "Une barrière est une simple primitive de synchronisation qui peut être utilisée par différents threads pour s'attendre les uns les autres. Chaque thread tente de passer une barrière en appelant la wait()méthode, qui se bloquera jusqu'à ce que tous les threads aient effectué cet appel. Dès que cela se produit, les threads sont libérés simultanément. L'extrait de code suivant illustre l'utilisation de Barrier"
   ]
  },
  {
   "cell_type": "code",
   "execution_count": 18,
   "metadata": {},
   "outputs": [
    {
     "name": "stdout",
     "output_type": "stream",
     "text": [
      "Race starts now…\n",
      "Harsh reached the barrier at: Sat Oct 31 14:02:34 2020\n",
      "George reached the barrier at: Sat Oct 31 14:02:35 2020\n",
      "Iqbal reached the barrier at: Sat Oct 31 14:02:36 2020\n",
      "Lokesh reached the barrier at: Sat Oct 31 14:02:36 2020\n",
      "\n",
      "Race over!\n"
     ]
    }
   ],
   "source": [
    "#barrier_tut.py\n",
    "from random import randrange\n",
    "from threading import Barrier, Thread\n",
    "from time import ctime, sleep\n",
    "\n",
    "num = 4\n",
    "# 4 threads will need to pass this barrier to get released.\n",
    "b = Barrier(num)\n",
    "names = [\"Harsh\", \"Lokesh\", \"George\", \"Iqbal\"]\n",
    "\n",
    "def player():\n",
    "    name = names.pop()\n",
    "    sleep(randrange(2, 5))\n",
    "    print(\"%s reached the barrier at: %s\" % (name, ctime()))\n",
    "    b.wait()\n",
    "    \n",
    "threads = []\n",
    "print(\"Race starts now…\")\n",
    "\n",
    "for i in range(num):\n",
    "    threads.append(Thread(target=player))\n",
    "    threads[-1].start()\n",
    "\"\"\"\n",
    "Following loop enables waiting for the threads to complete before moving on with the main script.\n",
    "\"\"\"\n",
    "for thread in threads:\n",
    "    thread.join()\n",
    "print()\n",
    "print(\"Race over!\")"
   ]
  },
  {
   "cell_type": "markdown",
   "metadata": {},
   "source": [
    "### Objet Event\n",
    "\n",
    "Nous utilisons plusieurs threads pour faire tourner des opérations séparées afin de les exécuter simultanément, cependant, il y a des moments où il est important de pouvoir synchroniser les opérations de deux ou plusieurs threads. L'utilisation d' objets Event est le moyen simple de communiquer entre les threads.\n",
    "\n",
    "Un événement gère un indicateur interne que les appelants peuvent définir () ou effacer () . D'autres threads peuvent attendre () que l'indicateur soit défini () . On note que la méthode wait () se bloque jusqu'à ce que l'indicateur soit vrai.\n"
   ]
  },
  {
   "cell_type": "code",
   "execution_count": 19,
   "metadata": {},
   "outputs": [
    {
     "name": "stderr",
     "output_type": "stream",
     "text": [
      "(blocking ) wait_for_event starting\n",
      "(non-blocking) wait_for_event_timeout starting\n",
      "(MainThread) Waiting before calling Event.set()\n",
      "(non-blocking) event set: False\n",
      "(non-blocking) doing other things\n",
      "(non-blocking) wait_for_event_timeout starting\n",
      "(MainThread) Event is set\n",
      "(non-blocking) event set: True\n",
      "(blocking ) event set: True\n",
      "(non-blocking) processing event\n"
     ]
    }
   ],
   "source": [
    "import time\n",
    "import logging\n",
    "\n",
    "logging.basicConfig(level=logging.DEBUG,\n",
    "                    format='(%(threadName)-9s) %(message)s',)\n",
    "                    \n",
    "def wait_for_event(e):\n",
    "    logging.debug('wait_for_event starting')\n",
    "    event_is_set = e.wait()\n",
    "    logging.debug('event set: %s', event_is_set)\n",
    "\n",
    "def wait_for_event_timeout(e, t):\n",
    "    while not e.isSet():\n",
    "        logging.debug('wait_for_event_timeout starting')\n",
    "        event_is_set = e.wait(t)\n",
    "        logging.debug('event set: %s', event_is_set)\n",
    "        if event_is_set:\n",
    "            logging.debug('processing event')\n",
    "        else:\n",
    "            logging.debug('doing other things')\n",
    "\n",
    "if __name__ == '__main__':\n",
    "    e = threading.Event()\n",
    "    t1 = threading.Thread(name='blocking', \n",
    "                      target=wait_for_event,\n",
    "                      args=(e,))\n",
    "    t1.start()\n",
    "\n",
    "    t2 = threading.Thread(name='non-blocking', \n",
    "                      target=wait_for_event_timeout, \n",
    "                      args=(e, 2))\n",
    "    t2.start()\n",
    "\n",
    "    logging.debug('Waiting before calling Event.set()')\n",
    "    time.sleep(3)\n",
    "    e.set()\n",
    "    logging.debug('Event is set')"
   ]
  },
  {
   "cell_type": "markdown",
   "metadata": {},
   "source": [
    "## Définitions de quelques procédures pour initialiser une grille à partir d'un fichier de configuration\n",
    "\n",
    "<span style=\"color:red\">Vous ne pouvez pas modifier les classes/procédures/fonctions suivantes</span>"
   ]
  },
  {
   "cell_type": "code",
   "execution_count": 1,
   "metadata": {
    "ExecuteTime": {
     "end_time": "2020-09-09T14:56:37.017896Z",
     "start_time": "2020-09-09T14:56:37.014070Z"
    }
   },
   "outputs": [],
   "source": [
    "def is_running_from_ipython():\n",
    "    # Renvoie True si on execute le code depuis un notebook\n",
    "       from IPython import get_ipython\n",
    "       return get_ipython() is not None\n",
    "is_running_from_ipython()\n",
    "# Permet de savoir qui exécute le code\n",
    "import platform\n",
    "MICHEL = ('michel' in platform.node()) or ('charvin' in platform.node())"
   ]
  },
  {
   "cell_type": "code",
   "execution_count": 2,
   "metadata": {},
   "outputs": [],
   "source": [
    "class Debug:\n",
    "    def __init__(self, debug=False):\n",
    "        self.debug = debug\n",
    "        \n",
    "    def affiche(self, *args):\n",
    "        if self.debug:\n",
    "            print(args)"
   ]
  },
  {
   "cell_type": "code",
   "execution_count": 3,
   "metadata": {
    "ExecuteTime": {
     "end_time": "2020-09-09T14:56:38.411155Z",
     "start_time": "2020-09-09T14:56:38.406363Z"
    }
   },
   "outputs": [],
   "source": [
    "# Différents imports\n",
    "import copy\n",
    "import math\n",
    "import time\n",
    "import numpy as np\n",
    "\n",
    "%matplotlib inline\n",
    "import matplotlib.pyplot as plt"
   ]
  },
  {
   "cell_type": "code",
   "execution_count": 4,
   "metadata": {
    "ExecuteTime": {
     "end_time": "2020-09-09T14:56:40.469475Z",
     "start_time": "2020-09-09T14:56:39.487216Z"
    }
   },
   "outputs": [],
   "source": [
    "# Reglage de l'affichage\n",
    "\n",
    "# Définition des affichage possible définition\n",
    "!echo 'Aucun = 0' >affichage.py\n",
    "!echo 'tkinter = 1' >>affichage.py # Not implemented\n",
    "!echo 'OpenCV = 2' >> affichage.py # Not completly implemented\n",
    "\n",
    "!echo 'PERSONNE = (0.0, 0.0, 1.0)' >>affichage.py\n",
    "!echo 'IMMOBILE = (1.0, 0.0, 0.0)' >>affichage.py\n",
    "!echo 'OBSTACLE = (0.0, 1.0, 0.0)' >>affichage.py\n",
    "!echo 'EMPTY = (1.0, 1.0, 1.0)' >>affichage.py\n",
    "!echo 'ARRIVEE = (0.0, 0.0, 0.0)' >>affichage.py # Not used\n",
    "\n",
    "import affichage\n",
    "import cv2\n",
    "\n",
    "UI = affichage.OpenCV"
   ]
  },
  {
   "cell_type": "code",
   "execution_count": 5,
   "metadata": {
    "ExecuteTime": {
     "end_time": "2020-09-09T14:56:40.476993Z",
     "start_time": "2020-09-09T14:56:40.472805Z"
    }
   },
   "outputs": [],
   "source": [
    "#if MICHEL:\n",
    "petite_grille = \"maps/map-initial.txt\" # fichier décrivant une petite grille\n",
    "grande_grille = \"maps/map-final.txt\"  # fichier décrivant une grande grille\n",
    "debug = Debug(True)"
   ]
  },
  {
   "cell_type": "code",
   "execution_count": 6,
   "metadata": {
    "ExecuteTime": {
     "end_time": "2020-09-09T14:56:41.169989Z",
     "start_time": "2020-09-09T14:56:40.563847Z"
    }
   },
   "outputs": [],
   "source": [
    "# Constant définition\n",
    "!echo 'EMPTY = 0' >const.py\n",
    "!echo 'OBSTACLE = 1' >>const.py\n",
    "!echo 'PERSONNE = 2' >> const.py\n",
    "!echo 'IMMOBILE = 3' >> const.py\n",
    "!echo 'ARRIVEE = 4' >> const.py\n",
    "import const"
   ]
  },
  {
   "cell_type": "code",
   "execution_count": 7,
   "metadata": {
    "ExecuteTime": {
     "end_time": "2020-09-09T14:56:41.181031Z",
     "start_time": "2020-09-09T14:56:41.175015Z"
    }
   },
   "outputs": [
    {
     "name": "stdout",
     "output_type": "stream",
     "text": [
      "('Ouverture du fichier', 'maps/map-initial.txt')\n"
     ]
    }
   ],
   "source": [
    "# Lecture du fichier de configuration\n",
    "def open_file(filename, debug):\n",
    "    debug.affiche(\"Ouverture du fichier\", filename)\n",
    "    fileMap = open(filename, 'r')\n",
    "    return fileMap\n",
    "\n",
    "file = open_file(petite_grille, debug)"
   ]
  },
  {
   "cell_type": "markdown",
   "metadata": {},
   "source": [
    "### Définition de la grille"
   ]
  },
  {
   "cell_type": "code",
   "execution_count": 8,
   "metadata": {
    "ExecuteTime": {
     "end_time": "2020-09-09T14:56:42.917234Z",
     "start_time": "2020-09-09T14:56:42.910654Z"
    }
   },
   "outputs": [],
   "source": [
    "def read_grid_size(file, debug):\n",
    "    line = file.readline()\n",
    "    while line[0]=='#':\t# on saute les commentaires\n",
    "        line = file.readline()\n",
    "    \n",
    "    # Lecture de la taille de la grille\n",
    "    while line[0]!='#':\t# on lit jusqu'au prochain commentaires\n",
    "        if (line[0]=='X'):\n",
    "            X = int(line.split(' ')[1])\n",
    "        if (line[0]=='Y'):\n",
    "            Y = int(line.split(' ')[1])\n",
    "        line = file.readline()\n",
    "\n",
    "    debug.affiche(\"Simulation pour une grille:\", X, \"*\", Y)\n",
    "    \n",
    "    return X, Y"
   ]
  },
  {
   "cell_type": "code",
   "execution_count": 9,
   "metadata": {},
   "outputs": [
    {
     "name": "stdout",
     "output_type": "stream",
     "text": [
      "('Simulation pour une grille:', 10, '*', 10)\n"
     ]
    }
   ],
   "source": [
    "X, Y = read_grid_size(file, debug)"
   ]
  },
  {
   "cell_type": "code",
   "execution_count": 10,
   "metadata": {
    "ExecuteTime": {
     "end_time": "2020-09-09T14:56:43.748661Z",
     "start_time": "2020-09-09T14:56:43.726699Z"
    }
   },
   "outputs": [],
   "source": [
    "# Definition de la grille\n",
    "class Grille:\n",
    "    # Crée un objet list\n",
    "    def __init__(self, Xmax, Ymax, UI, debug):\n",
    "        debug.affiche(\"Initilisation de l'objet grille\")\n",
    "        self.Xmax = Xmax\n",
    "        self.Ymax = Ymax\n",
    "        if const.EMPTY==0:\n",
    "            self.map = np.zeros((Xmax, Ymax))\n",
    "        elif const.EMPTY==1:\n",
    "            self.map = np.ones((Xmax, Ymax))\n",
    "        else:\n",
    "            self.map = np.array(Xmax, Ymax)\n",
    "            for i in range(Xmax):\n",
    "                for j in range(Ymax):\n",
    "                    self.map[i,j] = const.EMPTY\n",
    "        self.mapList = []\n",
    "        self.obstacleList = []\n",
    "        self.personneList = []\n",
    "        self.debug = debug\n",
    "        self.UI = UI\n",
    "\n",
    "    def SetObstacle(self, obstacle):\n",
    "        for x in range(obstacle.Xmin, obstacle.Xmax+1):\n",
    "            for y in range(obstacle.Ymin, obstacle.Ymax+1):\n",
    "                self.map[x][y] = const.OBSTACLE\n",
    "        self.obstacleList += [obstacle]\n",
    "\n",
    "    def SetPersonne(self, personne):\n",
    "        if self.map[personne.X][personne.Y]==const.EMPTY:\n",
    "            # la case est vide\n",
    "            self.map[personne.X][personne.Y] = const.PERSONNE\n",
    "            self.personneList += [personne]\n",
    "            return True\n",
    "        else:\n",
    "            debug.affiche(\"Personne non créée, la place est occupée\", personne.X, personne.Y)\n",
    "            return False\n",
    "        \n",
    "    def isCellEmpty(self, x, y):\n",
    "        return self.map[x][y]==const.EMPTY\n",
    "    \n",
    "    def Set(self, x, y, status):\n",
    "        self.map[x][y] = status\n",
    "        \n",
    "    def Save(self, name):\n",
    "        with open(name, 'w') as file:\n",
    "            file.write(\"# taille de la grille\\n\")\n",
    "            file.write(\"X \"+str(self.Xmax)+\"\\n\")\n",
    "            file.write(\"Y \"+str(self.Ymax)+\"\\n\")\n",
    "            file.write(\"# position des obstacles\\n\")\n",
    "            file.write(\"# Xmin Xmax Ymin Ymax\\n\")\n",
    "            file.write(\"# si pas obstacle : mettre -1 comme valeur\\n\")\n",
    "            file.write(\"# \"+str(len(self.obstacleList))+\" obstacles\\n\")\n",
    "            for o in self.obstacleList:\n",
    "                file.write(str(o.Xmin)+\" \"+str(o.Xmax)+\" \"+str(o.Ymin)+\" \"+str(o.Ymax)+\"\\n\")\n",
    "            file.write(\"# position initiale des personnes (X, Y) et case de sortie (X, Y)\\n\")\n",
    "            file.write(\"# \"+str(len(self.personneList))+\" personnes\\n\")\n",
    "            for p in self.personneList:\n",
    "                file.write(str(p.X)+\" \"+str(p.Y)+\" \"+str(p.Xsortie)+\" \"+str(p.Ysortie)+\"\\n\")\n",
    "                \n",
    "    # Solution imparfaite car une personne peut être bloquée par un obstacle\n",
    "    def Simulation(self):\n",
    "        if self.debug.debug or self.UI==affichage.OpenCV:\n",
    "            self.mapList.append(copy.copy(self.map))\n",
    "        if self.UI==affichage.OpenCV:\n",
    "            cv2.imshow(\"img\", createImage(self.map))\n",
    "            cv2.waitKey(500)\n",
    "    \n",
    "        while len(self.personneList)>0: # il y a encore une personne dans la liste qui peut bouger\n",
    "            for personne in self.personneList:\n",
    "                end, immobile = personne.deplacePersonne(self, self.debug)\n",
    "                if end:\n",
    "                    self.debug.affiche(\"Une personne vient de sortir, il reste\", len(self.personneList), \"personnes\")\n",
    "            if self.debug.debug or self.UI==affichage.OpenCV:\n",
    "                self.mapList.append(copy.copy(self.map))\n",
    "                if self.UI==affichage.OpenCV:\n",
    "                    cv2.imshow(\"img\", createImage(self.map))\n",
    "                    cv2.waitKey(500)\n",
    "    \n",
    "        if self.UI==affichage.OpenCV:\n",
    "            cv2.destroyAllWindows()"
   ]
  },
  {
   "cell_type": "code",
   "execution_count": 11,
   "metadata": {
    "ExecuteTime": {
     "end_time": "2020-09-09T14:56:44.483524Z",
     "start_time": "2020-09-09T14:56:44.478404Z"
    }
   },
   "outputs": [
    {
     "name": "stdout",
     "output_type": "stream",
     "text": [
      "(\"Initilisation de l'objet grille\",)\n"
     ]
    }
   ],
   "source": [
    "# Creation de la grille\n",
    "grid = Grille(X, Y, affichage.Aucun, debug)"
   ]
  },
  {
   "cell_type": "markdown",
   "metadata": {},
   "source": [
    "### Définition d'un obstacle"
   ]
  },
  {
   "cell_type": "code",
   "execution_count": 12,
   "metadata": {
    "ExecuteTime": {
     "end_time": "2020-09-09T14:56:45.740092Z",
     "start_time": "2020-09-09T14:56:45.735268Z"
    }
   },
   "outputs": [],
   "source": [
    "class Obstacle():\n",
    "    def __init__(self, grid,  Xmin, Xmax, Ymin, Ymax, debug):\n",
    "        self.Xmin = Xmin\n",
    "        self.Xmax = Xmax\n",
    "        self.Ymin = Ymin\n",
    "        self.Ymax = Ymax\n",
    "        self.debug = debug\n",
    "        grid.SetObstacle(self)\n",
    "        debug.affiche(\"Création de l'obstacle (\", Xmin, Xmax, \") - (\", Ymin, Ymax, \")\")"
   ]
  },
  {
   "cell_type": "code",
   "execution_count": 13,
   "metadata": {
    "ExecuteTime": {
     "end_time": "2020-09-09T14:56:46.248553Z",
     "start_time": "2020-09-09T14:56:46.238774Z"
    },
    "code_folding": []
   },
   "outputs": [],
   "source": [
    "def read_obstacles(file, grid, Obstacle, debug):\n",
    "    # Lecture de la liste des obstacles et placement sur la grille\n",
    "    line = file.readline()\n",
    "    while line[0]=='#':\t# on saute les commentaires\n",
    "        line = file.readline()\n",
    "\n",
    "    while line[0]!='#':\t# on lit jusqu'au prochain commentaires\n",
    "        coordonnee = line.strip().split(' ')\n",
    "        if int(coordonnee[0])>=0:\n",
    "            assert (int(coordonnee[0])>0 and int(coordonnee[2])>0)\n",
    "            assert (int(coordonnee[1])<X)\n",
    "            assert (int(coordonnee[3])<Y)\n",
    "            Obstacle(grid, int(coordonnee[0]), int(coordonnee[1]), int(coordonnee[2]), int(coordonnee[3]), debug)\n",
    "        else:\n",
    "            debug.affiche(\"obstacle non créé\", coordonnee)\n",
    "        line = file.readline()        \n",
    "\n",
    "    debug.affiche(len(grid.obstacleList), \"obstacles ont été créés\")"
   ]
  },
  {
   "cell_type": "code",
   "execution_count": 14,
   "metadata": {},
   "outputs": [
    {
     "name": "stdout",
     "output_type": "stream",
     "text": [
      "('obstacle non créé', ['-1', '-1', '-1', '-1'])\n",
      "(\"Création de l'obstacle (\", 1, 1, ') - (', 2, 7, ')')\n",
      "(\"Création de l'obstacle (\", 1, 7, ') - (', 8, 8, ')')\n",
      "(2, 'obstacles ont été créés')\n"
     ]
    }
   ],
   "source": [
    "# On lit tous les obstacles contenus dans le fichier de configuration\n",
    "read_obstacles(file, grid, Obstacle, debug)"
   ]
  },
  {
   "cell_type": "code",
   "execution_count": 15,
   "metadata": {
    "ExecuteTime": {
     "end_time": "2020-09-09T14:56:46.829744Z",
     "start_time": "2020-09-09T14:56:46.734536Z"
    }
   },
   "outputs": [
    {
     "data": {
      "image/png": "[encoded data removed]",
      "text/plain": [
       "<Figure size 432x288 with 1 Axes>"
      ]
     },
     "metadata": {
      "needs_background": "light"
     },
     "output_type": "display_data"
    }
   ],
   "source": [
    "# Affichage de la grille\n",
    "plt.imshow(grid.map, cmap='Paired', vmin=0, vmax=5)\n",
    "plt.show()"
   ]
  },
  {
   "cell_type": "markdown",
   "metadata": {},
   "source": [
    "### Définition d'une personne"
   ]
  },
  {
   "cell_type": "code",
   "execution_count": 16,
   "metadata": {
    "ExecuteTime": {
     "end_time": "2020-09-09T14:56:47.956152Z",
     "start_time": "2020-09-09T14:56:47.941709Z"
    }
   },
   "outputs": [],
   "source": [
    "def distance(X, Y):\n",
    "    return int(np.abs(X[0]-Y[0])+np.abs(X[1]-Y[1]))\n",
    "\n",
    "class Personne():\n",
    "    def __init__(self, grid, Xinit, Yinit, Xsortie, Ysortie, debug):\n",
    "        self.X = Xinit\n",
    "        self.Y = Yinit\n",
    "        self.Xsortie = Xsortie\n",
    "        self.Ysortie = Ysortie\n",
    "        self.debug = debug\n",
    "        personneCrée = grid.SetPersonne(self)\n",
    "        if personneCrée:\n",
    "            debug.affiche(\"Création de la personne qui part de\", Xinit, Yinit, \"pour aller à\", Xsortie, Ysortie)\n",
    "    \n",
    "    def getAvailableMove(self, grid): # retourne la liste triée des déplacements possibles\n",
    "        # distance à la grille\n",
    "        dist_actuel = distance((self.X, self.Y), (self.Xsortie, self.Ysortie))\n",
    "        depl = []\n",
    "        # on calcule la distance entre les case adjacente et la sortie\n",
    "        for x in range(self.X-1, self.X+2):\n",
    "            for y in range (self.Y-1, self.Y+2):\n",
    "                if (x!=self.X or y!=self.Y) and (x==self.X or y==self.Y) and (x>=0 and y>=0 and x<grid.Xmax and y<grid.Ymax): # deplacement uniquement points cardinaux\n",
    "                    # on est sur une case adjacente et on est sur la grille\n",
    "                    if grid.isCellEmpty(x, y): # si la case est vide\n",
    "                        dist = distance((self.Xsortie, self.Ysortie), (x,y))\n",
    "                        if (dist<dist_actuel): # on se rappproche\n",
    "                             depl.append((dist, x, y))\n",
    "        return sorted(depl)\n",
    "\n",
    "    def getBetterMove(self, grid):\n",
    "        return self.getAvailableMove(grid)[0]\n",
    "\n",
    "    def Move(self, grid, depl):\n",
    "        debug.affiche(\"Déplacement de la personne de (\", self.X, self.Y, \") à (\", depl[1], depl[2], \")\")\n",
    "        grid.Set(self.X, self.Y, const.EMPTY)\n",
    "        self.X = depl[1]\n",
    "        self.Y = depl[2]\n",
    "        grid.Set(self.X, self.Y, const.PERSONNE)\n",
    "        \n",
    "    def deplacePersonne(self, grid, debug):\n",
    "        if self.X==self.Xsortie and self.Y==self.Ysortie:\n",
    "            # la personne est arrivée à la sortie\n",
    "            # on retire la personne de la liste\n",
    "            grid.personneList.remove(self)\n",
    "            # on libere la case de sortie\n",
    "            grid.Set(self.X, self.Y, const.EMPTY)\n",
    "            return True, False\n",
    "    \n",
    "        # sinon on recherche les déplacements possibles\n",
    "        availableMove = self.getAvailableMove(grid)\n",
    "        debug.affiche(\"La personne (\", self.X, self.Y, \") peut se déplacer sur :\", availableMove)\n",
    "            \n",
    "        if len(availableMove)>0:\n",
    "            # on se déplace sure la nouvelle case\n",
    "            self.Move(grid, availableMove[0]) \n",
    "            return False, False\n",
    "        \n",
    "        # sinon aucun d\"éplacement n'est possible\n",
    "        if grid.UI==affichage.OpenCV:\n",
    "            grid.Set(self.X, self.Y, const.IMMOBILE)\n",
    "        debug.affiche(\"La personne (\", self.X, self.Y, \"ne peut pas se déplacer\")\n",
    "        return False, True"
   ]
  },
  {
   "cell_type": "code",
   "execution_count": 17,
   "metadata": {
    "ExecuteTime": {
     "end_time": "2020-09-09T14:56:48.629455Z",
     "start_time": "2020-09-09T14:56:48.617795Z"
    }
   },
   "outputs": [],
   "source": [
    "def read_personnes(file, grid, Personne, nombre, debug):\n",
    "    # Lecture de la liste des personnes et placement sur la grille\n",
    "    # s'arrête quand le nombre de personnes souhaité est atteind\n",
    "    # Si nombre = -1, on lit jusqu'à la fin du fichier (idem si nombre est supérieur aux nombres de personnes dans le fichier)\n",
    "    line = file.readline()\n",
    "    while line[0]=='#':\t# on saute les commentaires\n",
    "        line = file.readline()\n",
    "        \n",
    "    while line:\t# on lit jusqu'à la fin du fichier\n",
    "        coordonnee = line.strip().split(' ')\n",
    "        if coordonnee[0]!='#':\n",
    "            assert (int(coordonnee[0])>0 and int(coordonnee[1])>0\n",
    "                and int(coordonnee[2])<X or int(coordonnee[3])<Y) # La personne est sur la grille\n",
    "            assert ((int(coordonnee[2])==0 or int(coordonnee[2])==X-1)  # elle sort sur un bord X\n",
    "                and                                                  # et\n",
    "                (int(coordonnee[3])==0 or int(coordonnee[3])==Y-1)) # elle sort sur un bord Y\n",
    "            Personne(grid, int(coordonnee[0]), int(coordonnee[1]), int(coordonnee[2]), int(coordonnee[3]), debug)\n",
    "            \n",
    "        if len(grid.personneList)==nombre:\n",
    "            debug.affiche(len(grid.personneList), \"personnes ont été créées\")\n",
    "            file.close()\n",
    "            return\n",
    "        line = file.readline()\n",
    "    debug.affiche(\"Fermeture du fichier\")\n",
    "    file.close()\n",
    "    \n",
    "    debug.affiche(\"On a lut tout le fichier,\", len(grid.personneList), \"personnes ont été créées\")"
   ]
  },
  {
   "cell_type": "code",
   "execution_count": 18,
   "metadata": {},
   "outputs": [
    {
     "name": "stdout",
     "output_type": "stream",
     "text": [
      "('Création de la personne qui part de', 2, 2, 'pour aller à', 0, 0)\n",
      "('Création de la personne qui part de', 3, 3, 'pour aller à', 0, 9)\n",
      "('Création de la personne qui part de', 6, 6, 'pour aller à', 9, 0)\n",
      "('Création de la personne qui part de', 7, 7, 'pour aller à', 9, 9)\n",
      "('Fermeture du fichier',)\n",
      "('On a lut tout le fichier,', 4, 'personnes ont été créées')\n"
     ]
    }
   ],
   "source": [
    "# On lit toutes les personnes contenues dans le fichier de configuration\n",
    "read_personnes(file, grid, Personne, -1, debug)"
   ]
  },
  {
   "cell_type": "code",
   "execution_count": 19,
   "metadata": {
    "ExecuteTime": {
     "end_time": "2020-09-09T14:56:49.611918Z",
     "start_time": "2020-09-09T14:56:49.518984Z"
    }
   },
   "outputs": [
    {
     "data": {
      "image/png": "[encoded data removed]",
      "text/plain": [
       "<Figure size 432x288 with 1 Axes>"
      ]
     },
     "metadata": {
      "needs_background": "light"
     },
     "output_type": "display_data"
    }
   ],
   "source": [
    "# Affichage de la grille\n",
    "plt.imshow(grid.map, cmap='Paired', vmin=0, vmax=5)\n",
    "plt.show()"
   ]
  },
  {
   "cell_type": "markdown",
   "metadata": {},
   "source": [
    "### Construction d'une image pour OpenCV"
   ]
  },
  {
   "cell_type": "code",
   "execution_count": 20,
   "metadata": {
    "ExecuteTime": {
     "end_time": "2020-09-09T14:56:52.548943Z",
     "start_time": "2020-09-09T14:56:52.539805Z"
    }
   },
   "outputs": [],
   "source": [
    "# Uniquement nécessaire pour la visualisation en OpenCV\n",
    "def createImage(image):\n",
    "    X = image.shape[0]\n",
    "    Y = image.shape[1]\n",
    "    ZOOM = max(min(1024//X, 1024//Y), 1)\n",
    "    img = np.zeros((X*ZOOM, Y*ZOOM, 3), dtype=np.float)\n",
    "    for i in range(X):\n",
    "        for t in range(ZOOM):\n",
    "            for j in range(Y):\n",
    "                for u in range(ZOOM):\n",
    "                    if image[i][j]==const.EMPTY:\n",
    "                        img[ZOOM*i+t][ZOOM*j+u]=affichage.EMPTY\n",
    "                    elif image[i][j]==const.OBSTACLE:\n",
    "                        img[ZOOM*i+t][ZOOM*j+u]=affichage.OBSTACLE\n",
    "                    elif image[i][j]==const.PERSONNE:\n",
    "                        img[ZOOM*i+t][ZOOM*j+u]=affichage.PERSONNE\n",
    "                    elif image[i][j]==const.IMMOBILE:\n",
    "                        img[ZOOM*i+t][ZOOM*j+u]=affichage.IMMOBILE\n",
    "                    elif image[i][j]==const.ARRIVEE:  \n",
    "                        img[ZOOM*i+t][ZOOM*j+u]=affichage.ARRIVEE\n",
    "    return img"
   ]
  },
  {
   "cell_type": "code",
   "execution_count": 21,
   "metadata": {},
   "outputs": [],
   "source": [
    "# Affichage en OpenCV de la grille créée\n",
    "if UI==affichage.OpenCV:\n",
    "    cv2.imshow(\"img\", createImage(grid.map))\n",
    "    cv2.waitKey(5000) # Affichage pendant 5 secondes\n",
    "    cv2.destroyAllWindows()"
   ]
  },
  {
   "cell_type": "markdown",
   "metadata": {},
   "source": [
    "## Utilisation des procédures précédentes pour créer une nouvelle grille qui sera sauvegardée dans un fichier"
   ]
  },
  {
   "cell_type": "code",
   "execution_count": 22,
   "metadata": {},
   "outputs": [
    {
     "name": "stdout",
     "output_type": "stream",
     "text": [
      "(\"Initilisation de l'objet grille\",)\n"
     ]
    }
   ],
   "source": [
    "# Création d'une grille de 1024*1024\n",
    "debug = Debug(True)\n",
    "UI = affichage.Aucun\n",
    "\n",
    "X = 1024\n",
    "Y = 1024\n",
    "grid = Grille(X, Y, UI, debug)"
   ]
  },
  {
   "cell_type": "code",
   "execution_count": 23,
   "metadata": {},
   "outputs": [
    {
     "name": "stdout",
     "output_type": "stream",
     "text": [
      "(\"Création de l'obstacle (\", 11, 21, ') - (', 1, 34, ')')\n",
      "(\"Création de l'obstacle (\", 52, 54, ') - (', 76, 233, ')')\n",
      "(\"Création de l'obstacle (\", 103, 144, ') - (', 122, 346, ')')\n",
      "(\"Création de l'obstacle (\", 151, 242, ') - (', 256, 250, ')')\n",
      "(\"Création de l'obstacle (\", 201, 283, ') - (', 302, 382, ')')\n",
      "(\"Création de l'obstacle (\", 255, 281, ') - (', 337, 341, ')')\n",
      "(\"Création de l'obstacle (\", 304, 379, ') - (', 381, 331, ')')\n",
      "(\"Création de l'obstacle (\", 355, 396, ') - (', 351, 534, ')')\n",
      "(\"Création de l'obstacle (\", 404, 441, ') - (', 522, 649, ')')\n",
      "(\"Création de l'obstacle (\", 453, 486, ') - (', 554, 497, ')')\n",
      "(\"Création de l'obstacle (\", 509, 576, ') - (', 548, 598, ')')\n",
      "(\"Création de l'obstacle (\", 556, 638, ') - (', 577, 615, ')')\n",
      "(\"Création de l'obstacle (\", 604, 639, ') - (', 721, 841, ')')\n",
      "(\"Création de l'obstacle (\", 651, 722, ') - (', 684, 689, ')')\n",
      "(\"Création de l'obstacle (\", 716, 759, ') - (', 750, 768, ')')\n",
      "(\"Création de l'obstacle (\", 751, 773, ') - (', 915, 789, ')')\n",
      "(16, 'obstacles ont été créés')\n"
     ]
    }
   ],
   "source": [
    "# La grille contient 2^4 obstacles\n",
    "nb_obs = np.power(2,4)\n",
    "\n",
    "coordonnee = np.zeros((4,1), dtype=np.int)\n",
    "for i in range(nb_obs):\n",
    "    for j in range(4):\n",
    "        val_min = 1+50*i+np.random.randint(10)*10*j\n",
    "        if j%2 == 0:\n",
    "            val_max = min(1+val_min+np.random.randint(20), grid.Xmax)\n",
    "        else:\n",
    "            val_max = min(1+val_min+np.random.randint(20), grid.Ymax)\n",
    "        coordonnee[j] = np.random.randint(val_min, val_max)\n",
    "    \n",
    "    assert (int(coordonnee[0])>0 and int(coordonnee[2])>0)\n",
    "    assert (int(coordonnee[1])<X)\n",
    "    assert (int(coordonnee[3])<Y)\n",
    "    Obstacle(grid, int(coordonnee[0]), int(coordonnee[1]), int(coordonnee[2]), int(coordonnee[3]), debug)\n",
    "    \n",
    "debug.affiche(len(grid.obstacleList), \"obstacles ont été créés\")"
   ]
  },
  {
   "cell_type": "code",
   "execution_count": 24,
   "metadata": {},
   "outputs": [
    {
     "name": "stdout",
     "output_type": "stream",
     "text": [
      "('Création de la personne qui part de', 664, 582, 'pour aller à', 1023, 1023)\n",
      "('Création de la personne qui part de', 424, 998, 'pour aller à', 1023, 1023)\n",
      "('Création de la personne qui part de', 875, 749, 'pour aller à', 0, 1023)\n",
      "('Création de la personne qui part de', 788, 276, 'pour aller à', 1023, 0)\n",
      "('Création de la personne qui part de', 376, 148, 'pour aller à', 1023, 0)\n",
      "('Création de la personne qui part de', 124, 854, 'pour aller à', 0, 1023)\n",
      "('Création de la personne qui part de', 360, 726, 'pour aller à', 0, 0)\n",
      "('Création de la personne qui part de', 574, 996, 'pour aller à', 1023, 0)\n",
      "('Création de la personne qui part de', 741, 154, 'pour aller à', 1023, 1023)\n",
      "('Création de la personne qui part de', 728, 432, 'pour aller à', 0, 0)\n",
      "('Création de la personne qui part de', 987, 525, 'pour aller à', 0, 1023)\n",
      "('Création de la personne qui part de', 575, 732, 'pour aller à', 0, 1023)\n",
      "('Création de la personne qui part de', 813, 639, 'pour aller à', 0, 0)\n",
      "('Création de la personne qui part de', 184, 315, 'pour aller à', 0, 1023)\n",
      "('Création de la personne qui part de', 555, 403, 'pour aller à', 1023, 1023)\n",
      "('Création de la personne qui part de', 936, 486, 'pour aller à', 1023, 0)\n",
      "('Création de la personne qui part de', 893, 85, 'pour aller à', 0, 1023)\n",
      "('Création de la personne qui part de', 995, 786, 'pour aller à', 1023, 0)\n",
      "('Personne non créée, la place est occupée', 374, 510)\n",
      "('Création de la personne qui part de', 199, 507, 'pour aller à', 1023, 0)\n",
      "('Création de la personne qui part de', 53, 818, 'pour aller à', 1023, 0)\n",
      "('Création de la personne qui part de', 643, 22, 'pour aller à', 1023, 1023)\n",
      "('Création de la personne qui part de', 702, 510, 'pour aller à', 0, 0)\n",
      "('Création de la personne qui part de', 372, 719, 'pour aller à', 0, 1023)\n",
      "('Création de la personne qui part de', 614, 339, 'pour aller à', 0, 0)\n",
      "('Création de la personne qui part de', 46, 773, 'pour aller à', 0, 1023)\n",
      "('Personne non créée, la place est occupée', 270, 326)\n",
      "('Création de la personne qui part de', 336, 134, 'pour aller à', 0, 0)\n",
      "('Création de la personne qui part de', 63, 854, 'pour aller à', 1023, 0)\n",
      "('Création de la personne qui part de', 644, 21, 'pour aller à', 1023, 1023)\n",
      "('Création de la personne qui part de', 983, 646, 'pour aller à', 1023, 0)\n",
      "('Création de la personne qui part de', 179, 47, 'pour aller à', 1023, 0)\n",
      "('Création de la personne qui part de', 789, 755, 'pour aller à', 1023, 0)\n",
      "('Création de la personne qui part de', 151, 46, 'pour aller à', 0, 1023)\n",
      "('Création de la personne qui part de', 14, 300, 'pour aller à', 1023, 0)\n",
      "('Création de la personne qui part de', 649, 515, 'pour aller à', 0, 1023)\n",
      "('Création de la personne qui part de', 970, 257, 'pour aller à', 0, 1023)\n",
      "('Création de la personne qui part de', 445, 484, 'pour aller à', 0, 1023)\n",
      "('Création de la personne qui part de', 620, 502, 'pour aller à', 0, 0)\n",
      "('Création de la personne qui part de', 29, 97, 'pour aller à', 1023, 1023)\n",
      "('Création de la personne qui part de', 187, 48, 'pour aller à', 1023, 0)\n",
      "('Création de la personne qui part de', 363, 682, 'pour aller à', 1023, 0)\n",
      "('Création de la personne qui part de', 958, 770, 'pour aller à', 1023, 1023)\n",
      "('Création de la personne qui part de', 227, 652, 'pour aller à', 0, 1023)\n",
      "('Création de la personne qui part de', 12, 301, 'pour aller à', 0, 1023)\n",
      "('Création de la personne qui part de', 929, 593, 'pour aller à', 1023, 0)\n",
      "('Création de la personne qui part de', 509, 770, 'pour aller à', 1023, 1023)\n",
      "('Création de la personne qui part de', 900, 287, 'pour aller à', 1023, 0)\n",
      "('Création de la personne qui part de', 3, 911, 'pour aller à', 1023, 0)\n",
      "('Création de la personne qui part de', 270, 32, 'pour aller à', 1023, 1023)\n",
      "('Création de la personne qui part de', 884, 925, 'pour aller à', 1023, 0)\n",
      "('Création de la personne qui part de', 777, 659, 'pour aller à', 0, 1023)\n",
      "('Création de la personne qui part de', 399, 477, 'pour aller à', 0, 0)\n",
      "('Création de la personne qui part de', 735, 747, 'pour aller à', 1023, 0)\n",
      "('Création de la personne qui part de', 782, 563, 'pour aller à', 0, 0)\n",
      "('Création de la personne qui part de', 640, 536, 'pour aller à', 0, 1023)\n",
      "('Création de la personne qui part de', 559, 902, 'pour aller à', 1023, 0)\n",
      "('Création de la personne qui part de', 932, 894, 'pour aller à', 1023, 0)\n",
      "('Création de la personne qui part de', 839, 126, 'pour aller à', 0, 0)\n",
      "('Création de la personne qui part de', 977, 432, 'pour aller à', 1023, 1023)\n",
      "('Création de la personne qui part de', 160, 196, 'pour aller à', 1023, 1023)\n",
      "('Création de la personne qui part de', 514, 78, 'pour aller à', 1023, 1023)\n",
      "('Création de la personne qui part de', 743, 883, 'pour aller à', 1023, 0)\n",
      "('Création de la personne qui part de', 642, 255, 'pour aller à', 1023, 1023)\n",
      "('Création de la personne qui part de', 419, 58, 'pour aller à', 1023, 0)\n",
      "('Personne non créée, la place est occupée', 559, 579)\n",
      "('Création de la personne qui part de', 770, 785, 'pour aller à', 0, 0)\n",
      "('Création de la personne qui part de', 314, 857, 'pour aller à', 1023, 0)\n",
      "('Création de la personne qui part de', 1006, 128, 'pour aller à', 1023, 1023)\n",
      "('Création de la personne qui part de', 647, 578, 'pour aller à', 1023, 1023)\n",
      "('Création de la personne qui part de', 121, 20, 'pour aller à', 1023, 1023)\n",
      "('Création de la personne qui part de', 1013, 330, 'pour aller à', 1023, 0)\n",
      "('Création de la personne qui part de', 61, 141, 'pour aller à', 0, 1023)\n",
      "('Création de la personne qui part de', 295, 979, 'pour aller à', 1023, 0)\n",
      "('Création de la personne qui part de', 828, 530, 'pour aller à', 1023, 0)\n",
      "('Création de la personne qui part de', 152, 197, 'pour aller à', 0, 1023)\n",
      "('Création de la personne qui part de', 796, 428, 'pour aller à', 0, 1023)\n",
      "('Création de la personne qui part de', 836, 723, 'pour aller à', 1023, 0)\n",
      "('Création de la personne qui part de', 166, 565, 'pour aller à', 1023, 0)\n",
      "('Création de la personne qui part de', 816, 90, 'pour aller à', 0, 0)\n",
      "('Création de la personne qui part de', 983, 981, 'pour aller à', 1023, 1023)\n",
      "('Création de la personne qui part de', 657, 649, 'pour aller à', 0, 1023)\n",
      "('Création de la personne qui part de', 591, 176, 'pour aller à', 0, 0)\n",
      "('Création de la personne qui part de', 373, 109, 'pour aller à', 1023, 0)\n",
      "('Création de la personne qui part de', 419, 893, 'pour aller à', 0, 0)\n",
      "('Création de la personne qui part de', 704, 736, 'pour aller à', 0, 0)\n",
      "('Création de la personne qui part de', 379, 298, 'pour aller à', 0, 0)\n",
      "('Création de la personne qui part de', 412, 870, 'pour aller à', 0, 0)\n",
      "('Création de la personne qui part de', 229, 127, 'pour aller à', 0, 1023)\n",
      "('Personne non créée, la place est occupée', 609, 581)\n",
      "('Création de la personne qui part de', 906, 955, 'pour aller à', 1023, 0)\n",
      "('Création de la personne qui part de', 968, 336, 'pour aller à', 1023, 1023)\n",
      "('Création de la personne qui part de', 492, 815, 'pour aller à', 0, 0)\n",
      "('Création de la personne qui part de', 245, 819, 'pour aller à', 0, 1023)\n",
      "('Création de la personne qui part de', 264, 95, 'pour aller à', 0, 0)\n",
      "('Création de la personne qui part de', 972, 945, 'pour aller à', 1023, 1023)\n",
      "('Création de la personne qui part de', 600, 554, 'pour aller à', 1023, 1023)\n",
      "('Création de la personne qui part de', 90, 854, 'pour aller à', 0, 1023)\n",
      "('Création de la personne qui part de', 559, 661, 'pour aller à', 0, 0)\n",
      "('Création de la personne qui part de', 791, 592, 'pour aller à', 0, 0)\n",
      "('Création de la personne qui part de', 533, 758, 'pour aller à', 1023, 0)\n",
      "('Création de la personne qui part de', 742, 868, 'pour aller à', 0, 1023)\n",
      "('Création de la personne qui part de', 183, 453, 'pour aller à', 1023, 0)\n",
      "('Création de la personne qui part de', 919, 964, 'pour aller à', 1023, 1023)\n",
      "('Création de la personne qui part de', 319, 934, 'pour aller à', 1023, 0)\n",
      "('Création de la personne qui part de', 335, 984, 'pour aller à', 0, 0)\n",
      "('Création de la personne qui part de', 21, 497, 'pour aller à', 1023, 1023)\n",
      "('Création de la personne qui part de', 600, 750, 'pour aller à', 1023, 0)\n",
      "('Création de la personne qui part de', 223, 781, 'pour aller à', 1023, 0)\n",
      "('Création de la personne qui part de', 552, 790, 'pour aller à', 1023, 0)\n",
      "('Création de la personne qui part de', 644, 634, 'pour aller à', 1023, 1023)\n",
      "('Création de la personne qui part de', 486, 282, 'pour aller à', 0, 1023)\n",
      "('Création de la personne qui part de', 594, 207, 'pour aller à', 1023, 1023)\n",
      "('Création de la personne qui part de', 745, 476, 'pour aller à', 0, 0)\n",
      "('Création de la personne qui part de', 973, 372, 'pour aller à', 1023, 0)\n",
      "('Création de la personne qui part de', 725, 375, 'pour aller à', 1023, 1023)\n",
      "('Création de la personne qui part de', 925, 578, 'pour aller à', 0, 1023)\n",
      "('Création de la personne qui part de', 78, 265, 'pour aller à', 1023, 0)\n",
      "('Création de la personne qui part de', 666, 524, 'pour aller à', 0, 1023)\n",
      "('Création de la personne qui part de', 437, 441, 'pour aller à', 0, 1023)\n",
      "('Création de la personne qui part de', 995, 638, 'pour aller à', 0, 0)\n",
      "('Création de la personne qui part de', 678, 969, 'pour aller à', 0, 0)\n",
      "('Création de la personne qui part de', 482, 200, 'pour aller à', 1023, 0)\n",
      "('Création de la personne qui part de', 803, 457, 'pour aller à', 1023, 1023)\n",
      "('Création de la personne qui part de', 462, 91, 'pour aller à', 1023, 0)\n",
      "('Création de la personne qui part de', 884, 585, 'pour aller à', 1023, 0)\n",
      "('Création de la personne qui part de', 78, 114, 'pour aller à', 0, 1023)\n",
      "('Création de la personne qui part de', 650, 265, 'pour aller à', 1023, 1023)\n",
      "('Création de la personne qui part de', 5, 695, 'pour aller à', 1023, 0)\n",
      "('Création de la personne qui part de', 479, 889, 'pour aller à', 0, 0)\n",
      "('Création de la personne qui part de', 496, 416, 'pour aller à', 0, 1023)\n",
      "('Création de la personne qui part de', 116, 768, 'pour aller à', 1023, 1023)\n",
      "('Création de la personne qui part de', 714, 243, 'pour aller à', 1023, 1023)\n",
      "('Création de la personne qui part de', 713, 471, 'pour aller à', 1023, 0)\n",
      "('Création de la personne qui part de', 686, 721, 'pour aller à', 0, 1023)\n",
      "('Création de la personne qui part de', 741, 260, 'pour aller à', 0, 0)\n",
      "('Création de la personne qui part de', 688, 286, 'pour aller à', 0, 0)\n",
      "('Création de la personne qui part de', 449, 418, 'pour aller à', 1023, 1023)\n",
      "('Création de la personne qui part de', 802, 916, 'pour aller à', 0, 1023)\n",
      "('Création de la personne qui part de', 825, 173, 'pour aller à', 1023, 0)\n",
      "('Création de la personne qui part de', 469, 541, 'pour aller à', 0, 0)\n",
      "('Création de la personne qui part de', 335, 1000, 'pour aller à', 0, 0)\n",
      "('Création de la personne qui part de', 824, 642, 'pour aller à', 0, 1023)\n",
      "('Création de la personne qui part de', 417, 911, 'pour aller à', 0, 0)\n",
      "('Création de la personne qui part de', 149, 101, 'pour aller à', 0, 1023)\n",
      "('Création de la personne qui part de', 709, 1014, 'pour aller à', 0, 0)\n",
      "('Création de la personne qui part de', 988, 778, 'pour aller à', 1023, 0)\n",
      "('Création de la personne qui part de', 542, 663, 'pour aller à', 0, 0)\n",
      "('Création de la personne qui part de', 647, 785, 'pour aller à', 1023, 1023)\n",
      "('Création de la personne qui part de', 505, 864, 'pour aller à', 1023, 0)\n",
      "('Création de la personne qui part de', 361, 1018, 'pour aller à', 1023, 1023)\n",
      "('Création de la personne qui part de', 309, 60, 'pour aller à', 0, 0)\n",
      "('Création de la personne qui part de', 929, 642, 'pour aller à', 0, 0)\n",
      "('Création de la personne qui part de', 345, 833, 'pour aller à', 0, 1023)\n",
      "('Création de la personne qui part de', 171, 221, 'pour aller à', 0, 0)\n",
      "('Création de la personne qui part de', 921, 987, 'pour aller à', 0, 1023)\n",
      "('Création de la personne qui part de', 819, 524, 'pour aller à', 0, 0)\n",
      "('Création de la personne qui part de', 698, 415, 'pour aller à', 0, 1023)\n",
      "('Création de la personne qui part de', 99, 972, 'pour aller à', 0, 1023)\n",
      "('Création de la personne qui part de', 329, 29, 'pour aller à', 1023, 0)\n",
      "('Création de la personne qui part de', 88, 942, 'pour aller à', 1023, 0)\n",
      "('Création de la personne qui part de', 662, 125, 'pour aller à', 1023, 0)\n",
      "('Création de la personne qui part de', 46, 269, 'pour aller à', 1023, 0)\n",
      "('Création de la personne qui part de', 503, 775, 'pour aller à', 1023, 1023)\n",
      "('Création de la personne qui part de', 1020, 1001, 'pour aller à', 1023, 0)\n",
      "('Création de la personne qui part de', 833, 802, 'pour aller à', 1023, 0)\n",
      "('Personne non créée, la place est occupée', 356, 422)\n",
      "('Création de la personne qui part de', 181, 815, 'pour aller à', 1023, 1023)\n",
      "('Création de la personne qui part de', 474, 818, 'pour aller à', 1023, 1023)\n",
      "('Création de la personne qui part de', 912, 779, 'pour aller à', 0, 1023)\n",
      "('Création de la personne qui part de', 697, 272, 'pour aller à', 0, 0)\n",
      "('Personne non créée, la place est occupée', 253, 302)\n",
      "('Création de la personne qui part de', 840, 89, 'pour aller à', 1023, 1023)\n",
      "('Création de la personne qui part de', 892, 611, 'pour aller à', 0, 0)\n",
      "('Création de la personne qui part de', 852, 281, 'pour aller à', 1023, 1023)\n",
      "('Création de la personne qui part de', 540, 52, 'pour aller à', 0, 1023)\n",
      "('Création de la personne qui part de', 918, 12, 'pour aller à', 0, 0)\n",
      "('Création de la personne qui part de', 268, 710, 'pour aller à', 1023, 0)\n",
      "('Création de la personne qui part de', 802, 133, 'pour aller à', 0, 1023)\n",
      "('Création de la personne qui part de', 399, 522, 'pour aller à', 0, 1023)\n",
      "('Création de la personne qui part de', 196, 543, 'pour aller à', 0, 0)\n",
      "('Création de la personne qui part de', 455, 617, 'pour aller à', 1023, 0)\n",
      "('Création de la personne qui part de', 536, 832, 'pour aller à', 0, 1023)\n",
      "('Création de la personne qui part de', 113, 93, 'pour aller à', 1023, 1023)\n",
      "('Création de la personne qui part de', 947, 391, 'pour aller à', 1023, 0)\n",
      "('Création de la personne qui part de', 780, 861, 'pour aller à', 1023, 0)\n",
      "('Création de la personne qui part de', 445, 785, 'pour aller à', 1023, 0)\n",
      "('Création de la personne qui part de', 30, 580, 'pour aller à', 1023, 0)\n",
      "('Création de la personne qui part de', 428, 246, 'pour aller à', 1023, 1023)\n",
      "('Création de la personne qui part de', 466, 598, 'pour aller à', 0, 1023)\n",
      "('Création de la personne qui part de', 745, 967, 'pour aller à', 0, 0)\n",
      "('Création de la personne qui part de', 232, 554, 'pour aller à', 1023, 0)\n",
      "('Création de la personne qui part de', 742, 171, 'pour aller à', 1023, 1023)\n",
      "('Création de la personne qui part de', 347, 236, 'pour aller à', 0, 0)\n",
      "('Création de la personne qui part de', 797, 916, 'pour aller à', 0, 1023)\n",
      "('Création de la personne qui part de', 319, 430, 'pour aller à', 0, 0)\n",
      "('Création de la personne qui part de', 392, 180, 'pour aller à', 0, 0)\n",
      "('Personne non créée, la place est occupée', 429, 575)\n",
      "('Création de la personne qui part de', 471, 813, 'pour aller à', 0, 0)\n",
      "('Création de la personne qui part de', 390, 726, 'pour aller à', 0, 1023)\n",
      "('Création de la personne qui part de', 625, 124, 'pour aller à', 1023, 0)\n",
      "('Création de la personne qui part de', 10, 658, 'pour aller à', 0, 0)\n",
      "('Création de la personne qui part de', 550, 702, 'pour aller à', 0, 0)\n",
      "('Création de la personne qui part de', 364, 902, 'pour aller à', 1023, 0)\n",
      "('Création de la personne qui part de', 21, 427, 'pour aller à', 0, 0)\n",
      "('Création de la personne qui part de', 12, 1023, 'pour aller à', 0, 0)\n",
      "('Création de la personne qui part de', 813, 20, 'pour aller à', 0, 0)\n",
      "('Création de la personne qui part de', 530, 287, 'pour aller à', 0, 0)\n",
      "('Création de la personne qui part de', 906, 574, 'pour aller à', 0, 0)\n",
      "('Création de la personne qui part de', 65, 682, 'pour aller à', 0, 0)\n",
      "('Création de la personne qui part de', 1013, 369, 'pour aller à', 0, 1023)\n",
      "('Personne non créée, la place est occupée', 54, 81)\n",
      "('Création de la personne qui part de', 333, 768, 'pour aller à', 0, 1023)\n",
      "('Création de la personne qui part de', 463, 559, 'pour aller à', 1023, 0)\n",
      "('Création de la personne qui part de', 906, 339, 'pour aller à', 0, 1023)\n",
      "('Création de la personne qui part de', 250, 761, 'pour aller à', 1023, 0)\n",
      "('Création de la personne qui part de', 351, 816, 'pour aller à', 1023, 1023)\n",
      "('Création de la personne qui part de', 61, 534, 'pour aller à', 1023, 1023)\n",
      "('Création de la personne qui part de', 622, 711, 'pour aller à', 1023, 1023)\n",
      "('Création de la personne qui part de', 901, 184, 'pour aller à', 1023, 1023)\n",
      "('Création de la personne qui part de', 48, 860, 'pour aller à', 0, 1023)\n",
      "('Création de la personne qui part de', 742, 299, 'pour aller à', 1023, 1023)\n",
      "('Création de la personne qui part de', 372, 172, 'pour aller à', 0, 0)\n",
      "('Création de la personne qui part de', 841, 615, 'pour aller à', 1023, 0)\n",
      "('Création de la personne qui part de', 1, 714, 'pour aller à', 0, 1023)\n",
      "('Personne non créée, la place est occupée', 432, 615)\n",
      "('Création de la personne qui part de', 306, 927, 'pour aller à', 0, 0)\n",
      "('Création de la personne qui part de', 1016, 49, 'pour aller à', 0, 1023)\n",
      "('Personne non créée, la place est occupée', 593, 614)\n",
      "('Création de la personne qui part de', 18, 350, 'pour aller à', 1023, 0)\n",
      "('Création de la personne qui part de', 931, 554, 'pour aller à', 1023, 1023)\n",
      "('Création de la personne qui part de', 826, 177, 'pour aller à', 0, 1023)\n",
      "('Création de la personne qui part de', 486, 166, 'pour aller à', 1023, 1023)\n",
      "('Création de la personne qui part de', 119, 448, 'pour aller à', 0, 0)\n",
      "('Création de la personne qui part de', 266, 9, 'pour aller à', 1023, 1023)\n",
      "('Création de la personne qui part de', 613, 655, 'pour aller à', 0, 1023)\n",
      "('Création de la personne qui part de', 301, 1015, 'pour aller à', 0, 0)\n",
      "('Création de la personne qui part de', 191, 987, 'pour aller à', 1023, 1023)\n",
      "('Création de la personne qui part de', 76, 121, 'pour aller à', 1023, 1023)\n",
      "('Création de la personne qui part de', 492, 917, 'pour aller à', 0, 0)\n",
      "('Création de la personne qui part de', 199, 908, 'pour aller à', 1023, 1023)\n",
      "('Création de la personne qui part de', 901, 147, 'pour aller à', 0, 0)\n",
      "('Création de la personne qui part de', 638, 701, 'pour aller à', 1023, 0)\n",
      "('Création de la personne qui part de', 963, 904, 'pour aller à', 0, 0)\n",
      "('Création de la personne qui part de', 1000, 924, 'pour aller à', 1023, 1023)\n",
      "('Création de la personne qui part de', 57, 304, 'pour aller à', 1023, 0)\n",
      "('Création de la personne qui part de', 156, 266, 'pour aller à', 1023, 1023)\n",
      "('Création de la personne qui part de', 930, 924, 'pour aller à', 1023, 1023)\n",
      "('Création de la personne qui part de', 765, 814, 'pour aller à', 1023, 0)\n",
      "('Création de la personne qui part de', 978, 522, 'pour aller à', 0, 0)\n",
      "('Personne non créée, la place est occupée', 131, 288)\n",
      "('Personne non créée, la place est occupée', 238, 339)\n",
      "('Création de la personne qui part de', 370, 8, 'pour aller à', 0, 1023)\n",
      "('Création de la personne qui part de', 469, 213, 'pour aller à', 0, 0)\n",
      "('Création de la personne qui part de', 567, 949, 'pour aller à', 1023, 0)\n",
      "('Création de la personne qui part de', 72, 856, 'pour aller à', 1023, 1023)\n",
      "('Création de la personne qui part de', 138, 367, 'pour aller à', 1023, 1023)\n",
      "('Création de la personne qui part de', 963, 128, 'pour aller à', 1023, 1023)\n",
      "('Création de la personne qui part de', 978, 978, 'pour aller à', 1023, 0)\n",
      "('Création de la personne qui part de', 62, 117, 'pour aller à', 0, 1023)\n",
      "('Création de la personne qui part de', 930, 761, 'pour aller à', 0, 0)\n",
      "('Création de la personne qui part de', 799, 674, 'pour aller à', 1023, 0)\n",
      "('Création de la personne qui part de', 69, 807, 'pour aller à', 1023, 1023)\n",
      "('Création de la personne qui part de', 624, 346, 'pour aller à', 1023, 1023)\n",
      "('Création de la personne qui part de', 408, 501, 'pour aller à', 0, 0)\n",
      "('Création de la personne qui part de', 17, 113, 'pour aller à', 1023, 0)\n",
      "('Création de la personne qui part de', 726, 28, 'pour aller à', 0, 0)\n",
      "('Création de la personne qui part de', 101, 648, 'pour aller à', 0, 1023)\n",
      "('Création de la personne qui part de', 727, 988, 'pour aller à', 0, 1023)\n",
      "('Création de la personne qui part de', 173, 801, 'pour aller à', 0, 0)\n",
      "('Création de la personne qui part de', 293, 832, 'pour aller à', 0, 0)\n",
      "('Création de la personne qui part de', 321, 99, 'pour aller à', 0, 0)\n",
      "('Création de la personne qui part de', 510, 390, 'pour aller à', 0, 0)\n",
      "('Création de la personne qui part de', 344, 56, 'pour aller à', 0, 0)\n",
      "('Création de la personne qui part de', 753, 26, 'pour aller à', 0, 1023)\n",
      "('Création de la personne qui part de', 760, 390, 'pour aller à', 0, 1023)\n",
      "('Création de la personne qui part de', 169, 990, 'pour aller à', 1023, 1023)\n",
      "('Création de la personne qui part de', 627, 905, 'pour aller à', 0, 0)\n",
      "('Création de la personne qui part de', 765, 666, 'pour aller à', 0, 1023)\n",
      "('Création de la personne qui part de', 330, 285, 'pour aller à', 1023, 0)\n",
      "('Création de la personne qui part de', 95, 671, 'pour aller à', 1023, 0)\n",
      "('Création de la personne qui part de', 323, 872, 'pour aller à', 0, 1023)\n",
      "('Création de la personne qui part de', 511, 750, 'pour aller à', 0, 1023)\n",
      "('Création de la personne qui part de', 433, 31, 'pour aller à', 1023, 0)\n",
      "('Création de la personne qui part de', 957, 115, 'pour aller à', 0, 1023)\n",
      "('Création de la personne qui part de', 771, 627, 'pour aller à', 1023, 0)\n",
      "('Création de la personne qui part de', 592, 60, 'pour aller à', 1023, 1023)\n",
      "('Personne non créée, la place est occupée', 375, 531)\n",
      "('Création de la personne qui part de', 242, 432, 'pour aller à', 0, 1023)\n",
      "('Création de la personne qui part de', 307, 908, 'pour aller à', 1023, 0)\n",
      "('Création de la personne qui part de', 405, 887, 'pour aller à', 1023, 1023)\n",
      "('Création de la personne qui part de', 968, 183, 'pour aller à', 0, 1023)\n",
      "('Création de la personne qui part de', 81, 97, 'pour aller à', 0, 0)\n",
      "('Création de la personne qui part de', 457, 385, 'pour aller à', 1023, 1023)\n",
      "('Création de la personne qui part de', 433, 931, 'pour aller à', 0, 1023)\n",
      "('Création de la personne qui part de', 50, 456, 'pour aller à', 0, 1023)\n",
      "('Création de la personne qui part de', 89, 558, 'pour aller à', 0, 1023)\n",
      "('Création de la personne qui part de', 265, 737, 'pour aller à', 0, 0)\n",
      "('Création de la personne qui part de', 822, 232, 'pour aller à', 0, 1023)\n",
      "('Création de la personne qui part de', 527, 451, 'pour aller à', 0, 0)\n",
      "('Création de la personne qui part de', 502, 206, 'pour aller à', 1023, 1023)\n",
      "('Création de la personne qui part de', 295, 645, 'pour aller à', 1023, 1023)\n",
      "('Création de la personne qui part de', 989, 572, 'pour aller à', 1023, 1023)\n",
      "('Création de la personne qui part de', 460, 252, 'pour aller à', 1023, 1023)\n",
      "('Création de la personne qui part de', 827, 407, 'pour aller à', 0, 1023)\n",
      "('Création de la personne qui part de', 713, 528, 'pour aller à', 0, 0)\n",
      "('Création de la personne qui part de', 644, 617, 'pour aller à', 1023, 0)\n",
      "('Création de la personne qui part de', 32, 62, 'pour aller à', 1023, 0)\n",
      "('Création de la personne qui part de', 786, 773, 'pour aller à', 1023, 1023)\n",
      "('Création de la personne qui part de', 425, 360, 'pour aller à', 0, 0)\n",
      "('Création de la personne qui part de', 91, 316, 'pour aller à', 0, 1023)\n",
      "('Création de la personne qui part de', 230, 492, 'pour aller à', 1023, 0)\n",
      "('Création de la personne qui part de', 560, 217, 'pour aller à', 0, 0)\n",
      "('Création de la personne qui part de', 38, 22, 'pour aller à', 1023, 0)\n",
      "('Création de la personne qui part de', 989, 584, 'pour aller à', 1023, 1023)\n",
      "('Création de la personne qui part de', 167, 727, 'pour aller à', 1023, 0)\n",
      "('Création de la personne qui part de', 844, 497, 'pour aller à', 0, 0)\n",
      "('Création de la personne qui part de', 808, 31, 'pour aller à', 0, 0)\n",
      "('Création de la personne qui part de', 666, 780, 'pour aller à', 1023, 1023)\n",
      "('Création de la personne qui part de', 207, 631, 'pour aller à', 0, 1023)\n",
      "('Création de la personne qui part de', 9, 225, 'pour aller à', 1023, 1023)\n",
      "('Création de la personne qui part de', 60, 760, 'pour aller à', 0, 1023)\n",
      "('Création de la personne qui part de', 716, 542, 'pour aller à', 0, 0)\n",
      "('Création de la personne qui part de', 725, 156, 'pour aller à', 1023, 1023)\n",
      "('Création de la personne qui part de', 662, 682, 'pour aller à', 0, 1023)\n",
      "('Création de la personne qui part de', 42, 512, 'pour aller à', 1023, 0)\n",
      "('Création de la personne qui part de', 343, 823, 'pour aller à', 0, 1023)\n",
      "('Création de la personne qui part de', 872, 201, 'pour aller à', 0, 0)\n",
      "('Création de la personne qui part de', 442, 388, 'pour aller à', 1023, 0)\n",
      "('Création de la personne qui part de', 931, 83, 'pour aller à', 0, 1023)\n",
      "('Création de la personne qui part de', 747, 667, 'pour aller à', 0, 1023)\n",
      "('Création de la personne qui part de', 133, 778, 'pour aller à', 1023, 0)\n",
      "('Création de la personne qui part de', 494, 481, 'pour aller à', 0, 1023)\n",
      "('Création de la personne qui part de', 860, 640, 'pour aller à', 0, 1023)\n",
      "('Création de la personne qui part de', 577, 111, 'pour aller à', 0, 1023)\n",
      "('Création de la personne qui part de', 422, 923, 'pour aller à', 1023, 1023)\n",
      "('Création de la personne qui part de', 789, 568, 'pour aller à', 1023, 1023)\n",
      "('Création de la personne qui part de', 51, 21, 'pour aller à', 1023, 0)\n",
      "('Création de la personne qui part de', 26, 186, 'pour aller à', 1023, 0)\n",
      "('Création de la personne qui part de', 231, 663, 'pour aller à', 0, 0)\n",
      "('Création de la personne qui part de', 208, 638, 'pour aller à', 1023, 0)\n",
      "('Création de la personne qui part de', 876, 600, 'pour aller à', 1023, 0)\n",
      "('Création de la personne qui part de', 642, 597, 'pour aller à', 0, 0)\n",
      "('Création de la personne qui part de', 488, 55, 'pour aller à', 0, 0)\n",
      "('Création de la personne qui part de', 329, 916, 'pour aller à', 0, 0)\n",
      "('Création de la personne qui part de', 934, 317, 'pour aller à', 0, 0)\n",
      "('Création de la personne qui part de', 197, 908, 'pour aller à', 1023, 1023)\n",
      "('Création de la personne qui part de', 42, 910, 'pour aller à', 0, 1023)\n",
      "('Création de la personne qui part de', 822, 896, 'pour aller à', 1023, 1023)\n",
      "('Création de la personne qui part de', 677, 261, 'pour aller à', 1023, 0)\n",
      "('Création de la personne qui part de', 845, 111, 'pour aller à', 1023, 1023)\n",
      "('Création de la personne qui part de', 168, 4, 'pour aller à', 1023, 0)\n",
      "('Création de la personne qui part de', 51, 23, 'pour aller à', 1023, 1023)\n",
      "('Création de la personne qui part de', 27, 406, 'pour aller à', 0, 0)\n",
      "('Création de la personne qui part de', 172, 178, 'pour aller à', 1023, 1023)\n",
      "('Création de la personne qui part de', 987, 312, 'pour aller à', 1023, 1023)\n",
      "('Création de la personne qui part de', 113, 1000, 'pour aller à', 0, 1023)\n",
      "('Création de la personne qui part de', 85, 868, 'pour aller à', 0, 1023)\n",
      "('Création de la personne qui part de', 193, 43, 'pour aller à', 0, 1023)\n",
      "('Création de la personne qui part de', 692, 463, 'pour aller à', 1023, 0)\n",
      "('Création de la personne qui part de', 341, 774, 'pour aller à', 0, 0)\n",
      "('Création de la personne qui part de', 964, 658, 'pour aller à', 1023, 1023)\n",
      "('Création de la personne qui part de', 931, 300, 'pour aller à', 1023, 1023)\n",
      "('Création de la personne qui part de', 280, 854, 'pour aller à', 1023, 1023)\n",
      "('Création de la personne qui part de', 568, 343, 'pour aller à', 1023, 0)\n",
      "('Création de la personne qui part de', 383, 71, 'pour aller à', 1023, 0)\n",
      "('Création de la personne qui part de', 748, 228, 'pour aller à', 0, 1023)\n",
      "('Création de la personne qui part de', 292, 334, 'pour aller à', 0, 1023)\n",
      "('Création de la personne qui part de', 387, 695, 'pour aller à', 1023, 0)\n",
      "('Création de la personne qui part de', 791, 729, 'pour aller à', 1023, 1023)\n",
      "('Création de la personne qui part de', 915, 383, 'pour aller à', 0, 0)\n",
      "('Création de la personne qui part de', 108, 1017, 'pour aller à', 1023, 0)\n",
      "('Création de la personne qui part de', 218, 662, 'pour aller à', 1023, 1023)\n",
      "('Création de la personne qui part de', 893, 806, 'pour aller à', 0, 1023)\n",
      "('Création de la personne qui part de', 613, 125, 'pour aller à', 1023, 1023)\n",
      "('Création de la personne qui part de', 468, 404, 'pour aller à', 0, 1023)\n",
      "('Création de la personne qui part de', 495, 883, 'pour aller à', 0, 0)\n",
      "('Création de la personne qui part de', 979, 963, 'pour aller à', 1023, 1023)\n",
      "('Personne non créée, la place est occupée', 120, 292)\n",
      "('Création de la personne qui part de', 364, 737, 'pour aller à', 0, 0)\n",
      "('Création de la personne qui part de', 791, 214, 'pour aller à', 1023, 1023)\n",
      "('Création de la personne qui part de', 757, 133, 'pour aller à', 1023, 1023)\n",
      "('Création de la personne qui part de', 642, 49, 'pour aller à', 0, 0)\n",
      "('Création de la personne qui part de', 313, 757, 'pour aller à', 1023, 0)\n",
      "('Création de la personne qui part de', 65, 534, 'pour aller à', 1023, 0)\n",
      "('Création de la personne qui part de', 925, 5, 'pour aller à', 1023, 1023)\n",
      "('Création de la personne qui part de', 323, 595, 'pour aller à', 1023, 0)\n",
      "('Création de la personne qui part de', 1016, 599, 'pour aller à', 0, 1023)\n",
      "('Création de la personne qui part de', 897, 450, 'pour aller à', 0, 0)\n",
      "('Création de la personne qui part de', 911, 446, 'pour aller à', 0, 0)\n",
      "('Création de la personne qui part de', 935, 853, 'pour aller à', 1023, 0)\n",
      "('Création de la personne qui part de', 913, 66, 'pour aller à', 1023, 0)\n",
      "('Création de la personne qui part de', 267, 657, 'pour aller à', 1023, 1023)\n",
      "('Création de la personne qui part de', 711, 90, 'pour aller à', 0, 0)\n",
      "('Création de la personne qui part de', 832, 893, 'pour aller à', 0, 0)\n",
      "('Création de la personne qui part de', 785, 283, 'pour aller à', 0, 1023)\n",
      "('Création de la personne qui part de', 460, 629, 'pour aller à', 0, 0)\n",
      "('Création de la personne qui part de', 797, 299, 'pour aller à', 1023, 0)\n",
      "('Création de la personne qui part de', 751, 282, 'pour aller à', 1023, 1023)\n",
      "('Création de la personne qui part de', 955, 936, 'pour aller à', 1023, 0)\n",
      "('Création de la personne qui part de', 285, 958, 'pour aller à', 0, 1023)\n",
      "('Création de la personne qui part de', 223, 861, 'pour aller à', 0, 0)\n",
      "('Création de la personne qui part de', 711, 758, 'pour aller à', 1023, 1023)\n",
      "('Création de la personne qui part de', 748, 483, 'pour aller à', 1023, 1023)\n",
      "('Création de la personne qui part de', 270, 815, 'pour aller à', 1023, 1023)\n",
      "('Création de la personne qui part de', 468, 837, 'pour aller à', 1023, 1023)\n",
      "('Création de la personne qui part de', 547, 1016, 'pour aller à', 0, 0)\n",
      "('Création de la personne qui part de', 837, 151, 'pour aller à', 0, 0)\n",
      "('Création de la personne qui part de', 189, 867, 'pour aller à', 1023, 0)\n",
      "('Création de la personne qui part de', 380, 297, 'pour aller à', 0, 1023)\n",
      "('Création de la personne qui part de', 240, 480, 'pour aller à', 0, 1023)\n",
      "('Création de la personne qui part de', 386, 282, 'pour aller à', 0, 1023)\n",
      "('Création de la personne qui part de', 502, 240, 'pour aller à', 1023, 1023)\n",
      "('Création de la personne qui part de', 750, 971, 'pour aller à', 1023, 1023)\n",
      "('Création de la personne qui part de', 400, 194, 'pour aller à', 0, 1023)\n",
      "('Création de la personne qui part de', 179, 445, 'pour aller à', 0, 1023)\n",
      "('Création de la personne qui part de', 976, 211, 'pour aller à', 0, 0)\n",
      "('Création de la personne qui part de', 3, 760, 'pour aller à', 0, 1023)\n",
      "('Création de la personne qui part de', 63, 74, 'pour aller à', 1023, 0)\n",
      "('Création de la personne qui part de', 718, 368, 'pour aller à', 1023, 1023)\n",
      "('Création de la personne qui part de', 931, 163, 'pour aller à', 0, 1023)\n",
      "('Création de la personne qui part de', 252, 915, 'pour aller à', 0, 0)\n",
      "('Création de la personne qui part de', 523, 922, 'pour aller à', 0, 0)\n",
      "('Création de la personne qui part de', 541, 820, 'pour aller à', 0, 1023)\n",
      "('Création de la personne qui part de', 677, 677, 'pour aller à', 0, 0)\n",
      "('Création de la personne qui part de', 690, 419, 'pour aller à', 1023, 0)\n",
      "('Création de la personne qui part de', 759, 372, 'pour aller à', 1023, 1023)\n",
      "('Création de la personne qui part de', 238, 156, 'pour aller à', 0, 1023)\n",
      "('Création de la personne qui part de', 134, 834, 'pour aller à', 1023, 0)\n",
      "('Création de la personne qui part de', 540, 729, 'pour aller à', 0, 1023)\n",
      "('Création de la personne qui part de', 675, 406, 'pour aller à', 0, 1023)\n",
      "('Création de la personne qui part de', 437, 238, 'pour aller à', 0, 1023)\n",
      "('Création de la personne qui part de', 834, 125, 'pour aller à', 0, 0)\n",
      "('Création de la personne qui part de', 485, 452, 'pour aller à', 0, 0)\n",
      "('Création de la personne qui part de', 956, 402, 'pour aller à', 0, 1023)\n",
      "('Création de la personne qui part de', 461, 283, 'pour aller à', 1023, 0)\n",
      "('Création de la personne qui part de', 769, 138, 'pour aller à', 1023, 0)\n",
      "('Création de la personne qui part de', 291, 147, 'pour aller à', 1023, 0)\n",
      "('Création de la personne qui part de', 619, 886, 'pour aller à', 0, 1023)\n",
      "('Création de la personne qui part de', 781, 732, 'pour aller à', 1023, 0)\n",
      "('Création de la personne qui part de', 422, 448, 'pour aller à', 1023, 0)\n",
      "('Création de la personne qui part de', 19, 473, 'pour aller à', 1023, 1023)\n",
      "('Création de la personne qui part de', 43, 239, 'pour aller à', 1023, 1023)\n",
      "('Création de la personne qui part de', 790, 40, 'pour aller à', 0, 0)\n",
      "('Création de la personne qui part de', 214, 300, 'pour aller à', 0, 1023)\n",
      "('Création de la personne qui part de', 554, 414, 'pour aller à', 1023, 1023)\n",
      "('Création de la personne qui part de', 309, 531, 'pour aller à', 0, 0)\n",
      "('Création de la personne qui part de', 134, 467, 'pour aller à', 0, 0)\n",
      "('Création de la personne qui part de', 571, 1012, 'pour aller à', 0, 1023)\n",
      "('Création de la personne qui part de', 270, 266, 'pour aller à', 1023, 0)\n",
      "('Création de la personne qui part de', 408, 816, 'pour aller à', 1023, 1023)\n",
      "('Création de la personne qui part de', 600, 367, 'pour aller à', 0, 1023)\n",
      "('Création de la personne qui part de', 1021, 997, 'pour aller à', 0, 0)\n",
      "('Création de la personne qui part de', 312, 569, 'pour aller à', 0, 1023)\n",
      "('Création de la personne qui part de', 895, 479, 'pour aller à', 1023, 0)\n",
      "('Création de la personne qui part de', 797, 69, 'pour aller à', 1023, 0)\n",
      "('Création de la personne qui part de', 528, 16, 'pour aller à', 0, 0)\n",
      "('Création de la personne qui part de', 989, 399, 'pour aller à', 0, 0)\n",
      "('Création de la personne qui part de', 458, 171, 'pour aller à', 0, 1023)\n",
      "('Création de la personne qui part de', 850, 214, 'pour aller à', 1023, 1023)\n",
      "('Création de la personne qui part de', 98, 896, 'pour aller à', 0, 0)\n",
      "('Création de la personne qui part de', 317, 907, 'pour aller à', 0, 0)\n",
      "('Création de la personne qui part de', 292, 381, 'pour aller à', 0, 1023)\n",
      "('Création de la personne qui part de', 74, 873, 'pour aller à', 0, 1023)\n",
      "('Création de la personne qui part de', 11, 465, 'pour aller à', 0, 0)\n",
      "('Création de la personne qui part de', 640, 104, 'pour aller à', 1023, 1023)\n",
      "('Création de la personne qui part de', 165, 572, 'pour aller à', 0, 0)\n",
      "('Création de la personne qui part de', 372, 262, 'pour aller à', 0, 1023)\n",
      "('Création de la personne qui part de', 162, 854, 'pour aller à', 0, 1023)\n",
      "('Création de la personne qui part de', 32, 605, 'pour aller à', 1023, 0)\n",
      "('Création de la personne qui part de', 686, 833, 'pour aller à', 1023, 1023)\n",
      "('Création de la personne qui part de', 475, 923, 'pour aller à', 0, 1023)\n",
      "('Création de la personne qui part de', 9, 727, 'pour aller à', 1023, 1023)\n",
      "('Création de la personne qui part de', 178, 991, 'pour aller à', 0, 1023)\n",
      "('Création de la personne qui part de', 61, 100, 'pour aller à', 1023, 0)\n",
      "('Création de la personne qui part de', 850, 650, 'pour aller à', 0, 1023)\n",
      "('Création de la personne qui part de', 223, 920, 'pour aller à', 0, 0)\n",
      "('Création de la personne qui part de', 1001, 510, 'pour aller à', 0, 1023)\n",
      "('Création de la personne qui part de', 458, 170, 'pour aller à', 0, 0)\n",
      "('Création de la personne qui part de', 1, 152, 'pour aller à', 1023, 1023)\n",
      "('Création de la personne qui part de', 591, 998, 'pour aller à', 1023, 0)\n",
      "('Création de la personne qui part de', 794, 215, 'pour aller à', 0, 1023)\n",
      "('Création de la personne qui part de', 505, 904, 'pour aller à', 0, 0)\n",
      "('Création de la personne qui part de', 300, 901, 'pour aller à', 1023, 1023)\n",
      "('Création de la personne qui part de', 433, 897, 'pour aller à', 1023, 1023)\n",
      "('Création de la personne qui part de', 462, 531, 'pour aller à', 0, 1023)\n",
      "('Création de la personne qui part de', 728, 626, 'pour aller à', 0, 1023)\n",
      "('Création de la personne qui part de', 980, 32, 'pour aller à', 1023, 0)\n",
      "('Création de la personne qui part de', 396, 969, 'pour aller à', 0, 0)\n",
      "('Création de la personne qui part de', 808, 772, 'pour aller à', 1023, 0)\n",
      "('Création de la personne qui part de', 41, 995, 'pour aller à', 0, 0)\n",
      "('Création de la personne qui part de', 658, 331, 'pour aller à', 0, 0)\n",
      "('Création de la personne qui part de', 288, 346, 'pour aller à', 1023, 1023)\n",
      "('Personne non créée, la place est occupée', 404, 532)\n",
      "('Création de la personne qui part de', 935, 362, 'pour aller à', 1023, 1023)\n",
      "('Création de la personne qui part de', 720, 397, 'pour aller à', 0, 1023)\n",
      "('Personne non créée, la place est occupée', 596, 614)\n",
      "('Création de la personne qui part de', 1015, 382, 'pour aller à', 1023, 1023)\n",
      "('Création de la personne qui part de', 569, 474, 'pour aller à', 0, 1023)\n",
      "('Création de la personne qui part de', 729, 539, 'pour aller à', 1023, 1023)\n",
      "('Création de la personne qui part de', 622, 322, 'pour aller à', 1023, 1023)\n",
      "('Création de la personne qui part de', 983, 558, 'pour aller à', 1023, 1023)\n",
      "('Création de la personne qui part de', 901, 642, 'pour aller à', 0, 1023)\n",
      "('Création de la personne qui part de', 747, 343, 'pour aller à', 0, 1023)\n",
      "('Création de la personne qui part de', 827, 396, 'pour aller à', 1023, 1023)\n",
      "('Création de la personne qui part de', 191, 915, 'pour aller à', 1023, 1023)\n",
      "('Création de la personne qui part de', 760, 252, 'pour aller à', 0, 0)\n",
      "('Création de la personne qui part de', 557, 241, 'pour aller à', 0, 1023)\n",
      "('Création de la personne qui part de', 516, 755, 'pour aller à', 1023, 0)\n",
      "('Création de la personne qui part de', 236, 403, 'pour aller à', 0, 0)\n",
      "('Création de la personne qui part de', 112, 1008, 'pour aller à', 1023, 1023)\n",
      "('Création de la personne qui part de', 355, 952, 'pour aller à', 1023, 1023)\n",
      "('Création de la personne qui part de', 390, 293, 'pour aller à', 0, 1023)\n",
      "('Création de la personne qui part de', 992, 863, 'pour aller à', 1023, 0)\n",
      "('Création de la personne qui part de', 541, 694, 'pour aller à', 0, 1023)\n",
      "('Création de la personne qui part de', 536, 33, 'pour aller à', 0, 1023)\n",
      "('Création de la personne qui part de', 741, 779, 'pour aller à', 0, 0)\n",
      "('Création de la personne qui part de', 19, 470, 'pour aller à', 1023, 1023)\n",
      "('Création de la personne qui part de', 705, 44, 'pour aller à', 1023, 1023)\n",
      "('Création de la personne qui part de', 624, 417, 'pour aller à', 1023, 0)\n",
      "('Création de la personne qui part de', 491, 775, 'pour aller à', 1023, 0)\n",
      "('Création de la personne qui part de', 989, 24, 'pour aller à', 1023, 1023)\n",
      "('Création de la personne qui part de', 254, 537, 'pour aller à', 1023, 0)\n",
      "('Création de la personne qui part de', 270, 4, 'pour aller à', 1023, 0)\n",
      "('Création de la personne qui part de', 498, 397, 'pour aller à', 1023, 1023)\n",
      "('Création de la personne qui part de', 972, 772, 'pour aller à', 1023, 0)\n",
      "('Création de la personne qui part de', 316, 740, 'pour aller à', 1023, 0)\n",
      "('Création de la personne qui part de', 872, 839, 'pour aller à', 1023, 0)\n",
      "('Création de la personne qui part de', 499, 463, 'pour aller à', 0, 1023)\n",
      "('Création de la personne qui part de', 934, 467, 'pour aller à', 0, 1023)\n",
      "('Personne non créée, la place est occupée', 639, 830)\n",
      "('Création de la personne qui part de', 637, 229, 'pour aller à', 1023, 1023)\n",
      "('Création de la personne qui part de', 231, 182, 'pour aller à', 0, 1023)\n",
      "('Création de la personne qui part de', 501, 247, 'pour aller à', 0, 1023)\n",
      "('Création de la personne qui part de', 653, 394, 'pour aller à', 0, 0)\n",
      "('Création de la personne qui part de', 93, 513, 'pour aller à', 1023, 0)\n",
      "('Création de la personne qui part de', 991, 446, 'pour aller à', 0, 1023)\n",
      "('Création de la personne qui part de', 50, 225, 'pour aller à', 0, 1023)\n",
      "('Création de la personne qui part de', 797, 649, 'pour aller à', 0, 0)\n",
      "('Création de la personne qui part de', 30, 812, 'pour aller à', 0, 0)\n",
      "('Création de la personne qui part de', 765, 78, 'pour aller à', 1023, 0)\n",
      "('Création de la personne qui part de', 496, 532, 'pour aller à', 0, 0)\n",
      "('Création de la personne qui part de', 143, 941, 'pour aller à', 1023, 1023)\n",
      "('Création de la personne qui part de', 180, 727, 'pour aller à', 1023, 1023)\n",
      "('Création de la personne qui part de', 50, 278, 'pour aller à', 0, 1023)\n",
      "('Création de la personne qui part de', 314, 536, 'pour aller à', 0, 1023)\n",
      "('Création de la personne qui part de', 726, 262, 'pour aller à', 1023, 1023)\n",
      "('Création de la personne qui part de', 910, 189, 'pour aller à', 0, 1023)\n",
      "('Création de la personne qui part de', 188, 957, 'pour aller à', 0, 1023)\n",
      "('Création de la personne qui part de', 497, 962, 'pour aller à', 0, 1023)\n",
      "('Création de la personne qui part de', 737, 141, 'pour aller à', 0, 0)\n",
      "('Création de la personne qui part de', 761, 924, 'pour aller à', 0, 0)\n",
      "('Création de la personne qui part de', 182, 125, 'pour aller à', 0, 1023)\n",
      "('Création de la personne qui part de', 488, 537, 'pour aller à', 0, 1023)\n",
      "('Création de la personne qui part de', 251, 12, 'pour aller à', 1023, 1023)\n",
      "('Création de la personne qui part de', 187, 925, 'pour aller à', 0, 1023)\n",
      "('Création de la personne qui part de', 802, 1, 'pour aller à', 1023, 0)\n",
      "('Création de la personne qui part de', 129, 401, 'pour aller à', 0, 0)\n",
      "('Création de la personne qui part de', 951, 272, 'pour aller à', 0, 0)\n",
      "('Création de la personne qui part de', 209, 438, 'pour aller à', 0, 0)\n",
      "('Création de la personne qui part de', 574, 182, 'pour aller à', 1023, 0)\n",
      "('Création de la personne qui part de', 139, 797, 'pour aller à', 1023, 0)\n",
      "('Création de la personne qui part de', 518, 688, 'pour aller à', 0, 1023)\n",
      "('Création de la personne qui part de', 307, 442, 'pour aller à', 1023, 1023)\n",
      "('Création de la personne qui part de', 647, 471, 'pour aller à', 1023, 0)\n",
      "('Création de la personne qui part de', 737, 994, 'pour aller à', 0, 0)\n",
      "('Création de la personne qui part de', 767, 186, 'pour aller à', 0, 1023)\n",
      "('Création de la personne qui part de', 852, 515, 'pour aller à', 0, 1023)\n",
      "('Création de la personne qui part de', 850, 742, 'pour aller à', 0, 0)\n",
      "('Création de la personne qui part de', 127, 753, 'pour aller à', 0, 1023)\n",
      "('Création de la personne qui part de', 325, 739, 'pour aller à', 0, 0)\n",
      "('Création de la personne qui part de', 764, 226, 'pour aller à', 1023, 0)\n",
      "('Création de la personne qui part de', 978, 601, 'pour aller à', 0, 0)\n",
      "('Création de la personne qui part de', 8, 936, 'pour aller à', 1023, 0)\n",
      "('Création de la personne qui part de', 887, 1011, 'pour aller à', 1023, 1023)\n",
      "('Création de la personne qui part de', 216, 288, 'pour aller à', 0, 1023)\n",
      "('Création de la personne qui part de', 668, 25, 'pour aller à', 1023, 0)\n",
      "('Création de la personne qui part de', 1011, 29, 'pour aller à', 1023, 1023)\n",
      "('Création de la personne qui part de', 794, 128, 'pour aller à', 0, 0)\n",
      "('Création de la personne qui part de', 830, 13, 'pour aller à', 0, 1023)\n",
      "('Création de la personne qui part de', 416, 662, 'pour aller à', 1023, 1023)\n",
      "('Création de la personne qui part de', 527, 149, 'pour aller à', 1023, 1023)\n",
      "('Création de la personne qui part de', 35, 525, 'pour aller à', 0, 1023)\n",
      "('Création de la personne qui part de', 662, 464, 'pour aller à', 0, 0)\n",
      "('Création de la personne qui part de', 18, 384, 'pour aller à', 1023, 0)\n",
      "('Création de la personne qui part de', 526, 876, 'pour aller à', 1023, 0)\n",
      "('Création de la personne qui part de', 734, 688, 'pour aller à', 1023, 1023)\n",
      "('Création de la personne qui part de', 773, 781, 'pour aller à', 0, 0)\n",
      "('Création de la personne qui part de', 663, 838, 'pour aller à', 1023, 1023)\n",
      "('Création de la personne qui part de', 291, 388, 'pour aller à', 1023, 1023)\n",
      "('Création de la personne qui part de', 824, 350, 'pour aller à', 1023, 0)\n",
      "('Création de la personne qui part de', 160, 295, 'pour aller à', 1023, 0)\n",
      "('Création de la personne qui part de', 953, 381, 'pour aller à', 0, 0)\n",
      "('Création de la personne qui part de', 860, 433, 'pour aller à', 1023, 1023)\n",
      "('Personne non créée, la place est occupée', 392, 430)\n",
      "('Création de la personne qui part de', 48, 776, 'pour aller à', 1023, 1023)\n",
      "('Création de la personne qui part de', 353, 486, 'pour aller à', 0, 0)\n",
      "('Création de la personne qui part de', 305, 27, 'pour aller à', 1023, 1023)\n",
      "('Création de la personne qui part de', 856, 429, 'pour aller à', 1023, 0)\n",
      "('Création de la personne qui part de', 825, 846, 'pour aller à', 0, 0)\n",
      "('Création de la personne qui part de', 252, 40, 'pour aller à', 0, 1023)\n",
      "('Création de la personne qui part de', 842, 108, 'pour aller à', 1023, 1023)\n",
      "('Création de la personne qui part de', 820, 556, 'pour aller à', 1023, 0)\n",
      "('Création de la personne qui part de', 748, 240, 'pour aller à', 0, 0)\n",
      "('Création de la personne qui part de', 587, 721, 'pour aller à', 1023, 1023)\n",
      "('Création de la personne qui part de', 290, 881, 'pour aller à', 1023, 1023)\n",
      "('Création de la personne qui part de', 262, 824, 'pour aller à', 1023, 0)\n",
      "('Création de la personne qui part de', 920, 504, 'pour aller à', 0, 0)\n",
      "('Création de la personne qui part de', 51, 193, 'pour aller à', 0, 0)\n",
      "('Création de la personne qui part de', 186, 509, 'pour aller à', 0, 1023)\n",
      "('Création de la personne qui part de', 302, 887, 'pour aller à', 1023, 1023)\n",
      "('Création de la personne qui part de', 488, 631, 'pour aller à', 0, 1023)\n",
      "('Création de la personne qui part de', 539, 975, 'pour aller à', 1023, 1023)\n",
      "('Création de la personne qui part de', 706, 175, 'pour aller à', 0, 0)\n",
      "('Création de la personne qui part de', 116, 980, 'pour aller à', 0, 1023)\n",
      "('Personne non créée, la place est occupée', 564, 578)\n",
      "('Création de la personne qui part de', 347, 696, 'pour aller à', 1023, 0)\n",
      "('Création de la personne qui part de', 691, 932, 'pour aller à', 1023, 0)\n",
      "('Création de la personne qui part de', 872, 98, 'pour aller à', 0, 0)\n",
      "('Création de la personne qui part de', 1013, 358, 'pour aller à', 0, 1023)\n",
      "('Création de la personne qui part de', 462, 741, 'pour aller à', 0, 1023)\n",
      "('Création de la personne qui part de', 420, 889, 'pour aller à', 1023, 0)\n",
      "('Création de la personne qui part de', 77, 158, 'pour aller à', 0, 0)\n",
      "('Création de la personne qui part de', 555, 805, 'pour aller à', 1023, 0)\n",
      "('Création de la personne qui part de', 319, 982, 'pour aller à', 1023, 1023)\n",
      "('Création de la personne qui part de', 671, 109, 'pour aller à', 0, 0)\n",
      "('Création de la personne qui part de', 77, 155, 'pour aller à', 1023, 0)\n",
      "('Création de la personne qui part de', 145, 119, 'pour aller à', 0, 1023)\n",
      "('Création de la personne qui part de', 827, 568, 'pour aller à', 0, 0)\n",
      "('Création de la personne qui part de', 761, 695, 'pour aller à', 0, 1023)\n",
      "('Création de la personne qui part de', 245, 6, 'pour aller à', 0, 0)\n",
      "('Création de la personne qui part de', 621, 163, 'pour aller à', 1023, 0)\n",
      "('Création de la personne qui part de', 753, 63, 'pour aller à', 0, 0)\n",
      "('Création de la personne qui part de', 836, 576, 'pour aller à', 1023, 1023)\n",
      "('Création de la personne qui part de', 751, 522, 'pour aller à', 0, 0)\n",
      "('Création de la personne qui part de', 846, 943, 'pour aller à', 1023, 0)\n",
      "('Création de la personne qui part de', 560, 284, 'pour aller à', 1023, 1023)\n",
      "('Création de la personne qui part de', 653, 285, 'pour aller à', 0, 1023)\n",
      "('Création de la personne qui part de', 946, 926, 'pour aller à', 0, 1023)\n",
      "('Création de la personne qui part de', 833, 730, 'pour aller à', 0, 0)\n",
      "('Création de la personne qui part de', 659, 763, 'pour aller à', 1023, 0)\n",
      "('Création de la personne qui part de', 706, 553, 'pour aller à', 0, 0)\n",
      "('Création de la personne qui part de', 549, 254, 'pour aller à', 1023, 0)\n",
      "('Personne non créée, la place est occupée', 143, 336)\n",
      "('Création de la personne qui part de', 249, 709, 'pour aller à', 0, 0)\n",
      "('Création de la personne qui part de', 813, 398, 'pour aller à', 1023, 1023)\n",
      "('Création de la personne qui part de', 445, 638, 'pour aller à', 1023, 1023)\n",
      "('Création de la personne qui part de', 400, 477, 'pour aller à', 0, 1023)\n",
      "('Création de la personne qui part de', 99, 126, 'pour aller à', 1023, 1023)\n",
      "('Création de la personne qui part de', 564, 698, 'pour aller à', 0, 1023)\n",
      "('Création de la personne qui part de', 459, 628, 'pour aller à', 0, 1023)\n",
      "('Création de la personne qui part de', 96, 643, 'pour aller à', 1023, 0)\n",
      "('Création de la personne qui part de', 664, 432, 'pour aller à', 1023, 0)\n",
      "('Personne non créée, la place est occupée', 119, 330)\n",
      "('Personne non créée, la place est occupée', 743, 756)\n",
      "('Création de la personne qui part de', 28, 1, 'pour aller à', 1023, 0)\n",
      "('Création de la personne qui part de', 388, 850, 'pour aller à', 1023, 0)\n",
      "('Personne non créée, la place est occupée', 635, 752)\n",
      "('Création de la personne qui part de', 286, 211, 'pour aller à', 0, 1023)\n",
      "('Création de la personne qui part de', 943, 125, 'pour aller à', 0, 1023)\n",
      "('Création de la personne qui part de', 157, 403, 'pour aller à', 0, 0)\n",
      "('Création de la personne qui part de', 82, 189, 'pour aller à', 0, 1023)\n",
      "('Création de la personne qui part de', 799, 904, 'pour aller à', 1023, 0)\n",
      "('Création de la personne qui part de', 518, 398, 'pour aller à', 0, 1023)\n",
      "('Création de la personne qui part de', 922, 753, 'pour aller à', 1023, 1023)\n",
      "('Création de la personne qui part de', 280, 772, 'pour aller à', 1023, 1023)\n",
      "('Création de la personne qui part de', 537, 87, 'pour aller à', 1023, 1023)\n",
      "('Création de la personne qui part de', 74, 185, 'pour aller à', 1023, 1023)\n",
      "('Création de la personne qui part de', 482, 202, 'pour aller à', 0, 0)\n",
      "('Création de la personne qui part de', 563, 750, 'pour aller à', 1023, 1023)\n",
      "('Création de la personne qui part de', 499, 581, 'pour aller à', 0, 0)\n",
      "('Création de la personne qui part de', 183, 635, 'pour aller à', 0, 1023)\n",
      "('Création de la personne qui part de', 516, 877, 'pour aller à', 1023, 0)\n",
      "('Création de la personne qui part de', 880, 168, 'pour aller à', 1023, 1023)\n",
      "('Création de la personne qui part de', 793, 588, 'pour aller à', 0, 0)\n",
      "('Création de la personne qui part de', 716, 120, 'pour aller à', 1023, 1023)\n",
      "('Création de la personne qui part de', 950, 395, 'pour aller à', 1023, 0)\n",
      "('Création de la personne qui part de', 949, 854, 'pour aller à', 0, 1023)\n",
      "('Création de la personne qui part de', 944, 37, 'pour aller à', 1023, 0)\n",
      "('Création de la personne qui part de', 615, 32, 'pour aller à', 0, 0)\n",
      "('Création de la personne qui part de', 81, 1005, 'pour aller à', 1023, 0)\n",
      "('Création de la personne qui part de', 31, 459, 'pour aller à', 1023, 0)\n",
      "('Création de la personne qui part de', 123, 368, 'pour aller à', 0, 0)\n",
      "('Création de la personne qui part de', 249, 181, 'pour aller à', 1023, 1023)\n",
      "('Création de la personne qui part de', 48, 1008, 'pour aller à', 1023, 1023)\n",
      "('Création de la personne qui part de', 178, 760, 'pour aller à', 0, 0)\n",
      "('Création de la personne qui part de', 366, 178, 'pour aller à', 0, 1023)\n",
      "('Création de la personne qui part de', 721, 467, 'pour aller à', 1023, 0)\n",
      "('Création de la personne qui part de', 486, 149, 'pour aller à', 0, 1023)\n",
      "('Création de la personne qui part de', 86, 976, 'pour aller à', 0, 1023)\n",
      "('Création de la personne qui part de', 512, 452, 'pour aller à', 1023, 1023)\n",
      "('Création de la personne qui part de', 982, 697, 'pour aller à', 0, 0)\n",
      "('Création de la personne qui part de', 973, 146, 'pour aller à', 1023, 0)\n",
      "('Création de la personne qui part de', 396, 71, 'pour aller à', 1023, 1023)\n",
      "('Personne non créée, la place est occupée', 360, 455)\n",
      "('Création de la personne qui part de', 721, 726, 'pour aller à', 0, 0)\n",
      "('Création de la personne qui part de', 1005, 489, 'pour aller à', 1023, 1023)\n",
      "('Création de la personne qui part de', 972, 562, 'pour aller à', 0, 1023)\n",
      "('Création de la personne qui part de', 497, 622, 'pour aller à', 1023, 0)\n",
      "('Création de la personne qui part de', 145, 74, 'pour aller à', 1023, 1023)\n",
      "('Création de la personne qui part de', 976, 393, 'pour aller à', 0, 0)\n",
      "('Création de la personne qui part de', 408, 27, 'pour aller à', 1023, 0)\n",
      "('Création de la personne qui part de', 46, 904, 'pour aller à', 0, 0)\n",
      "('Création de la personne qui part de', 958, 277, 'pour aller à', 0, 1023)\n",
      "('Création de la personne qui part de', 808, 153, 'pour aller à', 0, 1023)\n",
      "('Création de la personne qui part de', 689, 697, 'pour aller à', 1023, 1023)\n",
      "('Création de la personne qui part de', 286, 503, 'pour aller à', 1023, 0)\n",
      "('Création de la personne qui part de', 422, 211, 'pour aller à', 1023, 0)\n",
      "('Création de la personne qui part de', 681, 431, 'pour aller à', 0, 0)\n",
      "('Création de la personne qui part de', 672, 543, 'pour aller à', 0, 0)\n",
      "('Création de la personne qui part de', 205, 539, 'pour aller à', 0, 0)\n",
      "('Création de la personne qui part de', 947, 201, 'pour aller à', 1023, 0)\n",
      "('Création de la personne qui part de', 556, 746, 'pour aller à', 1023, 1023)\n",
      "('Création de la personne qui part de', 900, 14, 'pour aller à', 0, 0)\n",
      "('Création de la personne qui part de', 981, 107, 'pour aller à', 1023, 0)\n",
      "('Création de la personne qui part de', 1, 410, 'pour aller à', 0, 1023)\n",
      "('Création de la personne qui part de', 297, 9, 'pour aller à', 0, 0)\n",
      "('Création de la personne qui part de', 231, 719, 'pour aller à', 1023, 0)\n",
      "('Création de la personne qui part de', 469, 554, 'pour aller à', 0, 1023)\n",
      "('Création de la personne qui part de', 368, 734, 'pour aller à', 0, 0)\n",
      "('Création de la personne qui part de', 435, 453, 'pour aller à', 0, 1023)\n",
      "('Création de la personne qui part de', 827, 61, 'pour aller à', 1023, 0)\n",
      "('Création de la personne qui part de', 909, 853, 'pour aller à', 1023, 1023)\n",
      "('Création de la personne qui part de', 439, 347, 'pour aller à', 0, 0)\n",
      "('Création de la personne qui part de', 997, 895, 'pour aller à', 1023, 1023)\n",
      "('Création de la personne qui part de', 946, 581, 'pour aller à', 0, 0)\n",
      "('Création de la personne qui part de', 289, 901, 'pour aller à', 1023, 1023)\n",
      "('Création de la personne qui part de', 390, 859, 'pour aller à', 1023, 0)\n",
      "('Création de la personne qui part de', 866, 803, 'pour aller à', 1023, 0)\n",
      "('Création de la personne qui part de', 753, 719, 'pour aller à', 1023, 0)\n",
      "('Création de la personne qui part de', 31, 809, 'pour aller à', 0, 0)\n",
      "('Création de la personne qui part de', 603, 744, 'pour aller à', 0, 0)\n",
      "('Création de la personne qui part de', 498, 686, 'pour aller à', 1023, 1023)\n",
      "('Création de la personne qui part de', 474, 107, 'pour aller à', 0, 1023)\n",
      "('Création de la personne qui part de', 849, 632, 'pour aller à', 0, 1023)\n",
      "('Création de la personne qui part de', 699, 236, 'pour aller à', 1023, 1023)\n",
      "('Création de la personne qui part de', 615, 692, 'pour aller à', 0, 1023)\n",
      "('Création de la personne qui part de', 557, 694, 'pour aller à', 0, 1023)\n",
      "('Création de la personne qui part de', 323, 300, 'pour aller à', 1023, 0)\n",
      "('Création de la personne qui part de', 56, 561, 'pour aller à', 0, 0)\n",
      "('Création de la personne qui part de', 824, 482, 'pour aller à', 1023, 1023)\n",
      "('Création de la personne qui part de', 923, 971, 'pour aller à', 0, 0)\n",
      "('Création de la personne qui part de', 125, 903, 'pour aller à', 1023, 1023)\n",
      "('Création de la personne qui part de', 614, 507, 'pour aller à', 1023, 1023)\n",
      "('Création de la personne qui part de', 523, 435, 'pour aller à', 0, 1023)\n",
      "('Création de la personne qui part de', 269, 539, 'pour aller à', 1023, 0)\n",
      "('Création de la personne qui part de', 774, 25, 'pour aller à', 1023, 1023)\n",
      "('Création de la personne qui part de', 373, 771, 'pour aller à', 0, 0)\n",
      "('Création de la personne qui part de', 1007, 991, 'pour aller à', 1023, 1023)\n",
      "('Création de la personne qui part de', 327, 756, 'pour aller à', 1023, 1023)\n",
      "('Création de la personne qui part de', 14, 956, 'pour aller à', 1023, 0)\n",
      "('Création de la personne qui part de', 951, 280, 'pour aller à', 0, 0)\n",
      "('Création de la personne qui part de', 241, 652, 'pour aller à', 1023, 1023)\n",
      "('Création de la personne qui part de', 525, 682, 'pour aller à', 0, 1023)\n",
      "('Création de la personne qui part de', 293, 573, 'pour aller à', 0, 0)\n",
      "('Création de la personne qui part de', 522, 168, 'pour aller à', 1023, 0)\n",
      "('Création de la personne qui part de', 939, 293, 'pour aller à', 0, 1023)\n",
      "('Création de la personne qui part de', 316, 105, 'pour aller à', 0, 1023)\n",
      "('Création de la personne qui part de', 670, 327, 'pour aller à', 1023, 0)\n",
      "('Création de la personne qui part de', 883, 628, 'pour aller à', 0, 0)\n",
      "('Création de la personne qui part de', 534, 81, 'pour aller à', 1023, 1023)\n",
      "('Création de la personne qui part de', 832, 697, 'pour aller à', 0, 1023)\n",
      "('Création de la personne qui part de', 227, 159, 'pour aller à', 1023, 0)\n",
      "('Création de la personne qui part de', 316, 224, 'pour aller à', 0, 1023)\n",
      "('Création de la personne qui part de', 559, 948, 'pour aller à', 0, 1023)\n",
      "('Création de la personne qui part de', 551, 184, 'pour aller à', 0, 0)\n",
      "('Création de la personne qui part de', 389, 276, 'pour aller à', 1023, 1023)\n",
      "('Création de la personne qui part de', 513, 316, 'pour aller à', 1023, 1023)\n",
      "('Création de la personne qui part de', 821, 176, 'pour aller à', 0, 0)\n",
      "('Création de la personne qui part de', 900, 661, 'pour aller à', 0, 0)\n",
      "('Création de la personne qui part de', 714, 595, 'pour aller à', 1023, 1023)\n",
      "('Création de la personne qui part de', 368, 647, 'pour aller à', 0, 0)\n",
      "('Création de la personne qui part de', 92, 661, 'pour aller à', 1023, 1023)\n",
      "('Création de la personne qui part de', 689, 148, 'pour aller à', 1023, 1023)\n",
      "('Personne non créée, la place est occupée', 126, 122)\n",
      "('Création de la personne qui part de', 694, 396, 'pour aller à', 0, 0)\n",
      "('Création de la personne qui part de', 868, 394, 'pour aller à', 1023, 1023)\n",
      "('Création de la personne qui part de', 77, 492, 'pour aller à', 0, 0)\n",
      "('Création de la personne qui part de', 229, 272, 'pour aller à', 1023, 0)\n",
      "('Création de la personne qui part de', 504, 485, 'pour aller à', 0, 0)\n",
      "('Création de la personne qui part de', 424, 271, 'pour aller à', 0, 0)\n",
      "('Création de la personne qui part de', 1010, 54, 'pour aller à', 1023, 0)\n",
      "('Création de la personne qui part de', 67, 646, 'pour aller à', 0, 0)\n",
      "('Création de la personne qui part de', 630, 325, 'pour aller à', 1023, 0)\n",
      "('Création de la personne qui part de', 515, 621, 'pour aller à', 0, 0)\n",
      "('Création de la personne qui part de', 718, 730, 'pour aller à', 1023, 0)\n",
      "('Création de la personne qui part de', 536, 296, 'pour aller à', 1023, 0)\n",
      "('Création de la personne qui part de', 817, 1008, 'pour aller à', 1023, 1023)\n",
      "('Création de la personne qui part de', 556, 954, 'pour aller à', 1023, 0)\n",
      "('Création de la personne qui part de', 317, 72, 'pour aller à', 1023, 0)\n",
      "('Création de la personne qui part de', 1021, 716, 'pour aller à', 0, 0)\n",
      "('Création de la personne qui part de', 335, 707, 'pour aller à', 1023, 1023)\n",
      "('Création de la personne qui part de', 218, 759, 'pour aller à', 0, 0)\n",
      "('Création de la personne qui part de', 295, 556, 'pour aller à', 0, 0)\n",
      "('Création de la personne qui part de', 815, 50, 'pour aller à', 1023, 1023)\n",
      "('Création de la personne qui part de', 552, 740, 'pour aller à', 1023, 1023)\n",
      "('Création de la personne qui part de', 521, 424, 'pour aller à', 0, 0)\n",
      "('Création de la personne qui part de', 274, 64, 'pour aller à', 0, 1023)\n",
      "('Création de la personne qui part de', 764, 237, 'pour aller à', 0, 1023)\n",
      "('Création de la personne qui part de', 690, 748, 'pour aller à', 1023, 1023)\n",
      "('Création de la personne qui part de', 31, 524, 'pour aller à', 1023, 0)\n",
      "('Création de la personne qui part de', 318, 142, 'pour aller à', 1023, 1023)\n",
      "('Création de la personne qui part de', 319, 605, 'pour aller à', 1023, 0)\n",
      "('Création de la personne qui part de', 861, 68, 'pour aller à', 0, 0)\n",
      "('Création de la personne qui part de', 657, 524, 'pour aller à', 1023, 1023)\n",
      "('Création de la personne qui part de', 914, 377, 'pour aller à', 1023, 1023)\n",
      "('Création de la personne qui part de', 328, 622, 'pour aller à', 0, 1023)\n",
      "('Création de la personne qui part de', 646, 164, 'pour aller à', 1023, 0)\n",
      "('Création de la personne qui part de', 133, 473, 'pour aller à', 1023, 0)\n",
      "('Création de la personne qui part de', 472, 8, 'pour aller à', 1023, 1023)\n",
      "('Création de la personne qui part de', 655, 259, 'pour aller à', 1023, 1023)\n",
      "('Création de la personne qui part de', 437, 72, 'pour aller à', 0, 0)\n",
      "('Création de la personne qui part de', 801, 384, 'pour aller à', 1023, 0)\n",
      "('Création de la personne qui part de', 741, 651, 'pour aller à', 1023, 0)\n",
      "('Création de la personne qui part de', 486, 298, 'pour aller à', 1023, 0)\n",
      "('Création de la personne qui part de', 134, 55, 'pour aller à', 0, 0)\n",
      "('Création de la personne qui part de', 369, 700, 'pour aller à', 1023, 1023)\n",
      "('Création de la personne qui part de', 897, 876, 'pour aller à', 1023, 1023)\n",
      "('Création de la personne qui part de', 927, 68, 'pour aller à', 1023, 1023)\n",
      "('Création de la personne qui part de', 37, 136, 'pour aller à', 1023, 0)\n",
      "('Création de la personne qui part de', 700, 733, 'pour aller à', 0, 1023)\n",
      "('Création de la personne qui part de', 725, 490, 'pour aller à', 1023, 0)\n",
      "('Personne non créée, la place est occupée', 368, 494)\n",
      "('Création de la personne qui part de', 499, 38, 'pour aller à', 1023, 0)\n",
      "('Création de la personne qui part de', 503, 968, 'pour aller à', 0, 1023)\n",
      "('Création de la personne qui part de', 476, 615, 'pour aller à', 0, 0)\n",
      "('Création de la personne qui part de', 956, 785, 'pour aller à', 1023, 1023)\n",
      "('Création de la personne qui part de', 999, 724, 'pour aller à', 1023, 1023)\n",
      "('Création de la personne qui part de', 622, 492, 'pour aller à', 0, 1023)\n",
      "('Création de la personne qui part de', 190, 508, 'pour aller à', 1023, 0)\n",
      "('Création de la personne qui part de', 907, 73, 'pour aller à', 1023, 0)\n",
      "('Création de la personne qui part de', 183, 277, 'pour aller à', 0, 0)\n",
      "('Création de la personne qui part de', 895, 991, 'pour aller à', 0, 1023)\n",
      "('Création de la personne qui part de', 801, 66, 'pour aller à', 1023, 1023)\n",
      "('Création de la personne qui part de', 864, 250, 'pour aller à', 1023, 0)\n",
      "('Création de la personne qui part de', 757, 839, 'pour aller à', 1023, 0)\n",
      "('Création de la personne qui part de', 342, 513, 'pour aller à', 1023, 0)\n",
      "('Création de la personne qui part de', 484, 577, 'pour aller à', 1023, 0)\n",
      "('Création de la personne qui part de', 610, 229, 'pour aller à', 1023, 1023)\n",
      "('Création de la personne qui part de', 371, 260, 'pour aller à', 0, 1023)\n",
      "('Création de la personne qui part de', 919, 956, 'pour aller à', 1023, 0)\n",
      "('Création de la personne qui part de', 44, 246, 'pour aller à', 0, 1023)\n",
      "('Création de la personne qui part de', 925, 279, 'pour aller à', 1023, 1023)\n",
      "('Création de la personne qui part de', 263, 710, 'pour aller à', 1023, 1023)\n",
      "('Création de la personne qui part de', 590, 377, 'pour aller à', 0, 0)\n",
      "('Création de la personne qui part de', 777, 286, 'pour aller à', 0, 1023)\n",
      "('Création de la personne qui part de', 990, 843, 'pour aller à', 1023, 0)\n",
      "('Création de la personne qui part de', 462, 305, 'pour aller à', 0, 1023)\n",
      "('Personne non créée, la place est occupée', 362, 445)\n",
      "('Création de la personne qui part de', 240, 18, 'pour aller à', 1023, 1023)\n",
      "('Création de la personne qui part de', 523, 33, 'pour aller à', 0, 1023)\n",
      "('Création de la personne qui part de', 830, 227, 'pour aller à', 0, 1023)\n",
      "('Création de la personne qui part de', 918, 286, 'pour aller à', 1023, 0)\n",
      "('Personne non créée, la place est occupée', 511, 587)\n",
      "('Création de la personne qui part de', 963, 790, 'pour aller à', 1023, 0)\n",
      "('Création de la personne qui part de', 529, 1023, 'pour aller à', 1023, 1023)\n",
      "('Création de la personne qui part de', 413, 806, 'pour aller à', 0, 0)\n",
      "('Création de la personne qui part de', 652, 709, 'pour aller à', 0, 0)\n",
      "('Création de la personne qui part de', 376, 315, 'pour aller à', 0, 0)\n",
      "('Personne non créée, la place est occupée', 637, 604)\n",
      "('Création de la personne qui part de', 386, 940, 'pour aller à', 0, 0)\n",
      "('Création de la personne qui part de', 3, 977, 'pour aller à', 0, 1023)\n",
      "('Personne non créée, la place est occupée', 419, 595)\n",
      "('Création de la personne qui part de', 506, 261, 'pour aller à', 1023, 0)\n",
      "('Création de la personne qui part de', 611, 568, 'pour aller à', 1023, 1023)\n",
      "('Création de la personne qui part de', 225, 384, 'pour aller à', 0, 0)\n",
      "('Création de la personne qui part de', 401, 467, 'pour aller à', 0, 0)\n",
      "('Création de la personne qui part de', 701, 194, 'pour aller à', 0, 1023)\n",
      "('Création de la personne qui part de', 296, 437, 'pour aller à', 1023, 0)\n",
      "('Personne non créée, la place est occupée', 141, 340)\n",
      "('Création de la personne qui part de', 55, 798, 'pour aller à', 1023, 1023)\n",
      "('Création de la personne qui part de', 368, 837, 'pour aller à', 0, 0)\n",
      "('Création de la personne qui part de', 293, 349, 'pour aller à', 1023, 0)\n",
      "('Création de la personne qui part de', 538, 198, 'pour aller à', 1023, 0)\n",
      "('Création de la personne qui part de', 853, 671, 'pour aller à', 0, 1023)\n",
      "('Création de la personne qui part de', 247, 681, 'pour aller à', 0, 0)\n",
      "('Création de la personne qui part de', 791, 722, 'pour aller à', 1023, 0)\n",
      "('Création de la personne qui part de', 459, 982, 'pour aller à', 0, 1023)\n",
      "('Création de la personne qui part de', 439, 393, 'pour aller à', 0, 1023)\n",
      "('Création de la personne qui part de', 455, 463, 'pour aller à', 0, 1023)\n",
      "('Création de la personne qui part de', 936, 693, 'pour aller à', 0, 1023)\n",
      "('Création de la personne qui part de', 74, 592, 'pour aller à', 1023, 1023)\n",
      "('Création de la personne qui part de', 594, 962, 'pour aller à', 1023, 1023)\n",
      "('Création de la personne qui part de', 327, 320, 'pour aller à', 0, 1023)\n",
      "('Création de la personne qui part de', 996, 690, 'pour aller à', 1023, 1023)\n",
      "('Création de la personne qui part de', 429, 142, 'pour aller à', 0, 1023)\n",
      "('Création de la personne qui part de', 774, 301, 'pour aller à', 0, 0)\n",
      "('Création de la personne qui part de', 605, 285, 'pour aller à', 0, 0)\n",
      "('Création de la personne qui part de', 355, 286, 'pour aller à', 0, 1023)\n",
      "('Création de la personne qui part de', 542, 944, 'pour aller à', 0, 1023)\n",
      "('Création de la personne qui part de', 910, 787, 'pour aller à', 1023, 0)\n",
      "('Personne non créée, la place est occupée', 270, 365)\n",
      "('Création de la personne qui part de', 559, 616, 'pour aller à', 1023, 1023)\n",
      "('Création de la personne qui part de', 673, 172, 'pour aller à', 1023, 1023)\n",
      "('Création de la personne qui part de', 14, 616, 'pour aller à', 1023, 1023)\n",
      "('Création de la personne qui part de', 815, 645, 'pour aller à', 0, 0)\n",
      "('Création de la personne qui part de', 569, 322, 'pour aller à', 1023, 0)\n",
      "('Création de la personne qui part de', 893, 192, 'pour aller à', 0, 1023)\n",
      "('Création de la personne qui part de', 604, 669, 'pour aller à', 1023, 0)\n",
      "('Création de la personne qui part de', 447, 77, 'pour aller à', 0, 0)\n",
      "('Création de la personne qui part de', 681, 933, 'pour aller à', 1023, 0)\n",
      "('Création de la personne qui part de', 524, 961, 'pour aller à', 0, 1023)\n",
      "('Personne non créée, la place est occupée', 360, 459)\n",
      "('Création de la personne qui part de', 90, 358, 'pour aller à', 1023, 0)\n",
      "('Création de la personne qui part de', 429, 214, 'pour aller à', 0, 0)\n",
      "('Création de la personne qui part de', 82, 431, 'pour aller à', 0, 0)\n",
      "('Création de la personne qui part de', 341, 811, 'pour aller à', 1023, 1023)\n",
      "('Création de la personne qui part de', 927, 871, 'pour aller à', 1023, 0)\n",
      "('Création de la personne qui part de', 847, 811, 'pour aller à', 1023, 1023)\n",
      "('Création de la personne qui part de', 845, 646, 'pour aller à', 0, 1023)\n",
      "('Création de la personne qui part de', 413, 824, 'pour aller à', 0, 1023)\n",
      "('Personne non créée, la place est occupée', 436, 632)\n",
      "('Création de la personne qui part de', 394, 90, 'pour aller à', 1023, 1023)\n",
      "('Création de la personne qui part de', 90, 239, 'pour aller à', 0, 0)\n",
      "('Création de la personne qui part de', 455, 786, 'pour aller à', 1023, 1023)\n",
      "('Création de la personne qui part de', 523, 246, 'pour aller à', 0, 0)\n",
      "('Création de la personne qui part de', 875, 978, 'pour aller à', 0, 1023)\n",
      "('Création de la personne qui part de', 703, 984, 'pour aller à', 1023, 0)\n",
      "('Création de la personne qui part de', 982, 843, 'pour aller à', 1023, 0)\n",
      "('Création de la personne qui part de', 653, 909, 'pour aller à', 0, 0)\n",
      "('Création de la personne qui part de', 460, 402, 'pour aller à', 0, 0)\n",
      "('Création de la personne qui part de', 266, 962, 'pour aller à', 0, 0)\n",
      "('Création de la personne qui part de', 281, 625, 'pour aller à', 1023, 0)\n",
      "('Création de la personne qui part de', 629, 557, 'pour aller à', 0, 0)\n",
      "('Création de la personne qui part de', 803, 955, 'pour aller à', 0, 1023)\n",
      "('Création de la personne qui part de', 512, 193, 'pour aller à', 0, 0)\n",
      "('Création de la personne qui part de', 307, 337, 'pour aller à', 1023, 1023)\n",
      "('Création de la personne qui part de', 614, 182, 'pour aller à', 1023, 1023)\n",
      "('Création de la personne qui part de', 692, 10, 'pour aller à', 1023, 0)\n",
      "('Création de la personne qui part de', 903, 89, 'pour aller à', 1023, 1023)\n",
      "('Création de la personne qui part de', 585, 515, 'pour aller à', 0, 0)\n",
      "('Création de la personne qui part de', 945, 205, 'pour aller à', 0, 0)\n",
      "('Personne non créée, la place est occupée', 564, 552)\n",
      "('Création de la personne qui part de', 377, 73, 'pour aller à', 0, 0)\n",
      "('Création de la personne qui part de', 191, 1015, 'pour aller à', 0, 1023)\n",
      "('Création de la personne qui part de', 720, 941, 'pour aller à', 0, 0)\n",
      "('Création de la personne qui part de', 948, 570, 'pour aller à', 1023, 0)\n",
      "('Création de la personne qui part de', 283, 1011, 'pour aller à', 1023, 0)\n",
      "('Création de la personne qui part de', 766, 118, 'pour aller à', 0, 0)\n",
      "('Création de la personne qui part de', 494, 253, 'pour aller à', 0, 1023)\n",
      "('Création de la personne qui part de', 686, 574, 'pour aller à', 0, 1023)\n",
      "('Création de la personne qui part de', 588, 774, 'pour aller à', 1023, 1023)\n",
      "('Création de la personne qui part de', 173, 287, 'pour aller à', 0, 0)\n",
      "('Création de la personne qui part de', 607, 170, 'pour aller à', 0, 1023)\n",
      "('Création de la personne qui part de', 656, 402, 'pour aller à', 0, 1023)\n",
      "('Création de la personne qui part de', 924, 593, 'pour aller à', 1023, 1023)\n",
      "('Création de la personne qui part de', 642, 213, 'pour aller à', 0, 0)\n",
      "('Création de la personne qui part de', 650, 156, 'pour aller à', 1023, 0)\n",
      "('Création de la personne qui part de', 172, 859, 'pour aller à', 1023, 1023)\n",
      "('Création de la personne qui part de', 627, 262, 'pour aller à', 1023, 0)\n",
      "('Création de la personne qui part de', 175, 941, 'pour aller à', 1023, 1023)\n",
      "('Création de la personne qui part de', 160, 808, 'pour aller à', 0, 0)\n",
      "('Création de la personne qui part de', 206, 295, 'pour aller à', 0, 0)\n",
      "('Création de la personne qui part de', 447, 754, 'pour aller à', 1023, 0)\n",
      "('Création de la personne qui part de', 155, 8, 'pour aller à', 1023, 1023)\n",
      "('Création de la personne qui part de', 303, 387, 'pour aller à', 1023, 1023)\n",
      "('Création de la personne qui part de', 692, 925, 'pour aller à', 1023, 1023)\n",
      "('Création de la personne qui part de', 666, 460, 'pour aller à', 0, 0)\n",
      "('Création de la personne qui part de', 939, 74, 'pour aller à', 0, 1023)\n",
      "('Création de la personne qui part de', 935, 150, 'pour aller à', 0, 0)\n",
      "('Création de la personne qui part de', 739, 374, 'pour aller à', 1023, 0)\n",
      "('Création de la personne qui part de', 166, 155, 'pour aller à', 1023, 1023)\n",
      "('Création de la personne qui part de', 694, 622, 'pour aller à', 0, 1023)\n",
      "('Création de la personne qui part de', 562, 439, 'pour aller à', 0, 1023)\n",
      "('Création de la personne qui part de', 393, 68, 'pour aller à', 1023, 1023)\n",
      "('Création de la personne qui part de', 298, 975, 'pour aller à', 0, 1023)\n",
      "('Création de la personne qui part de', 494, 58, 'pour aller à', 1023, 1023)\n",
      "('Création de la personne qui part de', 848, 453, 'pour aller à', 1023, 1023)\n",
      "('Création de la personne qui part de', 205, 738, 'pour aller à', 1023, 1023)\n",
      "('Création de la personne qui part de', 94, 820, 'pour aller à', 1023, 1023)\n",
      "('Création de la personne qui part de', 663, 136, 'pour aller à', 0, 1023)\n",
      "('Création de la personne qui part de', 992, 414, 'pour aller à', 0, 0)\n",
      "('Création de la personne qui part de', 199, 635, 'pour aller à', 1023, 0)\n",
      "('Création de la personne qui part de', 61, 257, 'pour aller à', 0, 1023)\n",
      "('Création de la personne qui part de', 478, 603, 'pour aller à', 0, 1023)\n",
      "('Création de la personne qui part de', 451, 681, 'pour aller à', 0, 1023)\n",
      "('Personne non créée, la place est occupée', 437, 592)\n",
      "('Création de la personne qui part de', 404, 445, 'pour aller à', 0, 0)\n",
      "('Création de la personne qui part de', 336, 108, 'pour aller à', 0, 1023)\n",
      "('Création de la personne qui part de', 288, 654, 'pour aller à', 0, 0)\n",
      "('Création de la personne qui part de', 442, 236, 'pour aller à', 1023, 0)\n",
      "('Création de la personne qui part de', 532, 818, 'pour aller à', 1023, 0)\n",
      "('Création de la personne qui part de', 478, 437, 'pour aller à', 1023, 1023)\n",
      "('Création de la personne qui part de', 90, 900, 'pour aller à', 0, 0)\n",
      "('Création de la personne qui part de', 143, 703, 'pour aller à', 0, 0)\n",
      "('Création de la personne qui part de', 583, 543, 'pour aller à', 0, 1023)\n",
      "('Création de la personne qui part de', 961, 431, 'pour aller à', 0, 1023)\n",
      "('Création de la personne qui part de', 211, 899, 'pour aller à', 1023, 0)\n",
      "('Création de la personne qui part de', 175, 848, 'pour aller à', 0, 0)\n",
      "('Création de la personne qui part de', 27, 586, 'pour aller à', 0, 0)\n",
      "('Création de la personne qui part de', 583, 490, 'pour aller à', 1023, 0)\n",
      "('Création de la personne qui part de', 959, 741, 'pour aller à', 0, 0)\n",
      "('Création de la personne qui part de', 24, 263, 'pour aller à', 0, 0)\n",
      "('Personne non créée, la place est occupée', 371, 518)\n",
      "('Création de la personne qui part de', 639, 648, 'pour aller à', 0, 1023)\n",
      "('Création de la personne qui part de', 410, 851, 'pour aller à', 0, 0)\n",
      "('Création de la personne qui part de', 668, 845, 'pour aller à', 0, 0)\n",
      "('Création de la personne qui part de', 687, 173, 'pour aller à', 0, 1023)\n",
      "('Création de la personne qui part de', 981, 157, 'pour aller à', 0, 0)\n",
      "('Création de la personne qui part de', 96, 21, 'pour aller à', 0, 0)\n",
      "('Création de la personne qui part de', 708, 777, 'pour aller à', 1023, 1023)\n",
      "('Création de la personne qui part de', 895, 305, 'pour aller à', 0, 0)\n",
      "('Personne non créée, la place est occupée', 275, 327)\n",
      "('Création de la personne qui part de', 653, 500, 'pour aller à', 0, 1023)\n",
      "('Création de la personne qui part de', 403, 763, 'pour aller à', 0, 0)\n",
      "('Création de la personne qui part de', 1013, 426, 'pour aller à', 0, 0)\n",
      "('Création de la personne qui part de', 149, 419, 'pour aller à', 0, 0)\n",
      "('Création de la personne qui part de', 981, 243, 'pour aller à', 1023, 1023)\n",
      "('Création de la personne qui part de', 856, 664, 'pour aller à', 1023, 0)\n",
      "('Création de la personne qui part de', 604, 684, 'pour aller à', 1023, 1023)\n",
      "('Création de la personne qui part de', 833, 206, 'pour aller à', 1023, 1023)\n",
      "('Personne non créée, la place est occupée', 130, 302)\n",
      "('Création de la personne qui part de', 1018, 909, 'pour aller à', 1023, 0)\n",
      "('Création de la personne qui part de', 257, 178, 'pour aller à', 0, 0)\n",
      "('Création de la personne qui part de', 745, 955, 'pour aller à', 1023, 0)\n",
      "('Création de la personne qui part de', 674, 164, 'pour aller à', 0, 1023)\n",
      "('Création de la personne qui part de', 639, 347, 'pour aller à', 1023, 1023)\n",
      "('Création de la personne qui part de', 895, 3, 'pour aller à', 1023, 0)\n",
      "('Création de la personne qui part de', 236, 180, 'pour aller à', 0, 1023)\n",
      "('Création de la personne qui part de', 882, 398, 'pour aller à', 1023, 1023)\n",
      "('Création de la personne qui part de', 374, 950, 'pour aller à', 1023, 0)\n",
      "('Création de la personne qui part de', 875, 732, 'pour aller à', 0, 0)\n",
      "('Création de la personne qui part de', 448, 691, 'pour aller à', 0, 0)\n",
      "('Création de la personne qui part de', 992, 973, 'pour aller à', 1023, 0)\n",
      "('Création de la personne qui part de', 977, 578, 'pour aller à', 0, 1023)\n",
      "('Création de la personne qui part de', 68, 934, 'pour aller à', 0, 1023)\n",
      "('Création de la personne qui part de', 727, 574, 'pour aller à', 0, 0)\n",
      "('Création de la personne qui part de', 534, 994, 'pour aller à', 1023, 1023)\n",
      "('Création de la personne qui part de', 359, 46, 'pour aller à', 0, 1023)\n",
      "('Création de la personne qui part de', 443, 827, 'pour aller à', 1023, 0)\n",
      "('Création de la personne qui part de', 884, 78, 'pour aller à', 1023, 1023)\n",
      "('Création de la personne qui part de', 834, 564, 'pour aller à', 0, 0)\n",
      "('Création de la personne qui part de', 272, 520, 'pour aller à', 1023, 1023)\n",
      "('Création de la personne qui part de', 658, 178, 'pour aller à', 0, 1023)\n",
      "('Création de la personne qui part de', 312, 990, 'pour aller à', 0, 0)\n",
      "('Création de la personne qui part de', 814, 414, 'pour aller à', 1023, 0)\n",
      "('Création de la personne qui part de', 906, 351, 'pour aller à', 0, 1023)\n",
      "('Création de la personne qui part de', 955, 184, 'pour aller à', 0, 1023)\n",
      "('Création de la personne qui part de', 238, 457, 'pour aller à', 1023, 1023)\n",
      "('Création de la personne qui part de', 16, 985, 'pour aller à', 1023, 1023)\n",
      "('Création de la personne qui part de', 466, 523, 'pour aller à', 0, 0)\n",
      "('Création de la personne qui part de', 634, 130, 'pour aller à', 1023, 0)\n",
      "('Création de la personne qui part de', 833, 1014, 'pour aller à', 0, 1023)\n",
      "('Création de la personne qui part de', 503, 702, 'pour aller à', 0, 0)\n",
      "('Création de la personne qui part de', 308, 548, 'pour aller à', 0, 1023)\n",
      "('Création de la personne qui part de', 526, 603, 'pour aller à', 0, 0)\n",
      "('Création de la personne qui part de', 15, 383, 'pour aller à', 1023, 1023)\n",
      "('Création de la personne qui part de', 929, 704, 'pour aller à', 0, 1023)\n",
      "('Création de la personne qui part de', 672, 899, 'pour aller à', 0, 1023)\n",
      "('Création de la personne qui part de', 1015, 700, 'pour aller à', 1023, 1023)\n",
      "('Création de la personne qui part de', 729, 467, 'pour aller à', 1023, 1023)\n",
      "('Création de la personne qui part de', 325, 946, 'pour aller à', 0, 0)\n",
      "('Création de la personne qui part de', 242, 18, 'pour aller à', 1023, 1023)\n",
      "('Création de la personne qui part de', 703, 804, 'pour aller à', 1023, 1023)\n",
      "('Création de la personne qui part de', 303, 219, 'pour aller à', 1023, 0)\n",
      "('Création de la personne qui part de', 492, 768, 'pour aller à', 0, 1023)\n",
      "('Création de la personne qui part de', 44, 143, 'pour aller à', 0, 1023)\n",
      "('Création de la personne qui part de', 785, 40, 'pour aller à', 1023, 0)\n",
      "('Création de la personne qui part de', 162, 202, 'pour aller à', 1023, 1023)\n",
      "('Création de la personne qui part de', 422, 192, 'pour aller à', 1023, 0)\n",
      "('Création de la personne qui part de', 336, 898, 'pour aller à', 0, 0)\n",
      "('Création de la personne qui part de', 735, 1014, 'pour aller à', 1023, 1023)\n",
      "('Création de la personne qui part de', 865, 500, 'pour aller à', 0, 0)\n",
      "(1024, 'personnes ont été créées')\n"
     ]
    }
   ],
   "source": [
    "# La grille contient 2^10 personnes\n",
    "nb_person = np.power(2,10)\n",
    "\n",
    "coordonnee = np.zeros((2,1), dtype=np.int)\n",
    "sortie = np.zeros((2,1), dtype=np.int)\n",
    "while len(grid.personneList)<nb_person:\n",
    "    coordonnee[0] = np.random.randint(1,X)\n",
    "    coordonnee[1] = np.random.randint(1,Y)\n",
    "    sortie[0] = (X-1)*np.random.randint(2)\n",
    "    sortie[1] = (Y-1)*np.random.randint(2)\n",
    "    Personne(grid, int(coordonnee[0]), int(coordonnee[1]), int(sortie[0]), int(sortie[1]), debug)\n",
    "    \n",
    "debug.affiche(len(grid.personneList), \"personnes ont été créées\")"
   ]
  },
  {
   "cell_type": "code",
   "execution_count": 25,
   "metadata": {},
   "outputs": [],
   "source": [
    "# Sauvegarde de l'objet grille\n",
    "grid.Save(grande_grille)"
   ]
  },
  {
   "cell_type": "code",
   "execution_count": 26,
   "metadata": {},
   "outputs": [],
   "source": [
    "# Affichage de la grille créée\n",
    "if UI==affichage.OpenCV:\n",
    "    cv2.imshow(\"img\", createImage(grid.map))\n",
    "    cv2.waitKey(5000) # Affichage pendant 5 secondes\n",
    "    cv2.destroyAllWindows()"
   ]
  },
  {
   "cell_type": "markdown",
   "metadata": {},
   "source": [
    "## Solution itérative\n",
    "\n",
    "Chaque personne doit rejoindre sa case de sortie. Le code est fourni à titre d'exemple. Il est malheureusement incomplet car si une personne ne peut pas rejoindre sa case de sortie alors la simulation ne s'arrête pas.\n",
    "\n",
    "Si vous avez besoin de modifier les classes proposées. Il suffit de construire par héritage la nouvelle classe qui doit porter le même nom que la classe parente suffixé par \\_1 ou \\_2 ou \\_3 selon l'étape du projet, et de surcharger les méthodes qui doivent l'être.\n",
    "\n",
    "Les cellules suivantes donnent des exemples d'utilisation des primitives précédemment écrites."
   ]
  },
  {
   "cell_type": "markdown",
   "metadata": {},
   "source": [
    "### Avec trace mais sans visualisation"
   ]
  },
  {
   "cell_type": "code",
   "execution_count": 27,
   "metadata": {
    "ExecuteTime": {
     "end_time": "2020-09-09T14:57:23.812307Z",
     "start_time": "2020-09-09T14:57:23.802324Z"
    }
   },
   "outputs": [
    {
     "name": "stdout",
     "output_type": "stream",
     "text": [
      "('Ouverture du fichier', 'maps/map-initial.txt')\n",
      "('Simulation pour une grille:', 10, '*', 10)\n",
      "(\"Initilisation de l'objet grille\",)\n",
      "('obstacle non créé', ['-1', '-1', '-1', '-1'])\n",
      "(\"Création de l'obstacle (\", 1, 1, ') - (', 2, 7, ')')\n",
      "(\"Création de l'obstacle (\", 1, 7, ') - (', 8, 8, ')')\n",
      "(2, 'obstacles ont été créés')\n",
      "('Création de la personne qui part de', 2, 2, 'pour aller à', 0, 0)\n",
      "(1, 'personnes ont été créées')\n",
      "********************\n",
      "Début de la simulation\n",
      "('La personne (', 2, 2, ') peut se déplacer sur :', [(3, 2, 1)])\n",
      "('Déplacement de la personne de (', 2, 2, ') à (', 2, 1, ')')\n",
      "('La personne (', 2, 1, ') peut se déplacer sur :', [(2, 1, 1), (2, 2, 0)])\n",
      "('Déplacement de la personne de (', 2, 1, ') à (', 1, 1, ')')\n",
      "('La personne (', 1, 1, ') peut se déplacer sur :', [(1, 0, 1), (1, 1, 0)])\n",
      "('Déplacement de la personne de (', 1, 1, ') à (', 0, 1, ')')\n",
      "('La personne (', 0, 1, ') peut se déplacer sur :', [(0, 0, 0)])\n",
      "('Déplacement de la personne de (', 0, 1, ') à (', 0, 0, ')')\n",
      "('Une personne vient de sortir, il reste', 0, 'personnes')\n"
     ]
    }
   ],
   "source": [
    "# En mode debug avec 1 personne, sans UI\n",
    "debug = Debug(True)\n",
    "\n",
    "file = open_file(petite_grille, debug)  # On ouvre le fichier\n",
    "X, Y = read_grid_size(file, debug) # On lit la taille\n",
    "grid = Grille(X, Y, affichage.Aucun, debug)     # On créée l'objet grille\n",
    "read_obstacles(file, grid, Obstacle, debug)  # On lit et positionne les obstacles\n",
    "read_personnes(file, grid, Personne, 1, debug) # On lit et positionne une seule personne\n",
    "print(\"*\"*20)\n",
    "print(\"Début de la simulation\")\n",
    "grid.Simulation()"
   ]
  },
  {
   "cell_type": "markdown",
   "metadata": {},
   "source": [
    "### Visualisation de chacune des itérations avec Matplotlib"
   ]
  },
  {
   "cell_type": "code",
   "execution_count": 28,
   "metadata": {
    "ExecuteTime": {
     "end_time": "2020-09-09T14:49:25.241960Z",
     "start_time": "2020-09-09T14:49:24.715633Z"
    },
    "scrolled": true
   },
   "outputs": [
    {
     "data": {
      "image/png": "[encoded data removed]",
      "text/plain": [
       "<Figure size 432x288 with 1 Axes>"
      ]
     },
     "metadata": {
      "needs_background": "light"
     },
     "output_type": "display_data"
    },
    {
     "data": {
      "image/png": "[encoded data removed]",
      "text/plain": [
       "<Figure size 432x288 with 1 Axes>"
      ]
     },
     "metadata": {
      "needs_background": "light"
     },
     "output_type": "display_data"
    },
    {
     "data": {
      "image/png": "[encoded data removed]",
      "text/plain": [
       "<Figure size 432x288 with 1 Axes>"
      ]
     },
     "metadata": {
      "needs_background": "light"
     },
     "output_type": "display_data"
    },
    {
     "data": {
      "image/png": "[encoded data removed]",
      "text/plain": [
       "<Figure size 432x288 with 1 Axes>"
      ]
     },
     "metadata": {
      "needs_background": "light"
     },
     "output_type": "display_data"
    },
    {
     "data": {
      "image/png": "[encoded data removed]",
      "text/plain": [
       "<Figure size 432x288 with 1 Axes>"
      ]
     },
     "metadata": {
      "needs_background": "light"
     },
     "output_type": "display_data"
    },
    {
     "data": {
      "image/png": "[encoded data removed]",
      "text/plain": [
       "<Figure size 432x288 with 1 Axes>"
      ]
     },
     "metadata": {
      "needs_background": "light"
     },
     "output_type": "display_data"
    }
   ],
   "source": [
    "for img in grid.mapList:\n",
    "    plt.imshow(img, cmap='Paired', vmin=0, vmax=5)\n",
    "    plt.show()"
   ]
  },
  {
   "cell_type": "markdown",
   "metadata": {},
   "source": [
    "### Visualisation de chacune des itérations avec OpenCV"
   ]
  },
  {
   "cell_type": "code",
   "execution_count": 29,
   "metadata": {
    "ExecuteTime": {
     "end_time": "2020-09-09T14:49:37.845993Z",
     "start_time": "2020-09-09T14:49:25.860666Z"
    }
   },
   "outputs": [],
   "source": [
    "if UI==affichage.OpenCV:\n",
    "    for image in grid.mapList:\n",
    "        cv2.imshow(\"img\", createImage(image))\n",
    "        cv2.waitKey(500) # Wait for 0.5 second\n",
    "    cv2.destroyAllWindows()"
   ]
  },
  {
   "cell_type": "markdown",
   "metadata": {},
   "source": [
    "### Sans trace mais avec visualisation"
   ]
  },
  {
   "cell_type": "code",
   "execution_count": 30,
   "metadata": {
    "ExecuteTime": {
     "end_time": "2020-09-09T14:49:49.836016Z",
     "start_time": "2020-09-09T14:49:37.849761Z"
    }
   },
   "outputs": [],
   "source": [
    "# En mode sans trace avec 1 personne mais avec UI\n",
    "if UI==affichage.OpenCV:\n",
    "    debug = Debug(False)\n",
    "    file = open_file(petite_grille, debug)  # On ouvre le fichier\n",
    "    X, Y = read_grid_size(file, debug) # On lit la taille\n",
    "    grid = Grille(X, Y, affichage.OpenCV, debug)     # On créée l'objet grille\n",
    "    read_obstacles(file, grid, Obstacle, debug)  # On lit et positionne les obstacles\n",
    "    read_personnes(file, grid, Personne, 1, debug) # On lit et positionne une seule personne\n",
    "    grid.Simulation()"
   ]
  },
  {
   "cell_type": "markdown",
   "metadata": {},
   "source": [
    "## <span style=\"color:red\">Votre travail</span>\n",
    "\n",
    "Mettre en oeuvre plusieurs version du simulateur :\n",
    "1. Version itérative : un seul flot d'exécution. Celui-ci est presque terminé, il faut reste à trouver une manière la plus judicieuse possible pour résoudre le problème des personnes bloquées par un obsatacle sans modifier le comportement d'une personne.\n",
    "1. Version un flot d'exécution par personne. Attention a bien protéger par une section critique tout accès à une ressource concurrente que ce soit une trace d'exécution en mode debug ou une ressource partagée. On fera attention a reduire dans la mesure du possible la portée d'une section critique\n",
    "1. Version un flot d'exécution pour un quard de la grille. Une personne de coordonnée X, Y sera gérée par le flot d'exécution numéro $i = 2* (Y//(Ymax//2)) + X//(Xmax//2)$.\n",
    "\n",
    "Vous construirez ces différentes versions en créant si nécessaire des sous-classes aux classes existantes.\n",
    "\n"
   ]
  },
  {
   "cell_type": "markdown",
   "metadata": {
    "ExecuteTime": {
     "end_time": "2020-09-01T14:38:38.843007Z",
     "start_time": "2020-09-01T14:38:19.214514Z"
    }
   },
   "source": [
    "Bien évidemment, on attend une étude comparative des différentes approches. Pour vous aider dans l'analyse des solutions qui doivent être décrites vous utiliserez un nombre variable de personnes. Pour cela, vous adapterez le code suivant afin de pouvoir mesurer l'évolution du temps d'exécution en fonction du nombre de personnes présentes sur la grille et comparer les temps d'exécution entre les scénarios\n",
    "<code>\n",
    "debug = Debug(False)\n",
    "\n",
    "duration_i = []  # i est le numéro du scénario\n",
    "nb_personnes = []\n",
    "for i in range(11):\n",
    "    nb_personnes += [np.power(2, i)]\n",
    "    print(\"*\"*30)\n",
    "    print(\"pour\", nb_personnes[-1], \"personnes\")\n",
    "\n",
    "    file = open_file(grande_grille, debug)  # On ouvre le fichier\n",
    "    X, Y = read_grid_size(file, debug) # On lit la taille\n",
    "    debug.affiche(\"simulation pour une grille:\", X, Y)\n",
    "    grid = Grille(X, Y, debug)     # On créée l'objet grille\n",
    "    read_obstacles(file, grid, Obstacle, debug)  # On lit et positionne les obstacles\n",
    "    read_personnes(file, grid, Personne, nb_personnes[-1], debug) # On lit et positionne le nombre de personne souhaité seule personne\n",
    "    debug.affiche(\"nbre de personnes\", len(grid.personneList))\n",
    "    \n",
    "    start = time.time()\n",
    "    grid.Simulation(debug)\n",
    "    end = time.time()\n",
    "    duration_i += [end-start]\n",
    "    print(\"La simulation a duré\", duration1[-1], \"secondes\")\n",
    "    print(\"Il restait\", XXXXX, \"personnes immobiles\")<code>"
   ]
  },
  {
   "cell_type": "markdown",
   "metadata": {},
   "source": [
    "Vous ferez un plot de l'évolution des temps d'exécution\n",
    "<code>\n",
    "plt.plot(nb_personnes, duration_1, label=\"Une seule thread\")\n",
    "plt.plot(nb_personnes, duration_2, label=\"Une thread par personne\")\n",
    "plt.plot(nb_personnes, duration_2, label=\"Une thread par quard de terrain\")\n",
    "plt.xlabel(\"nombre de personnes\")\n",
    "plt.ylabel(\"temps en secondes\")\n",
    "plt.legend()\n",
    "plt.show()<code>"
   ]
  },
  {
   "cell_type": "markdown",
   "metadata": {
    "ExecuteTime": {
     "end_time": "2020-09-01T15:08:57.408399Z",
     "start_time": "2020-09-01T15:08:57.304373Z"
    }
   },
   "source": [
    "Vous calculerez les ratios entre les scénarios\n",
    "<code>\n",
    "ratio_2 = []\n",
    "ratio_3 = []\n",
    "for i,j,k in zip(duration_1, duration_2, duration_3):\n",
    "    ratio_2 += [j/i]\n",
    "    ratio_3 += [k/i]\n",
    "plt.plot(nb_personnes, ratio_2, label=\"...\")\n",
    "plt.plot(nb_personnes, ratio_3, label=\"...\")\n",
    "plt.xlabel(\"nombre de personnes\")\n",
    "plt.ylabel(\"...\")\n",
    "plt.legend()\n",
    "plt.show()<code>"
   ]
  },
  {
   "cell_type": "markdown",
   "metadata": {
    "ExecuteTime": {
     "end_time": "2020-09-09T14:49:56.668475Z",
     "start_time": "2020-09-09T14:49:56.663438Z"
    }
   },
   "source": [
    "Vous calculerez aussi le speedup (inverse du ratio précédent) et ferez un plot de celui-ci"
   ]
  },
  {
   "cell_type": "markdown",
   "metadata": {},
   "source": [
    "## Scénario 1 - version itérative"
   ]
  },
  {
   "cell_type": "code",
   "execution_count": 31,
   "metadata": {},
   "outputs": [],
   "source": [
    "class Grille_1(Grille):\n",
    "    def __init__(self, Xmax, Ymax, UI, debug):\n",
    "        Grille.__init__(self,Xmax,Ymax,UI,debug)\n",
    "    # Solution imparfaite car une personne peut être bloquée par un obstacle\n",
    "    def Simulation(self,debug):\n",
    "        if debug.debug or self.UI==affichage.OpenCV:\n",
    "            self.mapList.append(copy.copy(self.map))\n",
    "        if self.UI==affichage.OpenCV:\n",
    "            cv2.imshow(\"img\", createImage(self.map))\n",
    "            cv2.waitKey(500)\n",
    "    \n",
    "        while len(self.personneList)>0: # il y a encore une personne dans la liste qui peut bouger\n",
    "            for personne in self.personneList:\n",
    "                end, immobile = personne.deplacePersonne(self, debug)\n",
    "                if immobile:\n",
    "                    self.personneList.remove(personne)\n",
    "                if end:\n",
    "                    debug.affiche(\"Une personne vient de sortir, il reste\", len(self.personneList), \"personnes\")\n",
    "            if debug.debug or self.UI==affichage.OpenCV:\n",
    "                self.mapList.append(copy.copy(self.map))\n",
    "                if self.UI==affichage.OpenCV:\n",
    "                    cv2.imshow(\"img\", createImage(self.map))\n",
    "                    cv2.waitKey(500)\n",
    "    \n",
    "        if self.UI==affichage.OpenCV:\n",
    "            cv2.destroyAllWindows()\n",
    "    "
   ]
  },
  {
   "cell_type": "code",
   "execution_count": 32,
   "metadata": {},
   "outputs": [
    {
     "name": "stdout",
     "output_type": "stream",
     "text": [
      "('Ouverture du fichier', 'maps/map-initial.txt')\n",
      "('Simulation pour une grille:', 10, '*', 10)\n",
      "(\"Initilisation de l'objet grille\",)\n",
      "('obstacle non créé', ['-1', '-1', '-1', '-1'])\n",
      "(\"Création de l'obstacle (\", 1, 1, ') - (', 2, 7, ')')\n",
      "(\"Création de l'obstacle (\", 1, 7, ') - (', 8, 8, ')')\n",
      "(2, 'obstacles ont été créés')\n",
      "('Création de la personne qui part de', 2, 2, 'pour aller à', 0, 0)\n",
      "('Création de la personne qui part de', 3, 3, 'pour aller à', 0, 9)\n",
      "(2, 'personnes ont été créées')\n",
      "********************\n",
      "Début de la simulation\n",
      "('La personne (', 2, 2, ') peut se déplacer sur :', [(3, 2, 1)])\n",
      "('Déplacement de la personne de (', 2, 2, ') à (', 2, 1, ')')\n",
      "('La personne (', 3, 3, ') peut se déplacer sur :', [(8, 2, 3), (8, 3, 4)])\n",
      "('Déplacement de la personne de (', 3, 3, ') à (', 2, 3, ')')\n",
      "('La personne (', 2, 1, ') peut se déplacer sur :', [(2, 1, 1), (2, 2, 0)])\n",
      "('Déplacement de la personne de (', 2, 1, ') à (', 1, 1, ')')\n",
      "('La personne (', 2, 3, ') peut se déplacer sur :', [(7, 2, 4)])\n",
      "('Déplacement de la personne de (', 2, 3, ') à (', 2, 4, ')')\n",
      "('La personne (', 1, 1, ') peut se déplacer sur :', [(1, 0, 1), (1, 1, 0)])\n",
      "('Déplacement de la personne de (', 1, 1, ') à (', 0, 1, ')')\n",
      "('La personne (', 2, 4, ') peut se déplacer sur :', [(6, 2, 5)])\n",
      "('Déplacement de la personne de (', 2, 4, ') à (', 2, 5, ')')\n",
      "('La personne (', 0, 1, ') peut se déplacer sur :', [(0, 0, 0)])\n",
      "('Déplacement de la personne de (', 0, 1, ') à (', 0, 0, ')')\n",
      "('La personne (', 2, 5, ') peut se déplacer sur :', [(5, 2, 6)])\n",
      "('Déplacement de la personne de (', 2, 5, ') à (', 2, 6, ')')\n",
      "('Une personne vient de sortir, il reste', 1, 'personnes')\n",
      "('La personne (', 2, 6, ') peut se déplacer sur :', [(4, 2, 7)])\n",
      "('Déplacement de la personne de (', 2, 6, ') à (', 2, 7, ')')\n",
      "('La personne (', 2, 7, ') peut se déplacer sur :', [])\n",
      "('La personne (', 2, 7, 'ne peut pas se déplacer')\n"
     ]
    },
    {
     "data": {
      "image/png": "[encoded data removed]",
      "text/plain": [
       "<Figure size 432x288 with 1 Axes>"
      ]
     },
     "metadata": {
      "needs_background": "light"
     },
     "output_type": "display_data"
    },
    {
     "data": {
      "image/png": "[encoded data removed]",
      "text/plain": [
       "<Figure size 432x288 with 1 Axes>"
      ]
     },
     "metadata": {
      "needs_background": "light"
     },
     "output_type": "display_data"
    },
    {
     "data": {
      "image/png": "[encoded data removed]",
      "text/plain": [
       "<Figure size 432x288 with 1 Axes>"
      ]
     },
     "metadata": {
      "needs_background": "light"
     },
     "output_type": "display_data"
    },
    {
     "data": {
      "image/png": "[encoded data removed]",
      "text/plain": [
       "<Figure size 432x288 with 1 Axes>"
      ]
     },
     "metadata": {
      "needs_background": "light"
     },
     "output_type": "display_data"
    },
    {
     "data": {
      "image/png": "[encoded data removed]",
      "text/plain": [
       "<Figure size 432x288 with 1 Axes>"
      ]
     },
     "metadata": {
      "needs_background": "light"
     },
     "output_type": "display_data"
    },
    {
     "data": {
      "image/png": "[encoded data removed]",
      "text/plain": [
       "<Figure size 432x288 with 1 Axes>"
      ]
     },
     "metadata": {
      "needs_background": "light"
     },
     "output_type": "display_data"
    },
    {
     "data": {
      "image/png": "[encoded data removed]",
      "text/plain": [
       "<Figure size 432x288 with 1 Axes>"
      ]
     },
     "metadata": {
      "needs_background": "light"
     },
     "output_type": "display_data"
    },
    {
     "data": {
      "image/png": "[encoded data removed]",
      "text/plain": [
       "<Figure size 432x288 with 1 Axes>"
      ]
     },
     "metadata": {
      "needs_background": "light"
     },
     "output_type": "display_data"
    }
   ],
   "source": [
    "''' code du scénario 1 - vous pouvez utiliser plusieurs cellule '''\n",
    "debug = Debug(True)\n",
    "\n",
    "file = open_file(petite_grille, debug)  # On ouvre le fichier\n",
    "X, Y = read_grid_size(file, debug) # On lit la taille\n",
    "grid = Grille_1(X, Y, affichage.Aucun, debug)     # On créée l'objet grille\n",
    "read_obstacles(file, grid, Obstacle, debug)  # On lit et positionne les obstacles\n",
    "read_personnes(file, grid, Personne, 2, debug) # On lit et positionne une seule personne\n",
    "print(\"*\"*20)\n",
    "print(\"Début de la simulation\")\n",
    "grid.Simulation(debug)\n",
    "\n",
    "for img in grid.mapList:\n",
    "    plt.imshow(img, cmap='Paired', vmin=0, vmax=5)\n",
    "    plt.show()"
   ]
  },
  {
   "cell_type": "code",
   "execution_count": 33,
   "metadata": {},
   "outputs": [
    {
     "name": "stdout",
     "output_type": "stream",
     "text": [
      "La simulation a duré 9.632110595703125e-05 secondes\n"
     ]
    }
   ],
   "source": [
    "''' plot du temps d'exécution en fonction du nombre de personnes '''\n",
    "duration_i = [] # i est le numéro du scénario \n",
    "\n",
    "debug = Debug(False)\n",
    "start = time.time()\n",
    "grid.Simulation(debug)\n",
    "end = time.time()\n",
    "duration_i += [end-start]\n",
    "print(\"La simulation a duré\", duration_i[-1], \"secondes\")"
   ]
  },
  {
   "cell_type": "markdown",
   "metadata": {},
   "source": [
    "Votre analyse du scénario 1"
   ]
  },
  {
   "cell_type": "markdown",
   "metadata": {},
   "source": [
    "## Scénario 2 - version 1 thread par personne"
   ]
  },
  {
   "cell_type": "markdown",
   "metadata": {},
   "source": [
    "## Scénario 3 - version 1 thread pour 1/4 de la grille"
   ]
  },
  {
   "cell_type": "markdown",
   "metadata": {},
   "source": [
    "## Comparaison des trois approches\n",
    "\n",
    "<span style=\"color:red\">On attend ici une comparaison argumentée permettant de mettre en évidence les points forts et les points faibles des différentes solutions</span>"
   ]
  },
  {
   "cell_type": "markdown",
   "metadata": {},
   "source": [
    "## Export du notebook dans un fichier python"
   ]
  },
  {
   "cell_type": "code",
   "execution_count": null,
   "metadata": {
    "ExecuteTime": {
     "end_time": "2020-09-09T14:49:56.670691Z",
     "start_time": "2020-09-09T14:49:41.283Z"
    }
   },
   "outputs": [],
   "source": [
    "import sys,json\n",
    "import ipyparams\n",
    "\n",
    "def convertNotebook(notebookPath, modulePath):\n",
    "    f = open(notebookPath, 'r') #input.ipynb\n",
    "    j = json.load(f)\n",
    "\n",
    "    of = open(modulePath, 'w') #output.py\n",
    "\n",
    "    if j[\"nbformat\"] >=4:\n",
    "        for i,cell in enumerate(j[\"cells\"]):\n",
    "            if cell['cell_type']=='code':\n",
    "                of.write(\"#cell \"+str(i+1)+\"\\n\")\n",
    "                for line in cell[\"source\"]:\n",
    "                    of.write(line)\n",
    "                of.write('\\n\\n')\n",
    "    else:\n",
    "        print(\"not implemented\")\n",
    "\n",
    "    of.close()"
   ]
  },
  {
   "cell_type": "code",
   "execution_count": null,
   "metadata": {
    "ExecuteTime": {
     "end_time": "2020-09-09T14:49:56.671833Z",
     "start_time": "2020-09-09T14:49:46.226Z"
    }
   },
   "outputs": [],
   "source": [
    "''' Remarks: it is necessary to put the import code in a separate cell above the call of function.\n",
    "Otherwise Jupyter will try to run the code before the library is fully loaded,\n",
    "so the currentNotebook variable is still blank.\n",
    "\n",
    "Putting the import in its own cell forces it to load before moving to the next cell.\n",
    "'''\n",
    "if is_running_from_ipython():\n",
    "    currentNotebook = ipyparams.notebook_name\n",
    "    pythonName = currentNotebook.split(\".\")[0]+\".py\"\n",
    "    \n",
    "    convertNotebook(currentNotebook, pythonName)"
   ]
  },
  {
   "cell_type": "code",
   "execution_count": null,
   "metadata": {},
   "outputs": [],
   "source": []
  }
 ],
 "metadata": {
  "kernelspec": {
   "display_name": "Python 3",
   "language": "python",
   "name": "python3"
  },
  "language_info": {
   "codemirror_mode": {
    "name": "ipython",
    "version": 3
   },
   "file_extension": ".py",
   "mimetype": "text/x-python",
   "name": "python",
   "nbconvert_exporter": "python",
   "pygments_lexer": "ipython3",
   "version": "3.8.5"
  },
  "latex_envs": {
   "LaTeX_envs_menu_present": true,
   "autoclose": true,
   "autocomplete": true,
   "bibliofile": "biblio.bib",
   "cite_by": "apalike",
   "current_citInitial": 1,
   "eqLabelWithNumbers": true,
   "eqNumInitial": 1,
   "hotkeys": {
    "equation": "Ctrl-E",
    "itemize": "Ctrl-I"
   },
   "labels_anchors": false,
   "latex_user_defs": false,
   "report_style_numbering": false,
   "user_envs_cfg": false
  },
  "nbTranslate": {
   "displayLangs": [
    "*"
   ],
   "hotkey": "alt-t",
   "langInMainMenu": true,
   "sourceLang": "en",
   "targetLang": "fr",
   "useGoogleTranslate": true
  },
  "toc": {
   "base_numbering": 1,
   "nav_menu": {},
   "number_sections": true,
   "sideBar": true,
   "skip_h1_title": true,
   "title_cell": "Table of Contents",
   "title_sidebar": "Contents",
   "toc_cell": true,
   "toc_position": {},
   "toc_section_display": true,
   "toc_window_display": false
  }
 },
 "nbformat": 4,
 "nbformat_minor": 4
}
