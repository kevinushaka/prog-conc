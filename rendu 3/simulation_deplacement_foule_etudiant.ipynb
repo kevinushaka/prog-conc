{
 "cells": [
  {
   "cell_type": "markdown",
   "metadata": {
    "id": "VqXeFgZWgNrH"
   },
   "source": [
    "# Simulation de déplacement d'une foule\n",
    "\n",
    "USHAKA KUBWAWE Kévin\n",
    "ADANLEHOUSSI Denis"
   ]
  },
  {
   "cell_type": "markdown",
   "metadata": {
    "ExecuteTime": {
     "end_time": "2020-09-09T14:05:18.487484Z",
     "start_time": "2020-09-09T14:05:18.483571Z"
    },
    "id": "413TubpHgNrJ"
   },
   "source": [
    "## Introduction\n",
    "<span style=\"color:red\">Mettre ici votre description du projet.</span>"
   ]
  },
  {
   "cell_type": "markdown",
   "metadata": {
    "id": "4LhToZsjgNrK",
    "toc": true
   },
   "source": [
    "<h1>Table of Contents<span class=\"tocSkip\"></span></h1>\n",
    "<div class=\"toc\"><ul class=\"toc-item\"><li><span><a href=\"#Introduction\" data-toc-modified-id=\"Introduction-1\"><span class=\"toc-item-num\">1&nbsp;&nbsp;</span>Introduction</a></span></li><li><span><a href=\"#Bibliothèque-Python-pour-le-multi-flots-d'exécution.\" data-toc-modified-id=\"Bibliothèque-Python-pour-le-multi-flots-d'exécution.-2\"><span class=\"toc-item-num\">2&nbsp;&nbsp;</span>Bibliothèque Python pour le multi-flots d'exécution.</a></span></li><li><span><a href=\"#Les-mécanismes-de-synchronisation-en-Python\" data-toc-modified-id=\"Les-mécanismes-de-synchronisation-en-Python-3\"><span class=\"toc-item-num\">3&nbsp;&nbsp;</span>Les mécanismes de synchronisation en Python</a></span></li><li><span><a href=\"#Définitions-de-quelques-procédures-pour-initialiser-une-grille-à-partir-d'un-fichier-de-configuration\" data-toc-modified-id=\"Définitions-de-quelques-procédures-pour-initialiser-une-grille-à-partir-d'un-fichier-de-configuration-4\"><span class=\"toc-item-num\">4&nbsp;&nbsp;</span>Définitions de quelques procédures pour initialiser une grille à partir d'un fichier de configuration</a></span><ul class=\"toc-item\"><li><span><a href=\"#Définition-de-la-grille\" data-toc-modified-id=\"Définition-de-la-grille-4.1\"><span class=\"toc-item-num\">4.1&nbsp;&nbsp;</span>Définition de la grille</a></span></li><li><span><a href=\"#Définition-d'un-obstacle\" data-toc-modified-id=\"Définition-d'un-obstacle-4.2\"><span class=\"toc-item-num\">4.2&nbsp;&nbsp;</span>Définition d'un obstacle</a></span></li><li><span><a href=\"#Définition-d'une-personne\" data-toc-modified-id=\"Définition-d'une-personne-4.3\"><span class=\"toc-item-num\">4.3&nbsp;&nbsp;</span>Définition d'une personne</a></span></li><li><span><a href=\"#Construction-d'une-image-pour-OpenCV\" data-toc-modified-id=\"Construction-d'une-image-pour-OpenCV-4.4\"><span class=\"toc-item-num\">4.4&nbsp;&nbsp;</span>Construction d'une image pour OpenCV</a></span></li></ul></li><li><span><a href=\"#Solution-itérative\" data-toc-modified-id=\"Solution-itérative-5\"><span class=\"toc-item-num\">5&nbsp;&nbsp;</span>Solution itérative</a></span><ul class=\"toc-item\"><li><span><a href=\"#Avec-trace-mais-sans-visualisation\" data-toc-modified-id=\"Avec-trace-mais-sans-visualisation-5.1\"><span class=\"toc-item-num\">5.1&nbsp;&nbsp;</span>Avec trace mais sans visualisation</a></span></li><li><span><a href=\"#Visualisation-de-chacune-des-itérations-avec-Matplotlib\" data-toc-modified-id=\"Visualisation-de-chacune-des-itérations-avec-Matplotlib-5.2\"><span class=\"toc-item-num\">5.2&nbsp;&nbsp;</span>Visualisation de chacune des itérations avec Matplotlib</a></span></li><li><span><a href=\"#Visualisation-de-chacune-des-itérations-avec-OpenCV\" data-toc-modified-id=\"Visualisation-de-chacune-des-itérations-avec-OpenCV-5.3\"><span class=\"toc-item-num\">5.3&nbsp;&nbsp;</span>Visualisation de chacune des itérations avec OpenCV</a></span></li><li><span><a href=\"#Sans-trace-mais-avec-visualisation\" data-toc-modified-id=\"Sans-trace-mais-avec-visualisation-5.4\"><span class=\"toc-item-num\">5.4&nbsp;&nbsp;</span>Sans trace mais avec visualisation</a></span></li><li><span><a href=\"#Utilisation-des-procédures-précédentes-pour-créer-une-nouvelle-grille-qui-sera-sauvegardée-dans-un-fichier\" data-toc-modified-id=\"Utilisation-des-procédures-précédentes-pour-créer-une-nouvelle-grille-qui-sera-sauvegardée-dans-un-fichier-5.5\"><span class=\"toc-item-num\">5.5&nbsp;&nbsp;</span>Utilisation des procédures précédentes pour créer une nouvelle grille qui sera sauvegardée dans un fichier</a></span></li></ul></li><li><span><a href=\"#Votre-travail\" data-toc-modified-id=\"Votre-travail-6\"><span class=\"toc-item-num\">6&nbsp;&nbsp;</span><span style=\"color: red\">Votre travail</span></a></span></li><li><span><a href=\"#Scénario-1\" data-toc-modified-id=\"Scénario-1-7\"><span class=\"toc-item-num\">7&nbsp;&nbsp;</span>Scénario 1</a></span></li><li><span><a href=\"#Scénario-2\" data-toc-modified-id=\"Scénario-2-8\"><span class=\"toc-item-num\">8&nbsp;&nbsp;</span>Scénario 2</a></span></li><li><span><a href=\"#Scénario-3\" data-toc-modified-id=\"Scénario-3-9\"><span class=\"toc-item-num\">9&nbsp;&nbsp;</span>Scénario 3</a></span></li><li><span><a href=\"#Comparaison-des-trois-approches\" data-toc-modified-id=\"Comparaison-des-trois-approches-10\"><span class=\"toc-item-num\">10&nbsp;&nbsp;</span>Comparaison des trois approches</a></span></li><li><span><a href=\"#Export-du-notebook-dans-un-fichier-python\" data-toc-modified-id=\"Export-du-notebook-dans-un-fichier-python-11\"><span class=\"toc-item-num\">11&nbsp;&nbsp;</span>Export du notebook dans un fichier python</a></span></li></ul></div>"
   ]
  },
  {
   "cell_type": "markdown",
   "metadata": {
    "id": "bKyn-XVXgNrL"
   },
   "source": [
    "## Bibliothèque Python pour le multi-flots d'exécution.\n",
    "\n",
    "<span style=\"color:red\">Dans cette section vous présenterez votre étude comparative, avec exemple, des bibliothèques python permettant d'exécuter plusieurs flots en parallèle</span>\n",
    "\n",
    "<span style=\"color:red\">Vous préciserez de manière justifiée à la fin de cette section la bibliothèque choisie. La cellule suivante, exécutable comprendra l'import de la bibliothèque.</span>"
   ]
  },
  {
   "cell_type": "markdown",
   "metadata": {
    "id": "vwtXW_8ZgNrV"
   },
   "source": [
    "Il existe plusieures modules qui prennent en charge l'utilisation des threads en Python: _thread, multiprocessing, threading, asyncio.\n",
    "\n",
    "Le module _thread traite un thread comme une fonction, tandis que les modules multiprocessing, threading et asyncio sont implémentés de manière orientée objet, c'est-à-dire que chaque processus/thread correspond à un objet.\n",
    "\n",
    "Quand on fait du multi-threading en python, 2 threads ne peuvent pas exécuter du code python en même temps à cause du Global Interpreter Lock. L'exécution simultanée de plusieurs tâches nécessite une implémentation non standard de Python ou l'utilisation du multiprocessing qui entraîne une surcharge supplémentaire.\n",
    "\n",
    "Quand on fait du multi-processing, c'est plus lourd, car il faut créer des processus, et la communication entre process est plus difficile car ils ne partagent pas la mémoire.\n",
    "\n",
    "\n",
    "##Pourquoi GIL? \n",
    "\n",
    "Python utilise le comptage de références pour la gestion de la mémoire. Cela signifie que les objets créés en Python ont une variable de comptage de références qui assure le suivi du nombre de références pointant vers l'objet. Lorsque ce décompte atteint zéro, la mémoire occupée par l'objet est libérée.\n",
    "\n",
    "Le problème est que cette variable de comptage de référence nécessite une protection contre les conditions de concurrence où deux threads augmentent ou diminuent simultanément sa valeur. Cela peut provoquer une fuite de mémoire qui n'est jamais libérée ouune libération incorrecte de la mémoire alors qu'une référence à cet objet existe toujours.\n"
   ]
  },
  {
   "cell_type": "markdown",
   "metadata": {
    "id": "Yz5ZBkgBgNrb"
   },
   "source": [
    "## _thread"
   ]
  },
  {
   "cell_type": "markdown",
   "metadata": {
    "id": "SoRhIC9xgNrd"
   },
   "source": [
    "Il est possible d'exécuter des fonctions dans un thread séparé avec le module Thread.\n",
    "\n",
    "thread.start_new_thread (fonction, args [, kwargs])\n",
    "\n",
    "Cette méthode démarre un nouveau thread et renvoie son identifiant. Le thread exécute la fonction avec l'argument list args. L'argument kwargs facultatif spécifie un dictionnaire d'arguments de mot-clé. Lorsque la fonction revient, le thread se ferme silencieusement. Lorsque la fonction se termine avec une exception non gérée, une trace de pile est imprimée, puis le thread se termine.\n"
   ]
  },
  {
   "cell_type": "code",
   "execution_count": 88,
   "metadata": {
    "colab": {
     "base_uri": "https://localhost:8080/"
    },
    "id": "1wn4NUu1gNre",
    "outputId": "a36a259a-2b09-4392-8003-b7a28161aeff"
   },
   "outputs": [
    {
     "name": "stdout",
     "output_type": "stream",
     "text": [
      "Done.\n",
      "Thread 99: starting.\n",
      "Thread 1733: starting.\n",
      "Thread 999: starting.\n"
     ]
    }
   ],
   "source": [
    "from _thread import start_new_thread\n",
    "import time\n",
    "\n",
    "def thread_function(name):\n",
    "    print(\"Thread \" +str(name)+ \": starting.\")\n",
    "    time.sleep(2)\n",
    "    print(\"Thread \" +str(name)+\": finishing.\")\n",
    "\n",
    "start_new_thread(thread_function,(99,))\n",
    "start_new_thread(thread_function,(999,))\n",
    "start_new_thread(thread_function,(1733,))\n",
    "\n",
    "print(\"Done.\")"
   ]
  },
  {
   "cell_type": "markdown",
   "metadata": {
    "id": "Jos1xA-6gNrn"
   },
   "source": [
    "## threading"
   ]
  },
  {
   "cell_type": "markdown",
   "metadata": {
    "id": "UJonTATJgNrp"
   },
   "source": [
    "Le module threading fournit une API de fils d'exécution de haut niveau, plus facile à utiliser et construite à partir de ce module.\n",
    "\n",
    "Pour implémenter un nouveau thread à l'aide du module de threading,on doit-\n",
    "\n",
    "Définir une nouvelle sous-classe de la classe Thread.\n",
    "\n",
    "Override la méthode __init __ (self [, args]) pour ajouter des arguments supplémentaires.\n",
    "\n",
    "Override la méthode run (self [, args]) pour implémenter ce que le thread doit faire au démarrage."
   ]
  },
  {
   "cell_type": "code",
   "execution_count": 91,
   "metadata": {
    "colab": {
     "base_uri": "https://localhost:8080/"
    },
    "id": "tU5zmxB9gNrq",
    "outputId": "f0e116b1-fe25-422e-9cb1-e350bdbf6cc6"
   },
   "outputs": [
    {
     "name": "stdout",
     "output_type": "stream",
     "text": [
      "Starting Thread-1\n",
      "Starting Thread-2\n",
      "Exiting Main Thread\n"
     ]
    }
   ],
   "source": [
    "import time\n",
    "\n",
    "exitFlag = 0\n",
    "\n",
    "class myThread (threading.Thread):\n",
    "   def __init__(self, threadID, name, counter):\n",
    "      threading.Thread.__init__(self)\n",
    "      self.threadID = threadID\n",
    "      self.name = name\n",
    "      self.counter = counter\n",
    "   def run(self):\n",
    "      print (\"Starting \" + self.name)\n",
    "      print_time(self.name, 5, self.counter)\n",
    "      print (\"Exiting \" + self.name)\n",
    "\n",
    "def print_time(threadName, counter, delay):\n",
    "   while counter:\n",
    "      if exitFlag:\n",
    "         threadName.exit()\n",
    "      time.sleep(delay)\n",
    "      print (threadName + time.ctime(time.time()))\n",
    "      counter -= 1\n",
    "\n",
    "# Create new threads\n",
    "thread1 = myThread(1, \"Thread-1\", 1)\n",
    "thread2 = myThread(2, \"Thread-2\", 2)\n",
    "\n",
    "# Start new Threads\n",
    "thread1.start()\n",
    "thread2.start()\n",
    "\n",
    "print (\"Exiting Main Thread\")"
   ]
  },
  {
   "cell_type": "markdown",
   "metadata": {
    "id": "usNZ_Di_gNrw"
   },
   "source": [
    "## multiprocessing"
   ]
  },
  {
   "cell_type": "code",
   "execution_count": 92,
   "metadata": {
    "id": "sV4v4vM0gNrx"
   },
   "outputs": [],
   "source": [
    "import multiprocessing"
   ]
  },
  {
   "cell_type": "markdown",
   "metadata": {
    "id": "gnoKKVG_gNr_"
   },
   "source": [
    "Le module multiprocessing permet de tirer pleinement parti de plusieurs processeurs sur une machine donnée. L'API utilisée est similaire au module de threading classique. Pour créer un second processus, il faut instancier un objet Process avec une fonction cible et appeler start () pour le laisser commencer à fonctionner. Le guide de style multiprocessing Python recommande de placer le code multiprocesseur dans l'idiome name == 'main'. Cela est dû à la façon dont les processus sont créés sous Windows. Le but est d'éviter la boucle sans fin des générations de processus."
   ]
  },
  {
   "cell_type": "code",
   "execution_count": 93,
   "metadata": {
    "colab": {
     "base_uri": "https://localhost:8080/"
    },
    "id": "dk0QqWoAgNsA",
    "outputId": "a72ca203-375b-4356-9808-932052969c4f"
   },
   "outputs": [
    {
     "name": "stdout",
     "output_type": "stream",
     "text": [
      "Worker:0\n",
      "Worker:1\n",
      "Worker:3\n",
      "Worker:2\n",
      "Worker:4\n"
     ]
    }
   ],
   "source": [
    "def worker(num):\n",
    "    print ('Worker:'+ str(num))\n",
    "    return\n",
    "\n",
    "if __name__ == '__main__':\n",
    "    jobs = []\n",
    "    for i in range(5):\n",
    "        p = multiprocessing.Process(target=worker, args=(i,))\n",
    "        jobs.append(p)\n",
    "        p.start()"
   ]
  },
  {
   "cell_type": "markdown",
   "metadata": {
    "id": "frqIIk7_gNsU"
   },
   "source": [
    "Par défaut, le programme principal ne se fermera pas tant que tous les enfants ne seront pas sortis.\n",
    "\n",
    "Un thread daemon s'arrêtera immédiatement lorsque le programme se fermera. Le thread daemon est un thread qui s'exécute en arrière-plan sans se soucier de l'arrêter.\n",
    "\n",
    "Un programme exécutant des threads qui ne sont pas des daemon attendra que ces threads se terminent avant de se terminer. Cependant, les threads qui sont des daemons sont simplement tués où qu'ils soient lorsque le programme se termine.\n",
    "\n",
    "Pour marquer un processus comme un daemon, il faut définir son attribut de démon avec une valeur booléenne. La valeur par défaut est que les processus ne sont pas des daemon, donc passer True active le mode daemon."
   ]
  },
  {
   "cell_type": "code",
   "execution_count": 94,
   "metadata": {
    "colab": {
     "base_uri": "https://localhost:8080/"
    },
    "id": "mF1vPE7AgNsX",
    "outputId": "496d269d-3072-4d7e-b6b7-21da81b4f711"
   },
   "outputs": [
    {
     "name": "stdout",
     "output_type": "stream",
     "text": [
      "End of main thread\n",
      "Hello from daemon\n",
      "Hello from non daemon\n",
      "Hello from non daemon\n",
      "Hello from daemon\n",
      "Hello from daemon\n",
      "Hello from daemon\n",
      "Hello from non daemon\n",
      "Hello from daemon\n",
      "Hello from non daemon\n",
      "Hello from non daemon\n"
     ]
    }
   ],
   "source": [
    "import time\n",
    "import sys\n",
    "\n",
    "def nondaemon():\n",
    "    for x in range(5): \n",
    "        print(\"Hello from non daemon\")\n",
    "def daemon():\n",
    "    for x in range(5): \n",
    "        print(\"Hello from daemon\")\n",
    "    \n",
    "if __name__ == '__main__':\n",
    "    d = multiprocessing.Process(target=daemon)\n",
    "    d.daemon = True\n",
    "\n",
    "    n = multiprocessing.Process(target=nondaemon)\n",
    "    n.daemon = False\n",
    "\n",
    "    d.start()\n",
    "    n.start()\n",
    "\n",
    "    print(\"End of main thread\")"
   ]
  },
  {
   "cell_type": "markdown",
   "metadata": {
    "id": "A9F-BBJngNsd"
   },
   "source": [
    "Les processus ont leur propre espace virtuel, ils ne partagent pas leur mémoire. C'est pourquoi le module multiprocessing gère deux types de canaux de communication entre les processus : Queue , Tubes."
   ]
  },
  {
   "cell_type": "code",
   "execution_count": 96,
   "metadata": {
    "colab": {
     "base_uri": "https://localhost:8080/"
    },
    "id": "CxGlvrvVgNse",
    "outputId": "dd3cb59e-88d8-4f52-f51a-40b5f0ba7d34"
   },
   "outputs": [
    {
     "name": "stdout",
     "output_type": "stream",
     "text": [
      "[42, None, 'hello']\n"
     ]
    }
   ],
   "source": [
    "from multiprocessing import Process, Queue\n",
    "\n",
    "def f(q):\n",
    "    q.put([42, None, 'hello'])\n",
    "\n",
    "if __name__ == '__main__':\n",
    "    q = Queue()\n",
    "    p = Process(target=f, args=(q,))\n",
    "    p.start()\n",
    "    print(q.get())    # prints \"[42, None, 'hello']\"\n",
    "    p.join()"
   ]
  },
  {
   "cell_type": "markdown",
   "metadata": {
    "id": "-2cUTObhgNsm"
   },
   "source": [
    "Pour utiliser un tube on instancie un objet Pipe. Les deux objets de connexion renvoyés par Pipe() représentent les deux bouts d'un tube. Chaque objet de connexion possède des méthodes send() et recv()."
   ]
  },
  {
   "cell_type": "code",
   "execution_count": 97,
   "metadata": {
    "colab": {
     "base_uri": "https://localhost:8080/"
    },
    "id": "LaKsOEu2gNso",
    "outputId": "3405a466-2532-4512-92ab-b79461ed62ac"
   },
   "outputs": [
    {
     "name": "stdout",
     "output_type": "stream",
     "text": [
      "[42, None, 'hello']\n"
     ]
    }
   ],
   "source": [
    "from multiprocessing import Process, Pipe\n",
    "\n",
    "def f(conn):\n",
    "    conn.send([42, None, 'hello'])\n",
    "    conn.close()\n",
    "\n",
    "if __name__ == '__main__':\n",
    "    parent_conn, child_conn = Pipe()\n",
    "    p = Process(target=f, args=(child_conn,))\n",
    "    p.start()\n",
    "    print(parent_conn.recv())   # prints \"[42, None, 'hello']\"\n",
    "    p.join()"
   ]
  },
  {
   "cell_type": "markdown",
   "metadata": {
    "id": "zmBgHk4ggNsz"
   },
   "source": [
    "Il est également possible de créer des objets partagés utilisant une mémoire partagée pouvant être héritée par les processus enfants avec multiprocessing.Value(typecode_or_type, *args, lock=True).\n",
    "\n",
    "Les opérations telles que += qui impliquent une lecture et une écriture ne sont pas atomique. Ainsi si on souhaite par exemple réaliser une incrémentation atomique sur une valeur partagée, on ne peut pas simplement faire."
   ]
  },
  {
   "cell_type": "code",
   "execution_count": 98,
   "metadata": {
    "colab": {
     "base_uri": "https://localhost:8080/"
    },
    "id": "TNlJ162FgNs0",
    "outputId": "151d0c7c-2ad4-4dd2-8975-f4e243da71a4"
   },
   "outputs": [
    {
     "name": "stdout",
     "output_type": "stream",
     "text": [
      "Final balance = 2\n"
     ]
    }
   ],
   "source": [
    "# function to deposit to account \n",
    "def increment(variable):     \n",
    "    variable.value = variable.value + 1\n",
    "\n",
    "if __name__ == \"__main__\": \n",
    "    counter = multiprocessing.Value('i', 0)\n",
    "\n",
    "    p1 = multiprocessing.Process(target=increment, args=(counter,)) \n",
    "    p2 = multiprocessing.Process(target=increment, args=(counter,)) \n",
    "  \n",
    "    p1.start() \n",
    "    p2.start() \n",
    "\n",
    "    p1.join();\n",
    "    p2.join();\n",
    "\n",
    "    print(\"Final balance = \"+str(counter.value)) "
   ]
  },
  {
   "cell_type": "markdown",
   "metadata": {
    "id": "YVlmdX7DgNs7"
   },
   "source": [
    "## asyncio"
   ]
  },
  {
   "cell_type": "markdown",
   "metadata": {
    "id": "vWtVBClSgNs8"
   },
   "source": [
    "Le concept général de asyncio est qu’un seul objet Python, appelé la boucle d’événements, contrôle comment et quand chaque tâche est exécutée. La boucle d’événements est consciente de chaque tâche et sait dans quel état elle se trouve. En réalité, il existe de nombreux états dans lesquels les tâches pourraient être mais nous allons dans un souci de simplicité supposer qu'il n'y a que deux états.\n",
    "\n",
    "L’état prêt indique qu’une tâche a du travail à faire et est prête à être exécutée, et l’état d’attente signifie que la tâche attend que quelque chose externe se termine (une opération réseau par exemple).\n",
    "\n",
    "La boucle d’événements simplifiée gère deux listes de tâches, une pour chacun de ces états. Il sélectionne l’une des tâches prêtes et la redémarre. Cette tâche est sous contrôle complet jusqu’à ce qu’elle remette en coopération le contrôle à la boucle d’événements.\n",
    "\n",
    "Lorsque la tâche en cours d’exécution redonne le contrôle à la boucle d’événements, la boucle d’événements place cette tâche dans la liste prête ou en attente, puis passe en revue chacune des tâches de la liste d’attente pour voir si elle est devenue prête par une opération d’E/S achèvement. Et ainsi de suite jusqu'a la fin de l'execution du programme."
   ]
  },
  {
   "cell_type": "code",
   "execution_count": null,
   "metadata": {
    "id": "0U7dEKxugNs-"
   },
   "outputs": [],
   "source": [
    "import asyncio"
   ]
  },
  {
   "cell_type": "code",
   "execution_count": null,
   "metadata": {
    "id": "XjgzbZ5-gNuW"
   },
   "outputs": [],
   "source": [
    "#!/usr/bin/env python3\n",
    "# countasync.py\n",
    "\n",
    "async def count():\n",
    "    print(\"One\")\n",
    "    await asyncio.sleep(1)\n",
    "    print(\"Two\")\n",
    "\n",
    "async def main():\n",
    "    await asyncio.gather(count(), count(), count())\n",
    "\n",
    "if __name__ == \"__main__\":\n",
    "    import time\n",
    "    s = time.perf_counter()\n",
    "    loop = asyncio.get_event_loop()\n",
    "    loop.run_until_complete(main())\n",
    "    elapsed = time.perf_counter() - s\n",
    "    print(f\"{__file__} executed in {elapsed:0.2f} seconds.\")"
   ]
  },
  {
   "cell_type": "markdown",
   "metadata": {
    "id": "6OmbtcHrOxe5"
   },
   "source": [
    "## Choix\n",
    "\n",
    "*  _thread ne nous permet que de créer des thread. Nous n'avons pas la flexibilite de gerer à notre gré les processus concurents\n",
    "*  Pour multiprocessing, les processus auront leur propre espace virtuel, ils ne partageront pas leur mémoire. Ce qui n'est pas idéal pour notre probleme vu que nos personnes doivent partager une meme ressource : la grille\n",
    "\n",
    "\n",
    "*   Tout comme _thread asyncio nous pemet de mettre en section critique tou une methode sans avoir la flexibilité de gerer de maniere isolé des varible specifiques.\n",
    "*   threading lui nous permet de gerer avec flexibilité de part toutes les primitives qu'elle nous offre les section criques, aussi bien sur des methodes mais aussi sur des variables specifiques.\n",
    "\n",
    "Nous avons donc pour cela decidé d'utiliser la bibliotheque **threading**\n",
    "\n",
    "\n",
    "\n",
    "\n"
   ]
  },
  {
   "cell_type": "code",
   "execution_count": null,
   "metadata": {
    "id": "m1rep_-CcvG-"
   },
   "outputs": [],
   "source": [
    "import threading"
   ]
  },
  {
   "cell_type": "markdown",
   "metadata": {
    "id": "AaoR2iU7gNub"
   },
   "source": [
    "## Les mécanismes de synchronisation en Python\n",
    "\n",
    "<span style=\"color:red\">Dans cette section vous présenterez votre étude comparative, avec exemple, des mécanimes présent dans la bibliothèque ou pouvant être associé pour construire une section critique ou permettant de contrôler l'accès à des ressources critiques.\n",
    "    \n",
    "<span style=\"color:red\">Vous préciserez de manière justifiée à la fin de cette section les mécanismes choisis. La cellule suivante, exécutable comprendra l'import des bibliothèques.</span>"
   ]
  },
  {
   "cell_type": "markdown",
   "metadata": {
    "id": "xAZNkj3QbTdr"
   },
   "source": [
    "## Module threading"
   ]
  },
  {
   "cell_type": "markdown",
   "metadata": {
    "id": "D6Gz0SGwgNud"
   },
   "source": [
    "### Lock\n",
    "\n",
    "Un verrou primitif est soit « verrouillé » soit « déverrouillé ». Il est créé dans un état déverrouillé. Il a deux méthodes, acquire() et release(). Lorsque l'état est déverrouillé, acquire() verrouille et se termine immédiatement. Lorsque l'état est verrouillé, acquire() bloque jusqu'à ce qu'un appel à release() provenant d'un autre fil d'exécution le déverrouille.\n",
    "\n",
    "Lorsque plus d'un thread est bloqué dans acquire () en attendant que l'état passe à déverrouillé, un seul thread se poursuit lorsqu'un appel release () réinitialise l'état à déverrouillé; lequel des threads en attente continue n'est pas défini et peut varier selon les implémentations.\n",
    "\n",
    "Pour un fonctionnement correct, il est important de libérer le verrou même si quelque chose ne va pas lors de l’accès à la ressource. On peut utiliser try-finally.\n",
    "\n",
    "lock.acquire()\n",
    "try:\n",
    "    ... access shared resource\n",
    "finally:\n",
    "    lock.release() # release lock, no matter what\n",
    "    \n",
    "La méthode acquire() prend un indicateur d'attente facultatif, qui peut être utilisé pour éviter le blocage si le verrou est détenu par quelqu'un d'autre."
   ]
  },
  {
   "cell_type": "markdown",
   "metadata": {
    "id": "eSA0rq10gNud"
   },
   "source": [
    "if not lock.acquire(False):\n",
    "    ... failed to lock the resource\n",
    "else:\n",
    "    try:\n",
    "        ... access shared resource\n",
    "    finally:\n",
    "        lock.release()"
   ]
  },
  {
   "cell_type": "markdown",
   "metadata": {
    "id": "f7c2srkfgNue"
   },
   "source": [
    "Dans l'exemple suivant, deux methodes utilisent une même varible globale g, on gère pas les sections critqiues.\n",
    "\n",
    "Dans add_one_one() on reinitialise g à 0 puis on l'incrément de 1. Par la suite on cré une boucle de 30 avec affichage de texte juste pour faire durer l'execution de la methode . On incremente encore une fois g avant de l'afficher La resultat attendu appres cette afficheage est donc 2.\n",
    "\n",
    "Dans add_two() on incremente juste g de 2.\n",
    "\n",
    "Nous appelons deux threads sur ces deux methodes (add_one_one() en premier et add_two() apres).\n",
    "Notons que l'on attends que les deux threads se termine ( fonction join()), pour afficher le résultat seulement lexecution totale des deux Threads."
   ]
  },
  {
   "cell_type": "code",
   "execution_count": null,
   "metadata": {
    "id": "hpJf4IFXgNug"
   },
   "outputs": [],
   "source": [
    "#lock_tut.py\n",
    "from threading import Lock, Thread\n",
    "lock = Lock()\n",
    "g = 0\n",
    "\n",
    "def add_one_one():\n",
    "\n",
    "   global g\n",
    "   g=0\n",
    "   g += 1\n",
    "   for i in range(30):\n",
    "     print('boucle d\\'attente')\n",
    "   g += 1\n",
    "   print('Affichage de g dans add one one :',g)\n",
    "\n",
    "def add_two():\n",
    "   global g\n",
    "   g += 2\n",
    "\n",
    "threads = []\n",
    "for func in [add_one_one, add_two]:\n",
    "   threads.append(Thread(target=func))\n",
    "\n",
    "threads[0].start() \n",
    "threads[1].start()\n",
    "\n",
    "for thread in threads:\n",
    "   \"\"\"\n",
    "   Waits for threads to complete before moving on with the main\n",
    "   script.\n",
    "   \"\"\"\n",
    "   thread.join()\n",
    "\n",
    "print(g)"
   ]
  },
  {
   "cell_type": "markdown",
   "metadata": {
    "id": "MX4icAJNgNum"
   },
   "source": [
    "Dans l'exemple suivant, nous gèrons les sections critqiues avec le verrou threading.Lock. On obtient toujours 2 pour l'affichage dans add_one_one et 4 à la fin"
   ]
  },
  {
   "cell_type": "code",
   "execution_count": null,
   "metadata": {
    "id": "sEYRxaSmgNun",
    "outputId": "6904ec66-f13e-4a6c-f916-a47a8ee95776"
   },
   "outputs": [
    {
     "name": "stdout",
     "output_type": "stream",
     "text": [
      "boucle d'attente\n",
      "boucle d'attente\n",
      "boucle d'attente\n",
      "boucle d'attente\n",
      "boucle d'attente\n",
      "boucle d'attente\n",
      "boucle d'attente\n",
      "boucle d'attente\n",
      "boucle d'attente\n",
      "boucle d'attente\n",
      "boucle d'attente\n",
      "boucle d'attente\n",
      "boucle d'attente\n",
      "boucle d'attente\n",
      "boucle d'attente\n",
      "boucle d'attente\n",
      "boucle d'attente\n",
      "boucle d'attente\n",
      "boucle d'attente\n",
      "boucle d'attente\n",
      "boucle d'attente\n",
      "boucle d'attente\n",
      "boucle d'attente\n",
      "boucle d'attente\n",
      "boucle d'attente\n",
      "boucle d'attente\n",
      "boucle d'attente\n",
      "boucle d'attente\n",
      "boucle d'attente\n",
      "boucle d'attente\n",
      "Affichage de g dans add one : 2\n",
      "4\n"
     ]
    }
   ],
   "source": [
    "#lock_tut.py\n",
    "from threading import Lock, Thread\n",
    "lock = Lock()\n",
    "g = 0\n",
    "\n",
    "def add_one():\n",
    "   global g\n",
    "   lock.acquire()\n",
    "   g=0\n",
    "   g += 1\n",
    "   for i in range(30):\n",
    "     print('boucle d\\'attente')\n",
    "   g += 1\n",
    "   print('Affichage de g dans add one :',g)\n",
    "   lock.release()\n",
    "\n",
    "def add_two():\n",
    "   global g\n",
    "   lock.acquire()\n",
    "   g += 2\n",
    "   lock.release()\n",
    "\n",
    "threads = []\n",
    "for func in [add_one, add_two]:\n",
    "   threads.append(Thread(target=func))\n",
    "   threads[-1].start()\n",
    "\n",
    "for thread in threads:\n",
    "   \"\"\"\n",
    "   Waits for threads to complete before moving on with the main\n",
    "   script.\n",
    "   \"\"\"\n",
    "   thread.join()\n",
    "\n",
    "print(g)"
   ]
  },
  {
   "cell_type": "markdown",
   "metadata": {
    "id": "7X5bYXSKgNus"
   },
   "source": [
    "### ReLock\n",
    "\n",
    "L'objet de verrouillage standard ne se soucie pas du thread qui détient actuellement le verrou; si le verrou est maintenu, tout thread qui tente d'acquérir le verrou se bloque, même si le même thread détient déjà le verrou. Dans l'exemple suivant, un deuxieme essai d'obtention du verrou sera bloqué:"
   ]
  },
  {
   "cell_type": "code",
   "execution_count": null,
   "metadata": {
    "id": "dUwffMxBgNut"
   },
   "outputs": [],
   "source": [
    "lock = threading.Lock()\n",
    "\n",
    "print('First try :',lock.acquire())\n",
    "print('Second try:',lock.acquire(0))\n",
    "print(\"print this if not blocked...\")"
   ]
  },
  {
   "cell_type": "markdown",
   "metadata": {
    "id": "Q2aQOA-8gNu4"
   },
   "source": [
    "La classe RLock est une version du verrouillage qui ne se bloque que si le verrou est détenu par un autre thread. Alors que les verrous simples se bloquent si le même thread tente d'acquérir le même verrou deux fois, un verrou rentrant ne se bloque que si un autre thread détient actuellement le verrou. Si le thread actuel tente d'acquérir un verrou qu'il détient déjà, l'exécution se poursuit comme d'habitude."
   ]
  },
  {
   "cell_type": "code",
   "execution_count": null,
   "metadata": {
    "id": "v-tB3c3IgNu5"
   },
   "outputs": [],
   "source": [
    "lock = threading.RLock()\n",
    "\n",
    "print('First try :', lock.acquire())\n",
    "print('Second try:', lock.acquire(blocking = True, timeout = -1))\n",
    "print(\"print this if not blocked...\")"
   ]
  },
  {
   "cell_type": "markdown",
   "metadata": {
    "id": "mGW28MVLgNu_"
   },
   "source": [
    "En reprenant le même exemple mais avec un ReLock, , on réussi à réobtenir le verrou."
   ]
  },
  {
   "cell_type": "markdown",
   "metadata": {
    "id": "bcs5xUR3gNvB"
   },
   "source": [
    "### Semaphore\n",
    "\n",
    "Un sémaphore gère un compteur interne qui est décrémenté à chaque appel acquise () et incrémenté à chaque appel release (). Le compteur ne peut jamais descendre en dessous de zéro; quand acquiert () trouve qu'il est égal à zéro, il bloque, en attendant qu'un autre thread appelle release ()."
   ]
  },
  {
   "cell_type": "code",
   "execution_count": null,
   "metadata": {
    "id": "V24xon47gNvB"
   },
   "outputs": [],
   "source": [
    "class Counter(object):\n",
    "    def __init__(self, start = 0):\n",
    "        self.semaphore = threading.BoundedSemaphore(value=1)\n",
    "        self.value = start\n",
    "    def increment(self):\n",
    "        print('Waiting for a lock')\n",
    "        self.semaphore.acquire()\n",
    "        try:\n",
    "            print('Acquired a lock')\n",
    "            self.value = self.value + 1\n",
    "        finally:\n",
    "            print('Released a lock')\n",
    "            self.semaphore.release()\n",
    "\n",
    "def worker(c):\n",
    "    c.increment()\n",
    "    print('Done')\n",
    "\n",
    "\n",
    "my_list=[]\n",
    "counter = Counter()\n",
    "for i in range(2):\n",
    "    t = threading.Thread(target=worker, args=(counter,))\n",
    "    my_list.append(t)\n",
    "    t.start()\n",
    "\n",
    "print('Waiting for worker threads')\n",
    "main_thread = threading.currentThread()\n",
    "for t in my_list:\n",
    "    t.join()\n",
    "print('Counter:'+ str(counter.value))"
   ]
  },
  {
   "cell_type": "markdown",
   "metadata": {
    "id": "beVDLK0aFmUq"
   },
   "source": [
    "### Les objets condition\n",
    "La gestion de la concurrence se fait aussi atravers les objets obtenus à base de la methode condition(). Celui-ci permet lors d'un accées à la ressource de créer une attente du thread pour une condition donnée. A chaque modification, la condition notifie les autres thread afin que la condition soit réévaluée."
   ]
  },
  {
   "cell_type": "code",
   "execution_count": 108,
   "metadata": {
    "colab": {
     "base_uri": "https://localhost:8080/"
    },
    "id": "6aMn1EugIK8Q",
    "outputId": "7e331e10-a20a-428b-89df-fe1a47ae7cb0"
   },
   "outputs": [
    {
     "name": "stderr",
     "output_type": "stream",
     "text": [
      "(consumer1) Consumer thread started ...\n",
      "(consumer1) Consumer waiting ...\n",
      "(consumer2) Consumer thread started ...\n",
      "(consumer2) Consumer waiting ...\n",
      "(producer ) Producer thread started ...\n",
      "(producer ) Making resource available\n",
      "(producer ) Notifying to all consumers\n",
      "(consumer1) Consumer consumed the resource\n",
      "(consumer2) Consumer consumed the resource\n"
     ]
    }
   ],
   "source": [
    "import threading\n",
    "import time\n",
    "import logging\n",
    "\n",
    "logging.basicConfig(level=logging.DEBUG,\n",
    "                    format='(%(threadName)-9s) %(message)s',)\n",
    "\n",
    "def consumer(cv):\n",
    "    logging.debug('Consumer thread started ...')\n",
    "    with cv:\n",
    "        logging.debug('Consumer waiting ...')\n",
    "        cv.wait()\n",
    "        logging.debug('Consumer consumed the resource')\n",
    "\n",
    "def producer(cv):\n",
    "    logging.debug('Producer thread started ...')\n",
    "    with cv:\n",
    "        logging.debug('Making resource available')\n",
    "        logging.debug('Notifying to all consumers')\n",
    "        cv.notifyAll()\n",
    "\n",
    "if __name__ == '__main__':\n",
    "    condition = threading.Condition()\n",
    "    cs1 = threading.Thread(name='consumer1', target=consumer, args=(condition,))\n",
    "    cs2 = threading.Thread(name='consumer2', target=consumer, args=(condition,))\n",
    "    pd = threading.Thread(name='producer', target=producer, args=(condition,))\n",
    "\n",
    "    cs1.start()\n",
    "    time.sleep(2)\n",
    "    cs2.start()\n",
    "    time.sleep(2)\n",
    "    pd.start()"
   ]
  },
  {
   "cell_type": "markdown",
   "metadata": {
    "id": "TYBpgQFIgNvI"
   },
   "source": [
    "### Barrier\n",
    "\n",
    "Une barrière est une simple primitive de synchronisation qui peut être utilisée par différents threads pour s'attendre les uns les autres. Chaque thread tente de passer une barrière en appelant la wait()méthode, qui se bloquera jusqu'à ce que tous les threads aient effectué cet appel. Dès que cela se produit, les threads sont libérés simultanément. L'extrait de code suivant illustre l'utilisation de Barrier"
   ]
  },
  {
   "cell_type": "code",
   "execution_count": null,
   "metadata": {
    "id": "A6jJUIYDgNvJ"
   },
   "outputs": [],
   "source": [
    "#barrier_tut.py\n",
    "from random import randrange\n",
    "from threading import Barrier, Thread\n",
    "from time import ctime, sleep\n",
    "\n",
    "num = 4\n",
    "# 4 threads will need to pass this barrier to get released.\n",
    "b = Barrier(num)\n",
    "names = [\"Harsh\", \"Lokesh\", \"George\", \"Iqbal\"]\n",
    "\n",
    "def player():\n",
    "    name = names.pop()\n",
    "    sleep(randrange(2, 5))\n",
    "    print(\"%s reached the barrier at: %s\" % (name, ctime()))\n",
    "    b.wait()\n",
    "    \n",
    "threads = []\n",
    "print(\"Race starts now…\")\n",
    "\n",
    "for i in range(num):\n",
    "    threads.append(Thread(target=player))\n",
    "    threads[-1].start()\n",
    "\"\"\"\n",
    "Following loop enables waiting for the threads to complete before moving on with the main script.\n",
    "\"\"\"\n",
    "for thread in threads:\n",
    "    thread.join()\n",
    "print()\n",
    "print(\"Race over!\")"
   ]
  },
  {
   "cell_type": "markdown",
   "metadata": {
    "id": "v7tkTXFugNvN"
   },
   "source": [
    "### Objet Event\n",
    "\n",
    "Nous utilisons plusieurs threads pour faire tourner des opérations séparées afin de les exécuter simultanément, cependant, il y a des moments où il est important de pouvoir synchroniser les opérations de deux ou plusieurs threads. L'utilisation d' objets Event est le moyen simple de communiquer entre les threads.\n",
    "\n",
    "Un événement gère un indicateur interne que les appelants peuvent définir () ou effacer () . D'autres threads peuvent attendre () que l'indicateur soit défini () . On note que la méthode wait () se bloque jusqu'à ce que l'indicateur soit vrai.\n"
   ]
  },
  {
   "cell_type": "code",
   "execution_count": null,
   "metadata": {
    "id": "jddjGS_8gNvO"
   },
   "outputs": [],
   "source": [
    "import time\n",
    "import logging\n",
    "\n",
    "logging.basicConfig(level=logging.DEBUG,\n",
    "                    format='(%(threadName)-9s) %(message)s',)\n",
    "                    \n",
    "def wait_for_event(e):\n",
    "    logging.debug('wait_for_event starting')\n",
    "    event_is_set = e.wait()\n",
    "    logging.debug('event set: %s', event_is_set)\n",
    "\n",
    "def wait_for_event_timeout(e, t):\n",
    "    while not e.isSet():\n",
    "        logging.debug('wait_for_event_timeout starting')\n",
    "        event_is_set = e.wait(t)\n",
    "        logging.debug('event set: %s', event_is_set)\n",
    "        if event_is_set:\n",
    "            logging.debug('processing event')\n",
    "        else:\n",
    "            logging.debug('doing other things')\n",
    "\n",
    "if __name__ == '__main__':\n",
    "    e = threading.Event()\n",
    "    t1 = threading.Thread(name='blocking', \n",
    "                      target=wait_for_event,\n",
    "                      args=(e,))\n",
    "    t1.start()\n",
    "\n",
    "    t2 = threading.Thread(name='non-blocking', \n",
    "                      target=wait_for_event_timeout, \n",
    "                      args=(e, 2))\n",
    "    t2.start()\n",
    "\n",
    "    logging.debug('Waiting before calling Event.set()')\n",
    "    time.sleep(3)\n",
    "    e.set()\n",
    "    logging.debug('Event is set')"
   ]
  },
  {
   "cell_type": "code",
   "execution_count": null,
   "metadata": {
    "id": "yDuy_1xke6cR"
   },
   "outputs": [],
   "source": []
  },
  {
   "cell_type": "markdown",
   "metadata": {
    "id": "Dg-Rl6omeBw9"
   },
   "source": [
    "## Choix"
   ]
  },
  {
   "cell_type": "markdown",
   "metadata": {
    "id": "nGBOoONdeG_o"
   },
   "source": [
    "\n",
    "Au vu du probleme que nous etudions notre chois s'est porté su l'utilisation de **condition** qui nous offrera une flexibilité dans dans la syncronisation de nos ressources partagées."
   ]
  },
  {
   "cell_type": "markdown",
   "metadata": {
    "id": "-auGuVeEgNvV"
   },
   "source": [
    "## Définitions de quelques procédures pour initialiser une grille à partir d'un fichier de configuration\n",
    "\n",
    "<span style=\"color:red\">Vous ne pouvez pas modifier les classes/procédures/fonctions suivantes</span>"
   ]
  },
  {
   "cell_type": "code",
   "execution_count": 11,
   "metadata": {
    "ExecuteTime": {
     "end_time": "2020-09-09T14:56:37.017896Z",
     "start_time": "2020-09-09T14:56:37.014070Z"
    },
    "id": "FuGAfljngNvV"
   },
   "outputs": [],
   "source": [
    "def is_running_from_ipython():\n",
    "    # Renvoie True si on execute le code depuis un notebook\n",
    "       from IPython import get_ipython\n",
    "       return get_ipython() is not None\n",
    "is_running_from_ipython()\n",
    "# Permet de savoir qui exécute le code\n",
    "import platform\n",
    "MICHEL = ('michel' in platform.node()) or ('charvin' in platform.node())"
   ]
  },
  {
   "cell_type": "code",
   "execution_count": 12,
   "metadata": {
    "id": "SKNwn_R8gNvc"
   },
   "outputs": [],
   "source": [
    "class Debug:\n",
    "    def __init__(self, debug=False):\n",
    "        self.debug = debug\n",
    "        \n",
    "    def affiche(self, *args):\n",
    "        if self.debug:\n",
    "            print(args)"
   ]
  },
  {
   "cell_type": "code",
   "execution_count": 13,
   "metadata": {
    "ExecuteTime": {
     "end_time": "2020-09-09T14:56:38.411155Z",
     "start_time": "2020-09-09T14:56:38.406363Z"
    },
    "id": "yStyjqEYgNvm"
   },
   "outputs": [],
   "source": [
    "# Différents imports\n",
    "import copy\n",
    "import math\n",
    "import time\n",
    "import numpy as np\n",
    "\n",
    "%matplotlib inline\n",
    "import matplotlib.pyplot as plt"
   ]
  },
  {
   "cell_type": "code",
   "execution_count": 14,
   "metadata": {
    "ExecuteTime": {
     "end_time": "2020-09-09T14:56:40.469475Z",
     "start_time": "2020-09-09T14:56:39.487216Z"
    },
    "id": "3Fx6YpvCgNvs"
   },
   "outputs": [],
   "source": [
    "# Reglage de l'affichage\n",
    "\n",
    "# Définition des affichage possible définition\n",
    "!echo 'Aucun = 0' >affichage.py\n",
    "!echo 'tkinter = 1' >>affichage.py # Not implemented\n",
    "!echo 'OpenCV = 2' >> affichage.py # Not completly implemented\n",
    "\n",
    "!echo 'PERSONNE = (0.0, 0.0, 1.0)' >>affichage.py\n",
    "!echo 'IMMOBILE = (1.0, 0.0, 0.0)' >>affichage.py\n",
    "!echo 'OBSTACLE = (0.0, 1.0, 0.0)' >>affichage.py\n",
    "!echo 'EMPTY = (1.0, 1.0, 1.0)' >>affichage.py\n",
    "!echo 'ARRIVEE = (0.0, 0.0, 0.0)' >>affichage.py # Not used\n",
    "\n",
    "import affichage\n",
    "import cv2\n",
    "\n",
    "UI = affichage.OpenCV"
   ]
  },
  {
   "cell_type": "code",
   "execution_count": 18,
   "metadata": {
    "ExecuteTime": {
     "end_time": "2020-09-09T14:56:40.476993Z",
     "start_time": "2020-09-09T14:56:40.472805Z"
    },
    "colab": {
     "base_uri": "https://localhost:8080/"
    },
    "id": "RNic1_8egNvy",
    "outputId": "531b7d37-afaa-44a6-8fb7-81a7feb518c6"
   },
   "outputs": [
    {
     "name": "stdout",
     "output_type": "stream",
     "text": [
      "Drive already mounted at /content/drive; to attempt to forcibly remount, call drive.mount(\"/content/drive\", force_remount=True).\n"
     ]
    }
   ],
   "source": [
    "if MICHEL:\n",
    "  petite_grille = \"maps/map-initial.txt\" # fichier décrivant une petite grille\n",
    "  grande_grille = \"maps/map-final.txt\"  # fichier décrivant une grande grille\n",
    "else :\n",
    "    from google.colab import drive\n",
    "    drive.mount('/content/drive')\n",
    "    petite_grille = \"/content/drive/My Drive/Colab Notebooks/rendu 3/maps/map-initial.txt\" # fichier décrivant une petite grille\n",
    "    grande_grille = \"/content/drive/My Drive/Colab Notebooks/rendu 3/maps/map-final.txt\"  # fichier décrivant une grande grille\n",
    "    debug = Debug(True)\n",
    "debug = Debug(True)"
   ]
  },
  {
   "cell_type": "code",
   "execution_count": 20,
   "metadata": {
    "ExecuteTime": {
     "end_time": "2020-09-09T14:56:41.169989Z",
     "start_time": "2020-09-09T14:56:40.563847Z"
    },
    "id": "G2gJQ_jagNv6"
   },
   "outputs": [],
   "source": [
    "# Constant définition\n",
    "!echo 'EMPTY = 0' >const.py\n",
    "!echo 'OBSTACLE = 1' >>const.py\n",
    "!echo 'PERSONNE = 2' >> const.py\n",
    "!echo 'IMMOBILE = 3' >> const.py\n",
    "!echo 'ARRIVEE = 4' >> const.py\n",
    "import const"
   ]
  },
  {
   "cell_type": "code",
   "execution_count": 21,
   "metadata": {
    "ExecuteTime": {
     "end_time": "2020-09-09T14:56:41.181031Z",
     "start_time": "2020-09-09T14:56:41.175015Z"
    },
    "colab": {
     "base_uri": "https://localhost:8080/"
    },
    "id": "GJx17Z3MgNwA",
    "outputId": "ac0d6ab6-bad1-4b96-f4b1-208fa9bed80d"
   },
   "outputs": [
    {
     "name": "stdout",
     "output_type": "stream",
     "text": [
      "('Ouverture du fichier', '/content/drive/My Drive/Colab Notebooks/rendu 3/maps/map-initial.txt')\n"
     ]
    }
   ],
   "source": [
    "# Lecture du fichier de configuration\n",
    "def open_file(filename, debug):\n",
    "    debug.affiche(\"Ouverture du fichier\", filename)\n",
    "    fileMap = open(filename, 'r')\n",
    "    return fileMap\n",
    "\n",
    "file = open_file(petite_grille, debug)"
   ]
  },
  {
   "cell_type": "markdown",
   "metadata": {
    "id": "QgsT9veggNwL"
   },
   "source": [
    "### Définition de la grille"
   ]
  },
  {
   "cell_type": "code",
   "execution_count": 22,
   "metadata": {
    "ExecuteTime": {
     "end_time": "2020-09-09T14:56:42.917234Z",
     "start_time": "2020-09-09T14:56:42.910654Z"
    },
    "id": "boOSoZwxgNwM"
   },
   "outputs": [],
   "source": [
    "def read_grid_size(file, debug):\n",
    "    line = file.readline()\n",
    "    while line[0]=='#':\t# on saute les commentaires\n",
    "        line = file.readline()\n",
    "    \n",
    "    # Lecture de la taille de la grille\n",
    "    while line[0]!='#':\t# on lit jusqu'au prochain commentaires\n",
    "        if (line[0]=='X'):\n",
    "            X = int(line.split(' ')[1])\n",
    "        if (line[0]=='Y'):\n",
    "            Y = int(line.split(' ')[1])\n",
    "        line = file.readline()\n",
    "\n",
    "    debug.affiche(\"Simulation pour une grille:\", X, \"*\", Y)\n",
    "    \n",
    "    return X, Y"
   ]
  },
  {
   "cell_type": "code",
   "execution_count": 23,
   "metadata": {
    "colab": {
     "base_uri": "https://localhost:8080/"
    },
    "id": "bcrJWQXTgNwT",
    "outputId": "884a0440-4356-40f6-f550-0737f331bbf6"
   },
   "outputs": [
    {
     "name": "stdout",
     "output_type": "stream",
     "text": [
      "('Simulation pour une grille:', 10, '*', 10)\n"
     ]
    }
   ],
   "source": [
    "X, Y = read_grid_size(file, debug)"
   ]
  },
  {
   "cell_type": "code",
   "execution_count": 24,
   "metadata": {
    "ExecuteTime": {
     "end_time": "2020-09-09T14:56:43.748661Z",
     "start_time": "2020-09-09T14:56:43.726699Z"
    },
    "id": "8C5vmXjjgNwa"
   },
   "outputs": [],
   "source": [
    "# Definition de la grille\n",
    "class Grille:\n",
    "    # Crée un objet list\n",
    "    def __init__(self, Xmax, Ymax, UI, debug):\n",
    "        debug.affiche(\"Initilisation de l'objet grille\")\n",
    "        self.Xmax = Xmax\n",
    "        self.Ymax = Ymax\n",
    "        if const.EMPTY==0:\n",
    "            self.map = np.zeros((Xmax, Ymax))\n",
    "        elif const.EMPTY==1:\n",
    "            self.map = np.ones((Xmax, Ymax))\n",
    "        else:\n",
    "            self.map = np.array(Xmax, Ymax)\n",
    "            for i in range(Xmax):\n",
    "                for j in range(Ymax):\n",
    "                    self.map[i,j] = const.EMPTY\n",
    "        self.mapList = []\n",
    "        self.obstacleList = []\n",
    "        self.personneList = []\n",
    "        self.debug = debug\n",
    "        self.UI = UI\n",
    "\n",
    "    def SetObstacle(self, obstacle):\n",
    "        for x in range(obstacle.Xmin, obstacle.Xmax+1):\n",
    "            for y in range(obstacle.Ymin, obstacle.Ymax+1):\n",
    "                self.map[x][y] = const.OBSTACLE\n",
    "        self.obstacleList += [obstacle]\n",
    "\n",
    "    def SetPersonne(self, personne):\n",
    "        if self.map[personne.X][personne.Y]==const.EMPTY:\n",
    "            # la case est vide\n",
    "            self.map[personne.X][personne.Y] = const.PERSONNE\n",
    "            self.personneList += [personne]\n",
    "            return True\n",
    "        else:\n",
    "            debug.affiche(\"Personne non créée, la place est occupée\", personne.X, personne.Y)\n",
    "            return False\n",
    "        \n",
    "    def isCellEmpty(self, x, y):\n",
    "        return self.map[x][y]==const.EMPTY\n",
    "    \n",
    "    def Set(self, x, y, status):\n",
    "        self.map[x][y] = status\n",
    "        \n",
    "    def Save(self, name):\n",
    "        with open(name, 'w') as file:\n",
    "            file.write(\"# taille de la grille\\n\")\n",
    "            file.write(\"X \"+str(self.Xmax)+\"\\n\")\n",
    "            file.write(\"Y \"+str(self.Ymax)+\"\\n\")\n",
    "            file.write(\"# position des obstacles\\n\")\n",
    "            file.write(\"# Xmin Xmax Ymin Ymax\\n\")\n",
    "            file.write(\"# si pas obstacle : mettre -1 comme valeur\\n\")\n",
    "            file.write(\"# \"+str(len(self.obstacleList))+\" obstacles\\n\")\n",
    "            for o in self.obstacleList:\n",
    "                file.write(str(o.Xmin)+\" \"+str(o.Xmax)+\" \"+str(o.Ymin)+\" \"+str(o.Ymax)+\"\\n\")\n",
    "            file.write(\"# position initiale des personnes (X, Y) et case de sortie (X, Y)\\n\")\n",
    "            file.write(\"# \"+str(len(self.personneList))+\" personnes\\n\")\n",
    "            for p in self.personneList:\n",
    "                file.write(str(p.X)+\" \"+str(p.Y)+\" \"+str(p.Xsortie)+\" \"+str(p.Ysortie)+\"\\n\")\n",
    "                \n",
    "    # Solution imparfaite car une personne peut être bloquée par un obstacle\n",
    "    def Simulation(self):\n",
    "        if self.debug.debug or self.UI==affichage.OpenCV:\n",
    "            self.mapList.append(copy.copy(self.map))\n",
    "        if self.UI==affichage.OpenCV:\n",
    "            cv2.imshow(\"img\", createImage(self.map))\n",
    "            cv2.waitKey(500)\n",
    "    \n",
    "        while len(self.personneList)>0: # il y a encore une personne dans la liste qui peut bouger\n",
    "            for personne in self.personneList:\n",
    "                end, immobile = personne.deplacePersonne(self, self.debug)\n",
    "                if end:\n",
    "                    self.debug.affiche(\"Une personne vient de sortir, il reste\", len(self.personneList), \"personnes\")\n",
    "            if self.debug.debug or self.UI==affichage.OpenCV:\n",
    "                self.mapList.append(copy.copy(self.map))\n",
    "                if self.UI==affichage.OpenCV:\n",
    "                    cv2.imshow(\"img\", createImage(self.map))\n",
    "                    cv2.waitKey(500)\n",
    "    \n",
    "        if self.UI==affichage.OpenCV:\n",
    "            cv2.destroyAllWindows()"
   ]
  },
  {
   "cell_type": "code",
   "execution_count": 25,
   "metadata": {
    "ExecuteTime": {
     "end_time": "2020-09-09T14:56:44.483524Z",
     "start_time": "2020-09-09T14:56:44.478404Z"
    },
    "colab": {
     "base_uri": "https://localhost:8080/"
    },
    "id": "9rl3pQmXgNwe",
    "outputId": "37776a9a-7b71-4d45-b73f-72a43369b7ef"
   },
   "outputs": [
    {
     "name": "stdout",
     "output_type": "stream",
     "text": [
      "(\"Initilisation de l'objet grille\",)\n"
     ]
    }
   ],
   "source": [
    "# Creation de la grille\n",
    "grid = Grille(X, Y, affichage.Aucun, debug)"
   ]
  },
  {
   "cell_type": "markdown",
   "metadata": {
    "id": "0FKhUrGtgNwl"
   },
   "source": [
    "### Définition d'un obstacle"
   ]
  },
  {
   "cell_type": "code",
   "execution_count": 26,
   "metadata": {
    "ExecuteTime": {
     "end_time": "2020-09-09T14:56:45.740092Z",
     "start_time": "2020-09-09T14:56:45.735268Z"
    },
    "id": "27XKbDVxgNwm"
   },
   "outputs": [],
   "source": [
    "class Obstacle():\n",
    "    def __init__(self, grid,  Xmin, Xmax, Ymin, Ymax, debug):\n",
    "        self.Xmin = Xmin\n",
    "        self.Xmax = Xmax\n",
    "        self.Ymin = Ymin\n",
    "        self.Ymax = Ymax\n",
    "        self.debug = debug\n",
    "        grid.SetObstacle(self)\n",
    "        debug.affiche(\"Création de l'obstacle (\", Xmin, Xmax, \") - (\", Ymin, Ymax, \")\")"
   ]
  },
  {
   "cell_type": "code",
   "execution_count": 27,
   "metadata": {
    "ExecuteTime": {
     "end_time": "2020-09-09T14:56:46.248553Z",
     "start_time": "2020-09-09T14:56:46.238774Z"
    },
    "code_folding": [],
    "id": "rNoC1JItgNwu"
   },
   "outputs": [],
   "source": [
    "def read_obstacles(file, grid, Obstacle, debug):\n",
    "    # Lecture de la liste des obstacles et placement sur la grille\n",
    "    line = file.readline()\n",
    "    while line[0]=='#':\t# on saute les commentaires\n",
    "        line = file.readline()\n",
    "\n",
    "    while line[0]!='#':\t# on lit jusqu'au prochain commentaires\n",
    "        coordonnee = line.strip().split(' ')\n",
    "        if int(coordonnee[0])>=0:\n",
    "            assert (int(coordonnee[0])>0 and int(coordonnee[2])>0)\n",
    "            assert (int(coordonnee[1])<X)\n",
    "            assert (int(coordonnee[3])<Y)\n",
    "            Obstacle(grid, int(coordonnee[0]), int(coordonnee[1]), int(coordonnee[2]), int(coordonnee[3]), debug)\n",
    "        else:\n",
    "            debug.affiche(\"obstacle non créé\", coordonnee)\n",
    "        line = file.readline()        \n",
    "\n",
    "    debug.affiche(len(grid.obstacleList), \"obstacles ont été créés\")"
   ]
  },
  {
   "cell_type": "code",
   "execution_count": 28,
   "metadata": {
    "colab": {
     "base_uri": "https://localhost:8080/"
    },
    "id": "szJKYNFogNw2",
    "outputId": "811b5db6-8c36-4d5d-badf-9a0b88c48cc4"
   },
   "outputs": [
    {
     "name": "stdout",
     "output_type": "stream",
     "text": [
      "('obstacle non créé', ['-1', '-1', '-1', '-1'])\n",
      "(\"Création de l'obstacle (\", 1, 1, ') - (', 2, 7, ')')\n",
      "(\"Création de l'obstacle (\", 1, 7, ') - (', 8, 8, ')')\n",
      "(2, 'obstacles ont été créés')\n"
     ]
    }
   ],
   "source": [
    "# On lit tous les obstacles contenus dans le fichier de configuration\n",
    "read_obstacles(file, grid, Obstacle, debug)"
   ]
  },
  {
   "cell_type": "code",
   "execution_count": 29,
   "metadata": {
    "ExecuteTime": {
     "end_time": "2020-09-09T14:56:46.829744Z",
     "start_time": "2020-09-09T14:56:46.734536Z"
    },
    "colab": {
     "base_uri": "https://localhost:8080/",
     "height": 0
    },
    "id": "d4CWhPSKgNw9",
    "outputId": "b29e1ae2-d4dc-4675-8ae2-7db415893cc0"
   },
   "outputs": [
    {
     "data": {
      "image/png": "[encoded data removed]",
      "text/plain": [
       "<Figure size 432x288 with 1 Axes>"
      ]
     },
     "metadata": {
      "needs_background": "light",
      "tags": []
     },
     "output_type": "display_data"
    }
   ],
   "source": [
    "# Affichage de la grille\n",
    "plt.imshow(grid.map, cmap='Paired', vmin=0, vmax=5)\n",
    "plt.show()"
   ]
  },
  {
   "cell_type": "markdown",
   "metadata": {
    "id": "60_g1B47gNxF"
   },
   "source": [
    "### Définition d'une personne"
   ]
  },
  {
   "cell_type": "code",
   "execution_count": 30,
   "metadata": {
    "ExecuteTime": {
     "end_time": "2020-09-09T14:56:47.956152Z",
     "start_time": "2020-09-09T14:56:47.941709Z"
    },
    "id": "gpUnaBetgNxG"
   },
   "outputs": [],
   "source": [
    "def distance(X, Y):\n",
    "    return int(np.abs(X[0]-Y[0])+np.abs(X[1]-Y[1]))\n",
    "\n",
    "class Personne():\n",
    "    def __init__(self, grid, Xinit, Yinit, Xsortie, Ysortie, debug):\n",
    "        self.X = Xinit\n",
    "        self.Y = Yinit\n",
    "        self.Xsortie = Xsortie\n",
    "        self.Ysortie = Ysortie\n",
    "        self.debug = debug\n",
    "        personneCrée = grid.SetPersonne(self)\n",
    "        if personneCrée:\n",
    "            debug.affiche(\"Création de la personne qui part de\", Xinit, Yinit, \"pour aller à\", Xsortie, Ysortie)\n",
    "    \n",
    "    def getAvailableMove(self, grid): # retourne la liste triée des déplacements possibles\n",
    "        # distance à la grille\n",
    "        dist_actuel = distance((self.X, self.Y), (self.Xsortie, self.Ysortie))\n",
    "        depl = []\n",
    "        # on calcule la distance entre les case adjacente et la sortie\n",
    "        for x in range(self.X-1, self.X+2):\n",
    "            for y in range (self.Y-1, self.Y+2):\n",
    "                if (x!=self.X or y!=self.Y) and (x==self.X or y==self.Y) and (x>=0 and y>=0 and x<grid.Xmax and y<grid.Ymax): # deplacement uniquement points cardinaux\n",
    "                    # on est sur une case adjacente et on est sur la grille\n",
    "                    if grid.isCellEmpty(x, y): # si la case est vide\n",
    "                        dist = distance((self.Xsortie, self.Ysortie), (x,y))\n",
    "                        if (dist<dist_actuel): # on se rappproche\n",
    "                             depl.append((dist, x, y))\n",
    "        return sorted(depl)\n",
    "\n",
    "    def getBetterMove(self, grid):\n",
    "        return self.getAvailableMove(grid)[0]\n",
    "\n",
    "    def Move(self, grid, depl):\n",
    "        debug.affiche(\"Déplacement de la personne de (\", self.X, self.Y, \") à (\", depl[1], depl[2], \")\")\n",
    "        grid.Set(self.X, self.Y, const.EMPTY)\n",
    "        self.X = depl[1]\n",
    "        self.Y = depl[2]\n",
    "        grid.Set(self.X, self.Y, const.PERSONNE)\n",
    "        \n",
    "    def deplacePersonne(self, grid, debug):\n",
    "        if self.X==self.Xsortie and self.Y==self.Ysortie:\n",
    "            # la personne est arrivée à la sortie\n",
    "            # on retire la personne de la liste\n",
    "            grid.personneList.remove(self)\n",
    "            # on libere la case de sortie\n",
    "            grid.Set(self.X, self.Y, const.EMPTY)\n",
    "            return True, False\n",
    "    \n",
    "        # sinon on recherche les déplacements possibles\n",
    "        availableMove = self.getAvailableMove(grid)\n",
    "        debug.affiche(\"La personne (\", self.X, self.Y, \") peut se déplacer sur :\", availableMove)\n",
    "            \n",
    "        if len(availableMove)>0:\n",
    "            # on se déplace sure la nouvelle case\n",
    "            self.Move(grid, availableMove[0]) \n",
    "            return False, False\n",
    "        \n",
    "        # sinon aucun d\"éplacement n'est possible\n",
    "        if grid.UI==affichage.OpenCV:\n",
    "            grid.Set(self.X, self.Y, const.IMMOBILE)\n",
    "        debug.affiche(\"La personne (\", self.X, self.Y, \"ne peut pas se déplacer\")\n",
    "        return False, True"
   ]
  },
  {
   "cell_type": "code",
   "execution_count": 31,
   "metadata": {
    "ExecuteTime": {
     "end_time": "2020-09-09T14:56:48.629455Z",
     "start_time": "2020-09-09T14:56:48.617795Z"
    },
    "id": "1gevQ6iTgNxQ"
   },
   "outputs": [],
   "source": [
    "def read_personnes(file, grid, Personne, nombre, debug):\n",
    "    # Lecture de la liste des personnes et placement sur la grille\n",
    "    # s'arrête quand le nombre de personnes souhaité est atteind\n",
    "    # Si nombre = -1, on lit jusqu'à la fin du fichier (idem si nombre est supérieur aux nombres de personnes dans le fichier)\n",
    "    line = file.readline()\n",
    "    while line[0]=='#':\t# on saute les commentaires\n",
    "        line = file.readline()\n",
    "        \n",
    "    while line:\t# on lit jusqu'à la fin du fichier\n",
    "        coordonnee = line.strip().split(' ')\n",
    "        if coordonnee[0]!='#':\n",
    "            assert (int(coordonnee[0])>0 and int(coordonnee[1])>0\n",
    "                and int(coordonnee[2])<X or int(coordonnee[3])<Y) # La personne est sur la grille\n",
    "            assert ((int(coordonnee[2])==0 or int(coordonnee[2])==X-1)  # elle sort sur un bord X\n",
    "                and                                                  # et\n",
    "                (int(coordonnee[3])==0 or int(coordonnee[3])==Y-1)) # elle sort sur un bord Y\n",
    "            Personne(grid, int(coordonnee[0]), int(coordonnee[1]), int(coordonnee[2]), int(coordonnee[3]), debug)\n",
    "            \n",
    "        if len(grid.personneList)==nombre:\n",
    "            debug.affiche(len(grid.personneList), \"personnes ont été créées\")\n",
    "            file.close()\n",
    "            return\n",
    "        line = file.readline()\n",
    "    debug.affiche(\"Fermeture du fichier\")\n",
    "    file.close()\n",
    "    \n",
    "    debug.affiche(\"On a lut tout le fichier,\", len(grid.personneList), \"personnes ont été créées\")"
   ]
  },
  {
   "cell_type": "code",
   "execution_count": 32,
   "metadata": {
    "colab": {
     "base_uri": "https://localhost:8080/"
    },
    "id": "Xkjt0wcUgNxc",
    "outputId": "65c03338-0a08-45be-b7c5-e66842014083"
   },
   "outputs": [
    {
     "name": "stdout",
     "output_type": "stream",
     "text": [
      "('Création de la personne qui part de', 2, 2, 'pour aller à', 0, 0)\n",
      "('Création de la personne qui part de', 3, 3, 'pour aller à', 0, 9)\n",
      "('Création de la personne qui part de', 6, 6, 'pour aller à', 9, 0)\n",
      "('Création de la personne qui part de', 7, 7, 'pour aller à', 9, 9)\n",
      "('Fermeture du fichier',)\n",
      "('On a lut tout le fichier,', 4, 'personnes ont été créées')\n"
     ]
    }
   ],
   "source": [
    "# On lit toutes les personnes contenues dans le fichier de configuration\n",
    "read_personnes(file, grid, Personne, -1, debug)"
   ]
  },
  {
   "cell_type": "code",
   "execution_count": 33,
   "metadata": {
    "ExecuteTime": {
     "end_time": "2020-09-09T14:56:49.611918Z",
     "start_time": "2020-09-09T14:56:49.518984Z"
    },
    "colab": {
     "base_uri": "https://localhost:8080/",
     "height": 265
    },
    "id": "9-B1Ycu5gNxi",
    "outputId": "8a6d20fc-68d3-4439-8d7a-6db6023909c7"
   },
   "outputs": [
    {
     "data": {
      "image/png": "[encoded data removed]",
      "text/plain": [
       "<Figure size 432x288 with 1 Axes>"
      ]
     },
     "metadata": {
      "needs_background": "light",
      "tags": []
     },
     "output_type": "display_data"
    }
   ],
   "source": [
    "# Affichage de la grille\n",
    "plt.imshow(grid.map, cmap='Paired', vmin=0, vmax=5)\n",
    "plt.show()"
   ]
  },
  {
   "cell_type": "markdown",
   "metadata": {
    "id": "UzHkl58EgNxp"
   },
   "source": [
    "### Construction d'une image pour OpenCV"
   ]
  },
  {
   "cell_type": "code",
   "execution_count": 34,
   "metadata": {
    "ExecuteTime": {
     "end_time": "2020-09-09T14:56:52.548943Z",
     "start_time": "2020-09-09T14:56:52.539805Z"
    },
    "id": "NrI35EOQgNxq"
   },
   "outputs": [],
   "source": [
    "# Uniquement nécessaire pour la visualisation en OpenCV\n",
    "def createImage(image):\n",
    "    X = image.shape[0]\n",
    "    Y = image.shape[1]\n",
    "    ZOOM = max(min(1024//X, 1024//Y), 1)\n",
    "    img = np.zeros((X*ZOOM, Y*ZOOM, 3), dtype=np.float)\n",
    "    for i in range(X):\n",
    "        for t in range(ZOOM):\n",
    "            for j in range(Y):\n",
    "                for u in range(ZOOM):\n",
    "                    if image[i][j]==const.EMPTY:\n",
    "                        img[ZOOM*i+t][ZOOM*j+u]=affichage.EMPTY\n",
    "                    elif image[i][j]==const.OBSTACLE:\n",
    "                        img[ZOOM*i+t][ZOOM*j+u]=affichage.OBSTACLE\n",
    "                    elif image[i][j]==const.PERSONNE:\n",
    "                        img[ZOOM*i+t][ZOOM*j+u]=affichage.PERSONNE\n",
    "                    elif image[i][j]==const.IMMOBILE:\n",
    "                        img[ZOOM*i+t][ZOOM*j+u]=affichage.IMMOBILE\n",
    "                    elif image[i][j]==const.ARRIVEE:  \n",
    "                        img[ZOOM*i+t][ZOOM*j+u]=affichage.ARRIVEE\n",
    "    return img"
   ]
  },
  {
   "cell_type": "code",
   "execution_count": 36,
   "metadata": {
    "id": "lM8TH6VegNx0"
   },
   "outputs": [],
   "source": [
    "# Affichage en OpenCV de la grille créée\n",
    "if MICHEL:\n",
    "  if UI==affichage.OpenCV:\n",
    "      cv2.imshow(\"img\", createImage(grid.map))\n",
    "      cv2.waitKey(5000) # Affichage pendant 5 secondes\n",
    "      cv2.destroyAllWindows()"
   ]
  },
  {
   "cell_type": "markdown",
   "metadata": {
    "id": "4-l29CIVgNx_"
   },
   "source": [
    "## Utilisation des procédures précédentes pour créer une nouvelle grille qui sera sauvegardée dans un fichier"
   ]
  },
  {
   "cell_type": "code",
   "execution_count": 37,
   "metadata": {
    "colab": {
     "base_uri": "https://localhost:8080/"
    },
    "id": "8m_CR4p5gNyB",
    "outputId": "ef20062e-1019-420c-fa57-22ef57ecc9cc"
   },
   "outputs": [
    {
     "name": "stdout",
     "output_type": "stream",
     "text": [
      "(\"Initilisation de l'objet grille\",)\n"
     ]
    }
   ],
   "source": [
    "# Création d'une grille de 1024*1024\n",
    "debug = Debug(True)\n",
    "UI = affichage.Aucun\n",
    "\n",
    "X = 1024\n",
    "Y = 1024\n",
    "grid = Grille(X, Y, UI, debug)"
   ]
  },
  {
   "cell_type": "code",
   "execution_count": 38,
   "metadata": {
    "colab": {
     "base_uri": "https://localhost:8080/"
    },
    "id": "JHXckQsJgNyE",
    "outputId": "23670081-1499-4b48-ac53-5f8385b6f737"
   },
   "outputs": [
    {
     "name": "stdout",
     "output_type": "stream",
     "text": [
      "(\"Création de l'obstacle (\", 8, 52, ') - (', 144, 253, ')')\n",
      "(\"Création de l'obstacle (\", 60, 101, ') - (', 136, 272, ')')\n",
      "(\"Création de l'obstacle (\", 106, 164, ') - (', 153, 317, ')')\n",
      "(\"Création de l'obstacle (\", 158, 202, ') - (', 292, 181, ')')\n",
      "(\"Création de l'obstacle (\", 216, 245, ') - (', 203, 294, ')')\n",
      "(\"Création de l'obstacle (\", 257, 262, ') - (', 396, 343, ')')\n",
      "(\"Création de l'obstacle (\", 303, 384, ') - (', 304, 573, ')')\n",
      "(\"Création de l'obstacle (\", 364, 383, ') - (', 358, 569, ')')\n",
      "(\"Création de l'obstacle (\", 405, 421, ') - (', 444, 433, ')')\n",
      "(\"Création de l'obstacle (\", 451, 512, ') - (', 636, 582, ')')\n",
      "(\"Création de l'obstacle (\", 501, 522, ') - (', 628, 505, ')')\n",
      "(\"Création de l'obstacle (\", 554, 576, ') - (', 592, 617, ')')\n",
      "(\"Création de l'obstacle (\", 608, 679, ') - (', 729, 722, ')')\n",
      "(\"Création de l'obstacle (\", 656, 742, ') - (', 691, 689, ')')\n",
      "(\"Création de l'obstacle (\", 712, 774, ') - (', 770, 882, ')')\n",
      "(\"Création de l'obstacle (\", 763, 826, ') - (', 913, 974, ')')\n",
      "(16, 'obstacles ont été créés')\n"
     ]
    }
   ],
   "source": [
    "# La grille contient 2^4 obstacles\n",
    "nb_obs = np.power(2,4)\n",
    "\n",
    "coordonnee = np.zeros((4,1), dtype=np.int)\n",
    "for i in range(nb_obs):\n",
    "    for j in range(4):\n",
    "        val_min = 1+50*i+np.random.randint(10)*10*j\n",
    "        if j%2 == 0:\n",
    "            val_max = min(1+val_min+np.random.randint(20), grid.Xmax)\n",
    "        else:\n",
    "            val_max = min(1+val_min+np.random.randint(20), grid.Ymax)\n",
    "        coordonnee[j] = np.random.randint(val_min, val_max)\n",
    "    \n",
    "    assert (int(coordonnee[0])>0 and int(coordonnee[2])>0)\n",
    "    assert (int(coordonnee[1])<X)\n",
    "    assert (int(coordonnee[3])<Y)\n",
    "    Obstacle(grid, int(coordonnee[0]), int(coordonnee[1]), int(coordonnee[2]), int(coordonnee[3]), debug)\n",
    "    \n",
    "debug.affiche(len(grid.obstacleList), \"obstacles ont été créés\")"
   ]
  },
  {
   "cell_type": "code",
   "execution_count": null,
   "metadata": {
    "id": "JxK6eeSZgNyR"
   },
   "outputs": [],
   "source": [
    "# La grille contient 2^10 personnes\n",
    "nb_person = np.power(2,10)\n",
    "\n",
    "coordonnee = np.zeros((2,1), dtype=np.int)\n",
    "sortie = np.zeros((2,1), dtype=np.int)\n",
    "while len(grid.personneList)<nb_person:\n",
    "    coordonnee[0] = np.random.randint(1,X)\n",
    "    coordonnee[1] = np.random.randint(1,Y)\n",
    "    sortie[0] = (X-1)*np.random.randint(2)\n",
    "    sortie[1] = (Y-1)*np.random.randint(2)\n",
    "    Personne(grid, int(coordonnee[0]), int(coordonnee[1]), int(sortie[0]), int(sortie[1]), debug)\n",
    "    \n",
    "debug.affiche(len(grid.personneList), \"personnes ont été créées\")"
   ]
  },
  {
   "cell_type": "code",
   "execution_count": 40,
   "metadata": {
    "id": "i01XPW0qgNyg"
   },
   "outputs": [],
   "source": [
    "# Sauvegarde de l'objet grille\n",
    "grid.Save(grande_grille)"
   ]
  },
  {
   "cell_type": "code",
   "execution_count": 41,
   "metadata": {
    "id": "dc1weFTcgNys"
   },
   "outputs": [],
   "source": [
    "# Affichage de la grille créée\n",
    "if UI==affichage.OpenCV:\n",
    "    cv2.imshow(\"img\", createImage(grid.map))\n",
    "    cv2.waitKey(5000) # Affichage pendant 5 secondes\n",
    "    cv2.destroyAllWindows()"
   ]
  },
  {
   "cell_type": "markdown",
   "metadata": {
    "id": "WH5y3I6DgNzH"
   },
   "source": [
    "## Solution itérative\n",
    "\n",
    "Chaque personne doit rejoindre sa case de sortie. Le code est fourni à titre d'exemple. Il est malheureusement incomplet car si une personne ne peut pas rejoindre sa case de sortie alors la simulation ne s'arrête pas.\n",
    "\n",
    "Si vous avez besoin de modifier les classes proposées. Il suffit de construire par héritage la nouvelle classe qui doit porter le même nom que la classe parente suffixé par \\_1 ou \\_2 ou \\_3 selon l'étape du projet, et de surcharger les méthodes qui doivent l'être.\n",
    "\n",
    "Les cellules suivantes donnent des exemples d'utilisation des primitives précédemment écrites."
   ]
  },
  {
   "cell_type": "markdown",
   "metadata": {
    "id": "TR8LPPi0gNzI"
   },
   "source": [
    "### Avec trace mais sans visualisation"
   ]
  },
  {
   "cell_type": "code",
   "execution_count": 53,
   "metadata": {
    "ExecuteTime": {
     "end_time": "2020-09-09T14:57:23.812307Z",
     "start_time": "2020-09-09T14:57:23.802324Z"
    },
    "colab": {
     "base_uri": "https://localhost:8080/"
    },
    "id": "LnP_af4dgNzJ",
    "outputId": "a238fd01-ec43-4de8-fba1-75e2a207b3cc"
   },
   "outputs": [
    {
     "name": "stdout",
     "output_type": "stream",
     "text": [
      "('Ouverture du fichier', '/content/drive/My Drive/Colab Notebooks/rendu 3/maps/map-initial.txt')\n",
      "('Simulation pour une grille:', 10, '*', 10)\n",
      "(\"Initilisation de l'objet grille\",)\n",
      "('obstacle non créé', ['-1', '-1', '-1', '-1'])\n",
      "(\"Création de l'obstacle (\", 1, 1, ') - (', 2, 7, ')')\n",
      "(\"Création de l'obstacle (\", 1, 7, ') - (', 8, 8, ')')\n",
      "(2, 'obstacles ont été créés')\n",
      "('Création de la personne qui part de', 2, 2, 'pour aller à', 0, 0)\n",
      "(1, 'personnes ont été créées')\n",
      "********************\n",
      "Début de la simulation\n",
      "('La personne (', 2, 2, ') peut se déplacer sur :', [(3, 2, 1)])\n",
      "('Déplacement de la personne de (', 2, 2, ') à (', 2, 1, ')')\n",
      "('La personne (', 2, 1, ') peut se déplacer sur :', [(2, 1, 1), (2, 2, 0)])\n",
      "('Déplacement de la personne de (', 2, 1, ') à (', 1, 1, ')')\n",
      "('La personne (', 1, 1, ') peut se déplacer sur :', [(1, 0, 1), (1, 1, 0)])\n",
      "('Déplacement de la personne de (', 1, 1, ') à (', 0, 1, ')')\n",
      "('La personne (', 0, 1, ') peut se déplacer sur :', [(0, 0, 0)])\n",
      "('Déplacement de la personne de (', 0, 1, ') à (', 0, 0, ')')\n",
      "('Une personne vient de sortir, il reste', 0, 'personnes')\n"
     ]
    }
   ],
   "source": [
    "# En mode debug avec 1 personne, sans UI\n",
    "debug = Debug(True)\n",
    "\n",
    "file = open_file(petite_grille, debug)  # On ouvre le fichier\n",
    "X, Y = read_grid_size(file, debug) # On lit la taille\n",
    "grid = Grille(X, Y, affichage.Aucun, debug)     # On créée l'objet grille\n",
    "read_obstacles(file, grid, Obstacle, debug)  # On lit et positionne les obstacles\n",
    "read_personnes(file, grid, Personne, 1, debug) # On lit et positionne une seule personne\n",
    "print(\"*\"*20)\n",
    "print(\"Début de la simulation\")\n",
    "grid.Simulation()"
   ]
  },
  {
   "cell_type": "markdown",
   "metadata": {
    "id": "Sq1BRZZagNzT"
   },
   "source": [
    "### Visualisation de chacune des itérations avec Matplotlib"
   ]
  },
  {
   "cell_type": "code",
   "execution_count": 56,
   "metadata": {
    "ExecuteTime": {
     "end_time": "2020-09-09T14:49:25.241960Z",
     "start_time": "2020-09-09T14:49:24.715633Z"
    },
    "colab": {
     "base_uri": "https://localhost:8080/",
     "height": 1000
    },
    "id": "m1ukyCAugNzZ",
    "outputId": "22575394-885d-499a-8e90-df38929c0603",
    "scrolled": true
   },
   "outputs": [
    {
     "data": {
      "image/png": "[encoded data removed]",
      "text/plain": [
       "<Figure size 432x288 with 1 Axes>"
      ]
     },
     "metadata": {
      "needs_background": "light",
      "tags": []
     },
     "output_type": "display_data"
    },
    {
     "data": {
      "image/png": "[encoded data removed]",
      "text/plain": [
       "<Figure size 432x288 with 1 Axes>"
      ]
     },
     "metadata": {
      "needs_background": "light",
      "tags": []
     },
     "output_type": "display_data"
    },
    {
     "data": {
      "image/png": "[encoded data removed]",
      "text/plain": [
       "<Figure size 432x288 with 1 Axes>"
      ]
     },
     "metadata": {
      "needs_background": "light",
      "tags": []
     },
     "output_type": "display_data"
    },
    {
     "data": {
      "image/png": "[encoded data removed]",
      "text/plain": [
       "<Figure size 432x288 with 1 Axes>"
      ]
     },
     "metadata": {
      "needs_background": "light",
      "tags": []
     },
     "output_type": "display_data"
    },
    {
     "data": {
      "image/png": "[encoded data removed]",
      "text/plain": [
       "<Figure size 432x288 with 1 Axes>"
      ]
     },
     "metadata": {
      "needs_background": "light",
      "tags": []
     },
     "output_type": "display_data"
    },
    {
     "data": {
      "image/png": "[encoded data removed]",
      "text/plain": [
       "<Figure size 432x288 with 1 Axes>"
      ]
     },
     "metadata": {
      "needs_background": "light",
      "tags": []
     },
     "output_type": "display_data"
    }
   ],
   "source": [
    "for img in grid.mapList:\n",
    "    plt.imshow(img, cmap='Paired', vmin=0, vmax=5)\n",
    "    plt.show()"
   ]
  },
  {
   "cell_type": "markdown",
   "metadata": {
    "id": "-VpaBhfngNzu"
   },
   "source": [
    "### Visualisation de chacune des itérations avec OpenCV"
   ]
  },
  {
   "cell_type": "code",
   "execution_count": 50,
   "metadata": {
    "ExecuteTime": {
     "end_time": "2020-09-09T14:49:37.845993Z",
     "start_time": "2020-09-09T14:49:25.860666Z"
    },
    "id": "mCJLVGi1gNzx"
   },
   "outputs": [],
   "source": [
    "if UI==affichage.OpenCV:\n",
    "    for image in grid.mapList:\n",
    "        cv2.imshow(\"img\", createImage(image))\n",
    "        cv2.waitKey(500) # Wait for 0.5 second\n",
    "    cv2.destroyAllWindows()"
   ]
  },
  {
   "cell_type": "markdown",
   "metadata": {
    "id": "yCh1-HwYgNz_"
   },
   "source": [
    "### Sans trace mais avec visualisation"
   ]
  },
  {
   "cell_type": "code",
   "execution_count": 57,
   "metadata": {
    "ExecuteTime": {
     "end_time": "2020-09-09T14:49:49.836016Z",
     "start_time": "2020-09-09T14:49:37.849761Z"
    },
    "id": "8Uf1sWkEgN0C"
   },
   "outputs": [],
   "source": [
    "# En mode sans trace avec 1 personne mais avec UI\n",
    "if UI==affichage.OpenCV:\n",
    "    debug = Debug(False)\n",
    "    file = open_file(petite_grille, debug)  # On ouvre le fichier\n",
    "    X, Y = read_grid_size(file, debug) # On lit la taille\n",
    "    grid = Grille(X, Y, affichage.OpenCV, debug)     # On créée l'objet grille\n",
    "    read_obstacles(file, grid, Obstacle, debug)  # On lit et positionne les obstacles\n",
    "    read_personnes(file, grid, Personne, 1, debug) # On lit et positionne une seule personne\n",
    "    grid.Simulation()"
   ]
  },
  {
   "cell_type": "markdown",
   "metadata": {
    "id": "77lVN_SegN0H"
   },
   "source": [
    "## <span style=\"color:red\">Votre travail</span>\n",
    "\n",
    "Mettre en oeuvre plusieurs version du simulateur :\n",
    "1. Version itérative : un seul flot d'exécution. Celui-ci est presque terminé, il faut reste à trouver une manière la plus judicieuse possible pour résoudre le problème des personnes bloquées par un obsatacle sans modifier le comportement d'une personne.\n",
    "1. Version un flot d'exécution par personne. Attention a bien protéger par une section critique tout accès à une ressource concurrente que ce soit une trace d'exécution en mode debug ou une ressource partagée. On fera attention a reduire dans la mesure du possible la portée d'une section critique\n",
    "1. Version un flot d'exécution pour un quard de la grille. Une personne de coordonnée X, Y sera gérée par le flot d'exécution numéro $i = 2* (Y//(Ymax//2)) + X//(Xmax//2)$.\n",
    "\n",
    "Vous construirez ces différentes versions en créant si nécessaire des sous-classes aux classes existantes.\n",
    "\n"
   ]
  },
  {
   "cell_type": "markdown",
   "metadata": {
    "ExecuteTime": {
     "end_time": "2020-09-01T14:38:38.843007Z",
     "start_time": "2020-09-01T14:38:19.214514Z"
    },
    "id": "J824gJ_9gN0I"
   },
   "source": [
    "Bien évidemment, on attend une étude comparative des différentes approches. Pour vous aider dans l'analyse des solutions qui doivent être décrites vous utiliserez un nombre variable de personnes. Pour cela, vous adapterez le code suivant afin de pouvoir mesurer l'évolution du temps d'exécution en fonction du nombre de personnes présentes sur la grille et comparer les temps d'exécution entre les scénarios\n",
    "<code>\n",
    "debug = Debug(False)\n",
    "\n",
    "duration_i = []  # i est le numéro du scénario\n",
    "nb_personnes = []\n",
    "for i in range(11):\n",
    "    nb_personnes += [np.power(2, i)]\n",
    "    print(\"*\"*30)\n",
    "    print(\"pour\", nb_personnes[-1], \"personnes\")\n",
    "\n",
    "    file = open_file(grande_grille, debug)  # On ouvre le fichier\n",
    "    X, Y = read_grid_size(file, debug) # On lit la taille\n",
    "    debug.affiche(\"simulation pour une grille:\", X, Y)\n",
    "    grid = Grille(X, Y, debug)     # On créée l'objet grille\n",
    "    read_obstacles(file, grid, Obstacle, debug)  # On lit et positionne les obstacles\n",
    "    read_personnes(file, grid, Personne, nb_personnes[-1], debug) # On lit et positionne le nombre de personne souhaité seule personne\n",
    "    debug.affiche(\"nbre de personnes\", len(grid.personneList))\n",
    "    \n",
    "    start = time.time()\n",
    "    grid.Simulation(debug)\n",
    "    end = time.time()\n",
    "    duration_i += [end-start]\n",
    "    print(\"La simulation a duré\", duration1[-1], \"secondes\")\n",
    "    print(\"Il restait\", XXXXX, \"personnes immobiles\")<code>"
   ]
  },
  {
   "cell_type": "markdown",
   "metadata": {
    "id": "gNlSsNpIgN0J"
   },
   "source": [
    "Vous ferez un plot de l'évolution des temps d'exécution\n",
    "<code>\n",
    "plt.plot(nb_personnes, duration_1, label=\"Une seule thread\")\n",
    "plt.plot(nb_personnes, duration_2, label=\"Une thread par personne\")\n",
    "plt.plot(nb_personnes, duration_2, label=\"Une thread par quard de terrain\")\n",
    "plt.xlabel(\"nombre de personnes\")\n",
    "plt.ylabel(\"temps en secondes\")\n",
    "plt.legend()\n",
    "plt.show()<code>"
   ]
  },
  {
   "cell_type": "markdown",
   "metadata": {
    "ExecuteTime": {
     "end_time": "2020-09-01T15:08:57.408399Z",
     "start_time": "2020-09-01T15:08:57.304373Z"
    },
    "id": "TqjUyZG_gN0M"
   },
   "source": [
    "Vous calculerez les ratios entre les scénarios\n",
    "<code>\n",
    "ratio_2 = []\n",
    "ratio_3 = []\n",
    "for i,j,k in zip(duration_1, duration_2, duration_3):\n",
    "    ratio_2 += [j/i]\n",
    "    ratio_3 += [k/i]\n",
    "plt.plot(nb_personnes, ratio_2, label=\"...\")\n",
    "plt.plot(nb_personnes, ratio_3, label=\"...\")\n",
    "plt.xlabel(\"nombre de personnes\")\n",
    "plt.ylabel(\"...\")\n",
    "plt.legend()\n",
    "plt.show()<code>"
   ]
  },
  {
   "cell_type": "markdown",
   "metadata": {
    "ExecuteTime": {
     "end_time": "2020-09-09T14:49:56.668475Z",
     "start_time": "2020-09-09T14:49:56.663438Z"
    },
    "id": "EnRRN3logN0N"
   },
   "source": [
    "Vous calculerez aussi le speedup (inverse du ratio précédent) et ferez un plot de celui-ci"
   ]
  },
  {
   "cell_type": "markdown",
   "metadata": {
    "id": "aDWwDPFsgN0V"
   },
   "source": [
    "## Scénario 1 - version itérative"
   ]
  },
  {
   "cell_type": "code",
   "execution_count": 114,
   "metadata": {
    "id": "9E7R4gVggN0W"
   },
   "outputs": [],
   "source": [
    "class Grille_1(Grille):\n",
    "    def __init__(self, Xmax, Ymax, UI, debug):\n",
    "        Grille.__init__(self,Xmax,Ymax,UI,debug)\n",
    "        self.personneSuppriemList=[]\n",
    "   \n",
    "    def Simulation(self,debug):\n",
    "        if debug.debug or self.UI==affichage.OpenCV:\n",
    "            self.mapList.append(copy.copy(self.map))\n",
    "        if self.UI==affichage.OpenCV:\n",
    "            cv2.imshow(\"img\", createImage(self.map))\n",
    "            cv2.waitKey(500)\n",
    "    \n",
    "        while len(self.personneList)>0: \n",
    "            nb_pers_immobile=0 \n",
    "            for personne in self.personneList:\n",
    "                end, immobile = personne.deplacePersonne(self, debug)\n",
    "                if immobile:\n",
    "                    nb_pers_immobile+=1 # On compte le nombre de personnes immobile\n",
    "                if end:\n",
    "                    debug.affiche(\"Une personne vient de sortir, il reste\", len(self.personneList), \"personnes\")\n",
    "            if nb_pers_immobile==len(self.personneList): # S'il y a autant de personne bloqué que de personnes sur la grille, au moins une personne est bloqué\n",
    "                                                        # par un obstacle\n",
    "                self.personneSuppriemList=self.personneList\n",
    "                self.personneList.clear()\n",
    "            if debug.debug or self.UI==affichage.OpenCV:\n",
    "                self.mapList.append(copy.copy(self.map))\n",
    "                if self.UI==affichage.OpenCV:\n",
    "                    cv2.imshow(\"img\", createImage(self.map))\n",
    "                    cv2.waitKey(500)\n",
    "    \n",
    "        if self.UI==affichage.OpenCV:\n",
    "            cv2.destroyAllWindows()"
   ]
  },
  {
   "cell_type": "code",
   "execution_count": 115,
   "metadata": {
    "colab": {
     "base_uri": "https://localhost:8080/",
     "height": 1000
    },
    "id": "mePFfPf2gN0e",
    "outputId": "b9e353cf-709f-4f34-e5f9-37cd67034482"
   },
   "outputs": [
    {
     "name": "stdout",
     "output_type": "stream",
     "text": [
      "('Ouverture du fichier', '/content/drive/My Drive/Colab Notebooks/rendu 3/maps/map-initial.txt')\n",
      "('Simulation pour une grille:', 10, '*', 10)\n",
      "(\"Initilisation de l'objet grille\",)\n",
      "('obstacle non créé', ['-1', '-1', '-1', '-1'])\n",
      "(\"Création de l'obstacle (\", 1, 1, ') - (', 2, 7, ')')\n",
      "(\"Création de l'obstacle (\", 1, 7, ') - (', 8, 8, ')')\n",
      "(2, 'obstacles ont été créés')\n",
      "('Création de la personne qui part de', 2, 2, 'pour aller à', 0, 0)\n",
      "('Création de la personne qui part de', 3, 3, 'pour aller à', 0, 9)\n",
      "('Création de la personne qui part de', 6, 6, 'pour aller à', 9, 0)\n",
      "(3, 'personnes ont été créées')\n",
      "********************\n",
      "Début de la simulation\n",
      "('La personne (', 2, 2, ') peut se déplacer sur :', [(3, 2, 1)])\n",
      "('Déplacement de la personne de (', 2, 2, ') à (', 2, 1, ')')\n",
      "('La personne (', 3, 3, ') peut se déplacer sur :', [(8, 2, 3), (8, 3, 4)])\n",
      "('Déplacement de la personne de (', 3, 3, ') à (', 2, 3, ')')\n",
      "('La personne (', 6, 6, ') peut se déplacer sur :', [(8, 6, 5), (8, 7, 6)])\n",
      "('Déplacement de la personne de (', 6, 6, ') à (', 6, 5, ')')\n",
      "('La personne (', 2, 1, ') peut se déplacer sur :', [(2, 1, 1), (2, 2, 0)])\n",
      "('Déplacement de la personne de (', 2, 1, ') à (', 1, 1, ')')\n",
      "('La personne (', 2, 3, ') peut se déplacer sur :', [(7, 2, 4)])\n",
      "('Déplacement de la personne de (', 2, 3, ') à (', 2, 4, ')')\n",
      "('La personne (', 6, 5, ') peut se déplacer sur :', [(7, 6, 4), (7, 7, 5)])\n",
      "('Déplacement de la personne de (', 6, 5, ') à (', 6, 4, ')')\n",
      "('La personne (', 1, 1, ') peut se déplacer sur :', [(1, 0, 1), (1, 1, 0)])\n",
      "('Déplacement de la personne de (', 1, 1, ') à (', 0, 1, ')')\n",
      "('La personne (', 2, 4, ') peut se déplacer sur :', [(6, 2, 5)])\n",
      "('Déplacement de la personne de (', 2, 4, ') à (', 2, 5, ')')\n",
      "('La personne (', 6, 4, ') peut se déplacer sur :', [(6, 6, 3), (6, 7, 4)])\n",
      "('Déplacement de la personne de (', 6, 4, ') à (', 6, 3, ')')\n",
      "('La personne (', 0, 1, ') peut se déplacer sur :', [(0, 0, 0)])\n",
      "('Déplacement de la personne de (', 0, 1, ') à (', 0, 0, ')')\n",
      "('La personne (', 2, 5, ') peut se déplacer sur :', [(5, 2, 6)])\n",
      "('Déplacement de la personne de (', 2, 5, ') à (', 2, 6, ')')\n",
      "('La personne (', 6, 3, ') peut se déplacer sur :', [(5, 6, 2), (5, 7, 3)])\n",
      "('Déplacement de la personne de (', 6, 3, ') à (', 6, 2, ')')\n",
      "('Une personne vient de sortir, il reste', 2, 'personnes')\n",
      "('La personne (', 6, 2, ') peut se déplacer sur :', [(4, 6, 1), (4, 7, 2)])\n",
      "('Déplacement de la personne de (', 6, 2, ') à (', 6, 1, ')')\n",
      "('La personne (', 2, 6, ') peut se déplacer sur :', [(4, 2, 7)])\n",
      "('Déplacement de la personne de (', 2, 6, ') à (', 2, 7, ')')\n",
      "('La personne (', 6, 1, ') peut se déplacer sur :', [(3, 6, 0), (3, 7, 1)])\n",
      "('Déplacement de la personne de (', 6, 1, ') à (', 6, 0, ')')\n",
      "('La personne (', 2, 7, ') peut se déplacer sur :', [])\n",
      "('La personne (', 2, 7, 'ne peut pas se déplacer')\n",
      "('La personne (', 6, 0, ') peut se déplacer sur :', [(2, 7, 0)])\n",
      "('Déplacement de la personne de (', 6, 0, ') à (', 7, 0, ')')\n",
      "('La personne (', 2, 7, ') peut se déplacer sur :', [])\n",
      "('La personne (', 2, 7, 'ne peut pas se déplacer')\n",
      "('La personne (', 7, 0, ') peut se déplacer sur :', [(1, 8, 0)])\n",
      "('Déplacement de la personne de (', 7, 0, ') à (', 8, 0, ')')\n",
      "('La personne (', 2, 7, ') peut se déplacer sur :', [])\n",
      "('La personne (', 2, 7, 'ne peut pas se déplacer')\n",
      "('La personne (', 8, 0, ') peut se déplacer sur :', [(0, 9, 0)])\n",
      "('Déplacement de la personne de (', 8, 0, ') à (', 9, 0, ')')\n",
      "('La personne (', 2, 7, ') peut se déplacer sur :', [])\n",
      "('La personne (', 2, 7, 'ne peut pas se déplacer')\n",
      "('Une personne vient de sortir, il reste', 1, 'personnes')\n"
     ]
    },
    {
     "data": {
      "image/png": "[encoded data removed]",
      "text/plain": [
       "<Figure size 432x288 with 1 Axes>"
      ]
     },
     "metadata": {
      "needs_background": "light",
      "tags": []
     },
     "output_type": "display_data"
    },
    {
     "data": {
      "image/png": "[encoded data removed]",
      "text/plain": [
       "<Figure size 432x288 with 1 Axes>"
      ]
     },
     "metadata": {
      "needs_background": "light",
      "tags": []
     },
     "output_type": "display_data"
    },
    {
     "data": {
      "image/png": "[encoded data removed]",
      "text/plain": [
       "<Figure size 432x288 with 1 Axes>"
      ]
     },
     "metadata": {
      "needs_background": "light",
      "tags": []
     },
     "output_type": "display_data"
    },
    {
     "data": {
      "image/png": "[encoded data removed]",
      "text/plain": [
       "<Figure size 432x288 with 1 Axes>"
      ]
     },
     "metadata": {
      "needs_background": "light",
      "tags": []
     },
     "output_type": "display_data"
    },
    {
     "data": {
      "image/png": "[encoded data removed]",
      "text/plain": [
       "<Figure size 432x288 with 1 Axes>"
      ]
     },
     "metadata": {
      "needs_background": "light",
      "tags": []
     },
     "output_type": "display_data"
    },
    {
     "data": {
      "image/png": "[encoded data removed]",
      "text/plain": [
       "<Figure size 432x288 with 1 Axes>"
      ]
     },
     "metadata": {
      "needs_background": "light",
      "tags": []
     },
     "output_type": "display_data"
    },
    {
     "data": {
      "image/png": "[encoded data removed]",
      "text/plain": [
       "<Figure size 432x288 with 1 Axes>"
      ]
     },
     "metadata": {
      "needs_background": "light",
      "tags": []
     },
     "output_type": "display_data"
    },
    {
     "data": {
      "image/png": "[encoded data removed]",
      "text/plain": [
       "<Figure size 432x288 with 1 Axes>"
      ]
     },
     "metadata": {
      "needs_background": "light",
      "tags": []
     },
     "output_type": "display_data"
    },
    {
     "data": {
      "image/png": "[encoded data removed]",
      "text/plain": [
       "<Figure size 432x288 with 1 Axes>"
      ]
     },
     "metadata": {
      "needs_background": "light",
      "tags": []
     },
     "output_type": "display_data"
    },
    {
     "data": {
      "image/png": "[encoded data removed]",
      "text/plain": [
       "<Figure size 432x288 with 1 Axes>"
      ]
     },
     "metadata": {
      "needs_background": "light",
      "tags": []
     },
     "output_type": "display_data"
    },
    {
     "data": {
      "image/png": "[encoded data removed]",
      "text/plain": [
       "<Figure size 432x288 with 1 Axes>"
      ]
     },
     "metadata": {
      "needs_background": "light",
      "tags": []
     },
     "output_type": "display_data"
    }
   ],
   "source": [
    "''' code du scénario 1 - vous pouvez utiliser plusieurs cellule '''\n",
    "\n",
    "debug = Debug(True)\n",
    "\n",
    "file = open_file(petite_grille, debug)  # On ouvre le fichier\n",
    "X, Y = read_grid_size(file, debug) # On lit la taille\n",
    "grid = Grille_1(X, Y, affichage.Aucun, debug)     # On créée l'objet grille\n",
    "read_obstacles(file, grid, Obstacle, debug)  # On lit et positionne les obstacles\n",
    "read_personnes(file, grid, Personne, 3, debug) # On lit et positionne une seule personne\n",
    "print(\"*\"*20)\n",
    "print(\"Début de la simulation\")\n",
    "grid.Simulation(debug)\n",
    "\n",
    "for img in grid.mapList:\n",
    "    plt.imshow(img, cmap='Paired', vmin=0, vmax=5)\n",
    "    plt.show()\n"
   ]
  },
  {
   "cell_type": "code",
   "execution_count": 116,
   "metadata": {
    "colab": {
     "base_uri": "https://localhost:8080/",
     "height": 282
    },
    "id": "tMn4uJrLgN0l",
    "outputId": "aa3a992a-9782-4c2b-8290-f492e7542a31"
   },
   "outputs": [
    {
     "data": {
      "text/plain": [
       "[<matplotlib.lines.Line2D at 0x7f23529bebe0>]"
      ]
     },
     "execution_count": 116,
     "metadata": {
      "tags": []
     },
     "output_type": "execute_result"
    },
    {
     "data": {
      "image/png": "[encoded data removed]",
      "text/plain": [
       "<Figure size 432x288 with 1 Axes>"
      ]
     },
     "metadata": {
      "needs_background": "light",
      "tags": []
     },
     "output_type": "display_data"
    }
   ],
   "source": [
    "''' plot du temps d'exécution en fonction du nombre de personnes '''\n",
    "duration_i = [] # i est le numéro du scénario \n",
    "nb_personnes=[]\n",
    "range_personnes=10\n",
    "debug = Debug(False)\n",
    "for x in range(1,range_personnes):\n",
    "    nb_personnes.append(x)\n",
    "    file = open_file(petite_grille, debug)  # On ouvre le fichier\n",
    "    X, Y = read_grid_size(file, debug) # On lit la taille\n",
    "    grid = Grille_1(X, Y, affichage.Aucun, debug)     # On créée l'objet grille\n",
    "    read_obstacles(file, grid, Obstacle, debug)  # On lit et positionne les obstacles\n",
    "    read_personnes(file, grid, Personne, x, debug) # On lit et positionne une seule personne\n",
    "    start = time.time()\n",
    "    grid.Simulation(debug)\n",
    "    end = time.time()\n",
    "    duration_i.append(end-start)\n",
    "plt.plot(nb_personnes, duration_i, label=\"Une seule thread\")"
   ]
  },
  {
   "cell_type": "markdown",
   "metadata": {
    "id": "TPpTFkEmgN0u"
   },
   "source": [
    "Votre analyse du scénario 1"
   ]
  },
  {
   "cell_type": "markdown",
   "metadata": {
    "id": "bKddy_GbgN0w"
   },
   "source": [
    "## Scénario 2 - version 1 thread par personne"
   ]
  },
  {
   "cell_type": "markdown",
   "metadata": {
    "id": "FRub3Db3gN0z"
   },
   "source": [
    "## Scénario 3 - version 1 thread pour 1/4 de la grille"
   ]
  },
  {
   "cell_type": "markdown",
   "metadata": {
    "id": "V1DdnbthgN01"
   },
   "source": [
    "## Comparaison des trois approches\n",
    "\n",
    "<span style=\"color:red\">On attend ici une comparaison argumentée permettant de mettre en évidence les points forts et les points faibles des différentes solutions</span>"
   ]
  },
  {
   "cell_type": "markdown",
   "metadata": {
    "id": "fBVLeiTdgN09"
   },
   "source": [
    "## Export du notebook dans un fichier python"
   ]
  },
  {
   "cell_type": "code",
   "execution_count": null,
   "metadata": {
    "ExecuteTime": {
     "end_time": "2020-09-09T14:49:56.670691Z",
     "start_time": "2020-09-09T14:49:41.283Z"
    },
    "id": "TRHhI2M-gN1H"
   },
   "outputs": [],
   "source": [
    "import sys,json\n",
    "import ipyparams\n",
    "\n",
    "def convertNotebook(notebookPath, modulePath):\n",
    "    f = open(notebookPath, 'r') #input.ipynb\n",
    "    j = json.load(f)\n",
    "\n",
    "    of = open(modulePath, 'w') #output.py\n",
    "\n",
    "    if j[\"nbformat\"] >=4:\n",
    "        for i,cell in enumerate(j[\"cells\"]):\n",
    "            if cell['cell_type']=='code':\n",
    "                of.write(\"#cell \"+str(i+1)+\"\\n\")\n",
    "                for line in cell[\"source\"]:\n",
    "                    of.write(line)\n",
    "                of.write('\\n\\n')\n",
    "    else:\n",
    "        print(\"not implemented\")\n",
    "\n",
    "    of.close()"
   ]
  },
  {
   "cell_type": "code",
   "execution_count": null,
   "metadata": {
    "ExecuteTime": {
     "end_time": "2020-09-09T14:49:56.671833Z",
     "start_time": "2020-09-09T14:49:46.226Z"
    },
    "id": "Am0H35LRgN1W"
   },
   "outputs": [],
   "source": [
    "''' Remarks: it is necessary to put the import code in a separate cell above the call of function.\n",
    "Otherwise Jupyter will try to run the code before the library is fully loaded,\n",
    "so the currentNotebook variable is still blank.\n",
    "\n",
    "Putting the import in its own cell forces it to load before moving to the next cell.\n",
    "'''\n",
    "if is_running_from_ipython():\n",
    "    currentNotebook = ipyparams.notebook_name\n",
    "    pythonName = currentNotebook.split(\".\")[0]+\".py\"\n",
    "    \n",
    "    convertNotebook(currentNotebook, pythonName)"
   ]
  },
  {
   "cell_type": "code",
   "execution_count": null,
   "metadata": {
    "id": "Aa-n4WSPgN1e"
   },
   "outputs": [],
   "source": []
  }
 ],
 "metadata": {
  "colab": {
   "name": "simulation_deplacement_foule_etudiant.ipynb",
   "provenance": [],
   "toc_visible": true
  },
  "kernelspec": {
   "display_name": "Python 3",
   "language": "python",
   "name": "python3"
  },
  "language_info": {
   "codemirror_mode": {
    "name": "ipython",
    "version": 3
   },
   "file_extension": ".py",
   "mimetype": "text/x-python",
   "name": "python",
   "nbconvert_exporter": "python",
   "pygments_lexer": "ipython3",
   "version": "3.7.9"
  },
  "latex_envs": {
   "LaTeX_envs_menu_present": true,
   "autoclose": true,
   "autocomplete": true,
   "bibliofile": "biblio.bib",
   "cite_by": "apalike",
   "current_citInitial": 1,
   "eqLabelWithNumbers": true,
   "eqNumInitial": 1,
   "hotkeys": {
    "equation": "Ctrl-E",
    "itemize": "Ctrl-I"
   },
   "labels_anchors": false,
   "latex_user_defs": false,
   "report_style_numbering": false,
   "user_envs_cfg": false
  },
  "nbTranslate": {
   "displayLangs": [
    "*"
   ],
   "hotkey": "alt-t",
   "langInMainMenu": true,
   "sourceLang": "en",
   "targetLang": "fr",
   "useGoogleTranslate": true
  },
  "toc": {
   "base_numbering": 1,
   "nav_menu": {},
   "number_sections": true,
   "sideBar": true,
   "skip_h1_title": true,
   "title_cell": "Table of Contents",
   "title_sidebar": "Contents",
   "toc_cell": true,
   "toc_position": {},
   "toc_section_display": true,
   "toc_window_display": false
  }
 },
 "nbformat": 4,
 "nbformat_minor": 4
}
