{
 "cells": [
  {
   "cell_type": "markdown",
   "metadata": {},
   "source": [
    "# Simulation de déplacement d'une foule\n",
    "\n",
    "__NOMS PRENOMS et emails des membres du groupe"
   ]
  },
  {
   "cell_type": "markdown",
   "metadata": {
    "ExecuteTime": {
     "end_time": "2020-09-09T14:05:18.487484Z",
     "start_time": "2020-09-09T14:05:18.483571Z"
    }
   },
   "source": [
    "## Introduction\n",
    "<span style=\"color:red\">Mettre ici votre description du projet.</span>"
   ]
  },
  {
   "cell_type": "markdown",
   "metadata": {
    "toc": true
   },
   "source": [
    "<h1>Table of Contents<span class=\"tocSkip\"></span></h1>\n",
    "<div class=\"toc\"><ul class=\"toc-item\"><li><span><a href=\"#Introduction\" data-toc-modified-id=\"Introduction-1\"><span class=\"toc-item-num\">1&nbsp;&nbsp;</span>Introduction</a></span></li><li><span><a href=\"#Bibliothèque-Python-pour-le-multi-flots-d'exécution.\" data-toc-modified-id=\"Bibliothèque-Python-pour-le-multi-flots-d'exécution.-2\"><span class=\"toc-item-num\">2&nbsp;&nbsp;</span>Bibliothèque Python pour le multi-flots d'exécution.</a></span></li><li><span><a href=\"#Les-mécanismes-de-synchronisation-en-Python\" data-toc-modified-id=\"Les-mécanismes-de-synchronisation-en-Python-3\"><span class=\"toc-item-num\">3&nbsp;&nbsp;</span>Les mécanismes de synchronisation en Python</a></span></li><li><span><a href=\"#Définitions-de-quelques-procédures-pour-initialiser-une-grille-à-partir-d'un-fichier-de-configuration\" data-toc-modified-id=\"Définitions-de-quelques-procédures-pour-initialiser-une-grille-à-partir-d'un-fichier-de-configuration-4\"><span class=\"toc-item-num\">4&nbsp;&nbsp;</span>Définitions de quelques procédures pour initialiser une grille à partir d'un fichier de configuration</a></span><ul class=\"toc-item\"><li><span><a href=\"#Définition-de-la-grille\" data-toc-modified-id=\"Définition-de-la-grille-4.1\"><span class=\"toc-item-num\">4.1&nbsp;&nbsp;</span>Définition de la grille</a></span></li><li><span><a href=\"#Définition-d'un-obstacle\" data-toc-modified-id=\"Définition-d'un-obstacle-4.2\"><span class=\"toc-item-num\">4.2&nbsp;&nbsp;</span>Définition d'un obstacle</a></span></li><li><span><a href=\"#Définition-d'une-personne\" data-toc-modified-id=\"Définition-d'une-personne-4.3\"><span class=\"toc-item-num\">4.3&nbsp;&nbsp;</span>Définition d'une personne</a></span></li><li><span><a href=\"#Construction-d'une-image-pour-OpenCV\" data-toc-modified-id=\"Construction-d'une-image-pour-OpenCV-4.4\"><span class=\"toc-item-num\">4.4&nbsp;&nbsp;</span>Construction d'une image pour OpenCV</a></span></li></ul></li><li><span><a href=\"#Solution-itérative\" data-toc-modified-id=\"Solution-itérative-5\"><span class=\"toc-item-num\">5&nbsp;&nbsp;</span>Solution itérative</a></span><ul class=\"toc-item\"><li><span><a href=\"#Avec-trace-mais-sans-visualisation\" data-toc-modified-id=\"Avec-trace-mais-sans-visualisation-5.1\"><span class=\"toc-item-num\">5.1&nbsp;&nbsp;</span>Avec trace mais sans visualisation</a></span></li><li><span><a href=\"#Visualisation-de-chacune-des-itérations-avec-Matplotlib\" data-toc-modified-id=\"Visualisation-de-chacune-des-itérations-avec-Matplotlib-5.2\"><span class=\"toc-item-num\">5.2&nbsp;&nbsp;</span>Visualisation de chacune des itérations avec Matplotlib</a></span></li><li><span><a href=\"#Visualisation-de-chacune-des-itérations-avec-OpenCV\" data-toc-modified-id=\"Visualisation-de-chacune-des-itérations-avec-OpenCV-5.3\"><span class=\"toc-item-num\">5.3&nbsp;&nbsp;</span>Visualisation de chacune des itérations avec OpenCV</a></span></li><li><span><a href=\"#Sans-trace-mais-avec-visualisation\" data-toc-modified-id=\"Sans-trace-mais-avec-visualisation-5.4\"><span class=\"toc-item-num\">5.4&nbsp;&nbsp;</span>Sans trace mais avec visualisation</a></span></li><li><span><a href=\"#Utilisation-des-procédures-précédentes-pour-créer-une-nouvelle-grille-qui-sera-sauvegardée-dans-un-fichier\" data-toc-modified-id=\"Utilisation-des-procédures-précédentes-pour-créer-une-nouvelle-grille-qui-sera-sauvegardée-dans-un-fichier-5.5\"><span class=\"toc-item-num\">5.5&nbsp;&nbsp;</span>Utilisation des procédures précédentes pour créer une nouvelle grille qui sera sauvegardée dans un fichier</a></span></li></ul></li><li><span><a href=\"#Votre-travail\" data-toc-modified-id=\"Votre-travail-6\"><span class=\"toc-item-num\">6&nbsp;&nbsp;</span><span style=\"color: red\">Votre travail</span></a></span></li><li><span><a href=\"#Scénario-1\" data-toc-modified-id=\"Scénario-1-7\"><span class=\"toc-item-num\">7&nbsp;&nbsp;</span>Scénario 1</a></span></li><li><span><a href=\"#Scénario-2\" data-toc-modified-id=\"Scénario-2-8\"><span class=\"toc-item-num\">8&nbsp;&nbsp;</span>Scénario 2</a></span></li><li><span><a href=\"#Scénario-3\" data-toc-modified-id=\"Scénario-3-9\"><span class=\"toc-item-num\">9&nbsp;&nbsp;</span>Scénario 3</a></span></li><li><span><a href=\"#Comparaison-des-trois-approches\" data-toc-modified-id=\"Comparaison-des-trois-approches-10\"><span class=\"toc-item-num\">10&nbsp;&nbsp;</span>Comparaison des trois approches</a></span></li><li><span><a href=\"#Export-du-notebook-dans-un-fichier-python\" data-toc-modified-id=\"Export-du-notebook-dans-un-fichier-python-11\"><span class=\"toc-item-num\">11&nbsp;&nbsp;</span>Export du notebook dans un fichier python</a></span></li></ul></div>"
   ]
  },
  {
   "cell_type": "markdown",
   "metadata": {},
   "source": [
    "## Bibliothèque Python pour le multi-flots d'exécution.\n",
    "\n",
    "<span style=\"color:red\">Dans cette section vous présenterez votre étude comparative, avec exemple, des bibliothèques python permettant d'exécuter plusieurs flots en parallèle</span>\n",
    "\n",
    "<span style=\"color:red\">Vous préciserez de manière justifiée à la fin de cette section la bibliothèque choisie. La cellule suivante, exécutable comprendra l'import de la bibliothèque.</span>"
   ]
  },
  {
   "cell_type": "markdown",
   "metadata": {},
   "source": [
    "Il existe plusieures modules qui prennent en charge l'utilisation des threads en Python: _thread, multiprocessing, threading, asyncio.\n",
    "\n",
    "Le module _thread traite un thread comme une fonction, tandis que les modules multiprocessing, threading et asyncio sont implémentés de manière orientée objet, c'est-à-dire que chaque processus/thread correspond à un objet.\n",
    "\n",
    "Quand on fait du multi-threading en python, 2 threads ne peuvent pas exécuter du code python en même temps à cause du Global Interpreter Lock. L'exécution simultanée de plusieurs tâches nécessite une implémentation non standard de Python ou l'utilisation du multiprocessing qui entraîne une surcharge supplémentaire.\n",
    "\n",
    "Quand on fait du multi-processing, c'est plus lourd, car il faut créer des processus, et la communication entre process est plus difficile car ils ne partagent pas la mémoire.\n",
    "\n",
    "\n",
    "#Pourquoi GIL? Python utilise le comptage de références pour la gestion de la mémoire. Cela signifie que les objets créés en Python ont une variable de comptage de références qui assure le suivi du nombre de références pointant vers l'objet. Lorsque ce décompte atteint zéro, la mémoire occupée par l'objet est libérée.\n",
    "\n",
    "Le problème est que cette variable de comptage de référence nécessite une protection contre les conditions de concurrence où deux threads augmentent ou diminuent simultanément sa valeur. Cela peut provoquer une fuite de mémoire qui n'est jamais libérée ouune libération incorrecte de la mémoire alors qu'une référence à cet objet existe toujours.\n"
   ]
  },
  {
   "cell_type": "markdown",
   "metadata": {},
   "source": [
    "# _thread"
   ]
  },
  {
   "cell_type": "markdown",
   "metadata": {},
   "source": [
    "Il est possible d'exécuter des fonctions dans un thread séparé avec le module Thread.\n",
    "\n",
    "thread.start_new_thread (fonction, args [, kwargs])\n",
    "\n",
    "Cette méthode démarre un nouveau thread et renvoie son identifiant. Le thread exécute la fonction avec l'argument list args. L'argument kwargs facultatif spécifie un dictionnaire d'arguments de mot-clé. Lorsque la fonction revient, le thread se ferme silencieusement. Lorsque la fonction se termine avec une exception non gérée, une trace de pile est imprimée, puis le thread se termine.\n"
   ]
  },
  {
   "cell_type": "code",
   "execution_count": null,
   "metadata": {},
   "outputs": [],
   "source": [
    "from _thread import start_new_thread\n",
    "import time\n",
    "\n",
    "def thread_function(name):\n",
    "    print(\"Thread \" +str(name)+ \": starting.\")\n",
    "    time.sleep(2)\n",
    "    print(\"Thread \" +str(name)+\": finishing.\")\n",
    "\n",
    "_thread.\n",
    "start_new_thread(thread_function,(99,))\n",
    "start_new_thread(thread_function,(999,))\n",
    "start_new_thread(thread_function,(1733,))\n",
    "\n",
    "print(\"Done.\")"
   ]
  },
  {
   "cell_type": "markdown",
   "metadata": {},
   "source": [
    "# threading"
   ]
  },
  {
   "cell_type": "markdown",
   "metadata": {},
   "source": [
    "Le module threading fournit une API de fils d'exécution de haut niveau, plus facile à utiliser et construite à partir de ce module.\n",
    "\n",
    "Pour implémenter un nouveau thread à l'aide du module de threading,on doit-\n",
    "\n",
    "Définir une nouvelle sous-classe de la classe Thread.\n",
    "\n",
    "Override la méthode __init __ (self [, args]) pour ajouter des arguments supplémentaires.\n",
    "\n",
    "Override la méthode run (self [, args]) pour implémenter ce que le thread doit faire au démarrage."
   ]
  },
  {
   "cell_type": "code",
   "execution_count": null,
   "metadata": {},
   "outputs": [],
   "source": [
    "import threading\n",
    "import time\n",
    "\n",
    "exitFlag = 0\n",
    "\n",
    "class myThread (threading.Thread):\n",
    "   def __init__(self, threadID, name, counter):\n",
    "      threading.Thread.__init__(self)\n",
    "      self.threadID = threadID\n",
    "      self.name = name\n",
    "      self.counter = counter\n",
    "   def run(self):\n",
    "      print (\"Starting \" + self.name)\n",
    "      print_time(self.name, 5, self.counter)\n",
    "      print (\"Exiting \" + self.name)\n",
    "\n",
    "def print_time(threadName, counter, delay):\n",
    "   while counter:\n",
    "      if exitFlag:\n",
    "         threadName.exit()\n",
    "      time.sleep(delay)\n",
    "      print (threadName + time.ctime(time.time()))\n",
    "      counter -= 1\n",
    "\n",
    "# Create new threads\n",
    "thread1 = myThread(1, \"Thread-1\", 1)\n",
    "thread2 = myThread(2, \"Thread-2\", 2)\n",
    "\n",
    "# Start new Threads\n",
    "thread1.start()\n",
    "thread2.start()\n",
    "\n",
    "print (\"Exiting Main Thread\")"
   ]
  },
  {
   "cell_type": "markdown",
   "metadata": {},
   "source": [
    "# multiprocessing"
   ]
  },
  {
   "cell_type": "markdown",
   "metadata": {},
   "source": [
    "Le module multiprocessing permet de tirer pleinement parti de plusieurs processeurs sur une machine donnée. L'API utilisée est similaire au module de threading classique. Pour créer un second processus, il faut instancier un objet Process avec une fonction cible et appeler start () pour le laisser commencer à fonctionner. Le guide de style multiprocessing Python recommande de placer le code multiprocesseur dans l'idiome name == 'main'. Cela est dû à la façon dont les processus sont créés sous Windows. Le but est d'éviter la boucle sans fin des générations de processus."
   ]
  },
  {
   "cell_type": "code",
   "execution_count": null,
   "metadata": {},
   "outputs": [],
   "source": [
    "import multiprocessing\n",
    "\n",
    "def worker(num):\n",
    "    print ('Worker:'+ str(num))\n",
    "    return\n",
    "\n",
    "if __name__ == '__main__':\n",
    "    jobs = []\n",
    "    for i in range(5):\n",
    "        p = multiprocessing.Process(target=worker, args=(i,))\n",
    "        jobs.append(p)\n",
    "        p.start()"
   ]
  },
  {
   "cell_type": "markdown",
   "metadata": {},
   "source": [
    "Par défaut, le programme principal ne se fermera pas tant que tous les enfants ne seront pas sortis.\n",
    "\n",
    "Un thread daemon s'arrêtera immédiatement lorsque le programme se fermera. Le thread daemon est un thread qui s'exécute en arrière-plan sans se soucier de l'arrêter.\n",
    "\n",
    "Un programme exécutant des threads qui ne sont pas des daemon attendra que ces threads se terminent avant de se terminer. Cependant, les threads qui sont des daemons sont simplement tués où qu'ils soient lorsque le programme se termine.\n",
    "\n",
    "Pour marquer un processus comme un daemon, il faut définir son attribut de démon avec une valeur booléenne. La valeur par défaut est que les processus ne sont pas des daemon, donc passer True active le mode daemon."
   ]
  },
  {
   "cell_type": "code",
   "execution_count": null,
   "metadata": {},
   "outputs": [],
   "source": [
    "import multiprocessing\n",
    "import time\n",
    "import sys\n",
    "import daemon\n",
    "import non_daemon\n",
    "\n",
    "if __name__ == '__main__':\n",
    "    d = multiprocessing.Process(name='daemon', target=daemon)\n",
    "    d.daemon = True\n",
    "\n",
    "    n = multiprocessing.Process(name='non-daemon', target=non_daemon)\n",
    "    n.daemon = False\n",
    "\n",
    "    d.start()\n",
    "    time.sleep(1)\n",
    "    n.start()"
   ]
  },
  {
   "cell_type": "markdown",
   "metadata": {},
   "source": [
    "Les processus ont leur propre espace virtuel, ils ne partagent pas leur mémoire. C'est pourquoi le module multiprocessing gère deux types de canaux de communication entre les processus : Queue , Tubes."
   ]
  },
  {
   "cell_type": "code",
   "execution_count": null,
   "metadata": {},
   "outputs": [],
   "source": [
    "from multiprocessing import Process, Queue\n",
    "\n",
    "def f(q):\n",
    "    q.put([42, None, 'hello'])\n",
    "\n",
    "if __name__ == '__main__':\n",
    "    q = Queue()\n",
    "    p = Process(target=f, args=(q,))\n",
    "    p.start()\n",
    "    print(q.get())    # prints \"[42, None, 'hello']\"\n",
    "    p.join()"
   ]
  },
  {
   "cell_type": "markdown",
   "metadata": {},
   "source": [
    "Pour utiliser un tube on instancie un objet Pipe. Les deux objets de connexion renvoyés par Pipe() représentent les deux bouts d'un tube. Chaque objet de connexion possède des méthodes send() et recv()."
   ]
  },
  {
   "cell_type": "code",
   "execution_count": null,
   "metadata": {},
   "outputs": [],
   "source": [
    "from multiprocessing import Process, Pipe\n",
    "\n",
    "def f(conn):\n",
    "    conn.send([42, None, 'hello'])\n",
    "    conn.close()\n",
    "\n",
    "if __name__ == '__main__':\n",
    "    parent_conn, child_conn = Pipe()\n",
    "    p = Process(target=f, args=(child_conn,))\n",
    "    p.start()\n",
    "    print(parent_conn.recv())   # prints \"[42, None, 'hello']\"\n",
    "    p.join()"
   ]
  },
  {
   "cell_type": "markdown",
   "metadata": {},
   "source": [
    "Il est également possible de créer des objets partagés utilisant une mémoire partagée pouvant être héritée par les processus enfants avec multiprocessing.Value(typecode_or_type, *args, lock=True).\n",
    "\n",
    "Les opérations telles que += qui impliquent une lecture et une écriture ne sont pas atomique. Ainsi si on souhaite par exemple réaliser une incrémentation atomique sur une valeur partagée, on ne peut pas simplement faire."
   ]
  },
  {
   "cell_type": "code",
   "execution_count": null,
   "metadata": {},
   "outputs": [],
   "source": [
    "# -*- coding: utf-8 -*-\n",
    "import multiprocessing \n",
    "\n",
    "# function to deposit to account \n",
    "def increment(variable):     \n",
    "    variable.value = variable.value + 1\n",
    "\n",
    "if __name__ == \"__main__\": \n",
    "    counter = multiprocessing.Value('i', 0)\n",
    "\n",
    "    p1 = multiprocessing.Process(target=increment, args=(counter,)) \n",
    "    p2 = multiprocessing.Process(target=increment, args=(counter,)) \n",
    "  \n",
    "    p1.start() \n",
    "    p2.start() \n",
    "\n",
    "    p1.join();\n",
    "    p2.join();\n",
    "\n",
    "    print(\"Final balance = \"+str(counter.value)) "
   ]
  },
  {
   "cell_type": "markdown",
   "metadata": {},
   "source": [
    "# **asyncio**\n",
    "\n",
    "Le concept général de asyncio est qu’un seul objet Python, appelé la boucle d’événements, contrôle comment et quand chaque tâche est exécutée. La boucle d’événements est consciente de chaque tâche et sait dans quel état elle se trouve. En réalité, il existe de nombreux états dans lesquels les tâches pourraient être mais nous allons dans un souci de simplicité supposer qu'il n'y a que deux états.\n",
    "\n",
    "L’état prêt indique qu’une tâche a du travail à faire et est prête à être exécutée, et l’état d’attente signifie que la tâche attend que quelque chose externe se termine (une opération réseau par exemple).\n",
    "\n",
    "La boucle d’événements simplifiée gère deux listes de tâches, une pour chacun de ces états. Il sélectionne l’une des tâches prêtes et la redémarre. Cette tâche est sous contrôle complet jusqu’à ce qu’elle remette en coopération le contrôle à la boucle d’événements.\n",
    "\n",
    "Lorsque la tâche en cours d’exécution redonne le contrôle à la boucle d’événements, la boucle d’événements place cette tâche dans la liste prête ou en attente, puis passe en revue chacune des tâches de la liste d’attente pour voir si elle est devenue prête par une opération d’E/S achèvement. Et ainsi de suite jusqu'a la fin de l'execution du programme."
   ]
  },
  {
   "cell_type": "code",
   "execution_count": null,
   "metadata": {},
   "outputs": [],
   "source": [
    "#!/usr/bin/env python3\n",
    "# countasync.py\n",
    "\n",
    "import asyncio\n",
    "\n",
    "async def count():\n",
    "    print(\"One\")\n",
    "    await asyncio.sleep(1)\n",
    "    print(\"Two\")\n",
    "\n",
    "async def main():\n",
    "    await asyncio.gather(count(), count(), count())\n",
    "\n",
    "if __name__ == \"__main__\":\n",
    "    import time\n",
    "    s = time.perf_counter()\n",
    "    loop = asyncio.get_event_loop()\n",
    "    loop.run_until_complete(main())\n",
    "    elapsed = time.perf_counter() - s\n",
    "    print(f\"{__file__} executed in {elapsed:0.2f} seconds.\")"
   ]
  },
  {
   "cell_type": "markdown",
   "metadata": {},
   "source": [
    "## Les mécanismes de synchronisation en Python\n",
    "\n",
    "<span style=\"color:red\">Dans cette section vous présenterez votre étude comparative, avec exemple, des mécanimes présent dans la bibliothèque ou pouvant être associé pour construire une section critique ou permettant de contrôler l'accès à des ressources critiques.\n",
    "    \n",
    "<span style=\"color:red\">Vous préciserez de manière justifiée à la fin de cette section les mécanismes choisis. La cellule suivante, exécutable comprendra l'import des bibliothèques.</span>"
   ]
  },
  {
   "cell_type": "markdown",
   "metadata": {},
   "source": [
    "### Lock\n",
    "\n",
    "Un verrou primitif est soit « verrouillé » soit « déverrouillé ». Il est créé dans un état déverrouillé. Il a deux méthodes, acquire() et release(). Lorsque l'état est déverrouillé, acquire() verrouille et se termine immédiatement. Lorsque l'état est verrouillé, acquire() bloque jusqu'à ce qu'un appel à release() provenant d'un autre fil d'exécution le déverrouille.\n",
    "\n",
    "Lorsque plus d'un thread est bloqué dans acquire () en attendant que l'état passe à déverrouillé, un seul thread se poursuit lorsqu'un appel release () réinitialise l'état à déverrouillé; lequel des threads en attente continue n'est pas défini et peut varier selon les implémentations.\n",
    "\n",
    "Pour un fonctionnement correct, il est important de libérer le verrou même si quelque chose ne va pas lors de l’accès à la ressource. On peut utiliser try-finally.\n",
    "\n",
    "lock.acquire()\n",
    "try:\n",
    "    ... access shared resource\n",
    "finally:\n",
    "    lock.release() # release lock, no matter what\n",
    "    \n",
    "La méthode acquire() prend un indicateur d'attente facultatif, qui peut être utilisé pour éviter le blocage si le verrou est détenu par quelqu'un d'autre."
   ]
  },
  {
   "cell_type": "code",
   "execution_count": null,
   "metadata": {},
   "outputs": [],
   "source": [
    "if not lock.acquire(False):\n",
    "    ... failed to lock the resource\n",
    "else:\n",
    "    try:\n",
    "        ... access shared resource\n",
    "    finally:\n",
    "        lock.release()"
   ]
  },
  {
   "cell_type": "markdown",
   "metadata": {},
   "source": [
    "Dans l'exemple suivant, deux methodes utilisent une même varible globale g, on gère pas les sections critqiues.\n",
    "\n",
    "Dans add_one_one() on reinitialise g à 0 puis on l'incrément de 1. Par la suite on cré une boucle de 30 avec affichage de texte juste pour faire durer l'execution de la methode . On incremente encore une fois g avant de l'afficher La resultat attendu appres cette afficheage est donc 2.\n",
    "\n",
    "Dans add_two() on incremente juste g de 2.\n",
    "\n",
    "Nous appelons deux threads sur ces deux methodes (add_one_one() en premier et add_two() apres).\n",
    "Notons que l'on attends que les deux threads se termine ( fonction join()), pour afficher le résultat seulement lexecution totale des deux Threads."
   ]
  },
  {
   "cell_type": "code",
   "execution_count": null,
   "metadata": {},
   "outputs": [],
   "source": [
    "#lock_tut.py\n",
    "from threading import Lock, Thread\n",
    "lock = Lock()\n",
    "g = 0\n",
    "\n",
    "def add_one_one():\n",
    "\n",
    "   global g\n",
    "   g=0\n",
    "   g += 1\n",
    "   for i in range(30):\n",
    "     print('boucle d\\'attente')\n",
    "   g += 1\n",
    "   print('Affichage de g dans add one one :',g)\n",
    "\n",
    "def add_two():\n",
    "   global g\n",
    "   g += 2\n",
    "\n",
    "threads = []\n",
    "for func in [add_one_one, add_two]:\n",
    "   threads.append(Thread(target=func))\n",
    "\n",
    "threads[0].start() \n",
    "threads[1].start()\n",
    "\n",
    "for thread in threads:\n",
    "   \"\"\"\n",
    "   Waits for threads to complete before moving on with the main\n",
    "   script.\n",
    "   \"\"\"\n",
    "   thread.join()\n",
    "\n",
    "print(g)"
   ]
  },
  {
   "cell_type": "markdown",
   "metadata": {},
   "source": [
    "Dans l'exemple suivant, nous gèrons les sections critqiues avec le verrou threading.Lock. On obtient toujours 2 pour l'affichage dans add_one_one et 4 à la fin"
   ]
  },
  {
   "cell_type": "code",
   "execution_count": null,
   "metadata": {},
   "outputs": [],
   "source": [
    "#lock_tut.py\n",
    "from threading import Lock, Thread\n",
    "lock = Lock()\n",
    "g = 0\n",
    "\n",
    "def add_one():\n",
    "   global g\n",
    "   lock.acquire()\n",
    "   g=0\n",
    "   g += 1\n",
    "   for i in range(30):\n",
    "     print('boucle d\\'attente')\n",
    "   g += 1\n",
    "   print('Affichage de g dans add one :',g)\n",
    "   lock.release()\n",
    "\n",
    "def add_two():\n",
    "   global g\n",
    "   lock.acquire()\n",
    "   g += 2\n",
    "   lock.release()\n",
    "\n",
    "threads = []\n",
    "for func in [add_one, add_two]:\n",
    "   threads.append(Thread(target=func))\n",
    "   threads[-1].start()\n",
    "\n",
    "for thread in threads:\n",
    "   \"\"\"\n",
    "   Waits for threads to complete before moving on with the main\n",
    "   script.\n",
    "   \"\"\"\n",
    "   thread.join()\n",
    "\n",
    "print(g)"
   ]
  },
  {
   "cell_type": "markdown",
   "metadata": {},
   "source": [
    "### ReLock\n",
    "\n",
    "L'objet de verrouillage standard ne se soucie pas du thread qui détient actuellement le verrou; si le verrou est maintenu, tout thread qui tente d'acquérir le verrou se bloque, même si le même thread détient déjà le verrou. Dans l'exemple suivant, les fonctions get_first_part() et get_second_part() resteront bloquées, car la fonction externe increment() détient déjà le verrou."
   ]
  },
  {
   "cell_type": "code",
   "execution_count": null,
   "metadata": {},
   "outputs": [],
   "source": [
    "import threading\n",
    "\n",
    "lock = threading.Lock()\n",
    "\n",
    "print('First try :',lock.acquire())\n",
    "print('Second try:',lock.acquire(0))\n",
    "print(\"print this if not blocked...\")"
   ]
  },
  {
   "cell_type": "markdown",
   "metadata": {},
   "source": [
    "La classe RLock est une version du verrouillage qui ne se bloque que si le verrou est détenu par un autre thread. Alors que les verrous simples se bloquent si le même thread tente d'acquérir le même verrou deux fois, un verrou rentrant ne se bloque que si un autre thread détient actuellement le verrou. Si le thread actuel tente d'acquérir un verrou qu'il détient déjà, l'exécution se poursuit comme d'habitude."
   ]
  },
  {
   "cell_type": "code",
   "execution_count": null,
   "metadata": {},
   "outputs": [],
   "source": [
    "import threading\n",
    "\n",
    "lock = threading.RLock()\n",
    "\n",
    "print('First try :', lock.acquire())\n",
    "print('Second try:', lock.acquire(blocking = True, timeout = -1))\n",
    "print(\"print this if not blocked...\")"
   ]
  },
  {
   "cell_type": "markdown",
   "metadata": {},
   "source": [
    "En reprenant le même exemple mais avec un ReLock, , on réussi à réobtenir le verrou."
   ]
  },
  {
   "cell_type": "markdown",
   "metadata": {},
   "source": [
    "### Semaphore\n",
    "\n",
    "Un sémaphore gère un compteur interne qui est décrémenté à chaque appel acquise () et incrémenté à chaque appel release (). Le compteur ne peut jamais descendre en dessous de zéro; quand acquiert () trouve qu'il est égal à zéro, il bloque, en attendant qu'un autre thread appelle release ()."
   ]
  },
  {
   "cell_type": "code",
   "execution_count": null,
   "metadata": {},
   "outputs": [],
   "source": [
    "# -*- coding: utf-8 -*-\n",
    "import threading\n",
    "             \n",
    "class Counter(object):\n",
    "    def __init__(self, start = 0):\n",
    "        self.semaphore = threading.BoundedSemaphore(value=1)\n",
    "        self.value = start\n",
    "    def increment(self):\n",
    "        print('Waiting for a lock')\n",
    "        self.semaphore.acquire()\n",
    "        try:\n",
    "            print('Acquired a lock')\n",
    "            self.value = self.value + 1\n",
    "        finally:\n",
    "            print('Released a lock')\n",
    "            self.semaphore.release()\n",
    "\n",
    "def worker(c):\n",
    "    c.increment()\n",
    "    print('Done')\n",
    "\n",
    "\n",
    "my_list=[]\n",
    "counter = Counter()\n",
    "for i in range(2):\n",
    "    t = threading.Thread(target=worker, args=(counter,))\n",
    "    my_list.append(t)\n",
    "    t.start()\n",
    "\n",
    "print('Waiting for worker threads')\n",
    "main_thread = threading.currentThread()\n",
    "for t in my_list:\n",
    "    t.join()\n",
    "print('Counter:'+ str(counter.value))"
   ]
  },
  {
   "cell_type": "markdown",
   "metadata": {},
   "source": [
    "### Barrier\n",
    "\n",
    "Une barrière est une simple primitive de synchronisation qui peut être utilisée par différents threads pour s'attendre les uns les autres. Chaque thread tente de passer une barrière en appelant la wait()méthode, qui se bloquera jusqu'à ce que tous les threads aient effectué cet appel. Dès que cela se produit, les threads sont libérés simultanément. L'extrait de code suivant illustre l'utilisation de Barrier"
   ]
  },
  {
   "cell_type": "code",
   "execution_count": null,
   "metadata": {},
   "outputs": [],
   "source": [
    "#barrier_tut.py\n",
    "from random import randrange\n",
    "from threading import Barrier, Thread\n",
    "from time import ctime, sleep\n",
    "\n",
    "num = 4\n",
    "# 4 threads will need to pass this barrier to get released.\n",
    "b = Barrier(num)\n",
    "names = [\"Harsh\", \"Lokesh\", \"George\", \"Iqbal\"]\n",
    "\n",
    "def player():\n",
    "    name = names.pop()\n",
    "    sleep(randrange(2, 5))\n",
    "    print(\"%s reached the barrier at: %s\" % (name, ctime()))\n",
    "    b.wait()\n",
    "    \n",
    "threads = []\n",
    "print(\"Race starts now…\")\n",
    "\n",
    "for i in range(num):\n",
    "    threads.append(Thread(target=player))\n",
    "    threads[-1].start()\n",
    "\"\"\"\n",
    "Following loop enables waiting for the threads to complete before moving on with the main script.\n",
    "\"\"\"\n",
    "for thread in threads:\n",
    "    thread.join()\n",
    "print()\n",
    "print(\"Race over!\")"
   ]
  },
  {
   "cell_type": "markdown",
   "metadata": {},
   "source": [
    "### Objet Event\n",
    "\n",
    "Nous utilisons plusieurs threads pour faire tourner des opérations séparées afin de les exécuter simultanément, cependant, il y a des moments où il est important de pouvoir synchroniser les opérations de deux ou plusieurs threads. L'utilisation d' objets Event est le moyen simple de communiquer entre les threads.\n",
    "\n",
    "Un événement gère un indicateur interne que les appelants peuvent définir () ou effacer () . D'autres threads peuvent attendre () que l'indicateur soit défini () . On note que la méthode wait () se bloque jusqu'à ce que l'indicateur soit vrai.\n"
   ]
  },
  {
   "cell_type": "code",
   "execution_count": null,
   "metadata": {},
   "outputs": [],
   "source": [
    "import threading\n",
    "import time\n",
    "import logging\n",
    "\n",
    "logging.basicConfig(level=logging.DEBUG,\n",
    "                    format='(%(threadName)-9s) %(message)s',)\n",
    "                    \n",
    "def wait_for_event(e):\n",
    "    logging.debug('wait_for_event starting')\n",
    "    event_is_set = e.wait()\n",
    "    logging.debug('event set: %s', event_is_set)\n",
    "\n",
    "def wait_for_event_timeout(e, t):\n",
    "    while not e.isSet():\n",
    "        logging.debug('wait_for_event_timeout starting')\n",
    "        event_is_set = e.wait(t)\n",
    "        logging.debug('event set: %s', event_is_set)\n",
    "        if event_is_set:\n",
    "            logging.debug('processing event')\n",
    "        else:\n",
    "            logging.debug('doing other things')\n",
    "\n",
    "if __name__ == '__main__':\n",
    "    e = threading.Event()\n",
    "    t1 = threading.Thread(name='blocking', \n",
    "                      target=wait_for_event,\n",
    "                      args=(e,))\n",
    "    t1.start()\n",
    "\n",
    "    t2 = threading.Thread(name='non-blocking', \n",
    "                      target=wait_for_event_timeout, \n",
    "                      args=(e, 2))\n",
    "    t2.start()\n",
    "\n",
    "    logging.debug('Waiting before calling Event.set()')\n",
    "    time.sleep(3)\n",
    "    e.set()\n",
    "    logging.debug('Event is set')"
   ]
  },
  {
   "cell_type": "markdown",
   "metadata": {},
   "source": [
    "## Définitions de quelques procédures pour initialiser une grille à partir d'un fichier de configuration\n",
    "\n",
    "<span style=\"color:red\">Vous ne pouvez pas modifier les classes/procédures/fonctions suivantes</span>"
   ]
  },
  {
   "cell_type": "code",
   "execution_count": 33,
   "metadata": {
    "ExecuteTime": {
     "end_time": "2020-09-09T14:56:37.017896Z",
     "start_time": "2020-09-09T14:56:37.014070Z"
    }
   },
   "outputs": [],
   "source": [
    "def is_running_from_ipython():\n",
    "    # Renvoie True si on execute le code depuis un notebook\n",
    "       from IPython import get_ipython\n",
    "       return get_ipython() is not None\n",
    "is_running_from_ipython()\n",
    "# Permet de savoir qui exécute le code\n",
    "import platform\n",
    "MICHEL = ('michel' in platform.node()) or ('charvin' in platform.node())"
   ]
  },
  {
   "cell_type": "code",
   "execution_count": 34,
   "metadata": {},
   "outputs": [],
   "source": [
    "class Debug:\n",
    "    def __init__(self, debug=False):\n",
    "        self.debug = debug\n",
    "        \n",
    "    def affiche(self, *args):\n",
    "        if self.debug:\n",
    "            print(args)"
   ]
  },
  {
   "cell_type": "code",
   "execution_count": 35,
   "metadata": {
    "ExecuteTime": {
     "end_time": "2020-09-09T14:56:38.411155Z",
     "start_time": "2020-09-09T14:56:38.406363Z"
    }
   },
   "outputs": [],
   "source": [
    "# Différents imports\n",
    "import copy\n",
    "import math\n",
    "import time\n",
    "import numpy as np\n",
    "\n",
    "%matplotlib inline\n",
    "import matplotlib.pyplot as plt"
   ]
  },
  {
   "cell_type": "code",
   "execution_count": 36,
   "metadata": {
    "ExecuteTime": {
     "end_time": "2020-09-09T14:56:40.469475Z",
     "start_time": "2020-09-09T14:56:39.487216Z"
    }
   },
   "outputs": [],
   "source": [
    "# Reglage de l'affichage\n",
    "\n",
    "# Définition des affichage possible définition\n",
    "!echo 'Aucun = 0' >affichage.py\n",
    "!echo 'tkinter = 1' >>affichage.py # Not implemented\n",
    "!echo 'OpenCV = 2' >> affichage.py # Not completly implemented\n",
    "\n",
    "!echo 'PERSONNE = (0.0, 0.0, 1.0)' >>affichage.py\n",
    "!echo 'IMMOBILE = (1.0, 0.0, 0.0)' >>affichage.py\n",
    "!echo 'OBSTACLE = (0.0, 1.0, 0.0)' >>affichage.py\n",
    "!echo 'EMPTY = (1.0, 1.0, 1.0)' >>affichage.py\n",
    "!echo 'ARRIVEE = (0.0, 0.0, 0.0)' >>affichage.py # Not used\n",
    "\n",
    "import affichage\n",
    "import cv2\n",
    "\n",
    "UI = affichage.OpenCV"
   ]
  },
  {
   "cell_type": "code",
   "execution_count": 37,
   "metadata": {
    "ExecuteTime": {
     "end_time": "2020-09-09T14:56:40.476993Z",
     "start_time": "2020-09-09T14:56:40.472805Z"
    }
   },
   "outputs": [],
   "source": [
    "#if MICHEL:\n",
    "petite_grille = \"maps/map-initial.txt\" # fichier décrivant une petite grille\n",
    "grande_grille = \"maps/map-final.txt\"  # fichier décrivant une grande grille\n",
    "debug = Debug(True)"
   ]
  },
  {
   "cell_type": "code",
   "execution_count": 38,
   "metadata": {
    "ExecuteTime": {
     "end_time": "2020-09-09T14:56:41.169989Z",
     "start_time": "2020-09-09T14:56:40.563847Z"
    }
   },
   "outputs": [],
   "source": [
    "# Constant définition\n",
    "!echo 'EMPTY = 0' >const.py\n",
    "!echo 'OBSTACLE = 1' >>const.py\n",
    "!echo 'PERSONNE = 2' >> const.py\n",
    "!echo 'IMMOBILE = 3' >> const.py\n",
    "!echo 'ARRIVEE = 4' >> const.py\n",
    "import const"
   ]
  },
  {
   "cell_type": "code",
   "execution_count": 39,
   "metadata": {
    "ExecuteTime": {
     "end_time": "2020-09-09T14:56:41.181031Z",
     "start_time": "2020-09-09T14:56:41.175015Z"
    }
   },
   "outputs": [
    {
     "name": "stdout",
     "output_type": "stream",
     "text": [
      "('Ouverture du fichier', 'maps/map-initial.txt')\n"
     ]
    }
   ],
   "source": [
    "# Lecture du fichier de configuration\n",
    "def open_file(filename, debug):\n",
    "    debug.affiche(\"Ouverture du fichier\", filename)\n",
    "    fileMap = open(filename, 'r')\n",
    "    return fileMap\n",
    "\n",
    "file = open_file(petite_grille, debug)"
   ]
  },
  {
   "cell_type": "markdown",
   "metadata": {},
   "source": [
    "### Définition de la grille"
   ]
  },
  {
   "cell_type": "code",
   "execution_count": 40,
   "metadata": {
    "ExecuteTime": {
     "end_time": "2020-09-09T14:56:42.917234Z",
     "start_time": "2020-09-09T14:56:42.910654Z"
    }
   },
   "outputs": [],
   "source": [
    "def read_grid_size(file, debug):\n",
    "    line = file.readline()\n",
    "    while line[0]=='#':\t# on saute les commentaires\n",
    "        line = file.readline()\n",
    "    \n",
    "    # Lecture de la taille de la grille\n",
    "    while line[0]!='#':\t# on lit jusqu'au prochain commentaires\n",
    "        if (line[0]=='X'):\n",
    "            X = int(line.split(' ')[1])\n",
    "        if (line[0]=='Y'):\n",
    "            Y = int(line.split(' ')[1])\n",
    "        line = file.readline()\n",
    "\n",
    "    debug.affiche(\"Simulation pour une grille:\", X, \"*\", Y)\n",
    "    \n",
    "    return X, Y"
   ]
  },
  {
   "cell_type": "code",
   "execution_count": 41,
   "metadata": {},
   "outputs": [
    {
     "name": "stdout",
     "output_type": "stream",
     "text": [
      "('Simulation pour une grille:', 10, '*', 10)\n"
     ]
    }
   ],
   "source": [
    "X, Y = read_grid_size(file, debug)"
   ]
  },
  {
   "cell_type": "code",
   "execution_count": 42,
   "metadata": {
    "ExecuteTime": {
     "end_time": "2020-09-09T14:56:43.748661Z",
     "start_time": "2020-09-09T14:56:43.726699Z"
    }
   },
   "outputs": [],
   "source": [
    "# Definition de la grille\n",
    "class Grille:\n",
    "    # Crée un objet list\n",
    "    def __init__(self, Xmax, Ymax, UI, debug):\n",
    "        debug.affiche(\"Initilisation de l'objet grille\")\n",
    "        self.Xmax = Xmax\n",
    "        self.Ymax = Ymax\n",
    "        if const.EMPTY==0:\n",
    "            self.map = np.zeros((Xmax, Ymax))\n",
    "        elif const.EMPTY==1:\n",
    "            self.map = np.ones((Xmax, Ymax))\n",
    "        else:\n",
    "            self.map = np.array(Xmax, Ymax)\n",
    "            for i in range(Xmax):\n",
    "                for j in range(Ymax):\n",
    "                    self.map[i,j] = const.EMPTY\n",
    "        self.mapList = []\n",
    "        self.obstacleList = []\n",
    "        self.personneList = []\n",
    "        self.debug = debug\n",
    "        self.UI = UI\n",
    "\n",
    "    def SetObstacle(self, obstacle):\n",
    "        for x in range(obstacle.Xmin, obstacle.Xmax+1):\n",
    "            for y in range(obstacle.Ymin, obstacle.Ymax+1):\n",
    "                self.map[x][y] = const.OBSTACLE\n",
    "        self.obstacleList += [obstacle]\n",
    "\n",
    "    def SetPersonne(self, personne):\n",
    "        if self.map[personne.X][personne.Y]==const.EMPTY:\n",
    "            # la case est vide\n",
    "            self.map[personne.X][personne.Y] = const.PERSONNE\n",
    "            self.personneList += [personne]\n",
    "            return True\n",
    "        else:\n",
    "            debug.affiche(\"Personne non créée, la place est occupée\", personne.X, personne.Y)\n",
    "            return False\n",
    "        \n",
    "    def isCellEmpty(self, x, y):\n",
    "        return self.map[x][y]==const.EMPTY\n",
    "    \n",
    "    def Set(self, x, y, status):\n",
    "        self.map[x][y] = status\n",
    "        \n",
    "    def Save(self, name):\n",
    "        with open(name, 'w') as file:\n",
    "            file.write(\"# taille de la grille\\n\")\n",
    "            file.write(\"X \"+str(self.Xmax)+\"\\n\")\n",
    "            file.write(\"Y \"+str(self.Ymax)+\"\\n\")\n",
    "            file.write(\"# position des obstacles\\n\")\n",
    "            file.write(\"# Xmin Xmax Ymin Ymax\\n\")\n",
    "            file.write(\"# si pas obstacle : mettre -1 comme valeur\\n\")\n",
    "            file.write(\"# \"+str(len(self.obstacleList))+\" obstacles\\n\")\n",
    "            for o in self.obstacleList:\n",
    "                file.write(str(o.Xmin)+\" \"+str(o.Xmax)+\" \"+str(o.Ymin)+\" \"+str(o.Ymax)+\"\\n\")\n",
    "            file.write(\"# position initiale des personnes (X, Y) et case de sortie (X, Y)\\n\")\n",
    "            file.write(\"# \"+str(len(self.personneList))+\" personnes\\n\")\n",
    "            for p in self.personneList:\n",
    "                file.write(str(p.X)+\" \"+str(p.Y)+\" \"+str(p.Xsortie)+\" \"+str(p.Ysortie)+\"\\n\")\n",
    "                \n",
    "    # Solution imparfaite car une personne peut être bloquée par un obstacle\n",
    "    def Simulation(self):\n",
    "        if self.debug.debug or self.UI==affichage.OpenCV:\n",
    "            self.mapList.append(copy.copy(self.map))\n",
    "        if self.UI==affichage.OpenCV:\n",
    "            cv2.imshow(\"img\", createImage(self.map))\n",
    "            cv2.waitKey(500)\n",
    "    \n",
    "        while len(self.personneList)>0: # il y a encore une personne dans la liste qui peut bouger\n",
    "            for personne in self.personneList:\n",
    "                end, immobile = personne.deplacePersonne(self, self.debug)\n",
    "                if end:\n",
    "                    self.debug.affiche(\"Une personne vient de sortir, il reste\", len(self.personneList), \"personnes\")\n",
    "            if self.debug.debug or self.UI==affichage.OpenCV:\n",
    "                self.mapList.append(copy.copy(self.map))\n",
    "                if self.UI==affichage.OpenCV:\n",
    "                    cv2.imshow(\"img\", createImage(self.map))\n",
    "                    cv2.waitKey(500)\n",
    "    \n",
    "        if self.UI==affichage.OpenCV:\n",
    "            cv2.destroyAllWindows()"
   ]
  },
  {
   "cell_type": "code",
   "execution_count": 43,
   "metadata": {
    "ExecuteTime": {
     "end_time": "2020-09-09T14:56:44.483524Z",
     "start_time": "2020-09-09T14:56:44.478404Z"
    }
   },
   "outputs": [
    {
     "name": "stdout",
     "output_type": "stream",
     "text": [
      "(\"Initilisation de l'objet grille\",)\n"
     ]
    }
   ],
   "source": [
    "# Creation de la grille\n",
    "grid = Grille(X, Y, affichage.Aucun, debug)"
   ]
  },
  {
   "cell_type": "markdown",
   "metadata": {},
   "source": [
    "### Définition d'un obstacle"
   ]
  },
  {
   "cell_type": "code",
   "execution_count": 44,
   "metadata": {
    "ExecuteTime": {
     "end_time": "2020-09-09T14:56:45.740092Z",
     "start_time": "2020-09-09T14:56:45.735268Z"
    }
   },
   "outputs": [],
   "source": [
    "class Obstacle():\n",
    "    def __init__(self, grid,  Xmin, Xmax, Ymin, Ymax, debug):\n",
    "        self.Xmin = Xmin\n",
    "        self.Xmax = Xmax\n",
    "        self.Ymin = Ymin\n",
    "        self.Ymax = Ymax\n",
    "        self.debug = debug\n",
    "        grid.SetObstacle(self)\n",
    "        debug.affiche(\"Création de l'obstacle (\", Xmin, Xmax, \") - (\", Ymin, Ymax, \")\")"
   ]
  },
  {
   "cell_type": "code",
   "execution_count": 45,
   "metadata": {
    "ExecuteTime": {
     "end_time": "2020-09-09T14:56:46.248553Z",
     "start_time": "2020-09-09T14:56:46.238774Z"
    },
    "code_folding": []
   },
   "outputs": [],
   "source": [
    "def read_obstacles(file, grid, Obstacle, debug):\n",
    "    # Lecture de la liste des obstacles et placement sur la grille\n",
    "    line = file.readline()\n",
    "    while line[0]=='#':\t# on saute les commentaires\n",
    "        line = file.readline()\n",
    "\n",
    "    while line[0]!='#':\t# on lit jusqu'au prochain commentaires\n",
    "        coordonnee = line.strip().split(' ')\n",
    "        if int(coordonnee[0])>=0:\n",
    "            assert (int(coordonnee[0])>0 and int(coordonnee[2])>0)\n",
    "            assert (int(coordonnee[1])<X)\n",
    "            assert (int(coordonnee[3])<Y)\n",
    "            Obstacle(grid, int(coordonnee[0]), int(coordonnee[1]), int(coordonnee[2]), int(coordonnee[3]), debug)\n",
    "        else:\n",
    "            debug.affiche(\"obstacle non créé\", coordonnee)\n",
    "        line = file.readline()        \n",
    "\n",
    "    debug.affiche(len(grid.obstacleList), \"obstacles ont été créés\")"
   ]
  },
  {
   "cell_type": "code",
   "execution_count": 46,
   "metadata": {},
   "outputs": [
    {
     "name": "stdout",
     "output_type": "stream",
     "text": [
      "('obstacle non créé', ['-1', '-1', '-1', '-1'])\n",
      "(\"Création de l'obstacle (\", 1, 1, ') - (', 2, 7, ')')\n",
      "(\"Création de l'obstacle (\", 1, 7, ') - (', 8, 8, ')')\n",
      "(2, 'obstacles ont été créés')\n"
     ]
    }
   ],
   "source": [
    "# On lit tous les obstacles contenus dans le fichier de configuration\n",
    "read_obstacles(file, grid, Obstacle, debug)"
   ]
  },
  {
   "cell_type": "code",
   "execution_count": 47,
   "metadata": {
    "ExecuteTime": {
     "end_time": "2020-09-09T14:56:46.829744Z",
     "start_time": "2020-09-09T14:56:46.734536Z"
    }
   },
   "outputs": [
    {
     "data": {
      "image/png": "[encoded data removed]",
      "text/plain": [
       "<Figure size 432x288 with 1 Axes>"
      ]
     },
     "metadata": {
      "needs_background": "light"
     },
     "output_type": "display_data"
    }
   ],
   "source": [
    "# Affichage de la grille\n",
    "plt.imshow(grid.map, cmap='Paired', vmin=0, vmax=5)\n",
    "plt.show()"
   ]
  },
  {
   "cell_type": "markdown",
   "metadata": {},
   "source": [
    "### Définition d'une personne"
   ]
  },
  {
   "cell_type": "code",
   "execution_count": 48,
   "metadata": {
    "ExecuteTime": {
     "end_time": "2020-09-09T14:56:47.956152Z",
     "start_time": "2020-09-09T14:56:47.941709Z"
    }
   },
   "outputs": [],
   "source": [
    "def distance(X, Y):\n",
    "    return int(np.abs(X[0]-Y[0])+np.abs(X[1]-Y[1]))\n",
    "\n",
    "class Personne():\n",
    "    def __init__(self, grid, Xinit, Yinit, Xsortie, Ysortie, debug):\n",
    "        self.X = Xinit\n",
    "        self.Y = Yinit\n",
    "        self.Xsortie = Xsortie\n",
    "        self.Ysortie = Ysortie\n",
    "        self.debug = debug\n",
    "        personneCrée = grid.SetPersonne(self)\n",
    "        if personneCrée:\n",
    "            debug.affiche(\"Création de la personne qui part de\", Xinit, Yinit, \"pour aller à\", Xsortie, Ysortie)\n",
    "    \n",
    "    def getAvailableMove(self, grid): # retourne la liste triée des déplacements possibles\n",
    "        # distance à la grille\n",
    "        dist_actuel = distance((self.X, self.Y), (self.Xsortie, self.Ysortie))\n",
    "        depl = []\n",
    "        # on calcule la distance entre les case adjacente et la sortie\n",
    "        for x in range(self.X-1, self.X+2):\n",
    "            for y in range (self.Y-1, self.Y+2):\n",
    "                if (x!=self.X or y!=self.Y) and (x==self.X or y==self.Y) and (x>=0 and y>=0 and x<grid.Xmax and y<grid.Ymax): # deplacement uniquement points cardinaux\n",
    "                    # on est sur une case adjacente et on est sur la grille\n",
    "                    if grid.isCellEmpty(x, y): # si la case est vide\n",
    "                        dist = distance((self.Xsortie, self.Ysortie), (x,y))\n",
    "                        if (dist<dist_actuel): # on se rappproche\n",
    "                             depl.append((dist, x, y))\n",
    "        return sorted(depl)\n",
    "\n",
    "    def getBetterMove(self, grid):\n",
    "        return self.getAvailableMove(grid)[0]\n",
    "\n",
    "    def Move(self, grid, depl):\n",
    "        debug.affiche(\"Déplacement de la personne de (\", self.X, self.Y, \") à (\", depl[1], depl[2], \")\")\n",
    "        grid.Set(self.X, self.Y, const.EMPTY)\n",
    "        self.X = depl[1]\n",
    "        self.Y = depl[2]\n",
    "        grid.Set(self.X, self.Y, const.PERSONNE)\n",
    "        \n",
    "    def deplacePersonne(self, grid, debug):\n",
    "        if self.X==self.Xsortie and self.Y==self.Ysortie:\n",
    "            # la personne est arrivée à la sortie\n",
    "            # on retire la personne de la liste\n",
    "            grid.personneList.remove(self)\n",
    "            # on libere la case de sortie\n",
    "            grid.Set(self.X, self.Y, const.EMPTY)\n",
    "            return True, False\n",
    "    \n",
    "        # sinon on recherche les déplacements possibles\n",
    "        availableMove = self.getAvailableMove(grid)\n",
    "        debug.affiche(\"La personne (\", self.X, self.Y, \") peut se déplacer sur :\", availableMove)\n",
    "            \n",
    "        if len(availableMove)>0:\n",
    "            # on se déplace sure la nouvelle case\n",
    "            self.Move(grid, availableMove[0]) \n",
    "            return False, False\n",
    "        \n",
    "        # sinon aucun d\"éplacement n'est possible\n",
    "        if grid.UI==affichage.OpenCV:\n",
    "            grid.Set(self.X, self.Y, const.IMMOBILE)\n",
    "        debug.affiche(\"La personne (\", self.X, self.Y, \"ne peut pas se déplacer\")\n",
    "        return False, True"
   ]
  },
  {
   "cell_type": "code",
   "execution_count": 49,
   "metadata": {
    "ExecuteTime": {
     "end_time": "2020-09-09T14:56:48.629455Z",
     "start_time": "2020-09-09T14:56:48.617795Z"
    }
   },
   "outputs": [],
   "source": [
    "def read_personnes(file, grid, Personne, nombre, debug):\n",
    "    # Lecture de la liste des personnes et placement sur la grille\n",
    "    # s'arrête quand le nombre de personnes souhaité est atteind\n",
    "    # Si nombre = -1, on lit jusqu'à la fin du fichier (idem si nombre est supérieur aux nombres de personnes dans le fichier)\n",
    "    line = file.readline()\n",
    "    while line[0]=='#':\t# on saute les commentaires\n",
    "        line = file.readline()\n",
    "        \n",
    "    while line:\t# on lit jusqu'à la fin du fichier\n",
    "        coordonnee = line.strip().split(' ')\n",
    "        if coordonnee[0]!='#':\n",
    "            assert (int(coordonnee[0])>0 and int(coordonnee[1])>0\n",
    "                and int(coordonnee[2])<X or int(coordonnee[3])<Y) # La personne est sur la grille\n",
    "            assert ((int(coordonnee[2])==0 or int(coordonnee[2])==X-1)  # elle sort sur un bord X\n",
    "                and                                                  # et\n",
    "                (int(coordonnee[3])==0 or int(coordonnee[3])==Y-1)) # elle sort sur un bord Y\n",
    "            Personne(grid, int(coordonnee[0]), int(coordonnee[1]), int(coordonnee[2]), int(coordonnee[3]), debug)\n",
    "            \n",
    "        if len(grid.personneList)==nombre:\n",
    "            debug.affiche(len(grid.personneList), \"personnes ont été créées\")\n",
    "            file.close()\n",
    "            return\n",
    "        line = file.readline()\n",
    "    debug.affiche(\"Fermeture du fichier\")\n",
    "    file.close()\n",
    "    \n",
    "    debug.affiche(\"On a lut tout le fichier,\", len(grid.personneList), \"personnes ont été créées\")"
   ]
  },
  {
   "cell_type": "code",
   "execution_count": 50,
   "metadata": {},
   "outputs": [
    {
     "name": "stdout",
     "output_type": "stream",
     "text": [
      "('Création de la personne qui part de', 2, 2, 'pour aller à', 0, 0)\n",
      "('Création de la personne qui part de', 3, 3, 'pour aller à', 0, 9)\n",
      "('Création de la personne qui part de', 6, 6, 'pour aller à', 9, 0)\n",
      "('Création de la personne qui part de', 7, 7, 'pour aller à', 9, 9)\n",
      "('Fermeture du fichier',)\n",
      "('On a lut tout le fichier,', 4, 'personnes ont été créées')\n"
     ]
    }
   ],
   "source": [
    "# On lit toutes les personnes contenues dans le fichier de configuration\n",
    "read_personnes(file, grid, Personne, -1, debug)"
   ]
  },
  {
   "cell_type": "code",
   "execution_count": 51,
   "metadata": {
    "ExecuteTime": {
     "end_time": "2020-09-09T14:56:49.611918Z",
     "start_time": "2020-09-09T14:56:49.518984Z"
    }
   },
   "outputs": [
    {
     "data": {
      "image/png": "[encoded data removed]",
      "text/plain": [
       "<Figure size 432x288 with 1 Axes>"
      ]
     },
     "metadata": {
      "needs_background": "light"
     },
     "output_type": "display_data"
    }
   ],
   "source": [
    "# Affichage de la grille\n",
    "plt.imshow(grid.map, cmap='Paired', vmin=0, vmax=5)\n",
    "plt.show()"
   ]
  },
  {
   "cell_type": "markdown",
   "metadata": {},
   "source": [
    "### Construction d'une image pour OpenCV"
   ]
  },
  {
   "cell_type": "code",
   "execution_count": 52,
   "metadata": {
    "ExecuteTime": {
     "end_time": "2020-09-09T14:56:52.548943Z",
     "start_time": "2020-09-09T14:56:52.539805Z"
    }
   },
   "outputs": [],
   "source": [
    "# Uniquement nécessaire pour la visualisation en OpenCV\n",
    "def createImage(image):\n",
    "    X = image.shape[0]\n",
    "    Y = image.shape[1]\n",
    "    ZOOM = max(min(1024//X, 1024//Y), 1)\n",
    "    img = np.zeros((X*ZOOM, Y*ZOOM, 3), dtype=np.float)\n",
    "    for i in range(X):\n",
    "        for t in range(ZOOM):\n",
    "            for j in range(Y):\n",
    "                for u in range(ZOOM):\n",
    "                    if image[i][j]==const.EMPTY:\n",
    "                        img[ZOOM*i+t][ZOOM*j+u]=affichage.EMPTY\n",
    "                    elif image[i][j]==const.OBSTACLE:\n",
    "                        img[ZOOM*i+t][ZOOM*j+u]=affichage.OBSTACLE\n",
    "                    elif image[i][j]==const.PERSONNE:\n",
    "                        img[ZOOM*i+t][ZOOM*j+u]=affichage.PERSONNE\n",
    "                    elif image[i][j]==const.IMMOBILE:\n",
    "                        img[ZOOM*i+t][ZOOM*j+u]=affichage.IMMOBILE\n",
    "                    elif image[i][j]==const.ARRIVEE:  \n",
    "                        img[ZOOM*i+t][ZOOM*j+u]=affichage.ARRIVEE\n",
    "    return img"
   ]
  },
  {
   "cell_type": "code",
   "execution_count": 53,
   "metadata": {},
   "outputs": [],
   "source": [
    "# Affichage en OpenCV de la grille créée\n",
    "if UI==affichage.OpenCV:\n",
    "    cv2.imshow(\"img\", createImage(grid.map))\n",
    "    cv2.waitKey(5000) # Affichage pendant 5 secondes\n",
    "    cv2.destroyAllWindows()"
   ]
  },
  {
   "cell_type": "markdown",
   "metadata": {},
   "source": [
    "## Utilisation des procédures précédentes pour créer une nouvelle grille qui sera sauvegardée dans un fichier"
   ]
  },
  {
   "cell_type": "code",
   "execution_count": 54,
   "metadata": {},
   "outputs": [
    {
     "name": "stdout",
     "output_type": "stream",
     "text": [
      "(\"Initilisation de l'objet grille\",)\n"
     ]
    }
   ],
   "source": [
    "# Création d'une grille de 1024*1024\n",
    "debug = Debug(True)\n",
    "UI = affichage.Aucun\n",
    "\n",
    "X = 1024\n",
    "Y = 1024\n",
    "grid = Grille(X, Y, UI, debug)"
   ]
  },
  {
   "cell_type": "code",
   "execution_count": 55,
   "metadata": {},
   "outputs": [
    {
     "name": "stdout",
     "output_type": "stream",
     "text": [
      "(\"Création de l'obstacle (\", 9, 92, ') - (', 167, 6, ')')\n",
      "(\"Création de l'obstacle (\", 55, 112, ') - (', 236, 153, ')')\n",
      "(\"Création de l'obstacle (\", 102, 128, ') - (', 195, 113, ')')\n",
      "(\"Création de l'obstacle (\", 153, 242, ') - (', 176, 212, ')')\n",
      "(\"Création de l'obstacle (\", 201, 225, ') - (', 287, 296, ')')\n",
      "(\"Création de l'obstacle (\", 255, 261, ') - (', 412, 523, ')')\n",
      "(\"Création de l'obstacle (\", 306, 387, ') - (', 424, 486, ')')\n",
      "(\"Création de l'obstacle (\", 355, 412, ') - (', 431, 423, ')')\n",
      "(\"Création de l'obstacle (\", 403, 465, ') - (', 576, 612, ')')\n",
      "(\"Création de l'obstacle (\", 454, 531, ') - (', 531, 511, ')')\n",
      "(\"Création de l'obstacle (\", 512, 516, ') - (', 654, 653, ')')\n",
      "(\"Création de l'obstacle (\", 556, 636, ') - (', 595, 736, ')')\n",
      "(\"Création de l'obstacle (\", 604, 662, ') - (', 783, 876, ')')\n",
      "(\"Création de l'obstacle (\", 662, 725, ') - (', 715, 653, ')')\n",
      "(\"Création de l'obstacle (\", 704, 772, ') - (', 821, 701, ')')\n",
      "(\"Création de l'obstacle (\", 763, 785, ') - (', 793, 941, ')')\n",
      "(16, 'obstacles ont été créés')\n"
     ]
    }
   ],
   "source": [
    "# La grille contient 2^4 obstacles\n",
    "nb_obs = np.power(2,4)\n",
    "\n",
    "coordonnee = np.zeros((4,1), dtype=np.int)\n",
    "for i in range(nb_obs):\n",
    "    for j in range(4):\n",
    "        val_min = 1+50*i+np.random.randint(10)*10*j\n",
    "        if j%2 == 0:\n",
    "            val_max = min(1+val_min+np.random.randint(20), grid.Xmax)\n",
    "        else:\n",
    "            val_max = min(1+val_min+np.random.randint(20), grid.Ymax)\n",
    "        coordonnee[j] = np.random.randint(val_min, val_max)\n",
    "    \n",
    "    assert (int(coordonnee[0])>0 and int(coordonnee[2])>0)\n",
    "    assert (int(coordonnee[1])<X)\n",
    "    assert (int(coordonnee[3])<Y)\n",
    "    Obstacle(grid, int(coordonnee[0]), int(coordonnee[1]), int(coordonnee[2]), int(coordonnee[3]), debug)\n",
    "    \n",
    "debug.affiche(len(grid.obstacleList), \"obstacles ont été créés\")"
   ]
  },
  {
   "cell_type": "code",
   "execution_count": 56,
   "metadata": {},
   "outputs": [
    {
     "name": "stdout",
     "output_type": "stream",
     "text": [
      "('Création de la personne qui part de', 836, 478, 'pour aller à', 0, 0)\n",
      "('Création de la personne qui part de', 669, 1023, 'pour aller à', 0, 0)\n",
      "('Création de la personne qui part de', 753, 443, 'pour aller à', 1023, 1023)\n",
      "('Création de la personne qui part de', 297, 24, 'pour aller à', 0, 1023)\n",
      "('Création de la personne qui part de', 463, 279, 'pour aller à', 0, 0)\n",
      "('Création de la personne qui part de', 703, 562, 'pour aller à', 0, 1023)\n",
      "('Création de la personne qui part de', 937, 771, 'pour aller à', 0, 0)\n",
      "('Création de la personne qui part de', 953, 243, 'pour aller à', 1023, 0)\n",
      "('Création de la personne qui part de', 8, 824, 'pour aller à', 1023, 0)\n",
      "('Création de la personne qui part de', 241, 214, 'pour aller à', 0, 0)\n",
      "('Création de la personne qui part de', 772, 77, 'pour aller à', 0, 1023)\n",
      "('Création de la personne qui part de', 994, 468, 'pour aller à', 0, 0)\n",
      "('Création de la personne qui part de', 413, 76, 'pour aller à', 0, 1023)\n",
      "('Création de la personne qui part de', 530, 990, 'pour aller à', 1023, 1023)\n",
      "('Création de la personne qui part de', 315, 671, 'pour aller à', 0, 1023)\n",
      "('Création de la personne qui part de', 734, 657, 'pour aller à', 0, 0)\n",
      "('Création de la personne qui part de', 745, 917, 'pour aller à', 1023, 0)\n",
      "('Création de la personne qui part de', 10, 625, 'pour aller à', 1023, 0)\n",
      "('Personne non créée, la place est occupée', 619, 701)\n",
      "('Création de la personne qui part de', 490, 483, 'pour aller à', 0, 1023)\n",
      "('Création de la personne qui part de', 938, 960, 'pour aller à', 0, 0)\n",
      "('Création de la personne qui part de', 599, 899, 'pour aller à', 0, 1023)\n",
      "('Création de la personne qui part de', 897, 913, 'pour aller à', 1023, 0)\n",
      "('Création de la personne qui part de', 451, 815, 'pour aller à', 1023, 0)\n",
      "('Création de la personne qui part de', 967, 48, 'pour aller à', 1023, 0)\n",
      "('Création de la personne qui part de', 6, 445, 'pour aller à', 1023, 1023)\n",
      "('Création de la personne qui part de', 558, 493, 'pour aller à', 0, 1023)\n",
      "('Création de la personne qui part de', 36, 965, 'pour aller à', 1023, 1023)\n",
      "('Création de la personne qui part de', 7, 387, 'pour aller à', 0, 1023)\n",
      "('Création de la personne qui part de', 464, 654, 'pour aller à', 0, 0)\n",
      "('Création de la personne qui part de', 310, 735, 'pour aller à', 0, 1023)\n",
      "('Création de la personne qui part de', 76, 184, 'pour aller à', 0, 1023)\n",
      "('Création de la personne qui part de', 916, 79, 'pour aller à', 1023, 0)\n",
      "('Création de la personne qui part de', 603, 545, 'pour aller à', 0, 0)\n",
      "('Création de la personne qui part de', 18, 140, 'pour aller à', 0, 1023)\n",
      "('Création de la personne qui part de', 640, 234, 'pour aller à', 1023, 1023)\n",
      "('Personne non créée, la place est occupée', 350, 446)\n",
      "('Création de la personne qui part de', 18, 696, 'pour aller à', 0, 1023)\n",
      "('Création de la personne qui part de', 220, 436, 'pour aller à', 1023, 1023)\n",
      "('Création de la personne qui part de', 505, 513, 'pour aller à', 0, 1023)\n",
      "('Création de la personne qui part de', 420, 203, 'pour aller à', 1023, 0)\n",
      "('Création de la personne qui part de', 761, 676, 'pour aller à', 0, 0)\n",
      "('Création de la personne qui part de', 469, 741, 'pour aller à', 1023, 1023)\n",
      "('Création de la personne qui part de', 843, 844, 'pour aller à', 0, 1023)\n",
      "('Création de la personne qui part de', 182, 271, 'pour aller à', 1023, 1023)\n",
      "('Création de la personne qui part de', 215, 285, 'pour aller à', 0, 1023)\n",
      "('Création de la personne qui part de', 258, 295, 'pour aller à', 1023, 1023)\n",
      "('Création de la personne qui part de', 254, 914, 'pour aller à', 0, 0)\n",
      "('Création de la personne qui part de', 847, 282, 'pour aller à', 1023, 0)\n",
      "('Création de la personne qui part de', 513, 323, 'pour aller à', 0, 1023)\n",
      "('Création de la personne qui part de', 810, 172, 'pour aller à', 1023, 0)\n",
      "('Création de la personne qui part de', 654, 415, 'pour aller à', 0, 1023)\n",
      "('Création de la personne qui part de', 997, 460, 'pour aller à', 1023, 0)\n",
      "('Création de la personne qui part de', 829, 653, 'pour aller à', 1023, 1023)\n",
      "('Personne non créée, la place est occupée', 586, 674)\n",
      "('Création de la personne qui part de', 998, 357, 'pour aller à', 1023, 1023)\n",
      "('Création de la personne qui part de', 246, 252, 'pour aller à', 0, 1023)\n",
      "('Création de la personne qui part de', 381, 633, 'pour aller à', 1023, 1023)\n",
      "('Création de la personne qui part de', 534, 151, 'pour aller à', 1023, 0)\n",
      "('Création de la personne qui part de', 455, 669, 'pour aller à', 0, 1023)\n",
      "('Création de la personne qui part de', 322, 353, 'pour aller à', 0, 1023)\n",
      "('Création de la personne qui part de', 115, 581, 'pour aller à', 1023, 1023)\n",
      "('Création de la personne qui part de', 81, 985, 'pour aller à', 1023, 0)\n",
      "('Création de la personne qui part de', 678, 167, 'pour aller à', 1023, 1023)\n",
      "('Création de la personne qui part de', 361, 765, 'pour aller à', 0, 0)\n",
      "('Création de la personne qui part de', 274, 548, 'pour aller à', 0, 1023)\n",
      "('Création de la personne qui part de', 468, 379, 'pour aller à', 1023, 1023)\n",
      "('Création de la personne qui part de', 131, 318, 'pour aller à', 0, 0)\n",
      "('Création de la personne qui part de', 328, 36, 'pour aller à', 1023, 1023)\n",
      "('Création de la personne qui part de', 45, 11, 'pour aller à', 1023, 1023)\n",
      "('Création de la personne qui part de', 226, 762, 'pour aller à', 0, 1023)\n",
      "('Création de la personne qui part de', 698, 328, 'pour aller à', 0, 1023)\n",
      "('Création de la personne qui part de', 123, 952, 'pour aller à', 0, 0)\n",
      "('Personne non créée, la place est occupée', 576, 676)\n",
      "('Création de la personne qui part de', 829, 858, 'pour aller à', 1023, 1023)\n",
      "('Création de la personne qui part de', 839, 4, 'pour aller à', 0, 1023)\n",
      "('Création de la personne qui part de', 636, 197, 'pour aller à', 1023, 0)\n",
      "('Création de la personne qui part de', 1006, 532, 'pour aller à', 1023, 0)\n",
      "('Création de la personne qui part de', 825, 86, 'pour aller à', 0, 1023)\n",
      "('Création de la personne qui part de', 950, 770, 'pour aller à', 0, 0)\n",
      "('Création de la personne qui part de', 399, 310, 'pour aller à', 0, 0)\n",
      "('Création de la personne qui part de', 26, 12, 'pour aller à', 1023, 1023)\n",
      "('Création de la personne qui part de', 528, 769, 'pour aller à', 1023, 0)\n",
      "('Création de la personne qui part de', 619, 211, 'pour aller à', 1023, 1023)\n",
      "('Création de la personne qui part de', 200, 914, 'pour aller à', 0, 0)\n",
      "('Création de la personne qui part de', 53, 533, 'pour aller à', 1023, 0)\n",
      "('Création de la personne qui part de', 457, 223, 'pour aller à', 0, 0)\n",
      "('Création de la personne qui part de', 644, 485, 'pour aller à', 0, 1023)\n",
      "('Création de la personne qui part de', 90, 284, 'pour aller à', 0, 1023)\n",
      "('Création de la personne qui part de', 496, 131, 'pour aller à', 0, 1023)\n",
      "('Création de la personne qui part de', 327, 6, 'pour aller à', 0, 1023)\n",
      "('Création de la personne qui part de', 202, 48, 'pour aller à', 1023, 1023)\n",
      "('Création de la personne qui part de', 440, 751, 'pour aller à', 1023, 0)\n",
      "('Création de la personne qui part de', 71, 370, 'pour aller à', 1023, 0)\n",
      "('Création de la personne qui part de', 519, 605, 'pour aller à', 1023, 0)\n",
      "('Création de la personne qui part de', 135, 216, 'pour aller à', 1023, 0)\n",
      "('Création de la personne qui part de', 446, 439, 'pour aller à', 0, 0)\n",
      "('Création de la personne qui part de', 315, 514, 'pour aller à', 1023, 1023)\n",
      "('Création de la personne qui part de', 761, 669, 'pour aller à', 1023, 1023)\n",
      "('Création de la personne qui part de', 307, 678, 'pour aller à', 1023, 0)\n",
      "('Création de la personne qui part de', 170, 328, 'pour aller à', 1023, 1023)\n",
      "('Création de la personne qui part de', 336, 796, 'pour aller à', 1023, 0)\n",
      "('Création de la personne qui part de', 491, 77, 'pour aller à', 0, 1023)\n",
      "('Création de la personne qui part de', 48, 619, 'pour aller à', 0, 0)\n",
      "('Création de la personne qui part de', 570, 981, 'pour aller à', 1023, 0)\n",
      "('Création de la personne qui part de', 851, 292, 'pour aller à', 1023, 0)\n",
      "('Création de la personne qui part de', 997, 697, 'pour aller à', 1023, 1023)\n",
      "('Création de la personne qui part de', 590, 891, 'pour aller à', 0, 0)\n",
      "('Création de la personne qui part de', 547, 206, 'pour aller à', 0, 0)\n",
      "('Création de la personne qui part de', 608, 244, 'pour aller à', 0, 1023)\n",
      "('Création de la personne qui part de', 675, 1006, 'pour aller à', 0, 1023)\n",
      "('Création de la personne qui part de', 390, 456, 'pour aller à', 0, 0)\n",
      "('Création de la personne qui part de', 827, 708, 'pour aller à', 0, 1023)\n",
      "('Création de la personne qui part de', 741, 118, 'pour aller à', 1023, 0)\n",
      "('Personne non créée, la place est occupée', 154, 199)\n",
      "('Création de la personne qui part de', 42, 969, 'pour aller à', 0, 0)\n",
      "('Création de la personne qui part de', 999, 448, 'pour aller à', 0, 1023)\n",
      "('Création de la personne qui part de', 40, 1007, 'pour aller à', 0, 1023)\n",
      "('Création de la personne qui part de', 935, 347, 'pour aller à', 1023, 0)\n",
      "('Création de la personne qui part de', 9, 948, 'pour aller à', 1023, 0)\n",
      "('Création de la personne qui part de', 904, 135, 'pour aller à', 1023, 0)\n",
      "('Création de la personne qui part de', 318, 182, 'pour aller à', 1023, 1023)\n",
      "('Création de la personne qui part de', 470, 812, 'pour aller à', 0, 0)\n",
      "('Création de la personne qui part de', 418, 322, 'pour aller à', 0, 0)\n",
      "('Création de la personne qui part de', 762, 20, 'pour aller à', 0, 0)\n",
      "('Création de la personne qui part de', 145, 913, 'pour aller à', 0, 0)\n",
      "('Création de la personne qui part de', 666, 358, 'pour aller à', 0, 1023)\n",
      "('Création de la personne qui part de', 734, 443, 'pour aller à', 0, 1023)\n",
      "('Création de la personne qui part de', 561, 269, 'pour aller à', 0, 0)\n",
      "('Création de la personne qui part de', 430, 20, 'pour aller à', 0, 1023)\n",
      "('Création de la personne qui part de', 708, 532, 'pour aller à', 1023, 0)\n",
      "('Création de la personne qui part de', 1022, 140, 'pour aller à', 0, 1023)\n",
      "('Création de la personne qui part de', 941, 888, 'pour aller à', 0, 1023)\n",
      "('Création de la personne qui part de', 821, 47, 'pour aller à', 1023, 0)\n",
      "('Création de la personne qui part de', 603, 370, 'pour aller à', 1023, 0)\n",
      "('Création de la personne qui part de', 35, 311, 'pour aller à', 1023, 0)\n",
      "('Création de la personne qui part de', 427, 956, 'pour aller à', 1023, 1023)\n",
      "('Création de la personne qui part de', 324, 93, 'pour aller à', 1023, 1023)\n",
      "('Création de la personne qui part de', 534, 968, 'pour aller à', 1023, 0)\n",
      "('Création de la personne qui part de', 841, 364, 'pour aller à', 1023, 1023)\n",
      "('Création de la personne qui part de', 523, 252, 'pour aller à', 1023, 1023)\n",
      "('Création de la personne qui part de', 121, 394, 'pour aller à', 0, 1023)\n",
      "('Création de la personne qui part de', 730, 237, 'pour aller à', 0, 0)\n",
      "('Création de la personne qui part de', 423, 946, 'pour aller à', 0, 1023)\n",
      "('Création de la personne qui part de', 614, 34, 'pour aller à', 1023, 1023)\n",
      "('Création de la personne qui part de', 138, 214, 'pour aller à', 1023, 0)\n",
      "('Création de la personne qui part de', 23, 274, 'pour aller à', 0, 0)\n",
      "('Création de la personne qui part de', 558, 587, 'pour aller à', 1023, 1023)\n",
      "('Création de la personne qui part de', 320, 874, 'pour aller à', 1023, 1023)\n",
      "('Création de la personne qui part de', 645, 694, 'pour aller à', 0, 1023)\n",
      "('Création de la personne qui part de', 6, 751, 'pour aller à', 1023, 0)\n",
      "('Création de la personne qui part de', 765, 243, 'pour aller à', 0, 0)\n",
      "('Création de la personne qui part de', 538, 979, 'pour aller à', 1023, 0)\n",
      "('Création de la personne qui part de', 584, 146, 'pour aller à', 1023, 1023)\n",
      "('Création de la personne qui part de', 868, 789, 'pour aller à', 1023, 0)\n",
      "('Création de la personne qui part de', 176, 900, 'pour aller à', 0, 1023)\n",
      "('Création de la personne qui part de', 311, 291, 'pour aller à', 0, 0)\n",
      "('Création de la personne qui part de', 885, 190, 'pour aller à', 0, 1023)\n",
      "('Création de la personne qui part de', 900, 502, 'pour aller à', 1023, 0)\n",
      "('Création de la personne qui part de', 246, 32, 'pour aller à', 1023, 0)\n",
      "('Création de la personne qui part de', 817, 700, 'pour aller à', 1023, 1023)\n",
      "('Création de la personne qui part de', 1017, 913, 'pour aller à', 0, 0)\n",
      "('Création de la personne qui part de', 350, 26, 'pour aller à', 0, 1023)\n",
      "('Création de la personne qui part de', 716, 949, 'pour aller à', 1023, 0)\n",
      "('Création de la personne qui part de', 731, 250, 'pour aller à', 1023, 0)\n",
      "('Création de la personne qui part de', 584, 472, 'pour aller à', 0, 0)\n",
      "('Création de la personne qui part de', 83, 1017, 'pour aller à', 0, 0)\n",
      "('Création de la personne qui part de', 884, 68, 'pour aller à', 0, 0)\n",
      "('Création de la personne qui part de', 730, 58, 'pour aller à', 0, 0)\n",
      "('Création de la personne qui part de', 563, 165, 'pour aller à', 1023, 1023)\n",
      "('Création de la personne qui part de', 706, 497, 'pour aller à', 0, 0)\n",
      "('Création de la personne qui part de', 332, 36, 'pour aller à', 0, 0)\n",
      "('Création de la personne qui part de', 28, 719, 'pour aller à', 0, 0)\n",
      "('Création de la personne qui part de', 918, 815, 'pour aller à', 0, 1023)\n",
      "('Création de la personne qui part de', 972, 579, 'pour aller à', 1023, 1023)\n",
      "('Création de la personne qui part de', 562, 594, 'pour aller à', 1023, 0)\n",
      "('Création de la personne qui part de', 705, 563, 'pour aller à', 0, 1023)\n",
      "('Création de la personne qui part de', 589, 438, 'pour aller à', 0, 1023)\n",
      "('Création de la personne qui part de', 409, 155, 'pour aller à', 1023, 1023)\n",
      "('Création de la personne qui part de', 725, 679, 'pour aller à', 0, 0)\n",
      "('Création de la personne qui part de', 232, 682, 'pour aller à', 1023, 0)\n",
      "('Création de la personne qui part de', 882, 504, 'pour aller à', 1023, 0)\n",
      "('Création de la personne qui part de', 530, 813, 'pour aller à', 0, 1023)\n",
      "('Création de la personne qui part de', 461, 784, 'pour aller à', 0, 0)\n",
      "('Création de la personne qui part de', 668, 536, 'pour aller à', 1023, 1023)\n",
      "('Création de la personne qui part de', 274, 230, 'pour aller à', 0, 1023)\n",
      "('Création de la personne qui part de', 253, 687, 'pour aller à', 1023, 0)\n",
      "('Création de la personne qui part de', 631, 123, 'pour aller à', 1023, 1023)\n",
      "('Création de la personne qui part de', 991, 558, 'pour aller à', 1023, 0)\n",
      "('Création de la personne qui part de', 58, 558, 'pour aller à', 0, 1023)\n",
      "('Création de la personne qui part de', 411, 528, 'pour aller à', 1023, 1023)\n",
      "('Création de la personne qui part de', 476, 71, 'pour aller à', 0, 0)\n",
      "('Personne non créée, la place est occupée', 569, 677)\n",
      "('Création de la personne qui part de', 450, 797, 'pour aller à', 1023, 0)\n",
      "('Création de la personne qui part de', 170, 48, 'pour aller à', 0, 0)\n",
      "('Création de la personne qui part de', 925, 64, 'pour aller à', 0, 1023)\n",
      "('Création de la personne qui part de', 725, 692, 'pour aller à', 1023, 1023)\n",
      "('Création de la personne qui part de', 108, 260, 'pour aller à', 0, 0)\n",
      "('Création de la personne qui part de', 957, 987, 'pour aller à', 0, 0)\n",
      "('Création de la personne qui part de', 241, 558, 'pour aller à', 1023, 1023)\n",
      "('Création de la personne qui part de', 394, 753, 'pour aller à', 0, 1023)\n",
      "('Création de la personne qui part de', 252, 805, 'pour aller à', 0, 1023)\n",
      "('Création de la personne qui part de', 289, 746, 'pour aller à', 0, 0)\n",
      "('Création de la personne qui part de', 934, 905, 'pour aller à', 0, 1023)\n",
      "('Création de la personne qui part de', 415, 111, 'pour aller à', 1023, 1023)\n",
      "('Création de la personne qui part de', 364, 313, 'pour aller à', 0, 0)\n",
      "('Création de la personne qui part de', 976, 277, 'pour aller à', 0, 1023)\n",
      "('Création de la personne qui part de', 851, 607, 'pour aller à', 1023, 1023)\n",
      "('Création de la personne qui part de', 687, 123, 'pour aller à', 0, 0)\n",
      "('Création de la personne qui part de', 914, 358, 'pour aller à', 0, 0)\n",
      "('Création de la personne qui part de', 676, 933, 'pour aller à', 0, 1023)\n",
      "('Création de la personne qui part de', 807, 983, 'pour aller à', 1023, 1023)\n",
      "('Création de la personne qui part de', 308, 194, 'pour aller à', 1023, 1023)\n",
      "('Création de la personne qui part de', 729, 666, 'pour aller à', 0, 0)\n",
      "('Création de la personne qui part de', 862, 429, 'pour aller à', 1023, 1023)\n",
      "('Création de la personne qui part de', 393, 1005, 'pour aller à', 0, 0)\n",
      "('Création de la personne qui part de', 108, 707, 'pour aller à', 0, 1023)\n",
      "('Création de la personne qui part de', 830, 785, 'pour aller à', 0, 1023)\n",
      "('Création de la personne qui part de', 882, 220, 'pour aller à', 0, 0)\n",
      "('Création de la personne qui part de', 229, 107, 'pour aller à', 0, 0)\n",
      "('Création de la personne qui part de', 429, 557, 'pour aller à', 1023, 0)\n",
      "('Création de la personne qui part de', 103, 431, 'pour aller à', 0, 0)\n",
      "('Création de la personne qui part de', 373, 332, 'pour aller à', 0, 1023)\n",
      "('Création de la personne qui part de', 23, 885, 'pour aller à', 1023, 1023)\n",
      "('Création de la personne qui part de', 924, 863, 'pour aller à', 0, 0)\n",
      "('Création de la personne qui part de', 454, 14, 'pour aller à', 0, 0)\n",
      "('Création de la personne qui part de', 431, 568, 'pour aller à', 1023, 1023)\n",
      "('Création de la personne qui part de', 690, 852, 'pour aller à', 1023, 0)\n",
      "('Création de la personne qui part de', 601, 324, 'pour aller à', 0, 1023)\n",
      "('Création de la personne qui part de', 356, 778, 'pour aller à', 0, 0)\n",
      "('Création de la personne qui part de', 793, 547, 'pour aller à', 0, 0)\n",
      "('Création de la personne qui part de', 703, 364, 'pour aller à', 1023, 1023)\n",
      "('Création de la personne qui part de', 980, 986, 'pour aller à', 1023, 0)\n",
      "('Création de la personne qui part de', 803, 916, 'pour aller à', 0, 0)\n",
      "('Création de la personne qui part de', 106, 387, 'pour aller à', 1023, 1023)\n",
      "('Création de la personne qui part de', 495, 744, 'pour aller à', 0, 0)\n",
      "('Création de la personne qui part de', 280, 1005, 'pour aller à', 1023, 1023)\n",
      "('Création de la personne qui part de', 971, 407, 'pour aller à', 1023, 0)\n",
      "('Création de la personne qui part de', 655, 182, 'pour aller à', 1023, 1023)\n",
      "('Création de la personne qui part de', 885, 646, 'pour aller à', 1023, 0)\n",
      "('Création de la personne qui part de', 980, 959, 'pour aller à', 1023, 0)\n",
      "('Création de la personne qui part de', 272, 695, 'pour aller à', 1023, 0)\n",
      "('Création de la personne qui part de', 914, 7, 'pour aller à', 0, 0)\n",
      "('Création de la personne qui part de', 523, 405, 'pour aller à', 0, 1023)\n",
      "('Création de la personne qui part de', 751, 967, 'pour aller à', 0, 1023)\n",
      "('Création de la personne qui part de', 924, 507, 'pour aller à', 0, 1023)\n",
      "('Création de la personne qui part de', 1011, 198, 'pour aller à', 0, 1023)\n",
      "('Création de la personne qui part de', 33, 796, 'pour aller à', 0, 1023)\n",
      "('Création de la personne qui part de', 641, 146, 'pour aller à', 1023, 0)\n",
      "('Création de la personne qui part de', 194, 658, 'pour aller à', 0, 0)\n",
      "('Création de la personne qui part de', 354, 204, 'pour aller à', 0, 0)\n",
      "('Création de la personne qui part de', 207, 608, 'pour aller à', 0, 1023)\n",
      "('Création de la personne qui part de', 545, 992, 'pour aller à', 1023, 1023)\n",
      "('Création de la personne qui part de', 298, 77, 'pour aller à', 1023, 0)\n",
      "('Création de la personne qui part de', 844, 269, 'pour aller à', 1023, 0)\n",
      "('Création de la personne qui part de', 178, 887, 'pour aller à', 1023, 0)\n",
      "('Création de la personne qui part de', 708, 71, 'pour aller à', 0, 1023)\n",
      "('Création de la personne qui part de', 550, 9, 'pour aller à', 0, 0)\n",
      "('Création de la personne qui part de', 770, 109, 'pour aller à', 0, 1023)\n",
      "('Création de la personne qui part de', 990, 982, 'pour aller à', 1023, 0)\n",
      "('Création de la personne qui part de', 523, 158, 'pour aller à', 0, 1023)\n",
      "('Création de la personne qui part de', 994, 228, 'pour aller à', 0, 1023)\n",
      "('Création de la personne qui part de', 657, 447, 'pour aller à', 1023, 0)\n",
      "('Création de la personne qui part de', 201, 276, 'pour aller à', 1023, 1023)\n",
      "('Création de la personne qui part de', 264, 474, 'pour aller à', 1023, 0)\n",
      "('Création de la personne qui part de', 175, 282, 'pour aller à', 1023, 0)\n",
      "('Création de la personne qui part de', 554, 616, 'pour aller à', 1023, 1023)\n",
      "('Création de la personne qui part de', 945, 279, 'pour aller à', 0, 1023)\n",
      "('Création de la personne qui part de', 497, 327, 'pour aller à', 0, 1023)\n",
      "('Création de la personne qui part de', 572, 301, 'pour aller à', 0, 1023)\n",
      "('Création de la personne qui part de', 831, 870, 'pour aller à', 1023, 1023)\n",
      "('Création de la personne qui part de', 66, 289, 'pour aller à', 0, 1023)\n",
      "('Création de la personne qui part de', 547, 320, 'pour aller à', 1023, 1023)\n",
      "('Création de la personne qui part de', 937, 620, 'pour aller à', 1023, 1023)\n",
      "('Création de la personne qui part de', 886, 948, 'pour aller à', 1023, 1023)\n",
      "('Création de la personne qui part de', 535, 19, 'pour aller à', 1023, 0)\n",
      "('Création de la personne qui part de', 891, 180, 'pour aller à', 1023, 1023)\n",
      "('Création de la personne qui part de', 603, 260, 'pour aller à', 0, 1023)\n",
      "('Création de la personne qui part de', 520, 475, 'pour aller à', 0, 1023)\n",
      "('Création de la personne qui part de', 356, 808, 'pour aller à', 0, 0)\n",
      "('Création de la personne qui part de', 944, 401, 'pour aller à', 0, 1023)\n",
      "('Création de la personne qui part de', 850, 456, 'pour aller à', 1023, 1023)\n",
      "('Création de la personne qui part de', 987, 228, 'pour aller à', 0, 1023)\n",
      "('Création de la personne qui part de', 886, 789, 'pour aller à', 0, 0)\n",
      "('Création de la personne qui part de', 350, 731, 'pour aller à', 0, 0)\n",
      "('Création de la personne qui part de', 1019, 167, 'pour aller à', 0, 1023)\n",
      "('Création de la personne qui part de', 297, 540, 'pour aller à', 1023, 1023)\n",
      "('Création de la personne qui part de', 204, 487, 'pour aller à', 0, 1023)\n",
      "('Création de la personne qui part de', 940, 171, 'pour aller à', 1023, 1023)\n",
      "('Création de la personne qui part de', 13, 530, 'pour aller à', 1023, 0)\n",
      "('Création de la personne qui part de', 379, 943, 'pour aller à', 0, 1023)\n",
      "('Création de la personne qui part de', 673, 226, 'pour aller à', 1023, 0)\n",
      "('Création de la personne qui part de', 161, 308, 'pour aller à', 1023, 1023)\n",
      "('Création de la personne qui part de', 738, 996, 'pour aller à', 1023, 0)\n",
      "('Création de la personne qui part de', 600, 970, 'pour aller à', 0, 1023)\n",
      "('Création de la personne qui part de', 974, 95, 'pour aller à', 0, 1023)\n",
      "('Création de la personne qui part de', 940, 360, 'pour aller à', 1023, 1023)\n",
      "('Création de la personne qui part de', 432, 401, 'pour aller à', 1023, 1023)\n",
      "('Création de la personne qui part de', 862, 334, 'pour aller à', 1023, 1023)\n",
      "('Création de la personne qui part de', 67, 537, 'pour aller à', 0, 0)\n",
      "('Création de la personne qui part de', 33, 312, 'pour aller à', 0, 1023)\n",
      "('Création de la personne qui part de', 836, 207, 'pour aller à', 1023, 1023)\n",
      "('Création de la personne qui part de', 863, 483, 'pour aller à', 0, 0)\n",
      "('Création de la personne qui part de', 293, 124, 'pour aller à', 1023, 0)\n",
      "('Création de la personne qui part de', 130, 856, 'pour aller à', 0, 0)\n",
      "('Création de la personne qui part de', 214, 1017, 'pour aller à', 0, 0)\n",
      "('Création de la personne qui part de', 263, 584, 'pour aller à', 0, 0)\n",
      "('Création de la personne qui part de', 761, 508, 'pour aller à', 1023, 0)\n",
      "('Création de la personne qui part de', 896, 904, 'pour aller à', 1023, 0)\n",
      "('Création de la personne qui part de', 968, 802, 'pour aller à', 1023, 0)\n",
      "('Création de la personne qui part de', 418, 5, 'pour aller à', 1023, 0)\n",
      "('Création de la personne qui part de', 834, 367, 'pour aller à', 1023, 0)\n",
      "('Création de la personne qui part de', 430, 536, 'pour aller à', 1023, 0)\n",
      "('Création de la personne qui part de', 900, 309, 'pour aller à', 1023, 0)\n",
      "('Création de la personne qui part de', 339, 177, 'pour aller à', 1023, 0)\n",
      "('Création de la personne qui part de', 855, 719, 'pour aller à', 1023, 0)\n",
      "('Création de la personne qui part de', 753, 310, 'pour aller à', 0, 0)\n",
      "('Création de la personne qui part de', 24, 694, 'pour aller à', 0, 1023)\n",
      "('Création de la personne qui part de', 771, 554, 'pour aller à', 0, 0)\n",
      "('Création de la personne qui part de', 623, 587, 'pour aller à', 0, 1023)\n",
      "('Création de la personne qui part de', 497, 167, 'pour aller à', 0, 1023)\n",
      "('Création de la personne qui part de', 726, 554, 'pour aller à', 1023, 1023)\n",
      "('Création de la personne qui part de', 806, 706, 'pour aller à', 1023, 1023)\n",
      "('Création de la personne qui part de', 834, 674, 'pour aller à', 1023, 1023)\n",
      "('Création de la personne qui part de', 828, 636, 'pour aller à', 1023, 0)\n",
      "('Création de la personne qui part de', 80, 183, 'pour aller à', 1023, 1023)\n",
      "('Création de la personne qui part de', 807, 824, 'pour aller à', 0, 1023)\n",
      "('Création de la personne qui part de', 184, 472, 'pour aller à', 0, 1023)\n",
      "('Création de la personne qui part de', 603, 777, 'pour aller à', 1023, 1023)\n",
      "('Création de la personne qui part de', 843, 145, 'pour aller à', 0, 1023)\n",
      "('Création de la personne qui part de', 300, 518, 'pour aller à', 1023, 0)\n",
      "('Création de la personne qui part de', 120, 406, 'pour aller à', 1023, 1023)\n",
      "('Création de la personne qui part de', 869, 278, 'pour aller à', 1023, 0)\n",
      "('Création de la personne qui part de', 479, 39, 'pour aller à', 1023, 1023)\n",
      "('Création de la personne qui part de', 633, 978, 'pour aller à', 1023, 0)\n",
      "('Création de la personne qui part de', 808, 632, 'pour aller à', 1023, 1023)\n",
      "('Création de la personne qui part de', 596, 276, 'pour aller à', 1023, 0)\n",
      "('Création de la personne qui part de', 455, 939, 'pour aller à', 0, 0)\n",
      "('Création de la personne qui part de', 156, 494, 'pour aller à', 1023, 1023)\n",
      "('Création de la personne qui part de', 281, 148, 'pour aller à', 1023, 1023)\n",
      "('Création de la personne qui part de', 17, 454, 'pour aller à', 1023, 1023)\n",
      "('Création de la personne qui part de', 632, 13, 'pour aller à', 1023, 0)\n",
      "('Création de la personne qui part de', 873, 204, 'pour aller à', 0, 0)\n",
      "('Création de la personne qui part de', 965, 703, 'pour aller à', 0, 1023)\n",
      "('Création de la personne qui part de', 838, 488, 'pour aller à', 1023, 1023)\n",
      "('Création de la personne qui part de', 339, 536, 'pour aller à', 1023, 1023)\n",
      "('Création de la personne qui part de', 193, 341, 'pour aller à', 0, 0)\n",
      "('Création de la personne qui part de', 590, 992, 'pour aller à', 0, 1023)\n",
      "('Création de la personne qui part de', 788, 742, 'pour aller à', 0, 1023)\n",
      "('Création de la personne qui part de', 509, 263, 'pour aller à', 0, 0)\n",
      "('Création de la personne qui part de', 123, 24, 'pour aller à', 0, 1023)\n",
      "('Création de la personne qui part de', 382, 740, 'pour aller à', 1023, 0)\n",
      "('Création de la personne qui part de', 271, 529, 'pour aller à', 0, 1023)\n",
      "('Création de la personne qui part de', 490, 29, 'pour aller à', 1023, 0)\n",
      "('Création de la personne qui part de', 503, 877, 'pour aller à', 1023, 1023)\n",
      "('Création de la personne qui part de', 681, 805, 'pour aller à', 1023, 1023)\n",
      "('Création de la personne qui part de', 922, 423, 'pour aller à', 0, 0)\n",
      "('Création de la personne qui part de', 909, 454, 'pour aller à', 1023, 0)\n",
      "('Création de la personne qui part de', 992, 576, 'pour aller à', 0, 0)\n",
      "('Création de la personne qui part de', 179, 65, 'pour aller à', 1023, 0)\n",
      "('Création de la personne qui part de', 609, 532, 'pour aller à', 1023, 1023)\n",
      "('Personne non créée, la place est occupée', 429, 604)\n",
      "('Création de la personne qui part de', 48, 59, 'pour aller à', 1023, 1023)\n",
      "('Création de la personne qui part de', 860, 432, 'pour aller à', 1023, 1023)\n",
      "('Création de la personne qui part de', 175, 488, 'pour aller à', 1023, 1023)\n",
      "('Création de la personne qui part de', 861, 435, 'pour aller à', 0, 0)\n",
      "('Création de la personne qui part de', 727, 260, 'pour aller à', 1023, 1023)\n",
      "('Création de la personne qui part de', 491, 482, 'pour aller à', 0, 0)\n",
      "('Création de la personne qui part de', 10, 755, 'pour aller à', 0, 1023)\n",
      "('Création de la personne qui part de', 282, 14, 'pour aller à', 0, 0)\n",
      "('Création de la personne qui part de', 278, 112, 'pour aller à', 0, 1023)\n",
      "('Création de la personne qui part de', 615, 565, 'pour aller à', 1023, 0)\n",
      "('Création de la personne qui part de', 1009, 193, 'pour aller à', 1023, 1023)\n",
      "('Création de la personne qui part de', 907, 908, 'pour aller à', 1023, 0)\n",
      "('Création de la personne qui part de', 956, 21, 'pour aller à', 0, 1023)\n",
      "('Création de la personne qui part de', 735, 116, 'pour aller à', 0, 1023)\n",
      "('Création de la personne qui part de', 600, 780, 'pour aller à', 0, 1023)\n",
      "('Création de la personne qui part de', 226, 327, 'pour aller à', 1023, 0)\n",
      "('Création de la personne qui part de', 223, 640, 'pour aller à', 0, 0)\n",
      "('Création de la personne qui part de', 644, 376, 'pour aller à', 1023, 0)\n",
      "('Création de la personne qui part de', 528, 607, 'pour aller à', 0, 1023)\n",
      "('Création de la personne qui part de', 866, 60, 'pour aller à', 0, 0)\n",
      "('Création de la personne qui part de', 648, 418, 'pour aller à', 1023, 0)\n",
      "('Création de la personne qui part de', 702, 112, 'pour aller à', 1023, 0)\n",
      "('Création de la personne qui part de', 178, 544, 'pour aller à', 0, 1023)\n",
      "('Création de la personne qui part de', 680, 318, 'pour aller à', 0, 1023)\n",
      "('Création de la personne qui part de', 323, 792, 'pour aller à', 1023, 1023)\n",
      "('Création de la personne qui part de', 468, 45, 'pour aller à', 1023, 1023)\n",
      "('Création de la personne qui part de', 236, 901, 'pour aller à', 0, 1023)\n",
      "('Création de la personne qui part de', 412, 54, 'pour aller à', 0, 0)\n",
      "('Création de la personne qui part de', 772, 781, 'pour aller à', 0, 0)\n",
      "('Création de la personne qui part de', 32, 937, 'pour aller à', 0, 0)\n",
      "('Création de la personne qui part de', 121, 963, 'pour aller à', 0, 1023)\n",
      "('Création de la personne qui part de', 369, 247, 'pour aller à', 0, 1023)\n",
      "('Création de la personne qui part de', 170, 108, 'pour aller à', 0, 1023)\n",
      "('Création de la personne qui part de', 871, 552, 'pour aller à', 0, 1023)\n",
      "('Création de la personne qui part de', 552, 320, 'pour aller à', 1023, 1023)\n",
      "('Création de la personne qui part de', 659, 417, 'pour aller à', 1023, 1023)\n",
      "('Création de la personne qui part de', 946, 633, 'pour aller à', 0, 0)\n",
      "('Création de la personne qui part de', 457, 532, 'pour aller à', 0, 1023)\n",
      "('Création de la personne qui part de', 1023, 983, 'pour aller à', 1023, 0)\n",
      "('Création de la personne qui part de', 352, 281, 'pour aller à', 1023, 1023)\n",
      "('Création de la personne qui part de', 255, 905, 'pour aller à', 1023, 1023)\n",
      "('Création de la personne qui part de', 139, 463, 'pour aller à', 0, 1023)\n",
      "('Création de la personne qui part de', 227, 257, 'pour aller à', 0, 0)\n",
      "('Création de la personne qui part de', 860, 301, 'pour aller à', 0, 1023)\n",
      "('Personne non créée, la place est occupée', 782, 831)\n",
      "('Création de la personne qui part de', 425, 656, 'pour aller à', 0, 1023)\n",
      "('Création de la personne qui part de', 908, 559, 'pour aller à', 0, 1023)\n",
      "('Création de la personne qui part de', 818, 444, 'pour aller à', 0, 0)\n",
      "('Création de la personne qui part de', 85, 13, 'pour aller à', 1023, 1023)\n",
      "('Création de la personne qui part de', 286, 440, 'pour aller à', 0, 1023)\n",
      "('Création de la personne qui part de', 885, 697, 'pour aller à', 1023, 1023)\n",
      "('Création de la personne qui part de', 4, 169, 'pour aller à', 0, 1023)\n",
      "('Création de la personne qui part de', 549, 93, 'pour aller à', 0, 1023)\n",
      "('Création de la personne qui part de', 129, 417, 'pour aller à', 1023, 0)\n",
      "('Création de la personne qui part de', 452, 144, 'pour aller à', 1023, 1023)\n",
      "('Création de la personne qui part de', 490, 6, 'pour aller à', 1023, 0)\n",
      "('Création de la personne qui part de', 148, 299, 'pour aller à', 0, 1023)\n",
      "('Création de la personne qui part de', 60, 362, 'pour aller à', 1023, 1023)\n",
      "('Création de la personne qui part de', 984, 391, 'pour aller à', 0, 0)\n",
      "('Création de la personne qui part de', 538, 710, 'pour aller à', 1023, 1023)\n",
      "('Création de la personne qui part de', 369, 46, 'pour aller à', 0, 0)\n",
      "('Création de la personne qui part de', 528, 746, 'pour aller à', 1023, 0)\n",
      "('Création de la personne qui part de', 148, 943, 'pour aller à', 0, 0)\n",
      "('Création de la personne qui part de', 522, 289, 'pour aller à', 0, 0)\n",
      "('Création de la personne qui part de', 833, 882, 'pour aller à', 1023, 0)\n",
      "('Création de la personne qui part de', 263, 136, 'pour aller à', 1023, 1023)\n",
      "('Création de la personne qui part de', 357, 492, 'pour aller à', 0, 0)\n",
      "('Création de la personne qui part de', 1004, 21, 'pour aller à', 0, 1023)\n",
      "('Création de la personne qui part de', 178, 7, 'pour aller à', 1023, 0)\n",
      "('Création de la personne qui part de', 68, 415, 'pour aller à', 1023, 1023)\n",
      "('Création de la personne qui part de', 855, 412, 'pour aller à', 0, 1023)\n",
      "('Création de la personne qui part de', 1012, 166, 'pour aller à', 1023, 0)\n",
      "('Création de la personne qui part de', 917, 224, 'pour aller à', 1023, 0)\n",
      "('Création de la personne qui part de', 670, 128, 'pour aller à', 1023, 0)\n",
      "('Création de la personne qui part de', 595, 932, 'pour aller à', 1023, 1023)\n",
      "('Création de la personne qui part de', 65, 415, 'pour aller à', 1023, 1023)\n",
      "('Création de la personne qui part de', 918, 881, 'pour aller à', 0, 0)\n",
      "('Création de la personne qui part de', 642, 232, 'pour aller à', 0, 0)\n",
      "('Création de la personne qui part de', 943, 830, 'pour aller à', 0, 0)\n",
      "('Création de la personne qui part de', 915, 55, 'pour aller à', 0, 1023)\n",
      "('Création de la personne qui part de', 371, 655, 'pour aller à', 0, 0)\n",
      "('Création de la personne qui part de', 49, 903, 'pour aller à', 1023, 1023)\n",
      "('Création de la personne qui part de', 113, 74, 'pour aller à', 1023, 0)\n",
      "('Création de la personne qui part de', 658, 187, 'pour aller à', 0, 1023)\n",
      "('Création de la personne qui part de', 110, 912, 'pour aller à', 1023, 0)\n",
      "('Création de la personne qui part de', 868, 401, 'pour aller à', 1023, 1023)\n",
      "('Création de la personne qui part de', 341, 912, 'pour aller à', 0, 0)\n",
      "('Création de la personne qui part de', 75, 963, 'pour aller à', 0, 0)\n",
      "('Création de la personne qui part de', 865, 535, 'pour aller à', 0, 0)\n",
      "('Création de la personne qui part de', 623, 493, 'pour aller à', 1023, 1023)\n",
      "('Création de la personne qui part de', 527, 896, 'pour aller à', 0, 1023)\n",
      "('Création de la personne qui part de', 142, 238, 'pour aller à', 0, 0)\n",
      "('Création de la personne qui part de', 925, 797, 'pour aller à', 0, 0)\n",
      "('Création de la personne qui part de', 411, 103, 'pour aller à', 0, 0)\n",
      "('Création de la personne qui part de', 145, 234, 'pour aller à', 0, 0)\n",
      "('Création de la personne qui part de', 309, 640, 'pour aller à', 1023, 0)\n",
      "('Création de la personne qui part de', 584, 946, 'pour aller à', 0, 0)\n",
      "('Création de la personne qui part de', 626, 248, 'pour aller à', 1023, 0)\n",
      "('Création de la personne qui part de', 15, 281, 'pour aller à', 1023, 0)\n",
      "('Création de la personne qui part de', 379, 706, 'pour aller à', 1023, 1023)\n",
      "('Création de la personne qui part de', 147, 909, 'pour aller à', 0, 0)\n",
      "('Création de la personne qui part de', 231, 231, 'pour aller à', 0, 0)\n",
      "('Création de la personne qui part de', 652, 757, 'pour aller à', 0, 0)\n",
      "('Création de la personne qui part de', 213, 900, 'pour aller à', 0, 0)\n",
      "('Création de la personne qui part de', 641, 88, 'pour aller à', 0, 1023)\n",
      "('Création de la personne qui part de', 452, 711, 'pour aller à', 1023, 0)\n",
      "('Création de la personne qui part de', 378, 766, 'pour aller à', 0, 0)\n",
      "('Création de la personne qui part de', 1013, 371, 'pour aller à', 0, 0)\n",
      "('Création de la personne qui part de', 591, 321, 'pour aller à', 0, 0)\n",
      "('Création de la personne qui part de', 390, 724, 'pour aller à', 1023, 0)\n",
      "('Création de la personne qui part de', 339, 187, 'pour aller à', 1023, 0)\n",
      "('Création de la personne qui part de', 785, 59, 'pour aller à', 1023, 1023)\n",
      "('Création de la personne qui part de', 283, 938, 'pour aller à', 0, 1023)\n",
      "('Création de la personne qui part de', 213, 985, 'pour aller à', 1023, 1023)\n",
      "('Création de la personne qui part de', 963, 705, 'pour aller à', 1023, 0)\n",
      "('Création de la personne qui part de', 624, 466, 'pour aller à', 1023, 1023)\n",
      "('Création de la personne qui part de', 609, 576, 'pour aller à', 0, 0)\n",
      "('Création de la personne qui part de', 550, 181, 'pour aller à', 0, 1023)\n",
      "('Création de la personne qui part de', 300, 832, 'pour aller à', 1023, 1023)\n",
      "('Création de la personne qui part de', 662, 588, 'pour aller à', 1023, 1023)\n",
      "('Création de la personne qui part de', 215, 495, 'pour aller à', 0, 0)\n",
      "('Création de la personne qui part de', 712, 657, 'pour aller à', 1023, 0)\n",
      "('Création de la personne qui part de', 543, 456, 'pour aller à', 0, 1023)\n",
      "('Création de la personne qui part de', 432, 960, 'pour aller à', 0, 0)\n",
      "('Création de la personne qui part de', 942, 551, 'pour aller à', 1023, 1023)\n",
      "('Création de la personne qui part de', 1011, 315, 'pour aller à', 1023, 1023)\n",
      "('Création de la personne qui part de', 678, 674, 'pour aller à', 1023, 1023)\n",
      "('Création de la personne qui part de', 825, 1019, 'pour aller à', 1023, 0)\n",
      "('Création de la personne qui part de', 108, 436, 'pour aller à', 0, 0)\n",
      "('Création de la personne qui part de', 799, 439, 'pour aller à', 1023, 1023)\n",
      "('Création de la personne qui part de', 982, 530, 'pour aller à', 0, 0)\n",
      "('Personne non créée, la place est occupée', 256, 502)\n",
      "('Création de la personne qui part de', 145, 1011, 'pour aller à', 1023, 1023)\n",
      "('Création de la personne qui part de', 792, 848, 'pour aller à', 0, 1023)\n",
      "('Création de la personne qui part de', 472, 284, 'pour aller à', 0, 0)\n",
      "('Création de la personne qui part de', 762, 179, 'pour aller à', 1023, 1023)\n",
      "('Création de la personne qui part de', 125, 628, 'pour aller à', 1023, 0)\n",
      "('Création de la personne qui part de', 714, 594, 'pour aller à', 0, 0)\n",
      "('Création de la personne qui part de', 185, 221, 'pour aller à', 0, 1023)\n",
      "('Création de la personne qui part de', 912, 677, 'pour aller à', 1023, 1023)\n",
      "('Création de la personne qui part de', 187, 90, 'pour aller à', 1023, 0)\n",
      "('Création de la personne qui part de', 3, 99, 'pour aller à', 0, 0)\n",
      "('Création de la personne qui part de', 686, 259, 'pour aller à', 0, 1023)\n",
      "('Création de la personne qui part de', 1021, 187, 'pour aller à', 1023, 1023)\n",
      "('Création de la personne qui part de', 343, 786, 'pour aller à', 1023, 0)\n",
      "('Création de la personne qui part de', 413, 317, 'pour aller à', 0, 0)\n",
      "('Création de la personne qui part de', 907, 937, 'pour aller à', 0, 0)\n",
      "('Création de la personne qui part de', 161, 584, 'pour aller à', 0, 1023)\n",
      "('Création de la personne qui part de', 642, 186, 'pour aller à', 1023, 0)\n",
      "('Création de la personne qui part de', 557, 20, 'pour aller à', 1023, 0)\n",
      "('Création de la personne qui part de', 665, 254, 'pour aller à', 0, 0)\n",
      "('Création de la personne qui part de', 81, 240, 'pour aller à', 0, 1023)\n",
      "('Création de la personne qui part de', 159, 623, 'pour aller à', 1023, 0)\n",
      "('Création de la personne qui part de', 369, 711, 'pour aller à', 1023, 0)\n",
      "('Personne non créée, la place est occupée', 558, 669)\n",
      "('Création de la personne qui part de', 683, 206, 'pour aller à', 0, 0)\n",
      "('Création de la personne qui part de', 519, 656, 'pour aller à', 0, 0)\n",
      "('Création de la personne qui part de', 312, 515, 'pour aller à', 1023, 0)\n",
      "('Création de la personne qui part de', 108, 179, 'pour aller à', 0, 1023)\n",
      "('Création de la personne qui part de', 679, 594, 'pour aller à', 0, 1023)\n",
      "('Création de la personne qui part de', 463, 725, 'pour aller à', 0, 0)\n",
      "('Création de la personne qui part de', 873, 668, 'pour aller à', 0, 0)\n",
      "('Création de la personne qui part de', 910, 612, 'pour aller à', 0, 0)\n",
      "('Création de la personne qui part de', 490, 916, 'pour aller à', 1023, 0)\n",
      "('Création de la personne qui part de', 693, 15, 'pour aller à', 0, 1023)\n",
      "('Création de la personne qui part de', 201, 174, 'pour aller à', 0, 1023)\n",
      "('Création de la personne qui part de', 968, 983, 'pour aller à', 0, 1023)\n",
      "('Création de la personne qui part de', 791, 829, 'pour aller à', 0, 1023)\n",
      "('Création de la personne qui part de', 401, 191, 'pour aller à', 1023, 1023)\n",
      "('Création de la personne qui part de', 629, 138, 'pour aller à', 1023, 1023)\n",
      "('Création de la personne qui part de', 837, 197, 'pour aller à', 0, 0)\n",
      "('Création de la personne qui part de', 697, 4, 'pour aller à', 0, 0)\n",
      "('Personne non créée, la place est occupée', 348, 437)\n",
      "('Personne non créée, la place est occupée', 455, 605)\n",
      "('Création de la personne qui part de', 433, 195, 'pour aller à', 1023, 0)\n",
      "('Création de la personne qui part de', 142, 782, 'pour aller à', 1023, 0)\n",
      "('Création de la personne qui part de', 607, 406, 'pour aller à', 1023, 1023)\n",
      "('Création de la personne qui part de', 264, 867, 'pour aller à', 0, 0)\n",
      "('Création de la personne qui part de', 395, 804, 'pour aller à', 0, 0)\n",
      "('Création de la personne qui part de', 147, 155, 'pour aller à', 0, 0)\n",
      "('Création de la personne qui part de', 1, 969, 'pour aller à', 0, 1023)\n",
      "('Création de la personne qui part de', 927, 898, 'pour aller à', 1023, 1023)\n",
      "('Création de la personne qui part de', 515, 486, 'pour aller à', 1023, 1023)\n",
      "('Création de la personne qui part de', 874, 370, 'pour aller à', 1023, 1023)\n",
      "('Création de la personne qui part de', 113, 141, 'pour aller à', 0, 1023)\n",
      "('Création de la personne qui part de', 413, 364, 'pour aller à', 1023, 1023)\n",
      "('Création de la personne qui part de', 739, 274, 'pour aller à', 0, 0)\n",
      "('Création de la personne qui part de', 669, 847, 'pour aller à', 1023, 0)\n",
      "('Création de la personne qui part de', 329, 829, 'pour aller à', 1023, 0)\n",
      "('Création de la personne qui part de', 319, 677, 'pour aller à', 0, 1023)\n",
      "('Création de la personne qui part de', 913, 475, 'pour aller à', 1023, 0)\n",
      "('Personne non créée, la place est occupée', 778, 890)\n",
      "('Création de la personne qui part de', 271, 554, 'pour aller à', 1023, 1023)\n",
      "('Création de la personne qui part de', 174, 258, 'pour aller à', 1023, 0)\n",
      "('Création de la personne qui part de', 757, 242, 'pour aller à', 1023, 1023)\n",
      "('Création de la personne qui part de', 412, 259, 'pour aller à', 0, 1023)\n",
      "('Création de la personne qui part de', 622, 203, 'pour aller à', 0, 1023)\n",
      "('Création de la personne qui part de', 44, 574, 'pour aller à', 0, 0)\n",
      "('Création de la personne qui part de', 627, 404, 'pour aller à', 1023, 1023)\n",
      "('Création de la personne qui part de', 826, 849, 'pour aller à', 1023, 0)\n",
      "('Création de la personne qui part de', 908, 903, 'pour aller à', 0, 1023)\n",
      "('Création de la personne qui part de', 40, 347, 'pour aller à', 0, 0)\n",
      "('Création de la personne qui part de', 383, 233, 'pour aller à', 0, 0)\n",
      "('Création de la personne qui part de', 191, 903, 'pour aller à', 1023, 1023)\n",
      "('Création de la personne qui part de', 96, 697, 'pour aller à', 1023, 0)\n",
      "('Création de la personne qui part de', 148, 100, 'pour aller à', 0, 1023)\n",
      "('Création de la personne qui part de', 427, 394, 'pour aller à', 1023, 0)\n",
      "('Création de la personne qui part de', 843, 132, 'pour aller à', 0, 1023)\n",
      "('Création de la personne qui part de', 623, 399, 'pour aller à', 1023, 1023)\n",
      "('Création de la personne qui part de', 256, 873, 'pour aller à', 1023, 1023)\n",
      "('Création de la personne qui part de', 994, 455, 'pour aller à', 1023, 1023)\n",
      "('Création de la personne qui part de', 716, 618, 'pour aller à', 1023, 1023)\n",
      "('Création de la personne qui part de', 166, 660, 'pour aller à', 0, 0)\n",
      "('Création de la personne qui part de', 555, 818, 'pour aller à', 0, 0)\n",
      "('Création de la personne qui part de', 308, 350, 'pour aller à', 0, 0)\n",
      "('Création de la personne qui part de', 166, 475, 'pour aller à', 0, 0)\n",
      "('Création de la personne qui part de', 107, 38, 'pour aller à', 0, 1023)\n",
      "('Création de la personne qui part de', 668, 465, 'pour aller à', 0, 1023)\n",
      "('Création de la personne qui part de', 434, 939, 'pour aller à', 1023, 0)\n",
      "('Création de la personne qui part de', 346, 545, 'pour aller à', 1023, 1023)\n",
      "('Création de la personne qui part de', 1008, 586, 'pour aller à', 0, 0)\n",
      "('Création de la personne qui part de', 922, 966, 'pour aller à', 1023, 0)\n",
      "('Création de la personne qui part de', 581, 840, 'pour aller à', 1023, 1023)\n",
      "('Création de la personne qui part de', 167, 730, 'pour aller à', 0, 1023)\n",
      "('Création de la personne qui part de', 945, 315, 'pour aller à', 0, 1023)\n",
      "('Création de la personne qui part de', 64, 133, 'pour aller à', 0, 1023)\n",
      "('Personne non créée, la place est occupée', 776, 884)\n",
      "('Création de la personne qui part de', 839, 924, 'pour aller à', 0, 0)\n",
      "('Création de la personne qui part de', 218, 815, 'pour aller à', 1023, 0)\n",
      "('Création de la personne qui part de', 600, 483, 'pour aller à', 0, 0)\n",
      "('Création de la personne qui part de', 397, 621, 'pour aller à', 1023, 0)\n",
      "('Création de la personne qui part de', 142, 815, 'pour aller à', 1023, 0)\n",
      "('Création de la personne qui part de', 526, 454, 'pour aller à', 1023, 1023)\n",
      "('Création de la personne qui part de', 39, 788, 'pour aller à', 0, 1023)\n",
      "('Création de la personne qui part de', 973, 912, 'pour aller à', 0, 0)\n",
      "('Création de la personne qui part de', 1019, 164, 'pour aller à', 1023, 0)\n",
      "('Création de la personne qui part de', 865, 803, 'pour aller à', 1023, 1023)\n",
      "('Création de la personne qui part de', 434, 411, 'pour aller à', 1023, 0)\n",
      "('Création de la personne qui part de', 679, 54, 'pour aller à', 1023, 0)\n",
      "('Création de la personne qui part de', 130, 652, 'pour aller à', 1023, 0)\n",
      "('Création de la personne qui part de', 814, 753, 'pour aller à', 1023, 1023)\n",
      "('Création de la personne qui part de', 553, 839, 'pour aller à', 1023, 0)\n",
      "('Création de la personne qui part de', 738, 494, 'pour aller à', 1023, 1023)\n",
      "('Création de la personne qui part de', 271, 635, 'pour aller à', 1023, 1023)\n",
      "('Création de la personne qui part de', 466, 1005, 'pour aller à', 0, 1023)\n",
      "('Création de la personne qui part de', 178, 622, 'pour aller à', 1023, 1023)\n",
      "('Création de la personne qui part de', 152, 366, 'pour aller à', 1023, 1023)\n",
      "('Création de la personne qui part de', 266, 730, 'pour aller à', 1023, 0)\n",
      "('Création de la personne qui part de', 635, 11, 'pour aller à', 1023, 1023)\n",
      "('Création de la personne qui part de', 663, 257, 'pour aller à', 0, 0)\n",
      "('Création de la personne qui part de', 863, 780, 'pour aller à', 0, 1023)\n",
      "('Création de la personne qui part de', 239, 928, 'pour aller à', 1023, 0)\n",
      "('Création de la personne qui part de', 785, 661, 'pour aller à', 0, 0)\n",
      "('Création de la personne qui part de', 742, 69, 'pour aller à', 0, 1023)\n",
      "('Création de la personne qui part de', 888, 731, 'pour aller à', 1023, 1023)\n",
      "('Création de la personne qui part de', 760, 711, 'pour aller à', 1023, 1023)\n",
      "('Création de la personne qui part de', 749, 366, 'pour aller à', 0, 0)\n",
      "('Création de la personne qui part de', 612, 11, 'pour aller à', 1023, 1023)\n",
      "('Création de la personne qui part de', 363, 85, 'pour aller à', 0, 1023)\n",
      "('Création de la personne qui part de', 531, 654, 'pour aller à', 1023, 1023)\n",
      "('Création de la personne qui part de', 805, 215, 'pour aller à', 1023, 0)\n",
      "('Création de la personne qui part de', 119, 615, 'pour aller à', 1023, 1023)\n",
      "('Création de la personne qui part de', 144, 830, 'pour aller à', 1023, 1023)\n",
      "('Création de la personne qui part de', 751, 913, 'pour aller à', 1023, 0)\n",
      "('Création de la personne qui part de', 995, 471, 'pour aller à', 1023, 0)\n",
      "('Création de la personne qui part de', 692, 862, 'pour aller à', 0, 0)\n",
      "('Création de la personne qui part de', 694, 798, 'pour aller à', 0, 1023)\n",
      "('Création de la personne qui part de', 553, 224, 'pour aller à', 1023, 0)\n",
      "('Création de la personne qui part de', 498, 498, 'pour aller à', 0, 1023)\n",
      "('Création de la personne qui part de', 629, 959, 'pour aller à', 1023, 1023)\n",
      "('Création de la personne qui part de', 435, 401, 'pour aller à', 0, 0)\n",
      "('Création de la personne qui part de', 364, 352, 'pour aller à', 1023, 1023)\n",
      "('Création de la personne qui part de', 833, 1019, 'pour aller à', 0, 1023)\n",
      "('Création de la personne qui part de', 169, 744, 'pour aller à', 1023, 0)\n",
      "('Création de la personne qui part de', 275, 433, 'pour aller à', 1023, 0)\n",
      "('Création de la personne qui part de', 897, 112, 'pour aller à', 0, 1023)\n",
      "('Création de la personne qui part de', 697, 347, 'pour aller à', 0, 0)\n",
      "('Création de la personne qui part de', 125, 436, 'pour aller à', 0, 1023)\n",
      "('Création de la personne qui part de', 133, 783, 'pour aller à', 0, 1023)\n",
      "('Création de la personne qui part de', 341, 423, 'pour aller à', 1023, 1023)\n",
      "('Création de la personne qui part de', 510, 381, 'pour aller à', 1023, 1023)\n",
      "('Création de la personne qui part de', 155, 661, 'pour aller à', 1023, 0)\n",
      "('Création de la personne qui part de', 335, 88, 'pour aller à', 0, 0)\n",
      "('Création de la personne qui part de', 369, 724, 'pour aller à', 1023, 1023)\n",
      "('Création de la personne qui part de', 545, 870, 'pour aller à', 0, 0)\n",
      "('Création de la personne qui part de', 741, 454, 'pour aller à', 1023, 1023)\n",
      "('Création de la personne qui part de', 103, 1023, 'pour aller à', 1023, 1023)\n",
      "('Personne non créée, la place est occupée', 592, 696)\n",
      "('Création de la personne qui part de', 1013, 632, 'pour aller à', 0, 0)\n",
      "('Création de la personne qui part de', 386, 902, 'pour aller à', 0, 0)\n",
      "('Création de la personne qui part de', 78, 451, 'pour aller à', 0, 0)\n",
      "('Création de la personne qui part de', 165, 497, 'pour aller à', 1023, 1023)\n",
      "('Création de la personne qui part de', 731, 552, 'pour aller à', 1023, 1023)\n",
      "('Création de la personne qui part de', 129, 1007, 'pour aller à', 1023, 0)\n",
      "('Personne non créée, la place est occupée', 367, 437)\n",
      "('Création de la personne qui part de', 405, 14, 'pour aller à', 1023, 1023)\n",
      "('Création de la personne qui part de', 780, 408, 'pour aller à', 0, 0)\n",
      "('Personne non créée, la place est occupée', 592, 628)\n",
      "('Création de la personne qui part de', 353, 656, 'pour aller à', 0, 0)\n",
      "('Création de la personne qui part de', 844, 548, 'pour aller à', 0, 0)\n",
      "('Création de la personne qui part de', 93, 654, 'pour aller à', 0, 1023)\n",
      "('Création de la personne qui part de', 781, 215, 'pour aller à', 0, 0)\n",
      "('Personne non créée, la place est occupée', 326, 469)\n",
      "('Création de la personne qui part de', 551, 903, 'pour aller à', 0, 0)\n",
      "('Création de la personne qui part de', 592, 330, 'pour aller à', 0, 0)\n",
      "('Création de la personne qui part de', 191, 519, 'pour aller à', 1023, 1023)\n",
      "('Création de la personne qui part de', 50, 471, 'pour aller à', 0, 1023)\n",
      "('Création de la personne qui part de', 261, 896, 'pour aller à', 0, 1023)\n",
      "('Création de la personne qui part de', 667, 881, 'pour aller à', 1023, 1023)\n",
      "('Création de la personne qui part de', 866, 833, 'pour aller à', 1023, 0)\n",
      "('Création de la personne qui part de', 526, 489, 'pour aller à', 1023, 1023)\n",
      "('Création de la personne qui part de', 60, 811, 'pour aller à', 1023, 0)\n",
      "('Création de la personne qui part de', 981, 450, 'pour aller à', 0, 0)\n",
      "('Création de la personne qui part de', 64, 417, 'pour aller à', 0, 1023)\n",
      "('Création de la personne qui part de', 716, 784, 'pour aller à', 1023, 0)\n",
      "('Création de la personne qui part de', 228, 216, 'pour aller à', 1023, 0)\n",
      "('Création de la personne qui part de', 886, 857, 'pour aller à', 1023, 1023)\n",
      "('Création de la personne qui part de', 742, 1018, 'pour aller à', 0, 1023)\n",
      "('Création de la personne qui part de', 832, 738, 'pour aller à', 0, 0)\n",
      "('Création de la personne qui part de', 896, 527, 'pour aller à', 1023, 1023)\n",
      "('Création de la personne qui part de', 412, 864, 'pour aller à', 0, 1023)\n",
      "('Création de la personne qui part de', 83, 884, 'pour aller à', 1023, 1023)\n",
      "('Création de la personne qui part de', 642, 637, 'pour aller à', 0, 0)\n",
      "('Création de la personne qui part de', 916, 546, 'pour aller à', 0, 0)\n",
      "('Création de la personne qui part de', 764, 150, 'pour aller à', 0, 0)\n",
      "('Création de la personne qui part de', 543, 331, 'pour aller à', 0, 1023)\n",
      "('Création de la personne qui part de', 884, 883, 'pour aller à', 0, 0)\n",
      "('Création de la personne qui part de', 450, 144, 'pour aller à', 1023, 0)\n",
      "('Création de la personne qui part de', 60, 621, 'pour aller à', 1023, 0)\n",
      "('Création de la personne qui part de', 1023, 483, 'pour aller à', 0, 1023)\n",
      "('Création de la personne qui part de', 967, 302, 'pour aller à', 1023, 0)\n",
      "('Personne non créée, la place est occupée', 607, 736)\n",
      "('Création de la personne qui part de', 528, 739, 'pour aller à', 0, 0)\n",
      "('Création de la personne qui part de', 157, 493, 'pour aller à', 0, 0)\n",
      "('Création de la personne qui part de', 812, 209, 'pour aller à', 1023, 0)\n",
      "('Création de la personne qui part de', 60, 36, 'pour aller à', 1023, 1023)\n",
      "('Création de la personne qui part de', 525, 818, 'pour aller à', 1023, 1023)\n",
      "('Création de la personne qui part de', 1019, 1000, 'pour aller à', 0, 0)\n",
      "('Création de la personne qui part de', 463, 194, 'pour aller à', 1023, 1023)\n",
      "('Création de la personne qui part de', 601, 139, 'pour aller à', 0, 0)\n",
      "('Création de la personne qui part de', 115, 316, 'pour aller à', 1023, 1023)\n",
      "('Création de la personne qui part de', 38, 199, 'pour aller à', 1023, 1023)\n",
      "('Création de la personne qui part de', 862, 692, 'pour aller à', 1023, 1023)\n",
      "('Création de la personne qui part de', 144, 828, 'pour aller à', 1023, 1023)\n",
      "('Création de la personne qui part de', 1014, 846, 'pour aller à', 1023, 0)\n",
      "('Création de la personne qui part de', 4, 571, 'pour aller à', 1023, 0)\n",
      "('Création de la personne qui part de', 550, 330, 'pour aller à', 0, 1023)\n",
      "('Création de la personne qui part de', 910, 356, 'pour aller à', 1023, 1023)\n",
      "('Création de la personne qui part de', 983, 111, 'pour aller à', 0, 0)\n",
      "('Création de la personne qui part de', 754, 1008, 'pour aller à', 0, 0)\n",
      "('Création de la personne qui part de', 918, 525, 'pour aller à', 1023, 0)\n",
      "('Création de la personne qui part de', 359, 645, 'pour aller à', 0, 1023)\n",
      "('Création de la personne qui part de', 421, 249, 'pour aller à', 0, 1023)\n",
      "('Création de la personne qui part de', 237, 458, 'pour aller à', 0, 1023)\n",
      "('Création de la personne qui part de', 530, 544, 'pour aller à', 1023, 1023)\n",
      "('Création de la personne qui part de', 770, 679, 'pour aller à', 1023, 1023)\n",
      "('Création de la personne qui part de', 430, 913, 'pour aller à', 1023, 0)\n",
      "('Création de la personne qui part de', 965, 130, 'pour aller à', 1023, 1023)\n",
      "('Création de la personne qui part de', 747, 266, 'pour aller à', 0, 1023)\n",
      "('Création de la personne qui part de', 246, 553, 'pour aller à', 0, 0)\n",
      "('Création de la personne qui part de', 796, 744, 'pour aller à', 1023, 1023)\n",
      "('Création de la personne qui part de', 498, 80, 'pour aller à', 0, 0)\n",
      "('Création de la personne qui part de', 32, 571, 'pour aller à', 1023, 1023)\n",
      "('Création de la personne qui part de', 848, 875, 'pour aller à', 0, 0)\n",
      "('Création de la personne qui part de', 1014, 315, 'pour aller à', 1023, 0)\n",
      "('Création de la personne qui part de', 638, 982, 'pour aller à', 0, 0)\n",
      "('Création de la personne qui part de', 612, 153, 'pour aller à', 1023, 0)\n",
      "('Création de la personne qui part de', 663, 435, 'pour aller à', 0, 1023)\n",
      "('Création de la personne qui part de', 369, 559, 'pour aller à', 0, 0)\n",
      "('Création de la personne qui part de', 217, 323, 'pour aller à', 1023, 1023)\n",
      "('Création de la personne qui part de', 784, 249, 'pour aller à', 0, 0)\n",
      "('Création de la personne qui part de', 890, 803, 'pour aller à', 0, 1023)\n",
      "('Création de la personne qui part de', 367, 574, 'pour aller à', 1023, 0)\n",
      "('Création de la personne qui part de', 26, 810, 'pour aller à', 1023, 1023)\n",
      "('Création de la personne qui part de', 679, 118, 'pour aller à', 1023, 0)\n",
      "('Création de la personne qui part de', 19, 801, 'pour aller à', 1023, 0)\n",
      "('Création de la personne qui part de', 375, 687, 'pour aller à', 0, 1023)\n",
      "('Création de la personne qui part de', 25, 178, 'pour aller à', 0, 1023)\n",
      "('Création de la personne qui part de', 400, 175, 'pour aller à', 0, 0)\n",
      "('Création de la personne qui part de', 483, 982, 'pour aller à', 1023, 0)\n",
      "('Création de la personne qui part de', 551, 902, 'pour aller à', 0, 1023)\n",
      "('Création de la personne qui part de', 667, 742, 'pour aller à', 0, 1023)\n",
      "('Création de la personne qui part de', 208, 243, 'pour aller à', 1023, 0)\n",
      "('Création de la personne qui part de', 724, 581, 'pour aller à', 1023, 0)\n",
      "('Création de la personne qui part de', 75, 344, 'pour aller à', 0, 1023)\n",
      "('Création de la personne qui part de', 669, 182, 'pour aller à', 1023, 0)\n",
      "('Création de la personne qui part de', 721, 462, 'pour aller à', 1023, 0)\n",
      "('Création de la personne qui part de', 170, 763, 'pour aller à', 0, 0)\n",
      "('Création de la personne qui part de', 577, 962, 'pour aller à', 1023, 0)\n",
      "('Création de la personne qui part de', 648, 995, 'pour aller à', 0, 1023)\n",
      "('Création de la personne qui part de', 759, 323, 'pour aller à', 1023, 1023)\n",
      "('Création de la personne qui part de', 635, 566, 'pour aller à', 1023, 1023)\n",
      "('Création de la personne qui part de', 69, 672, 'pour aller à', 0, 0)\n",
      "('Création de la personne qui part de', 153, 247, 'pour aller à', 1023, 0)\n",
      "('Création de la personne qui part de', 543, 549, 'pour aller à', 0, 1023)\n",
      "('Création de la personne qui part de', 214, 775, 'pour aller à', 0, 0)\n",
      "('Création de la personne qui part de', 659, 555, 'pour aller à', 1023, 0)\n",
      "('Création de la personne qui part de', 70, 61, 'pour aller à', 1023, 1023)\n",
      "('Création de la personne qui part de', 36, 317, 'pour aller à', 0, 1023)\n",
      "('Création de la personne qui part de', 200, 502, 'pour aller à', 0, 0)\n",
      "('Personne non créée, la place est occupée', 782, 926)\n",
      "('Création de la personne qui part de', 459, 361, 'pour aller à', 1023, 1023)\n",
      "('Création de la personne qui part de', 262, 667, 'pour aller à', 1023, 0)\n",
      "('Création de la personne qui part de', 842, 606, 'pour aller à', 1023, 0)\n",
      "('Création de la personne qui part de', 404, 758, 'pour aller à', 1023, 1023)\n",
      "('Création de la personne qui part de', 826, 1022, 'pour aller à', 0, 0)\n",
      "('Création de la personne qui part de', 903, 816, 'pour aller à', 0, 1023)\n",
      "('Création de la personne qui part de', 68, 743, 'pour aller à', 1023, 0)\n",
      "('Création de la personne qui part de', 539, 625, 'pour aller à', 1023, 1023)\n",
      "('Personne non créée, la place est occupée', 659, 833)\n",
      "('Création de la personne qui part de', 800, 587, 'pour aller à', 1023, 1023)\n",
      "('Création de la personne qui part de', 180, 596, 'pour aller à', 0, 0)\n",
      "('Création de la personne qui part de', 339, 596, 'pour aller à', 1023, 0)\n",
      "('Création de la personne qui part de', 247, 422, 'pour aller à', 1023, 1023)\n",
      "('Création de la personne qui part de', 341, 363, 'pour aller à', 0, 1023)\n",
      "('Création de la personne qui part de', 924, 17, 'pour aller à', 0, 1023)\n",
      "('Création de la personne qui part de', 474, 220, 'pour aller à', 1023, 0)\n",
      "('Création de la personne qui part de', 837, 578, 'pour aller à', 1023, 0)\n",
      "('Création de la personne qui part de', 714, 782, 'pour aller à', 1023, 0)\n",
      "('Création de la personne qui part de', 727, 924, 'pour aller à', 1023, 1023)\n",
      "('Création de la personne qui part de', 431, 652, 'pour aller à', 1023, 1023)\n",
      "('Création de la personne qui part de', 410, 931, 'pour aller à', 0, 0)\n",
      "('Création de la personne qui part de', 935, 451, 'pour aller à', 0, 1023)\n",
      "('Création de la personne qui part de', 214, 256, 'pour aller à', 0, 1023)\n",
      "('Création de la personne qui part de', 280, 626, 'pour aller à', 0, 0)\n",
      "('Création de la personne qui part de', 978, 274, 'pour aller à', 0, 1023)\n",
      "('Création de la personne qui part de', 922, 486, 'pour aller à', 1023, 0)\n",
      "('Création de la personne qui part de', 865, 402, 'pour aller à', 1023, 0)\n",
      "('Création de la personne qui part de', 985, 978, 'pour aller à', 1023, 1023)\n",
      "('Création de la personne qui part de', 3, 177, 'pour aller à', 1023, 0)\n",
      "('Création de la personne qui part de', 317, 87, 'pour aller à', 0, 1023)\n",
      "('Création de la personne qui part de', 716, 277, 'pour aller à', 1023, 0)\n",
      "('Création de la personne qui part de', 635, 362, 'pour aller à', 1023, 1023)\n",
      "('Création de la personne qui part de', 1016, 721, 'pour aller à', 0, 0)\n",
      "('Création de la personne qui part de', 881, 281, 'pour aller à', 0, 1023)\n",
      "('Création de la personne qui part de', 243, 529, 'pour aller à', 0, 0)\n",
      "('Création de la personne qui part de', 431, 515, 'pour aller à', 1023, 0)\n",
      "('Création de la personne qui part de', 560, 590, 'pour aller à', 1023, 1023)\n",
      "('Création de la personne qui part de', 118, 220, 'pour aller à', 1023, 0)\n",
      "('Création de la personne qui part de', 297, 947, 'pour aller à', 0, 0)\n",
      "('Création de la personne qui part de', 305, 36, 'pour aller à', 0, 0)\n",
      "('Création de la personne qui part de', 738, 684, 'pour aller à', 0, 0)\n",
      "('Création de la personne qui part de', 929, 784, 'pour aller à', 0, 1023)\n",
      "('Création de la personne qui part de', 739, 633, 'pour aller à', 1023, 1023)\n",
      "('Création de la personne qui part de', 1000, 760, 'pour aller à', 1023, 1023)\n",
      "('Création de la personne qui part de', 792, 369, 'pour aller à', 1023, 0)\n",
      "('Création de la personne qui part de', 115, 902, 'pour aller à', 0, 1023)\n",
      "('Création de la personne qui part de', 748, 720, 'pour aller à', 1023, 0)\n",
      "('Création de la personne qui part de', 672, 485, 'pour aller à', 0, 1023)\n",
      "('Création de la personne qui part de', 94, 296, 'pour aller à', 0, 0)\n",
      "('Création de la personne qui part de', 934, 348, 'pour aller à', 1023, 0)\n",
      "('Création de la personne qui part de', 347, 586, 'pour aller à', 1023, 1023)\n",
      "('Création de la personne qui part de', 786, 889, 'pour aller à', 1023, 1023)\n",
      "('Création de la personne qui part de', 806, 638, 'pour aller à', 1023, 1023)\n",
      "('Personne non créée, la place est occupée', 785, 827)\n",
      "('Création de la personne qui part de', 53, 999, 'pour aller à', 1023, 0)\n",
      "('Création de la personne qui part de', 850, 710, 'pour aller à', 0, 1023)\n",
      "('Création de la personne qui part de', 468, 672, 'pour aller à', 0, 1023)\n",
      "('Création de la personne qui part de', 292, 654, 'pour aller à', 1023, 0)\n",
      "('Création de la personne qui part de', 773, 636, 'pour aller à', 0, 1023)\n",
      "('Création de la personne qui part de', 167, 253, 'pour aller à', 1023, 1023)\n",
      "('Création de la personne qui part de', 89, 859, 'pour aller à', 0, 1023)\n",
      "('Création de la personne qui part de', 260, 620, 'pour aller à', 1023, 0)\n",
      "('Création de la personne qui part de', 383, 1023, 'pour aller à', 0, 1023)\n",
      "('Création de la personne qui part de', 887, 575, 'pour aller à', 0, 0)\n",
      "('Création de la personne qui part de', 204, 407, 'pour aller à', 1023, 0)\n",
      "('Création de la personne qui part de', 617, 79, 'pour aller à', 1023, 1023)\n",
      "('Création de la personne qui part de', 203, 842, 'pour aller à', 0, 1023)\n",
      "('Création de la personne qui part de', 335, 680, 'pour aller à', 0, 0)\n",
      "('Création de la personne qui part de', 864, 631, 'pour aller à', 1023, 1023)\n",
      "('Création de la personne qui part de', 910, 361, 'pour aller à', 0, 1023)\n",
      "('Création de la personne qui part de', 177, 1009, 'pour aller à', 1023, 1023)\n",
      "('Création de la personne qui part de', 435, 385, 'pour aller à', 0, 1023)\n",
      "('Création de la personne qui part de', 162, 1021, 'pour aller à', 1023, 0)\n",
      "('Création de la personne qui part de', 240, 431, 'pour aller à', 0, 1023)\n",
      "('Création de la personne qui part de', 580, 33, 'pour aller à', 0, 0)\n",
      "('Création de la personne qui part de', 723, 1018, 'pour aller à', 1023, 1023)\n",
      "('Création de la personne qui part de', 210, 364, 'pour aller à', 1023, 1023)\n",
      "('Création de la personne qui part de', 262, 277, 'pour aller à', 1023, 1023)\n",
      "('Création de la personne qui part de', 360, 810, 'pour aller à', 0, 1023)\n",
      "('Création de la personne qui part de', 46, 111, 'pour aller à', 1023, 0)\n",
      "('Création de la personne qui part de', 536, 519, 'pour aller à', 0, 1023)\n",
      "('Création de la personne qui part de', 555, 950, 'pour aller à', 1023, 0)\n",
      "('Création de la personne qui part de', 524, 71, 'pour aller à', 1023, 0)\n",
      "('Création de la personne qui part de', 532, 590, 'pour aller à', 0, 1023)\n",
      "('Création de la personne qui part de', 981, 629, 'pour aller à', 0, 0)\n",
      "('Création de la personne qui part de', 889, 94, 'pour aller à', 0, 1023)\n",
      "('Création de la personne qui part de', 930, 646, 'pour aller à', 1023, 0)\n",
      "('Création de la personne qui part de', 407, 250, 'pour aller à', 1023, 0)\n",
      "('Création de la personne qui part de', 704, 92, 'pour aller à', 0, 0)\n",
      "('Création de la personne qui part de', 95, 202, 'pour aller à', 0, 1023)\n",
      "('Création de la personne qui part de', 726, 255, 'pour aller à', 0, 1023)\n",
      "('Création de la personne qui part de', 293, 656, 'pour aller à', 1023, 0)\n",
      "('Création de la personne qui part de', 229, 287, 'pour aller à', 1023, 1023)\n",
      "('Création de la personne qui part de', 216, 933, 'pour aller à', 0, 0)\n",
      "('Création de la personne qui part de', 225, 308, 'pour aller à', 0, 0)\n",
      "('Création de la personne qui part de', 724, 1014, 'pour aller à', 0, 0)\n",
      "('Création de la personne qui part de', 653, 550, 'pour aller à', 1023, 1023)\n",
      "('Création de la personne qui part de', 643, 670, 'pour aller à', 0, 1023)\n",
      "('Création de la personne qui part de', 751, 420, 'pour aller à', 1023, 0)\n",
      "('Création de la personne qui part de', 901, 861, 'pour aller à', 0, 0)\n",
      "('Création de la personne qui part de', 862, 525, 'pour aller à', 1023, 0)\n",
      "('Création de la personne qui part de', 481, 602, 'pour aller à', 0, 0)\n",
      "('Création de la personne qui part de', 655, 81, 'pour aller à', 0, 1023)\n",
      "('Création de la personne qui part de', 71, 856, 'pour aller à', 1023, 1023)\n",
      "('Création de la personne qui part de', 79, 174, 'pour aller à', 1023, 0)\n",
      "('Création de la personne qui part de', 589, 761, 'pour aller à', 1023, 0)\n",
      "('Création de la personne qui part de', 434, 662, 'pour aller à', 1023, 1023)\n",
      "('Création de la personne qui part de', 441, 472, 'pour aller à', 1023, 1023)\n",
      "('Création de la personne qui part de', 640, 354, 'pour aller à', 1023, 0)\n",
      "('Création de la personne qui part de', 328, 294, 'pour aller à', 0, 0)\n",
      "('Création de la personne qui part de', 908, 529, 'pour aller à', 0, 0)\n",
      "('Création de la personne qui part de', 941, 726, 'pour aller à', 1023, 1023)\n",
      "('Création de la personne qui part de', 272, 780, 'pour aller à', 0, 1023)\n",
      "('Création de la personne qui part de', 723, 472, 'pour aller à', 1023, 0)\n",
      "('Création de la personne qui part de', 6, 875, 'pour aller à', 0, 1023)\n",
      "('Création de la personne qui part de', 79, 456, 'pour aller à', 0, 0)\n",
      "('Création de la personne qui part de', 315, 67, 'pour aller à', 1023, 0)\n",
      "('Création de la personne qui part de', 678, 566, 'pour aller à', 1023, 0)\n",
      "('Création de la personne qui part de', 873, 47, 'pour aller à', 0, 0)\n",
      "('Création de la personne qui part de', 333, 963, 'pour aller à', 1023, 0)\n",
      "('Création de la personne qui part de', 370, 842, 'pour aller à', 1023, 1023)\n",
      "('Création de la personne qui part de', 338, 590, 'pour aller à', 0, 1023)\n",
      "('Création de la personne qui part de', 820, 441, 'pour aller à', 0, 0)\n",
      "('Création de la personne qui part de', 842, 118, 'pour aller à', 0, 1023)\n",
      "('Création de la personne qui part de', 807, 346, 'pour aller à', 1023, 1023)\n",
      "('Création de la personne qui part de', 763, 562, 'pour aller à', 0, 1023)\n",
      "('Création de la personne qui part de', 19, 212, 'pour aller à', 0, 0)\n",
      "('Création de la personne qui part de', 405, 39, 'pour aller à', 0, 0)\n",
      "('Création de la personne qui part de', 994, 748, 'pour aller à', 0, 0)\n",
      "('Création de la personne qui part de', 713, 1018, 'pour aller à', 0, 0)\n",
      "('Création de la personne qui part de', 455, 481, 'pour aller à', 0, 1023)\n",
      "('Création de la personne qui part de', 991, 942, 'pour aller à', 1023, 0)\n",
      "('Création de la personne qui part de', 265, 938, 'pour aller à', 1023, 0)\n",
      "('Création de la personne qui part de', 598, 929, 'pour aller à', 0, 0)\n",
      "('Création de la personne qui part de', 506, 650, 'pour aller à', 0, 1023)\n",
      "('Création de la personne qui part de', 690, 726, 'pour aller à', 1023, 0)\n",
      "('Création de la personne qui part de', 141, 934, 'pour aller à', 0, 0)\n",
      "('Création de la personne qui part de', 216, 265, 'pour aller à', 0, 0)\n",
      "('Création de la personne qui part de', 509, 886, 'pour aller à', 0, 0)\n",
      "('Création de la personne qui part de', 379, 954, 'pour aller à', 1023, 1023)\n",
      "('Création de la personne qui part de', 226, 663, 'pour aller à', 0, 1023)\n",
      "('Création de la personne qui part de', 743, 618, 'pour aller à', 1023, 1023)\n",
      "('Création de la personne qui part de', 595, 994, 'pour aller à', 1023, 1023)\n",
      "('Création de la personne qui part de', 633, 955, 'pour aller à', 0, 1023)\n",
      "('Création de la personne qui part de', 759, 930, 'pour aller à', 1023, 0)\n",
      "('Création de la personne qui part de', 793, 624, 'pour aller à', 0, 0)\n",
      "('Création de la personne qui part de', 340, 916, 'pour aller à', 1023, 1023)\n",
      "('Création de la personne qui part de', 937, 943, 'pour aller à', 1023, 1023)\n",
      "('Création de la personne qui part de', 886, 1008, 'pour aller à', 0, 0)\n",
      "('Création de la personne qui part de', 213, 173, 'pour aller à', 1023, 1023)\n",
      "('Création de la personne qui part de', 128, 158, 'pour aller à', 0, 0)\n",
      "('Création de la personne qui part de', 277, 762, 'pour aller à', 0, 1023)\n",
      "('Création de la personne qui part de', 592, 342, 'pour aller à', 0, 1023)\n",
      "('Création de la personne qui part de', 701, 483, 'pour aller à', 0, 1023)\n",
      "('Création de la personne qui part de', 865, 983, 'pour aller à', 0, 0)\n",
      "('Création de la personne qui part de', 1002, 947, 'pour aller à', 1023, 0)\n",
      "('Création de la personne qui part de', 921, 768, 'pour aller à', 1023, 0)\n",
      "('Création de la personne qui part de', 598, 273, 'pour aller à', 0, 0)\n",
      "('Création de la personne qui part de', 980, 437, 'pour aller à', 0, 1023)\n",
      "('Création de la personne qui part de', 872, 49, 'pour aller à', 0, 0)\n",
      "('Création de la personne qui part de', 105, 733, 'pour aller à', 0, 0)\n",
      "('Création de la personne qui part de', 482, 175, 'pour aller à', 1023, 1023)\n",
      "('Création de la personne qui part de', 673, 791, 'pour aller à', 1023, 1023)\n",
      "('Création de la personne qui part de', 746, 461, 'pour aller à', 0, 1023)\n",
      "('Création de la personne qui part de', 172, 220, 'pour aller à', 1023, 0)\n",
      "('Création de la personne qui part de', 301, 161, 'pour aller à', 0, 1023)\n",
      "('Création de la personne qui part de', 936, 562, 'pour aller à', 1023, 0)\n",
      "('Création de la personne qui part de', 146, 544, 'pour aller à', 0, 1023)\n",
      "('Création de la personne qui part de', 534, 906, 'pour aller à', 0, 1023)\n",
      "('Création de la personne qui part de', 676, 392, 'pour aller à', 0, 0)\n",
      "('Création de la personne qui part de', 143, 318, 'pour aller à', 0, 1023)\n",
      "('Création de la personne qui part de', 542, 59, 'pour aller à', 1023, 1023)\n",
      "('Création de la personne qui part de', 569, 524, 'pour aller à', 0, 0)\n",
      "('Création de la personne qui part de', 625, 17, 'pour aller à', 1023, 1023)\n",
      "('Création de la personne qui part de', 47, 468, 'pour aller à', 1023, 0)\n",
      "('Création de la personne qui part de', 309, 768, 'pour aller à', 0, 1023)\n",
      "('Création de la personne qui part de', 174, 666, 'pour aller à', 0, 0)\n",
      "('Création de la personne qui part de', 91, 737, 'pour aller à', 0, 0)\n",
      "('Création de la personne qui part de', 759, 488, 'pour aller à', 1023, 1023)\n",
      "('Personne non créée, la place est occupée', 196, 206)\n",
      "('Création de la personne qui part de', 188, 899, 'pour aller à', 1023, 1023)\n",
      "('Création de la personne qui part de', 119, 77, 'pour aller à', 1023, 1023)\n",
      "('Création de la personne qui part de', 539, 227, 'pour aller à', 0, 1023)\n",
      "('Personne non créée, la place est occupée', 559, 722)\n",
      "('Création de la personne qui part de', 762, 815, 'pour aller à', 0, 0)\n",
      "('Création de la personne qui part de', 297, 75, 'pour aller à', 1023, 0)\n",
      "('Création de la personne qui part de', 755, 374, 'pour aller à', 1023, 0)\n",
      "('Création de la personne qui part de', 771, 460, 'pour aller à', 1023, 1023)\n",
      "('Création de la personne qui part de', 149, 587, 'pour aller à', 1023, 0)\n",
      "('Création de la personne qui part de', 797, 599, 'pour aller à', 0, 0)\n",
      "('Création de la personne qui part de', 578, 341, 'pour aller à', 0, 0)\n",
      "('Création de la personne qui part de', 373, 952, 'pour aller à', 1023, 1023)\n",
      "('Création de la personne qui part de', 167, 244, 'pour aller à', 0, 1023)\n",
      "('Création de la personne qui part de', 77, 249, 'pour aller à', 0, 0)\n",
      "('Création de la personne qui part de', 414, 264, 'pour aller à', 1023, 0)\n",
      "('Création de la personne qui part de', 513, 1020, 'pour aller à', 0, 0)\n",
      "('Création de la personne qui part de', 930, 105, 'pour aller à', 1023, 0)\n",
      "('Création de la personne qui part de', 247, 830, 'pour aller à', 1023, 1023)\n",
      "('Création de la personne qui part de', 991, 967, 'pour aller à', 1023, 0)\n",
      "('Création de la personne qui part de', 652, 605, 'pour aller à', 0, 1023)\n",
      "('Création de la personne qui part de', 976, 523, 'pour aller à', 0, 1023)\n",
      "('Création de la personne qui part de', 66, 533, 'pour aller à', 0, 1023)\n",
      "('Création de la personne qui part de', 235, 974, 'pour aller à', 0, 0)\n",
      "('Création de la personne qui part de', 397, 274, 'pour aller à', 0, 0)\n",
      "('Création de la personne qui part de', 212, 753, 'pour aller à', 1023, 0)\n",
      "('Création de la personne qui part de', 62, 625, 'pour aller à', 0, 1023)\n",
      "('Création de la personne qui part de', 1002, 266, 'pour aller à', 0, 1023)\n",
      "('Création de la personne qui part de', 311, 571, 'pour aller à', 1023, 0)\n",
      "('Création de la personne qui part de', 4, 713, 'pour aller à', 0, 0)\n",
      "('Création de la personne qui part de', 882, 962, 'pour aller à', 0, 0)\n",
      "('Création de la personne qui part de', 681, 351, 'pour aller à', 0, 0)\n",
      "('Création de la personne qui part de', 831, 201, 'pour aller à', 0, 1023)\n",
      "('Création de la personne qui part de', 642, 546, 'pour aller à', 0, 0)\n",
      "('Création de la personne qui part de', 404, 237, 'pour aller à', 1023, 0)\n",
      "('Création de la personne qui part de', 447, 832, 'pour aller à', 0, 0)\n",
      "('Création de la personne qui part de', 892, 757, 'pour aller à', 0, 0)\n",
      "('Création de la personne qui part de', 726, 440, 'pour aller à', 1023, 0)\n",
      "('Création de la personne qui part de', 211, 452, 'pour aller à', 1023, 0)\n",
      "('Création de la personne qui part de', 362, 159, 'pour aller à', 0, 1023)\n",
      "('Création de la personne qui part de', 24, 581, 'pour aller à', 1023, 0)\n",
      "('Création de la personne qui part de', 434, 317, 'pour aller à', 0, 0)\n",
      "('Création de la personne qui part de', 830, 990, 'pour aller à', 0, 1023)\n",
      "('Création de la personne qui part de', 22, 727, 'pour aller à', 0, 1023)\n",
      "('Création de la personne qui part de', 760, 437, 'pour aller à', 0, 0)\n",
      "('Création de la personne qui part de', 814, 565, 'pour aller à', 1023, 0)\n",
      "('Création de la personne qui part de', 44, 763, 'pour aller à', 1023, 1023)\n",
      "('Création de la personne qui part de', 931, 789, 'pour aller à', 1023, 0)\n",
      "('Création de la personne qui part de', 775, 299, 'pour aller à', 1023, 1023)\n",
      "('Création de la personne qui part de', 725, 468, 'pour aller à', 1023, 1023)\n",
      "('Création de la personne qui part de', 884, 692, 'pour aller à', 1023, 0)\n",
      "('Création de la personne qui part de', 89, 183, 'pour aller à', 1023, 1023)\n",
      "('Création de la personne qui part de', 889, 233, 'pour aller à', 1023, 0)\n",
      "('Création de la personne qui part de', 218, 419, 'pour aller à', 0, 1023)\n",
      "('Création de la personne qui part de', 627, 252, 'pour aller à', 0, 0)\n",
      "('Création de la personne qui part de', 375, 323, 'pour aller à', 0, 0)\n",
      "('Création de la personne qui part de', 272, 42, 'pour aller à', 0, 1023)\n",
      "('Création de la personne qui part de', 820, 737, 'pour aller à', 1023, 0)\n",
      "('Création de la personne qui part de', 935, 813, 'pour aller à', 1023, 1023)\n",
      "('Création de la personne qui part de', 147, 139, 'pour aller à', 1023, 1023)\n",
      "('Création de la personne qui part de', 160, 965, 'pour aller à', 1023, 0)\n",
      "('Création de la personne qui part de', 121, 472, 'pour aller à', 0, 1023)\n",
      "('Création de la personne qui part de', 602, 242, 'pour aller à', 1023, 0)\n",
      "('Création de la personne qui part de', 539, 409, 'pour aller à', 0, 0)\n",
      "('Création de la personne qui part de', 315, 190, 'pour aller à', 0, 0)\n",
      "('Création de la personne qui part de', 722, 459, 'pour aller à', 1023, 0)\n",
      "('Création de la personne qui part de', 248, 763, 'pour aller à', 0, 1023)\n",
      "('Création de la personne qui part de', 848, 129, 'pour aller à', 1023, 1023)\n",
      "('Création de la personne qui part de', 661, 257, 'pour aller à', 1023, 1023)\n",
      "('Création de la personne qui part de', 669, 789, 'pour aller à', 1023, 1023)\n",
      "('Création de la personne qui part de', 840, 876, 'pour aller à', 1023, 0)\n",
      "('Création de la personne qui part de', 113, 553, 'pour aller à', 1023, 1023)\n",
      "('Création de la personne qui part de', 616, 372, 'pour aller à', 0, 1023)\n",
      "('Création de la personne qui part de', 392, 312, 'pour aller à', 0, 0)\n",
      "('Personne non créée, la place est occupée', 618, 801)\n",
      "('Création de la personne qui part de', 557, 216, 'pour aller à', 1023, 0)\n",
      "('Création de la personne qui part de', 77, 700, 'pour aller à', 1023, 0)\n",
      "('Création de la personne qui part de', 484, 939, 'pour aller à', 1023, 0)\n",
      "('Création de la personne qui part de', 698, 1007, 'pour aller à', 0, 1023)\n",
      "('Création de la personne qui part de', 34, 178, 'pour aller à', 1023, 1023)\n",
      "('Création de la personne qui part de', 791, 637, 'pour aller à', 0, 1023)\n",
      "('Création de la personne qui part de', 229, 347, 'pour aller à', 1023, 1023)\n",
      "('Création de la personne qui part de', 438, 39, 'pour aller à', 1023, 0)\n",
      "('Création de la personne qui part de', 630, 414, 'pour aller à', 0, 0)\n",
      "('Création de la personne qui part de', 462, 303, 'pour aller à', 1023, 0)\n",
      "('Création de la personne qui part de', 322, 168, 'pour aller à', 0, 1023)\n",
      "('Création de la personne qui part de', 956, 1007, 'pour aller à', 1023, 0)\n",
      "('Création de la personne qui part de', 107, 238, 'pour aller à', 1023, 1023)\n",
      "('Création de la personne qui part de', 467, 303, 'pour aller à', 1023, 1023)\n",
      "('Création de la personne qui part de', 287, 144, 'pour aller à', 1023, 1023)\n",
      "('Création de la personne qui part de', 408, 933, 'pour aller à', 1023, 1023)\n",
      "('Création de la personne qui part de', 136, 167, 'pour aller à', 1023, 1023)\n",
      "('Création de la personne qui part de', 874, 649, 'pour aller à', 1023, 0)\n",
      "('Création de la personne qui part de', 251, 597, 'pour aller à', 0, 0)\n",
      "('Création de la personne qui part de', 407, 668, 'pour aller à', 0, 0)\n",
      "('Création de la personne qui part de', 391, 394, 'pour aller à', 1023, 0)\n",
      "('Création de la personne qui part de', 323, 41, 'pour aller à', 0, 1023)\n",
      "('Personne non créée, la place est occupée', 581, 723)\n",
      "('Création de la personne qui part de', 615, 398, 'pour aller à', 1023, 0)\n",
      "('Création de la personne qui part de', 32, 879, 'pour aller à', 0, 1023)\n",
      "('Personne non créée, la place est occupée', 172, 203)\n",
      "('Création de la personne qui part de', 940, 753, 'pour aller à', 1023, 1023)\n",
      "('Création de la personne qui part de', 235, 679, 'pour aller à', 0, 1023)\n",
      "('Création de la personne qui part de', 792, 353, 'pour aller à', 1023, 0)\n",
      "('Création de la personne qui part de', 265, 773, 'pour aller à', 1023, 1023)\n",
      "('Création de la personne qui part de', 66, 106, 'pour aller à', 1023, 1023)\n",
      "('Création de la personne qui part de', 981, 334, 'pour aller à', 0, 0)\n",
      "('Création de la personne qui part de', 281, 236, 'pour aller à', 1023, 0)\n",
      "('Création de la personne qui part de', 49, 666, 'pour aller à', 0, 1023)\n",
      "(1024, 'personnes ont été créées')\n"
     ]
    }
   ],
   "source": [
    "# La grille contient 2^10 personnes\n",
    "nb_person = np.power(2,10)\n",
    "\n",
    "coordonnee = np.zeros((2,1), dtype=np.int)\n",
    "sortie = np.zeros((2,1), dtype=np.int)\n",
    "while len(grid.personneList)<nb_person:\n",
    "    coordonnee[0] = np.random.randint(1,X)\n",
    "    coordonnee[1] = np.random.randint(1,Y)\n",
    "    sortie[0] = (X-1)*np.random.randint(2)\n",
    "    sortie[1] = (Y-1)*np.random.randint(2)\n",
    "    Personne(grid, int(coordonnee[0]), int(coordonnee[1]), int(sortie[0]), int(sortie[1]), debug)\n",
    "    \n",
    "debug.affiche(len(grid.personneList), \"personnes ont été créées\")"
   ]
  },
  {
   "cell_type": "code",
   "execution_count": 57,
   "metadata": {},
   "outputs": [],
   "source": [
    "# Sauvegarde de l'objet grille\n",
    "grid.Save(grande_grille)"
   ]
  },
  {
   "cell_type": "code",
   "execution_count": 58,
   "metadata": {},
   "outputs": [],
   "source": [
    "# Affichage de la grille créée\n",
    "if UI==affichage.OpenCV:\n",
    "    cv2.imshow(\"img\", createImage(grid.map))\n",
    "    cv2.waitKey(5000) # Affichage pendant 5 secondes\n",
    "    cv2.destroyAllWindows()"
   ]
  },
  {
   "cell_type": "markdown",
   "metadata": {},
   "source": [
    "## Solution itérative\n",
    "\n",
    "Chaque personne doit rejoindre sa case de sortie. Le code est fourni à titre d'exemple. Il est malheureusement incomplet car si une personne ne peut pas rejoindre sa case de sortie alors la simulation ne s'arrête pas.\n",
    "\n",
    "Si vous avez besoin de modifier les classes proposées. Il suffit de construire par héritage la nouvelle classe qui doit porter le même nom que la classe parente suffixé par \\_1 ou \\_2 ou \\_3 selon l'étape du projet, et de surcharger les méthodes qui doivent l'être.\n",
    "\n",
    "Les cellules suivantes donnent des exemples d'utilisation des primitives précédemment écrites."
   ]
  },
  {
   "cell_type": "markdown",
   "metadata": {},
   "source": [
    "### Avec trace mais sans visualisation"
   ]
  },
  {
   "cell_type": "code",
   "execution_count": 59,
   "metadata": {
    "ExecuteTime": {
     "end_time": "2020-09-09T14:57:23.812307Z",
     "start_time": "2020-09-09T14:57:23.802324Z"
    }
   },
   "outputs": [
    {
     "name": "stdout",
     "output_type": "stream",
     "text": [
      "('Ouverture du fichier', 'maps/map-initial.txt')\n",
      "('Simulation pour une grille:', 10, '*', 10)\n",
      "(\"Initilisation de l'objet grille\",)\n",
      "('obstacle non créé', ['-1', '-1', '-1', '-1'])\n",
      "(\"Création de l'obstacle (\", 1, 1, ') - (', 2, 7, ')')\n",
      "(\"Création de l'obstacle (\", 1, 7, ') - (', 8, 8, ')')\n",
      "(2, 'obstacles ont été créés')\n",
      "('Création de la personne qui part de', 2, 2, 'pour aller à', 0, 0)\n",
      "(1, 'personnes ont été créées')\n",
      "********************\n",
      "Début de la simulation\n",
      "('La personne (', 2, 2, ') peut se déplacer sur :', [(3, 2, 1)])\n",
      "('Déplacement de la personne de (', 2, 2, ') à (', 2, 1, ')')\n",
      "('La personne (', 2, 1, ') peut se déplacer sur :', [(2, 1, 1), (2, 2, 0)])\n",
      "('Déplacement de la personne de (', 2, 1, ') à (', 1, 1, ')')\n",
      "('La personne (', 1, 1, ') peut se déplacer sur :', [(1, 0, 1), (1, 1, 0)])\n",
      "('Déplacement de la personne de (', 1, 1, ') à (', 0, 1, ')')\n",
      "('La personne (', 0, 1, ') peut se déplacer sur :', [(0, 0, 0)])\n",
      "('Déplacement de la personne de (', 0, 1, ') à (', 0, 0, ')')\n",
      "('Une personne vient de sortir, il reste', 0, 'personnes')\n"
     ]
    }
   ],
   "source": [
    "# En mode debug avec 1 personne, sans UI\n",
    "debug = Debug(True)\n",
    "\n",
    "file = open_file(petite_grille, debug)  # On ouvre le fichier\n",
    "X, Y = read_grid_size(file, debug) # On lit la taille\n",
    "grid = Grille(X, Y, affichage.Aucun, debug)     # On créée l'objet grille\n",
    "read_obstacles(file, grid, Obstacle, debug)  # On lit et positionne les obstacles\n",
    "read_personnes(file, grid, Personne, 1, debug) # On lit et positionne une seule personne\n",
    "print(\"*\"*20)\n",
    "print(\"Début de la simulation\")\n",
    "grid.Simulation()"
   ]
  },
  {
   "cell_type": "markdown",
   "metadata": {},
   "source": [
    "### Visualisation de chacune des itérations avec Matplotlib"
   ]
  },
  {
   "cell_type": "code",
   "execution_count": 60,
   "metadata": {
    "ExecuteTime": {
     "end_time": "2020-09-09T14:49:25.241960Z",
     "start_time": "2020-09-09T14:49:24.715633Z"
    },
    "scrolled": true
   },
   "outputs": [
    {
     "data": {
      "image/png": "[encoded data removed]",
      "text/plain": [
       "<Figure size 432x288 with 1 Axes>"
      ]
     },
     "metadata": {
      "needs_background": "light"
     },
     "output_type": "display_data"
    },
    {
     "data": {
      "image/png": "[encoded data removed]",
      "text/plain": [
       "<Figure size 432x288 with 1 Axes>"
      ]
     },
     "metadata": {
      "needs_background": "light"
     },
     "output_type": "display_data"
    },
    {
     "data": {
      "image/png": "[encoded data removed]",
      "text/plain": [
       "<Figure size 432x288 with 1 Axes>"
      ]
     },
     "metadata": {
      "needs_background": "light"
     },
     "output_type": "display_data"
    },
    {
     "data": {
      "image/png": "[encoded data removed]",
      "text/plain": [
       "<Figure size 432x288 with 1 Axes>"
      ]
     },
     "metadata": {
      "needs_background": "light"
     },
     "output_type": "display_data"
    },
    {
     "data": {
      "image/png": "[encoded data removed]",
      "text/plain": [
       "<Figure size 432x288 with 1 Axes>"
      ]
     },
     "metadata": {
      "needs_background": "light"
     },
     "output_type": "display_data"
    },
    {
     "data": {
      "image/png": "[encoded data removed]",
      "text/plain": [
       "<Figure size 432x288 with 1 Axes>"
      ]
     },
     "metadata": {
      "needs_background": "light"
     },
     "output_type": "display_data"
    }
   ],
   "source": [
    "for img in grid.mapList:\n",
    "    plt.imshow(img, cmap='Paired', vmin=0, vmax=5)\n",
    "    plt.show()"
   ]
  },
  {
   "cell_type": "markdown",
   "metadata": {},
   "source": [
    "### Visualisation de chacune des itérations avec OpenCV"
   ]
  },
  {
   "cell_type": "code",
   "execution_count": 61,
   "metadata": {
    "ExecuteTime": {
     "end_time": "2020-09-09T14:49:37.845993Z",
     "start_time": "2020-09-09T14:49:25.860666Z"
    }
   },
   "outputs": [],
   "source": [
    "if UI==affichage.OpenCV:\n",
    "    for image in grid.mapList:\n",
    "        cv2.imshow(\"img\", createImage(image))\n",
    "        cv2.waitKey(500) # Wait for 0.5 second\n",
    "    cv2.destroyAllWindows()"
   ]
  },
  {
   "cell_type": "markdown",
   "metadata": {},
   "source": [
    "### Sans trace mais avec visualisation"
   ]
  },
  {
   "cell_type": "code",
   "execution_count": 62,
   "metadata": {
    "ExecuteTime": {
     "end_time": "2020-09-09T14:49:49.836016Z",
     "start_time": "2020-09-09T14:49:37.849761Z"
    }
   },
   "outputs": [],
   "source": [
    "# En mode sans trace avec 1 personne mais avec UI\n",
    "if UI==affichage.OpenCV:\n",
    "    debug = Debug(False)\n",
    "    file = open_file(petite_grille, debug)  # On ouvre le fichier\n",
    "    X, Y = read_grid_size(file, debug) # On lit la taille\n",
    "    grid = Grille(X, Y, affichage.OpenCV, debug)     # On créée l'objet grille\n",
    "    read_obstacles(file, grid, Obstacle, debug)  # On lit et positionne les obstacles\n",
    "    read_personnes(file, grid, Personne, 1, debug) # On lit et positionne une seule personne\n",
    "    grid.Simulation()"
   ]
  },
  {
   "cell_type": "markdown",
   "metadata": {},
   "source": [
    "## <span style=\"color:red\">Votre travail</span>\n",
    "\n",
    "Mettre en oeuvre plusieurs version du simulateur :\n",
    "1. Version itérative : un seul flot d'exécution. Celui-ci est presque terminé, il faut reste à trouver une manière la plus judicieuse possible pour résoudre le problème des personnes bloquées par un obsatacle sans modifier le comportement d'une personne.\n",
    "1. Version un flot d'exécution par personne. Attention a bien protéger par une section critique tout accès à une ressource concurrente que ce soit une trace d'exécution en mode debug ou une ressource partagée. On fera attention a reduire dans la mesure du possible la portée d'une section critique\n",
    "1. Version un flot d'exécution pour un quard de la grille. Une personne de coordonnée X, Y sera gérée par le flot d'exécution numéro $i = 2* (Y//(Ymax//2)) + X//(Xmax//2)$.\n",
    "\n",
    "Vous construirez ces différentes versions en créant si nécessaire des sous-classes aux classes existantes.\n",
    "\n"
   ]
  },
  {
   "cell_type": "markdown",
   "metadata": {
    "ExecuteTime": {
     "end_time": "2020-09-01T14:38:38.843007Z",
     "start_time": "2020-09-01T14:38:19.214514Z"
    }
   },
   "source": [
    "Bien évidemment, on attend une étude comparative des différentes approches. Pour vous aider dans l'analyse des solutions qui doivent être décrites vous utiliserez un nombre variable de personnes. Pour cela, vous adapterez le code suivant afin de pouvoir mesurer l'évolution du temps d'exécution en fonction du nombre de personnes présentes sur la grille et comparer les temps d'exécution entre les scénarios\n",
    "<code>\n",
    "debug = Debug(False)\n",
    "\n",
    "duration_i = []  # i est le numéro du scénario\n",
    "nb_personnes = []\n",
    "for i in range(11):\n",
    "    nb_personnes += [np.power(2, i)]\n",
    "    print(\"*\"*30)\n",
    "    print(\"pour\", nb_personnes[-1], \"personnes\")\n",
    "\n",
    "    file = open_file(grande_grille, debug)  # On ouvre le fichier\n",
    "    X, Y = read_grid_size(file, debug) # On lit la taille\n",
    "    debug.affiche(\"simulation pour une grille:\", X, Y)\n",
    "    grid = Grille(X, Y, debug)     # On créée l'objet grille\n",
    "    read_obstacles(file, grid, Obstacle, debug)  # On lit et positionne les obstacles\n",
    "    read_personnes(file, grid, Personne, nb_personnes[-1], debug) # On lit et positionne le nombre de personne souhaité seule personne\n",
    "    debug.affiche(\"nbre de personnes\", len(grid.personneList))\n",
    "    \n",
    "    start = time.time()\n",
    "    grid.Simulation(debug)\n",
    "    end = time.time()\n",
    "    duration_i += [end-start]\n",
    "    print(\"La simulation a duré\", duration1[-1], \"secondes\")\n",
    "    print(\"Il restait\", XXXXX, \"personnes immobiles\")<code>"
   ]
  },
  {
   "cell_type": "markdown",
   "metadata": {},
   "source": [
    "Vous ferez un plot de l'évolution des temps d'exécution\n",
    "<code>\n",
    "plt.plot(nb_personnes, duration_1, label=\"Une seule thread\")\n",
    "plt.plot(nb_personnes, duration_2, label=\"Une thread par personne\")\n",
    "plt.plot(nb_personnes, duration_2, label=\"Une thread par quard de terrain\")\n",
    "plt.xlabel(\"nombre de personnes\")\n",
    "plt.ylabel(\"temps en secondes\")\n",
    "plt.legend()\n",
    "plt.show()<code>"
   ]
  },
  {
   "cell_type": "markdown",
   "metadata": {
    "ExecuteTime": {
     "end_time": "2020-09-01T15:08:57.408399Z",
     "start_time": "2020-09-01T15:08:57.304373Z"
    }
   },
   "source": [
    "Vous calculerez les ratios entre les scénarios\n",
    "<code>\n",
    "ratio_2 = []\n",
    "ratio_3 = []\n",
    "for i,j,k in zip(duration_1, duration_2, duration_3):\n",
    "    ratio_2 += [j/i]\n",
    "    ratio_3 += [k/i]\n",
    "plt.plot(nb_personnes, ratio_2, label=\"...\")\n",
    "plt.plot(nb_personnes, ratio_3, label=\"...\")\n",
    "plt.xlabel(\"nombre de personnes\")\n",
    "plt.ylabel(\"...\")\n",
    "plt.legend()\n",
    "plt.show()<code>"
   ]
  },
  {
   "cell_type": "markdown",
   "metadata": {
    "ExecuteTime": {
     "end_time": "2020-09-09T14:49:56.668475Z",
     "start_time": "2020-09-09T14:49:56.663438Z"
    }
   },
   "source": [
    "Vous calculerez aussi le speedup (inverse du ratio précédent) et ferez un plot de celui-ci"
   ]
  },
  {
   "cell_type": "markdown",
   "metadata": {},
   "source": [
    "## Scénario 1 - version itérative"
   ]
  },
  {
   "cell_type": "code",
   "execution_count": 71,
   "metadata": {},
   "outputs": [],
   "source": [
    "class Grille_1(Grille):\n",
    "    def __init__(self, Xmax, Ymax, UI, debug):\n",
    "        Grille.__init__(self,Xmax,Ymax,UI,debug)\n",
    "    # Solution imparfaite car une personne peut être bloquée par un obstacle\n",
    "    def Simulation(self,debug):\n",
    "        if debug.debug or self.UI==affichage.OpenCV:\n",
    "            self.mapList.append(copy.copy(self.map))\n",
    "        if self.UI==affichage.OpenCV:\n",
    "            cv2.imshow(\"img\", createImage(self.map))\n",
    "            cv2.waitKey(500)\n",
    "    \n",
    "        while len(self.personneList)>0: # il y a encore une personne dans la liste qui peut bouger\n",
    "            for personne in self.personneList:\n",
    "                end, immobile = personne.deplacePersonne(self, debug)\n",
    "                if immobile:\n",
    "                    self.personneList.remove(personne)\n",
    "                if end:\n",
    "                    debug.affiche(\"Une personne vient de sortir, il reste\", len(self.personneList), \"personnes\")\n",
    "            if debug.debug or self.UI==affichage.OpenCV:\n",
    "                self.mapList.append(copy.copy(self.map))\n",
    "                if self.UI==affichage.OpenCV:\n",
    "                    cv2.imshow(\"img\", createImage(self.map))\n",
    "                    cv2.waitKey(500)\n",
    "    \n",
    "        if self.UI==affichage.OpenCV:\n",
    "            cv2.destroyAllWindows()\n",
    "    "
   ]
  },
  {
   "cell_type": "code",
   "execution_count": 72,
   "metadata": {},
   "outputs": [
    {
     "name": "stdout",
     "output_type": "stream",
     "text": [
      "('Ouverture du fichier', 'maps/map-initial.txt')\n",
      "('Simulation pour une grille:', 10, '*', 10)\n",
      "(\"Initilisation de l'objet grille\",)\n",
      "('obstacle non créé', ['-1', '-1', '-1', '-1'])\n",
      "(\"Création de l'obstacle (\", 1, 1, ') - (', 2, 7, ')')\n",
      "(\"Création de l'obstacle (\", 1, 7, ') - (', 8, 8, ')')\n",
      "(2, 'obstacles ont été créés')\n",
      "('Création de la personne qui part de', 2, 2, 'pour aller à', 0, 0)\n",
      "('Création de la personne qui part de', 3, 3, 'pour aller à', 0, 9)\n",
      "(2, 'personnes ont été créées')\n",
      "********************\n",
      "Début de la simulation\n",
      "('La personne (', 2, 2, ') peut se déplacer sur :', [(3, 2, 1)])\n",
      "('Déplacement de la personne de (', 2, 2, ') à (', 2, 1, ')')\n",
      "('La personne (', 3, 3, ') peut se déplacer sur :', [(8, 2, 3), (8, 3, 4)])\n",
      "('Déplacement de la personne de (', 3, 3, ') à (', 2, 3, ')')\n",
      "('La personne (', 2, 1, ') peut se déplacer sur :', [(2, 1, 1), (2, 2, 0)])\n",
      "('Déplacement de la personne de (', 2, 1, ') à (', 1, 1, ')')\n",
      "('La personne (', 2, 3, ') peut se déplacer sur :', [(7, 2, 4)])\n",
      "('Déplacement de la personne de (', 2, 3, ') à (', 2, 4, ')')\n",
      "('La personne (', 1, 1, ') peut se déplacer sur :', [(1, 0, 1), (1, 1, 0)])\n",
      "('Déplacement de la personne de (', 1, 1, ') à (', 0, 1, ')')\n",
      "('La personne (', 2, 4, ') peut se déplacer sur :', [(6, 2, 5)])\n",
      "('Déplacement de la personne de (', 2, 4, ') à (', 2, 5, ')')\n",
      "('La personne (', 0, 1, ') peut se déplacer sur :', [(0, 0, 0)])\n",
      "('Déplacement de la personne de (', 0, 1, ') à (', 0, 0, ')')\n",
      "('La personne (', 2, 5, ') peut se déplacer sur :', [(5, 2, 6)])\n",
      "('Déplacement de la personne de (', 2, 5, ') à (', 2, 6, ')')\n",
      "('Une personne vient de sortir, il reste', 1, 'personnes')\n",
      "('La personne (', 2, 6, ') peut se déplacer sur :', [(4, 2, 7)])\n",
      "('Déplacement de la personne de (', 2, 6, ') à (', 2, 7, ')')\n",
      "('La personne (', 2, 7, ') peut se déplacer sur :', [])\n",
      "('La personne (', 2, 7, 'ne peut pas se déplacer')\n"
     ]
    },
    {
     "data": {
      "image/png": "[encoded data removed]",
      "text/plain": [
       "<Figure size 432x288 with 1 Axes>"
      ]
     },
     "metadata": {
      "needs_background": "light"
     },
     "output_type": "display_data"
    },
    {
     "data": {
      "image/png": "[encoded data removed]",
      "text/plain": [
       "<Figure size 432x288 with 1 Axes>"
      ]
     },
     "metadata": {
      "needs_background": "light"
     },
     "output_type": "display_data"
    },
    {
     "data": {
      "image/png": "[encoded data removed]",
      "text/plain": [
       "<Figure size 432x288 with 1 Axes>"
      ]
     },
     "metadata": {
      "needs_background": "light"
     },
     "output_type": "display_data"
    },
    {
     "data": {
      "image/png": "[encoded data removed]",
      "text/plain": [
       "<Figure size 432x288 with 1 Axes>"
      ]
     },
     "metadata": {
      "needs_background": "light"
     },
     "output_type": "display_data"
    },
    {
     "data": {
      "image/png": "[encoded data removed]",
      "text/plain": [
       "<Figure size 432x288 with 1 Axes>"
      ]
     },
     "metadata": {
      "needs_background": "light"
     },
     "output_type": "display_data"
    },
    {
     "data": {
      "image/png": "[encoded data removed]",
      "text/plain": [
       "<Figure size 432x288 with 1 Axes>"
      ]
     },
     "metadata": {
      "needs_background": "light"
     },
     "output_type": "display_data"
    },
    {
     "data": {
      "image/png": "[encoded data removed]",
      "text/plain": [
       "<Figure size 432x288 with 1 Axes>"
      ]
     },
     "metadata": {
      "needs_background": "light"
     },
     "output_type": "display_data"
    },
    {
     "data": {
      "image/png": "[encoded data removed]",
      "text/plain": [
       "<Figure size 432x288 with 1 Axes>"
      ]
     },
     "metadata": {
      "needs_background": "light"
     },
     "output_type": "display_data"
    }
   ],
   "source": [
    "''' code du scénario 1 - vous pouvez utiliser plusieurs cellule '''\n",
    "debug = Debug(True)\n",
    "\n",
    "file = open_file(petite_grille, debug)  # On ouvre le fichier\n",
    "X, Y = read_grid_size(file, debug) # On lit la taille\n",
    "grid = Grille_1(X, Y, affichage.Aucun, debug)     # On créée l'objet grille\n",
    "read_obstacles(file, grid, Obstacle, debug)  # On lit et positionne les obstacles\n",
    "read_personnes(file, grid, Personne, 2, debug) # On lit et positionne une seule personne\n",
    "print(\"*\"*20)\n",
    "print(\"Début de la simulation\")\n",
    "grid.Simulation(debug)\n",
    "\n",
    "for img in grid.mapList:\n",
    "    plt.imshow(img, cmap='Paired', vmin=0, vmax=5)\n",
    "    plt.show()"
   ]
  },
  {
   "cell_type": "code",
   "execution_count": 77,
   "metadata": {},
   "outputs": [
    {
     "name": "stdout",
     "output_type": "stream",
     "text": [
      "La simulation a duré 9.703636169433594e-05 secondes\n"
     ]
    }
   ],
   "source": [
    "''' plot du temps d'exécution en fonction du nombre de personnes '''\n",
    "duration_i = [] # i est le numéro du scénario \n",
    "\n",
    "debug = Debug(False)\n",
    "start = time.time()\n",
    "grid.Simulation(debug)\n",
    "end = time.time()\n",
    "duration_i += [end-start]\n",
    "print(\"La simulation a duré\", duration_i[-1], \"secondes\")"
   ]
  },
  {
   "cell_type": "markdown",
   "metadata": {},
   "source": [
    "Votre analyse du scénario 1"
   ]
  },
  {
   "cell_type": "markdown",
   "metadata": {},
   "source": [
    "## Scénario 2 - version 1 thread par personne"
   ]
  },
  {
   "cell_type": "markdown",
   "metadata": {},
   "source": [
    "## Scénario 3 - version 1 thread pour 1/4 de la grille"
   ]
  },
  {
   "cell_type": "markdown",
   "metadata": {},
   "source": [
    "## Comparaison des trois approches\n",
    "\n",
    "<span style=\"color:red\">On attend ici une comparaison argumentée permettant de mettre en évidence les points forts et les points faibles des différentes solutions</span>"
   ]
  },
  {
   "cell_type": "markdown",
   "metadata": {},
   "source": [
    "## Export du notebook dans un fichier python"
   ]
  },
  {
   "cell_type": "code",
   "execution_count": null,
   "metadata": {
    "ExecuteTime": {
     "end_time": "2020-09-09T14:49:56.670691Z",
     "start_time": "2020-09-09T14:49:41.283Z"
    }
   },
   "outputs": [],
   "source": [
    "import sys,json\n",
    "import ipyparams\n",
    "\n",
    "def convertNotebook(notebookPath, modulePath):\n",
    "    f = open(notebookPath, 'r') #input.ipynb\n",
    "    j = json.load(f)\n",
    "\n",
    "    of = open(modulePath, 'w') #output.py\n",
    "\n",
    "    if j[\"nbformat\"] >=4:\n",
    "        for i,cell in enumerate(j[\"cells\"]):\n",
    "            if cell['cell_type']=='code':\n",
    "                of.write(\"#cell \"+str(i+1)+\"\\n\")\n",
    "                for line in cell[\"source\"]:\n",
    "                    of.write(line)\n",
    "                of.write('\\n\\n')\n",
    "    else:\n",
    "        print(\"not implemented\")\n",
    "\n",
    "    of.close()"
   ]
  },
  {
   "cell_type": "code",
   "execution_count": null,
   "metadata": {
    "ExecuteTime": {
     "end_time": "2020-09-09T14:49:56.671833Z",
     "start_time": "2020-09-09T14:49:46.226Z"
    }
   },
   "outputs": [],
   "source": [
    "''' Remarks: it is necessary to put the import code in a separate cell above the call of function.\n",
    "Otherwise Jupyter will try to run the code before the library is fully loaded,\n",
    "so the currentNotebook variable is still blank.\n",
    "\n",
    "Putting the import in its own cell forces it to load before moving to the next cell.\n",
    "'''\n",
    "if is_running_from_ipython():\n",
    "    currentNotebook = ipyparams.notebook_name\n",
    "    pythonName = currentNotebook.split(\".\")[0]+\".py\"\n",
    "    \n",
    "    convertNotebook(currentNotebook, pythonName)"
   ]
  },
  {
   "cell_type": "code",
   "execution_count": null,
   "metadata": {},
   "outputs": [],
   "source": []
  }
 ],
 "metadata": {
  "kernelspec": {
   "display_name": "Python 3",
   "language": "python",
   "name": "python3"
  },
  "language_info": {
   "codemirror_mode": {
    "name": "ipython",
    "version": 3
   },
   "file_extension": ".py",
   "mimetype": "text/x-python",
   "name": "python",
   "nbconvert_exporter": "python",
   "pygments_lexer": "ipython3",
   "version": "3.7.9"
  },
  "latex_envs": {
   "LaTeX_envs_menu_present": true,
   "autoclose": true,
   "autocomplete": true,
   "bibliofile": "biblio.bib",
   "cite_by": "apalike",
   "current_citInitial": 1,
   "eqLabelWithNumbers": true,
   "eqNumInitial": 1,
   "hotkeys": {
    "equation": "Ctrl-E",
    "itemize": "Ctrl-I"
   },
   "labels_anchors": false,
   "latex_user_defs": false,
   "report_style_numbering": false,
   "user_envs_cfg": false
  },
  "nbTranslate": {
   "displayLangs": [
    "*"
   ],
   "hotkey": "alt-t",
   "langInMainMenu": true,
   "sourceLang": "en",
   "targetLang": "fr",
   "useGoogleTranslate": true
  },
  "toc": {
   "base_numbering": 1,
   "nav_menu": {},
   "number_sections": true,
   "sideBar": true,
   "skip_h1_title": true,
   "title_cell": "Table of Contents",
   "title_sidebar": "Contents",
   "toc_cell": true,
   "toc_position": {},
   "toc_section_display": true,
   "toc_window_display": false
  }
 },
 "nbformat": 4,
 "nbformat_minor": 4
}
