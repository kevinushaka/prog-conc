{
 "cells": [
  {
   "cell_type": "markdown",
   "metadata": {},
   "source": [
    "# Simulation de déplacement d'une foule\n",
    "\n",
    "__NOMS PRENOMS et emails des membres du groupe"
   ]
  },
  {
   "cell_type": "markdown",
   "metadata": {
    "ExecuteTime": {
     "end_time": "2020-09-09T14:05:18.487484Z",
     "start_time": "2020-09-09T14:05:18.483571Z"
    }
   },
   "source": [
    "## Introduction\n",
    "<span style=\"color:red\">Mettre ici votre description du projet.</span>"
   ]
  },
  {
   "cell_type": "markdown",
   "metadata": {
    "toc": true
   },
   "source": [
    "<h1>Table of Contents<span class=\"tocSkip\"></span></h1>\n",
    "<div class=\"toc\"><ul class=\"toc-item\"><li><span><a href=\"#Introduction\" data-toc-modified-id=\"Introduction-1\"><span class=\"toc-item-num\">1&nbsp;&nbsp;</span>Introduction</a></span></li><li><span><a href=\"#Bibliothèque-Python-pour-le-multi-flots-d'exécution.\" data-toc-modified-id=\"Bibliothèque-Python-pour-le-multi-flots-d'exécution.-2\"><span class=\"toc-item-num\">2&nbsp;&nbsp;</span>Bibliothèque Python pour le multi-flots d'exécution.</a></span></li><li><span><a href=\"#Les-mécanismes-de-synchronisation-en-Python\" data-toc-modified-id=\"Les-mécanismes-de-synchronisation-en-Python-3\"><span class=\"toc-item-num\">3&nbsp;&nbsp;</span>Les mécanismes de synchronisation en Python</a></span></li><li><span><a href=\"#Définitions-de-quelques-procédures-pour-initialiser-une-grille-à-partir-d'un-fichier-de-configuration\" data-toc-modified-id=\"Définitions-de-quelques-procédures-pour-initialiser-une-grille-à-partir-d'un-fichier-de-configuration-4\"><span class=\"toc-item-num\">4&nbsp;&nbsp;</span>Définitions de quelques procédures pour initialiser une grille à partir d'un fichier de configuration</a></span><ul class=\"toc-item\"><li><span><a href=\"#Définition-de-la-grille\" data-toc-modified-id=\"Définition-de-la-grille-4.1\"><span class=\"toc-item-num\">4.1&nbsp;&nbsp;</span>Définition de la grille</a></span></li><li><span><a href=\"#Définition-d'un-obstacle\" data-toc-modified-id=\"Définition-d'un-obstacle-4.2\"><span class=\"toc-item-num\">4.2&nbsp;&nbsp;</span>Définition d'un obstacle</a></span></li><li><span><a href=\"#Définition-d'une-personne\" data-toc-modified-id=\"Définition-d'une-personne-4.3\"><span class=\"toc-item-num\">4.3&nbsp;&nbsp;</span>Définition d'une personne</a></span></li><li><span><a href=\"#Construction-d'une-image-pour-OpenCV\" data-toc-modified-id=\"Construction-d'une-image-pour-OpenCV-4.4\"><span class=\"toc-item-num\">4.4&nbsp;&nbsp;</span>Construction d'une image pour OpenCV</a></span></li></ul></li><li><span><a href=\"#Solution-itérative\" data-toc-modified-id=\"Solution-itérative-5\"><span class=\"toc-item-num\">5&nbsp;&nbsp;</span>Solution itérative</a></span><ul class=\"toc-item\"><li><span><a href=\"#Avec-trace-mais-sans-visualisation\" data-toc-modified-id=\"Avec-trace-mais-sans-visualisation-5.1\"><span class=\"toc-item-num\">5.1&nbsp;&nbsp;</span>Avec trace mais sans visualisation</a></span></li><li><span><a href=\"#Visualisation-de-chacune-des-itérations-avec-Matplotlib\" data-toc-modified-id=\"Visualisation-de-chacune-des-itérations-avec-Matplotlib-5.2\"><span class=\"toc-item-num\">5.2&nbsp;&nbsp;</span>Visualisation de chacune des itérations avec Matplotlib</a></span></li><li><span><a href=\"#Visualisation-de-chacune-des-itérations-avec-OpenCV\" data-toc-modified-id=\"Visualisation-de-chacune-des-itérations-avec-OpenCV-5.3\"><span class=\"toc-item-num\">5.3&nbsp;&nbsp;</span>Visualisation de chacune des itérations avec OpenCV</a></span></li><li><span><a href=\"#Sans-trace-mais-avec-visualisation\" data-toc-modified-id=\"Sans-trace-mais-avec-visualisation-5.4\"><span class=\"toc-item-num\">5.4&nbsp;&nbsp;</span>Sans trace mais avec visualisation</a></span></li><li><span><a href=\"#Utilisation-des-procédures-précédentes-pour-créer-une-nouvelle-grille-qui-sera-sauvegardée-dans-un-fichier\" data-toc-modified-id=\"Utilisation-des-procédures-précédentes-pour-créer-une-nouvelle-grille-qui-sera-sauvegardée-dans-un-fichier-5.5\"><span class=\"toc-item-num\">5.5&nbsp;&nbsp;</span>Utilisation des procédures précédentes pour créer une nouvelle grille qui sera sauvegardée dans un fichier</a></span></li></ul></li><li><span><a href=\"#Votre-travail\" data-toc-modified-id=\"Votre-travail-6\"><span class=\"toc-item-num\">6&nbsp;&nbsp;</span><span style=\"color: red\">Votre travail</span></a></span></li><li><span><a href=\"#Scénario-1\" data-toc-modified-id=\"Scénario-1-7\"><span class=\"toc-item-num\">7&nbsp;&nbsp;</span>Scénario 1</a></span></li><li><span><a href=\"#Scénario-2\" data-toc-modified-id=\"Scénario-2-8\"><span class=\"toc-item-num\">8&nbsp;&nbsp;</span>Scénario 2</a></span></li><li><span><a href=\"#Scénario-3\" data-toc-modified-id=\"Scénario-3-9\"><span class=\"toc-item-num\">9&nbsp;&nbsp;</span>Scénario 3</a></span></li><li><span><a href=\"#Comparaison-des-trois-approches\" data-toc-modified-id=\"Comparaison-des-trois-approches-10\"><span class=\"toc-item-num\">10&nbsp;&nbsp;</span>Comparaison des trois approches</a></span></li><li><span><a href=\"#Export-du-notebook-dans-un-fichier-python\" data-toc-modified-id=\"Export-du-notebook-dans-un-fichier-python-11\"><span class=\"toc-item-num\">11&nbsp;&nbsp;</span>Export du notebook dans un fichier python</a></span></li></ul></div>"
   ]
  },
  {
   "cell_type": "markdown",
   "metadata": {},
   "source": [
    "## Bibliothèque Python pour le multi-flots d'exécution.\n",
    "\n",
    "<span style=\"color:red\">Dans cette section vous présenterez votre étude comparative, avec exemple, des bibliothèques python permettant d'exécuter plusieurs flots en parallèle</span>\n",
    "\n",
    "<span style=\"color:red\">Vous préciserez de manière justifiée à la fin de cette section la bibliothèque choisie. La cellule suivante, exécutable comprendra l'import de la bibliothèque.</span>"
   ]
  },
  {
   "cell_type": "markdown",
   "metadata": {},
   "source": [
    "Il existe plusieures modules qui prennent en charge l'utilisation des threads en Python: _thread, multiprocessing, threading, asyncio.\n",
    "\n",
    "Le module _thread traite un thread comme une fonction, tandis que les modules multiprocessing, threading et asyncio sont implémentés de manière orientée objet, c'est-à-dire que chaque processus/thread correspond à un objet.\n",
    "\n",
    "Quand on fait du multi-threading en python, 2 threads ne peuvent pas exécuter du code python en même temps à cause du Global Interpreter Lock. L'exécution simultanée de plusieurs tâches nécessite une implémentation non standard de Python ou l'utilisation du multiprocessing qui entraîne une surcharge supplémentaire.\n",
    "\n",
    "Quand on fait du multi-processing, c'est plus lourd, car il faut créer des processus, et la communication entre process est plus difficile car ils ne partagent pas la mémoire.\n",
    "\n",
    "\n",
    "#Pourquoi GIL? Python utilise le comptage de références pour la gestion de la mémoire. Cela signifie que les objets créés en Python ont une variable de comptage de références qui assure le suivi du nombre de références pointant vers l'objet. Lorsque ce décompte atteint zéro, la mémoire occupée par l'objet est libérée.\n",
    "\n",
    "Le problème est que cette variable de comptage de référence nécessite une protection contre les conditions de concurrence où deux threads augmentent ou diminuent simultanément sa valeur. Cela peut provoquer une fuite de mémoire qui n'est jamais libérée ouune libération incorrecte de la mémoire alors qu'une référence à cet objet existe toujours.\n"
   ]
  },
  {
   "cell_type": "markdown",
   "metadata": {},
   "source": [
    "# _thread"
   ]
  },
  {
   "cell_type": "markdown",
   "metadata": {},
   "source": [
    "Il est possible d'exécuter des fonctions dans un thread séparé avec le module Thread.\n",
    "\n",
    "thread.start_new_thread (fonction, args [, kwargs])\n",
    "\n",
    "Cette méthode démarre un nouveau thread et renvoie son identifiant. Le thread exécute la fonction avec l'argument list args. L'argument kwargs facultatif spécifie un dictionnaire d'arguments de mot-clé. Lorsque la fonction revient, le thread se ferme silencieusement. Lorsque la fonction se termine avec une exception non gérée, une trace de pile est imprimée, puis le thread se termine.\n"
   ]
  },
  {
   "cell_type": "code",
   "execution_count": null,
   "metadata": {},
   "outputs": [],
   "source": [
    "from _thread import start_new_thread\n",
    "import time\n",
    "\n",
    "def thread_function(name):\n",
    "    print(\"Thread \" +str(name)+ \": starting.\")\n",
    "    time.sleep(2)\n",
    "    print(\"Thread \" +str(name)+\": finishing.\")\n",
    "\n",
    "_thread.\n",
    "start_new_thread(thread_function,(99,))\n",
    "start_new_thread(thread_function,(999,))\n",
    "start_new_thread(thread_function,(1733,))\n",
    "\n",
    "print(\"Done.\")"
   ]
  },
  {
   "cell_type": "markdown",
   "metadata": {},
   "source": [
    "# threading"
   ]
  },
  {
   "cell_type": "markdown",
   "metadata": {},
   "source": [
    "Le module threading fournit une API de fils d'exécution de haut niveau, plus facile à utiliser et construite à partir de ce module.\n",
    "\n",
    "Pour implémenter un nouveau thread à l'aide du module de threading,on doit-\n",
    "\n",
    "Définir une nouvelle sous-classe de la classe Thread.\n",
    "\n",
    "Override la méthode __init __ (self [, args]) pour ajouter des arguments supplémentaires.\n",
    "\n",
    "Override la méthode run (self [, args]) pour implémenter ce que le thread doit faire au démarrage."
   ]
  },
  {
   "cell_type": "code",
   "execution_count": null,
   "metadata": {},
   "outputs": [],
   "source": [
    "import threading\n",
    "import time\n",
    "\n",
    "exitFlag = 0\n",
    "\n",
    "class myThread (threading.Thread):\n",
    "   def __init__(self, threadID, name, counter):\n",
    "      threading.Thread.__init__(self)\n",
    "      self.threadID = threadID\n",
    "      self.name = name\n",
    "      self.counter = counter\n",
    "   def run(self):\n",
    "      print (\"Starting \" + self.name)\n",
    "      print_time(self.name, 5, self.counter)\n",
    "      print (\"Exiting \" + self.name)\n",
    "\n",
    "def print_time(threadName, counter, delay):\n",
    "   while counter:\n",
    "      if exitFlag:\n",
    "         threadName.exit()\n",
    "      time.sleep(delay)\n",
    "      print (threadName + time.ctime(time.time()))\n",
    "      counter -= 1\n",
    "\n",
    "# Create new threads\n",
    "thread1 = myThread(1, \"Thread-1\", 1)\n",
    "thread2 = myThread(2, \"Thread-2\", 2)\n",
    "\n",
    "# Start new Threads\n",
    "thread1.start()\n",
    "thread2.start()\n",
    "\n",
    "print (\"Exiting Main Thread\")"
   ]
  },
  {
   "cell_type": "markdown",
   "metadata": {},
   "source": [
    "# multiprocessing"
   ]
  },
  {
   "cell_type": "markdown",
   "metadata": {},
   "source": [
    "Le module multiprocessing permet de tirer pleinement parti de plusieurs processeurs sur une machine donnée. L'API utilisée est similaire au module de threading classique. Pour créer un second processus, il faut instancier un objet Process avec une fonction cible et appeler start () pour le laisser commencer à fonctionner. Le guide de style multiprocessing Python recommande de placer le code multiprocesseur dans l'idiome name == 'main'. Cela est dû à la façon dont les processus sont créés sous Windows. Le but est d'éviter la boucle sans fin des générations de processus."
   ]
  },
  {
   "cell_type": "code",
   "execution_count": null,
   "metadata": {},
   "outputs": [],
   "source": [
    "import multiprocessing\n",
    "\n",
    "def worker(num):\n",
    "    print ('Worker:'+ str(num))\n",
    "    return\n",
    "\n",
    "if __name__ == '__main__':\n",
    "    jobs = []\n",
    "    for i in range(5):\n",
    "        p = multiprocessing.Process(target=worker, args=(i,))\n",
    "        jobs.append(p)\n",
    "        p.start()"
   ]
  },
  {
   "cell_type": "markdown",
   "metadata": {},
   "source": [
    "Par défaut, le programme principal ne se fermera pas tant que tous les enfants ne seront pas sortis.\n",
    "\n",
    "Un thread daemon s'arrêtera immédiatement lorsque le programme se fermera. Le thread daemon est un thread qui s'exécute en arrière-plan sans se soucier de l'arrêter.\n",
    "\n",
    "Un programme exécutant des threads qui ne sont pas des daemon attendra que ces threads se terminent avant de se terminer. Cependant, les threads qui sont des daemons sont simplement tués où qu'ils soient lorsque le programme se termine.\n",
    "\n",
    "Pour marquer un processus comme un daemon, il faut définir son attribut de démon avec une valeur booléenne. La valeur par défaut est que les processus ne sont pas des daemon, donc passer True active le mode daemon."
   ]
  },
  {
   "cell_type": "code",
   "execution_count": null,
   "metadata": {},
   "outputs": [],
   "source": [
    "import multiprocessing\n",
    "import time\n",
    "import sys\n",
    "import daemon\n",
    "import non_daemon\n",
    "\n",
    "if __name__ == '__main__':\n",
    "    d = multiprocessing.Process(name='daemon', target=daemon)\n",
    "    d.daemon = True\n",
    "\n",
    "    n = multiprocessing.Process(name='non-daemon', target=non_daemon)\n",
    "    n.daemon = False\n",
    "\n",
    "    d.start()\n",
    "    time.sleep(1)\n",
    "    n.start()"
   ]
  },
  {
   "cell_type": "markdown",
   "metadata": {},
   "source": [
    "Les processus ont leur propre espace virtuel, ils ne partagent pas leur mémoire. C'est pourquoi le module multiprocessing gère deux types de canaux de communication entre les processus : Queue , Tubes."
   ]
  },
  {
   "cell_type": "code",
   "execution_count": null,
   "metadata": {},
   "outputs": [],
   "source": [
    "from multiprocessing import Process, Queue\n",
    "\n",
    "def f(q):\n",
    "    q.put([42, None, 'hello'])\n",
    "\n",
    "if __name__ == '__main__':\n",
    "    q = Queue()\n",
    "    p = Process(target=f, args=(q,))\n",
    "    p.start()\n",
    "    print(q.get())    # prints \"[42, None, 'hello']\"\n",
    "    p.join()"
   ]
  },
  {
   "cell_type": "markdown",
   "metadata": {},
   "source": [
    "Pour utiliser un tube on instancie un objet Pipe. Les deux objets de connexion renvoyés par Pipe() représentent les deux bouts d'un tube. Chaque objet de connexion possède des méthodes send() et recv()."
   ]
  },
  {
   "cell_type": "code",
   "execution_count": null,
   "metadata": {},
   "outputs": [],
   "source": [
    "from multiprocessing import Process, Pipe\n",
    "\n",
    "def f(conn):\n",
    "    conn.send([42, None, 'hello'])\n",
    "    conn.close()\n",
    "\n",
    "if __name__ == '__main__':\n",
    "    parent_conn, child_conn = Pipe()\n",
    "    p = Process(target=f, args=(child_conn,))\n",
    "    p.start()\n",
    "    print(parent_conn.recv())   # prints \"[42, None, 'hello']\"\n",
    "    p.join()"
   ]
  },
  {
   "cell_type": "markdown",
   "metadata": {},
   "source": [
    "Il est également possible de créer des objets partagés utilisant une mémoire partagée pouvant être héritée par les processus enfants avec multiprocessing.Value(typecode_or_type, *args, lock=True).\n",
    "\n",
    "Les opérations telles que += qui impliquent une lecture et une écriture ne sont pas atomique. Ainsi si on souhaite par exemple réaliser une incrémentation atomique sur une valeur partagée, on ne peut pas simplement faire."
   ]
  },
  {
   "cell_type": "code",
   "execution_count": null,
   "metadata": {},
   "outputs": [],
   "source": [
    "# -*- coding: utf-8 -*-\n",
    "import multiprocessing \n",
    "\n",
    "# function to deposit to account \n",
    "def increment(variable):     \n",
    "    variable.value = variable.value + 1\n",
    "\n",
    "if __name__ == \"__main__\": \n",
    "    counter = multiprocessing.Value('i', 0)\n",
    "\n",
    "    p1 = multiprocessing.Process(target=increment, args=(counter,)) \n",
    "    p2 = multiprocessing.Process(target=increment, args=(counter,)) \n",
    "  \n",
    "    p1.start() \n",
    "    p2.start() \n",
    "\n",
    "    p1.join();\n",
    "    p2.join();\n",
    "\n",
    "    print(\"Final balance = \"+str(counter.value)) "
   ]
  },
  {
   "cell_type": "markdown",
   "metadata": {},
   "source": [
    "# **asyncio**\n",
    "\n",
    "Le concept général de asyncio est qu’un seul objet Python, appelé la boucle d’événements, contrôle comment et quand chaque tâche est exécutée. La boucle d’événements est consciente de chaque tâche et sait dans quel état elle se trouve. En réalité, il existe de nombreux états dans lesquels les tâches pourraient être mais nous allons dans un souci de simplicité supposer qu'il n'y a que deux états.\n",
    "\n",
    "L’état prêt indique qu’une tâche a du travail à faire et est prête à être exécutée, et l’état d’attente signifie que la tâche attend que quelque chose externe se termine (une opération réseau par exemple).\n",
    "\n",
    "La boucle d’événements simplifiée gère deux listes de tâches, une pour chacun de ces états. Il sélectionne l’une des tâches prêtes et la redémarre. Cette tâche est sous contrôle complet jusqu’à ce qu’elle remette en coopération le contrôle à la boucle d’événements.\n",
    "\n",
    "Lorsque la tâche en cours d’exécution redonne le contrôle à la boucle d’événements, la boucle d’événements place cette tâche dans la liste prête ou en attente, puis passe en revue chacune des tâches de la liste d’attente pour voir si elle est devenue prête par une opération d’E/S achèvement. Et ainsi de suite jusqu'a la fin de l'execution du programme."
   ]
  },
  {
   "cell_type": "code",
   "execution_count": null,
   "metadata": {},
   "outputs": [],
   "source": [
    "#!/usr/bin/env python3\n",
    "# countasync.py\n",
    "\n",
    "import asyncio\n",
    "\n",
    "async def count():\n",
    "    print(\"One\")\n",
    "    await asyncio.sleep(1)\n",
    "    print(\"Two\")\n",
    "\n",
    "async def main():\n",
    "    await asyncio.gather(count(), count(), count())\n",
    "\n",
    "if __name__ == \"__main__\":\n",
    "    import time\n",
    "    s = time.perf_counter()\n",
    "    loop = asyncio.get_event_loop()\n",
    "    loop.run_until_complete(main())\n",
    "    elapsed = time.perf_counter() - s\n",
    "    print(f\"{__file__} executed in {elapsed:0.2f} seconds.\")"
   ]
  },
  {
   "cell_type": "markdown",
   "metadata": {},
   "source": [
    "## Les mécanismes de synchronisation en Python\n",
    "\n",
    "<span style=\"color:red\">Dans cette section vous présenterez votre étude comparative, avec exemple, des mécanimes présent dans la bibliothèque ou pouvant être associé pour construire une section critique ou permettant de contrôler l'accès à des ressources critiques.\n",
    "    \n",
    "<span style=\"color:red\">Vous préciserez de manière justifiée à la fin de cette section les mécanismes choisis. La cellule suivante, exécutable comprendra l'import des bibliothèques.</span>"
   ]
  },
  {
   "cell_type": "markdown",
   "metadata": {},
   "source": [
    "### Lock\n",
    "\n",
    "Un verrou primitif est soit « verrouillé » soit « déverrouillé ». Il est créé dans un état déverrouillé. Il a deux méthodes, acquire() et release(). Lorsque l'état est déverrouillé, acquire() verrouille et se termine immédiatement. Lorsque l'état est verrouillé, acquire() bloque jusqu'à ce qu'un appel à release() provenant d'un autre fil d'exécution le déverrouille.\n",
    "\n",
    "Lorsque plus d'un thread est bloqué dans acquire () en attendant que l'état passe à déverrouillé, un seul thread se poursuit lorsqu'un appel release () réinitialise l'état à déverrouillé; lequel des threads en attente continue n'est pas défini et peut varier selon les implémentations.\n",
    "\n",
    "Pour un fonctionnement correct, il est important de libérer le verrou même si quelque chose ne va pas lors de l’accès à la ressource. On peut utiliser try-finally.\n",
    "\n",
    "lock.acquire()\n",
    "try:\n",
    "    ... access shared resource\n",
    "finally:\n",
    "    lock.release() # release lock, no matter what\n",
    "    \n",
    "La méthode acquire() prend un indicateur d'attente facultatif, qui peut être utilisé pour éviter le blocage si le verrou est détenu par quelqu'un d'autre."
   ]
  },
  {
   "cell_type": "code",
   "execution_count": null,
   "metadata": {},
   "outputs": [],
   "source": [
    "if not lock.acquire(False):\n",
    "    ... failed to lock the resource\n",
    "else:\n",
    "    try:\n",
    "        ... access shared resource\n",
    "    finally:\n",
    "        lock.release()"
   ]
  },
  {
   "cell_type": "markdown",
   "metadata": {},
   "source": [
    "Dans l'exemple suivant, deux methodes utilisent une même varible globale g, on gère pas les sections critqiues.\n",
    "\n",
    "Dans add_one_one() on reinitialise g à 0 puis on l'incrément de 1. Par la suite on cré une boucle de 30 avec affichage de texte juste pour faire durer l'execution de la methode . On incremente encore une fois g avant de l'afficher La resultat attendu appres cette afficheage est donc 2.\n",
    "\n",
    "Dans add_two() on incremente juste g de 2.\n",
    "\n",
    "Nous appelons deux threads sur ces deux methodes (add_one_one() en premier et add_two() apres).\n",
    "Notons que l'on attends que les deux threads se termine ( fonction join()), pour afficher le résultat seulement lexecution totale des deux Threads."
   ]
  },
  {
   "cell_type": "code",
   "execution_count": null,
   "metadata": {},
   "outputs": [],
   "source": [
    "#lock_tut.py\n",
    "from threading import Lock, Thread\n",
    "lock = Lock()\n",
    "g = 0\n",
    "\n",
    "def add_one_one():\n",
    "\n",
    "   global g\n",
    "   g=0\n",
    "   g += 1\n",
    "   for i in range(30):\n",
    "     print('boucle d\\'attente')\n",
    "   g += 1\n",
    "   print('Affichage de g dans add one one :',g)\n",
    "\n",
    "def add_two():\n",
    "   global g\n",
    "   g += 2\n",
    "\n",
    "threads = []\n",
    "for func in [add_one_one, add_two]:\n",
    "   threads.append(Thread(target=func))\n",
    "\n",
    "threads[0].start() \n",
    "threads[1].start()\n",
    "\n",
    "for thread in threads:\n",
    "   \"\"\"\n",
    "   Waits for threads to complete before moving on with the main\n",
    "   script.\n",
    "   \"\"\"\n",
    "   thread.join()\n",
    "\n",
    "print(g)"
   ]
  },
  {
   "cell_type": "markdown",
   "metadata": {},
   "source": [
    "Dans l'exemple suivant, nous gèrons les sections critqiues avec le verrou threading.Lock. On obtient toujours 2 pour l'affichage dans add_one_one et 4 à la fin"
   ]
  },
  {
   "cell_type": "code",
   "execution_count": null,
   "metadata": {},
   "outputs": [],
   "source": [
    "#lock_tut.py\n",
    "from threading import Lock, Thread\n",
    "lock = Lock()\n",
    "g = 0\n",
    "\n",
    "def add_one():\n",
    "   global g\n",
    "   lock.acquire()\n",
    "   g=0\n",
    "   g += 1\n",
    "   for i in range(30):\n",
    "     print('boucle d\\'attente')\n",
    "   g += 1\n",
    "   print('Affichage de g dans add one :',g)\n",
    "   lock.release()\n",
    "\n",
    "def add_two():\n",
    "   global g\n",
    "   lock.acquire()\n",
    "   g += 2\n",
    "   lock.release()\n",
    "\n",
    "threads = []\n",
    "for func in [add_one, add_two]:\n",
    "   threads.append(Thread(target=func))\n",
    "   threads[-1].start()\n",
    "\n",
    "for thread in threads:\n",
    "   \"\"\"\n",
    "   Waits for threads to complete before moving on with the main\n",
    "   script.\n",
    "   \"\"\"\n",
    "   thread.join()\n",
    "\n",
    "print(g)"
   ]
  },
  {
   "cell_type": "markdown",
   "metadata": {},
   "source": [
    "### ReLock\n",
    "\n",
    "L'objet de verrouillage standard ne se soucie pas du thread qui détient actuellement le verrou; si le verrou est maintenu, tout thread qui tente d'acquérir le verrou se bloque, même si le même thread détient déjà le verrou. Dans l'exemple suivant, les fonctions get_first_part() et get_second_part() resteront bloquées, car la fonction externe increment() détient déjà le verrou."
   ]
  },
  {
   "cell_type": "code",
   "execution_count": null,
   "metadata": {},
   "outputs": [],
   "source": [
    "import threading\n",
    "\n",
    "lock = threading.Lock()\n",
    "\n",
    "print('First try :',lock.acquire())\n",
    "print('Second try:',lock.acquire(0))\n",
    "print(\"print this if not blocked...\")"
   ]
  },
  {
   "cell_type": "markdown",
   "metadata": {},
   "source": [
    "La classe RLock est une version du verrouillage qui ne se bloque que si le verrou est détenu par un autre thread. Alors que les verrous simples se bloquent si le même thread tente d'acquérir le même verrou deux fois, un verrou rentrant ne se bloque que si un autre thread détient actuellement le verrou. Si le thread actuel tente d'acquérir un verrou qu'il détient déjà, l'exécution se poursuit comme d'habitude."
   ]
  },
  {
   "cell_type": "code",
   "execution_count": null,
   "metadata": {},
   "outputs": [],
   "source": [
    "import threading\n",
    "\n",
    "lock = threading.RLock()\n",
    "\n",
    "print('First try :', lock.acquire())\n",
    "print('Second try:', lock.acquire(blocking = True, timeout = -1))\n",
    "print(\"print this if not blocked...\")"
   ]
  },
  {
   "cell_type": "markdown",
   "metadata": {},
   "source": [
    "En reprenant le même exemple mais avec un ReLock, , on réussi à réobtenir le verrou."
   ]
  },
  {
   "cell_type": "markdown",
   "metadata": {},
   "source": [
    "### Semaphore\n",
    "\n",
    "Un sémaphore gère un compteur interne qui est décrémenté à chaque appel acquise () et incrémenté à chaque appel release (). Le compteur ne peut jamais descendre en dessous de zéro; quand acquiert () trouve qu'il est égal à zéro, il bloque, en attendant qu'un autre thread appelle release ()."
   ]
  },
  {
   "cell_type": "code",
   "execution_count": null,
   "metadata": {},
   "outputs": [],
   "source": [
    "# -*- coding: utf-8 -*-\n",
    "import threading\n",
    "             \n",
    "class Counter(object):\n",
    "    def __init__(self, start = 0):\n",
    "        self.semaphore = threading.BoundedSemaphore(value=1)\n",
    "        self.value = start\n",
    "    def increment(self):\n",
    "        print('Waiting for a lock')\n",
    "        self.semaphore.acquire()\n",
    "        try:\n",
    "            print('Acquired a lock')\n",
    "            self.value = self.value + 1\n",
    "        finally:\n",
    "            print('Released a lock')\n",
    "            self.semaphore.release()\n",
    "\n",
    "def worker(c):\n",
    "    c.increment()\n",
    "    print('Done')\n",
    "\n",
    "\n",
    "my_list=[]\n",
    "counter = Counter()\n",
    "for i in range(2):\n",
    "    t = threading.Thread(target=worker, args=(counter,))\n",
    "    my_list.append(t)\n",
    "    t.start()\n",
    "\n",
    "print('Waiting for worker threads')\n",
    "main_thread = threading.currentThread()\n",
    "for t in my_list:\n",
    "    t.join()\n",
    "print('Counter:'+ str(counter.value))"
   ]
  },
  {
   "cell_type": "markdown",
   "metadata": {},
   "source": [
    "### Barrier\n",
    "\n",
    "Une barrière est une simple primitive de synchronisation qui peut être utilisée par différents threads pour s'attendre les uns les autres. Chaque thread tente de passer une barrière en appelant la wait()méthode, qui se bloquera jusqu'à ce que tous les threads aient effectué cet appel. Dès que cela se produit, les threads sont libérés simultanément. L'extrait de code suivant illustre l'utilisation de Barrier"
   ]
  },
  {
   "cell_type": "code",
   "execution_count": null,
   "metadata": {},
   "outputs": [],
   "source": [
    "#barrier_tut.py\n",
    "from random import randrange\n",
    "from threading import Barrier, Thread\n",
    "from time import ctime, sleep\n",
    "\n",
    "num = 4\n",
    "# 4 threads will need to pass this barrier to get released.\n",
    "b = Barrier(num)\n",
    "names = [\"Harsh\", \"Lokesh\", \"George\", \"Iqbal\"]\n",
    "\n",
    "def player():\n",
    "    name = names.pop()\n",
    "    sleep(randrange(2, 5))\n",
    "    print(\"%s reached the barrier at: %s\" % (name, ctime()))\n",
    "    b.wait()\n",
    "    \n",
    "threads = []\n",
    "print(\"Race starts now…\")\n",
    "\n",
    "for i in range(num):\n",
    "    threads.append(Thread(target=player))\n",
    "    threads[-1].start()\n",
    "\"\"\"\n",
    "Following loop enables waiting for the threads to complete before moving on with the main script.\n",
    "\"\"\"\n",
    "for thread in threads:\n",
    "    thread.join()\n",
    "print()\n",
    "print(\"Race over!\")"
   ]
  },
  {
   "cell_type": "markdown",
   "metadata": {},
   "source": [
    "### Objet Event\n",
    "\n",
    "Nous utilisons plusieurs threads pour faire tourner des opérations séparées afin de les exécuter simultanément, cependant, il y a des moments où il est important de pouvoir synchroniser les opérations de deux ou plusieurs threads. L'utilisation d' objets Event est le moyen simple de communiquer entre les threads.\n",
    "\n",
    "Un événement gère un indicateur interne que les appelants peuvent définir () ou effacer () . D'autres threads peuvent attendre () que l'indicateur soit défini () . On note que la méthode wait () se bloque jusqu'à ce que l'indicateur soit vrai.\n"
   ]
  },
  {
   "cell_type": "code",
   "execution_count": null,
   "metadata": {},
   "outputs": [],
   "source": [
    "import threading\n",
    "import time\n",
    "import logging\n",
    "\n",
    "logging.basicConfig(level=logging.DEBUG,\n",
    "                    format='(%(threadName)-9s) %(message)s',)\n",
    "                    \n",
    "def wait_for_event(e):\n",
    "    logging.debug('wait_for_event starting')\n",
    "    event_is_set = e.wait()\n",
    "    logging.debug('event set: %s', event_is_set)\n",
    "\n",
    "def wait_for_event_timeout(e, t):\n",
    "    while not e.isSet():\n",
    "        logging.debug('wait_for_event_timeout starting')\n",
    "        event_is_set = e.wait(t)\n",
    "        logging.debug('event set: %s', event_is_set)\n",
    "        if event_is_set:\n",
    "            logging.debug('processing event')\n",
    "        else:\n",
    "            logging.debug('doing other things')\n",
    "\n",
    "if __name__ == '__main__':\n",
    "    e = threading.Event()\n",
    "    t1 = threading.Thread(name='blocking', \n",
    "                      target=wait_for_event,\n",
    "                      args=(e,))\n",
    "    t1.start()\n",
    "\n",
    "    t2 = threading.Thread(name='non-blocking', \n",
    "                      target=wait_for_event_timeout, \n",
    "                      args=(e, 2))\n",
    "    t2.start()\n",
    "\n",
    "    logging.debug('Waiting before calling Event.set()')\n",
    "    time.sleep(3)\n",
    "    e.set()\n",
    "    logging.debug('Event is set')"
   ]
  },
  {
   "cell_type": "markdown",
   "metadata": {},
   "source": [
    "## Définitions de quelques procédures pour initialiser une grille à partir d'un fichier de configuration\n",
    "\n",
    "<span style=\"color:red\">Vous ne pouvez pas modifier les classes/procédures/fonctions suivantes</span>"
   ]
  },
  {
   "cell_type": "code",
   "execution_count": 1,
   "metadata": {
    "ExecuteTime": {
     "end_time": "2020-09-09T14:56:37.017896Z",
     "start_time": "2020-09-09T14:56:37.014070Z"
    }
   },
   "outputs": [],
   "source": [
    "def is_running_from_ipython():\n",
    "    # Renvoie True si on execute le code depuis un notebook\n",
    "       from IPython import get_ipython\n",
    "       return get_ipython() is not None\n",
    "is_running_from_ipython()\n",
    "# Permet de savoir qui exécute le code\n",
    "import platform\n",
    "MICHEL = ('michel' in platform.node()) or ('charvin' in platform.node())"
   ]
  },
  {
   "cell_type": "code",
   "execution_count": 2,
   "metadata": {},
   "outputs": [],
   "source": [
    "class Debug:\n",
    "    def __init__(self, debug=False):\n",
    "        self.debug = debug\n",
    "        \n",
    "    def affiche(self, *args):\n",
    "        if self.debug:\n",
    "            print(args)"
   ]
  },
  {
   "cell_type": "code",
   "execution_count": 3,
   "metadata": {
    "ExecuteTime": {
     "end_time": "2020-09-09T14:56:38.411155Z",
     "start_time": "2020-09-09T14:56:38.406363Z"
    }
   },
   "outputs": [],
   "source": [
    "# Différents imports\n",
    "import copy\n",
    "import math\n",
    "import time\n",
    "import numpy as np\n",
    "\n",
    "%matplotlib inline\n",
    "import matplotlib.pyplot as plt"
   ]
  },
  {
   "cell_type": "code",
   "execution_count": 4,
   "metadata": {
    "ExecuteTime": {
     "end_time": "2020-09-09T14:56:40.469475Z",
     "start_time": "2020-09-09T14:56:39.487216Z"
    }
   },
   "outputs": [],
   "source": [
    "# Reglage de l'affichage\n",
    "\n",
    "# Définition des affichage possible définition\n",
    "!echo 'Aucun = 0' >affichage.py\n",
    "!echo 'tkinter = 1' >>affichage.py # Not implemented\n",
    "!echo 'OpenCV = 2' >> affichage.py # Not completly implemented\n",
    "\n",
    "!echo 'PERSONNE = (0.0, 0.0, 1.0)' >>affichage.py\n",
    "!echo 'IMMOBILE = (1.0, 0.0, 0.0)' >>affichage.py\n",
    "!echo 'OBSTACLE = (0.0, 1.0, 0.0)' >>affichage.py\n",
    "!echo 'EMPTY = (1.0, 1.0, 1.0)' >>affichage.py\n",
    "!echo 'ARRIVEE = (0.0, 0.0, 0.0)' >>affichage.py # Not used\n",
    "\n",
    "import affichage\n",
    "import cv2\n",
    "\n",
    "UI = affichage.OpenCV"
   ]
  },
  {
   "cell_type": "code",
   "execution_count": 6,
   "metadata": {
    "ExecuteTime": {
     "end_time": "2020-09-09T14:56:40.476993Z",
     "start_time": "2020-09-09T14:56:40.472805Z"
    }
   },
   "outputs": [],
   "source": [
    "#if MICHEL:\n",
    "petite_grille = \"maps/map-initial.txt\" # fichier décrivant une petite grille\n",
    "grande_grille = \"maps/map-final.txt\"  # fichier décrivant une grande grille\n",
    "debug = Debug(True)"
   ]
  },
  {
   "cell_type": "code",
   "execution_count": 7,
   "metadata": {
    "ExecuteTime": {
     "end_time": "2020-09-09T14:56:41.169989Z",
     "start_time": "2020-09-09T14:56:40.563847Z"
    }
   },
   "outputs": [],
   "source": [
    "# Constant définition\n",
    "!echo 'EMPTY = 0' >const.py\n",
    "!echo 'OBSTACLE = 1' >>const.py\n",
    "!echo 'PERSONNE = 2' >> const.py\n",
    "!echo 'IMMOBILE = 3' >> const.py\n",
    "!echo 'ARRIVEE = 4' >> const.py\n",
    "import const"
   ]
  },
  {
   "cell_type": "code",
   "execution_count": 8,
   "metadata": {
    "ExecuteTime": {
     "end_time": "2020-09-09T14:56:41.181031Z",
     "start_time": "2020-09-09T14:56:41.175015Z"
    }
   },
   "outputs": [
    {
     "name": "stdout",
     "output_type": "stream",
     "text": [
      "('Ouverture du fichier', 'maps/map-initial.txt')\n"
     ]
    }
   ],
   "source": [
    "# Lecture du fichier de configuration\n",
    "def open_file(filename, debug):\n",
    "    debug.affiche(\"Ouverture du fichier\", filename)\n",
    "    fileMap = open(filename, 'r')\n",
    "    return fileMap\n",
    "\n",
    "file = open_file(petite_grille, debug)"
   ]
  },
  {
   "cell_type": "markdown",
   "metadata": {},
   "source": [
    "### Définition de la grille"
   ]
  },
  {
   "cell_type": "code",
   "execution_count": 9,
   "metadata": {
    "ExecuteTime": {
     "end_time": "2020-09-09T14:56:42.917234Z",
     "start_time": "2020-09-09T14:56:42.910654Z"
    }
   },
   "outputs": [],
   "source": [
    "def read_grid_size(file, debug):\n",
    "    line = file.readline()\n",
    "    while line[0]=='#':\t# on saute les commentaires\n",
    "        line = file.readline()\n",
    "    \n",
    "    # Lecture de la taille de la grille\n",
    "    while line[0]!='#':\t# on lit jusqu'au prochain commentaires\n",
    "        if (line[0]=='X'):\n",
    "            X = int(line.split(' ')[1])\n",
    "        if (line[0]=='Y'):\n",
    "            Y = int(line.split(' ')[1])\n",
    "        line = file.readline()\n",
    "\n",
    "    debug.affiche(\"Simulation pour une grille:\", X, \"*\", Y)\n",
    "    \n",
    "    return X, Y"
   ]
  },
  {
   "cell_type": "code",
   "execution_count": 10,
   "metadata": {},
   "outputs": [
    {
     "name": "stdout",
     "output_type": "stream",
     "text": [
      "('Simulation pour une grille:', 10, '*', 10)\n"
     ]
    }
   ],
   "source": [
    "X, Y = read_grid_size(file, debug)"
   ]
  },
  {
   "cell_type": "code",
   "execution_count": 11,
   "metadata": {
    "ExecuteTime": {
     "end_time": "2020-09-09T14:56:43.748661Z",
     "start_time": "2020-09-09T14:56:43.726699Z"
    }
   },
   "outputs": [],
   "source": [
    "# Definition de la grille\n",
    "class Grille:\n",
    "    # Crée un objet list\n",
    "    def __init__(self, Xmax, Ymax, UI, debug):\n",
    "        debug.affiche(\"Initilisation de l'objet grille\")\n",
    "        self.Xmax = Xmax\n",
    "        self.Ymax = Ymax\n",
    "        if const.EMPTY==0:\n",
    "            self.map = np.zeros((Xmax, Ymax))\n",
    "        elif const.EMPTY==1:\n",
    "            self.map = np.ones((Xmax, Ymax))\n",
    "        else:\n",
    "            self.map = np.array(Xmax, Ymax)\n",
    "            for i in range(Xmax):\n",
    "                for j in range(Ymax):\n",
    "                    self.map[i,j] = const.EMPTY\n",
    "        self.mapList = []\n",
    "        self.obstacleList = []\n",
    "        self.personneList = []\n",
    "        self.debug = debug\n",
    "        self.UI = UI\n",
    "\n",
    "    def SetObstacle(self, obstacle):\n",
    "        for x in range(obstacle.Xmin, obstacle.Xmax+1):\n",
    "            for y in range(obstacle.Ymin, obstacle.Ymax+1):\n",
    "                self.map[x][y] = const.OBSTACLE\n",
    "        self.obstacleList += [obstacle]\n",
    "\n",
    "    def SetPersonne(self, personne):\n",
    "        if self.map[personne.X][personne.Y]==const.EMPTY:\n",
    "            # la case est vide\n",
    "            self.map[personne.X][personne.Y] = const.PERSONNE\n",
    "            self.personneList += [personne]\n",
    "            return True\n",
    "        else:\n",
    "            debug.affiche(\"Personne non créée, la place est occupée\", personne.X, personne.Y)\n",
    "            return False\n",
    "        \n",
    "    def isCellEmpty(self, x, y):\n",
    "        return self.map[x][y]==const.EMPTY\n",
    "    \n",
    "    def Set(self, x, y, status):\n",
    "        self.map[x][y] = status\n",
    "        \n",
    "    def Save(self, name):\n",
    "        with open(name, 'w') as file:\n",
    "            file.write(\"# taille de la grille\\n\")\n",
    "            file.write(\"X \"+str(self.Xmax)+\"\\n\")\n",
    "            file.write(\"Y \"+str(self.Ymax)+\"\\n\")\n",
    "            file.write(\"# position des obstacles\\n\")\n",
    "            file.write(\"# Xmin Xmax Ymin Ymax\\n\")\n",
    "            file.write(\"# si pas obstacle : mettre -1 comme valeur\\n\")\n",
    "            file.write(\"# \"+str(len(self.obstacleList))+\" obstacles\\n\")\n",
    "            for o in self.obstacleList:\n",
    "                file.write(str(o.Xmin)+\" \"+str(o.Xmax)+\" \"+str(o.Ymin)+\" \"+str(o.Ymax)+\"\\n\")\n",
    "            file.write(\"# position initiale des personnes (X, Y) et case de sortie (X, Y)\\n\")\n",
    "            file.write(\"# \"+str(len(self.personneList))+\" personnes\\n\")\n",
    "            for p in self.personneList:\n",
    "                file.write(str(p.X)+\" \"+str(p.Y)+\" \"+str(p.Xsortie)+\" \"+str(p.Ysortie)+\"\\n\")\n",
    "                \n",
    "    # Solution imparfaite car une personne peut être bloquée par un obstacle\n",
    "    def Simulation(self):\n",
    "        if self.debug.debug or self.UI==affichage.OpenCV:\n",
    "            self.mapList.append(copy.copy(self.map))\n",
    "        if self.UI==affichage.OpenCV:\n",
    "            cv2.imshow(\"img\", createImage(self.map))\n",
    "            cv2.waitKey(500)\n",
    "    \n",
    "        while len(self.personneList)>0: # il y a encore une personne dans la liste qui peut bouger\n",
    "            for personne in self.personneList:\n",
    "                end, immobile = personne.deplacePersonne(self, self.debug)\n",
    "                if end:\n",
    "                    self.debug.affiche(\"Une personne vient de sortir, il reste\", len(self.personneList), \"personnes\")\n",
    "            if self.debug.debug or self.UI==affichage.OpenCV:\n",
    "                self.mapList.append(copy.copy(self.map))\n",
    "                if self.UI==affichage.OpenCV:\n",
    "                    cv2.imshow(\"img\", createImage(self.map))\n",
    "                    cv2.waitKey(500)\n",
    "    \n",
    "        if self.UI==affichage.OpenCV:\n",
    "            cv2.destroyAllWindows()"
   ]
  },
  {
   "cell_type": "code",
   "execution_count": 12,
   "metadata": {
    "ExecuteTime": {
     "end_time": "2020-09-09T14:56:44.483524Z",
     "start_time": "2020-09-09T14:56:44.478404Z"
    }
   },
   "outputs": [
    {
     "name": "stdout",
     "output_type": "stream",
     "text": [
      "(\"Initilisation de l'objet grille\",)\n"
     ]
    }
   ],
   "source": [
    "# Creation de la grille\n",
    "grid = Grille(X, Y, affichage.Aucun, debug)"
   ]
  },
  {
   "cell_type": "markdown",
   "metadata": {},
   "source": [
    "### Définition d'un obstacle"
   ]
  },
  {
   "cell_type": "code",
   "execution_count": 13,
   "metadata": {
    "ExecuteTime": {
     "end_time": "2020-09-09T14:56:45.740092Z",
     "start_time": "2020-09-09T14:56:45.735268Z"
    }
   },
   "outputs": [],
   "source": [
    "class Obstacle():\n",
    "    def __init__(self, grid,  Xmin, Xmax, Ymin, Ymax, debug):\n",
    "        self.Xmin = Xmin\n",
    "        self.Xmax = Xmax\n",
    "        self.Ymin = Ymin\n",
    "        self.Ymax = Ymax\n",
    "        self.debug = debug\n",
    "        grid.SetObstacle(self)\n",
    "        debug.affiche(\"Création de l'obstacle (\", Xmin, Xmax, \") - (\", Ymin, Ymax, \")\")"
   ]
  },
  {
   "cell_type": "code",
   "execution_count": 14,
   "metadata": {
    "ExecuteTime": {
     "end_time": "2020-09-09T14:56:46.248553Z",
     "start_time": "2020-09-09T14:56:46.238774Z"
    },
    "code_folding": []
   },
   "outputs": [],
   "source": [
    "def read_obstacles(file, grid, Obstacle, debug):\n",
    "    # Lecture de la liste des obstacles et placement sur la grille\n",
    "    line = file.readline()\n",
    "    while line[0]=='#':\t# on saute les commentaires\n",
    "        line = file.readline()\n",
    "\n",
    "    while line[0]!='#':\t# on lit jusqu'au prochain commentaires\n",
    "        coordonnee = line.strip().split(' ')\n",
    "        if int(coordonnee[0])>=0:\n",
    "            assert (int(coordonnee[0])>0 and int(coordonnee[2])>0)\n",
    "            assert (int(coordonnee[1])<X)\n",
    "            assert (int(coordonnee[3])<Y)\n",
    "            Obstacle(grid, int(coordonnee[0]), int(coordonnee[1]), int(coordonnee[2]), int(coordonnee[3]), debug)\n",
    "        else:\n",
    "            debug.affiche(\"obstacle non créé\", coordonnee)\n",
    "        line = file.readline()        \n",
    "\n",
    "    debug.affiche(len(grid.obstacleList), \"obstacles ont été créés\")"
   ]
  },
  {
   "cell_type": "code",
   "execution_count": 15,
   "metadata": {},
   "outputs": [
    {
     "name": "stdout",
     "output_type": "stream",
     "text": [
      "('obstacle non créé', ['-1', '-1', '-1', '-1'])\n",
      "(\"Création de l'obstacle (\", 1, 1, ') - (', 2, 7, ')')\n",
      "(\"Création de l'obstacle (\", 1, 7, ') - (', 8, 8, ')')\n",
      "(2, 'obstacles ont été créés')\n"
     ]
    }
   ],
   "source": [
    "# On lit tous les obstacles contenus dans le fichier de configuration\n",
    "read_obstacles(file, grid, Obstacle, debug)"
   ]
  },
  {
   "cell_type": "code",
   "execution_count": 16,
   "metadata": {
    "ExecuteTime": {
     "end_time": "2020-09-09T14:56:46.829744Z",
     "start_time": "2020-09-09T14:56:46.734536Z"
    }
   },
   "outputs": [
    {
     "data": {
      "image/png": "[encoded data removed]",
      "text/plain": [
       "<Figure size 432x288 with 1 Axes>"
      ]
     },
     "metadata": {
      "needs_background": "light"
     },
     "output_type": "display_data"
    }
   ],
   "source": [
    "# Affichage de la grille\n",
    "plt.imshow(grid.map, cmap='Paired', vmin=0, vmax=5)\n",
    "plt.show()"
   ]
  },
  {
   "cell_type": "markdown",
   "metadata": {},
   "source": [
    "### Définition d'une personne"
   ]
  },
  {
   "cell_type": "code",
   "execution_count": 17,
   "metadata": {
    "ExecuteTime": {
     "end_time": "2020-09-09T14:56:47.956152Z",
     "start_time": "2020-09-09T14:56:47.941709Z"
    }
   },
   "outputs": [],
   "source": [
    "def distance(X, Y):\n",
    "    return int(np.abs(X[0]-Y[0])+np.abs(X[1]-Y[1]))\n",
    "\n",
    "class Personne():\n",
    "    def __init__(self, grid, Xinit, Yinit, Xsortie, Ysortie, debug):\n",
    "        self.X = Xinit\n",
    "        self.Y = Yinit\n",
    "        self.Xsortie = Xsortie\n",
    "        self.Ysortie = Ysortie\n",
    "        self.debug = debug\n",
    "        personneCrée = grid.SetPersonne(self)\n",
    "        if personneCrée:\n",
    "            debug.affiche(\"Création de la personne qui part de\", Xinit, Yinit, \"pour aller à\", Xsortie, Ysortie)\n",
    "    \n",
    "    def getAvailableMove(self, grid): # retourne la liste triée des déplacements possibles\n",
    "        # distance à la grille\n",
    "        dist_actuel = distance((self.X, self.Y), (self.Xsortie, self.Ysortie))\n",
    "        depl = []\n",
    "        # on calcule la distance entre les case adjacente et la sortie\n",
    "        for x in range(self.X-1, self.X+2):\n",
    "            for y in range (self.Y-1, self.Y+2):\n",
    "                if (x!=self.X or y!=self.Y) and (x==self.X or y==self.Y) and (x>=0 and y>=0 and x<grid.Xmax and y<grid.Ymax): # deplacement uniquement points cardinaux\n",
    "                    # on est sur une case adjacente et on est sur la grille\n",
    "                    if grid.isCellEmpty(x, y): # si la case est vide\n",
    "                        dist = distance((self.Xsortie, self.Ysortie), (x,y))\n",
    "                        if (dist<dist_actuel): # on se rappproche\n",
    "                             depl.append((dist, x, y))\n",
    "        return sorted(depl)\n",
    "\n",
    "    def getBetterMove(self, grid):\n",
    "        return self.getAvailableMove(grid)[0]\n",
    "\n",
    "    def Move(self, grid, depl):\n",
    "        debug.affiche(\"Déplacement de la personne de (\", self.X, self.Y, \") à (\", depl[1], depl[2], \")\")\n",
    "        grid.Set(self.X, self.Y, const.EMPTY)\n",
    "        self.X = depl[1]\n",
    "        self.Y = depl[2]\n",
    "        grid.Set(self.X, self.Y, const.PERSONNE)\n",
    "        \n",
    "    def deplacePersonne(self, grid, debug):\n",
    "        if self.X==self.Xsortie and self.Y==self.Ysortie:\n",
    "            # la personne est arrivée à la sortie\n",
    "            # on retire la personne de la liste\n",
    "            grid.personneList.remove(self)\n",
    "            # on libere la case de sortie\n",
    "            grid.Set(self.X, self.Y, const.EMPTY)\n",
    "            return True, False\n",
    "    \n",
    "        # sinon on recherche les déplacements possibles\n",
    "        availableMove = self.getAvailableMove(grid)\n",
    "        debug.affiche(\"La personne (\", self.X, self.Y, \") peut se déplacer sur :\", availableMove)\n",
    "            \n",
    "        if len(availableMove)>0:\n",
    "            # on se déplace sure la nouvelle case\n",
    "            self.Move(grid, availableMove[0]) \n",
    "            return False, False\n",
    "        \n",
    "        # sinon aucun d\"éplacement n'est possible\n",
    "        if grid.UI==affichage.OpenCV:\n",
    "            grid.Set(self.X, self.Y, const.IMMOBILE)\n",
    "        debug.affiche(\"La personne (\", self.X, self.Y, \"ne peut pas se déplacer\")\n",
    "        return False, True"
   ]
  },
  {
   "cell_type": "code",
   "execution_count": 18,
   "metadata": {
    "ExecuteTime": {
     "end_time": "2020-09-09T14:56:48.629455Z",
     "start_time": "2020-09-09T14:56:48.617795Z"
    }
   },
   "outputs": [],
   "source": [
    "def read_personnes(file, grid, Personne, nombre, debug):\n",
    "    # Lecture de la liste des personnes et placement sur la grille\n",
    "    # s'arrête quand le nombre de personnes souhaité est atteind\n",
    "    # Si nombre = -1, on lit jusqu'à la fin du fichier (idem si nombre est supérieur aux nombres de personnes dans le fichier)\n",
    "    line = file.readline()\n",
    "    while line[0]=='#':\t# on saute les commentaires\n",
    "        line = file.readline()\n",
    "        \n",
    "    while line:\t# on lit jusqu'à la fin du fichier\n",
    "        coordonnee = line.strip().split(' ')\n",
    "        if coordonnee[0]!='#':\n",
    "            assert (int(coordonnee[0])>0 and int(coordonnee[1])>0\n",
    "                and int(coordonnee[2])<X or int(coordonnee[3])<Y) # La personne est sur la grille\n",
    "            assert ((int(coordonnee[2])==0 or int(coordonnee[2])==X-1)  # elle sort sur un bord X\n",
    "                and                                                  # et\n",
    "                (int(coordonnee[3])==0 or int(coordonnee[3])==Y-1)) # elle sort sur un bord Y\n",
    "            Personne(grid, int(coordonnee[0]), int(coordonnee[1]), int(coordonnee[2]), int(coordonnee[3]), debug)\n",
    "            \n",
    "        if len(grid.personneList)==nombre:\n",
    "            debug.affiche(len(grid.personneList), \"personnes ont été créées\")\n",
    "            file.close()\n",
    "            return\n",
    "        line = file.readline()\n",
    "    debug.affiche(\"Fermeture du fichier\")\n",
    "    file.close()\n",
    "    \n",
    "    debug.affiche(\"On a lut tout le fichier,\", len(grid.personneList), \"personnes ont été créées\")"
   ]
  },
  {
   "cell_type": "code",
   "execution_count": 19,
   "metadata": {},
   "outputs": [
    {
     "name": "stdout",
     "output_type": "stream",
     "text": [
      "('Création de la personne qui part de', 2, 2, 'pour aller à', 0, 0)\n",
      "('Création de la personne qui part de', 3, 3, 'pour aller à', 0, 9)\n",
      "('Création de la personne qui part de', 6, 6, 'pour aller à', 9, 0)\n",
      "('Création de la personne qui part de', 7, 7, 'pour aller à', 9, 9)\n",
      "('Fermeture du fichier',)\n",
      "('On a lut tout le fichier,', 4, 'personnes ont été créées')\n"
     ]
    }
   ],
   "source": [
    "# On lit toutes les personnes contenues dans le fichier de configuration\n",
    "read_personnes(file, grid, Personne, -1, debug)"
   ]
  },
  {
   "cell_type": "code",
   "execution_count": 20,
   "metadata": {
    "ExecuteTime": {
     "end_time": "2020-09-09T14:56:49.611918Z",
     "start_time": "2020-09-09T14:56:49.518984Z"
    }
   },
   "outputs": [
    {
     "data": {
      "image/png": "[encoded data removed]",
      "text/plain": [
       "<Figure size 432x288 with 1 Axes>"
      ]
     },
     "metadata": {
      "needs_background": "light"
     },
     "output_type": "display_data"
    }
   ],
   "source": [
    "# Affichage de la grille\n",
    "plt.imshow(grid.map, cmap='Paired', vmin=0, vmax=5)\n",
    "plt.show()"
   ]
  },
  {
   "cell_type": "markdown",
   "metadata": {},
   "source": [
    "### Construction d'une image pour OpenCV"
   ]
  },
  {
   "cell_type": "code",
   "execution_count": 21,
   "metadata": {
    "ExecuteTime": {
     "end_time": "2020-09-09T14:56:52.548943Z",
     "start_time": "2020-09-09T14:56:52.539805Z"
    }
   },
   "outputs": [],
   "source": [
    "# Uniquement nécessaire pour la visualisation en OpenCV\n",
    "def createImage(image):\n",
    "    X = image.shape[0]\n",
    "    Y = image.shape[1]\n",
    "    ZOOM = max(min(1024//X, 1024//Y), 1)\n",
    "    img = np.zeros((X*ZOOM, Y*ZOOM, 3), dtype=np.float)\n",
    "    for i in range(X):\n",
    "        for t in range(ZOOM):\n",
    "            for j in range(Y):\n",
    "                for u in range(ZOOM):\n",
    "                    if image[i][j]==const.EMPTY:\n",
    "                        img[ZOOM*i+t][ZOOM*j+u]=affichage.EMPTY\n",
    "                    elif image[i][j]==const.OBSTACLE:\n",
    "                        img[ZOOM*i+t][ZOOM*j+u]=affichage.OBSTACLE\n",
    "                    elif image[i][j]==const.PERSONNE:\n",
    "                        img[ZOOM*i+t][ZOOM*j+u]=affichage.PERSONNE\n",
    "                    elif image[i][j]==const.IMMOBILE:\n",
    "                        img[ZOOM*i+t][ZOOM*j+u]=affichage.IMMOBILE\n",
    "                    elif image[i][j]==const.ARRIVEE:  \n",
    "                        img[ZOOM*i+t][ZOOM*j+u]=affichage.ARRIVEE\n",
    "    return img"
   ]
  },
  {
   "cell_type": "code",
   "execution_count": 22,
   "metadata": {},
   "outputs": [],
   "source": [
    "# Affichage en OpenCV de la grille créée\n",
    "if UI==affichage.OpenCV:\n",
    "    cv2.imshow(\"img\", createImage(grid.map))\n",
    "    cv2.waitKey(5000) # Affichage pendant 5 secondes\n",
    "    cv2.destroyAllWindows()"
   ]
  },
  {
   "cell_type": "markdown",
   "metadata": {},
   "source": [
    "## Utilisation des procédures précédentes pour créer une nouvelle grille qui sera sauvegardée dans un fichier"
   ]
  },
  {
   "cell_type": "code",
   "execution_count": 23,
   "metadata": {},
   "outputs": [
    {
     "name": "stdout",
     "output_type": "stream",
     "text": [
      "(\"Initilisation de l'objet grille\",)\n"
     ]
    }
   ],
   "source": [
    "# Création d'une grille de 1024*1024\n",
    "debug = Debug(True)\n",
    "UI = affichage.Aucun\n",
    "\n",
    "X = 1024\n",
    "Y = 1024\n",
    "grid = Grille(X, Y, UI, debug)"
   ]
  },
  {
   "cell_type": "code",
   "execution_count": 24,
   "metadata": {},
   "outputs": [
    {
     "name": "stdout",
     "output_type": "stream",
     "text": [
      "(\"Création de l'obstacle (\", 5, 81, ') - (', 157, 211, ')')\n",
      "(\"Création de l'obstacle (\", 51, 106, ') - (', 234, 234, ')')\n",
      "(\"Création de l'obstacle (\", 108, 201, ') - (', 139, 343, ')')\n",
      "(\"Création de l'obstacle (\", 153, 243, ') - (', 313, 244, ')')\n",
      "(\"Création de l'obstacle (\", 214, 272, ') - (', 323, 232, ')')\n",
      "(\"Création de l'obstacle (\", 253, 305, ') - (', 362, 322, ')')\n",
      "(\"Création de l'obstacle (\", 310, 379, ') - (', 322, 452, ')')\n",
      "(\"Création de l'obstacle (\", 351, 401, ') - (', 396, 510, ')')\n",
      "(\"Création de l'obstacle (\", 403, 482, ') - (', 481, 673, ')')\n",
      "(\"Création de l'obstacle (\", 454, 510, ') - (', 532, 486, ')')\n",
      "(\"Création de l'obstacle (\", 503, 591, ') - (', 642, 744, ')')\n",
      "(\"Création de l'obstacle (\", 560, 572, ') - (', 591, 616, ')')\n",
      "(\"Création de l'obstacle (\", 601, 691, ') - (', 797, 785, ')')\n",
      "(\"Création de l'obstacle (\", 658, 673, ') - (', 691, 718, ')')\n",
      "(\"Création de l'obstacle (\", 713, 788, ') - (', 823, 860, ')')\n",
      "(\"Création de l'obstacle (\", 752, 761, ') - (', 917, 1022, ')')\n",
      "(16, 'obstacles ont été créés')\n"
     ]
    }
   ],
   "source": [
    "# La grille contient 2^4 obstacles\n",
    "nb_obs = np.power(2,4)\n",
    "\n",
    "coordonnee = np.zeros((4,1), dtype=np.int)\n",
    "for i in range(nb_obs):\n",
    "    for j in range(4):\n",
    "        val_min = 1+50*i+np.random.randint(10)*10*j\n",
    "        if j%2 == 0:\n",
    "            val_max = min(1+val_min+np.random.randint(20), grid.Xmax)\n",
    "        else:\n",
    "            val_max = min(1+val_min+np.random.randint(20), grid.Ymax)\n",
    "        coordonnee[j] = np.random.randint(val_min, val_max)\n",
    "    \n",
    "    assert (int(coordonnee[0])>0 and int(coordonnee[2])>0)\n",
    "    assert (int(coordonnee[1])<X)\n",
    "    assert (int(coordonnee[3])<Y)\n",
    "    Obstacle(grid, int(coordonnee[0]), int(coordonnee[1]), int(coordonnee[2]), int(coordonnee[3]), debug)\n",
    "    \n",
    "debug.affiche(len(grid.obstacleList), \"obstacles ont été créés\")"
   ]
  },
  {
   "cell_type": "code",
   "execution_count": 25,
   "metadata": {},
   "outputs": [
    {
     "name": "stdout",
     "output_type": "stream",
     "text": [
      "('Création de la personne qui part de', 193, 903, 'pour aller à', 1023, 1023)\n",
      "('Création de la personne qui part de', 691, 446, 'pour aller à', 0, 0)\n",
      "('Création de la personne qui part de', 16, 53, 'pour aller à', 0, 0)\n",
      "('Création de la personne qui part de', 888, 102, 'pour aller à', 1023, 0)\n",
      "('Création de la personne qui part de', 525, 624, 'pour aller à', 1023, 1023)\n",
      "('Création de la personne qui part de', 677, 560, 'pour aller à', 0, 0)\n",
      "('Création de la personne qui part de', 933, 542, 'pour aller à', 1023, 0)\n",
      "('Création de la personne qui part de', 908, 527, 'pour aller à', 1023, 1023)\n",
      "('Création de la personne qui part de', 858, 759, 'pour aller à', 1023, 0)\n",
      "('Création de la personne qui part de', 263, 103, 'pour aller à', 0, 1023)\n",
      "('Création de la personne qui part de', 990, 541, 'pour aller à', 1023, 0)\n",
      "('Création de la personne qui part de', 73, 60, 'pour aller à', 0, 0)\n",
      "('Création de la personne qui part de', 1013, 151, 'pour aller à', 0, 0)\n",
      "('Création de la personne qui part de', 526, 526, 'pour aller à', 1023, 1023)\n",
      "('Création de la personne qui part de', 556, 5, 'pour aller à', 0, 1023)\n",
      "('Création de la personne qui part de', 868, 720, 'pour aller à', 0, 0)\n",
      "('Création de la personne qui part de', 954, 162, 'pour aller à', 1023, 1023)\n",
      "('Création de la personne qui part de', 314, 902, 'pour aller à', 1023, 1023)\n",
      "('Création de la personne qui part de', 77, 369, 'pour aller à', 0, 0)\n",
      "('Création de la personne qui part de', 808, 348, 'pour aller à', 0, 0)\n",
      "('Création de la personne qui part de', 656, 654, 'pour aller à', 1023, 0)\n",
      "('Création de la personne qui part de', 579, 901, 'pour aller à', 0, 1023)\n",
      "('Création de la personne qui part de', 658, 239, 'pour aller à', 1023, 1023)\n",
      "('Création de la personne qui part de', 97, 627, 'pour aller à', 0, 1023)\n",
      "('Création de la personne qui part de', 519, 790, 'pour aller à', 1023, 0)\n",
      "('Création de la personne qui part de', 932, 28, 'pour aller à', 1023, 0)\n",
      "('Création de la personne qui part de', 768, 185, 'pour aller à', 1023, 1023)\n",
      "('Création de la personne qui part de', 195, 701, 'pour aller à', 1023, 1023)\n",
      "('Création de la personne qui part de', 516, 384, 'pour aller à', 0, 1023)\n",
      "('Création de la personne qui part de', 1001, 865, 'pour aller à', 0, 0)\n",
      "('Création de la personne qui part de', 780, 862, 'pour aller à', 1023, 0)\n",
      "('Création de la personne qui part de', 48, 848, 'pour aller à', 1023, 0)\n",
      "('Création de la personne qui part de', 952, 74, 'pour aller à', 1023, 1023)\n",
      "('Création de la personne qui part de', 398, 289, 'pour aller à', 1023, 0)\n",
      "('Création de la personne qui part de', 105, 254, 'pour aller à', 1023, 0)\n",
      "('Création de la personne qui part de', 305, 887, 'pour aller à', 0, 0)\n",
      "('Création de la personne qui part de', 550, 823, 'pour aller à', 1023, 0)\n",
      "('Création de la personne qui part de', 810, 405, 'pour aller à', 1023, 0)\n",
      "('Personne non créée, la place est occupée', 180, 186)\n",
      "('Création de la personne qui part de', 148, 97, 'pour aller à', 1023, 0)\n",
      "('Création de la personne qui part de', 230, 400, 'pour aller à', 0, 0)\n",
      "('Création de la personne qui part de', 789, 883, 'pour aller à', 1023, 0)\n",
      "('Création de la personne qui part de', 912, 516, 'pour aller à', 1023, 0)\n",
      "('Création de la personne qui part de', 226, 848, 'pour aller à', 0, 1023)\n",
      "('Création de la personne qui part de', 535, 330, 'pour aller à', 1023, 1023)\n",
      "('Création de la personne qui part de', 337, 642, 'pour aller à', 1023, 1023)\n",
      "('Création de la personne qui part de', 12, 368, 'pour aller à', 0, 1023)\n",
      "('Création de la personne qui part de', 971, 883, 'pour aller à', 0, 0)\n",
      "('Création de la personne qui part de', 860, 679, 'pour aller à', 1023, 0)\n",
      "('Création de la personne qui part de', 4, 45, 'pour aller à', 0, 1023)\n",
      "('Création de la personne qui part de', 289, 745, 'pour aller à', 1023, 0)\n",
      "('Création de la personne qui part de', 466, 14, 'pour aller à', 0, 1023)\n",
      "('Création de la personne qui part de', 689, 881, 'pour aller à', 1023, 0)\n",
      "('Création de la personne qui part de', 854, 892, 'pour aller à', 1023, 0)\n",
      "('Création de la personne qui part de', 126, 914, 'pour aller à', 0, 1023)\n",
      "('Création de la personne qui part de', 354, 185, 'pour aller à', 0, 1023)\n",
      "('Création de la personne qui part de', 508, 603, 'pour aller à', 0, 1023)\n",
      "('Création de la personne qui part de', 763, 518, 'pour aller à', 0, 1023)\n",
      "('Création de la personne qui part de', 490, 616, 'pour aller à', 0, 0)\n",
      "('Personne non créée, la place est occupée', 7, 179)\n",
      "('Création de la personne qui part de', 745, 348, 'pour aller à', 0, 1023)\n",
      "('Création de la personne qui part de', 227, 928, 'pour aller à', 1023, 1023)\n",
      "('Création de la personne qui part de', 556, 456, 'pour aller à', 0, 1023)\n",
      "('Création de la personne qui part de', 802, 589, 'pour aller à', 0, 1023)\n",
      "('Création de la personne qui part de', 675, 695, 'pour aller à', 0, 1023)\n",
      "('Création de la personne qui part de', 893, 750, 'pour aller à', 1023, 1023)\n",
      "('Création de la personne qui part de', 692, 807, 'pour aller à', 1023, 1023)\n",
      "('Création de la personne qui part de', 145, 114, 'pour aller à', 0, 1023)\n",
      "('Création de la personne qui part de', 318, 5, 'pour aller à', 0, 1023)\n",
      "('Création de la personne qui part de', 826, 711, 'pour aller à', 0, 1023)\n",
      "('Création de la personne qui part de', 927, 517, 'pour aller à', 1023, 0)\n",
      "('Création de la personne qui part de', 729, 528, 'pour aller à', 0, 1023)\n",
      "('Création de la personne qui part de', 90, 256, 'pour aller à', 1023, 1023)\n",
      "('Création de la personne qui part de', 64, 356, 'pour aller à', 1023, 0)\n",
      "('Création de la personne qui part de', 1011, 947, 'pour aller à', 1023, 0)\n",
      "('Création de la personne qui part de', 996, 398, 'pour aller à', 1023, 0)\n",
      "('Création de la personne qui part de', 766, 407, 'pour aller à', 1023, 0)\n",
      "('Création de la personne qui part de', 814, 502, 'pour aller à', 0, 1023)\n",
      "('Création de la personne qui part de', 494, 273, 'pour aller à', 1023, 0)\n",
      "('Création de la personne qui part de', 172, 540, 'pour aller à', 0, 1023)\n",
      "('Création de la personne qui part de', 374, 929, 'pour aller à', 1023, 1023)\n",
      "('Création de la personne qui part de', 304, 824, 'pour aller à', 1023, 1023)\n",
      "('Création de la personne qui part de', 664, 209, 'pour aller à', 0, 0)\n",
      "('Création de la personne qui part de', 186, 621, 'pour aller à', 0, 0)\n",
      "('Création de la personne qui part de', 195, 429, 'pour aller à', 0, 0)\n",
      "('Création de la personne qui part de', 104, 192, 'pour aller à', 1023, 1023)\n",
      "('Création de la personne qui part de', 374, 843, 'pour aller à', 1023, 1023)\n",
      "('Création de la personne qui part de', 355, 165, 'pour aller à', 1023, 0)\n",
      "('Création de la personne qui part de', 938, 674, 'pour aller à', 0, 0)\n",
      "('Création de la personne qui part de', 23, 353, 'pour aller à', 1023, 0)\n",
      "('Création de la personne qui part de', 729, 631, 'pour aller à', 1023, 1023)\n",
      "('Création de la personne qui part de', 820, 892, 'pour aller à', 1023, 1023)\n",
      "('Création de la personne qui part de', 57, 569, 'pour aller à', 0, 1023)\n",
      "('Création de la personne qui part de', 529, 526, 'pour aller à', 0, 1023)\n",
      "('Création de la personne qui part de', 295, 638, 'pour aller à', 0, 0)\n",
      "('Création de la personne qui part de', 496, 313, 'pour aller à', 0, 1023)\n",
      "('Création de la personne qui part de', 483, 454, 'pour aller à', 1023, 0)\n",
      "('Création de la personne qui part de', 147, 574, 'pour aller à', 0, 0)\n",
      "('Création de la personne qui part de', 125, 927, 'pour aller à', 0, 1023)\n",
      "('Création de la personne qui part de', 220, 259, 'pour aller à', 0, 0)\n",
      "('Création de la personne qui part de', 284, 749, 'pour aller à', 1023, 0)\n",
      "('Création de la personne qui part de', 920, 491, 'pour aller à', 0, 0)\n",
      "('Création de la personne qui part de', 375, 635, 'pour aller à', 1023, 1023)\n",
      "('Création de la personne qui part de', 136, 365, 'pour aller à', 1023, 0)\n",
      "('Création de la personne qui part de', 474, 1014, 'pour aller à', 0, 1023)\n",
      "('Création de la personne qui part de', 897, 20, 'pour aller à', 0, 1023)\n",
      "('Création de la personne qui part de', 875, 701, 'pour aller à', 0, 1023)\n",
      "('Création de la personne qui part de', 28, 244, 'pour aller à', 0, 1023)\n",
      "('Création de la personne qui part de', 921, 330, 'pour aller à', 1023, 0)\n",
      "('Création de la personne qui part de', 601, 85, 'pour aller à', 0, 0)\n",
      "('Création de la personne qui part de', 641, 554, 'pour aller à', 0, 0)\n",
      "('Création de la personne qui part de', 718, 1010, 'pour aller à', 0, 1023)\n",
      "('Création de la personne qui part de', 411, 138, 'pour aller à', 1023, 0)\n",
      "('Création de la personne qui part de', 687, 48, 'pour aller à', 1023, 1023)\n",
      "('Création de la personne qui part de', 846, 133, 'pour aller à', 0, 1023)\n",
      "('Création de la personne qui part de', 208, 976, 'pour aller à', 1023, 1023)\n",
      "('Création de la personne qui part de', 999, 203, 'pour aller à', 1023, 1023)\n",
      "('Création de la personne qui part de', 594, 468, 'pour aller à', 0, 1023)\n",
      "('Création de la personne qui part de', 17, 919, 'pour aller à', 1023, 0)\n",
      "('Création de la personne qui part de', 900, 342, 'pour aller à', 1023, 1023)\n",
      "('Création de la personne qui part de', 568, 145, 'pour aller à', 1023, 0)\n",
      "('Création de la personne qui part de', 364, 948, 'pour aller à', 0, 1023)\n",
      "('Création de la personne qui part de', 107, 188, 'pour aller à', 0, 1023)\n",
      "('Création de la personne qui part de', 587, 876, 'pour aller à', 0, 0)\n",
      "('Création de la personne qui part de', 677, 50, 'pour aller à', 0, 1023)\n",
      "('Création de la personne qui part de', 817, 308, 'pour aller à', 0, 1023)\n",
      "('Personne non créée, la place est occupée', 396, 428)\n",
      "('Création de la personne qui part de', 276, 43, 'pour aller à', 0, 0)\n",
      "('Création de la personne qui part de', 446, 954, 'pour aller à', 1023, 0)\n",
      "('Création de la personne qui part de', 956, 466, 'pour aller à', 1023, 0)\n",
      "('Création de la personne qui part de', 243, 248, 'pour aller à', 1023, 1023)\n",
      "('Création de la personne qui part de', 694, 165, 'pour aller à', 0, 1023)\n",
      "('Création de la personne qui part de', 988, 289, 'pour aller à', 0, 1023)\n",
      "('Création de la personne qui part de', 326, 984, 'pour aller à', 1023, 0)\n",
      "('Création de la personne qui part de', 95, 76, 'pour aller à', 1023, 1023)\n",
      "('Création de la personne qui part de', 788, 720, 'pour aller à', 1023, 1023)\n",
      "('Création de la personne qui part de', 769, 401, 'pour aller à', 1023, 1023)\n",
      "('Création de la personne qui part de', 709, 1008, 'pour aller à', 1023, 1023)\n",
      "('Création de la personne qui part de', 871, 261, 'pour aller à', 1023, 0)\n",
      "('Création de la personne qui part de', 422, 198, 'pour aller à', 1023, 1023)\n",
      "('Création de la personne qui part de', 841, 367, 'pour aller à', 0, 1023)\n",
      "('Création de la personne qui part de', 349, 315, 'pour aller à', 1023, 1023)\n",
      "('Création de la personne qui part de', 62, 358, 'pour aller à', 0, 0)\n",
      "('Création de la personne qui part de', 648, 70, 'pour aller à', 1023, 0)\n",
      "('Création de la personne qui part de', 29, 852, 'pour aller à', 1023, 0)\n",
      "('Création de la personne qui part de', 221, 510, 'pour aller à', 0, 1023)\n",
      "('Création de la personne qui part de', 16, 872, 'pour aller à', 1023, 1023)\n",
      "('Création de la personne qui part de', 396, 690, 'pour aller à', 1023, 0)\n",
      "('Création de la personne qui part de', 920, 607, 'pour aller à', 1023, 1023)\n",
      "('Création de la personne qui part de', 814, 85, 'pour aller à', 1023, 1023)\n",
      "('Création de la personne qui part de', 421, 674, 'pour aller à', 0, 0)\n",
      "('Création de la personne qui part de', 1020, 348, 'pour aller à', 1023, 0)\n",
      "('Création de la personne qui part de', 186, 710, 'pour aller à', 1023, 1023)\n",
      "('Personne non créée, la place est occupée', 531, 721)\n",
      "('Personne non créée, la place est occupée', 540, 673)\n",
      "('Création de la personne qui part de', 700, 154, 'pour aller à', 1023, 0)\n",
      "('Création de la personne qui part de', 159, 370, 'pour aller à', 0, 0)\n",
      "('Création de la personne qui part de', 840, 571, 'pour aller à', 0, 0)\n",
      "('Création de la personne qui part de', 238, 306, 'pour aller à', 0, 0)\n",
      "('Création de la personne qui part de', 871, 469, 'pour aller à', 0, 0)\n",
      "('Création de la personne qui part de', 203, 436, 'pour aller à', 1023, 1023)\n",
      "('Création de la personne qui part de', 300, 204, 'pour aller à', 1023, 0)\n",
      "('Création de la personne qui part de', 17, 543, 'pour aller à', 0, 0)\n",
      "('Création de la personne qui part de', 447, 992, 'pour aller à', 1023, 1023)\n",
      "('Création de la personne qui part de', 988, 439, 'pour aller à', 0, 0)\n",
      "('Création de la personne qui part de', 409, 808, 'pour aller à', 0, 0)\n",
      "('Création de la personne qui part de', 527, 528, 'pour aller à', 0, 1023)\n",
      "('Création de la personne qui part de', 830, 199, 'pour aller à', 0, 0)\n",
      "('Création de la personne qui part de', 498, 373, 'pour aller à', 1023, 0)\n",
      "('Création de la personne qui part de', 203, 908, 'pour aller à', 0, 0)\n",
      "('Création de la personne qui part de', 462, 450, 'pour aller à', 1023, 0)\n",
      "('Création de la personne qui part de', 924, 180, 'pour aller à', 0, 0)\n",
      "('Création de la personne qui part de', 834, 246, 'pour aller à', 1023, 0)\n",
      "('Création de la personne qui part de', 126, 412, 'pour aller à', 0, 1023)\n",
      "('Création de la personne qui part de', 985, 963, 'pour aller à', 0, 1023)\n",
      "('Création de la personne qui part de', 693, 1005, 'pour aller à', 0, 0)\n",
      "('Création de la personne qui part de', 553, 807, 'pour aller à', 0, 1023)\n",
      "('Création de la personne qui part de', 342, 154, 'pour aller à', 1023, 0)\n",
      "('Création de la personne qui part de', 153, 713, 'pour aller à', 0, 0)\n",
      "('Création de la personne qui part de', 406, 87, 'pour aller à', 1023, 1023)\n",
      "('Création de la personne qui part de', 166, 839, 'pour aller à', 1023, 0)\n",
      "('Personne non créée, la place est occupée', 32, 159)\n",
      "('Création de la personne qui part de', 270, 976, 'pour aller à', 0, 0)\n",
      "('Création de la personne qui part de', 81, 461, 'pour aller à', 0, 0)\n",
      "('Création de la personne qui part de', 94, 387, 'pour aller à', 1023, 0)\n",
      "('Création de la personne qui part de', 173, 127, 'pour aller à', 1023, 1023)\n",
      "('Création de la personne qui part de', 99, 1017, 'pour aller à', 1023, 0)\n",
      "('Création de la personne qui part de', 223, 467, 'pour aller à', 0, 1023)\n",
      "('Création de la personne qui part de', 610, 668, 'pour aller à', 1023, 1023)\n",
      "('Création de la personne qui part de', 553, 610, 'pour aller à', 0, 0)\n",
      "('Création de la personne qui part de', 438, 1013, 'pour aller à', 1023, 1023)\n",
      "('Création de la personne qui part de', 969, 163, 'pour aller à', 1023, 1023)\n",
      "('Création de la personne qui part de', 99, 572, 'pour aller à', 1023, 1023)\n",
      "('Création de la personne qui part de', 115, 688, 'pour aller à', 1023, 1023)\n",
      "('Création de la personne qui part de', 830, 32, 'pour aller à', 1023, 1023)\n",
      "('Personne non créée, la place est occupée', 120, 144)\n",
      "('Création de la personne qui part de', 574, 65, 'pour aller à', 0, 0)\n",
      "('Création de la personne qui part de', 150, 63, 'pour aller à', 0, 1023)\n",
      "('Création de la personne qui part de', 528, 483, 'pour aller à', 0, 0)\n",
      "('Création de la personne qui part de', 303, 395, 'pour aller à', 0, 0)\n",
      "('Création de la personne qui part de', 931, 792, 'pour aller à', 0, 1023)\n",
      "('Création de la personne qui part de', 997, 968, 'pour aller à', 1023, 1023)\n",
      "('Création de la personne qui part de', 375, 20, 'pour aller à', 0, 1023)\n",
      "('Personne non créée, la place est occupée', 162, 319)\n",
      "('Personne non créée, la place est occupée', 128, 288)\n",
      "('Création de la personne qui part de', 900, 313, 'pour aller à', 0, 0)\n",
      "('Création de la personne qui part de', 750, 364, 'pour aller à', 0, 0)\n",
      "('Création de la personne qui part de', 140, 496, 'pour aller à', 1023, 0)\n",
      "('Personne non créée, la place est occupée', 520, 716)\n",
      "('Création de la personne qui part de', 941, 775, 'pour aller à', 1023, 0)\n",
      "('Création de la personne qui part de', 564, 408, 'pour aller à', 0, 0)\n",
      "('Création de la personne qui part de', 325, 198, 'pour aller à', 0, 1023)\n",
      "('Personne non créée, la place est occupée', 320, 330)\n",
      "('Création de la personne qui part de', 347, 841, 'pour aller à', 0, 1023)\n",
      "('Création de la personne qui part de', 988, 217, 'pour aller à', 0, 0)\n",
      "('Création de la personne qui part de', 448, 390, 'pour aller à', 0, 0)\n",
      "('Création de la personne qui part de', 1018, 895, 'pour aller à', 0, 1023)\n",
      "('Création de la personne qui part de', 820, 335, 'pour aller à', 1023, 0)\n",
      "('Création de la personne qui part de', 470, 208, 'pour aller à', 0, 0)\n",
      "('Création de la personne qui part de', 424, 21, 'pour aller à', 0, 1023)\n",
      "('Création de la personne qui part de', 314, 668, 'pour aller à', 0, 0)\n",
      "('Création de la personne qui part de', 202, 75, 'pour aller à', 0, 0)\n",
      "('Création de la personne qui part de', 939, 174, 'pour aller à', 0, 1023)\n",
      "('Création de la personne qui part de', 571, 1, 'pour aller à', 0, 0)\n",
      "('Création de la personne qui part de', 928, 275, 'pour aller à', 0, 1023)\n",
      "('Création de la personne qui part de', 984, 780, 'pour aller à', 0, 1023)\n",
      "('Création de la personne qui part de', 51, 802, 'pour aller à', 1023, 1023)\n",
      "('Création de la personne qui part de', 916, 686, 'pour aller à', 1023, 0)\n",
      "('Création de la personne qui part de', 298, 743, 'pour aller à', 0, 1023)\n",
      "('Personne non créée, la place est occupée', 661, 713)\n",
      "('Création de la personne qui part de', 907, 128, 'pour aller à', 1023, 1023)\n",
      "('Création de la personne qui part de', 527, 121, 'pour aller à', 1023, 1023)\n",
      "('Création de la personne qui part de', 351, 264, 'pour aller à', 1023, 1023)\n",
      "('Création de la personne qui part de', 91, 860, 'pour aller à', 1023, 0)\n",
      "('Création de la personne qui part de', 389, 387, 'pour aller à', 0, 1023)\n",
      "('Création de la personne qui part de', 908, 948, 'pour aller à', 0, 1023)\n",
      "('Personne non créée, la place est occupée', 319, 336)\n",
      "('Création de la personne qui part de', 917, 286, 'pour aller à', 0, 0)\n",
      "('Création de la personne qui part de', 508, 33, 'pour aller à', 1023, 1023)\n",
      "('Création de la personne qui part de', 648, 430, 'pour aller à', 0, 1023)\n",
      "('Création de la personne qui part de', 656, 500, 'pour aller à', 1023, 1023)\n",
      "('Création de la personne qui part de', 211, 207, 'pour aller à', 1023, 0)\n",
      "('Création de la personne qui part de', 611, 612, 'pour aller à', 1023, 1023)\n",
      "('Création de la personne qui part de', 390, 845, 'pour aller à', 0, 0)\n",
      "('Création de la personne qui part de', 522, 612, 'pour aller à', 0, 1023)\n",
      "('Création de la personne qui part de', 376, 769, 'pour aller à', 0, 0)\n",
      "('Création de la personne qui part de', 306, 883, 'pour aller à', 1023, 0)\n",
      "('Création de la personne qui part de', 431, 259, 'pour aller à', 1023, 0)\n",
      "('Création de la personne qui part de', 108, 636, 'pour aller à', 0, 1023)\n",
      "('Création de la personne qui part de', 195, 1000, 'pour aller à', 1023, 1023)\n",
      "('Création de la personne qui part de', 668, 872, 'pour aller à', 0, 1023)\n",
      "('Création de la personne qui part de', 860, 914, 'pour aller à', 0, 0)\n",
      "('Personne non créée, la place est occupée', 189, 336)\n",
      "('Personne non créée, la place est occupée', 392, 424)\n",
      "('Création de la personne qui part de', 389, 352, 'pour aller à', 1023, 1023)\n",
      "('Création de la personne qui part de', 249, 345, 'pour aller à', 1023, 1023)\n",
      "('Personne non créée, la place est occupée', 569, 719)\n",
      "('Création de la personne qui part de', 500, 925, 'pour aller à', 0, 1023)\n",
      "('Création de la personne qui part de', 246, 294, 'pour aller à', 1023, 0)\n",
      "('Création de la personne qui part de', 759, 646, 'pour aller à', 0, 1023)\n",
      "('Création de la personne qui part de', 545, 528, 'pour aller à', 1023, 0)\n",
      "('Création de la personne qui part de', 792, 426, 'pour aller à', 1023, 1023)\n",
      "('Personne non créée, la place est occupée', 520, 735)\n",
      "('Création de la personne qui part de', 810, 704, 'pour aller à', 0, 0)\n",
      "('Création de la personne qui part de', 253, 29, 'pour aller à', 0, 1023)\n",
      "('Création de la personne qui part de', 34, 574, 'pour aller à', 0, 1023)\n",
      "('Création de la personne qui part de', 738, 644, 'pour aller à', 0, 1023)\n",
      "('Création de la personne qui part de', 176, 627, 'pour aller à', 0, 0)\n",
      "('Création de la personne qui part de', 159, 873, 'pour aller à', 1023, 1023)\n",
      "('Création de la personne qui part de', 525, 911, 'pour aller à', 0, 0)\n",
      "('Création de la personne qui part de', 494, 1015, 'pour aller à', 0, 1023)\n",
      "('Création de la personne qui part de', 928, 503, 'pour aller à', 0, 0)\n",
      "('Création de la personne qui part de', 513, 291, 'pour aller à', 1023, 1023)\n",
      "('Création de la personne qui part de', 942, 123, 'pour aller à', 1023, 0)\n",
      "('Création de la personne qui part de', 802, 456, 'pour aller à', 0, 1023)\n",
      "('Création de la personne qui part de', 146, 99, 'pour aller à', 1023, 1023)\n",
      "('Création de la personne qui part de', 145, 585, 'pour aller à', 0, 1023)\n",
      "('Création de la personne qui part de', 356, 604, 'pour aller à', 1023, 1023)\n",
      "('Création de la personne qui part de', 262, 540, 'pour aller à', 0, 1023)\n",
      "('Création de la personne qui part de', 561, 519, 'pour aller à', 1023, 0)\n",
      "('Création de la personne qui part de', 107, 958, 'pour aller à', 1023, 0)\n",
      "('Création de la personne qui part de', 995, 455, 'pour aller à', 1023, 0)\n",
      "('Création de la personne qui part de', 93, 261, 'pour aller à', 1023, 0)\n",
      "('Création de la personne qui part de', 267, 455, 'pour aller à', 1023, 0)\n",
      "('Création de la personne qui part de', 880, 302, 'pour aller à', 1023, 1023)\n",
      "('Création de la personne qui part de', 221, 693, 'pour aller à', 0, 0)\n",
      "('Création de la personne qui part de', 261, 618, 'pour aller à', 0, 1023)\n",
      "('Création de la personne qui part de', 967, 780, 'pour aller à', 0, 0)\n",
      "('Création de la personne qui part de', 29, 739, 'pour aller à', 0, 0)\n",
      "('Création de la personne qui part de', 48, 226, 'pour aller à', 1023, 0)\n",
      "('Création de la personne qui part de', 204, 573, 'pour aller à', 0, 1023)\n",
      "('Création de la personne qui part de', 935, 564, 'pour aller à', 0, 0)\n",
      "('Personne non créée, la place est occupée', 376, 500)\n",
      "('Création de la personne qui part de', 865, 184, 'pour aller à', 0, 1023)\n",
      "('Création de la personne qui part de', 973, 226, 'pour aller à', 1023, 1023)\n",
      "('Création de la personne qui part de', 266, 774, 'pour aller à', 0, 0)\n",
      "('Création de la personne qui part de', 294, 896, 'pour aller à', 1023, 0)\n",
      "('Création de la personne qui part de', 748, 882, 'pour aller à', 0, 1023)\n",
      "('Création de la personne qui part de', 448, 717, 'pour aller à', 0, 0)\n",
      "('Création de la personne qui part de', 53, 355, 'pour aller à', 1023, 1023)\n",
      "('Création de la personne qui part de', 495, 810, 'pour aller à', 0, 0)\n",
      "('Création de la personne qui part de', 476, 314, 'pour aller à', 0, 0)\n",
      "('Création de la personne qui part de', 702, 855, 'pour aller à', 0, 1023)\n",
      "('Création de la personne qui part de', 482, 177, 'pour aller à', 0, 1023)\n",
      "('Création de la personne qui part de', 865, 182, 'pour aller à', 1023, 1023)\n",
      "('Création de la personne qui part de', 468, 311, 'pour aller à', 1023, 1023)\n",
      "('Création de la personne qui part de', 787, 991, 'pour aller à', 1023, 0)\n",
      "('Création de la personne qui part de', 725, 107, 'pour aller à', 0, 1023)\n",
      "('Création de la personne qui part de', 781, 29, 'pour aller à', 1023, 0)\n",
      "('Création de la personne qui part de', 598, 990, 'pour aller à', 0, 0)\n",
      "('Création de la personne qui part de', 609, 210, 'pour aller à', 0, 0)\n",
      "('Création de la personne qui part de', 117, 982, 'pour aller à', 1023, 0)\n",
      "('Création de la personne qui part de', 611, 753, 'pour aller à', 0, 0)\n",
      "('Création de la personne qui part de', 428, 400, 'pour aller à', 1023, 1023)\n",
      "('Création de la personne qui part de', 487, 260, 'pour aller à', 1023, 0)\n",
      "('Création de la personne qui part de', 977, 914, 'pour aller à', 0, 1023)\n",
      "('Création de la personne qui part de', 673, 310, 'pour aller à', 0, 0)\n",
      "('Création de la personne qui part de', 865, 893, 'pour aller à', 1023, 0)\n",
      "('Création de la personne qui part de', 881, 147, 'pour aller à', 1023, 0)\n",
      "('Création de la personne qui part de', 626, 91, 'pour aller à', 1023, 0)\n",
      "('Création de la personne qui part de', 912, 407, 'pour aller à', 1023, 0)\n",
      "('Création de la personne qui part de', 623, 496, 'pour aller à', 0, 1023)\n",
      "('Création de la personne qui part de', 701, 983, 'pour aller à', 0, 0)\n",
      "('Création de la personne qui part de', 222, 578, 'pour aller à', 0, 0)\n",
      "('Création de la personne qui part de', 369, 144, 'pour aller à', 1023, 0)\n",
      "('Création de la personne qui part de', 497, 554, 'pour aller à', 1023, 1023)\n",
      "('Création de la personne qui part de', 805, 784, 'pour aller à', 0, 1023)\n",
      "('Création de la personne qui part de', 166, 753, 'pour aller à', 0, 1023)\n",
      "('Création de la personne qui part de', 778, 712, 'pour aller à', 0, 1023)\n",
      "('Création de la personne qui part de', 559, 36, 'pour aller à', 0, 1023)\n",
      "('Création de la personne qui part de', 193, 707, 'pour aller à', 0, 0)\n",
      "('Création de la personne qui part de', 286, 167, 'pour aller à', 1023, 1023)\n",
      "('Création de la personne qui part de', 619, 727, 'pour aller à', 0, 1023)\n",
      "('Création de la personne qui part de', 641, 811, 'pour aller à', 1023, 0)\n",
      "('Création de la personne qui part de', 579, 111, 'pour aller à', 0, 0)\n",
      "('Création de la personne qui part de', 380, 1016, 'pour aller à', 0, 0)\n",
      "('Création de la personne qui part de', 231, 426, 'pour aller à', 0, 1023)\n",
      "('Création de la personne qui part de', 760, 669, 'pour aller à', 0, 1023)\n",
      "('Création de la personne qui part de', 801, 605, 'pour aller à', 1023, 0)\n",
      "('Création de la personne qui part de', 666, 135, 'pour aller à', 0, 0)\n",
      "('Création de la personne qui part de', 693, 527, 'pour aller à', 0, 1023)\n",
      "('Création de la personne qui part de', 86, 704, 'pour aller à', 0, 1023)\n",
      "('Création de la personne qui part de', 16, 224, 'pour aller à', 0, 0)\n",
      "('Création de la personne qui part de', 766, 32, 'pour aller à', 0, 1023)\n",
      "('Création de la personne qui part de', 463, 229, 'pour aller à', 0, 1023)\n",
      "('Création de la personne qui part de', 574, 984, 'pour aller à', 1023, 0)\n",
      "('Création de la personne qui part de', 753, 331, 'pour aller à', 0, 0)\n",
      "('Création de la personne qui part de', 628, 662, 'pour aller à', 0, 0)\n",
      "('Création de la personne qui part de', 139, 690, 'pour aller à', 1023, 1023)\n",
      "('Création de la personne qui part de', 648, 800, 'pour aller à', 0, 1023)\n",
      "('Création de la personne qui part de', 753, 154, 'pour aller à', 0, 0)\n",
      "('Création de la personne qui part de', 957, 709, 'pour aller à', 1023, 1023)\n",
      "('Création de la personne qui part de', 35, 623, 'pour aller à', 0, 0)\n",
      "('Création de la personne qui part de', 690, 686, 'pour aller à', 0, 0)\n",
      "('Création de la personne qui part de', 29, 750, 'pour aller à', 1023, 1023)\n",
      "('Création de la personne qui part de', 967, 689, 'pour aller à', 1023, 0)\n",
      "('Création de la personne qui part de', 462, 748, 'pour aller à', 1023, 1023)\n",
      "('Création de la personne qui part de', 447, 165, 'pour aller à', 1023, 0)\n",
      "('Création de la personne qui part de', 580, 215, 'pour aller à', 0, 1023)\n",
      "('Personne non créée, la place est occupée', 449, 510)\n",
      "('Création de la personne qui part de', 106, 701, 'pour aller à', 0, 0)\n",
      "('Création de la personne qui part de', 793, 301, 'pour aller à', 1023, 0)\n",
      "('Création de la personne qui part de', 26, 406, 'pour aller à', 0, 0)\n",
      "('Création de la personne qui part de', 485, 306, 'pour aller à', 0, 1023)\n",
      "('Création de la personne qui part de', 488, 673, 'pour aller à', 0, 0)\n",
      "('Création de la personne qui part de', 923, 679, 'pour aller à', 1023, 1023)\n",
      "('Création de la personne qui part de', 434, 26, 'pour aller à', 1023, 0)\n",
      "('Création de la personne qui part de', 512, 850, 'pour aller à', 0, 1023)\n",
      "('Création de la personne qui part de', 390, 993, 'pour aller à', 1023, 0)\n",
      "('Création de la personne qui part de', 132, 621, 'pour aller à', 1023, 0)\n",
      "('Création de la personne qui part de', 108, 375, 'pour aller à', 1023, 0)\n",
      "('Création de la personne qui part de', 781, 478, 'pour aller à', 0, 1023)\n",
      "('Création de la personne qui part de', 338, 830, 'pour aller à', 1023, 1023)\n",
      "('Création de la personne qui part de', 296, 3, 'pour aller à', 1023, 1023)\n",
      "('Création de la personne qui part de', 652, 614, 'pour aller à', 1023, 0)\n",
      "('Création de la personne qui part de', 276, 303, 'pour aller à', 1023, 1023)\n",
      "('Création de la personne qui part de', 870, 112, 'pour aller à', 0, 1023)\n",
      "('Création de la personne qui part de', 26, 773, 'pour aller à', 0, 0)\n",
      "('Création de la personne qui part de', 253, 1023, 'pour aller à', 1023, 1023)\n",
      "('Création de la personne qui part de', 265, 173, 'pour aller à', 0, 0)\n",
      "('Création de la personne qui part de', 573, 563, 'pour aller à', 0, 0)\n",
      "('Création de la personne qui part de', 51, 772, 'pour aller à', 0, 0)\n",
      "('Création de la personne qui part de', 5, 138, 'pour aller à', 1023, 1023)\n",
      "('Création de la personne qui part de', 729, 506, 'pour aller à', 0, 1023)\n",
      "('Création de la personne qui part de', 65, 10, 'pour aller à', 0, 1023)\n",
      "('Création de la personne qui part de', 988, 848, 'pour aller à', 0, 1023)\n",
      "('Création de la personne qui part de', 189, 859, 'pour aller à', 0, 1023)\n",
      "('Création de la personne qui part de', 63, 243, 'pour aller à', 0, 0)\n",
      "('Création de la personne qui part de', 825, 405, 'pour aller à', 0, 1023)\n",
      "('Création de la personne qui part de', 262, 207, 'pour aller à', 0, 1023)\n",
      "('Création de la personne qui part de', 555, 165, 'pour aller à', 0, 1023)\n",
      "('Personne non créée, la place est occupée', 178, 167)\n",
      "('Création de la personne qui part de', 866, 68, 'pour aller à', 1023, 1023)\n",
      "('Création de la personne qui part de', 780, 454, 'pour aller à', 0, 0)\n",
      "('Création de la personne qui part de', 659, 558, 'pour aller à', 1023, 0)\n",
      "('Personne non créée, la place est occupée', 530, 665)\n",
      "('Création de la personne qui part de', 565, 875, 'pour aller à', 0, 0)\n",
      "('Création de la personne qui part de', 137, 647, 'pour aller à', 0, 1023)\n",
      "('Création de la personne qui part de', 690, 726, 'pour aller à', 0, 0)\n",
      "('Création de la personne qui part de', 498, 40, 'pour aller à', 0, 1023)\n",
      "('Personne non créée, la place est occupée', 534, 720)\n",
      "('Création de la personne qui part de', 576, 20, 'pour aller à', 0, 0)\n",
      "('Création de la personne qui part de', 184, 542, 'pour aller à', 0, 1023)\n",
      "('Création de la personne qui part de', 473, 427, 'pour aller à', 1023, 0)\n",
      "('Création de la personne qui part de', 951, 179, 'pour aller à', 1023, 1023)\n",
      "('Création de la personne qui part de', 250, 20, 'pour aller à', 0, 0)\n",
      "('Création de la personne qui part de', 500, 479, 'pour aller à', 1023, 0)\n",
      "('Création de la personne qui part de', 100, 617, 'pour aller à', 1023, 1023)\n",
      "('Création de la personne qui part de', 118, 903, 'pour aller à', 0, 1023)\n",
      "('Création de la personne qui part de', 705, 291, 'pour aller à', 0, 1023)\n",
      "('Personne non créée, la place est occupée', 163, 303)\n",
      "('Création de la personne qui part de', 1009, 194, 'pour aller à', 1023, 0)\n",
      "('Création de la personne qui part de', 55, 21, 'pour aller à', 0, 1023)\n",
      "('Personne non créée, la place est occupée', 321, 369)\n",
      "('Création de la personne qui part de', 945, 748, 'pour aller à', 1023, 1023)\n",
      "('Création de la personne qui part de', 195, 33, 'pour aller à', 0, 0)\n",
      "('Création de la personne qui part de', 295, 119, 'pour aller à', 0, 0)\n",
      "('Création de la personne qui part de', 502, 260, 'pour aller à', 0, 1023)\n",
      "('Création de la personne qui part de', 725, 318, 'pour aller à', 0, 1023)\n",
      "('Création de la personne qui part de', 809, 387, 'pour aller à', 0, 0)\n",
      "('Création de la personne qui part de', 836, 97, 'pour aller à', 1023, 0)\n",
      "('Création de la personne qui part de', 982, 37, 'pour aller à', 0, 0)\n",
      "('Création de la personne qui part de', 672, 616, 'pour aller à', 0, 0)\n",
      "('Création de la personne qui part de', 897, 819, 'pour aller à', 1023, 0)\n",
      "('Création de la personne qui part de', 640, 88, 'pour aller à', 1023, 0)\n",
      "('Création de la personne qui part de', 333, 1014, 'pour aller à', 0, 0)\n",
      "('Création de la personne qui part de', 588, 70, 'pour aller à', 0, 1023)\n",
      "('Création de la personne qui part de', 259, 634, 'pour aller à', 1023, 0)\n",
      "('Création de la personne qui part de', 373, 96, 'pour aller à', 1023, 1023)\n",
      "('Personne non créée, la place est occupée', 337, 352)\n",
      "('Création de la personne qui part de', 202, 786, 'pour aller à', 0, 1023)\n",
      "('Création de la personne qui part de', 262, 964, 'pour aller à', 0, 0)\n",
      "('Création de la personne qui part de', 303, 336, 'pour aller à', 0, 0)\n",
      "('Création de la personne qui part de', 629, 1015, 'pour aller à', 0, 0)\n",
      "('Création de la personne qui part de', 888, 453, 'pour aller à', 1023, 1023)\n",
      "('Création de la personne qui part de', 500, 831, 'pour aller à', 0, 0)\n",
      "('Création de la personne qui part de', 374, 281, 'pour aller à', 0, 0)\n",
      "('Création de la personne qui part de', 429, 47, 'pour aller à', 0, 0)\n",
      "('Création de la personne qui part de', 667, 371, 'pour aller à', 1023, 0)\n",
      "('Création de la personne qui part de', 922, 401, 'pour aller à', 1023, 1023)\n",
      "('Création de la personne qui part de', 897, 184, 'pour aller à', 1023, 0)\n",
      "('Création de la personne qui part de', 682, 954, 'pour aller à', 1023, 0)\n",
      "('Création de la personne qui part de', 634, 782, 'pour aller à', 0, 0)\n",
      "('Création de la personne qui part de', 139, 605, 'pour aller à', 0, 0)\n",
      "('Création de la personne qui part de', 974, 666, 'pour aller à', 1023, 0)\n",
      "('Création de la personne qui part de', 609, 398, 'pour aller à', 0, 1023)\n",
      "('Création de la personne qui part de', 901, 800, 'pour aller à', 0, 0)\n",
      "('Création de la personne qui part de', 750, 466, 'pour aller à', 1023, 0)\n",
      "('Personne non créée, la place est occupée', 521, 725)\n",
      "('Création de la personne qui part de', 995, 1022, 'pour aller à', 0, 1023)\n",
      "('Création de la personne qui part de', 803, 85, 'pour aller à', 0, 1023)\n",
      "('Création de la personne qui part de', 558, 123, 'pour aller à', 1023, 0)\n",
      "('Création de la personne qui part de', 1002, 777, 'pour aller à', 1023, 0)\n",
      "('Création de la personne qui part de', 615, 451, 'pour aller à', 1023, 0)\n",
      "('Création de la personne qui part de', 611, 913, 'pour aller à', 0, 0)\n",
      "('Création de la personne qui part de', 942, 297, 'pour aller à', 1023, 1023)\n",
      "('Création de la personne qui part de', 787, 120, 'pour aller à', 1023, 0)\n",
      "('Création de la personne qui part de', 943, 746, 'pour aller à', 0, 1023)\n",
      "('Création de la personne qui part de', 778, 497, 'pour aller à', 0, 1023)\n",
      "('Création de la personne qui part de', 843, 466, 'pour aller à', 1023, 1023)\n",
      "('Création de la personne qui part de', 847, 674, 'pour aller à', 1023, 0)\n",
      "('Création de la personne qui part de', 96, 485, 'pour aller à', 1023, 0)\n",
      "('Création de la personne qui part de', 987, 659, 'pour aller à', 1023, 1023)\n",
      "('Création de la personne qui part de', 924, 586, 'pour aller à', 0, 0)\n",
      "('Création de la personne qui part de', 898, 468, 'pour aller à', 1023, 1023)\n",
      "('Création de la personne qui part de', 996, 291, 'pour aller à', 1023, 0)\n",
      "('Personne non créée, la place est occupée', 542, 667)\n",
      "('Personne non créée, la place est occupée', 459, 599)\n",
      "('Création de la personne qui part de', 315, 93, 'pour aller à', 1023, 0)\n",
      "('Création de la personne qui part de', 129, 605, 'pour aller à', 1023, 1023)\n",
      "('Création de la personne qui part de', 104, 633, 'pour aller à', 1023, 1023)\n",
      "('Création de la personne qui part de', 966, 87, 'pour aller à', 0, 0)\n",
      "('Création de la personne qui part de', 1012, 434, 'pour aller à', 1023, 1023)\n",
      "('Création de la personne qui part de', 283, 485, 'pour aller à', 1023, 0)\n",
      "('Création de la personne qui part de', 754, 755, 'pour aller à', 0, 1023)\n",
      "('Création de la personne qui part de', 423, 412, 'pour aller à', 0, 0)\n",
      "('Création de la personne qui part de', 724, 724, 'pour aller à', 1023, 1023)\n",
      "('Création de la personne qui part de', 988, 440, 'pour aller à', 0, 0)\n",
      "('Création de la personne qui part de', 9, 692, 'pour aller à', 0, 0)\n",
      "('Création de la personne qui part de', 876, 506, 'pour aller à', 0, 1023)\n",
      "('Création de la personne qui part de', 940, 568, 'pour aller à', 0, 1023)\n",
      "('Création de la personne qui part de', 912, 948, 'pour aller à', 0, 0)\n",
      "('Création de la personne qui part de', 539, 394, 'pour aller à', 0, 1023)\n",
      "('Création de la personne qui part de', 456, 716, 'pour aller à', 0, 1023)\n",
      "('Création de la personne qui part de', 249, 942, 'pour aller à', 1023, 1023)\n",
      "('Création de la personne qui part de', 485, 725, 'pour aller à', 0, 1023)\n",
      "('Création de la personne qui part de', 578, 403, 'pour aller à', 0, 0)\n",
      "('Création de la personne qui part de', 320, 97, 'pour aller à', 0, 1023)\n",
      "('Création de la personne qui part de', 623, 953, 'pour aller à', 1023, 0)\n",
      "('Création de la personne qui part de', 822, 380, 'pour aller à', 0, 0)\n",
      "('Création de la personne qui part de', 730, 698, 'pour aller à', 0, 1023)\n",
      "('Création de la personne qui part de', 76, 813, 'pour aller à', 0, 1023)\n",
      "('Personne non créée, la place est occupée', 392, 429)\n",
      "('Création de la personne qui part de', 57, 825, 'pour aller à', 1023, 1023)\n",
      "('Personne non créée, la place est occupée', 540, 680)\n",
      "('Création de la personne qui part de', 138, 118, 'pour aller à', 0, 1023)\n",
      "('Création de la personne qui part de', 254, 848, 'pour aller à', 0, 1023)\n",
      "('Création de la personne qui part de', 127, 1019, 'pour aller à', 0, 0)\n",
      "('Création de la personne qui part de', 393, 838, 'pour aller à', 0, 0)\n",
      "('Création de la personne qui part de', 514, 1008, 'pour aller à', 0, 0)\n",
      "('Création de la personne qui part de', 906, 290, 'pour aller à', 1023, 1023)\n",
      "('Création de la personne qui part de', 21, 29, 'pour aller à', 1023, 0)\n",
      "('Personne non créée, la place est occupée', 460, 627)\n",
      "('Création de la personne qui part de', 694, 510, 'pour aller à', 0, 0)\n",
      "('Création de la personne qui part de', 64, 795, 'pour aller à', 1023, 1023)\n",
      "('Création de la personne qui part de', 233, 96, 'pour aller à', 0, 0)\n",
      "('Création de la personne qui part de', 576, 269, 'pour aller à', 0, 1023)\n",
      "('Création de la personne qui part de', 274, 144, 'pour aller à', 0, 1023)\n",
      "('Création de la personne qui part de', 552, 507, 'pour aller à', 0, 1023)\n",
      "('Création de la personne qui part de', 241, 514, 'pour aller à', 0, 1023)\n",
      "('Création de la personne qui part de', 538, 241, 'pour aller à', 1023, 1023)\n",
      "('Création de la personne qui part de', 301, 925, 'pour aller à', 1023, 0)\n",
      "('Création de la personne qui part de', 660, 76, 'pour aller à', 1023, 1023)\n",
      "('Création de la personne qui part de', 25, 995, 'pour aller à', 0, 1023)\n",
      "('Création de la personne qui part de', 184, 640, 'pour aller à', 1023, 1023)\n",
      "('Création de la personne qui part de', 647, 845, 'pour aller à', 0, 0)\n",
      "('Création de la personne qui part de', 983, 106, 'pour aller à', 0, 0)\n",
      "('Création de la personne qui part de', 518, 187, 'pour aller à', 0, 1023)\n",
      "('Création de la personne qui part de', 455, 972, 'pour aller à', 0, 0)\n",
      "('Création de la personne qui part de', 610, 855, 'pour aller à', 0, 0)\n",
      "('Création de la personne qui part de', 504, 775, 'pour aller à', 0, 1023)\n",
      "('Création de la personne qui part de', 411, 433, 'pour aller à', 1023, 0)\n",
      "('Création de la personne qui part de', 544, 519, 'pour aller à', 1023, 1023)\n",
      "('Création de la personne qui part de', 733, 455, 'pour aller à', 0, 1023)\n",
      "('Création de la personne qui part de', 969, 848, 'pour aller à', 1023, 1023)\n",
      "('Création de la personne qui part de', 590, 485, 'pour aller à', 1023, 0)\n",
      "('Création de la personne qui part de', 540, 41, 'pour aller à', 0, 1023)\n",
      "('Création de la personne qui part de', 35, 860, 'pour aller à', 0, 1023)\n",
      "('Création de la personne qui part de', 162, 674, 'pour aller à', 1023, 0)\n",
      "('Création de la personne qui part de', 567, 60, 'pour aller à', 1023, 0)\n",
      "('Création de la personne qui part de', 827, 198, 'pour aller à', 1023, 1023)\n",
      "('Création de la personne qui part de', 253, 525, 'pour aller à', 0, 0)\n",
      "('Personne non créée, la place est occupée', 455, 503)\n",
      "('Création de la personne qui part de', 143, 638, 'pour aller à', 1023, 0)\n",
      "('Création de la personne qui part de', 4, 619, 'pour aller à', 1023, 0)\n",
      "('Création de la personne qui part de', 763, 815, 'pour aller à', 0, 1023)\n",
      "('Création de la personne qui part de', 567, 177, 'pour aller à', 0, 1023)\n",
      "('Création de la personne qui part de', 229, 701, 'pour aller à', 0, 1023)\n",
      "('Création de la personne qui part de', 625, 264, 'pour aller à', 1023, 0)\n",
      "('Création de la personne qui part de', 509, 88, 'pour aller à', 1023, 0)\n",
      "('Création de la personne qui part de', 425, 948, 'pour aller à', 0, 0)\n",
      "('Création de la personne qui part de', 228, 526, 'pour aller à', 1023, 1023)\n",
      "('Création de la personne qui part de', 1, 468, 'pour aller à', 1023, 0)\n",
      "('Création de la personne qui part de', 810, 502, 'pour aller à', 0, 0)\n",
      "('Création de la personne qui part de', 486, 605, 'pour aller à', 0, 0)\n",
      "('Création de la personne qui part de', 260, 383, 'pour aller à', 0, 0)\n",
      "('Création de la personne qui part de', 342, 629, 'pour aller à', 0, 0)\n",
      "('Création de la personne qui part de', 1012, 261, 'pour aller à', 0, 1023)\n",
      "('Création de la personne qui part de', 485, 872, 'pour aller à', 1023, 1023)\n",
      "('Création de la personne qui part de', 130, 345, 'pour aller à', 0, 1023)\n",
      "('Personne non créée, la place est occupée', 326, 380)\n",
      "('Personne non créée, la place est occupée', 464, 623)\n",
      "('Création de la personne qui part de', 129, 879, 'pour aller à', 0, 1023)\n",
      "('Création de la personne qui part de', 708, 503, 'pour aller à', 0, 0)\n",
      "('Création de la personne qui part de', 821, 759, 'pour aller à', 0, 0)\n",
      "('Création de la personne qui part de', 829, 170, 'pour aller à', 1023, 1023)\n",
      "('Création de la personne qui part de', 914, 207, 'pour aller à', 0, 1023)\n",
      "('Création de la personne qui part de', 300, 67, 'pour aller à', 0, 1023)\n",
      "('Création de la personne qui part de', 38, 987, 'pour aller à', 0, 1023)\n",
      "('Création de la personne qui part de', 276, 896, 'pour aller à', 0, 1023)\n",
      "('Création de la personne qui part de', 840, 656, 'pour aller à', 0, 1023)\n",
      "('Personne non créée, la place est occupée', 118, 330)\n",
      "('Création de la personne qui part de', 1004, 761, 'pour aller à', 0, 0)\n",
      "('Création de la personne qui part de', 179, 713, 'pour aller à', 0, 1023)\n",
      "('Création de la personne qui part de', 408, 781, 'pour aller à', 0, 0)\n",
      "('Création de la personne qui part de', 887, 904, 'pour aller à', 1023, 1023)\n",
      "('Création de la personne qui part de', 954, 524, 'pour aller à', 0, 1023)\n",
      "('Création de la personne qui part de', 335, 764, 'pour aller à', 0, 1023)\n",
      "('Création de la personne qui part de', 746, 650, 'pour aller à', 1023, 0)\n",
      "('Création de la personne qui part de', 720, 702, 'pour aller à', 0, 1023)\n",
      "('Personne non créée, la place est occupée', 183, 141)\n",
      "('Création de la personne qui part de', 265, 115, 'pour aller à', 0, 1023)\n",
      "('Création de la personne qui part de', 23, 360, 'pour aller à', 0, 1023)\n",
      "('Création de la personne qui part de', 921, 6, 'pour aller à', 1023, 1023)\n",
      "('Création de la personne qui part de', 952, 465, 'pour aller à', 1023, 1023)\n",
      "('Personne non créée, la place est occupée', 23, 170)\n",
      "('Création de la personne qui part de', 480, 123, 'pour aller à', 0, 1023)\n",
      "('Création de la personne qui part de', 526, 303, 'pour aller à', 0, 1023)\n",
      "('Création de la personne qui part de', 186, 101, 'pour aller à', 1023, 1023)\n",
      "('Création de la personne qui part de', 164, 12, 'pour aller à', 0, 0)\n",
      "('Création de la personne qui part de', 963, 919, 'pour aller à', 0, 0)\n",
      "('Création de la personne qui part de', 180, 379, 'pour aller à', 1023, 0)\n",
      "('Création de la personne qui part de', 84, 453, 'pour aller à', 0, 1023)\n",
      "('Création de la personne qui part de', 62, 1012, 'pour aller à', 1023, 1023)\n",
      "('Création de la personne qui part de', 708, 472, 'pour aller à', 1023, 0)\n",
      "('Création de la personne qui part de', 785, 704, 'pour aller à', 1023, 1023)\n",
      "('Création de la personne qui part de', 14, 307, 'pour aller à', 1023, 0)\n",
      "('Création de la personne qui part de', 74, 479, 'pour aller à', 1023, 0)\n",
      "('Création de la personne qui part de', 767, 402, 'pour aller à', 1023, 1023)\n",
      "('Création de la personne qui part de', 410, 461, 'pour aller à', 1023, 1023)\n",
      "('Création de la personne qui part de', 462, 950, 'pour aller à', 1023, 1023)\n",
      "('Création de la personne qui part de', 580, 394, 'pour aller à', 0, 0)\n",
      "('Création de la personne qui part de', 474, 255, 'pour aller à', 1023, 1023)\n",
      "('Création de la personne qui part de', 329, 154, 'pour aller à', 0, 1023)\n",
      "('Création de la personne qui part de', 383, 911, 'pour aller à', 0, 1023)\n",
      "('Création de la personne qui part de', 331, 1015, 'pour aller à', 0, 1023)\n",
      "('Création de la personne qui part de', 840, 147, 'pour aller à', 0, 0)\n",
      "('Création de la personne qui part de', 625, 500, 'pour aller à', 1023, 0)\n",
      "('Création de la personne qui part de', 644, 113, 'pour aller à', 0, 1023)\n",
      "('Création de la personne qui part de', 923, 950, 'pour aller à', 1023, 1023)\n",
      "('Personne non créée, la place est occupée', 313, 394)\n",
      "('Création de la personne qui part de', 327, 242, 'pour aller à', 0, 0)\n",
      "('Création de la personne qui part de', 250, 269, 'pour aller à', 0, 0)\n",
      "('Création de la personne qui part de', 375, 114, 'pour aller à', 0, 0)\n",
      "('Création de la personne qui part de', 668, 613, 'pour aller à', 0, 1023)\n",
      "('Création de la personne qui part de', 97, 6, 'pour aller à', 1023, 1023)\n",
      "('Création de la personne qui part de', 508, 864, 'pour aller à', 1023, 1023)\n",
      "('Création de la personne qui part de', 974, 178, 'pour aller à', 1023, 1023)\n",
      "('Création de la personne qui part de', 327, 682, 'pour aller à', 0, 0)\n",
      "('Création de la personne qui part de', 138, 930, 'pour aller à', 1023, 1023)\n",
      "('Création de la personne qui part de', 972, 331, 'pour aller à', 0, 0)\n",
      "('Création de la personne qui part de', 496, 321, 'pour aller à', 1023, 1023)\n",
      "('Création de la personne qui part de', 231, 423, 'pour aller à', 1023, 1023)\n",
      "('Création de la personne qui part de', 246, 469, 'pour aller à', 0, 1023)\n",
      "('Création de la personne qui part de', 296, 273, 'pour aller à', 1023, 0)\n",
      "('Création de la personne qui part de', 266, 875, 'pour aller à', 0, 0)\n",
      "('Création de la personne qui part de', 307, 257, 'pour aller à', 1023, 0)\n",
      "('Création de la personne qui part de', 603, 663, 'pour aller à', 1023, 0)\n",
      "('Personne non créée, la place est occupée', 312, 405)\n",
      "('Création de la personne qui part de', 866, 22, 'pour aller à', 1023, 1023)\n",
      "('Création de la personne qui part de', 877, 74, 'pour aller à', 0, 0)\n",
      "('Création de la personne qui part de', 39, 926, 'pour aller à', 0, 0)\n",
      "('Création de la personne qui part de', 685, 117, 'pour aller à', 0, 0)\n",
      "('Création de la personne qui part de', 428, 297, 'pour aller à', 0, 0)\n",
      "('Création de la personne qui part de', 996, 556, 'pour aller à', 0, 0)\n",
      "('Création de la personne qui part de', 848, 222, 'pour aller à', 1023, 0)\n",
      "('Création de la personne qui part de', 121, 874, 'pour aller à', 1023, 0)\n",
      "('Création de la personne qui part de', 219, 297, 'pour aller à', 0, 0)\n",
      "('Création de la personne qui part de', 1022, 308, 'pour aller à', 0, 1023)\n",
      "('Création de la personne qui part de', 736, 144, 'pour aller à', 0, 1023)\n",
      "('Création de la personne qui part de', 106, 310, 'pour aller à', 0, 1023)\n",
      "('Personne non créée, la place est occupée', 190, 301)\n",
      "('Création de la personne qui part de', 184, 860, 'pour aller à', 1023, 1023)\n",
      "('Création de la personne qui part de', 117, 695, 'pour aller à', 0, 0)\n",
      "('Création de la personne qui part de', 148, 42, 'pour aller à', 1023, 1023)\n",
      "('Création de la personne qui part de', 196, 957, 'pour aller à', 1023, 0)\n",
      "('Création de la personne qui part de', 1017, 547, 'pour aller à', 1023, 1023)\n",
      "('Personne non créée, la place est occupée', 80, 183)\n",
      "('Personne non créée, la place est occupée', 373, 477)\n",
      "('Création de la personne qui part de', 422, 260, 'pour aller à', 1023, 0)\n",
      "('Création de la personne qui part de', 339, 907, 'pour aller à', 1023, 1023)\n",
      "('Création de la personne qui part de', 864, 756, 'pour aller à', 1023, 1023)\n",
      "('Création de la personne qui part de', 538, 862, 'pour aller à', 1023, 0)\n",
      "('Création de la personne qui part de', 443, 133, 'pour aller à', 1023, 1023)\n",
      "('Création de la personne qui part de', 137, 946, 'pour aller à', 1023, 1023)\n",
      "('Création de la personne qui part de', 176, 1015, 'pour aller à', 0, 1023)\n",
      "('Création de la personne qui part de', 731, 749, 'pour aller à', 1023, 1023)\n",
      "('Création de la personne qui part de', 396, 956, 'pour aller à', 1023, 0)\n",
      "('Création de la personne qui part de', 623, 249, 'pour aller à', 0, 0)\n",
      "('Création de la personne qui part de', 686, 882, 'pour aller à', 1023, 1023)\n",
      "('Création de la personne qui part de', 171, 541, 'pour aller à', 1023, 0)\n",
      "('Création de la personne qui part de', 957, 296, 'pour aller à', 0, 0)\n",
      "('Création de la personne qui part de', 529, 151, 'pour aller à', 0, 0)\n",
      "('Création de la personne qui part de', 7, 83, 'pour aller à', 0, 1023)\n",
      "('Création de la personne qui part de', 941, 790, 'pour aller à', 1023, 1023)\n",
      "('Création de la personne qui part de', 433, 959, 'pour aller à', 0, 0)\n",
      "('Création de la personne qui part de', 283, 47, 'pour aller à', 0, 1023)\n",
      "('Création de la personne qui part de', 503, 956, 'pour aller à', 1023, 0)\n",
      "('Création de la personne qui part de', 480, 923, 'pour aller à', 1023, 0)\n",
      "('Création de la personne qui part de', 799, 809, 'pour aller à', 0, 1023)\n",
      "('Création de la personne qui part de', 419, 215, 'pour aller à', 1023, 1023)\n",
      "('Création de la personne qui part de', 578, 810, 'pour aller à', 0, 0)\n",
      "('Création de la personne qui part de', 918, 102, 'pour aller à', 1023, 0)\n",
      "('Création de la personne qui part de', 1020, 185, 'pour aller à', 1023, 0)\n",
      "('Création de la personne qui part de', 134, 471, 'pour aller à', 1023, 0)\n",
      "('Création de la personne qui part de', 478, 416, 'pour aller à', 1023, 0)\n",
      "('Création de la personne qui part de', 340, 647, 'pour aller à', 0, 0)\n",
      "('Création de la personne qui part de', 220, 837, 'pour aller à', 0, 1023)\n",
      "('Personne non créée, la place est occupée', 185, 184)\n",
      "('Création de la personne qui part de', 786, 681, 'pour aller à', 0, 0)\n",
      "('Création de la personne qui part de', 587, 784, 'pour aller à', 0, 0)\n",
      "('Création de la personne qui part de', 854, 841, 'pour aller à', 1023, 1023)\n",
      "('Création de la personne qui part de', 911, 735, 'pour aller à', 0, 1023)\n",
      "('Création de la personne qui part de', 747, 106, 'pour aller à', 0, 0)\n",
      "('Création de la personne qui part de', 292, 648, 'pour aller à', 0, 1023)\n",
      "('Création de la personne qui part de', 598, 48, 'pour aller à', 1023, 1023)\n",
      "('Création de la personne qui part de', 372, 261, 'pour aller à', 0, 1023)\n",
      "('Création de la personne qui part de', 927, 544, 'pour aller à', 1023, 0)\n",
      "('Création de la personne qui part de', 707, 901, 'pour aller à', 1023, 0)\n",
      "('Création de la personne qui part de', 571, 193, 'pour aller à', 0, 0)\n",
      "('Création de la personne qui part de', 745, 493, 'pour aller à', 0, 1023)\n",
      "('Création de la personne qui part de', 662, 800, 'pour aller à', 1023, 1023)\n",
      "('Création de la personne qui part de', 648, 631, 'pour aller à', 0, 1023)\n",
      "('Création de la personne qui part de', 486, 33, 'pour aller à', 1023, 0)\n",
      "('Création de la personne qui part de', 380, 905, 'pour aller à', 1023, 0)\n",
      "('Création de la personne qui part de', 117, 632, 'pour aller à', 1023, 1023)\n",
      "('Création de la personne qui part de', 229, 193, 'pour aller à', 1023, 1023)\n",
      "('Création de la personne qui part de', 997, 510, 'pour aller à', 1023, 1023)\n",
      "('Création de la personne qui part de', 34, 241, 'pour aller à', 0, 1023)\n",
      "('Création de la personne qui part de', 755, 723, 'pour aller à', 1023, 1023)\n",
      "('Création de la personne qui part de', 383, 671, 'pour aller à', 1023, 0)\n",
      "('Création de la personne qui part de', 633, 592, 'pour aller à', 0, 1023)\n",
      "('Création de la personne qui part de', 344, 710, 'pour aller à', 1023, 1023)\n",
      "('Création de la personne qui part de', 912, 50, 'pour aller à', 1023, 0)\n",
      "('Création de la personne qui part de', 95, 96, 'pour aller à', 0, 0)\n",
      "('Création de la personne qui part de', 692, 727, 'pour aller à', 0, 0)\n",
      "('Création de la personne qui part de', 909, 231, 'pour aller à', 1023, 0)\n",
      "('Création de la personne qui part de', 793, 437, 'pour aller à', 0, 0)\n",
      "('Création de la personne qui part de', 850, 273, 'pour aller à', 1023, 1023)\n",
      "('Création de la personne qui part de', 274, 464, 'pour aller à', 1023, 1023)\n",
      "('Création de la personne qui part de', 389, 307, 'pour aller à', 0, 0)\n",
      "('Personne non créée, la place est occupée', 445, 622)\n",
      "('Création de la personne qui part de', 38, 529, 'pour aller à', 1023, 0)\n",
      "('Création de la personne qui part de', 265, 639, 'pour aller à', 0, 0)\n",
      "('Création de la personne qui part de', 180, 818, 'pour aller à', 1023, 1023)\n",
      "('Création de la personne qui part de', 557, 190, 'pour aller à', 1023, 1023)\n",
      "('Création de la personne qui part de', 568, 66, 'pour aller à', 0, 1023)\n",
      "('Création de la personne qui part de', 612, 223, 'pour aller à', 1023, 1023)\n",
      "('Création de la personne qui part de', 215, 433, 'pour aller à', 0, 1023)\n",
      "('Création de la personne qui part de', 9, 473, 'pour aller à', 0, 1023)\n",
      "('Création de la personne qui part de', 378, 679, 'pour aller à', 0, 0)\n",
      "('Création de la personne qui part de', 345, 249, 'pour aller à', 1023, 0)\n",
      "('Personne non créée, la place est occupée', 471, 525)\n",
      "('Création de la personne qui part de', 203, 77, 'pour aller à', 1023, 1023)\n",
      "('Création de la personne qui part de', 38, 883, 'pour aller à', 0, 1023)\n",
      "('Création de la personne qui part de', 603, 815, 'pour aller à', 0, 1023)\n",
      "('Création de la personne qui part de', 384, 200, 'pour aller à', 1023, 1023)\n",
      "('Création de la personne qui part de', 591, 205, 'pour aller à', 1023, 1023)\n",
      "('Création de la personne qui part de', 64, 36, 'pour aller à', 0, 0)\n",
      "('Création de la personne qui part de', 799, 227, 'pour aller à', 0, 0)\n",
      "('Création de la personne qui part de', 241, 515, 'pour aller à', 1023, 0)\n",
      "('Création de la personne qui part de', 200, 424, 'pour aller à', 1023, 1023)\n",
      "('Création de la personne qui part de', 964, 260, 'pour aller à', 0, 0)\n",
      "('Création de la personne qui part de', 514, 902, 'pour aller à', 1023, 0)\n",
      "('Création de la personne qui part de', 1014, 639, 'pour aller à', 1023, 1023)\n",
      "('Création de la personne qui part de', 625, 834, 'pour aller à', 1023, 1023)\n",
      "('Création de la personne qui part de', 844, 209, 'pour aller à', 0, 1023)\n",
      "('Création de la personne qui part de', 524, 210, 'pour aller à', 1023, 0)\n",
      "('Création de la personne qui part de', 278, 122, 'pour aller à', 0, 0)\n",
      "('Création de la personne qui part de', 815, 11, 'pour aller à', 0, 0)\n",
      "('Création de la personne qui part de', 701, 301, 'pour aller à', 1023, 1023)\n",
      "('Création de la personne qui part de', 189, 652, 'pour aller à', 1023, 1023)\n",
      "('Création de la personne qui part de', 878, 249, 'pour aller à', 0, 0)\n",
      "('Création de la personne qui part de', 314, 804, 'pour aller à', 0, 0)\n",
      "('Personne non créée, la place est occupée', 723, 824)\n",
      "('Création de la personne qui part de', 205, 1002, 'pour aller à', 1023, 0)\n",
      "('Création de la personne qui part de', 801, 759, 'pour aller à', 1023, 0)\n",
      "('Création de la personne qui part de', 325, 1007, 'pour aller à', 1023, 1023)\n",
      "('Création de la personne qui part de', 82, 298, 'pour aller à', 1023, 0)\n",
      "('Création de la personne qui part de', 617, 502, 'pour aller à', 0, 0)\n",
      "('Création de la personne qui part de', 790, 244, 'pour aller à', 0, 1023)\n",
      "('Création de la personne qui part de', 642, 384, 'pour aller à', 0, 0)\n",
      "('Création de la personne qui part de', 838, 234, 'pour aller à', 0, 0)\n",
      "('Création de la personne qui part de', 23, 729, 'pour aller à', 1023, 0)\n",
      "('Création de la personne qui part de', 332, 942, 'pour aller à', 0, 1023)\n",
      "('Création de la personne qui part de', 576, 810, 'pour aller à', 1023, 0)\n",
      "('Création de la personne qui part de', 298, 897, 'pour aller à', 0, 0)\n",
      "('Création de la personne qui part de', 733, 569, 'pour aller à', 1023, 1023)\n",
      "('Création de la personne qui part de', 110, 846, 'pour aller à', 0, 0)\n",
      "('Personne non créée, la place est occupée', 11, 188)\n",
      "('Création de la personne qui part de', 497, 538, 'pour aller à', 1023, 0)\n",
      "('Création de la personne qui part de', 603, 73, 'pour aller à', 1023, 1023)\n",
      "('Création de la personne qui part de', 946, 470, 'pour aller à', 1023, 0)\n",
      "('Création de la personne qui part de', 162, 514, 'pour aller à', 1023, 1023)\n",
      "('Création de la personne qui part de', 709, 742, 'pour aller à', 0, 0)\n",
      "('Création de la personne qui part de', 147, 833, 'pour aller à', 0, 0)\n",
      "('Création de la personne qui part de', 596, 587, 'pour aller à', 0, 1023)\n",
      "('Création de la personne qui part de', 109, 588, 'pour aller à', 0, 0)\n",
      "('Création de la personne qui part de', 259, 177, 'pour aller à', 1023, 1023)\n",
      "('Création de la personne qui part de', 837, 529, 'pour aller à', 0, 0)\n",
      "('Création de la personne qui part de', 529, 454, 'pour aller à', 1023, 0)\n",
      "('Création de la personne qui part de', 663, 852, 'pour aller à', 1023, 0)\n",
      "('Création de la personne qui part de', 972, 117, 'pour aller à', 0, 0)\n",
      "('Création de la personne qui part de', 503, 50, 'pour aller à', 1023, 0)\n",
      "('Création de la personne qui part de', 328, 836, 'pour aller à', 0, 0)\n",
      "('Création de la personne qui part de', 731, 375, 'pour aller à', 1023, 0)\n",
      "('Création de la personne qui part de', 297, 957, 'pour aller à', 1023, 0)\n",
      "('Personne non créée, la place est occupée', 183, 225)\n",
      "('Création de la personne qui part de', 303, 617, 'pour aller à', 1023, 0)\n",
      "('Création de la personne qui part de', 384, 211, 'pour aller à', 0, 0)\n",
      "('Création de la personne qui part de', 556, 852, 'pour aller à', 1023, 1023)\n",
      "('Création de la personne qui part de', 1002, 184, 'pour aller à', 1023, 0)\n",
      "('Création de la personne qui part de', 2, 902, 'pour aller à', 1023, 0)\n",
      "('Personne non créée, la place est occupée', 64, 192)\n",
      "('Création de la personne qui part de', 328, 473, 'pour aller à', 0, 1023)\n",
      "('Création de la personne qui part de', 937, 192, 'pour aller à', 1023, 0)\n",
      "('Création de la personne qui part de', 256, 989, 'pour aller à', 0, 0)\n",
      "('Création de la personne qui part de', 216, 64, 'pour aller à', 0, 1023)\n",
      "('Création de la personne qui part de', 25, 631, 'pour aller à', 1023, 0)\n",
      "('Création de la personne qui part de', 1012, 12, 'pour aller à', 1023, 0)\n",
      "('Création de la personne qui part de', 662, 408, 'pour aller à', 1023, 0)\n",
      "('Création de la personne qui part de', 236, 669, 'pour aller à', 1023, 1023)\n",
      "('Création de la personne qui part de', 181, 747, 'pour aller à', 0, 1023)\n",
      "('Création de la personne qui part de', 837, 522, 'pour aller à', 1023, 1023)\n",
      "('Création de la personne qui part de', 546, 492, 'pour aller à', 0, 1023)\n",
      "('Création de la personne qui part de', 718, 683, 'pour aller à', 0, 0)\n",
      "('Création de la personne qui part de', 498, 97, 'pour aller à', 0, 1023)\n",
      "('Création de la personne qui part de', 739, 946, 'pour aller à', 1023, 0)\n",
      "('Création de la personne qui part de', 441, 993, 'pour aller à', 0, 0)\n",
      "('Création de la personne qui part de', 333, 264, 'pour aller à', 1023, 1023)\n",
      "('Création de la personne qui part de', 898, 222, 'pour aller à', 0, 0)\n",
      "('Création de la personne qui part de', 199, 588, 'pour aller à', 1023, 0)\n",
      "('Création de la personne qui part de', 873, 134, 'pour aller à', 1023, 0)\n",
      "('Création de la personne qui part de', 104, 530, 'pour aller à', 1023, 0)\n",
      "('Création de la personne qui part de', 70, 977, 'pour aller à', 1023, 1023)\n",
      "('Création de la personne qui part de', 86, 868, 'pour aller à', 1023, 1023)\n",
      "('Création de la personne qui part de', 295, 296, 'pour aller à', 1023, 1023)\n",
      "('Création de la personne qui part de', 67, 951, 'pour aller à', 0, 0)\n",
      "('Création de la personne qui part de', 128, 616, 'pour aller à', 1023, 1023)\n",
      "('Création de la personne qui part de', 883, 29, 'pour aller à', 1023, 1023)\n",
      "('Création de la personne qui part de', 979, 180, 'pour aller à', 0, 1023)\n",
      "('Personne non créée, la place est occupée', 430, 552)\n",
      "('Création de la personne qui part de', 586, 478, 'pour aller à', 1023, 0)\n",
      "('Création de la personne qui part de', 531, 9, 'pour aller à', 0, 1023)\n",
      "('Création de la personne qui part de', 840, 1000, 'pour aller à', 1023, 0)\n",
      "('Création de la personne qui part de', 880, 739, 'pour aller à', 0, 0)\n",
      "('Création de la personne qui part de', 266, 362, 'pour aller à', 0, 0)\n",
      "('Création de la personne qui part de', 773, 68, 'pour aller à', 1023, 1023)\n",
      "('Création de la personne qui part de', 895, 907, 'pour aller à', 1023, 0)\n",
      "('Création de la personne qui part de', 921, 91, 'pour aller à', 1023, 0)\n",
      "('Création de la personne qui part de', 928, 960, 'pour aller à', 0, 0)\n",
      "('Création de la personne qui part de', 587, 256, 'pour aller à', 0, 0)\n",
      "('Création de la personne qui part de', 357, 566, 'pour aller à', 0, 0)\n",
      "('Création de la personne qui part de', 182, 902, 'pour aller à', 1023, 0)\n",
      "('Création de la personne qui part de', 413, 753, 'pour aller à', 1023, 0)\n",
      "('Création de la personne qui part de', 167, 568, 'pour aller à', 0, 1023)\n",
      "('Création de la personne qui part de', 777, 150, 'pour aller à', 1023, 1023)\n",
      "('Création de la personne qui part de', 787, 529, 'pour aller à', 0, 1023)\n",
      "('Création de la personne qui part de', 480, 703, 'pour aller à', 1023, 0)\n",
      "('Création de la personne qui part de', 664, 754, 'pour aller à', 1023, 0)\n",
      "('Création de la personne qui part de', 290, 245, 'pour aller à', 0, 0)\n",
      "('Création de la personne qui part de', 689, 948, 'pour aller à', 0, 0)\n",
      "('Création de la personne qui part de', 960, 78, 'pour aller à', 1023, 0)\n",
      "('Création de la personne qui part de', 896, 230, 'pour aller à', 0, 1023)\n",
      "('Création de la personne qui part de', 793, 612, 'pour aller à', 0, 0)\n",
      "('Création de la personne qui part de', 150, 900, 'pour aller à', 1023, 0)\n",
      "('Création de la personne qui part de', 109, 795, 'pour aller à', 0, 1023)\n",
      "('Création de la personne qui part de', 120, 350, 'pour aller à', 0, 0)\n",
      "('Création de la personne qui part de', 422, 716, 'pour aller à', 1023, 0)\n",
      "('Création de la personne qui part de', 816, 507, 'pour aller à', 1023, 0)\n",
      "('Personne non créée, la place est occupée', 444, 616)\n",
      "('Création de la personne qui part de', 779, 777, 'pour aller à', 0, 1023)\n",
      "('Création de la personne qui part de', 612, 862, 'pour aller à', 1023, 1023)\n",
      "('Création de la personne qui part de', 339, 471, 'pour aller à', 1023, 1023)\n",
      "('Création de la personne qui part de', 772, 440, 'pour aller à', 0, 1023)\n",
      "('Création de la personne qui part de', 358, 680, 'pour aller à', 1023, 0)\n",
      "('Création de la personne qui part de', 828, 834, 'pour aller à', 1023, 0)\n",
      "('Création de la personne qui part de', 930, 858, 'pour aller à', 1023, 1023)\n",
      "('Création de la personne qui part de', 25, 445, 'pour aller à', 0, 1023)\n",
      "('Création de la personne qui part de', 534, 153, 'pour aller à', 0, 1023)\n",
      "('Création de la personne qui part de', 944, 926, 'pour aller à', 0, 1023)\n",
      "('Création de la personne qui part de', 635, 602, 'pour aller à', 0, 1023)\n",
      "('Création de la personne qui part de', 491, 220, 'pour aller à', 1023, 1023)\n",
      "('Création de la personne qui part de', 243, 746, 'pour aller à', 1023, 0)\n",
      "('Création de la personne qui part de', 457, 888, 'pour aller à', 1023, 1023)\n",
      "('Création de la personne qui part de', 328, 646, 'pour aller à', 0, 0)\n",
      "('Création de la personne qui part de', 828, 125, 'pour aller à', 1023, 0)\n",
      "('Création de la personne qui part de', 81, 529, 'pour aller à', 1023, 0)\n",
      "('Création de la personne qui part de', 998, 675, 'pour aller à', 0, 0)\n",
      "('Création de la personne qui part de', 521, 592, 'pour aller à', 0, 0)\n",
      "('Création de la personne qui part de', 909, 1020, 'pour aller à', 0, 0)\n",
      "('Création de la personne qui part de', 356, 230, 'pour aller à', 0, 1023)\n",
      "('Création de la personne qui part de', 721, 618, 'pour aller à', 0, 0)\n",
      "('Création de la personne qui part de', 328, 601, 'pour aller à', 0, 1023)\n",
      "('Création de la personne qui part de', 221, 112, 'pour aller à', 1023, 0)\n",
      "('Création de la personne qui part de', 550, 179, 'pour aller à', 0, 1023)\n",
      "('Création de la personne qui part de', 994, 890, 'pour aller à', 1023, 1023)\n",
      "('Création de la personne qui part de', 24, 754, 'pour aller à', 0, 1023)\n",
      "('Création de la personne qui part de', 28, 50, 'pour aller à', 1023, 0)\n",
      "('Création de la personne qui part de', 663, 846, 'pour aller à', 1023, 1023)\n",
      "('Création de la personne qui part de', 242, 469, 'pour aller à', 1023, 1023)\n",
      "('Création de la personne qui part de', 640, 75, 'pour aller à', 0, 1023)\n",
      "('Création de la personne qui part de', 756, 341, 'pour aller à', 1023, 1023)\n",
      "('Création de la personne qui part de', 821, 498, 'pour aller à', 1023, 0)\n",
      "('Personne non créée, la place est occupée', 405, 647)\n",
      "('Création de la personne qui part de', 879, 388, 'pour aller à', 0, 0)\n",
      "('Création de la personne qui part de', 35, 974, 'pour aller à', 1023, 1023)\n",
      "('Création de la personne qui part de', 491, 214, 'pour aller à', 0, 0)\n",
      "('Création de la personne qui part de', 982, 69, 'pour aller à', 0, 0)\n",
      "('Création de la personne qui part de', 658, 365, 'pour aller à', 1023, 1023)\n",
      "('Création de la personne qui part de', 833, 474, 'pour aller à', 1023, 1023)\n",
      "('Création de la personne qui part de', 838, 134, 'pour aller à', 0, 1023)\n",
      "('Création de la personne qui part de', 497, 112, 'pour aller à', 0, 1023)\n",
      "('Création de la personne qui part de', 647, 360, 'pour aller à', 0, 0)\n",
      "('Création de la personne qui part de', 195, 553, 'pour aller à', 0, 0)\n",
      "('Création de la personne qui part de', 867, 68, 'pour aller à', 1023, 1023)\n",
      "('Création de la personne qui part de', 635, 366, 'pour aller à', 1023, 1023)\n",
      "('Création de la personne qui part de', 584, 921, 'pour aller à', 1023, 1023)\n",
      "('Création de la personne qui part de', 545, 247, 'pour aller à', 0, 0)\n",
      "('Création de la personne qui part de', 201, 91, 'pour aller à', 1023, 0)\n",
      "('Création de la personne qui part de', 799, 244, 'pour aller à', 1023, 0)\n",
      "('Personne non créée, la place est occupée', 435, 582)\n",
      "('Création de la personne qui part de', 565, 57, 'pour aller à', 1023, 0)\n",
      "('Création de la personne qui part de', 497, 525, 'pour aller à', 1023, 1023)\n",
      "('Création de la personne qui part de', 343, 480, 'pour aller à', 1023, 0)\n",
      "('Création de la personne qui part de', 657, 374, 'pour aller à', 1023, 1023)\n",
      "('Création de la personne qui part de', 777, 134, 'pour aller à', 1023, 1023)\n",
      "('Création de la personne qui part de', 286, 561, 'pour aller à', 0, 0)\n",
      "('Création de la personne qui part de', 941, 655, 'pour aller à', 1023, 0)\n",
      "('Création de la personne qui part de', 676, 272, 'pour aller à', 1023, 1023)\n",
      "('Création de la personne qui part de', 62, 933, 'pour aller à', 1023, 1023)\n",
      "('Création de la personne qui part de', 1007, 785, 'pour aller à', 0, 1023)\n",
      "('Création de la personne qui part de', 820, 323, 'pour aller à', 1023, 1023)\n",
      "('Création de la personne qui part de', 676, 408, 'pour aller à', 1023, 0)\n",
      "('Création de la personne qui part de', 171, 984, 'pour aller à', 1023, 1023)\n",
      "('Création de la personne qui part de', 292, 402, 'pour aller à', 0, 1023)\n",
      "('Création de la personne qui part de', 341, 947, 'pour aller à', 1023, 1023)\n",
      "('Création de la personne qui part de', 241, 928, 'pour aller à', 0, 1023)\n",
      "('Création de la personne qui part de', 144, 388, 'pour aller à', 1023, 0)\n",
      "('Création de la personne qui part de', 370, 990, 'pour aller à', 0, 1023)\n",
      "('Création de la personne qui part de', 203, 876, 'pour aller à', 0, 0)\n",
      "('Création de la personne qui part de', 959, 304, 'pour aller à', 1023, 0)\n",
      "('Personne non créée, la place est occupée', 356, 395)\n",
      "('Création de la personne qui part de', 706, 307, 'pour aller à', 1023, 0)\n",
      "('Création de la personne qui part de', 814, 121, 'pour aller à', 0, 0)\n",
      "('Création de la personne qui part de', 571, 512, 'pour aller à', 1023, 0)\n",
      "('Création de la personne qui part de', 447, 123, 'pour aller à', 0, 0)\n",
      "('Création de la personne qui part de', 216, 406, 'pour aller à', 0, 0)\n",
      "('Création de la personne qui part de', 118, 871, 'pour aller à', 1023, 1023)\n",
      "('Création de la personne qui part de', 213, 117, 'pour aller à', 1023, 0)\n",
      "('Création de la personne qui part de', 43, 141, 'pour aller à', 0, 1023)\n",
      "('Personne non créée, la place est occupée', 312, 338)\n",
      "('Création de la personne qui part de', 360, 888, 'pour aller à', 1023, 0)\n",
      "('Création de la personne qui part de', 715, 775, 'pour aller à', 1023, 1023)\n",
      "('Création de la personne qui part de', 539, 854, 'pour aller à', 0, 0)\n",
      "('Création de la personne qui part de', 496, 795, 'pour aller à', 1023, 1023)\n",
      "('Création de la personne qui part de', 246, 723, 'pour aller à', 0, 1023)\n",
      "('Création de la personne qui part de', 928, 612, 'pour aller à', 1023, 1023)\n",
      "('Création de la personne qui part de', 614, 1015, 'pour aller à', 0, 0)\n",
      "('Création de la personne qui part de', 858, 982, 'pour aller à', 1023, 0)\n",
      "('Création de la personne qui part de', 872, 477, 'pour aller à', 0, 0)\n",
      "('Création de la personne qui part de', 279, 865, 'pour aller à', 0, 1023)\n",
      "('Création de la personne qui part de', 721, 171, 'pour aller à', 0, 1023)\n",
      "('Personne non créée, la place est occupée', 442, 503)\n",
      "('Création de la personne qui part de', 286, 968, 'pour aller à', 1023, 1023)\n",
      "('Création de la personne qui part de', 192, 607, 'pour aller à', 0, 0)\n",
      "('Création de la personne qui part de', 781, 105, 'pour aller à', 1023, 1023)\n",
      "('Création de la personne qui part de', 243, 214, 'pour aller à', 1023, 0)\n",
      "('Création de la personne qui part de', 165, 115, 'pour aller à', 0, 0)\n",
      "('Création de la personne qui part de', 666, 391, 'pour aller à', 1023, 0)\n",
      "('Création de la personne qui part de', 716, 439, 'pour aller à', 0, 0)\n",
      "('Création de la personne qui part de', 189, 394, 'pour aller à', 1023, 0)\n",
      "('Création de la personne qui part de', 945, 709, 'pour aller à', 0, 0)\n",
      "('Création de la personne qui part de', 793, 720, 'pour aller à', 0, 0)\n",
      "('Création de la personne qui part de', 98, 799, 'pour aller à', 0, 1023)\n",
      "('Création de la personne qui part de', 487, 562, 'pour aller à', 0, 1023)\n",
      "('Création de la personne qui part de', 114, 438, 'pour aller à', 1023, 0)\n",
      "('Création de la personne qui part de', 128, 124, 'pour aller à', 0, 0)\n",
      "('Création de la personne qui part de', 134, 984, 'pour aller à', 0, 1023)\n",
      "('Création de la personne qui part de', 202, 550, 'pour aller à', 1023, 1023)\n",
      "('Création de la personne qui part de', 120, 872, 'pour aller à', 0, 0)\n",
      "('Personne non créée, la place est occupée', 198, 228)\n",
      "('Création de la personne qui part de', 12, 46, 'pour aller à', 0, 0)\n",
      "('Création de la personne qui part de', 516, 971, 'pour aller à', 0, 1023)\n",
      "('Création de la personne qui part de', 541, 257, 'pour aller à', 0, 1023)\n",
      "('Création de la personne qui part de', 1014, 652, 'pour aller à', 1023, 1023)\n",
      "('Création de la personne qui part de', 448, 899, 'pour aller à', 1023, 1023)\n",
      "('Création de la personne qui part de', 135, 815, 'pour aller à', 1023, 0)\n",
      "('Création de la personne qui part de', 142, 357, 'pour aller à', 0, 1023)\n",
      "('Création de la personne qui part de', 821, 442, 'pour aller à', 1023, 0)\n",
      "('Création de la personne qui part de', 274, 75, 'pour aller à', 0, 1023)\n",
      "('Création de la personne qui part de', 704, 302, 'pour aller à', 1023, 0)\n",
      "('Personne non créée, la place est occupée', 366, 325)\n",
      "('Création de la personne qui part de', 284, 118, 'pour aller à', 1023, 0)\n",
      "('Création de la personne qui part de', 8, 760, 'pour aller à', 1023, 1023)\n",
      "('Création de la personne qui part de', 732, 476, 'pour aller à', 1023, 0)\n",
      "('Création de la personne qui part de', 16, 656, 'pour aller à', 1023, 0)\n",
      "('Personne non créée, la place est occupée', 506, 647)\n",
      "('Création de la personne qui part de', 467, 732, 'pour aller à', 0, 1023)\n",
      "('Création de la personne qui part de', 273, 584, 'pour aller à', 0, 1023)\n",
      "('Création de la personne qui part de', 25, 423, 'pour aller à', 1023, 1023)\n",
      "('Création de la personne qui part de', 476, 891, 'pour aller à', 0, 1023)\n",
      "('Création de la personne qui part de', 959, 444, 'pour aller à', 1023, 0)\n",
      "('Création de la personne qui part de', 484, 750, 'pour aller à', 0, 0)\n",
      "('Création de la personne qui part de', 949, 34, 'pour aller à', 1023, 1023)\n",
      "('Création de la personne qui part de', 4, 156, 'pour aller à', 1023, 1023)\n",
      "('Création de la personne qui part de', 755, 351, 'pour aller à', 1023, 0)\n",
      "('Création de la personne qui part de', 276, 73, 'pour aller à', 1023, 1023)\n",
      "('Création de la personne qui part de', 972, 256, 'pour aller à', 0, 0)\n",
      "('Création de la personne qui part de', 945, 164, 'pour aller à', 0, 1023)\n",
      "('Création de la personne qui part de', 335, 968, 'pour aller à', 0, 1023)\n",
      "('Création de la personne qui part de', 974, 778, 'pour aller à', 1023, 1023)\n",
      "('Création de la personne qui part de', 1021, 746, 'pour aller à', 1023, 0)\n",
      "('Création de la personne qui part de', 920, 553, 'pour aller à', 1023, 1023)\n",
      "('Création de la personne qui part de', 22, 305, 'pour aller à', 0, 0)\n",
      "('Création de la personne qui part de', 450, 886, 'pour aller à', 0, 1023)\n",
      "('Création de la personne qui part de', 771, 785, 'pour aller à', 1023, 1023)\n",
      "('Création de la personne qui part de', 975, 284, 'pour aller à', 1023, 0)\n",
      "('Création de la personne qui part de', 1016, 255, 'pour aller à', 1023, 0)\n",
      "('Création de la personne qui part de', 1014, 95, 'pour aller à', 1023, 1023)\n",
      "('Création de la personne qui part de', 533, 42, 'pour aller à', 1023, 0)\n",
      "('Création de la personne qui part de', 743, 331, 'pour aller à', 0, 1023)\n",
      "('Création de la personne qui part de', 913, 736, 'pour aller à', 1023, 1023)\n",
      "('Création de la personne qui part de', 570, 411, 'pour aller à', 1023, 1023)\n",
      "('Création de la personne qui part de', 67, 71, 'pour aller à', 1023, 1023)\n",
      "('Création de la personne qui part de', 526, 912, 'pour aller à', 1023, 1023)\n",
      "('Création de la personne qui part de', 917, 209, 'pour aller à', 0, 1023)\n",
      "('Création de la personne qui part de', 771, 397, 'pour aller à', 0, 0)\n",
      "('Création de la personne qui part de', 385, 692, 'pour aller à', 0, 0)\n",
      "('Création de la personne qui part de', 1019, 3, 'pour aller à', 1023, 0)\n",
      "('Création de la personne qui part de', 510, 790, 'pour aller à', 0, 1023)\n",
      "('Création de la personne qui part de', 183, 796, 'pour aller à', 1023, 0)\n",
      "('Création de la personne qui part de', 796, 114, 'pour aller à', 0, 1023)\n",
      "('Création de la personne qui part de', 622, 443, 'pour aller à', 1023, 1023)\n",
      "('Création de la personne qui part de', 732, 1013, 'pour aller à', 1023, 1023)\n",
      "('Création de la personne qui part de', 398, 812, 'pour aller à', 1023, 0)\n",
      "('Personne non créée, la place est occupée', 339, 377)\n",
      "('Création de la personne qui part de', 895, 391, 'pour aller à', 1023, 1023)\n",
      "('Création de la personne qui part de', 435, 700, 'pour aller à', 1023, 0)\n",
      "('Création de la personne qui part de', 17, 435, 'pour aller à', 1023, 1023)\n",
      "('Création de la personne qui part de', 983, 78, 'pour aller à', 1023, 1023)\n",
      "('Création de la personne qui part de', 468, 784, 'pour aller à', 0, 0)\n",
      "('Création de la personne qui part de', 557, 448, 'pour aller à', 0, 1023)\n",
      "('Création de la personne qui part de', 177, 601, 'pour aller à', 1023, 0)\n",
      "('Création de la personne qui part de', 236, 328, 'pour aller à', 0, 0)\n",
      "('Création de la personne qui part de', 952, 384, 'pour aller à', 1023, 1023)\n",
      "('Création de la personne qui part de', 670, 854, 'pour aller à', 0, 1023)\n",
      "('Création de la personne qui part de', 872, 615, 'pour aller à', 1023, 1023)\n",
      "('Création de la personne qui part de', 686, 901, 'pour aller à', 1023, 1023)\n",
      "('Création de la personne qui part de', 723, 545, 'pour aller à', 1023, 0)\n",
      "('Création de la personne qui part de', 880, 28, 'pour aller à', 1023, 0)\n",
      "('Création de la personne qui part de', 445, 978, 'pour aller à', 0, 1023)\n",
      "('Création de la personne qui part de', 635, 456, 'pour aller à', 0, 0)\n",
      "('Création de la personne qui part de', 366, 739, 'pour aller à', 0, 1023)\n",
      "('Création de la personne qui part de', 844, 62, 'pour aller à', 1023, 0)\n",
      "('Création de la personne qui part de', 757, 633, 'pour aller à', 0, 0)\n",
      "('Création de la personne qui part de', 508, 50, 'pour aller à', 1023, 0)\n",
      "('Création de la personne qui part de', 285, 422, 'pour aller à', 0, 1023)\n",
      "('Création de la personne qui part de', 958, 176, 'pour aller à', 1023, 0)\n",
      "('Création de la personne qui part de', 754, 18, 'pour aller à', 0, 0)\n",
      "('Création de la personne qui part de', 649, 935, 'pour aller à', 1023, 1023)\n",
      "('Création de la personne qui part de', 457, 337, 'pour aller à', 1023, 1023)\n",
      "('Personne non créée, la place est occupée', 730, 839)\n",
      "('Création de la personne qui part de', 813, 514, 'pour aller à', 1023, 1023)\n",
      "('Création de la personne qui part de', 919, 887, 'pour aller à', 0, 1023)\n",
      "('Création de la personne qui part de', 146, 828, 'pour aller à', 0, 0)\n",
      "('Création de la personne qui part de', 156, 600, 'pour aller à', 0, 0)\n",
      "('Création de la personne qui part de', 473, 746, 'pour aller à', 1023, 0)\n",
      "('Création de la personne qui part de', 1004, 323, 'pour aller à', 0, 0)\n",
      "('Création de la personne qui part de', 644, 442, 'pour aller à', 1023, 1023)\n",
      "('Création de la personne qui part de', 679, 779, 'pour aller à', 1023, 1023)\n",
      "('Création de la personne qui part de', 36, 119, 'pour aller à', 1023, 1023)\n",
      "('Création de la personne qui part de', 638, 920, 'pour aller à', 0, 0)\n",
      "('Création de la personne qui part de', 526, 36, 'pour aller à', 1023, 1023)\n",
      "('Création de la personne qui part de', 620, 289, 'pour aller à', 1023, 0)\n",
      "('Création de la personne qui part de', 707, 35, 'pour aller à', 0, 0)\n",
      "('Création de la personne qui part de', 759, 639, 'pour aller à', 1023, 1023)\n",
      "('Création de la personne qui part de', 517, 141, 'pour aller à', 1023, 1023)\n",
      "('Création de la personne qui part de', 497, 955, 'pour aller à', 0, 0)\n",
      "('Création de la personne qui part de', 959, 736, 'pour aller à', 0, 1023)\n",
      "('Création de la personne qui part de', 377, 514, 'pour aller à', 0, 0)\n",
      "('Création de la personne qui part de', 782, 685, 'pour aller à', 1023, 1023)\n",
      "('Création de la personne qui part de', 292, 595, 'pour aller à', 0, 1023)\n",
      "('Création de la personne qui part de', 754, 12, 'pour aller à', 1023, 0)\n",
      "('Création de la personne qui part de', 578, 901, 'pour aller à', 1023, 1023)\n",
      "('Création de la personne qui part de', 455, 463, 'pour aller à', 1023, 0)\n",
      "('Création de la personne qui part de', 241, 952, 'pour aller à', 1023, 0)\n",
      "('Création de la personne qui part de', 548, 626, 'pour aller à', 0, 1023)\n",
      "('Création de la personne qui part de', 621, 626, 'pour aller à', 0, 1023)\n",
      "('Création de la personne qui part de', 906, 880, 'pour aller à', 0, 0)\n",
      "('Création de la personne qui part de', 271, 211, 'pour aller à', 1023, 1023)\n",
      "('Création de la personne qui part de', 415, 199, 'pour aller à', 0, 1023)\n",
      "('Création de la personne qui part de', 419, 87, 'pour aller à', 0, 0)\n",
      "('Création de la personne qui part de', 620, 599, 'pour aller à', 1023, 1023)\n",
      "('Création de la personne qui part de', 269, 555, 'pour aller à', 0, 0)\n",
      "('Création de la personne qui part de', 834, 133, 'pour aller à', 0, 1023)\n",
      "('Création de la personne qui part de', 492, 508, 'pour aller à', 0, 0)\n",
      "('Création de la personne qui part de', 749, 630, 'pour aller à', 1023, 0)\n",
      "('Création de la personne qui part de', 539, 640, 'pour aller à', 1023, 1023)\n",
      "('Création de la personne qui part de', 613, 456, 'pour aller à', 1023, 0)\n",
      "('Création de la personne qui part de', 473, 470, 'pour aller à', 0, 0)\n",
      "('Création de la personne qui part de', 885, 172, 'pour aller à', 1023, 0)\n",
      "('Création de la personne qui part de', 435, 407, 'pour aller à', 0, 1023)\n",
      "('Création de la personne qui part de', 9, 509, 'pour aller à', 1023, 0)\n",
      "('Création de la personne qui part de', 449, 164, 'pour aller à', 1023, 1023)\n",
      "('Création de la personne qui part de', 345, 810, 'pour aller à', 1023, 1023)\n",
      "('Création de la personne qui part de', 873, 32, 'pour aller à', 0, 1023)\n",
      "('Création de la personne qui part de', 921, 334, 'pour aller à', 0, 1023)\n",
      "('Création de la personne qui part de', 543, 413, 'pour aller à', 1023, 1023)\n",
      "('Création de la personne qui part de', 429, 916, 'pour aller à', 0, 0)\n",
      "('Création de la personne qui part de', 900, 838, 'pour aller à', 1023, 1023)\n",
      "('Création de la personne qui part de', 557, 259, 'pour aller à', 0, 0)\n",
      "('Création de la personne qui part de', 877, 52, 'pour aller à', 0, 1023)\n",
      "('Création de la personne qui part de', 226, 491, 'pour aller à', 1023, 0)\n",
      "('Création de la personne qui part de', 676, 549, 'pour aller à', 0, 1023)\n",
      "('Création de la personne qui part de', 305, 715, 'pour aller à', 0, 1023)\n",
      "('Création de la personne qui part de', 394, 793, 'pour aller à', 0, 1023)\n",
      "('Création de la personne qui part de', 615, 837, 'pour aller à', 1023, 0)\n",
      "('Création de la personne qui part de', 958, 891, 'pour aller à', 1023, 0)\n",
      "('Création de la personne qui part de', 243, 855, 'pour aller à', 1023, 1023)\n",
      "('Personne non créée, la place est occupée', 384, 484)\n",
      "('Création de la personne qui part de', 135, 645, 'pour aller à', 1023, 1023)\n",
      "('Création de la personne qui part de', 44, 60, 'pour aller à', 0, 0)\n",
      "('Création de la personne qui part de', 949, 90, 'pour aller à', 1023, 1023)\n",
      "('Création de la personne qui part de', 760, 182, 'pour aller à', 0, 0)\n",
      "('Création de la personne qui part de', 627, 627, 'pour aller à', 1023, 0)\n",
      "(1024, 'personnes ont été créées')\n"
     ]
    }
   ],
   "source": [
    "# La grille contient 2^10 personnes\n",
    "nb_person = np.power(2,10)\n",
    "\n",
    "coordonnee = np.zeros((2,1), dtype=np.int)\n",
    "sortie = np.zeros((2,1), dtype=np.int)\n",
    "while len(grid.personneList)<nb_person:\n",
    "    coordonnee[0] = np.random.randint(1,X)\n",
    "    coordonnee[1] = np.random.randint(1,Y)\n",
    "    sortie[0] = (X-1)*np.random.randint(2)\n",
    "    sortie[1] = (Y-1)*np.random.randint(2)\n",
    "    Personne(grid, int(coordonnee[0]), int(coordonnee[1]), int(sortie[0]), int(sortie[1]), debug)\n",
    "    \n",
    "debug.affiche(len(grid.personneList), \"personnes ont été créées\")"
   ]
  },
  {
   "cell_type": "code",
   "execution_count": 59,
   "metadata": {},
   "outputs": [],
   "source": [
    "# Sauvegarde de l'objet grille\n",
    "grid.Save(grande_grille)"
   ]
  },
  {
   "cell_type": "code",
   "execution_count": 60,
   "metadata": {},
   "outputs": [],
   "source": [
    "# Affichage de la grille créée\n",
    "if UI==affichage.OpenCV:\n",
    "    cv2.imshow(\"img\", createImage(grid.map))\n",
    "    cv2.waitKey(5000) # Affichage pendant 5 secondes\n",
    "    cv2.destroyAllWindows()"
   ]
  },
  {
   "cell_type": "markdown",
   "metadata": {},
   "source": [
    "## Solution itérative\n",
    "\n",
    "Chaque personne doit rejoindre sa case de sortie. Le code est fourni à titre d'exemple. Il est malheureusement incomplet car si une personne ne peut pas rejoindre sa case de sortie alors la simulation ne s'arrête pas.\n",
    "\n",
    "Si vous avez besoin de modifier les classes proposées. Il suffit de construire par héritage la nouvelle classe qui doit porter le même nom que la classe parente suffixé par \\_1 ou \\_2 ou \\_3 selon l'étape du projet, et de surcharger les méthodes qui doivent l'être.\n",
    "\n",
    "Les cellules suivantes donnent des exemples d'utilisation des primitives précédemment écrites."
   ]
  },
  {
   "cell_type": "markdown",
   "metadata": {},
   "source": [
    "### Avec trace mais sans visualisation"
   ]
  },
  {
   "cell_type": "code",
   "execution_count": 67,
   "metadata": {
    "ExecuteTime": {
     "end_time": "2020-09-09T14:57:23.812307Z",
     "start_time": "2020-09-09T14:57:23.802324Z"
    }
   },
   "outputs": [
    {
     "name": "stdout",
     "output_type": "stream",
     "text": [
      "('Ouverture du fichier', 'maps/map-initial.txt')\n",
      "('Simulation pour une grille:', 10, '*', 10)\n",
      "(\"Initilisation de l'objet grille\",)\n",
      "('obstacle non créé', ['-1', '-1', '-1', '-1'])\n",
      "(\"Création de l'obstacle (\", 1, 1, ') - (', 2, 7, ')')\n",
      "(\"Création de l'obstacle (\", 1, 7, ') - (', 8, 8, ')')\n",
      "(2, 'obstacles ont été créés')\n",
      "('Création de la personne qui part de', 2, 2, 'pour aller à', 0, 0)\n",
      "(1, 'personnes ont été créées')\n",
      "********************\n",
      "Début de la simulation\n",
      "('La personne (', 2, 2, ') peut se déplacer sur :', [(3, 2, 1)])\n",
      "('Déplacement de la personne de (', 2, 2, ') à (', 2, 1, ')')\n",
      "('La personne (', 2, 1, ') peut se déplacer sur :', [(2, 1, 1), (2, 2, 0)])\n",
      "('Déplacement de la personne de (', 2, 1, ') à (', 1, 1, ')')\n",
      "('La personne (', 1, 1, ') peut se déplacer sur :', [(1, 0, 1), (1, 1, 0)])\n",
      "('Déplacement de la personne de (', 1, 1, ') à (', 0, 1, ')')\n",
      "('La personne (', 0, 1, ') peut se déplacer sur :', [(0, 0, 0)])\n",
      "('Déplacement de la personne de (', 0, 1, ') à (', 0, 0, ')')\n",
      "('Une personne vient de sortir, il reste', 0, 'personnes')\n"
     ]
    }
   ],
   "source": [
    "# En mode debug avec 1 personne, sans UI\n",
    "debug = Debug(True)\n",
    "\n",
    "file = open_file(petite_grille, debug)  # On ouvre le fichier\n",
    "X, Y = read_grid_size(file, debug) # On lit la taille\n",
    "grid = Grille(X, Y, affichage.Aucun, debug)     # On créée l'objet grille\n",
    "read_obstacles(file, grid, Obstacle, debug)  # On lit et positionne les obstacles\n",
    "read_personnes(file, grid, Personne, 1, debug) # On lit et positionne une seule personne\n",
    "print(\"*\"*20)\n",
    "print(\"Début de la simulation\")\n",
    "grid.Simulation()"
   ]
  },
  {
   "cell_type": "markdown",
   "metadata": {},
   "source": [
    "### Visualisation de chacune des itérations avec Matplotlib"
   ]
  },
  {
   "cell_type": "code",
   "execution_count": 68,
   "metadata": {
    "ExecuteTime": {
     "end_time": "2020-09-09T14:49:25.241960Z",
     "start_time": "2020-09-09T14:49:24.715633Z"
    },
    "scrolled": true
   },
   "outputs": [
    {
     "data": {
      "image/png": "[encoded data removed]",
      "text/plain": [
       "<Figure size 432x288 with 1 Axes>"
      ]
     },
     "metadata": {
      "needs_background": "light"
     },
     "output_type": "display_data"
    },
    {
     "data": {
      "image/png": "[encoded data removed]",
      "text/plain": [
       "<Figure size 432x288 with 1 Axes>"
      ]
     },
     "metadata": {
      "needs_background": "light"
     },
     "output_type": "display_data"
    },
    {
     "data": {
      "image/png": "[encoded data removed]",
      "text/plain": [
       "<Figure size 432x288 with 1 Axes>"
      ]
     },
     "metadata": {
      "needs_background": "light"
     },
     "output_type": "display_data"
    },
    {
     "data": {
      "image/png": "[encoded data removed]",
      "text/plain": [
       "<Figure size 432x288 with 1 Axes>"
      ]
     },
     "metadata": {
      "needs_background": "light"
     },
     "output_type": "display_data"
    },
    {
     "data": {
      "image/png": "[encoded data removed]",
      "text/plain": [
       "<Figure size 432x288 with 1 Axes>"
      ]
     },
     "metadata": {
      "needs_background": "light"
     },
     "output_type": "display_data"
    },
    {
     "data": {
      "image/png": "[encoded data removed]",
      "text/plain": [
       "<Figure size 432x288 with 1 Axes>"
      ]
     },
     "metadata": {
      "needs_background": "light"
     },
     "output_type": "display_data"
    }
   ],
   "source": [
    "for img in grid.mapList:\n",
    "    plt.imshow(img, cmap='Paired', vmin=0, vmax=5)\n",
    "    plt.show()"
   ]
  },
  {
   "cell_type": "markdown",
   "metadata": {},
   "source": [
    "### Visualisation de chacune des itérations avec OpenCV"
   ]
  },
  {
   "cell_type": "code",
   "execution_count": 26,
   "metadata": {
    "ExecuteTime": {
     "end_time": "2020-09-09T14:49:37.845993Z",
     "start_time": "2020-09-09T14:49:25.860666Z"
    }
   },
   "outputs": [],
   "source": [
    "if UI==affichage.OpenCV:\n",
    "    for image in grid.mapList:\n",
    "        cv2.imshow(\"img\", createImage(image))\n",
    "        cv2.waitKey(500) # Wait for 0.5 second\n",
    "    cv2.destroyAllWindows()"
   ]
  },
  {
   "cell_type": "markdown",
   "metadata": {},
   "source": [
    "### Sans trace mais avec visualisation"
   ]
  },
  {
   "cell_type": "code",
   "execution_count": 27,
   "metadata": {
    "ExecuteTime": {
     "end_time": "2020-09-09T14:49:49.836016Z",
     "start_time": "2020-09-09T14:49:37.849761Z"
    }
   },
   "outputs": [],
   "source": [
    "# En mode sans trace avec 1 personne mais avec UI\n",
    "if UI==affichage.OpenCV:\n",
    "    debug = Debug(False)\n",
    "    file = open_file(petite_grille, debug)  # On ouvre le fichier\n",
    "    X, Y = read_grid_size(file, debug) # On lit la taille\n",
    "    grid = Grille(X, Y, affichage.OpenCV, debug)     # On créée l'objet grille\n",
    "    read_obstacles(file, grid, Obstacle, debug)  # On lit et positionne les obstacles\n",
    "    read_personnes(file, grid, Personne, 1, debug) # On lit et positionne une seule personne\n",
    "    grid.Simulation()"
   ]
  },
  {
   "cell_type": "markdown",
   "metadata": {},
   "source": [
    "## <span style=\"color:red\">Votre travail</span>\n",
    "\n",
    "Mettre en oeuvre plusieurs version du simulateur :\n",
    "1. Version itérative : un seul flot d'exécution. Celui-ci est presque terminé, il faut reste à trouver une manière la plus judicieuse possible pour résoudre le problème des personnes bloquées par un obsatacle sans modifier le comportement d'une personne.\n",
    "1. Version un flot d'exécution par personne. Attention a bien protéger par une section critique tout accès à une ressource concurrente que ce soit une trace d'exécution en mode debug ou une ressource partagée. On fera attention a reduire dans la mesure du possible la portée d'une section critique\n",
    "1. Version un flot d'exécution pour un quard de la grille. Une personne de coordonnée X, Y sera gérée par le flot d'exécution numéro $i = 2* (Y//(Ymax//2)) + X//(Xmax//2)$.\n",
    "\n",
    "Vous construirez ces différentes versions en créant si nécessaire des sous-classes aux classes existantes.\n",
    "\n"
   ]
  },
  {
   "cell_type": "markdown",
   "metadata": {
    "ExecuteTime": {
     "end_time": "2020-09-01T14:38:38.843007Z",
     "start_time": "2020-09-01T14:38:19.214514Z"
    }
   },
   "source": [
    "Bien évidemment, on attend une étude comparative des différentes approches. Pour vous aider dans l'analyse des solutions qui doivent être décrites vous utiliserez un nombre variable de personnes. Pour cela, vous adapterez le code suivant afin de pouvoir mesurer l'évolution du temps d'exécution en fonction du nombre de personnes présentes sur la grille et comparer les temps d'exécution entre les scénarios\n",
    "<code>\n",
    "debug = Debug(False)\n",
    "\n",
    "duration_i = []  # i est le numéro du scénario\n",
    "nb_personnes = []\n",
    "for i in range(11):\n",
    "    nb_personnes += [np.power(2, i)]\n",
    "    print(\"*\"*30)\n",
    "    print(\"pour\", nb_personnes[-1], \"personnes\")\n",
    "\n",
    "    file = open_file(grande_grille, debug)  # On ouvre le fichier\n",
    "    X, Y = read_grid_size(file, debug) # On lit la taille\n",
    "    debug.affiche(\"simulation pour une grille:\", X, Y)\n",
    "    grid = Grille(X, Y, debug)     # On créée l'objet grille\n",
    "    read_obstacles(file, grid, Obstacle, debug)  # On lit et positionne les obstacles\n",
    "    read_personnes(file, grid, Personne, nb_personnes[-1], debug) # On lit et positionne le nombre de personne souhaité seule personne\n",
    "    debug.affiche(\"nbre de personnes\", len(grid.personneList))\n",
    "    \n",
    "    start = time.time()\n",
    "    grid.Simulation(debug)\n",
    "    end = time.time()\n",
    "    duration_i += [end-start]\n",
    "    print(\"La simulation a duré\", duration1[-1], \"secondes\")\n",
    "    print(\"Il restait\", XXXXX, \"personnes immobiles\")<code>"
   ]
  },
  {
   "cell_type": "markdown",
   "metadata": {},
   "source": [
    "Vous ferez un plot de l'évolution des temps d'exécution\n",
    "<code>\n",
    "plt.plot(nb_personnes, duration_1, label=\"Une seule thread\")\n",
    "plt.plot(nb_personnes, duration_2, label=\"Une thread par personne\")\n",
    "plt.plot(nb_personnes, duration_2, label=\"Une thread par quard de terrain\")\n",
    "plt.xlabel(\"nombre de personnes\")\n",
    "plt.ylabel(\"temps en secondes\")\n",
    "plt.legend()\n",
    "plt.show()<code>"
   ]
  },
  {
   "cell_type": "markdown",
   "metadata": {
    "ExecuteTime": {
     "end_time": "2020-09-01T15:08:57.408399Z",
     "start_time": "2020-09-01T15:08:57.304373Z"
    }
   },
   "source": [
    "Vous calculerez les ratios entre les scénarios\n",
    "<code>\n",
    "ratio_2 = []\n",
    "ratio_3 = []\n",
    "for i,j,k in zip(duration_1, duration_2, duration_3):\n",
    "    ratio_2 += [j/i]\n",
    "    ratio_3 += [k/i]\n",
    "plt.plot(nb_personnes, ratio_2, label=\"...\")\n",
    "plt.plot(nb_personnes, ratio_3, label=\"...\")\n",
    "plt.xlabel(\"nombre de personnes\")\n",
    "plt.ylabel(\"...\")\n",
    "plt.legend()\n",
    "plt.show()<code>"
   ]
  },
  {
   "cell_type": "markdown",
   "metadata": {
    "ExecuteTime": {
     "end_time": "2020-09-09T14:49:56.668475Z",
     "start_time": "2020-09-09T14:49:56.663438Z"
    }
   },
   "source": [
    "Vous calculerez aussi le speedup (inverse du ratio précédent) et ferez un plot de celui-ci"
   ]
  },
  {
   "cell_type": "markdown",
   "metadata": {},
   "source": [
    "## Scénario 1 - version itérative"
   ]
  },
  {
   "cell_type": "code",
   "execution_count": null,
   "metadata": {},
   "outputs": [],
   "source": [
    "''' code du scénario 1 - vous pouvez utiliser plusieurs cellule '''"
   ]
  },
  {
   "cell_type": "code",
   "execution_count": null,
   "metadata": {},
   "outputs": [],
   "source": [
    "''' plot du temps d'exécution en fonction du nombre de personnes '''"
   ]
  },
  {
   "cell_type": "markdown",
   "metadata": {},
   "source": [
    "Votre analyse du scénario 1"
   ]
  },
  {
   "cell_type": "markdown",
   "metadata": {},
   "source": [
    "## Scénario 2 - version 1 thread par personne"
   ]
  },
  {
   "cell_type": "markdown",
   "metadata": {},
   "source": [
    "## Scénario 3 - version 1 thread pour 1/4 de la grille"
   ]
  },
  {
   "cell_type": "markdown",
   "metadata": {},
   "source": [
    "## Comparaison des trois approches\n",
    "\n",
    "<span style=\"color:red\">On attend ici une comparaison argumentée permettant de mettre en évidence les points forts et les points faibles des différentes solutions</span>"
   ]
  },
  {
   "cell_type": "markdown",
   "metadata": {},
   "source": [
    "## Export du notebook dans un fichier python"
   ]
  },
  {
   "cell_type": "code",
   "execution_count": null,
   "metadata": {
    "ExecuteTime": {
     "end_time": "2020-09-09T14:49:56.670691Z",
     "start_time": "2020-09-09T14:49:41.283Z"
    }
   },
   "outputs": [],
   "source": [
    "import sys,json\n",
    "import ipyparams\n",
    "\n",
    "def convertNotebook(notebookPath, modulePath):\n",
    "    f = open(notebookPath, 'r') #input.ipynb\n",
    "    j = json.load(f)\n",
    "\n",
    "    of = open(modulePath, 'w') #output.py\n",
    "\n",
    "    if j[\"nbformat\"] >=4:\n",
    "        for i,cell in enumerate(j[\"cells\"]):\n",
    "            if cell['cell_type']=='code':\n",
    "                of.write(\"#cell \"+str(i+1)+\"\\n\")\n",
    "                for line in cell[\"source\"]:\n",
    "                    of.write(line)\n",
    "                of.write('\\n\\n')\n",
    "    else:\n",
    "        print(\"not implemented\")\n",
    "\n",
    "    of.close()"
   ]
  },
  {
   "cell_type": "code",
   "execution_count": null,
   "metadata": {
    "ExecuteTime": {
     "end_time": "2020-09-09T14:49:56.671833Z",
     "start_time": "2020-09-09T14:49:46.226Z"
    }
   },
   "outputs": [],
   "source": [
    "''' Remarks: it is necessary to put the import code in a separate cell above the call of function.\n",
    "Otherwise Jupyter will try to run the code before the library is fully loaded,\n",
    "so the currentNotebook variable is still blank.\n",
    "\n",
    "Putting the import in its own cell forces it to load before moving to the next cell.\n",
    "'''\n",
    "if is_running_from_ipython():\n",
    "    currentNotebook = ipyparams.notebook_name\n",
    "    pythonName = currentNotebook.split(\".\")[0]+\".py\"\n",
    "    \n",
    "    convertNotebook(currentNotebook, pythonName)"
   ]
  },
  {
   "cell_type": "code",
   "execution_count": null,
   "metadata": {},
   "outputs": [],
   "source": []
  }
 ],
 "metadata": {
  "kernelspec": {
   "display_name": "Python 3",
   "language": "python",
   "name": "python3"
  },
  "language_info": {
   "codemirror_mode": {
    "name": "ipython",
    "version": 3
   },
   "file_extension": ".py",
   "mimetype": "text/x-python",
   "name": "python",
   "nbconvert_exporter": "python",
   "pygments_lexer": "ipython3",
   "version": "3.7.9"
  },
  "latex_envs": {
   "LaTeX_envs_menu_present": true,
   "autoclose": true,
   "autocomplete": true,
   "bibliofile": "biblio.bib",
   "cite_by": "apalike",
   "current_citInitial": 1,
   "eqLabelWithNumbers": true,
   "eqNumInitial": 1,
   "hotkeys": {
    "equation": "Ctrl-E",
    "itemize": "Ctrl-I"
   },
   "labels_anchors": false,
   "latex_user_defs": false,
   "report_style_numbering": false,
   "user_envs_cfg": false
  },
  "nbTranslate": {
   "displayLangs": [
    "*"
   ],
   "hotkey": "alt-t",
   "langInMainMenu": true,
   "sourceLang": "en",
   "targetLang": "fr",
   "useGoogleTranslate": true
  },
  "toc": {
   "base_numbering": 1,
   "nav_menu": {},
   "number_sections": true,
   "sideBar": true,
   "skip_h1_title": true,
   "title_cell": "Table of Contents",
   "title_sidebar": "Contents",
   "toc_cell": true,
   "toc_position": {},
   "toc_section_display": true,
   "toc_window_display": false
  }
 },
 "nbformat": 4,
 "nbformat_minor": 4
}
