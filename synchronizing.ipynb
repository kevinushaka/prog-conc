{
 "cells": [
  {
   "cell_type": "raw",
   "metadata": {},
   "source": [
    "Référence(s):\n",
    "    https://docs.python.org/fr/3/library/_thread.html\n",
    "    http://effbot.org/zone/thread-synchronization.htm"
   ]
  },
  {
   "cell_type": "markdown",
   "metadata": {},
   "source": [
    "# Synchronizing"
   ]
  },
  {
   "cell_type": "markdown",
   "metadata": {},
   "source": [
    "## _thread"
   ]
  },
  {
   "cell_type": "raw",
   "metadata": {},
   "source": [
    "Un nouveau verrou est créé en appelant la méthode _thread.allocate_lock()\n",
    ", qui renvoie le nouveau verrou.\n",
    "\n",
    "La méthode lock.acquire(waitflag=1, timeout=-1) est utilisée pour forcer les threads à s'exécuter de manière synchrone. Sans aucun argument facultatif, cette méthode acquiert le verrou sans condition, si nécessaire en attendant qu'il soit libéré par un autre thread (un seul thread à la fois peut acquérir un verrou - c'est leur raison d'être).\n",
    "\n",
    "La méthode lock.release() du nouvel objet de verrouillage est utilisée pour libérer le verrou lorsqu'il n'est plus nécessaire."
   ]
  },
  {
   "cell_type": "raw",
   "metadata": {},
   "source": [
    "L'utilisation de l'instruction with acquiert le verrou associé pour la durée du bloc inclus. Les méthodes acquire () et release () appellent également les méthodes correspondantes du verrou associé."
   ]
  },
  {
   "cell_type": "code",
   "execution_count": null,
   "metadata": {},
   "outputs": [],
   "source": [
    "import _thread\n",
    "\n",
    "a_lock = _thread.allocate_lock()\n",
    "\n",
    "with a_lock:\n",
    "    print(\"a_lock is locked while this executes\")"
   ]
  },
  {
   "cell_type": "markdown",
   "metadata": {},
   "source": [
    "## threading"
   ]
  },
  {
   "cell_type": "markdown",
   "metadata": {},
   "source": [
    "### Lock"
   ]
  },
  {
   "cell_type": "raw",
   "metadata": {},
   "source": [
    "Un verrou primitif est soit « verrouillé » soit « déverrouillé ». Il est créé dans un état déverrouillé. Il a deux méthodes, acquire() et release(). Lorsque l'état est déverrouillé, acquire() verrouille et se termine immédiatement. Lorsque l'état est verrouillé, acquire() bloque jusqu'à ce qu'un appel à release() provenant d'un autre fil d'exécution le déverrouille.\n",
    "\n",
    "Lorsque plus d'un thread est bloqué dans acquire () en attendant que l'état passe à déverrouillé, un seul thread se poursuit lorsqu'un appel release () réinitialise l'état à déverrouillé; lequel des threads en attente continue n'est pas défini et peut varier selon les implémentations.\n",
    "\n",
    "Pour un fonctionnement correct, il est important de libérer le verrou même si quelque chose ne va pas lors de l’accès à la ressource. On peut utiliser try-finally."
   ]
  },
  {
   "cell_type": "code",
   "execution_count": null,
   "metadata": {},
   "outputs": [],
   "source": [
    "lock.acquire()\n",
    "try:\n",
    "    ... access shared resource\n",
    "finally:\n",
    "    lock.release() # release lock, no matter wha"
   ]
  },
  {
   "cell_type": "raw",
   "metadata": {},
   "source": [
    "La méthode acquire() prend un indicateur d'attente facultatif, qui peut être utilisé pour éviter le blocage si le verrou est détenu par quelqu'un d'autre. Si vous passez False, la méthode ne bloque jamais, mais retourne False si le verrou était déjà maintenu."
   ]
  },
  {
   "cell_type": "code",
   "execution_count": null,
   "metadata": {},
   "outputs": [],
   "source": [
    "if not lock.acquire(False):\n",
    "    ... failed to lock the resource\n",
    "else:\n",
    "    try:\n",
    "        ... access shared resource\n",
    "    finally:\n",
    "        lock.release()"
   ]
  },
  {
   "cell_type": "code",
   "execution_count": null,
   "metadata": {},
   "outputs": [],
   "source": [
    "# -*- coding: utf-8 -*-\n",
    "\"\"\"\n",
    "Created on Thu Sep 24 12:06:02 2020\n",
    "\n",
    "@author: Kévin\n",
    "\"\"\"\n",
    "import threading\n",
    "             \n",
    "class Counter(object):\n",
    "    def __init__(self, start = 0):\n",
    "        self.lock = threading.Lock()\n",
    "        self.value = start\n",
    "    def increment(self):\n",
    "        print('Waiting for a lock')\n",
    "        self.lock.acquire()\n",
    "        try:\n",
    "            print('Acquired a lock')\n",
    "            self.value = self.value + 1\n",
    "        finally:\n",
    "            print('Released a lock')\n",
    "            self.lock.release()\n",
    "\n",
    "def worker(c):\n",
    "    c.increment()\n",
    "    print('Done')\n",
    "\n",
    "if __name__ == '__main__':\n",
    "    my_list=[]\n",
    "    counter = Counter()\n",
    "    for i in range(2):\n",
    "        t = threading.Thread(target=worker, args=(counter,))\n",
    "        my_list.append(t)\n",
    "        t.start()\n",
    "\n",
    "    print('Waiting for worker threads')\n",
    "    main_thread = threading.currentThread()\n",
    "    for t in my_list:\n",
    "        t.join()\n",
    "    print('Counter:'+ str(counter.value))"
   ]
  },
  {
   "cell_type": "raw",
   "metadata": {},
   "source": [
    "L'objet de verrouillage standard ne se soucie pas du thread qui détient actuellement le verrou; si le verrou est maintenu, tout thread qui tente d'acquérir le verrou se bloque, même si le même thread détient déjà le verrou. Dans l'exemple suivant, les fonctions get_first_part() et get_second_part() resteront bloquées, car la fonction externe get_both_parts() détient déjà le verrou."
   ]
  },
  {
   "cell_type": "code",
   "execution_count": null,
   "metadata": {},
   "outputs": [],
   "source": [
    "lock = threading.Lock()\n",
    "\n",
    "def get_first_part():\n",
    "    lock.acquire()\n",
    "    try:\n",
    "        ... fetch data for first part from shared object\n",
    "    finally:\n",
    "        lock.release()\n",
    "    return data\n",
    "\n",
    "def get_second_part():\n",
    "    lock.acquire()\n",
    "    try:\n",
    "        ... fetch data for second part from shared object\n",
    "    finally:\n",
    "        lock.release()\n",
    "    return data\n",
    "\n",
    "def get_both_parts():\n",
    "    lock.acquire()\n",
    "    try:\n",
    "        first = get_first_part()\n",
    "        second = get_second_part()\n",
    "    finally:\n",
    "        lock.release()\n",
    "    return first, second"
   ]
  },
  {
   "cell_type": "markdown",
   "metadata": {},
   "source": [
    "### ReLock"
   ]
  },
  {
   "cell_type": "raw",
   "metadata": {},
   "source": [
    "La classe RLock est une version du verrouillage qui ne se bloque que si le verrou est détenu par un autre thread. Alors que les verrous simples se bloquent si le même thread tente d'acquérir le même verrou deux fois, un verrou rentrant ne se bloque que si un autre thread détient actuellement le verrou. Si le thread actuel tente d'acquérir un verrou qu'il détient déjà, l'exécution se poursuit comme d'habitude."
   ]
  },
  {
   "cell_type": "code",
   "execution_count": null,
   "metadata": {},
   "outputs": [],
   "source": [
    "lock = threading.Lock()\n",
    "lock.acquire()\n",
    "lock.acquire() # this will block\n",
    "\n",
    "lock = threading.RLock()\n",
    "lock.acquire()\n",
    "lock.acquire() # this won't block"
   ]
  },
  {
   "cell_type": "markdown",
   "metadata": {},
   "source": [
    "### Semaphore"
   ]
  },
  {
   "cell_type": "raw",
   "metadata": {},
   "source": [
    "Un sémaphore gère un compteur interne qui est décrémenté à chaque appel acquise () et incrémenté à chaque appel release (). Le compteur ne peut jamais descendre en dessous de zéro; quand acquiert () trouve qu'il est égal à zéro, il bloque, en attendant qu'un autre thread appelle release ()."
   ]
  },
  {
   "cell_type": "code",
   "execution_count": null,
   "metadata": {},
   "outputs": [],
   "source": [
    "# -*- coding: utf-8 -*-\n",
    "import threading\n",
    "             \n",
    "class Counter(object):\n",
    "    def __init__(self, start = 0):\n",
    "        self.semaphore = threading.BoundedSemaphore(value=1)\n",
    "        self.value = start\n",
    "    def increment(self):\n",
    "        print('Waiting for a lock')\n",
    "        self.semaphore.acquire()\n",
    "        try:\n",
    "            print('Acquired a lock')\n",
    "            self.value = self.value + 1\n",
    "        finally:\n",
    "            print('Released a lock')\n",
    "            self.semaphore.release()\n",
    "\n",
    "def worker(c):\n",
    "    c.increment()\n",
    "    print('Done')\n",
    "\n",
    "if __name__ == '__main__':\n",
    "    my_list=[]\n",
    "    counter = Counter()\n",
    "    for i in range(2):\n",
    "        t = threading.Thread(target=worker, args=(counter,))\n",
    "        my_list.append(t)\n",
    "        t.start()\n",
    "\n",
    "    print('Waiting for worker threads')\n",
    "    main_thread = threading.currentThread()\n",
    "    for t in my_list:\n",
    "        t.join()\n",
    "    print('Counter:'+ str(counter.value))"
   ]
  },
  {
   "cell_type": "markdown",
   "metadata": {},
   "source": [
    "## multiprocessing"
   ]
  },
  {
   "cell_type": "raw",
   "metadata": {},
   "source": [
    "multiprocessing gère deux types de canaux de communication entre les processus : Queue , Tubes."
   ]
  },
  {
   "cell_type": "code",
   "execution_count": null,
   "metadata": {},
   "outputs": [],
   "source": [
    "from multiprocessing import Process, Queue\n",
    "\n",
    "def f(q):\n",
    "    q.put([42, None, 'hello'])\n",
    "\n",
    "if __name__ == '__main__':\n",
    "    q = Queue()\n",
    "    p = Process(target=f, args=(q,))\n",
    "    p.start()\n",
    "    print(q.get())    # prints \"[42, None, 'hello']\"\n",
    "    p.join()"
   ]
  },
  {
   "cell_type": "code",
   "execution_count": null,
   "metadata": {},
   "outputs": [],
   "source": [
    "from multiprocessing import Process, Pipe\n",
    "\n",
    "def f(conn):\n",
    "    conn.send([42, None, 'hello'])\n",
    "    conn.close()\n",
    "\n",
    "if __name__ == '__main__':\n",
    "    parent_conn, child_conn = Pipe()\n",
    "    p = Process(target=f, args=(child_conn,))\n",
    "    p.start()\n",
    "    print(parent_conn.recv())   # prints \"[42, None, 'hello']\"\n",
    "    p.join()"
   ]
  },
  {
   "cell_type": "raw",
   "metadata": {},
   "source": [
    "Il est également possible de créer des objets partagés utilisant une mémoire partagée pouvant être héritée par les processus enfants avec multiprocessing.Value(typecode_or_type, *args, lock=True).\n",
    "\n",
    "Les opérations telles que += qui impliquent une lecture et une écriture ne sont pas atomique. Ainsi si vous souhaitez par exemple réaliser une incrémentation atomique sur une valeur partagée, vous ne pouvez pas simplement faire"
   ]
  },
  {
   "cell_type": "code",
   "execution_count": null,
   "metadata": {},
   "outputs": [],
   "source": [
    "# -*- coding: utf-8 -*-\n",
    "import multiprocessing \n",
    "\n",
    "# function to deposit to account \n",
    "def increment(variable):     \n",
    "    variable.value = variable.value + 1\n",
    "\n",
    "if __name__ == \"__main__\": \n",
    "    counter = multiprocessing.Value('i', 0)\n",
    "\n",
    "    p1 = multiprocessing.Process(target=increment, args=(counter,)) \n",
    "    p2 = multiprocessing.Process(target=increment, args=(counter,)) \n",
    "  \n",
    "    p1.start() \n",
    "    p2.start() \n",
    "\n",
    "    p1.join();\n",
    "    p2.join();\n",
    "\n",
    "    print(\"Final balance = \"+str(counter.value)) "
   ]
  },
  {
   "cell_type": "raw",
   "metadata": {},
   "source": [
    "Le paquet multiprocessing reproduit en grande partie l'API du module threading. O nretrouve les primitives de synchronisation :\n",
    "multiprocessing.Lock\n",
    "multiprocessing.RLock\n",
    "multiprocessing.BoundedSemaphore([value])"
   ]
  },
  {
   "cell_type": "markdown",
   "metadata": {},
   "source": [
    "### Lock"
   ]
  },
  {
   "cell_type": "raw",
   "metadata": {},
   "source": [
    "Un verrou non récursif : un analogue proche de threading.Lock. Une fois que le processus ou le fil d'exécution a acquis un verrou, les tentatives suivantes d'acquisition depuis n'importe quel processus ou fil d'exécution bloqueront jusqu'à ce qu'il soit libéré ; n'importe quel processus ou fil peut le libérer. Les concepts et comportements de threading.Lock qui s'appliquent aux fils d'exécution sont répliqués ici dans multiprocessing.Lock et s'appliquent aux processus et aux fils d'exécution."
   ]
  },
  {
   "cell_type": "code",
   "execution_count": null,
   "metadata": {},
   "outputs": [],
   "source": [
    "import multiprocessing \n",
    "  \n",
    "# function to withdraw from account \n",
    "def withdraw(balance, lock):     \n",
    "    for _ in range(10000): \n",
    "        lock.acquire() \n",
    "        balance.value = balance.value - 1\n",
    "        lock.release() \n",
    "  \n",
    "# function to deposit to account \n",
    "def deposit(balance, lock):     \n",
    "    for _ in range(10000): \n",
    "        lock.acquire() \n",
    "        balance.value = balance.value + 1\n",
    "        lock.release() \n",
    "  \n",
    "def perform_transactions(): \n",
    "  \n",
    "    # initial balance (in shared memory) \n",
    "    balance = multiprocessing.Value('i', 100) \n",
    "  \n",
    "    # creating a lock object \n",
    "    lock = multiprocessing.Lock() \n",
    "  \n",
    "    # creating new processes \n",
    "    p1 = multiprocessing.Process(target=withdraw, args=(balance,lock)) \n",
    "    p2 = multiprocessing.Process(target=deposit, args=(balance,lock)) \n",
    "  \n",
    "    # starting processes \n",
    "    p1.start() \n",
    "    p2.start() \n",
    "  \n",
    "    # wait until processes are finished \n",
    "    p1.join() \n",
    "    p2.join() \n",
    "  \n",
    "    # print final balance \n",
    "    print(\"Final balance = \"+str(balance.value)) \n",
    "  \n",
    "if __name__ == \"__main__\": \n",
    "    for _ in range(10): \n",
    "  \n",
    "        # perform same transaction process 10 times \n",
    "        perform_transactions()"
   ]
  },
  {
   "cell_type": "code",
   "execution_count": null,
   "metadata": {},
   "outputs": [],
   "source": []
  },
  {
   "cell_type": "markdown",
   "metadata": {},
   "source": [
    "### RLock"
   ]
  },
  {
   "cell_type": "raw",
   "metadata": {},
   "source": [
    "Un objet verrou récursif : un analogue proche de threading.RLock. Un verrou récursif doit être libéré par le processus ou le fil d'exécution qui l'a acquis. Quand un processus ou un fil acquiert un verrou récursif, le même processus/fil peut l'acquérir à nouveau sans bloquer ; le processus/fil doit le libérer autant de fois qu'il l'acquiert."
   ]
  },
  {
   "cell_type": "markdown",
   "metadata": {},
   "source": [
    "### Semaphore"
   ]
  },
  {
   "cell_type": "raw",
   "metadata": {},
   "source": [
    "Une seule différence existe avec son proche analogue : le premier argument de sa méthode acquire est appelé block, pour la cohérence avec Lock.acquire()."
   ]
  }
 ],
 "metadata": {
  "kernelspec": {
   "display_name": "Python 3",
   "language": "python",
   "name": "python3"
  },
  "language_info": {
   "codemirror_mode": {
    "name": "ipython",
    "version": 3
   },
   "file_extension": ".py",
   "mimetype": "text/x-python",
   "name": "python",
   "nbconvert_exporter": "python",
   "pygments_lexer": "ipython3",
   "version": "3.8.3"
  }
 },
 "nbformat": 4,
 "nbformat_minor": 4
}
