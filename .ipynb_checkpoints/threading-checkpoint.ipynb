{
 "cells": [
  {
   "cell_type": "code",
   "execution_count": null,
   "metadata": {},
   "outputs": [],
   "source": [
    "Les threads s'exécutent sur plusieurs processeurs ma is mais ils n'exécuteront qu'un seul à la fois. \n",
    "Le GIL (Global Interpreter Lock) est un mutex (ou un verrou) qui permet à un seul thread de détenir \n",
    "le contrôle de l'interpréteur Python. L'exécution simultanée de plusieurs tâches nécessite une \n",
    "implémentation non standard de Python. La .bibliothèque standard Python fournit des threads."
   ]
  },
  {
   "cell_type": "code",
   "execution_count": 9,
   "metadata": {},
   "outputs": [
    {
     "name": "stdout",
     "output_type": "stream",
     "text": [
      "Main    : before creating thread.\n",
      "Main    : before running thread.\n",
      "Thread 1: starting.\n",
      "Main    : wait for the thread to finish.\n",
      "Main    : all done.\n",
      "Thread 1: finishing.\n"
     ]
    }
   ],
   "source": [
    "import threading\n",
    "import time\n",
    "\n",
    "def thread_function(name):\n",
    "    print(\"Thread \" +str(name)+ \": starting.\")\n",
    "    time.sleep(2)\n",
    "    print(\"Thread \" +str(name)+\": finishing.\")\n",
    "\n",
    "if __name__ == \"__main__\":\n",
    "    print(\"Main    : before creating thread.\")\n",
    "    x = threading.Thread(target=thread_function, args=(1,)) #Thread run thread_function() and to pass it 1 as an argument.\n",
    "    print(\"Main    : before running thread.\")\n",
    "    x.start()\n",
    "    print(\"Main    : wait for the thread to finish.\")\n",
    "    print(\"Main    : all done.\")"
   ]
  },
  {
   "cell_type": "code",
   "execution_count": null,
   "metadata": {},
   "outputs": [],
   "source": [
    "un daemon est un processus qui s'exécute en arrière-plan. \n",
    "Un thread daemon s'arrêtera immédiatement lorsque le programme se fermera. \n",
    "Le thread daemon est comme un thread qui s'exécute en arrière-plan sans se soucier de l'arrêt du thread principal.\n",
    "\n",
    "Avec des threads qui ne sont pas des daemon, le programme attendra que ces threads \n",
    "se terminent avant de se terminer. Cependant, les threads qui sont des daemon sont simplement tués où \n",
    "qu'ils soient lorsque le programme se termine.\n",
    "\n",
    "threading._shutdown () parcourt tous les threads en cours d'exécution et appelle .join () \n",
    "sur tous ceux qui n'ont pas l'indicateur de démon défini.\n",
    "Donc le programme attend de se terminer car le thread attend dans un sleep(). \n",
    "Dès qu'il a terminé, .join () reviendra et le programme peut quitter."
   ]
  },
  {
   "cell_type": "code",
   "execution_count": 11,
   "metadata": {},
   "outputs": [
    {
     "name": "stdout",
     "output_type": "stream",
     "text": [
      "Main    : before creating thread.\n",
      "Main    : before running thread.\n",
      "Thread 1: starting.\n",
      "Main    : wait for the thread to finish.\n",
      "Main    : all done.\n",
      "Thread 1: finishing.\n"
     ]
    }
   ],
   "source": [
    "import threading\n",
    "import time\n",
    "\n",
    "def thread_function(name):\n",
    "    print(\"Thread \" +str(name)+ \": starting.\")\n",
    "    time.sleep(2)\n",
    "    print(\"Thread \" +str(name)+\": finishing.\")\n",
    "\n",
    "if __name__ == \"__main__\":\n",
    "    print(\"Main    : before creating thread.\")\n",
    "    x = threading.Thread(target=thread_function, args=(1,),daemon=True) #Thread run thread_function() and to pass it 1 as an argument.\n",
    "    print(\"Main    : before running thread.\")\n",
    "    x.start()\n",
    "    print(\"Main    : wait for the thread to finish.\")\n",
    "    x.join  # If you uncomment that line, the main thread will pause and wait for the thread x to complete running.\n",
    "    print(\"Main    : all done.\")"
   ]
  },
  {
   "cell_type": "code",
   "execution_count": 12,
   "metadata": {},
   "outputs": [
    {
     "name": "stdout",
     "output_type": "stream",
     "text": [
      "Main    : create and start thread 0.\n",
      "Thread 0: starting.\n",
      "Main    : create and start thread 1.\n",
      "Thread 1: starting.Main    : create and start thread 2.\n",
      "\n",
      "Thread 2: starting.\n",
      "Main    : before joining thread 0.\n",
      "Thread 0: finishing.\n",
      "Main    : thread 0 done.\n",
      "Main    : before joining thread 1.\n",
      "Thread 1: finishing.Thread 2: finishing.\n",
      "\n",
      "Main    : thread 1 done.\n",
      "Main    : before joining thread 2.\n",
      "Main    : thread 2 done.\n"
     ]
    }
   ],
   "source": [
    "import threading\n",
    "import time\n",
    "\n",
    "def thread_function(name):\n",
    "    print(\"Thread \" +str(name)+ \": starting.\")\n",
    "    time.sleep(2)\n",
    "    print(\"Thread \" +str(name)+\": finishing.\")\n",
    "\n",
    "if __name__ == \"__main__\":\n",
    "\n",
    "    threads = list()\n",
    "    for index in range(3):\n",
    "        print(\"Main    : create and start thread \"+str(index)+\".\")\n",
    "        x = threading.Thread(target=thread_function, args=(index,))\n",
    "        threads.append(x)\n",
    "        x.start()\n",
    "\n",
    "    for index, thread in enumerate(threads):\n",
    "        print(\"Main    : before joining thread \"+str(index)+\".\")\n",
    "        thread.join()\n",
    "        print(\"Main    : thread \"+ str(index)+\" done.\")"
   ]
  },
  {
   "cell_type": "code",
   "execution_count": null,
   "metadata": {},
   "outputs": [],
   "source": [
    "Using a ThreadpoolExecutor\n",
    "Create a pool of treads, using the with statement to manage the creation and destruction of the pool."
   ]
  },
  {
   "cell_type": "code",
   "execution_count": 13,
   "metadata": {},
   "outputs": [
    {
     "name": "stdout",
     "output_type": "stream",
     "text": [
      "Thread 0: starting.\n",
      "Thread 1: starting.\n",
      "Thread 2: starting.\n",
      "Thread 0: finishing.\n",
      "Thread 2: finishing.Thread 1: finishing.\n",
      "\n"
     ]
    }
   ],
   "source": [
    "import concurrent.futures\n",
    "\n",
    "def thread_function(name):\n",
    "    print(\"Thread \" +str(name)+ \": starting.\")\n",
    "    time.sleep(2)\n",
    "    print(\"Thread \" +str(name)+\": finishing.\")\n",
    "\n",
    "if __name__ == \"__main__\":\n",
    "    with concurrent.futures.ThreadPoolExecutor(max_workers=3) as executor:\n",
    "        executor.map(thread_function, range(3))"
   ]
  },
  {
   "cell_type": "code",
   "execution_count": null,
   "metadata": {},
   "outputs": [],
   "source": []
  }
 ],
 "metadata": {
  "kernelspec": {
   "display_name": "Python 3",
   "language": "python",
   "name": "python3"
  }
 },
 "nbformat": 4,
 "nbformat_minor": 4
}
