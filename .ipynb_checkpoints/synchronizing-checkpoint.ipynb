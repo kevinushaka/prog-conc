{
 "cells": [
  {
   "cell_type": "raw",
   "metadata": {},
   "source": [
    "Référence(s):\n",
    "    https://docs.python.org/fr/3/library/_thread.html"
   ]
  },
  {
   "cell_type": "markdown",
   "metadata": {},
   "source": [
    "# Synchronizing Threads (module _thread)"
   ]
  },
  {
   "cell_type": "raw",
   "metadata": {},
   "source": [
    "Un nouveau verrou est créé en appelant la méthode _thread.allocate_lock()\n",
    ", qui renvoie le nouveau verrou.\n",
    "\n",
    "La méthode lock.acquire(waitflag=1, timeout=-1) est utilisée pour forcer les threads à s'exécuter de manière synchrone. Sans aucun argument facultatif, cette méthode acquiert le verrou sans condition, si nécessaire en attendant qu'il soit libéré par un autre thread (un seul thread à la fois peut acquérir un verrou - c'est leur raison d'être).\n",
    "\n",
    "La méthode lock.release() du nouvel objet de verrouillage est utilisée pour libérer le verrou lorsqu'il n'est plus nécessaire."
   ]
  },
  {
   "cell_type": "code",
   "execution_count": null,
   "metadata": {},
   "outputs": [],
   "source": [
    "import _thread\n",
    "\n",
    "a_lock = _thread.allocate_lock()\n",
    "\n",
    "with a_lock:\n",
    "    print(\"a_lock is locked while this executes\")"
   ]
  },
  {
   "cell_type": "code",
   "execution_count": 5,
   "metadata": {},
   "outputs": [
    {
     "name": "stdout",
     "output_type": "stream",
     "text": [
      "Count: 0\n",
      "Done.\n"
     ]
    },
    {
     "name": "stderr",
     "output_type": "stream",
     "text": [
      "Exception ignored in thread started by: <function thread_function at 0x000001DDA7350C10>\n",
      "Traceback (most recent call last):\n",
      "  File \"<ipython-input-5-9a9a5bc453b4>\", line 12, in thread_function\n",
      "Exception ignored in thread started by: <function thread_function at 0x000001DDA7350C10>\n",
      "Traceback (most recent call last):\n",
      "  File \"<ipython-input-5-9a9a5bc453b4>\", line 12, in thread_function\n",
      "Exception ignored in thread started by: <function thread_function at 0x000001DDA7350C10>\n",
      "Traceback (most recent call last):\n",
      "  File \"<ipython-input-5-9a9a5bc453b4>\", line 12, in thread_function\n",
      "UnboundLocalError: local variable 'counter' referenced before assignment\n",
      "UnboundLocalError: local variable 'counter' referenced before assignment\n"
     ]
    },
    {
     "name": "stdout",
     "output_type": "stream",
     "text": [
      "Thread 1733: starting.Thread 99: starting.\n",
      "Thread 999: starting.\n",
      "\n"
     ]
    },
    {
     "name": "stderr",
     "output_type": "stream",
     "text": [
      "UnboundLocalError: local variable 'counter' referenced before assignment\n"
     ]
    }
   ],
   "source": [
    "import _thread\n",
    "import time\n",
    "from _thread import start_new_thread\n",
    "import time\n",
    "\n",
    "def thread_function(name):\n",
    "    a_lock = _thread.allocate_lock()\n",
    "    a_lock.acquire()\n",
    "    print(\"Thread \" +str(name)+ \": starting.\")\n",
    "    counter+=1\n",
    "    a_lock.release()\n",
    "\n",
    "start_new_thread(thread_function,(99,))\n",
    "start_new_thread(thread_function,(999,))\n",
    "start_new_thread(thread_function,(1733,))\n",
    "\n",
    "print(\"Count: \"+str(counter))\n",
    "print(\"Done.\")"
   ]
  },
  {
   "cell_type": "code",
   "execution_count": null,
   "metadata": {},
   "outputs": [],
   "source": []
  }
 ],
 "metadata": {
  "kernelspec": {
   "display_name": "Python 3",
   "language": "python",
   "name": "python3"
  },
  "language_info": {
   "codemirror_mode": {
    "name": "ipython",
    "version": 3
   },
   "file_extension": ".py",
   "mimetype": "text/x-python",
   "name": "python",
   "nbconvert_exporter": "python",
   "pygments_lexer": "ipython3",
   "version": "3.8.3"
  }
 },
 "nbformat": 4,
 "nbformat_minor": 4
}
