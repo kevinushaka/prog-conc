{
 "cells": [
  {
   "cell_type": "markdown",
   "metadata": {},
   "source": [
    "# Simulation de déplacement d'une foule\n",
    "\n",
    "USHAKA KUBWAWE Kévin\n",
    "ADANLEHOUSSI Denis"
   ]
  },
  {
   "cell_type": "markdown",
   "metadata": {
    "ExecuteTime": {
     "end_time": "2020-09-09T14:05:18.487484Z",
     "start_time": "2020-09-09T14:05:18.483571Z"
    }
   },
   "source": [
    "## Introduction\n",
    "<span style=\"color:red\">Mettre ici votre description du projet.</span>"
   ]
  },
  {
   "cell_type": "markdown",
   "metadata": {
    "toc": true
   },
   "source": [
    "<h1>Table of Contents<span class=\"tocSkip\"></span></h1>\n",
    "<div class=\"toc\"><ul class=\"toc-item\"><li><span><a href=\"#Introduction\" data-toc-modified-id=\"Introduction-1\"><span class=\"toc-item-num\">1&nbsp;&nbsp;</span>Introduction</a></span></li><li><span><a href=\"#Bibliothèque-Python-pour-le-multi-flots-d'exécution.\" data-toc-modified-id=\"Bibliothèque-Python-pour-le-multi-flots-d'exécution.-2\"><span class=\"toc-item-num\">2&nbsp;&nbsp;</span>Bibliothèque Python pour le multi-flots d'exécution.</a></span></li><li><span><a href=\"#Les-mécanismes-de-synchronisation-en-Python\" data-toc-modified-id=\"Les-mécanismes-de-synchronisation-en-Python-3\"><span class=\"toc-item-num\">3&nbsp;&nbsp;</span>Les mécanismes de synchronisation en Python</a></span></li><li><span><a href=\"#Définitions-de-quelques-procédures-pour-initialiser-une-grille-à-partir-d'un-fichier-de-configuration\" data-toc-modified-id=\"Définitions-de-quelques-procédures-pour-initialiser-une-grille-à-partir-d'un-fichier-de-configuration-4\"><span class=\"toc-item-num\">4&nbsp;&nbsp;</span>Définitions de quelques procédures pour initialiser une grille à partir d'un fichier de configuration</a></span><ul class=\"toc-item\"><li><span><a href=\"#Définition-de-la-grille\" data-toc-modified-id=\"Définition-de-la-grille-4.1\"><span class=\"toc-item-num\">4.1&nbsp;&nbsp;</span>Définition de la grille</a></span></li><li><span><a href=\"#Définition-d'un-obstacle\" data-toc-modified-id=\"Définition-d'un-obstacle-4.2\"><span class=\"toc-item-num\">4.2&nbsp;&nbsp;</span>Définition d'un obstacle</a></span></li><li><span><a href=\"#Définition-d'une-personne\" data-toc-modified-id=\"Définition-d'une-personne-4.3\"><span class=\"toc-item-num\">4.3&nbsp;&nbsp;</span>Définition d'une personne</a></span></li><li><span><a href=\"#Construction-d'une-image-pour-OpenCV\" data-toc-modified-id=\"Construction-d'une-image-pour-OpenCV-4.4\"><span class=\"toc-item-num\">4.4&nbsp;&nbsp;</span>Construction d'une image pour OpenCV</a></span></li></ul></li><li><span><a href=\"#Solution-itérative\" data-toc-modified-id=\"Solution-itérative-5\"><span class=\"toc-item-num\">5&nbsp;&nbsp;</span>Solution itérative</a></span><ul class=\"toc-item\"><li><span><a href=\"#Avec-trace-mais-sans-visualisation\" data-toc-modified-id=\"Avec-trace-mais-sans-visualisation-5.1\"><span class=\"toc-item-num\">5.1&nbsp;&nbsp;</span>Avec trace mais sans visualisation</a></span></li><li><span><a href=\"#Visualisation-de-chacune-des-itérations-avec-Matplotlib\" data-toc-modified-id=\"Visualisation-de-chacune-des-itérations-avec-Matplotlib-5.2\"><span class=\"toc-item-num\">5.2&nbsp;&nbsp;</span>Visualisation de chacune des itérations avec Matplotlib</a></span></li><li><span><a href=\"#Visualisation-de-chacune-des-itérations-avec-OpenCV\" data-toc-modified-id=\"Visualisation-de-chacune-des-itérations-avec-OpenCV-5.3\"><span class=\"toc-item-num\">5.3&nbsp;&nbsp;</span>Visualisation de chacune des itérations avec OpenCV</a></span></li><li><span><a href=\"#Sans-trace-mais-avec-visualisation\" data-toc-modified-id=\"Sans-trace-mais-avec-visualisation-5.4\"><span class=\"toc-item-num\">5.4&nbsp;&nbsp;</span>Sans trace mais avec visualisation</a></span></li><li><span><a href=\"#Utilisation-des-procédures-précédentes-pour-créer-une-nouvelle-grille-qui-sera-sauvegardée-dans-un-fichier\" data-toc-modified-id=\"Utilisation-des-procédures-précédentes-pour-créer-une-nouvelle-grille-qui-sera-sauvegardée-dans-un-fichier-5.5\"><span class=\"toc-item-num\">5.5&nbsp;&nbsp;</span>Utilisation des procédures précédentes pour créer une nouvelle grille qui sera sauvegardée dans un fichier</a></span></li></ul></li><li><span><a href=\"#Votre-travail\" data-toc-modified-id=\"Votre-travail-6\"><span class=\"toc-item-num\">6&nbsp;&nbsp;</span><span style=\"color: red\">Votre travail</span></a></span></li><li><span><a href=\"#Scénario-1\" data-toc-modified-id=\"Scénario-1-7\"><span class=\"toc-item-num\">7&nbsp;&nbsp;</span>Scénario 1</a></span></li><li><span><a href=\"#Scénario-2\" data-toc-modified-id=\"Scénario-2-8\"><span class=\"toc-item-num\">8&nbsp;&nbsp;</span>Scénario 2</a></span></li><li><span><a href=\"#Scénario-3\" data-toc-modified-id=\"Scénario-3-9\"><span class=\"toc-item-num\">9&nbsp;&nbsp;</span>Scénario 3</a></span></li><li><span><a href=\"#Comparaison-des-trois-approches\" data-toc-modified-id=\"Comparaison-des-trois-approches-10\"><span class=\"toc-item-num\">10&nbsp;&nbsp;</span>Comparaison des trois approches</a></span></li><li><span><a href=\"#Export-du-notebook-dans-un-fichier-python\" data-toc-modified-id=\"Export-du-notebook-dans-un-fichier-python-11\"><span class=\"toc-item-num\">11&nbsp;&nbsp;</span>Export du notebook dans un fichier python</a></span></li></ul></div>"
   ]
  },
  {
   "cell_type": "markdown",
   "metadata": {},
   "source": [
    "## Bibliothèque Python pour le multi-flots d'exécution.\n",
    "\n",
    "<span style=\"color:red\">Dans cette section vous présenterez votre étude comparative, avec exemple, des bibliothèques python permettant d'exécuter plusieurs flots en parallèle</span>\n",
    "\n",
    "<span style=\"color:red\">Vous préciserez de manière justifiée à la fin de cette section la bibliothèque choisie. La cellule suivante, exécutable comprendra l'import de la bibliothèque.</span>"
   ]
  },
  {
   "cell_type": "code",
   "execution_count": 1,
   "metadata": {},
   "outputs": [],
   "source": [
    "import threading"
   ]
  },
  {
   "cell_type": "markdown",
   "metadata": {},
   "source": [
    "Il existe plusieures modules qui prennent en charge l'utilisation des threads en Python: _thread, multiprocessing, threading, asyncio.\n",
    "\n",
    "Le module _thread traite un thread comme une fonction, tandis que les modules multiprocessing, threading et asyncio sont implémentés de manière orientée objet, c'est-à-dire que chaque processus/thread correspond à un objet.\n",
    "\n",
    "Quand on fait du multi-threading en python, 2 threads ne peuvent pas exécuter du code python en même temps à cause du Global Interpreter Lock. L'exécution simultanée de plusieurs tâches nécessite une implémentation non standard de Python ou l'utilisation du multiprocessing qui entraîne une surcharge supplémentaire.\n",
    "\n",
    "Quand on fait du multi-processing, c'est plus lourd, car il faut créer des processus, et la communication entre process est plus difficile car ils ne partagent pas la mémoire.\n",
    "\n",
    "\n",
    "#Pourquoi GIL? Python utilise le comptage de références pour la gestion de la mémoire. Cela signifie que les objets créés en Python ont une variable de comptage de références qui assure le suivi du nombre de références pointant vers l'objet. Lorsque ce décompte atteint zéro, la mémoire occupée par l'objet est libérée.\n",
    "\n",
    "Le problème est que cette variable de comptage de référence nécessite une protection contre les conditions de concurrence où deux threads augmentent ou diminuent simultanément sa valeur. Cela peut provoquer une fuite de mémoire qui n'est jamais libérée ouune libération incorrecte de la mémoire alors qu'une référence à cet objet existe toujours.\n"
   ]
  },
  {
   "cell_type": "markdown",
   "metadata": {},
   "source": [
    "# _thread"
   ]
  },
  {
   "cell_type": "markdown",
   "metadata": {},
   "source": [
    "Il est possible d'exécuter des fonctions dans un thread séparé avec le module Thread.\n",
    "\n",
    "thread.start_new_thread (fonction, args [, kwargs])\n",
    "\n",
    "Cette méthode démarre un nouveau thread et renvoie son identifiant. Le thread exécute la fonction avec l'argument list args. L'argument kwargs facultatif spécifie un dictionnaire d'arguments de mot-clé. Lorsque la fonction revient, le thread se ferme silencieusement. Lorsque la fonction se termine avec une exception non gérée, une trace de pile est imprimée, puis le thread se termine.\n"
   ]
  },
  {
   "cell_type": "markdown",
   "metadata": {},
   "source": [
    "from _thread import start_new_thread\n",
    "import time\n",
    "\n",
    "def thread_function(name):\n",
    "    print(\"Thread \" +str(name)+ \": starting.\")\n",
    "    time.sleep(2)\n",
    "    print(\"Thread \" +str(name)+\": finishing.\")\n",
    "\n",
    "_thread.\n",
    "start_new_thread(thread_function,(99,))\n",
    "start_new_thread(thread_function,(999,))\n",
    "start_new_thread(thread_function,(1733,))\n",
    "\n",
    "print(\"Done.\")"
   ]
  },
  {
   "cell_type": "markdown",
   "metadata": {},
   "source": [
    "# threading"
   ]
  },
  {
   "cell_type": "markdown",
   "metadata": {},
   "source": [
    "Le module threading fournit une API de fils d'exécution de haut niveau, plus facile à utiliser et construite à partir de ce module.\n",
    "\n",
    "Pour implémenter un nouveau thread à l'aide du module de threading,on doit-\n",
    "\n",
    "Définir une nouvelle sous-classe de la classe Thread.\n",
    "\n",
    "Override la méthode __init __ (self [, args]) pour ajouter des arguments supplémentaires.\n",
    "\n",
    "Override la méthode run (self [, args]) pour implémenter ce que le thread doit faire au démarrage."
   ]
  },
  {
   "cell_type": "code",
   "execution_count": 2,
   "metadata": {},
   "outputs": [
    {
     "name": "stdout",
     "output_type": "stream",
     "text": [
      "Starting Thread-1\n",
      "Starting Thread-2\n",
      "Exiting Main Thread\n"
     ]
    }
   ],
   "source": [
    "import time\n",
    "\n",
    "exitFlag = 0\n",
    "\n",
    "class myThread (threading.Thread):\n",
    "   def __init__(self, threadID, name, counter):\n",
    "      threading.Thread.__init__(self)\n",
    "      self.threadID = threadID\n",
    "      self.name = name\n",
    "      self.counter = counter\n",
    "   def run(self):\n",
    "      print (\"Starting \" + self.name)\n",
    "      print_time(self.name, 5, self.counter)\n",
    "      print (\"Exiting \" + self.name)\n",
    "\n",
    "def print_time(threadName, counter, delay):\n",
    "   while counter:\n",
    "      if exitFlag:\n",
    "         threadName.exit()\n",
    "      time.sleep(delay)\n",
    "      print (threadName + time.ctime(time.time()))\n",
    "      counter -= 1\n",
    "\n",
    "# Create new threads\n",
    "thread1 = myThread(1, \"Thread-1\", 1)\n",
    "thread2 = myThread(2, \"Thread-2\", 2)\n",
    "\n",
    "# Start new Threads\n",
    "thread1.start()\n",
    "thread2.start()\n",
    "\n",
    "print (\"Exiting Main Thread\")"
   ]
  },
  {
   "cell_type": "markdown",
   "metadata": {},
   "source": [
    "# multiprocessing"
   ]
  },
  {
   "cell_type": "code",
   "execution_count": 3,
   "metadata": {},
   "outputs": [
    {
     "name": "stdout",
     "output_type": "stream",
     "text": [
      "Thread-1Sat Oct 31 20:48:54 2020\n"
     ]
    }
   ],
   "source": [
    "import multiprocessing"
   ]
  },
  {
   "cell_type": "markdown",
   "metadata": {},
   "source": [
    "Le module multiprocessing permet de tirer pleinement parti de plusieurs processeurs sur une machine donnée. L'API utilisée est similaire au module de threading classique. Pour créer un second processus, il faut instancier un objet Process avec une fonction cible et appeler start () pour le laisser commencer à fonctionner. Le guide de style multiprocessing Python recommande de placer le code multiprocesseur dans l'idiome name == 'main'. Cela est dû à la façon dont les processus sont créés sous Windows. Le but est d'éviter la boucle sans fin des générations de processus."
   ]
  },
  {
   "cell_type": "code",
   "execution_count": 4,
   "metadata": {},
   "outputs": [
    {
     "name": "stdout",
     "output_type": "stream",
     "text": [
      "Worker:1\n",
      "Worker:0Worker:2\n",
      "Worker:4\n",
      "Worker:3\n",
      "\n",
      "Thread-2Sat Oct 31 20:48:55 2020\n",
      "Thread-1Sat Oct 31 20:48:55 2020\n"
     ]
    }
   ],
   "source": [
    "def worker(num):\n",
    "    print ('Worker:'+ str(num))\n",
    "    return\n",
    "\n",
    "if __name__ == '__main__':\n",
    "    jobs = []\n",
    "    for i in range(5):\n",
    "        p = multiprocessing.Process(target=worker, args=(i,))\n",
    "        jobs.append(p)\n",
    "        p.start()"
   ]
  },
  {
   "cell_type": "markdown",
   "metadata": {},
   "source": [
    "Par défaut, le programme principal ne se fermera pas tant que tous les enfants ne seront pas sortis.\n",
    "\n",
    "Un thread daemon s'arrêtera immédiatement lorsque le programme se fermera. Le thread daemon est un thread qui s'exécute en arrière-plan sans se soucier de l'arrêter.\n",
    "\n",
    "Un programme exécutant des threads qui ne sont pas des daemon attendra que ces threads se terminent avant de se terminer. Cependant, les threads qui sont des daemons sont simplement tués où qu'ils soient lorsque le programme se termine.\n",
    "\n",
    "Pour marquer un processus comme un daemon, il faut définir son attribut de démon avec une valeur booléenne. La valeur par défaut est que les processus ne sont pas des daemon, donc passer True active le mode daemon."
   ]
  },
  {
   "cell_type": "code",
   "execution_count": 5,
   "metadata": {},
   "outputs": [
    {
     "name": "stdout",
     "output_type": "stream",
     "text": [
      "End of main thread\n",
      "Hello from non daemonHello from daemon\n",
      "Hello from daemon\n",
      "Hello from daemon\n",
      "Hello from daemon\n",
      "\n",
      "Hello from non daemonHello from daemon\n",
      "\n",
      "Hello from non daemon\n",
      "Hello from non daemon\n",
      "Hello from non daemon\n"
     ]
    }
   ],
   "source": [
    "import time\n",
    "import sys\n",
    "\n",
    "def nondaemon():\n",
    "    for x in range(5): \n",
    "        print(\"Hello from non daemon\")\n",
    "def daemon():\n",
    "    for x in range(5): \n",
    "        print(\"Hello from daemon\")\n",
    "    \n",
    "if __name__ == '__main__':\n",
    "    d = multiprocessing.Process(target=daemon)\n",
    "    d.daemon = True\n",
    "\n",
    "    n = multiprocessing.Process(target=nondaemon)\n",
    "    n.daemon = False\n",
    "\n",
    "    d.start()\n",
    "    n.start()\n",
    "\n",
    "    print(\"End of main thread\")"
   ]
  },
  {
   "cell_type": "markdown",
   "metadata": {},
   "source": [
    "Les processus ont leur propre espace virtuel, ils ne partagent pas leur mémoire. C'est pourquoi le module multiprocessing gère deux types de canaux de communication entre les processus : Queue , Tubes."
   ]
  },
  {
   "cell_type": "code",
   "execution_count": 6,
   "metadata": {},
   "outputs": [
    {
     "name": "stdout",
     "output_type": "stream",
     "text": [
      "[42, None, 'hello']\n",
      "Thread-1Sat Oct 31 20:48:56 2020\n"
     ]
    }
   ],
   "source": [
    "from multiprocessing import Process, Queue\n",
    "\n",
    "def f(q):\n",
    "    q.put([42, None, 'hello'])\n",
    "\n",
    "if __name__ == '__main__':\n",
    "    q = Queue()\n",
    "    p = Process(target=f, args=(q,))\n",
    "    p.start()\n",
    "    print(q.get())    # prints \"[42, None, 'hello']\"\n",
    "    p.join()"
   ]
  },
  {
   "cell_type": "markdown",
   "metadata": {},
   "source": [
    "Pour utiliser un tube on instancie un objet Pipe. Les deux objets de connexion renvoyés par Pipe() représentent les deux bouts d'un tube. Chaque objet de connexion possède des méthodes send() et recv()."
   ]
  },
  {
   "cell_type": "code",
   "execution_count": 7,
   "metadata": {},
   "outputs": [
    {
     "name": "stdout",
     "output_type": "stream",
     "text": [
      "[42, None, 'hello']\n"
     ]
    }
   ],
   "source": [
    "from multiprocessing import Process, Pipe\n",
    "\n",
    "def f(conn):\n",
    "    conn.send([42, None, 'hello'])\n",
    "    conn.close()\n",
    "\n",
    "if __name__ == '__main__':\n",
    "    parent_conn, child_conn = Pipe()\n",
    "    p = Process(target=f, args=(child_conn,))\n",
    "    p.start()\n",
    "    print(parent_conn.recv())   # prints \"[42, None, 'hello']\"\n",
    "    p.join()"
   ]
  },
  {
   "cell_type": "markdown",
   "metadata": {},
   "source": [
    "Il est également possible de créer des objets partagés utilisant une mémoire partagée pouvant être héritée par les processus enfants avec multiprocessing.Value(typecode_or_type, *args, lock=True).\n",
    "\n",
    "Les opérations telles que += qui impliquent une lecture et une écriture ne sont pas atomique. Ainsi si on souhaite par exemple réaliser une incrémentation atomique sur une valeur partagée, on ne peut pas simplement faire."
   ]
  },
  {
   "cell_type": "code",
   "execution_count": 8,
   "metadata": {},
   "outputs": [
    {
     "name": "stdout",
     "output_type": "stream",
     "text": [
      "Thread-2Sat Oct 31 20:48:57 2020\n",
      "Thread-1Sat Oct 31 20:48:57 2020\n",
      "Final balance = 2\n"
     ]
    }
   ],
   "source": [
    "# function to deposit to account \n",
    "def increment(variable):     \n",
    "    variable.value = variable.value + 1\n",
    "\n",
    "if __name__ == \"__main__\": \n",
    "    counter = multiprocessing.Value('i', 0)\n",
    "\n",
    "    p1 = multiprocessing.Process(target=increment, args=(counter,)) \n",
    "    p2 = multiprocessing.Process(target=increment, args=(counter,)) \n",
    "  \n",
    "    p1.start() \n",
    "    p2.start() \n",
    "\n",
    "    p1.join();\n",
    "    p2.join();\n",
    "\n",
    "    print(\"Final balance = \"+str(counter.value)) "
   ]
  },
  {
   "cell_type": "markdown",
   "metadata": {},
   "source": [
    "# **asyncio**"
   ]
  },
  {
   "cell_type": "markdown",
   "metadata": {},
   "source": [
    "Le concept général de asyncio est qu’un seul objet Python, appelé la boucle d’événements, contrôle comment et quand chaque tâche est exécutée. La boucle d’événements est consciente de chaque tâche et sait dans quel état elle se trouve. En réalité, il existe de nombreux états dans lesquels les tâches pourraient être mais nous allons dans un souci de simplicité supposer qu'il n'y a que deux états.\n",
    "\n",
    "L’état prêt indique qu’une tâche a du travail à faire et est prête à être exécutée, et l’état d’attente signifie que la tâche attend que quelque chose externe se termine (une opération réseau par exemple).\n",
    "\n",
    "La boucle d’événements simplifiée gère deux listes de tâches, une pour chacun de ces états. Il sélectionne l’une des tâches prêtes et la redémarre. Cette tâche est sous contrôle complet jusqu’à ce qu’elle remette en coopération le contrôle à la boucle d’événements.\n",
    "\n",
    "Lorsque la tâche en cours d’exécution redonne le contrôle à la boucle d’événements, la boucle d’événements place cette tâche dans la liste prête ou en attente, puis passe en revue chacune des tâches de la liste d’attente pour voir si elle est devenue prête par une opération d’E/S achèvement. Et ainsi de suite jusqu'a la fin de l'execution du programme."
   ]
  },
  {
   "cell_type": "raw",
   "metadata": {},
   "source": [
    "import asyncio"
   ]
  },
  {
   "cell_type": "raw",
   "metadata": {},
   "source": [
    "#!/usr/bin/env python3\n",
    "# countasync.py\n",
    "\n",
    "async def count():\n",
    "    print(\"One\")\n",
    "    await asyncio.sleep(1)\n",
    "    print(\"Two\")\n",
    "\n",
    "async def main():\n",
    "    await asyncio.gather(count(), count(), count())\n",
    "\n",
    "if __name__ == \"__main__\":\n",
    "    import time\n",
    "    s = time.perf_counter()\n",
    "    loop = asyncio.get_event_loop()\n",
    "    loop.run_until_complete(main())\n",
    "    elapsed = time.perf_counter() - s\n",
    "    print(f\"{__file__} executed in {elapsed:0.2f} seconds.\")"
   ]
  },
  {
   "cell_type": "markdown",
   "metadata": {
    "id": "6OmbtcHrOxe5"
   },
   "source": [
    "## Bilan\n",
    "\n",
    "*  _thread ne nous permet que de créer des thread. Nous n'avons pas la flexibilite de gerer à notre gré les processus concurents\n",
    "*  Pour multiprocessing, les processus auront leur propre espace virtuel, ils ne partageront pas leur mémoire. Ce qui n'est pas idéal pour notre probleme vu que nos personnes doivent partager une meme ressource : la grille\n",
    "\n",
    "\n",
    "*   Tout comme _thread asyncio nous pemet de mettre en section critique tou une methode sans avoir la flexibilité de gerer de maniere isolé des varible specifiques.\n",
    "*   threading lui nous permet de gerer avec flexibilité de part toutes les primitives qu'elle nous offre les section criques, aussi bien sur des methodes mais aussi sur des variables specifiques.\n",
    "\n",
    "Nous avons donc pour cela decidé d'utiliser la bibliotheque **threading**\n",
    "\n",
    "\n",
    "\n",
    "\n"
   ]
  },
  {
   "cell_type": "markdown",
   "metadata": {},
   "source": [
    "## Les mécanismes de synchronisation en Python\n",
    "\n",
    "<span style=\"color:red\">Dans cette section vous présenterez votre étude comparative, avec exemple, des mécanimes présent dans la bibliothèque ou pouvant être associé pour construire une section critique ou permettant de contrôler l'accès à des ressources critiques.\n",
    "    \n",
    "<span style=\"color:red\">Vous préciserez de manière justifiée à la fin de cette section les mécanismes choisis. La cellule suivante, exécutable comprendra l'import des bibliothèques.</span>"
   ]
  },
  {
   "cell_type": "markdown",
   "metadata": {},
   "source": [
    "### Lock\n",
    "\n",
    "Un verrou primitif est soit « verrouillé » soit « déverrouillé ». Il est créé dans un état déverrouillé. Il a deux méthodes, acquire() et release(). Lorsque l'état est déverrouillé, acquire() verrouille et se termine immédiatement. Lorsque l'état est verrouillé, acquire() bloque jusqu'à ce qu'un appel à release() provenant d'un autre fil d'exécution le déverrouille.\n",
    "\n",
    "Lorsque plus d'un thread est bloqué dans acquire () en attendant que l'état passe à déverrouillé, un seul thread se poursuit lorsqu'un appel release () réinitialise l'état à déverrouillé; lequel des threads en attente continue n'est pas défini et peut varier selon les implémentations.\n",
    "\n",
    "Pour un fonctionnement correct, il est important de libérer le verrou même si quelque chose ne va pas lors de l’accès à la ressource. On peut utiliser try-finally.\n",
    "\n",
    "lock.acquire()\n",
    "try:\n",
    "    ... access shared resource\n",
    "finally:\n",
    "    lock.release() # release lock, no matter what\n",
    "    \n",
    "La méthode acquire() prend un indicateur d'attente facultatif, qui peut être utilisé pour éviter le blocage si le verrou est détenu par quelqu'un d'autre."
   ]
  },
  {
   "cell_type": "markdown",
   "metadata": {},
   "source": [
    "if not lock.acquire(False):\n",
    "    ... failed to lock the resource\n",
    "else:\n",
    "    try:\n",
    "        ... access shared resource\n",
    "    finally:\n",
    "        lock.release()"
   ]
  },
  {
   "cell_type": "markdown",
   "metadata": {},
   "source": [
    "Dans l'exemple suivant, deux methodes utilisent une même varible globale g, on gère pas les sections critqiues.\n",
    "\n",
    "Dans add_one_one() on reinitialise g à 0 puis on l'incrément de 1. Par la suite on cré une boucle de 30 avec affichage de texte juste pour faire durer l'execution de la methode . On incremente encore une fois g avant de l'afficher La resultat attendu appres cette afficheage est donc 2.\n",
    "\n",
    "Dans add_two() on incremente juste g de 2.\n",
    "\n",
    "Nous appelons deux threads sur ces deux methodes (add_one_one() en premier et add_two() apres).\n",
    "Notons que l'on attends que les deux threads se termine ( fonction join()), pour afficher le résultat seulement lexecution totale des deux Threads."
   ]
  },
  {
   "cell_type": "code",
   "execution_count": 11,
   "metadata": {},
   "outputs": [
    {
     "name": "stdout",
     "output_type": "stream",
     "text": [
      "boucle d'attente\n",
      "boucle d'attente\n",
      "boucle d'attente\n",
      "boucle d'attente\n",
      "boucle d'attente\n",
      "boucle d'attente\n",
      "boucle d'attente\n",
      "boucle d'attente\n",
      "boucle d'attente\n",
      "boucle d'attente\n",
      "boucle d'attente\n",
      "boucle d'attente\n",
      "boucle d'attente\n",
      "boucle d'attente\n",
      "boucle d'attente\n",
      "boucle d'attente\n",
      "boucle d'attente\n",
      "boucle d'attente\n",
      "boucle d'attente\n",
      "boucle d'attente\n",
      "boucle d'attente\n",
      "boucle d'attente\n",
      "boucle d'attente\n",
      "boucle d'attente\n",
      "boucle d'attente\n",
      "boucle d'attente\n",
      "boucle d'attente\n",
      "boucle d'attente\n",
      "boucle d'attente\n",
      "boucle d'attente\n",
      "Affichage de g dans add one one : 4\n",
      "4\n"
     ]
    }
   ],
   "source": [
    "#lock_tut.py\n",
    "from threading import Lock, Thread\n",
    "lock = Lock()\n",
    "g = 0\n",
    "\n",
    "def add_one_one():\n",
    "\n",
    "   global g\n",
    "   g=0\n",
    "   g += 1\n",
    "   for i in range(30):\n",
    "     print('boucle d\\'attente')\n",
    "   g += 1\n",
    "   print('Affichage de g dans add one one :',g)\n",
    "\n",
    "def add_two():\n",
    "   global g\n",
    "   g += 2\n",
    "\n",
    "threads = []\n",
    "for func in [add_one_one, add_two]:\n",
    "   threads.append(Thread(target=func))\n",
    "\n",
    "threads[0].start() \n",
    "threads[1].start()\n",
    "\n",
    "for thread in threads:\n",
    "   \"\"\"\n",
    "   Waits for threads to complete before moving on with the main\n",
    "   script.\n",
    "   \"\"\"\n",
    "   thread.join()\n",
    "\n",
    "print(g)"
   ]
  },
  {
   "cell_type": "markdown",
   "metadata": {},
   "source": [
    "Dans l'exemple suivant, nous gèrons les sections critqiues avec le verrou threading.Lock. On obtient toujours 2 pour l'affichage dans add_one_one et 4 à la fin"
   ]
  },
  {
   "cell_type": "code",
   "execution_count": 12,
   "metadata": {},
   "outputs": [
    {
     "name": "stdout",
     "output_type": "stream",
     "text": [
      "boucle d'attente\n",
      "boucle d'attente\n",
      "boucle d'attente\n",
      "boucle d'attente\n",
      "boucle d'attente\n",
      "boucle d'attente\n",
      "boucle d'attente\n",
      "boucle d'attente\n",
      "boucle d'attente\n",
      "boucle d'attente\n",
      "boucle d'attente\n",
      "boucle d'attente\n",
      "boucle d'attente\n",
      "boucle d'attente\n",
      "boucle d'attente\n",
      "boucle d'attente\n",
      "boucle d'attente\n",
      "boucle d'attente\n",
      "boucle d'attente\n",
      "boucle d'attente\n",
      "boucle d'attente\n",
      "boucle d'attente\n",
      "boucle d'attente\n",
      "boucle d'attente\n",
      "boucle d'attente\n",
      "boucle d'attente\n",
      "boucle d'attente\n",
      "boucle d'attente\n",
      "boucle d'attente\n",
      "boucle d'attente\n",
      "Affichage de g dans add one : 2\n",
      "4\n",
      "Thread-2Sat Oct 31 20:49:03 2020\n",
      "Exiting Thread-2\n"
     ]
    }
   ],
   "source": [
    "#lock_tut.py\n",
    "from threading import Lock, Thread\n",
    "lock = Lock()\n",
    "g = 0\n",
    "\n",
    "def add_one():\n",
    "   global g\n",
    "   lock.acquire()\n",
    "   g=0\n",
    "   g += 1\n",
    "   for i in range(30):\n",
    "     print('boucle d\\'attente')\n",
    "   g += 1\n",
    "   print('Affichage de g dans add one :',g)\n",
    "   lock.release()\n",
    "\n",
    "def add_two():\n",
    "   global g\n",
    "   lock.acquire()\n",
    "   g += 2\n",
    "   lock.release()\n",
    "\n",
    "threads = []\n",
    "for func in [add_one, add_two]:\n",
    "   threads.append(Thread(target=func))\n",
    "   threads[-1].start()\n",
    "\n",
    "for thread in threads:\n",
    "   \"\"\"\n",
    "   Waits for threads to complete before moving on with the main\n",
    "   script.\n",
    "   \"\"\"\n",
    "   thread.join()\n",
    "\n",
    "print(g)"
   ]
  },
  {
   "cell_type": "markdown",
   "metadata": {},
   "source": [
    "### ReLock\n",
    "\n",
    "L'objet de verrouillage standard ne se soucie pas du thread qui détient actuellement le verrou; si le verrou est maintenu, tout thread qui tente d'acquérir le verrou se bloque, même si le même thread détient déjà le verrou. Dans l'exemple suivant, les fonctions get_first_part() et get_second_part() resteront bloquées, car la fonction externe increment() détient déjà le verrou."
   ]
  },
  {
   "cell_type": "code",
   "execution_count": 13,
   "metadata": {},
   "outputs": [
    {
     "name": "stdout",
     "output_type": "stream",
     "text": [
      "First try : True\n",
      "Second try: False\n",
      "print this if not blocked...\n"
     ]
    }
   ],
   "source": [
    "lock = threading.Lock()\n",
    "\n",
    "print('First try :',lock.acquire())\n",
    "print('Second try:',lock.acquire(0))\n",
    "print(\"print this if not blocked...\")"
   ]
  },
  {
   "cell_type": "markdown",
   "metadata": {},
   "source": [
    "La classe RLock est une version du verrouillage qui ne se bloque que si le verrou est détenu par un autre thread. Alors que les verrous simples se bloquent si le même thread tente d'acquérir le même verrou deux fois, un verrou rentrant ne se bloque que si un autre thread détient actuellement le verrou. Si le thread actuel tente d'acquérir un verrou qu'il détient déjà, l'exécution se poursuit comme d'habitude."
   ]
  },
  {
   "cell_type": "code",
   "execution_count": 14,
   "metadata": {},
   "outputs": [
    {
     "name": "stdout",
     "output_type": "stream",
     "text": [
      "First try : True\n",
      "Second try: True\n",
      "print this if not blocked...\n"
     ]
    }
   ],
   "source": [
    "lock = threading.RLock()\n",
    "\n",
    "print('First try :', lock.acquire())\n",
    "print('Second try:', lock.acquire(blocking = True, timeout = -1))\n",
    "print(\"print this if not blocked...\")"
   ]
  },
  {
   "cell_type": "markdown",
   "metadata": {},
   "source": [
    "En reprenant le même exemple mais avec un ReLock, , on réussi à réobtenir le verrou."
   ]
  },
  {
   "cell_type": "markdown",
   "metadata": {},
   "source": [
    "### Semaphore\n",
    "\n",
    "Un sémaphore gère un compteur interne qui est décrémenté à chaque appel acquise () et incrémenté à chaque appel release (). Le compteur ne peut jamais descendre en dessous de zéro; quand acquiert () trouve qu'il est égal à zéro, il bloque, en attendant qu'un autre thread appelle release ()."
   ]
  },
  {
   "cell_type": "code",
   "execution_count": 15,
   "metadata": {},
   "outputs": [
    {
     "name": "stdout",
     "output_type": "stream",
     "text": [
      "Waiting for a lock\n",
      "Acquired a lock\n",
      "Released a lock\n",
      "Done\n",
      "Waiting for a lockWaiting for worker threads\n",
      "\n",
      "Acquired a lock\n",
      "Released a lock\n",
      "Done\n",
      "Counter:2\n"
     ]
    }
   ],
   "source": [
    "class Counter(object):\n",
    "    def __init__(self, start = 0):\n",
    "        self.semaphore = threading.BoundedSemaphore(value=1)\n",
    "        self.value = start\n",
    "    def increment(self):\n",
    "        print('Waiting for a lock')\n",
    "        self.semaphore.acquire()\n",
    "        try:\n",
    "            print('Acquired a lock')\n",
    "            self.value = self.value + 1\n",
    "        finally:\n",
    "            print('Released a lock')\n",
    "            self.semaphore.release()\n",
    "\n",
    "def worker(c):\n",
    "    c.increment()\n",
    "    print('Done')\n",
    "\n",
    "\n",
    "my_list=[]\n",
    "counter = Counter()\n",
    "for i in range(2):\n",
    "    t = threading.Thread(target=worker, args=(counter,))\n",
    "    my_list.append(t)\n",
    "    t.start()\n",
    "\n",
    "print('Waiting for worker threads')\n",
    "main_thread = threading.currentThread()\n",
    "for t in my_list:\n",
    "    t.join()\n",
    "print('Counter:'+ str(counter.value))"
   ]
  },
  {
   "cell_type": "markdown",
   "metadata": {
    "id": "beVDLK0aFmUq"
   },
   "source": [
    "### Les objets condition\n",
    "La gestion de la concurrence se fait aussi atravers les objets obtenus à base de la methode condition(). Celui-ci permet lors d'un accées à la ressource de créer une attente du thread pour une condition donnée. A chaque modification, la condition notifie les autres thread afin que la condition soit réévaluée."
   ]
  },
  {
   "cell_type": "raw",
   "metadata": {
    "colab": {
     "base_uri": "https://localhost:8080/"
    },
    "id": "6aMn1EugIK8Q",
    "outputId": "7e331e10-a20a-428b-89df-fe1a47ae7cb0"
   },
   "source": [
    "import threading\n",
    "import time\n",
    "import logging\n",
    "\n",
    "logging.basicConfig(level=logging.DEBUG,\n",
    "                    format='(%(threadName)-9s) %(message)s',)\n",
    "\n",
    "def consumer(cv):\n",
    "    logging.debug('Consumer thread started ...')\n",
    "    with cv:\n",
    "        logging.debug('Consumer waiting ...')\n",
    "        cv.wait()\n",
    "        logging.debug('Consumer consumed the resource')\n",
    "\n",
    "def producer(cv):\n",
    "    logging.debug('Producer thread started ...')\n",
    "    with cv:\n",
    "        logging.debug('Making resource available')\n",
    "        logging.debug('Notifying to all consumers')\n",
    "        cv.notifyAll()\n",
    "\n",
    "if __name__ == '__main__':\n",
    "    condition = threading.Condition()\n",
    "    cs1 = threading.Thread(name='consumer1', target=consumer, args=(condition,))\n",
    "    cs2 = threading.Thread(name='consumer2', target=consumer, args=(condition,))\n",
    "    pd = threading.Thread(name='producer', target=producer, args=(condition,))\n",
    "\n",
    "    cs1.start()\n",
    "    time.sleep(2)\n",
    "    cs2.start()\n",
    "    time.sleep(2)\n",
    "    pd.start()"
   ]
  },
  {
   "cell_type": "markdown",
   "metadata": {},
   "source": [
    "### Barrier\n",
    "\n",
    "Une barrière est une simple primitive de synchronisation qui peut être utilisée par différents threads pour s'attendre les uns les autres. Chaque thread tente de passer une barrière en appelant la wait()méthode, qui se bloquera jusqu'à ce que tous les threads aient effectué cet appel. Dès que cela se produit, les threads sont libérés simultanément. L'extrait de code suivant illustre l'utilisation de Barrier"
   ]
  },
  {
   "cell_type": "code",
   "execution_count": 16,
   "metadata": {},
   "outputs": [
    {
     "name": "stdout",
     "output_type": "stream",
     "text": [
      "Race starts now…\n",
      "Lokesh reached the barrier at: Sat Oct 31 20:49:08 2020\n",
      "Iqbal reached the barrier at: Sat Oct 31 20:49:09 2020\n",
      "George reached the barrier at: Sat Oct 31 20:49:09 2020\n",
      "Harsh reached the barrier at: Sat Oct 31 20:49:09 2020\n",
      "\n",
      "Race over!\n"
     ]
    }
   ],
   "source": [
    "#barrier_tut.py\n",
    "from random import randrange\n",
    "from threading import Barrier, Thread\n",
    "from time import ctime, sleep\n",
    "\n",
    "num = 4\n",
    "# 4 threads will need to pass this barrier to get released.\n",
    "b = Barrier(num)\n",
    "names = [\"Harsh\", \"Lokesh\", \"George\", \"Iqbal\"]\n",
    "\n",
    "def player():\n",
    "    name = names.pop()\n",
    "    sleep(randrange(2, 5))\n",
    "    print(\"%s reached the barrier at: %s\" % (name, ctime()))\n",
    "    b.wait()\n",
    "    \n",
    "threads = []\n",
    "print(\"Race starts now…\")\n",
    "\n",
    "for i in range(num):\n",
    "    threads.append(Thread(target=player))\n",
    "    threads[-1].start()\n",
    "\"\"\"\n",
    "Following loop enables waiting for the threads to complete before moving on with the main script.\n",
    "\"\"\"\n",
    "for thread in threads:\n",
    "    thread.join()\n",
    "print()\n",
    "print(\"Race over!\")"
   ]
  },
  {
   "cell_type": "markdown",
   "metadata": {},
   "source": [
    "### Objet Event\n",
    "\n",
    "Nous utilisons plusieurs threads pour faire tourner des opérations séparées afin de les exécuter simultanément, cependant, il y a des moments où il est important de pouvoir synchroniser les opérations de deux ou plusieurs threads. L'utilisation d' objets Event est le moyen simple de communiquer entre les threads.\n",
    "\n",
    "Un événement gère un indicateur interne que les appelants peuvent définir () ou effacer () . D'autres threads peuvent attendre () que l'indicateur soit défini () . On note que la méthode wait () se bloque jusqu'à ce que l'indicateur soit vrai.\n"
   ]
  },
  {
   "cell_type": "raw",
   "metadata": {},
   "source": [
    "import time\n",
    "import logging\n",
    "\n",
    "logging.basicConfig(level=logging.DEBUG,\n",
    "                    format='(%(threadName)-9s) %(message)s',)\n",
    "                    \n",
    "def wait_for_event(e):\n",
    "    logging.debug('wait_for_event starting')\n",
    "    event_is_set = e.wait()\n",
    "    logging.debug('event set: %s', event_is_set)\n",
    "\n",
    "def wait_for_event_timeout(e, t):\n",
    "    while not e.isSet():\n",
    "        logging.debug('wait_for_event_timeout starting')\n",
    "        event_is_set = e.wait(t)\n",
    "        logging.debug('event set: %s', event_is_set)\n",
    "        if event_is_set:\n",
    "            logging.debug('processing event')\n",
    "        else:\n",
    "            logging.debug('doing other things')\n",
    "\n",
    "if __name__ == '__main__':\n",
    "    e = threading.Event()\n",
    "    t1 = threading.Thread(name='blocking', \n",
    "                      target=wait_for_event,\n",
    "                      args=(e,))\n",
    "    t1.start()\n",
    "\n",
    "    t2 = threading.Thread(name='non-blocking', \n",
    "                      target=wait_for_event_timeout, \n",
    "                      args=(e, 2))\n",
    "    t2.start()\n",
    "\n",
    "    logging.debug('Waiting before calling Event.set()')\n",
    "    time.sleep(3)\n",
    "    e.set()\n",
    "    logging.debug('Event is set')"
   ]
  },
  {
   "cell_type": "markdown",
   "metadata": {},
   "source": [
    "## Définitions de quelques procédures pour initialiser une grille à partir d'un fichier de configuration\n",
    "\n",
    "<span style=\"color:red\">Vous ne pouvez pas modifier les classes/procédures/fonctions suivantes</span>"
   ]
  },
  {
   "cell_type": "code",
   "execution_count": 17,
   "metadata": {
    "ExecuteTime": {
     "end_time": "2020-09-09T14:56:37.017896Z",
     "start_time": "2020-09-09T14:56:37.014070Z"
    }
   },
   "outputs": [],
   "source": [
    "def is_running_from_ipython():\n",
    "    # Renvoie True si on execute le code depuis un notebook\n",
    "       from IPython import get_ipython\n",
    "       return get_ipython() is not None\n",
    "\n",
    "# Permet de savoir qui exécute le code\n",
    "import platform\n",
    "MICHEL = ('michel' in platform.node()) or ('charvin' in platform.node())"
   ]
  },
  {
   "cell_type": "code",
   "execution_count": 18,
   "metadata": {},
   "outputs": [],
   "source": [
    "class Debug:\n",
    "    def __init__(self, debug=False):\n",
    "        self.debug = debug\n",
    "        \n",
    "    def affiche(self, *args):\n",
    "        if self.debug:\n",
    "            print(args)"
   ]
  },
  {
   "cell_type": "code",
   "execution_count": 19,
   "metadata": {
    "ExecuteTime": {
     "end_time": "2020-09-09T14:56:38.411155Z",
     "start_time": "2020-09-09T14:56:38.406363Z"
    }
   },
   "outputs": [],
   "source": [
    "# Différents imports\n",
    "import copy\n",
    "import math\n",
    "import time\n",
    "import numpy as np\n",
    "\n",
    "%matplotlib inline\n",
    "import matplotlib.pyplot as plt"
   ]
  },
  {
   "cell_type": "code",
   "execution_count": 20,
   "metadata": {
    "ExecuteTime": {
     "end_time": "2020-09-09T14:56:40.469475Z",
     "start_time": "2020-09-09T14:56:39.487216Z"
    }
   },
   "outputs": [],
   "source": [
    "# Reglage de l'affichage\n",
    "\n",
    "# Définition des affichage possible définition\n",
    "!echo 'Aucun = 0' >affichage.py\n",
    "!echo 'tkinter = 1' >>affichage.py # Not implemented\n",
    "!echo 'OpenCV = 2' >> affichage.py # Not completly implemented\n",
    "\n",
    "!echo 'PERSONNE = (0.0, 0.0, 1.0)' >>affichage.py\n",
    "!echo 'IMMOBILE = (1.0, 0.0, 0.0)' >>affichage.py\n",
    "!echo 'OBSTACLE = (0.0, 1.0, 0.0)' >>affichage.py\n",
    "!echo 'EMPTY = (1.0, 1.0, 1.0)' >>affichage.py\n",
    "!echo 'ARRIVEE = (0.0, 0.0, 0.0)' >>affichage.py # Not used\n",
    "\n",
    "import affichage\n",
    "import cv2\n",
    "\n",
    "UI = affichage.OpenCV"
   ]
  },
  {
   "cell_type": "code",
   "execution_count": 21,
   "metadata": {
    "ExecuteTime": {
     "end_time": "2020-09-09T14:56:40.476993Z",
     "start_time": "2020-09-09T14:56:40.472805Z"
    }
   },
   "outputs": [],
   "source": [
    "#if MICHEL:\n",
    "petite_grille = \"maps/map-initial.txt\" # fichier décrivant une petite grille\n",
    "grande_grille = \"maps/map-final.txt\"  # fichier décrivant une grande grille\n",
    "debug = Debug(True)"
   ]
  },
  {
   "cell_type": "code",
   "execution_count": 22,
   "metadata": {
    "ExecuteTime": {
     "end_time": "2020-09-09T14:56:41.169989Z",
     "start_time": "2020-09-09T14:56:40.563847Z"
    }
   },
   "outputs": [],
   "source": [
    "# Constant définition\n",
    "!echo 'EMPTY = 0' >const.py\n",
    "!echo 'OBSTACLE = 1' >>const.py\n",
    "!echo 'PERSONNE = 2' >> const.py\n",
    "!echo 'IMMOBILE = 3' >> const.py\n",
    "!echo 'ARRIVEE = 4' >> const.py\n",
    "import const"
   ]
  },
  {
   "cell_type": "code",
   "execution_count": 23,
   "metadata": {
    "ExecuteTime": {
     "end_time": "2020-09-09T14:56:41.181031Z",
     "start_time": "2020-09-09T14:56:41.175015Z"
    }
   },
   "outputs": [
    {
     "name": "stdout",
     "output_type": "stream",
     "text": [
      "('Ouverture du fichier', 'maps/map-initial.txt')\n"
     ]
    }
   ],
   "source": [
    "# Lecture du fichier de configuration\n",
    "def open_file(filename, debug):\n",
    "    debug.affiche(\"Ouverture du fichier\", filename)\n",
    "    fileMap = open(filename, 'r')\n",
    "    return fileMap\n",
    "\n",
    "file = open_file(petite_grille, debug)"
   ]
  },
  {
   "cell_type": "markdown",
   "metadata": {},
   "source": [
    "### Définition de la grille"
   ]
  },
  {
   "cell_type": "code",
   "execution_count": 24,
   "metadata": {
    "ExecuteTime": {
     "end_time": "2020-09-09T14:56:42.917234Z",
     "start_time": "2020-09-09T14:56:42.910654Z"
    }
   },
   "outputs": [],
   "source": [
    "def read_grid_size(file, debug):\n",
    "    line = file.readline()\n",
    "    while line[0]=='#':\t# on saute les commentaires\n",
    "        line = file.readline()\n",
    "    \n",
    "    # Lecture de la taille de la grille\n",
    "    while line[0]!='#':\t# on lit jusqu'au prochain commentaires\n",
    "        if (line[0]=='X'):\n",
    "            X = int(line.split(' ')[1])\n",
    "        if (line[0]=='Y'):\n",
    "            Y = int(line.split(' ')[1])\n",
    "        line = file.readline()\n",
    "\n",
    "    debug.affiche(\"Simulation pour une grille:\", X, \"*\", Y)\n",
    "    \n",
    "    return X, Y"
   ]
  },
  {
   "cell_type": "code",
   "execution_count": 25,
   "metadata": {},
   "outputs": [
    {
     "name": "stdout",
     "output_type": "stream",
     "text": [
      "('Simulation pour une grille:', 10, '*', 10)\n"
     ]
    }
   ],
   "source": [
    "X, Y = read_grid_size(file, debug)"
   ]
  },
  {
   "cell_type": "code",
   "execution_count": 26,
   "metadata": {
    "ExecuteTime": {
     "end_time": "2020-09-09T14:56:43.748661Z",
     "start_time": "2020-09-09T14:56:43.726699Z"
    }
   },
   "outputs": [],
   "source": [
    "# Definition de la grille\n",
    "class Grille:\n",
    "    # Crée un objet list\n",
    "    def __init__(self, Xmax, Ymax, UI, debug):\n",
    "        debug.affiche(\"Initilisation de l'objet grille\")\n",
    "        self.Xmax = Xmax\n",
    "        self.Ymax = Ymax\n",
    "        if const.EMPTY==0:\n",
    "            self.map = np.zeros((Xmax, Ymax))\n",
    "        elif const.EMPTY==1:\n",
    "            self.map = np.ones((Xmax, Ymax))\n",
    "        else:\n",
    "            self.map = np.array(Xmax, Ymax)\n",
    "            for i in range(Xmax):\n",
    "                for j in range(Ymax):\n",
    "                    self.map[i,j] = const.EMPTY\n",
    "        self.mapList = []\n",
    "        self.obstacleList = []\n",
    "        self.personneList = []\n",
    "        self.debug = debug\n",
    "        self.UI = UI\n",
    "\n",
    "    def SetObstacle(self, obstacle):\n",
    "        for x in range(obstacle.Xmin, obstacle.Xmax+1):\n",
    "            for y in range(obstacle.Ymin, obstacle.Ymax+1):\n",
    "                self.map[x][y] = const.OBSTACLE\n",
    "        self.obstacleList += [obstacle]\n",
    "\n",
    "    def SetPersonne(self, personne):\n",
    "        if self.map[personne.X][personne.Y]==const.EMPTY:\n",
    "            # la case est vide\n",
    "            self.map[personne.X][personne.Y] = const.PERSONNE\n",
    "            self.personneList += [personne]\n",
    "            return True\n",
    "        else:\n",
    "            debug.affiche(\"Personne non créée, la place est occupée\", personne.X, personne.Y)\n",
    "            return False\n",
    "        \n",
    "    def isCellEmpty(self, x, y):\n",
    "        return self.map[x][y]==const.EMPTY\n",
    "    \n",
    "    def Set(self, x, y, status):\n",
    "        self.map[x][y] = status\n",
    "        \n",
    "    def Save(self, name):\n",
    "        with open(name, 'w') as file:\n",
    "            file.write(\"# taille de la grille\\n\")\n",
    "            file.write(\"X \"+str(self.Xmax)+\"\\n\")\n",
    "            file.write(\"Y \"+str(self.Ymax)+\"\\n\")\n",
    "            file.write(\"# position des obstacles\\n\")\n",
    "            file.write(\"# Xmin Xmax Ymin Ymax\\n\")\n",
    "            file.write(\"# si pas obstacle : mettre -1 comme valeur\\n\")\n",
    "            file.write(\"# \"+str(len(self.obstacleList))+\" obstacles\\n\")\n",
    "            for o in self.obstacleList:\n",
    "                file.write(str(o.Xmin)+\" \"+str(o.Xmax)+\" \"+str(o.Ymin)+\" \"+str(o.Ymax)+\"\\n\")\n",
    "            file.write(\"# position initiale des personnes (X, Y) et case de sortie (X, Y)\\n\")\n",
    "            file.write(\"# \"+str(len(self.personneList))+\" personnes\\n\")\n",
    "            for p in self.personneList:\n",
    "                file.write(str(p.X)+\" \"+str(p.Y)+\" \"+str(p.Xsortie)+\" \"+str(p.Ysortie)+\"\\n\")\n",
    "                \n",
    "    # Solution imparfaite car une personne peut être bloquée par un obstacle\n",
    "    def Simulation(self):\n",
    "        if self.debug.debug or self.UI==affichage.OpenCV:\n",
    "            self.mapList.append(copy.copy(self.map))\n",
    "        if self.UI==affichage.OpenCV:\n",
    "            cv2.imshow(\"img\", createImage(self.map))\n",
    "            cv2.waitKey(500)\n",
    "    \n",
    "        while len(self.personneList)>0: # il y a encore une personne dans la liste qui peut bouger\n",
    "            for personne in self.personneList:\n",
    "                end, immobile = personne.deplacePersonne(self, self.debug)\n",
    "                if end:\n",
    "                    self.debug.affiche(\"Une personne vient de sortir, il reste\", len(self.personneList), \"personnes\")\n",
    "            if self.debug.debug or self.UI==affichage.OpenCV:\n",
    "                self.mapList.append(copy.copy(self.map))\n",
    "                if self.UI==affichage.OpenCV:\n",
    "                    cv2.imshow(\"img\", createImage(self.map))\n",
    "                    cv2.waitKey(500)\n",
    "    \n",
    "        if self.UI==affichage.OpenCV:\n",
    "            cv2.destroyAllWindows()"
   ]
  },
  {
   "cell_type": "code",
   "execution_count": 27,
   "metadata": {
    "ExecuteTime": {
     "end_time": "2020-09-09T14:56:44.483524Z",
     "start_time": "2020-09-09T14:56:44.478404Z"
    }
   },
   "outputs": [
    {
     "name": "stdout",
     "output_type": "stream",
     "text": [
      "(\"Initilisation de l'objet grille\",)\n"
     ]
    }
   ],
   "source": [
    "# Creation de la grille\n",
    "grid = Grille(X, Y, affichage.Aucun, debug)"
   ]
  },
  {
   "cell_type": "markdown",
   "metadata": {},
   "source": [
    "### Définition d'un obstacle"
   ]
  },
  {
   "cell_type": "code",
   "execution_count": 28,
   "metadata": {
    "ExecuteTime": {
     "end_time": "2020-09-09T14:56:45.740092Z",
     "start_time": "2020-09-09T14:56:45.735268Z"
    }
   },
   "outputs": [],
   "source": [
    "class Obstacle():\n",
    "    def __init__(self, grid,  Xmin, Xmax, Ymin, Ymax, debug):\n",
    "        self.Xmin = Xmin\n",
    "        self.Xmax = Xmax\n",
    "        self.Ymin = Ymin\n",
    "        self.Ymax = Ymax\n",
    "        self.debug = debug\n",
    "        grid.SetObstacle(self)\n",
    "        debug.affiche(\"Création de l'obstacle (\", Xmin, Xmax, \") - (\", Ymin, Ymax, \")\")"
   ]
  },
  {
   "cell_type": "code",
   "execution_count": 29,
   "metadata": {
    "ExecuteTime": {
     "end_time": "2020-09-09T14:56:46.248553Z",
     "start_time": "2020-09-09T14:56:46.238774Z"
    },
    "code_folding": []
   },
   "outputs": [],
   "source": [
    "def read_obstacles(file, grid, Obstacle, debug):\n",
    "    # Lecture de la liste des obstacles et placement sur la grille\n",
    "    line = file.readline()\n",
    "    while line[0]=='#':\t# on saute les commentaires\n",
    "        line = file.readline()\n",
    "\n",
    "    while line[0]!='#':\t# on lit jusqu'au prochain commentaires\n",
    "        coordonnee = line.strip().split(' ')\n",
    "        if int(coordonnee[0])>=0:\n",
    "            assert (int(coordonnee[0])>0 and int(coordonnee[2])>0)\n",
    "            assert (int(coordonnee[1])<X)\n",
    "            assert (int(coordonnee[3])<Y)\n",
    "            Obstacle(grid, int(coordonnee[0]), int(coordonnee[1]), int(coordonnee[2]), int(coordonnee[3]), debug)\n",
    "        else:\n",
    "            debug.affiche(\"obstacle non créé\", coordonnee)\n",
    "        line = file.readline()        \n",
    "\n",
    "    debug.affiche(len(grid.obstacleList), \"obstacles ont été créés\")"
   ]
  },
  {
   "cell_type": "code",
   "execution_count": 30,
   "metadata": {},
   "outputs": [
    {
     "name": "stdout",
     "output_type": "stream",
     "text": [
      "('obstacle non créé', ['-1', '-1', '-1', '-1'])\n",
      "(\"Création de l'obstacle (\", 1, 1, ') - (', 2, 7, ')')\n",
      "(\"Création de l'obstacle (\", 1, 7, ') - (', 8, 8, ')')\n",
      "(2, 'obstacles ont été créés')\n"
     ]
    }
   ],
   "source": [
    "# On lit tous les obstacles contenus dans le fichier de configuration\n",
    "read_obstacles(file, grid, Obstacle, debug)"
   ]
  },
  {
   "cell_type": "code",
   "execution_count": 31,
   "metadata": {
    "ExecuteTime": {
     "end_time": "2020-09-09T14:56:46.829744Z",
     "start_time": "2020-09-09T14:56:46.734536Z"
    }
   },
   "outputs": [
    {
     "data": {
      "image/png": "[encoded data removed]",
      "text/plain": [
       "<Figure size 432x288 with 1 Axes>"
      ]
     },
     "metadata": {
      "needs_background": "light"
     },
     "output_type": "display_data"
    }
   ],
   "source": [
    "# Affichage de la grille\n",
    "plt.imshow(grid.map, cmap='Paired', vmin=0, vmax=5)\n",
    "plt.show()"
   ]
  },
  {
   "cell_type": "markdown",
   "metadata": {},
   "source": [
    "### Définition d'une personne"
   ]
  },
  {
   "cell_type": "code",
   "execution_count": 32,
   "metadata": {
    "ExecuteTime": {
     "end_time": "2020-09-09T14:56:47.956152Z",
     "start_time": "2020-09-09T14:56:47.941709Z"
    }
   },
   "outputs": [],
   "source": [
    "def distance(X, Y):\n",
    "    return int(np.abs(X[0]-Y[0])+np.abs(X[1]-Y[1]))\n",
    "\n",
    "class Personne():\n",
    "    def __init__(self, grid, Xinit, Yinit, Xsortie, Ysortie, debug):\n",
    "        self.X = Xinit\n",
    "        self.Y = Yinit\n",
    "        self.Xsortie = Xsortie\n",
    "        self.Ysortie = Ysortie\n",
    "        self.debug = debug\n",
    "        personneCrée = grid.SetPersonne(self)\n",
    "        if personneCrée:\n",
    "            debug.affiche(\"Création de la personne qui part de\", Xinit, Yinit, \"pour aller à\", Xsortie, Ysortie)\n",
    "    \n",
    "    def getAvailableMove(self, grid): # retourne la liste triée des déplacements possibles\n",
    "        # distance à la grille\n",
    "        dist_actuel = distance((self.X, self.Y), (self.Xsortie, self.Ysortie))\n",
    "        depl = []\n",
    "        # on calcule la distance entre les case adjacente et la sortie\n",
    "        for x in range(self.X-1, self.X+2):\n",
    "            for y in range (self.Y-1, self.Y+2):\n",
    "                if (x!=self.X or y!=self.Y) and (x==self.X or y==self.Y) and (x>=0 and y>=0 and x<grid.Xmax and y<grid.Ymax): # deplacement uniquement points cardinaux\n",
    "                    # on est sur une case adjacente et on est sur la grille\n",
    "                    if grid.isCellEmpty(x, y): # si la case est vide\n",
    "                        dist = distance((self.Xsortie, self.Ysortie), (x,y))\n",
    "                        if (dist<dist_actuel): # on se rappproche\n",
    "                             depl.append((dist, x, y))\n",
    "        return sorted(depl)\n",
    "\n",
    "    def getBetterMove(self, grid):\n",
    "        return self.getAvailableMove(grid)[0]\n",
    "\n",
    "    def Move(self, grid, depl):\n",
    "        debug.affiche(\"Déplacement de la personne de (\", self.X, self.Y, \") à (\", depl[1], depl[2], \")\")\n",
    "        grid.Set(self.X, self.Y, const.EMPTY)\n",
    "        self.X = depl[1]\n",
    "        self.Y = depl[2]\n",
    "        grid.Set(self.X, self.Y, const.PERSONNE)\n",
    "        \n",
    "    def deplacePersonne(self, grid, debug):\n",
    "        if self.X==self.Xsortie and self.Y==self.Ysortie:\n",
    "            # la personne est arrivée à la sortie\n",
    "            # on retire la personne de la liste\n",
    "            grid.personneList.remove(self)\n",
    "            # on libere la case de sortie\n",
    "            grid.Set(self.X, self.Y, const.EMPTY)\n",
    "            return True, False\n",
    "    \n",
    "        # sinon on recherche les déplacements possibles\n",
    "        availableMove = self.getAvailableMove(grid)\n",
    "        debug.affiche(\"La personne (\", self.X, self.Y, \") peut se déplacer sur :\", availableMove)\n",
    "            \n",
    "        if len(availableMove)>0:\n",
    "            # on se déplace sure la nouvelle case\n",
    "            self.Move(grid, availableMove[0]) \n",
    "            return False, False\n",
    "        \n",
    "        # sinon aucun d\"éplacement n'est possible\n",
    "        if grid.UI==affichage.OpenCV:\n",
    "            grid.Set(self.X, self.Y, const.IMMOBILE)\n",
    "        debug.affiche(\"La personne (\", self.X, self.Y, \"ne peut pas se déplacer\")\n",
    "        return False, True"
   ]
  },
  {
   "cell_type": "code",
   "execution_count": 33,
   "metadata": {
    "ExecuteTime": {
     "end_time": "2020-09-09T14:56:48.629455Z",
     "start_time": "2020-09-09T14:56:48.617795Z"
    }
   },
   "outputs": [],
   "source": [
    "def read_personnes(file, grid, Personne, nombre, debug):\n",
    "    # Lecture de la liste des personnes et placement sur la grille\n",
    "    # s'arrête quand le nombre de personnes souhaité est atteind\n",
    "    # Si nombre = -1, on lit jusqu'à la fin du fichier (idem si nombre est supérieur aux nombres de personnes dans le fichier)\n",
    "    line = file.readline()\n",
    "    while line[0]=='#':\t# on saute les commentaires\n",
    "        line = file.readline()\n",
    "        \n",
    "    while line:\t# on lit jusqu'à la fin du fichier\n",
    "        coordonnee = line.strip().split(' ')\n",
    "        if coordonnee[0]!='#':\n",
    "            assert (int(coordonnee[0])>0 and int(coordonnee[1])>0\n",
    "                and int(coordonnee[2])<X or int(coordonnee[3])<Y) # La personne est sur la grille\n",
    "            assert ((int(coordonnee[2])==0 or int(coordonnee[2])==X-1)  # elle sort sur un bord X\n",
    "                and                                                  # et\n",
    "                (int(coordonnee[3])==0 or int(coordonnee[3])==Y-1)) # elle sort sur un bord Y\n",
    "            Personne(grid, int(coordonnee[0]), int(coordonnee[1]), int(coordonnee[2]), int(coordonnee[3]), debug)\n",
    "            \n",
    "        if len(grid.personneList)==nombre:\n",
    "            debug.affiche(len(grid.personneList), \"personnes ont été créées\")\n",
    "            file.close()\n",
    "            return\n",
    "        line = file.readline()\n",
    "    debug.affiche(\"Fermeture du fichier\")\n",
    "    file.close()\n",
    "    \n",
    "    debug.affiche(\"On a lut tout le fichier,\", len(grid.personneList), \"personnes ont été créées\")"
   ]
  },
  {
   "cell_type": "code",
   "execution_count": 34,
   "metadata": {},
   "outputs": [
    {
     "name": "stdout",
     "output_type": "stream",
     "text": [
      "('Création de la personne qui part de', 2, 2, 'pour aller à', 0, 0)\n",
      "('Création de la personne qui part de', 3, 3, 'pour aller à', 0, 9)\n",
      "('Création de la personne qui part de', 6, 6, 'pour aller à', 9, 0)\n",
      "('Création de la personne qui part de', 7, 7, 'pour aller à', 9, 9)\n",
      "('Fermeture du fichier',)\n",
      "('On a lut tout le fichier,', 4, 'personnes ont été créées')\n"
     ]
    }
   ],
   "source": [
    "# On lit toutes les personnes contenues dans le fichier de configuration\n",
    "read_personnes(file, grid, Personne, -1, debug)"
   ]
  },
  {
   "cell_type": "code",
   "execution_count": 35,
   "metadata": {
    "ExecuteTime": {
     "end_time": "2020-09-09T14:56:49.611918Z",
     "start_time": "2020-09-09T14:56:49.518984Z"
    }
   },
   "outputs": [
    {
     "data": {
      "image/png": "[encoded data removed]",
      "text/plain": [
       "<Figure size 432x288 with 1 Axes>"
      ]
     },
     "metadata": {
      "needs_background": "light"
     },
     "output_type": "display_data"
    }
   ],
   "source": [
    "# Affichage de la grille\n",
    "plt.imshow(grid.map, cmap='Paired', vmin=0, vmax=5)\n",
    "plt.show()"
   ]
  },
  {
   "cell_type": "markdown",
   "metadata": {},
   "source": [
    "### Construction d'une image pour OpenCV"
   ]
  },
  {
   "cell_type": "code",
   "execution_count": 36,
   "metadata": {
    "ExecuteTime": {
     "end_time": "2020-09-09T14:56:52.548943Z",
     "start_time": "2020-09-09T14:56:52.539805Z"
    }
   },
   "outputs": [],
   "source": [
    "# Uniquement nécessaire pour la visualisation en OpenCV\n",
    "def createImage(image):\n",
    "    X = image.shape[0]\n",
    "    Y = image.shape[1]\n",
    "    ZOOM = max(min(1024//X, 1024//Y), 1)\n",
    "    img = np.zeros((X*ZOOM, Y*ZOOM, 3), dtype=np.float)\n",
    "    for i in range(X):\n",
    "        for t in range(ZOOM):\n",
    "            for j in range(Y):\n",
    "                for u in range(ZOOM):\n",
    "                    if image[i][j]==const.EMPTY:\n",
    "                        img[ZOOM*i+t][ZOOM*j+u]=affichage.EMPTY\n",
    "                    elif image[i][j]==const.OBSTACLE:\n",
    "                        img[ZOOM*i+t][ZOOM*j+u]=affichage.OBSTACLE\n",
    "                    elif image[i][j]==const.PERSONNE:\n",
    "                        img[ZOOM*i+t][ZOOM*j+u]=affichage.PERSONNE\n",
    "                    elif image[i][j]==const.IMMOBILE:\n",
    "                        img[ZOOM*i+t][ZOOM*j+u]=affichage.IMMOBILE\n",
    "                    elif image[i][j]==const.ARRIVEE:  \n",
    "                        img[ZOOM*i+t][ZOOM*j+u]=affichage.ARRIVEE\n",
    "    return img"
   ]
  },
  {
   "cell_type": "code",
   "execution_count": 37,
   "metadata": {},
   "outputs": [],
   "source": [
    "# Affichage en OpenCV de la grille créée\n",
    "if UI==affichage.OpenCV:\n",
    "    cv2.imshow(\"img\", createImage(grid.map))\n",
    "    cv2.waitKey(5000) # Affichage pendant 5 secondes\n",
    "    cv2.destroyAllWindows()"
   ]
  },
  {
   "cell_type": "markdown",
   "metadata": {},
   "source": [
    "## Utilisation des procédures précédentes pour créer une nouvelle grille qui sera sauvegardée dans un fichier"
   ]
  },
  {
   "cell_type": "code",
   "execution_count": 38,
   "metadata": {},
   "outputs": [
    {
     "name": "stdout",
     "output_type": "stream",
     "text": [
      "(\"Initilisation de l'objet grille\",)\n"
     ]
    }
   ],
   "source": [
    "# Création d'une grille de 1024*1024\n",
    "debug = Debug(True)\n",
    "UI = affichage.Aucun\n",
    "\n",
    "X = 1024\n",
    "Y = 1024\n",
    "grid = Grille(X, Y, UI, debug)"
   ]
  },
  {
   "cell_type": "code",
   "execution_count": 39,
   "metadata": {},
   "outputs": [
    {
     "name": "stdout",
     "output_type": "stream",
     "text": [
      "(\"Création de l'obstacle (\", 3, 61, ') - (', 163, 66, ')')\n",
      "(\"Création de l'obstacle (\", 52, 65, ') - (', 111, 155, ')')\n",
      "(\"Création de l'obstacle (\", 101, 171, ') - (', 167, 311, ')')\n",
      "(\"Création de l'obstacle (\", 165, 197, ') - (', 194, 161, ')')\n",
      "(\"Création de l'obstacle (\", 203, 278, ') - (', 223, 263, ')')\n",
      "(\"Création de l'obstacle (\", 256, 284, ') - (', 276, 313, ')')\n",
      "(\"Création de l'obstacle (\", 303, 399, ') - (', 301, 395, ')')\n",
      "(\"Création de l'obstacle (\", 354, 425, ') - (', 385, 354, ')')\n",
      "(\"Création de l'obstacle (\", 402, 469, ') - (', 482, 677, ')')\n",
      "(\"Création de l'obstacle (\", 452, 508, ') - (', 484, 631, ')')\n",
      "(\"Création de l'obstacle (\", 507, 553, ') - (', 526, 692, ')')\n",
      "(\"Création de l'obstacle (\", 556, 559, ') - (', 654, 611, ')')\n",
      "(\"Création de l'obstacle (\", 607, 601, ') - (', 701, 841, ')')\n",
      "(\"Création de l'obstacle (\", 651, 747, ') - (', 842, 660, ')')\n",
      "(\"Création de l'obstacle (\", 703, 776, ') - (', 747, 701, ')')\n",
      "(\"Création de l'obstacle (\", 757, 824, ') - (', 928, 997, ')')\n",
      "(16, 'obstacles ont été créés')\n"
     ]
    }
   ],
   "source": [
    "# La grille contient 2^4 obstacles\n",
    "nb_obs = np.power(2,4)\n",
    "\n",
    "coordonnee = np.zeros((4,1), dtype=np.int)\n",
    "for i in range(nb_obs):\n",
    "    for j in range(4):\n",
    "        val_min = 1+50*i+np.random.randint(10)*10*j\n",
    "        if j%2 == 0:\n",
    "            val_max = min(1+val_min+np.random.randint(20), grid.Xmax)\n",
    "        else:\n",
    "            val_max = min(1+val_min+np.random.randint(20), grid.Ymax)\n",
    "        coordonnee[j] = np.random.randint(val_min, val_max)\n",
    "    \n",
    "    assert (int(coordonnee[0])>0 and int(coordonnee[2])>0)\n",
    "    assert (int(coordonnee[1])<X)\n",
    "    assert (int(coordonnee[3])<Y)\n",
    "    Obstacle(grid, int(coordonnee[0]), int(coordonnee[1]), int(coordonnee[2]), int(coordonnee[3]), debug)\n",
    "    \n",
    "debug.affiche(len(grid.obstacleList), \"obstacles ont été créés\")"
   ]
  },
  {
   "cell_type": "code",
   "execution_count": 40,
   "metadata": {},
   "outputs": [
    {
     "name": "stdout",
     "output_type": "stream",
     "text": [
      "('Création de la personne qui part de', 884, 155, 'pour aller à', 0, 0)\n",
      "('Création de la personne qui part de', 192, 1016, 'pour aller à', 1023, 1023)\n",
      "('Création de la personne qui part de', 97, 101, 'pour aller à', 1023, 1023)\n",
      "('Création de la personne qui part de', 995, 776, 'pour aller à', 1023, 0)\n",
      "('Création de la personne qui part de', 191, 68, 'pour aller à', 1023, 1023)\n",
      "('Personne non créée, la place est occupée', 528, 688)\n",
      "('Création de la personne qui part de', 350, 872, 'pour aller à', 1023, 1023)\n",
      "('Création de la personne qui part de', 397, 411, 'pour aller à', 1023, 1023)\n",
      "('Création de la personne qui part de', 889, 612, 'pour aller à', 0, 0)\n",
      "('Création de la personne qui part de', 939, 444, 'pour aller à', 1023, 0)\n",
      "('Création de la personne qui part de', 160, 856, 'pour aller à', 1023, 1023)\n",
      "('Création de la personne qui part de', 610, 118, 'pour aller à', 0, 1023)\n",
      "('Création de la personne qui part de', 9, 666, 'pour aller à', 1023, 0)\n",
      "('Création de la personne qui part de', 411, 879, 'pour aller à', 0, 1023)\n",
      "('Création de la personne qui part de', 573, 256, 'pour aller à', 0, 0)\n",
      "('Personne non créée, la place est occupée', 256, 291)\n",
      "('Personne non créée, la place est occupée', 331, 327)\n",
      "('Création de la personne qui part de', 236, 600, 'pour aller à', 0, 0)\n",
      "('Création de la personne qui part de', 318, 678, 'pour aller à', 0, 0)\n",
      "('Création de la personne qui part de', 106, 347, 'pour aller à', 1023, 1023)\n",
      "('Création de la personne qui part de', 374, 760, 'pour aller à', 0, 0)\n",
      "('Création de la personne qui part de', 882, 143, 'pour aller à', 0, 0)\n",
      "('Création de la personne qui part de', 789, 432, 'pour aller à', 1023, 0)\n",
      "('Création de la personne qui part de', 164, 752, 'pour aller à', 0, 0)\n",
      "('Création de la personne qui part de', 425, 85, 'pour aller à', 0, 1023)\n",
      "('Personne non créée, la place est occupée', 484, 590)\n",
      "('Création de la personne qui part de', 837, 1016, 'pour aller à', 1023, 1023)\n",
      "('Création de la personne qui part de', 624, 815, 'pour aller à', 0, 1023)\n",
      "('Création de la personne qui part de', 657, 668, 'pour aller à', 0, 1023)\n",
      "('Création de la personne qui part de', 573, 622, 'pour aller à', 0, 0)\n",
      "('Création de la personne qui part de', 791, 746, 'pour aller à', 0, 0)\n",
      "('Création de la personne qui part de', 73, 935, 'pour aller à', 0, 0)\n",
      "('Personne non créée, la place est occupée', 133, 263)\n",
      "('Création de la personne qui part de', 907, 622, 'pour aller à', 0, 1023)\n",
      "('Création de la personne qui part de', 838, 28, 'pour aller à', 1023, 1023)\n",
      "('Création de la personne qui part de', 963, 658, 'pour aller à', 0, 0)\n",
      "('Création de la personne qui part de', 32, 442, 'pour aller à', 1023, 0)\n",
      "('Création de la personne qui part de', 368, 750, 'pour aller à', 0, 1023)\n",
      "('Création de la personne qui part de', 64, 437, 'pour aller à', 1023, 1023)\n",
      "('Création de la personne qui part de', 917, 965, 'pour aller à', 0, 1023)\n",
      "('Création de la personne qui part de', 955, 898, 'pour aller à', 0, 1023)\n",
      "('Création de la personne qui part de', 787, 411, 'pour aller à', 0, 1023)\n",
      "('Création de la personne qui part de', 10, 877, 'pour aller à', 0, 0)\n",
      "('Création de la personne qui part de', 273, 689, 'pour aller à', 0, 1023)\n",
      "('Création de la personne qui part de', 623, 719, 'pour aller à', 1023, 1023)\n",
      "('Création de la personne qui part de', 289, 78, 'pour aller à', 1023, 1023)\n",
      "('Personne non créée, la place est occupée', 553, 618)\n",
      "('Création de la personne qui part de', 439, 141, 'pour aller à', 1023, 0)\n",
      "('Création de la personne qui part de', 754, 376, 'pour aller à', 1023, 1023)\n",
      "('Création de la personne qui part de', 439, 985, 'pour aller à', 0, 1023)\n",
      "('Création de la personne qui part de', 174, 1013, 'pour aller à', 0, 0)\n",
      "('Création de la personne qui part de', 102, 631, 'pour aller à', 0, 0)\n",
      "('Création de la personne qui part de', 657, 699, 'pour aller à', 1023, 0)\n",
      "('Création de la personne qui part de', 564, 202, 'pour aller à', 1023, 1023)\n",
      "('Création de la personne qui part de', 594, 948, 'pour aller à', 1023, 1023)\n",
      "('Création de la personne qui part de', 69, 603, 'pour aller à', 0, 0)\n",
      "('Création de la personne qui part de', 658, 713, 'pour aller à', 1023, 1023)\n",
      "('Création de la personne qui part de', 463, 940, 'pour aller à', 0, 0)\n",
      "('Création de la personne qui part de', 973, 252, 'pour aller à', 1023, 0)\n",
      "('Création de la personne qui part de', 576, 583, 'pour aller à', 0, 1023)\n",
      "('Création de la personne qui part de', 739, 633, 'pour aller à', 0, 1023)\n",
      "('Création de la personne qui part de', 347, 789, 'pour aller à', 0, 1023)\n",
      "('Création de la personne qui part de', 550, 293, 'pour aller à', 1023, 1023)\n",
      "('Création de la personne qui part de', 541, 273, 'pour aller à', 0, 0)\n",
      "('Création de la personne qui part de', 754, 481, 'pour aller à', 1023, 0)\n",
      "('Création de la personne qui part de', 481, 794, 'pour aller à', 0, 1023)\n",
      "('Création de la personne qui part de', 552, 24, 'pour aller à', 1023, 1023)\n",
      "('Création de la personne qui part de', 620, 574, 'pour aller à', 0, 0)\n",
      "('Création de la personne qui part de', 605, 871, 'pour aller à', 1023, 1023)\n",
      "('Création de la personne qui part de', 339, 79, 'pour aller à', 0, 0)\n",
      "('Création de la personne qui part de', 431, 1006, 'pour aller à', 1023, 1023)\n",
      "('Création de la personne qui part de', 580, 480, 'pour aller à', 1023, 0)\n",
      "('Création de la personne qui part de', 214, 659, 'pour aller à', 1023, 0)\n",
      "('Création de la personne qui part de', 957, 263, 'pour aller à', 1023, 0)\n",
      "('Création de la personne qui part de', 85, 966, 'pour aller à', 1023, 0)\n",
      "('Création de la personne qui part de', 503, 917, 'pour aller à', 1023, 1023)\n",
      "('Personne non créée, la place est occupée', 205, 246)\n",
      "('Création de la personne qui part de', 116, 509, 'pour aller à', 0, 1023)\n",
      "('Création de la personne qui part de', 922, 723, 'pour aller à', 0, 0)\n",
      "('Création de la personne qui part de', 95, 919, 'pour aller à', 0, 1023)\n",
      "('Création de la personne qui part de', 31, 474, 'pour aller à', 1023, 1023)\n",
      "('Création de la personne qui part de', 200, 41, 'pour aller à', 0, 0)\n",
      "('Création de la personne qui part de', 553, 415, 'pour aller à', 1023, 1023)\n",
      "('Création de la personne qui part de', 788, 752, 'pour aller à', 1023, 1023)\n",
      "('Création de la personne qui part de', 657, 615, 'pour aller à', 1023, 1023)\n",
      "('Création de la personne qui part de', 197, 7, 'pour aller à', 0, 1023)\n",
      "('Création de la personne qui part de', 289, 15, 'pour aller à', 1023, 0)\n",
      "('Création de la personne qui part de', 415, 13, 'pour aller à', 1023, 0)\n",
      "('Création de la personne qui part de', 781, 729, 'pour aller à', 1023, 0)\n",
      "('Création de la personne qui part de', 66, 155, 'pour aller à', 1023, 0)\n",
      "('Création de la personne qui part de', 13, 617, 'pour aller à', 0, 0)\n",
      "('Création de la personne qui part de', 686, 449, 'pour aller à', 1023, 0)\n",
      "('Création de la personne qui part de', 433, 465, 'pour aller à', 1023, 0)\n",
      "('Création de la personne qui part de', 214, 829, 'pour aller à', 0, 0)\n",
      "('Création de la personne qui part de', 549, 130, 'pour aller à', 1023, 0)\n",
      "('Création de la personne qui part de', 9, 560, 'pour aller à', 0, 0)\n",
      "('Création de la personne qui part de', 769, 918, 'pour aller à', 1023, 0)\n",
      "('Création de la personne qui part de', 850, 860, 'pour aller à', 0, 0)\n",
      "('Création de la personne qui part de', 853, 172, 'pour aller à', 0, 1023)\n",
      "('Création de la personne qui part de', 615, 312, 'pour aller à', 0, 0)\n",
      "('Création de la personne qui part de', 573, 903, 'pour aller à', 1023, 1023)\n",
      "('Création de la personne qui part de', 73, 781, 'pour aller à', 0, 1023)\n",
      "('Création de la personne qui part de', 17, 125, 'pour aller à', 0, 0)\n",
      "('Création de la personne qui part de', 677, 816, 'pour aller à', 1023, 0)\n",
      "('Création de la personne qui part de', 860, 948, 'pour aller à', 1023, 0)\n",
      "('Création de la personne qui part de', 978, 699, 'pour aller à', 1023, 1023)\n",
      "('Création de la personne qui part de', 386, 931, 'pour aller à', 0, 0)\n",
      "('Création de la personne qui part de', 776, 118, 'pour aller à', 0, 0)\n",
      "('Création de la personne qui part de', 253, 985, 'pour aller à', 1023, 1023)\n",
      "('Création de la personne qui part de', 352, 616, 'pour aller à', 0, 0)\n",
      "('Création de la personne qui part de', 322, 613, 'pour aller à', 1023, 1023)\n",
      "('Création de la personne qui part de', 614, 33, 'pour aller à', 0, 1023)\n",
      "('Personne non créée, la place est occupée', 465, 598)\n",
      "('Personne non créée, la place est occupée', 145, 197)\n",
      "('Création de la personne qui part de', 236, 592, 'pour aller à', 0, 0)\n",
      "('Création de la personne qui part de', 868, 887, 'pour aller à', 1023, 0)\n",
      "('Création de la personne qui part de', 864, 199, 'pour aller à', 1023, 0)\n",
      "('Création de la personne qui part de', 820, 422, 'pour aller à', 1023, 0)\n",
      "('Personne non créée, la place est occupée', 445, 503)\n",
      "('Création de la personne qui part de', 371, 710, 'pour aller à', 0, 1023)\n",
      "('Création de la personne qui part de', 476, 73, 'pour aller à', 0, 0)\n",
      "('Personne non créée, la place est occupée', 277, 240)\n",
      "('Création de la personne qui part de', 226, 77, 'pour aller à', 1023, 0)\n",
      "('Création de la personne qui part de', 84, 483, 'pour aller à', 0, 1023)\n",
      "('Création de la personne qui part de', 552, 904, 'pour aller à', 1023, 1023)\n",
      "('Création de la personne qui part de', 182, 964, 'pour aller à', 1023, 0)\n",
      "('Personne non créée, la place est occupée', 392, 358)\n",
      "('Personne non créée, la place est occupée', 523, 654)\n",
      "('Création de la personne qui part de', 141, 138, 'pour aller à', 0, 0)\n",
      "('Création de la personne qui part de', 758, 826, 'pour aller à', 0, 0)\n",
      "('Création de la personne qui part de', 350, 453, 'pour aller à', 1023, 1023)\n",
      "('Création de la personne qui part de', 923, 36, 'pour aller à', 1023, 1023)\n",
      "('Création de la personne qui part de', 113, 623, 'pour aller à', 1023, 1023)\n",
      "('Création de la personne qui part de', 80, 81, 'pour aller à', 0, 1023)\n",
      "('Création de la personne qui part de', 76, 730, 'pour aller à', 1023, 0)\n",
      "('Création de la personne qui part de', 996, 192, 'pour aller à', 0, 1023)\n",
      "('Création de la personne qui part de', 610, 999, 'pour aller à', 1023, 0)\n",
      "('Création de la personne qui part de', 358, 832, 'pour aller à', 0, 0)\n",
      "('Création de la personne qui part de', 942, 586, 'pour aller à', 1023, 1023)\n",
      "('Création de la personne qui part de', 795, 45, 'pour aller à', 1023, 0)\n",
      "('Création de la personne qui part de', 586, 579, 'pour aller à', 1023, 1023)\n",
      "('Création de la personne qui part de', 68, 357, 'pour aller à', 1023, 0)\n",
      "('Création de la personne qui part de', 746, 968, 'pour aller à', 0, 1023)\n",
      "('Création de la personne qui part de', 628, 429, 'pour aller à', 1023, 1023)\n",
      "('Création de la personne qui part de', 996, 416, 'pour aller à', 0, 0)\n",
      "('Création de la personne qui part de', 639, 490, 'pour aller à', 1023, 0)\n",
      "('Création de la personne qui part de', 937, 103, 'pour aller à', 0, 1023)\n",
      "('Création de la personne qui part de', 290, 669, 'pour aller à', 1023, 0)\n",
      "('Création de la personne qui part de', 790, 202, 'pour aller à', 1023, 1023)\n",
      "('Création de la personne qui part de', 548, 151, 'pour aller à', 0, 1023)\n",
      "('Création de la personne qui part de', 216, 902, 'pour aller à', 0, 0)\n",
      "('Création de la personne qui part de', 999, 733, 'pour aller à', 0, 0)\n",
      "('Création de la personne qui part de', 618, 469, 'pour aller à', 1023, 0)\n",
      "('Création de la personne qui part de', 436, 258, 'pour aller à', 1023, 1023)\n",
      "('Personne non créée, la place est occupée', 277, 305)\n",
      "('Création de la personne qui part de', 1008, 629, 'pour aller à', 0, 0)\n",
      "('Création de la personne qui part de', 676, 709, 'pour aller à', 1023, 1023)\n",
      "('Création de la personne qui part de', 686, 727, 'pour aller à', 0, 0)\n",
      "('Création de la personne qui part de', 416, 40, 'pour aller à', 1023, 0)\n",
      "('Création de la personne qui part de', 592, 857, 'pour aller à', 0, 1023)\n",
      "('Création de la personne qui part de', 403, 264, 'pour aller à', 1023, 1023)\n",
      "('Création de la personne qui part de', 123, 1023, 'pour aller à', 0, 0)\n",
      "('Personne non créée, la place est occupée', 429, 561)\n",
      "('Création de la personne qui part de', 183, 165, 'pour aller à', 0, 0)\n",
      "('Création de la personne qui part de', 781, 499, 'pour aller à', 1023, 0)\n",
      "('Création de la personne qui part de', 43, 467, 'pour aller à', 1023, 0)\n",
      "('Création de la personne qui part de', 454, 838, 'pour aller à', 0, 1023)\n",
      "('Création de la personne qui part de', 226, 654, 'pour aller à', 0, 1023)\n",
      "('Création de la personne qui part de', 679, 585, 'pour aller à', 0, 0)\n",
      "('Création de la personne qui part de', 699, 714, 'pour aller à', 1023, 1023)\n",
      "('Création de la personne qui part de', 603, 647, 'pour aller à', 0, 1023)\n",
      "('Création de la personne qui part de', 600, 608, 'pour aller à', 0, 1023)\n",
      "('Création de la personne qui part de', 624, 37, 'pour aller à', 1023, 1023)\n",
      "('Création de la personne qui part de', 954, 519, 'pour aller à', 1023, 0)\n",
      "('Création de la personne qui part de', 714, 111, 'pour aller à', 1023, 0)\n",
      "('Création de la personne qui part de', 285, 190, 'pour aller à', 0, 0)\n",
      "('Création de la personne qui part de', 756, 23, 'pour aller à', 0, 0)\n",
      "('Création de la personne qui part de', 247, 579, 'pour aller à', 0, 1023)\n",
      "('Création de la personne qui part de', 24, 647, 'pour aller à', 1023, 1023)\n",
      "('Création de la personne qui part de', 572, 93, 'pour aller à', 0, 0)\n",
      "('Création de la personne qui part de', 363, 174, 'pour aller à', 0, 1023)\n",
      "('Création de la personne qui part de', 867, 976, 'pour aller à', 0, 0)\n",
      "('Création de la personne qui part de', 928, 860, 'pour aller à', 1023, 0)\n",
      "('Création de la personne qui part de', 200, 176, 'pour aller à', 1023, 1023)\n",
      "('Création de la personne qui part de', 146, 951, 'pour aller à', 1023, 0)\n",
      "('Création de la personne qui part de', 106, 483, 'pour aller à', 0, 1023)\n",
      "('Création de la personne qui part de', 8, 819, 'pour aller à', 0, 1023)\n",
      "('Création de la personne qui part de', 891, 789, 'pour aller à', 1023, 1023)\n",
      "('Création de la personne qui part de', 574, 1000, 'pour aller à', 1023, 0)\n",
      "('Création de la personne qui part de', 741, 556, 'pour aller à', 1023, 1023)\n",
      "('Création de la personne qui part de', 26, 463, 'pour aller à', 0, 1023)\n",
      "('Création de la personne qui part de', 846, 989, 'pour aller à', 1023, 0)\n",
      "('Création de la personne qui part de', 476, 918, 'pour aller à', 1023, 1023)\n",
      "('Création de la personne qui part de', 1007, 249, 'pour aller à', 1023, 0)\n",
      "('Création de la personne qui part de', 736, 557, 'pour aller à', 1023, 0)\n",
      "('Création de la personne qui part de', 1008, 715, 'pour aller à', 1023, 1023)\n",
      "('Création de la personne qui part de', 789, 911, 'pour aller à', 0, 0)\n",
      "('Création de la personne qui part de', 588, 903, 'pour aller à', 0, 0)\n",
      "('Création de la personne qui part de', 207, 466, 'pour aller à', 1023, 1023)\n",
      "('Création de la personne qui part de', 428, 440, 'pour aller à', 0, 1023)\n",
      "('Création de la personne qui part de', 663, 618, 'pour aller à', 0, 1023)\n",
      "('Création de la personne qui part de', 706, 29, 'pour aller à', 0, 0)\n",
      "('Création de la personne qui part de', 597, 304, 'pour aller à', 1023, 0)\n",
      "('Création de la personne qui part de', 558, 175, 'pour aller à', 0, 1023)\n",
      "('Création de la personne qui part de', 703, 127, 'pour aller à', 0, 0)\n",
      "('Création de la personne qui part de', 627, 457, 'pour aller à', 1023, 1023)\n",
      "('Création de la personne qui part de', 107, 895, 'pour aller à', 0, 0)\n",
      "('Création de la personne qui part de', 988, 817, 'pour aller à', 1023, 0)\n",
      "('Création de la personne qui part de', 400, 200, 'pour aller à', 1023, 0)\n",
      "('Création de la personne qui part de', 814, 356, 'pour aller à', 0, 1023)\n",
      "('Création de la personne qui part de', 60, 386, 'pour aller à', 0, 0)\n",
      "('Création de la personne qui part de', 662, 267, 'pour aller à', 0, 1023)\n",
      "('Création de la personne qui part de', 754, 935, 'pour aller à', 0, 1023)\n",
      "('Création de la personne qui part de', 408, 137, 'pour aller à', 0, 1023)\n",
      "('Création de la personne qui part de', 294, 390, 'pour aller à', 0, 1023)\n",
      "('Création de la personne qui part de', 375, 288, 'pour aller à', 1023, 0)\n",
      "('Création de la personne qui part de', 18, 919, 'pour aller à', 1023, 0)\n",
      "('Création de la personne qui part de', 803, 782, 'pour aller à', 1023, 1023)\n",
      "('Personne non créée, la place est occupée', 781, 961)\n",
      "('Création de la personne qui part de', 436, 166, 'pour aller à', 0, 1023)\n",
      "('Création de la personne qui part de', 220, 528, 'pour aller à', 1023, 0)\n",
      "('Création de la personne qui part de', 720, 596, 'pour aller à', 0, 1023)\n",
      "('Création de la personne qui part de', 591, 436, 'pour aller à', 0, 1023)\n",
      "('Création de la personne qui part de', 82, 85, 'pour aller à', 1023, 1023)\n",
      "('Création de la personne qui part de', 777, 148, 'pour aller à', 0, 0)\n",
      "('Création de la personne qui part de', 981, 907, 'pour aller à', 0, 0)\n",
      "('Création de la personne qui part de', 518, 317, 'pour aller à', 0, 0)\n",
      "('Création de la personne qui part de', 402, 185, 'pour aller à', 0, 0)\n",
      "('Création de la personne qui part de', 334, 564, 'pour aller à', 1023, 0)\n",
      "('Création de la personne qui part de', 35, 780, 'pour aller à', 0, 1023)\n",
      "('Création de la personne qui part de', 749, 428, 'pour aller à', 1023, 0)\n",
      "('Création de la personne qui part de', 268, 982, 'pour aller à', 1023, 1023)\n",
      "('Création de la personne qui part de', 330, 503, 'pour aller à', 1023, 0)\n",
      "('Création de la personne qui part de', 382, 195, 'pour aller à', 0, 1023)\n",
      "('Création de la personne qui part de', 908, 61, 'pour aller à', 1023, 0)\n",
      "('Création de la personne qui part de', 814, 60, 'pour aller à', 1023, 1023)\n",
      "('Création de la personne qui part de', 882, 294, 'pour aller à', 1023, 0)\n",
      "('Création de la personne qui part de', 856, 353, 'pour aller à', 0, 0)\n",
      "('Création de la personne qui part de', 739, 80, 'pour aller à', 1023, 1023)\n",
      "('Création de la personne qui part de', 321, 461, 'pour aller à', 0, 0)\n",
      "('Création de la personne qui part de', 864, 11, 'pour aller à', 0, 1023)\n",
      "('Création de la personne qui part de', 848, 1004, 'pour aller à', 0, 1023)\n",
      "('Création de la personne qui part de', 191, 511, 'pour aller à', 1023, 1023)\n",
      "('Création de la personne qui part de', 218, 339, 'pour aller à', 1023, 0)\n",
      "('Création de la personne qui part de', 1019, 579, 'pour aller à', 0, 1023)\n",
      "('Création de la personne qui part de', 574, 679, 'pour aller à', 0, 0)\n",
      "('Création de la personne qui part de', 408, 32, 'pour aller à', 1023, 0)\n",
      "('Création de la personne qui part de', 697, 286, 'pour aller à', 0, 1023)\n",
      "('Création de la personne qui part de', 722, 509, 'pour aller à', 1023, 1023)\n",
      "('Création de la personne qui part de', 461, 174, 'pour aller à', 0, 1023)\n",
      "('Création de la personne qui part de', 196, 398, 'pour aller à', 1023, 0)\n",
      "('Création de la personne qui part de', 454, 967, 'pour aller à', 1023, 0)\n",
      "('Création de la personne qui part de', 474, 441, 'pour aller à', 0, 0)\n",
      "('Création de la personne qui part de', 657, 780, 'pour aller à', 0, 1023)\n",
      "('Création de la personne qui part de', 46, 497, 'pour aller à', 0, 0)\n",
      "('Création de la personne qui part de', 158, 407, 'pour aller à', 1023, 1023)\n",
      "('Création de la personne qui part de', 566, 760, 'pour aller à', 1023, 1023)\n",
      "('Création de la personne qui part de', 114, 837, 'pour aller à', 1023, 0)\n",
      "('Création de la personne qui part de', 809, 251, 'pour aller à', 0, 1023)\n",
      "('Création de la personne qui part de', 507, 835, 'pour aller à', 1023, 1023)\n",
      "('Création de la personne qui part de', 986, 418, 'pour aller à', 1023, 0)\n",
      "('Création de la personne qui part de', 842, 904, 'pour aller à', 0, 0)\n",
      "('Création de la personne qui part de', 558, 86, 'pour aller à', 1023, 0)\n",
      "('Création de la personne qui part de', 997, 216, 'pour aller à', 1023, 0)\n",
      "('Création de la personne qui part de', 557, 313, 'pour aller à', 1023, 0)\n",
      "('Création de la personne qui part de', 705, 81, 'pour aller à', 1023, 0)\n",
      "('Personne non créée, la place est occupée', 507, 680)\n",
      "('Création de la personne qui part de', 679, 162, 'pour aller à', 1023, 1023)\n",
      "('Création de la personne qui part de', 241, 728, 'pour aller à', 1023, 0)\n",
      "('Création de la personne qui part de', 890, 986, 'pour aller à', 0, 0)\n",
      "('Personne non créée, la place est occupée', 222, 223)\n",
      "('Création de la personne qui part de', 472, 133, 'pour aller à', 1023, 0)\n",
      "('Création de la personne qui part de', 112, 489, 'pour aller à', 0, 1023)\n",
      "('Création de la personne qui part de', 3, 695, 'pour aller à', 1023, 0)\n",
      "('Création de la personne qui part de', 140, 333, 'pour aller à', 1023, 1023)\n",
      "('Création de la personne qui part de', 220, 189, 'pour aller à', 1023, 0)\n",
      "('Création de la personne qui part de', 433, 681, 'pour aller à', 0, 0)\n",
      "('Création de la personne qui part de', 496, 265, 'pour aller à', 0, 0)\n",
      "('Création de la personne qui part de', 680, 441, 'pour aller à', 1023, 0)\n",
      "('Création de la personne qui part de', 785, 527, 'pour aller à', 1023, 0)\n",
      "('Création de la personne qui part de', 599, 743, 'pour aller à', 1023, 0)\n",
      "('Création de la personne qui part de', 488, 61, 'pour aller à', 0, 1023)\n",
      "('Création de la personne qui part de', 723, 812, 'pour aller à', 1023, 0)\n",
      "('Création de la personne qui part de', 947, 790, 'pour aller à', 0, 1023)\n",
      "('Création de la personne qui part de', 398, 640, 'pour aller à', 1023, 0)\n",
      "('Création de la personne qui part de', 726, 94, 'pour aller à', 0, 0)\n",
      "('Création de la personne qui part de', 464, 966, 'pour aller à', 0, 1023)\n",
      "('Création de la personne qui part de', 831, 410, 'pour aller à', 0, 1023)\n",
      "('Création de la personne qui part de', 509, 200, 'pour aller à', 0, 0)\n",
      "('Création de la personne qui part de', 432, 14, 'pour aller à', 0, 0)\n",
      "('Création de la personne qui part de', 845, 193, 'pour aller à', 1023, 1023)\n",
      "('Création de la personne qui part de', 933, 417, 'pour aller à', 0, 0)\n",
      "('Création de la personne qui part de', 915, 132, 'pour aller à', 0, 1023)\n",
      "('Création de la personne qui part de', 718, 659, 'pour aller à', 0, 0)\n",
      "('Création de la personne qui part de', 920, 830, 'pour aller à', 1023, 1023)\n",
      "('Création de la personne qui part de', 417, 465, 'pour aller à', 0, 0)\n",
      "('Création de la personne qui part de', 742, 452, 'pour aller à', 1023, 1023)\n",
      "('Création de la personne qui part de', 213, 449, 'pour aller à', 0, 1023)\n",
      "('Création de la personne qui part de', 552, 740, 'pour aller à', 0, 1023)\n",
      "('Création de la personne qui part de', 441, 75, 'pour aller à', 0, 0)\n",
      "('Création de la personne qui part de', 649, 298, 'pour aller à', 1023, 0)\n",
      "('Création de la personne qui part de', 31, 406, 'pour aller à', 0, 1023)\n",
      "('Création de la personne qui part de', 987, 420, 'pour aller à', 1023, 1023)\n",
      "('Création de la personne qui part de', 736, 344, 'pour aller à', 1023, 0)\n",
      "('Création de la personne qui part de', 588, 598, 'pour aller à', 0, 1023)\n",
      "('Création de la personne qui part de', 845, 91, 'pour aller à', 1023, 0)\n",
      "('Création de la personne qui part de', 161, 565, 'pour aller à', 1023, 1023)\n",
      "('Création de la personne qui part de', 616, 741, 'pour aller à', 0, 1023)\n",
      "('Création de la personne qui part de', 567, 162, 'pour aller à', 1023, 0)\n",
      "('Création de la personne qui part de', 684, 539, 'pour aller à', 0, 1023)\n",
      "('Création de la personne qui part de', 109, 354, 'pour aller à', 0, 1023)\n",
      "('Création de la personne qui part de', 704, 674, 'pour aller à', 1023, 1023)\n",
      "('Création de la personne qui part de', 806, 747, 'pour aller à', 0, 0)\n",
      "('Création de la personne qui part de', 257, 167, 'pour aller à', 0, 0)\n",
      "('Création de la personne qui part de', 693, 984, 'pour aller à', 0, 1023)\n",
      "('Création de la personne qui part de', 504, 249, 'pour aller à', 0, 1023)\n",
      "('Création de la personne qui part de', 231, 998, 'pour aller à', 1023, 0)\n",
      "('Création de la personne qui part de', 772, 920, 'pour aller à', 0, 0)\n",
      "('Création de la personne qui part de', 630, 860, 'pour aller à', 1023, 0)\n",
      "('Création de la personne qui part de', 177, 173, 'pour aller à', 1023, 0)\n",
      "('Création de la personne qui part de', 357, 400, 'pour aller à', 1023, 1023)\n",
      "('Création de la personne qui part de', 371, 476, 'pour aller à', 1023, 1023)\n",
      "('Création de la personne qui part de', 188, 832, 'pour aller à', 0, 1023)\n",
      "('Création de la personne qui part de', 903, 1017, 'pour aller à', 0, 1023)\n",
      "('Création de la personne qui part de', 881, 933, 'pour aller à', 1023, 0)\n",
      "('Création de la personne qui part de', 151, 494, 'pour aller à', 1023, 1023)\n",
      "('Création de la personne qui part de', 706, 347, 'pour aller à', 1023, 1023)\n",
      "('Création de la personne qui part de', 187, 563, 'pour aller à', 0, 0)\n",
      "('Création de la personne qui part de', 75, 31, 'pour aller à', 0, 1023)\n",
      "('Création de la personne qui part de', 54, 211, 'pour aller à', 0, 0)\n",
      "('Création de la personne qui part de', 252, 554, 'pour aller à', 0, 0)\n",
      "('Création de la personne qui part de', 165, 669, 'pour aller à', 0, 0)\n",
      "('Création de la personne qui part de', 746, 1005, 'pour aller à', 1023, 1023)\n",
      "('Création de la personne qui part de', 352, 201, 'pour aller à', 1023, 1023)\n",
      "('Création de la personne qui part de', 30, 209, 'pour aller à', 0, 1023)\n",
      "('Création de la personne qui part de', 194, 239, 'pour aller à', 0, 1023)\n",
      "('Création de la personne qui part de', 778, 867, 'pour aller à', 1023, 0)\n",
      "('Création de la personne qui part de', 878, 804, 'pour aller à', 1023, 1023)\n",
      "('Création de la personne qui part de', 51, 933, 'pour aller à', 1023, 0)\n",
      "('Création de la personne qui part de', 355, 611, 'pour aller à', 0, 1023)\n",
      "('Création de la personne qui part de', 836, 830, 'pour aller à', 0, 0)\n",
      "('Création de la personne qui part de', 60, 700, 'pour aller à', 1023, 1023)\n",
      "('Création de la personne qui part de', 190, 392, 'pour aller à', 1023, 1023)\n",
      "('Création de la personne qui part de', 685, 619, 'pour aller à', 0, 0)\n",
      "('Création de la personne qui part de', 804, 413, 'pour aller à', 1023, 0)\n",
      "('Création de la personne qui part de', 304, 859, 'pour aller à', 1023, 1023)\n",
      "('Création de la personne qui part de', 282, 444, 'pour aller à', 0, 1023)\n",
      "('Création de la personne qui part de', 924, 610, 'pour aller à', 1023, 1023)\n",
      "('Création de la personne qui part de', 901, 617, 'pour aller à', 0, 0)\n",
      "('Création de la personne qui part de', 250, 871, 'pour aller à', 0, 1023)\n",
      "('Création de la personne qui part de', 431, 170, 'pour aller à', 1023, 1023)\n",
      "('Création de la personne qui part de', 864, 688, 'pour aller à', 0, 1023)\n",
      "('Création de la personne qui part de', 49, 522, 'pour aller à', 1023, 0)\n",
      "('Création de la personne qui part de', 81, 364, 'pour aller à', 0, 1023)\n",
      "('Création de la personne qui part de', 302, 64, 'pour aller à', 0, 0)\n",
      "('Création de la personne qui part de', 565, 594, 'pour aller à', 1023, 1023)\n",
      "('Création de la personne qui part de', 249, 47, 'pour aller à', 1023, 0)\n",
      "('Création de la personne qui part de', 833, 317, 'pour aller à', 0, 0)\n",
      "('Création de la personne qui part de', 430, 923, 'pour aller à', 1023, 1023)\n",
      "('Création de la personne qui part de', 195, 703, 'pour aller à', 1023, 0)\n",
      "('Création de la personne qui part de', 11, 468, 'pour aller à', 0, 1023)\n",
      "('Création de la personne qui part de', 840, 347, 'pour aller à', 0, 1023)\n",
      "('Création de la personne qui part de', 570, 503, 'pour aller à', 1023, 0)\n",
      "('Création de la personne qui part de', 637, 531, 'pour aller à', 0, 1023)\n",
      "('Création de la personne qui part de', 892, 73, 'pour aller à', 1023, 0)\n",
      "('Personne non créée, la place est occupée', 164, 253)\n",
      "('Création de la personne qui part de', 748, 910, 'pour aller à', 1023, 0)\n",
      "('Création de la personne qui part de', 54, 666, 'pour aller à', 0, 1023)\n",
      "('Création de la personne qui part de', 751, 991, 'pour aller à', 1023, 1023)\n",
      "('Création de la personne qui part de', 984, 390, 'pour aller à', 0, 0)\n",
      "('Création de la personne qui part de', 188, 837, 'pour aller à', 1023, 0)\n",
      "('Création de la personne qui part de', 600, 800, 'pour aller à', 1023, 0)\n",
      "('Création de la personne qui part de', 22, 919, 'pour aller à', 0, 0)\n",
      "('Création de la personne qui part de', 15, 616, 'pour aller à', 0, 1023)\n",
      "('Création de la personne qui part de', 139, 618, 'pour aller à', 1023, 1023)\n",
      "('Création de la personne qui part de', 552, 63, 'pour aller à', 1023, 0)\n",
      "('Création de la personne qui part de', 8, 109, 'pour aller à', 1023, 0)\n",
      "('Création de la personne qui part de', 233, 375, 'pour aller à', 1023, 1023)\n",
      "('Création de la personne qui part de', 863, 325, 'pour aller à', 1023, 0)\n",
      "('Création de la personne qui part de', 993, 745, 'pour aller à', 1023, 1023)\n",
      "('Création de la personne qui part de', 498, 953, 'pour aller à', 0, 1023)\n",
      "('Création de la personne qui part de', 849, 233, 'pour aller à', 0, 0)\n",
      "('Création de la personne qui part de', 655, 477, 'pour aller à', 0, 1023)\n",
      "('Création de la personne qui part de', 889, 33, 'pour aller à', 0, 1023)\n",
      "('Création de la personne qui part de', 560, 557, 'pour aller à', 1023, 0)\n",
      "('Création de la personne qui part de', 324, 910, 'pour aller à', 1023, 1023)\n",
      "('Création de la personne qui part de', 63, 877, 'pour aller à', 0, 0)\n",
      "('Personne non créée, la place est occupée', 522, 639)\n",
      "('Création de la personne qui part de', 408, 290, 'pour aller à', 0, 1023)\n",
      "('Création de la personne qui part de', 533, 863, 'pour aller à', 1023, 1023)\n",
      "('Création de la personne qui part de', 1023, 769, 'pour aller à', 1023, 0)\n",
      "('Création de la personne qui part de', 997, 10, 'pour aller à', 1023, 1023)\n",
      "('Création de la personne qui part de', 856, 510, 'pour aller à', 1023, 1023)\n",
      "('Création de la personne qui part de', 982, 108, 'pour aller à', 1023, 1023)\n",
      "('Création de la personne qui part de', 144, 429, 'pour aller à', 0, 0)\n",
      "('Création de la personne qui part de', 942, 779, 'pour aller à', 1023, 1023)\n",
      "('Création de la personne qui part de', 476, 156, 'pour aller à', 0, 1023)\n",
      "('Création de la personne qui part de', 174, 438, 'pour aller à', 1023, 0)\n",
      "('Création de la personne qui part de', 337, 854, 'pour aller à', 1023, 1023)\n",
      "('Création de la personne qui part de', 806, 143, 'pour aller à', 0, 0)\n",
      "('Personne non créée, la place est occupée', 449, 527)\n",
      "('Création de la personne qui part de', 20, 817, 'pour aller à', 0, 1023)\n",
      "('Création de la personne qui part de', 652, 324, 'pour aller à', 1023, 1023)\n",
      "('Création de la personne qui part de', 167, 947, 'pour aller à', 1023, 1023)\n",
      "('Création de la personne qui part de', 492, 373, 'pour aller à', 0, 1023)\n",
      "('Personne non créée, la place est occupée', 515, 637)\n",
      "('Création de la personne qui part de', 434, 876, 'pour aller à', 0, 0)\n",
      "('Création de la personne qui part de', 836, 275, 'pour aller à', 0, 0)\n",
      "('Création de la personne qui part de', 234, 502, 'pour aller à', 1023, 1023)\n",
      "('Création de la personne qui part de', 348, 923, 'pour aller à', 0, 1023)\n",
      "('Création de la personne qui part de', 644, 1002, 'pour aller à', 0, 1023)\n",
      "('Création de la personne qui part de', 840, 373, 'pour aller à', 1023, 0)\n",
      "('Création de la personne qui part de', 966, 208, 'pour aller à', 1023, 0)\n",
      "('Création de la personne qui part de', 1006, 737, 'pour aller à', 0, 0)\n",
      "('Création de la personne qui part de', 257, 984, 'pour aller à', 1023, 1023)\n",
      "('Création de la personne qui part de', 48, 964, 'pour aller à', 0, 1023)\n",
      "('Création de la personne qui part de', 752, 573, 'pour aller à', 0, 0)\n",
      "('Création de la personne qui part de', 660, 809, 'pour aller à', 0, 1023)\n",
      "('Personne non créée, la place est occupée', 425, 507)\n",
      "('Personne non créée, la place est occupée', 493, 549)\n",
      "('Création de la personne qui part de', 931, 851, 'pour aller à', 0, 1023)\n",
      "('Création de la personne qui part de', 77, 180, 'pour aller à', 0, 1023)\n",
      "('Création de la personne qui part de', 304, 750, 'pour aller à', 0, 1023)\n",
      "('Création de la personne qui part de', 498, 87, 'pour aller à', 1023, 0)\n",
      "('Création de la personne qui part de', 298, 304, 'pour aller à', 0, 0)\n",
      "('Création de la personne qui part de', 554, 419, 'pour aller à', 0, 1023)\n",
      "('Création de la personne qui part de', 447, 945, 'pour aller à', 0, 1023)\n",
      "('Création de la personne qui part de', 808, 1016, 'pour aller à', 1023, 1023)\n",
      "('Création de la personne qui part de', 849, 813, 'pour aller à', 0, 0)\n",
      "('Création de la personne qui part de', 129, 740, 'pour aller à', 0, 1023)\n",
      "('Création de la personne qui part de', 184, 506, 'pour aller à', 1023, 1023)\n",
      "('Création de la personne qui part de', 713, 229, 'pour aller à', 0, 0)\n",
      "('Création de la personne qui part de', 393, 636, 'pour aller à', 0, 1023)\n",
      "('Création de la personne qui part de', 1023, 628, 'pour aller à', 0, 0)\n",
      "('Création de la personne qui part de', 66, 244, 'pour aller à', 1023, 0)\n",
      "('Création de la personne qui part de', 240, 85, 'pour aller à', 1023, 1023)\n",
      "('Création de la personne qui part de', 846, 447, 'pour aller à', 0, 0)\n",
      "('Création de la personne qui part de', 818, 805, 'pour aller à', 0, 1023)\n",
      "('Création de la personne qui part de', 382, 877, 'pour aller à', 0, 0)\n",
      "('Création de la personne qui part de', 991, 917, 'pour aller à', 1023, 1023)\n",
      "('Création de la personne qui part de', 862, 424, 'pour aller à', 1023, 1023)\n",
      "('Création de la personne qui part de', 475, 384, 'pour aller à', 0, 1023)\n",
      "('Création de la personne qui part de', 945, 1009, 'pour aller à', 1023, 0)\n",
      "('Création de la personne qui part de', 745, 685, 'pour aller à', 1023, 0)\n",
      "('Création de la personne qui part de', 47, 902, 'pour aller à', 0, 1023)\n",
      "('Création de la personne qui part de', 403, 269, 'pour aller à', 0, 0)\n",
      "('Création de la personne qui part de', 1020, 125, 'pour aller à', 0, 0)\n",
      "('Création de la personne qui part de', 801, 840, 'pour aller à', 1023, 1023)\n",
      "('Création de la personne qui part de', 565, 430, 'pour aller à', 0, 0)\n",
      "('Personne non créée, la place est occupée', 142, 287)\n",
      "('Création de la personne qui part de', 967, 192, 'pour aller à', 0, 1023)\n",
      "('Création de la personne qui part de', 702, 159, 'pour aller à', 1023, 1023)\n",
      "('Création de la personne qui part de', 184, 686, 'pour aller à', 0, 1023)\n",
      "('Création de la personne qui part de', 645, 602, 'pour aller à', 1023, 0)\n",
      "('Création de la personne qui part de', 376, 276, 'pour aller à', 0, 1023)\n",
      "('Création de la personne qui part de', 842, 396, 'pour aller à', 1023, 0)\n",
      "('Création de la personne qui part de', 981, 83, 'pour aller à', 0, 1023)\n",
      "('Création de la personne qui part de', 234, 157, 'pour aller à', 0, 1023)\n",
      "('Création de la personne qui part de', 163, 576, 'pour aller à', 0, 0)\n",
      "('Création de la personne qui part de', 708, 383, 'pour aller à', 1023, 1023)\n",
      "('Création de la personne qui part de', 51, 23, 'pour aller à', 1023, 0)\n",
      "('Personne non créée, la place est occupée', 126, 298)\n",
      "('Création de la personne qui part de', 626, 446, 'pour aller à', 1023, 1023)\n",
      "('Création de la personne qui part de', 284, 555, 'pour aller à', 0, 1023)\n",
      "('Création de la personne qui part de', 705, 312, 'pour aller à', 1023, 0)\n",
      "('Création de la personne qui part de', 955, 905, 'pour aller à', 0, 0)\n",
      "('Création de la personne qui part de', 721, 257, 'pour aller à', 1023, 1023)\n",
      "('Création de la personne qui part de', 264, 920, 'pour aller à', 1023, 0)\n",
      "('Création de la personne qui part de', 75, 596, 'pour aller à', 0, 1023)\n",
      "('Création de la personne qui part de', 621, 991, 'pour aller à', 0, 1023)\n",
      "('Création de la personne qui part de', 96, 828, 'pour aller à', 0, 0)\n",
      "('Création de la personne qui part de', 395, 552, 'pour aller à', 1023, 1023)\n",
      "('Création de la personne qui part de', 810, 399, 'pour aller à', 0, 0)\n",
      "('Création de la personne qui part de', 819, 432, 'pour aller à', 0, 1023)\n",
      "('Création de la personne qui part de', 982, 444, 'pour aller à', 0, 0)\n",
      "('Création de la personne qui part de', 880, 229, 'pour aller à', 0, 0)\n",
      "('Création de la personne qui part de', 548, 481, 'pour aller à', 1023, 0)\n",
      "('Création de la personne qui part de', 223, 717, 'pour aller à', 1023, 1023)\n",
      "('Création de la personne qui part de', 832, 552, 'pour aller à', 0, 1023)\n",
      "('Création de la personne qui part de', 398, 853, 'pour aller à', 1023, 1023)\n",
      "('Création de la personne qui part de', 789, 527, 'pour aller à', 0, 1023)\n",
      "('Création de la personne qui part de', 359, 549, 'pour aller à', 0, 0)\n",
      "('Création de la personne qui part de', 374, 955, 'pour aller à', 1023, 0)\n",
      "('Création de la personne qui part de', 857, 742, 'pour aller à', 0, 0)\n",
      "('Création de la personne qui part de', 603, 541, 'pour aller à', 0, 1023)\n",
      "('Création de la personne qui part de', 131, 408, 'pour aller à', 0, 1023)\n",
      "('Création de la personne qui part de', 275, 466, 'pour aller à', 0, 0)\n",
      "('Personne non créée, la place est occupée', 501, 613)\n",
      "('Création de la personne qui part de', 600, 736, 'pour aller à', 0, 1023)\n",
      "('Personne non créée, la place est occupée', 508, 487)\n",
      "('Création de la personne qui part de', 104, 347, 'pour aller à', 0, 0)\n",
      "('Création de la personne qui part de', 191, 187, 'pour aller à', 0, 1023)\n",
      "('Création de la personne qui part de', 553, 978, 'pour aller à', 1023, 1023)\n",
      "('Création de la personne qui part de', 836, 1016, 'pour aller à', 1023, 0)\n",
      "('Création de la personne qui part de', 622, 398, 'pour aller à', 0, 0)\n",
      "('Création de la personne qui part de', 158, 828, 'pour aller à', 1023, 1023)\n",
      "('Création de la personne qui part de', 347, 682, 'pour aller à', 1023, 1023)\n",
      "('Création de la personne qui part de', 888, 66, 'pour aller à', 0, 0)\n",
      "('Création de la personne qui part de', 1015, 339, 'pour aller à', 0, 1023)\n",
      "('Création de la personne qui part de', 619, 616, 'pour aller à', 0, 1023)\n",
      "('Création de la personne qui part de', 1023, 253, 'pour aller à', 1023, 1023)\n",
      "('Personne non créée, la place est occupée', 155, 299)\n",
      "('Création de la personne qui part de', 392, 454, 'pour aller à', 0, 1023)\n",
      "('Création de la personne qui part de', 221, 28, 'pour aller à', 0, 1023)\n",
      "('Création de la personne qui part de', 690, 534, 'pour aller à', 1023, 1023)\n",
      "('Création de la personne qui part de', 269, 54, 'pour aller à', 0, 1023)\n",
      "('Création de la personne qui part de', 435, 860, 'pour aller à', 1023, 1023)\n",
      "('Création de la personne qui part de', 181, 728, 'pour aller à', 0, 0)\n",
      "('Création de la personne qui part de', 232, 76, 'pour aller à', 1023, 1023)\n",
      "('Création de la personne qui part de', 481, 204, 'pour aller à', 1023, 0)\n",
      "('Création de la personne qui part de', 269, 104, 'pour aller à', 1023, 0)\n",
      "('Personne non créée, la place est occupée', 419, 547)\n",
      "('Création de la personne qui part de', 466, 142, 'pour aller à', 1023, 1023)\n",
      "('Création de la personne qui part de', 874, 574, 'pour aller à', 1023, 1023)\n",
      "('Création de la personne qui part de', 277, 40, 'pour aller à', 0, 0)\n",
      "('Personne non créée, la place est occupée', 528, 654)\n",
      "('Personne non créée, la place est occupée', 438, 589)\n",
      "('Personne non créée, la place est occupée', 409, 490)\n",
      "('Création de la personne qui part de', 291, 761, 'pour aller à', 0, 0)\n",
      "('Création de la personne qui part de', 750, 976, 'pour aller à', 1023, 1023)\n",
      "('Création de la personne qui part de', 732, 590, 'pour aller à', 0, 1023)\n",
      "('Personne non créée, la place est occupée', 112, 206)\n",
      "('Création de la personne qui part de', 699, 455, 'pour aller à', 0, 1023)\n",
      "('Création de la personne qui part de', 202, 863, 'pour aller à', 1023, 1023)\n",
      "('Création de la personne qui part de', 791, 604, 'pour aller à', 1023, 1023)\n",
      "('Création de la personne qui part de', 839, 321, 'pour aller à', 0, 0)\n",
      "('Création de la personne qui part de', 951, 191, 'pour aller à', 1023, 0)\n",
      "('Création de la personne qui part de', 244, 275, 'pour aller à', 1023, 0)\n",
      "('Création de la personne qui part de', 44, 568, 'pour aller à', 1023, 0)\n",
      "('Création de la personne qui part de', 400, 955, 'pour aller à', 1023, 1023)\n",
      "('Création de la personne qui part de', 57, 105, 'pour aller à', 0, 0)\n",
      "('Création de la personne qui part de', 248, 139, 'pour aller à', 1023, 0)\n",
      "('Création de la personne qui part de', 668, 127, 'pour aller à', 1023, 1023)\n",
      "('Création de la personne qui part de', 407, 126, 'pour aller à', 0, 1023)\n",
      "('Création de la personne qui part de', 736, 898, 'pour aller à', 0, 0)\n",
      "('Création de la personne qui part de', 646, 330, 'pour aller à', 0, 0)\n",
      "('Création de la personne qui part de', 251, 472, 'pour aller à', 1023, 1023)\n",
      "('Création de la personne qui part de', 172, 593, 'pour aller à', 0, 0)\n",
      "('Création de la personne qui part de', 833, 430, 'pour aller à', 0, 1023)\n",
      "('Création de la personne qui part de', 603, 281, 'pour aller à', 1023, 1023)\n",
      "('Création de la personne qui part de', 387, 890, 'pour aller à', 1023, 0)\n",
      "('Création de la personne qui part de', 248, 478, 'pour aller à', 1023, 0)\n",
      "('Création de la personne qui part de', 978, 776, 'pour aller à', 1023, 0)\n",
      "('Création de la personne qui part de', 9, 890, 'pour aller à', 0, 0)\n",
      "('Création de la personne qui part de', 529, 116, 'pour aller à', 0, 0)\n",
      "('Création de la personne qui part de', 550, 413, 'pour aller à', 0, 1023)\n",
      "('Création de la personne qui part de', 846, 375, 'pour aller à', 1023, 1023)\n",
      "('Création de la personne qui part de', 589, 718, 'pour aller à', 0, 0)\n",
      "('Création de la personne qui part de', 146, 1011, 'pour aller à', 1023, 1023)\n",
      "('Création de la personne qui part de', 912, 25, 'pour aller à', 1023, 0)\n",
      "('Création de la personne qui part de', 44, 87, 'pour aller à', 1023, 0)\n",
      "('Création de la personne qui part de', 755, 1020, 'pour aller à', 0, 0)\n",
      "('Création de la personne qui part de', 907, 884, 'pour aller à', 0, 1023)\n",
      "('Création de la personne qui part de', 306, 244, 'pour aller à', 0, 1023)\n",
      "('Personne non créée, la place est occupée', 483, 594)\n",
      "('Création de la personne qui part de', 349, 131, 'pour aller à', 0, 0)\n",
      "('Création de la personne qui part de', 230, 436, 'pour aller à', 1023, 1023)\n",
      "('Création de la personne qui part de', 464, 450, 'pour aller à', 1023, 0)\n",
      "('Personne non créée, la place est occupée', 532, 549)\n",
      "('Création de la personne qui part de', 954, 505, 'pour aller à', 1023, 1023)\n",
      "('Création de la personne qui part de', 280, 48, 'pour aller à', 1023, 0)\n",
      "('Création de la personne qui part de', 580, 749, 'pour aller à', 1023, 1023)\n",
      "('Création de la personne qui part de', 558, 45, 'pour aller à', 0, 1023)\n",
      "('Création de la personne qui part de', 357, 797, 'pour aller à', 1023, 0)\n",
      "('Création de la personne qui part de', 612, 271, 'pour aller à', 1023, 1023)\n",
      "('Création de la personne qui part de', 99, 29, 'pour aller à', 1023, 0)\n",
      "('Création de la personne qui part de', 59, 885, 'pour aller à', 1023, 0)\n",
      "('Création de la personne qui part de', 390, 855, 'pour aller à', 0, 0)\n",
      "('Création de la personne qui part de', 791, 329, 'pour aller à', 1023, 0)\n",
      "('Création de la personne qui part de', 555, 902, 'pour aller à', 1023, 1023)\n",
      "('Création de la personne qui part de', 683, 819, 'pour aller à', 0, 1023)\n",
      "('Création de la personne qui part de', 860, 39, 'pour aller à', 1023, 0)\n",
      "('Création de la personne qui part de', 8, 155, 'pour aller à', 0, 1023)\n",
      "('Création de la personne qui part de', 1006, 399, 'pour aller à', 1023, 0)\n",
      "('Création de la personne qui part de', 429, 784, 'pour aller à', 1023, 0)\n",
      "('Création de la personne qui part de', 21, 877, 'pour aller à', 0, 1023)\n",
      "('Création de la personne qui part de', 1, 299, 'pour aller à', 1023, 0)\n",
      "('Création de la personne qui part de', 243, 937, 'pour aller à', 0, 0)\n",
      "('Création de la personne qui part de', 226, 206, 'pour aller à', 0, 0)\n",
      "('Création de la personne qui part de', 904, 980, 'pour aller à', 1023, 0)\n",
      "('Création de la personne qui part de', 834, 1015, 'pour aller à', 1023, 1023)\n",
      "('Création de la personne qui part de', 901, 119, 'pour aller à', 0, 1023)\n",
      "('Création de la personne qui part de', 14, 724, 'pour aller à', 1023, 1023)\n",
      "('Création de la personne qui part de', 122, 985, 'pour aller à', 0, 0)\n",
      "('Création de la personne qui part de', 951, 562, 'pour aller à', 1023, 1023)\n",
      "('Création de la personne qui part de', 315, 812, 'pour aller à', 1023, 1023)\n",
      "('Création de la personne qui part de', 389, 199, 'pour aller à', 0, 0)\n",
      "('Création de la personne qui part de', 349, 742, 'pour aller à', 1023, 1023)\n",
      "('Création de la personne qui part de', 350, 146, 'pour aller à', 1023, 0)\n",
      "('Création de la personne qui part de', 848, 770, 'pour aller à', 0, 1023)\n",
      "('Création de la personne qui part de', 257, 323, 'pour aller à', 1023, 1023)\n",
      "('Création de la personne qui part de', 355, 814, 'pour aller à', 0, 0)\n",
      "('Création de la personne qui part de', 1, 75, 'pour aller à', 1023, 0)\n",
      "('Création de la personne qui part de', 466, 347, 'pour aller à', 0, 0)\n",
      "('Création de la personne qui part de', 742, 662, 'pour aller à', 0, 1023)\n",
      "('Création de la personne qui part de', 675, 1, 'pour aller à', 1023, 0)\n",
      "('Création de la personne qui part de', 661, 381, 'pour aller à', 1023, 1023)\n",
      "('Création de la personne qui part de', 136, 10, 'pour aller à', 1023, 1023)\n",
      "('Création de la personne qui part de', 977, 751, 'pour aller à', 0, 0)\n",
      "('Création de la personne qui part de', 168, 67, 'pour aller à', 1023, 0)\n",
      "('Création de la personne qui part de', 559, 33, 'pour aller à', 1023, 0)\n",
      "('Création de la personne qui part de', 969, 55, 'pour aller à', 0, 1023)\n",
      "('Création de la personne qui part de', 712, 239, 'pour aller à', 0, 0)\n",
      "('Création de la personne qui part de', 913, 672, 'pour aller à', 1023, 0)\n",
      "('Création de la personne qui part de', 516, 255, 'pour aller à', 1023, 1023)\n",
      "('Création de la personne qui part de', 494, 758, 'pour aller à', 1023, 1023)\n",
      "('Création de la personne qui part de', 66, 348, 'pour aller à', 1023, 0)\n",
      "('Création de la personne qui part de', 577, 742, 'pour aller à', 0, 0)\n",
      "('Création de la personne qui part de', 381, 791, 'pour aller à', 1023, 1023)\n",
      "('Création de la personne qui part de', 877, 424, 'pour aller à', 1023, 0)\n",
      "('Création de la personne qui part de', 76, 619, 'pour aller à', 0, 0)\n",
      "('Création de la personne qui part de', 745, 790, 'pour aller à', 1023, 0)\n",
      "('Création de la personne qui part de', 703, 439, 'pour aller à', 1023, 0)\n",
      "('Personne non créée, la place est occupée', 460, 601)\n",
      "('Personne non créée, la place est occupée', 389, 342)\n",
      "('Création de la personne qui part de', 753, 353, 'pour aller à', 0, 0)\n",
      "('Création de la personne qui part de', 220, 893, 'pour aller à', 1023, 1023)\n",
      "('Création de la personne qui part de', 506, 657, 'pour aller à', 1023, 0)\n",
      "('Création de la personne qui part de', 465, 790, 'pour aller à', 0, 1023)\n",
      "('Création de la personne qui part de', 18, 364, 'pour aller à', 1023, 0)\n",
      "('Création de la personne qui part de', 514, 761, 'pour aller à', 1023, 1023)\n",
      "('Création de la personne qui part de', 451, 206, 'pour aller à', 1023, 1023)\n",
      "('Création de la personne qui part de', 686, 981, 'pour aller à', 1023, 1023)\n",
      "('Création de la personne qui part de', 793, 172, 'pour aller à', 0, 0)\n",
      "('Création de la personne qui part de', 307, 941, 'pour aller à', 1023, 1023)\n",
      "('Personne non créée, la place est occupée', 779, 992)\n",
      "('Création de la personne qui part de', 413, 913, 'pour aller à', 1023, 1023)\n",
      "('Création de la personne qui part de', 713, 93, 'pour aller à', 0, 0)\n",
      "('Création de la personne qui part de', 624, 201, 'pour aller à', 0, 0)\n",
      "('Création de la personne qui part de', 186, 259, 'pour aller à', 1023, 1023)\n",
      "('Création de la personne qui part de', 643, 587, 'pour aller à', 0, 1023)\n",
      "('Création de la personne qui part de', 888, 33, 'pour aller à', 1023, 0)\n",
      "('Création de la personne qui part de', 128, 845, 'pour aller à', 0, 0)\n",
      "('Création de la personne qui part de', 60, 544, 'pour aller à', 0, 0)\n",
      "('Création de la personne qui part de', 101, 18, 'pour aller à', 1023, 0)\n",
      "('Création de la personne qui part de', 79, 392, 'pour aller à', 1023, 0)\n",
      "('Création de la personne qui part de', 789, 285, 'pour aller à', 0, 0)\n",
      "('Création de la personne qui part de', 95, 828, 'pour aller à', 0, 1023)\n",
      "('Création de la personne qui part de', 345, 743, 'pour aller à', 1023, 0)\n",
      "('Création de la personne qui part de', 622, 300, 'pour aller à', 0, 0)\n",
      "('Création de la personne qui part de', 465, 801, 'pour aller à', 0, 1023)\n",
      "('Création de la personne qui part de', 669, 392, 'pour aller à', 1023, 1023)\n",
      "('Création de la personne qui part de', 24, 390, 'pour aller à', 1023, 1023)\n",
      "('Création de la personne qui part de', 609, 842, 'pour aller à', 0, 0)\n",
      "('Création de la personne qui part de', 88, 321, 'pour aller à', 1023, 0)\n",
      "('Création de la personne qui part de', 546, 831, 'pour aller à', 0, 1023)\n",
      "('Création de la personne qui part de', 649, 26, 'pour aller à', 0, 0)\n",
      "('Création de la personne qui part de', 574, 256, 'pour aller à', 0, 1023)\n",
      "('Création de la personne qui part de', 336, 938, 'pour aller à', 1023, 1023)\n",
      "('Création de la personne qui part de', 804, 808, 'pour aller à', 0, 0)\n",
      "('Création de la personne qui part de', 264, 804, 'pour aller à', 1023, 0)\n",
      "('Création de la personne qui part de', 23, 971, 'pour aller à', 1023, 0)\n",
      "('Création de la personne qui part de', 492, 399, 'pour aller à', 0, 0)\n",
      "('Création de la personne qui part de', 814, 275, 'pour aller à', 1023, 1023)\n",
      "('Création de la personne qui part de', 848, 554, 'pour aller à', 1023, 1023)\n",
      "('Création de la personne qui part de', 492, 292, 'pour aller à', 0, 0)\n",
      "('Création de la personne qui part de', 1008, 792, 'pour aller à', 1023, 0)\n",
      "('Création de la personne qui part de', 81, 474, 'pour aller à', 0, 1023)\n",
      "('Création de la personne qui part de', 27, 239, 'pour aller à', 1023, 0)\n",
      "('Création de la personne qui part de', 736, 739, 'pour aller à', 0, 0)\n",
      "('Création de la personne qui part de', 555, 610, 'pour aller à', 0, 1023)\n",
      "('Création de la personne qui part de', 674, 994, 'pour aller à', 0, 0)\n",
      "('Création de la personne qui part de', 920, 418, 'pour aller à', 0, 1023)\n",
      "('Création de la personne qui part de', 570, 699, 'pour aller à', 1023, 0)\n",
      "('Personne non créée, la place est occupée', 263, 234)\n",
      "('Création de la personne qui part de', 303, 950, 'pour aller à', 1023, 1023)\n",
      "('Personne non créée, la place est occupée', 461, 614)\n",
      "('Création de la personne qui part de', 853, 943, 'pour aller à', 0, 0)\n",
      "('Création de la personne qui part de', 606, 435, 'pour aller à', 0, 1023)\n",
      "('Création de la personne qui part de', 4, 887, 'pour aller à', 1023, 0)\n",
      "('Création de la personne qui part de', 336, 999, 'pour aller à', 1023, 1023)\n",
      "('Création de la personne qui part de', 732, 245, 'pour aller à', 1023, 0)\n",
      "('Création de la personne qui part de', 267, 678, 'pour aller à', 0, 0)\n",
      "('Personne non créée, la place est occupée', 366, 323)\n",
      "('Création de la personne qui part de', 356, 765, 'pour aller à', 0, 0)\n",
      "('Création de la personne qui part de', 217, 341, 'pour aller à', 1023, 1023)\n",
      "('Création de la personne qui part de', 514, 232, 'pour aller à', 0, 0)\n",
      "('Création de la personne qui part de', 296, 719, 'pour aller à', 1023, 1023)\n",
      "('Création de la personne qui part de', 855, 215, 'pour aller à', 0, 1023)\n",
      "('Création de la personne qui part de', 158, 566, 'pour aller à', 1023, 0)\n",
      "('Création de la personne qui part de', 236, 148, 'pour aller à', 1023, 0)\n",
      "('Création de la personne qui part de', 497, 224, 'pour aller à', 1023, 1023)\n",
      "('Création de la personne qui part de', 961, 577, 'pour aller à', 1023, 1023)\n",
      "('Création de la personne qui part de', 97, 664, 'pour aller à', 0, 1023)\n",
      "('Personne non créée, la place est occupée', 481, 600)\n",
      "('Création de la personne qui part de', 840, 126, 'pour aller à', 1023, 1023)\n",
      "('Création de la personne qui part de', 916, 59, 'pour aller à', 0, 1023)\n",
      "('Création de la personne qui part de', 325, 412, 'pour aller à', 0, 1023)\n",
      "('Création de la personne qui part de', 443, 358, 'pour aller à', 1023, 1023)\n",
      "('Création de la personne qui part de', 407, 48, 'pour aller à', 1023, 1023)\n",
      "('Création de la personne qui part de', 575, 74, 'pour aller à', 0, 1023)\n",
      "('Création de la personne qui part de', 512, 785, 'pour aller à', 0, 1023)\n",
      "('Création de la personne qui part de', 73, 83, 'pour aller à', 1023, 0)\n",
      "('Création de la personne qui part de', 654, 384, 'pour aller à', 0, 1023)\n",
      "('Création de la personne qui part de', 309, 262, 'pour aller à', 0, 0)\n",
      "('Création de la personne qui part de', 235, 522, 'pour aller à', 1023, 1023)\n",
      "('Personne non créée, la place est occupée', 443, 525)\n",
      "('Création de la personne qui part de', 241, 17, 'pour aller à', 0, 1023)\n",
      "('Création de la personne qui part de', 532, 916, 'pour aller à', 0, 1023)\n",
      "('Création de la personne qui part de', 55, 452, 'pour aller à', 0, 1023)\n",
      "('Création de la personne qui part de', 666, 767, 'pour aller à', 0, 0)\n",
      "('Création de la personne qui part de', 1021, 455, 'pour aller à', 1023, 1023)\n",
      "('Création de la personne qui part de', 109, 391, 'pour aller à', 0, 0)\n",
      "('Création de la personne qui part de', 892, 312, 'pour aller à', 1023, 0)\n",
      "('Création de la personne qui part de', 581, 864, 'pour aller à', 1023, 1023)\n",
      "('Création de la personne qui part de', 547, 210, 'pour aller à', 1023, 0)\n",
      "('Création de la personne qui part de', 143, 542, 'pour aller à', 0, 1023)\n",
      "('Création de la personne qui part de', 1011, 608, 'pour aller à', 0, 0)\n",
      "('Création de la personne qui part de', 811, 691, 'pour aller à', 0, 0)\n",
      "('Création de la personne qui part de', 127, 821, 'pour aller à', 1023, 0)\n",
      "('Création de la personne qui part de', 614, 908, 'pour aller à', 1023, 1023)\n",
      "('Création de la personne qui part de', 2, 1014, 'pour aller à', 0, 0)\n",
      "('Création de la personne qui part de', 371, 697, 'pour aller à', 1023, 1023)\n",
      "('Création de la personne qui part de', 956, 7, 'pour aller à', 1023, 1023)\n",
      "('Création de la personne qui part de', 191, 904, 'pour aller à', 1023, 1023)\n",
      "('Création de la personne qui part de', 352, 763, 'pour aller à', 1023, 0)\n",
      "('Création de la personne qui part de', 782, 275, 'pour aller à', 0, 1023)\n",
      "('Création de la personne qui part de', 703, 485, 'pour aller à', 0, 1023)\n",
      "('Création de la personne qui part de', 188, 634, 'pour aller à', 0, 1023)\n",
      "('Création de la personne qui part de', 296, 884, 'pour aller à', 0, 1023)\n",
      "('Création de la personne qui part de', 862, 281, 'pour aller à', 0, 0)\n",
      "('Création de la personne qui part de', 587, 409, 'pour aller à', 1023, 0)\n",
      "('Création de la personne qui part de', 55, 1009, 'pour aller à', 0, 1023)\n",
      "('Création de la personne qui part de', 976, 6, 'pour aller à', 1023, 1023)\n",
      "('Création de la personne qui part de', 409, 861, 'pour aller à', 1023, 1023)\n",
      "('Création de la personne qui part de', 249, 583, 'pour aller à', 0, 0)\n",
      "('Création de la personne qui part de', 609, 328, 'pour aller à', 0, 1023)\n",
      "('Création de la personne qui part de', 883, 26, 'pour aller à', 1023, 0)\n",
      "('Création de la personne qui part de', 241, 823, 'pour aller à', 0, 1023)\n",
      "('Création de la personne qui part de', 542, 521, 'pour aller à', 1023, 0)\n",
      "('Création de la personne qui part de', 65, 177, 'pour aller à', 1023, 0)\n",
      "('Création de la personne qui part de', 688, 124, 'pour aller à', 0, 1023)\n",
      "('Création de la personne qui part de', 56, 663, 'pour aller à', 0, 0)\n",
      "('Création de la personne qui part de', 326, 649, 'pour aller à', 0, 1023)\n",
      "('Création de la personne qui part de', 271, 926, 'pour aller à', 1023, 1023)\n",
      "('Création de la personne qui part de', 364, 128, 'pour aller à', 0, 0)\n",
      "('Personne non créée, la place est occupée', 169, 266)\n",
      "('Création de la personne qui part de', 1022, 2, 'pour aller à', 1023, 0)\n",
      "('Création de la personne qui part de', 141, 445, 'pour aller à', 1023, 0)\n",
      "('Création de la personne qui part de', 233, 642, 'pour aller à', 1023, 0)\n",
      "('Création de la personne qui part de', 288, 841, 'pour aller à', 1023, 1023)\n",
      "('Personne non créée, la place est occupée', 314, 320)\n",
      "('Création de la personne qui part de', 672, 318, 'pour aller à', 0, 1023)\n",
      "('Création de la personne qui part de', 311, 754, 'pour aller à', 0, 1023)\n",
      "('Création de la personne qui part de', 703, 749, 'pour aller à', 1023, 0)\n",
      "('Création de la personne qui part de', 787, 54, 'pour aller à', 0, 0)\n",
      "('Création de la personne qui part de', 827, 660, 'pour aller à', 0, 0)\n",
      "('Création de la personne qui part de', 30, 948, 'pour aller à', 0, 0)\n",
      "('Création de la personne qui part de', 784, 29, 'pour aller à', 0, 0)\n",
      "('Création de la personne qui part de', 247, 320, 'pour aller à', 1023, 0)\n",
      "('Création de la personne qui part de', 296, 25, 'pour aller à', 0, 0)\n",
      "('Création de la personne qui part de', 616, 832, 'pour aller à', 1023, 0)\n",
      "('Création de la personne qui part de', 132, 573, 'pour aller à', 1023, 1023)\n",
      "('Création de la personne qui part de', 548, 104, 'pour aller à', 0, 1023)\n",
      "('Création de la personne qui part de', 996, 710, 'pour aller à', 1023, 0)\n",
      "('Création de la personne qui part de', 254, 715, 'pour aller à', 1023, 0)\n",
      "('Création de la personne qui part de', 30, 781, 'pour aller à', 1023, 1023)\n",
      "('Création de la personne qui part de', 621, 586, 'pour aller à', 0, 1023)\n",
      "('Création de la personne qui part de', 530, 744, 'pour aller à', 0, 1023)\n",
      "('Création de la personne qui part de', 16, 153, 'pour aller à', 1023, 0)\n",
      "('Création de la personne qui part de', 318, 941, 'pour aller à', 0, 0)\n",
      "('Création de la personne qui part de', 548, 308, 'pour aller à', 1023, 0)\n",
      "('Création de la personne qui part de', 128, 722, 'pour aller à', 0, 0)\n",
      "('Création de la personne qui part de', 229, 605, 'pour aller à', 0, 0)\n",
      "('Création de la personne qui part de', 478, 654, 'pour aller à', 0, 0)\n",
      "('Création de la personne qui part de', 140, 936, 'pour aller à', 1023, 0)\n",
      "('Création de la personne qui part de', 565, 669, 'pour aller à', 0, 0)\n",
      "('Création de la personne qui part de', 591, 761, 'pour aller à', 0, 1023)\n",
      "('Création de la personne qui part de', 18, 299, 'pour aller à', 1023, 0)\n",
      "('Création de la personne qui part de', 710, 753, 'pour aller à', 0, 1023)\n",
      "('Création de la personne qui part de', 910, 18, 'pour aller à', 0, 0)\n",
      "('Création de la personne qui part de', 992, 874, 'pour aller à', 1023, 0)\n",
      "('Création de la personne qui part de', 657, 321, 'pour aller à', 0, 0)\n",
      "('Création de la personne qui part de', 619, 522, 'pour aller à', 1023, 1023)\n",
      "('Création de la personne qui part de', 31, 924, 'pour aller à', 1023, 0)\n",
      "('Création de la personne qui part de', 474, 966, 'pour aller à', 0, 0)\n",
      "('Création de la personne qui part de', 755, 817, 'pour aller à', 0, 1023)\n",
      "('Création de la personne qui part de', 144, 5, 'pour aller à', 0, 0)\n",
      "('Création de la personne qui part de', 610, 810, 'pour aller à', 0, 1023)\n",
      "('Création de la personne qui part de', 230, 881, 'pour aller à', 1023, 0)\n",
      "('Création de la personne qui part de', 820, 351, 'pour aller à', 0, 1023)\n",
      "('Création de la personne qui part de', 475, 721, 'pour aller à', 1023, 0)\n",
      "('Création de la personne qui part de', 556, 626, 'pour aller à', 1023, 1023)\n",
      "('Personne non créée, la place est occupée', 404, 669)\n",
      "('Création de la personne qui part de', 749, 542, 'pour aller à', 1023, 0)\n",
      "('Création de la personne qui part de', 564, 627, 'pour aller à', 0, 1023)\n",
      "('Création de la personne qui part de', 830, 71, 'pour aller à', 0, 1023)\n",
      "('Création de la personne qui part de', 439, 50, 'pour aller à', 1023, 1023)\n",
      "('Création de la personne qui part de', 680, 418, 'pour aller à', 1023, 1023)\n",
      "('Création de la personne qui part de', 925, 532, 'pour aller à', 0, 1023)\n",
      "('Création de la personne qui part de', 178, 605, 'pour aller à', 0, 0)\n",
      "('Création de la personne qui part de', 568, 458, 'pour aller à', 0, 1023)\n",
      "('Création de la personne qui part de', 520, 976, 'pour aller à', 0, 0)\n",
      "('Création de la personne qui part de', 718, 106, 'pour aller à', 1023, 0)\n",
      "('Création de la personne qui part de', 86, 561, 'pour aller à', 0, 0)\n",
      "('Création de la personne qui part de', 877, 507, 'pour aller à', 0, 1023)\n",
      "('Création de la personne qui part de', 678, 139, 'pour aller à', 1023, 1023)\n",
      "('Création de la personne qui part de', 376, 890, 'pour aller à', 1023, 1023)\n",
      "('Création de la personne qui part de', 346, 401, 'pour aller à', 1023, 1023)\n",
      "('Création de la personne qui part de', 763, 324, 'pour aller à', 1023, 0)\n",
      "('Création de la personne qui part de', 902, 526, 'pour aller à', 0, 1023)\n",
      "('Création de la personne qui part de', 826, 736, 'pour aller à', 0, 0)\n",
      "('Création de la personne qui part de', 785, 511, 'pour aller à', 0, 0)\n",
      "('Création de la personne qui part de', 878, 620, 'pour aller à', 0, 0)\n",
      "('Création de la personne qui part de', 873, 938, 'pour aller à', 1023, 1023)\n",
      "('Création de la personne qui part de', 503, 951, 'pour aller à', 1023, 1023)\n",
      "('Création de la personne qui part de', 913, 326, 'pour aller à', 1023, 0)\n",
      "('Création de la personne qui part de', 646, 928, 'pour aller à', 0, 0)\n",
      "('Création de la personne qui part de', 447, 396, 'pour aller à', 0, 1023)\n",
      "('Création de la personne qui part de', 91, 85, 'pour aller à', 1023, 0)\n",
      "('Création de la personne qui part de', 91, 270, 'pour aller à', 0, 0)\n",
      "('Création de la personne qui part de', 244, 537, 'pour aller à', 1023, 0)\n",
      "('Création de la personne qui part de', 175, 629, 'pour aller à', 1023, 0)\n",
      "('Création de la personne qui part de', 413, 114, 'pour aller à', 0, 1023)\n",
      "('Création de la personne qui part de', 977, 128, 'pour aller à', 1023, 0)\n",
      "('Création de la personne qui part de', 390, 785, 'pour aller à', 0, 1023)\n",
      "('Création de la personne qui part de', 190, 452, 'pour aller à', 0, 1023)\n",
      "('Création de la personne qui part de', 1010, 52, 'pour aller à', 1023, 1023)\n",
      "('Création de la personne qui part de', 441, 821, 'pour aller à', 0, 0)\n",
      "('Création de la personne qui part de', 257, 980, 'pour aller à', 1023, 1023)\n",
      "('Création de la personne qui part de', 73, 680, 'pour aller à', 1023, 1023)\n",
      "('Création de la personne qui part de', 1011, 682, 'pour aller à', 1023, 1023)\n",
      "('Création de la personne qui part de', 671, 928, 'pour aller à', 0, 0)\n",
      "('Création de la personne qui part de', 972, 597, 'pour aller à', 0, 1023)\n",
      "('Personne non créée, la place est occupée', 103, 238)\n",
      "('Création de la personne qui part de', 509, 841, 'pour aller à', 1023, 0)\n",
      "('Création de la personne qui part de', 119, 977, 'pour aller à', 1023, 0)\n",
      "('Création de la personne qui part de', 845, 364, 'pour aller à', 0, 1023)\n",
      "('Création de la personne qui part de', 181, 132, 'pour aller à', 0, 1023)\n",
      "('Création de la personne qui part de', 943, 730, 'pour aller à', 0, 0)\n",
      "('Création de la personne qui part de', 156, 165, 'pour aller à', 0, 1023)\n",
      "('Création de la personne qui part de', 620, 697, 'pour aller à', 0, 0)\n",
      "('Création de la personne qui part de', 13, 28, 'pour aller à', 1023, 1023)\n",
      "('Création de la personne qui part de', 637, 980, 'pour aller à', 0, 0)\n",
      "('Création de la personne qui part de', 706, 441, 'pour aller à', 0, 1023)\n",
      "('Création de la personne qui part de', 395, 958, 'pour aller à', 1023, 0)\n",
      "('Création de la personne qui part de', 394, 684, 'pour aller à', 1023, 1023)\n",
      "('Création de la personne qui part de', 82, 843, 'pour aller à', 0, 1023)\n",
      "('Création de la personne qui part de', 494, 465, 'pour aller à', 0, 0)\n",
      "('Création de la personne qui part de', 191, 458, 'pour aller à', 1023, 1023)\n",
      "('Création de la personne qui part de', 500, 747, 'pour aller à', 1023, 0)\n",
      "('Création de la personne qui part de', 778, 796, 'pour aller à', 0, 0)\n",
      "('Création de la personne qui part de', 677, 704, 'pour aller à', 1023, 0)\n",
      "('Création de la personne qui part de', 656, 230, 'pour aller à', 0, 1023)\n",
      "('Création de la personne qui part de', 219, 81, 'pour aller à', 1023, 0)\n",
      "('Personne non créée, la place est occupée', 460, 565)\n",
      "('Personne non créée, la place est occupée', 132, 274)\n",
      "('Création de la personne qui part de', 826, 112, 'pour aller à', 1023, 1023)\n",
      "('Création de la personne qui part de', 849, 946, 'pour aller à', 0, 1023)\n",
      "('Création de la personne qui part de', 799, 158, 'pour aller à', 1023, 0)\n",
      "('Création de la personne qui part de', 639, 720, 'pour aller à', 1023, 1023)\n",
      "('Création de la personne qui part de', 618, 443, 'pour aller à', 0, 1023)\n",
      "('Création de la personne qui part de', 153, 165, 'pour aller à', 0, 0)\n",
      "('Création de la personne qui part de', 958, 386, 'pour aller à', 1023, 1023)\n",
      "('Création de la personne qui part de', 645, 121, 'pour aller à', 1023, 1023)\n",
      "('Personne non créée, la place est occupée', 422, 527)\n",
      "('Création de la personne qui part de', 292, 537, 'pour aller à', 1023, 0)\n",
      "('Création de la personne qui part de', 290, 197, 'pour aller à', 0, 0)\n",
      "('Création de la personne qui part de', 397, 648, 'pour aller à', 1023, 0)\n",
      "('Création de la personne qui part de', 796, 5, 'pour aller à', 0, 1023)\n",
      "('Création de la personne qui part de', 693, 965, 'pour aller à', 0, 1023)\n",
      "('Création de la personne qui part de', 710, 665, 'pour aller à', 1023, 0)\n",
      "('Création de la personne qui part de', 739, 829, 'pour aller à', 0, 1023)\n",
      "('Création de la personne qui part de', 1005, 582, 'pour aller à', 0, 1023)\n",
      "('Création de la personne qui part de', 295, 1020, 'pour aller à', 0, 1023)\n",
      "('Création de la personne qui part de', 916, 227, 'pour aller à', 0, 1023)\n",
      "('Création de la personne qui part de', 200, 232, 'pour aller à', 1023, 1023)\n",
      "('Création de la personne qui part de', 950, 348, 'pour aller à', 1023, 1023)\n",
      "('Création de la personne qui part de', 380, 724, 'pour aller à', 1023, 1023)\n",
      "('Création de la personne qui part de', 198, 546, 'pour aller à', 0, 0)\n",
      "('Personne non créée, la place est occupée', 431, 587)\n",
      "('Création de la personne qui part de', 931, 204, 'pour aller à', 1023, 0)\n",
      "('Création de la personne qui part de', 107, 635, 'pour aller à', 0, 0)\n",
      "('Création de la personne qui part de', 234, 905, 'pour aller à', 0, 1023)\n",
      "('Création de la personne qui part de', 718, 804, 'pour aller à', 1023, 0)\n",
      "('Création de la personne qui part de', 39, 312, 'pour aller à', 0, 0)\n",
      "('Création de la personne qui part de', 614, 884, 'pour aller à', 1023, 0)\n",
      "('Création de la personne qui part de', 106, 520, 'pour aller à', 1023, 0)\n",
      "('Création de la personne qui part de', 835, 455, 'pour aller à', 1023, 0)\n",
      "('Création de la personne qui part de', 209, 786, 'pour aller à', 1023, 1023)\n",
      "('Création de la personne qui part de', 202, 943, 'pour aller à', 0, 0)\n",
      "('Création de la personne qui part de', 360, 273, 'pour aller à', 1023, 1023)\n",
      "('Création de la personne qui part de', 698, 14, 'pour aller à', 0, 1023)\n",
      "('Création de la personne qui part de', 834, 465, 'pour aller à', 0, 0)\n",
      "('Création de la personne qui part de', 626, 834, 'pour aller à', 0, 1023)\n",
      "('Création de la personne qui part de', 785, 796, 'pour aller à', 0, 0)\n",
      "('Création de la personne qui part de', 152, 550, 'pour aller à', 1023, 1023)\n",
      "('Création de la personne qui part de', 784, 768, 'pour aller à', 1023, 0)\n",
      "('Personne non créée, la place est occupée', 409, 496)\n",
      "('Création de la personne qui part de', 369, 567, 'pour aller à', 1023, 1023)\n",
      "('Création de la personne qui part de', 786, 87, 'pour aller à', 0, 0)\n",
      "('Création de la personne qui part de', 509, 521, 'pour aller à', 1023, 0)\n",
      "('Création de la personne qui part de', 43, 756, 'pour aller à', 0, 0)\n",
      "('Création de la personne qui part de', 794, 242, 'pour aller à', 1023, 0)\n",
      "('Création de la personne qui part de', 199, 495, 'pour aller à', 0, 1023)\n",
      "('Création de la personne qui part de', 565, 829, 'pour aller à', 0, 0)\n",
      "('Création de la personne qui part de', 710, 428, 'pour aller à', 1023, 0)\n",
      "('Création de la personne qui part de', 344, 73, 'pour aller à', 0, 0)\n",
      "('Création de la personne qui part de', 501, 978, 'pour aller à', 1023, 1023)\n",
      "('Création de la personne qui part de', 743, 297, 'pour aller à', 0, 0)\n",
      "('Création de la personne qui part de', 140, 104, 'pour aller à', 1023, 0)\n",
      "('Création de la personne qui part de', 579, 163, 'pour aller à', 1023, 0)\n",
      "('Création de la personne qui part de', 43, 543, 'pour aller à', 0, 1023)\n",
      "('Création de la personne qui part de', 430, 289, 'pour aller à', 0, 1023)\n",
      "('Création de la personne qui part de', 366, 429, 'pour aller à', 1023, 0)\n",
      "('Création de la personne qui part de', 286, 310, 'pour aller à', 0, 1023)\n",
      "('Création de la personne qui part de', 331, 94, 'pour aller à', 1023, 1023)\n",
      "('Création de la personne qui part de', 828, 663, 'pour aller à', 1023, 0)\n",
      "('Création de la personne qui part de', 638, 980, 'pour aller à', 1023, 1023)\n",
      "('Création de la personne qui part de', 423, 253, 'pour aller à', 0, 0)\n",
      "('Création de la personne qui part de', 211, 999, 'pour aller à', 0, 0)\n",
      "('Création de la personne qui part de', 504, 310, 'pour aller à', 1023, 0)\n",
      "('Création de la personne qui part de', 200, 104, 'pour aller à', 0, 1023)\n",
      "('Création de la personne qui part de', 133, 419, 'pour aller à', 0, 0)\n",
      "('Création de la personne qui part de', 469, 995, 'pour aller à', 1023, 0)\n",
      "('Personne non créée, la place est occupée', 534, 617)\n",
      "('Création de la personne qui part de', 143, 549, 'pour aller à', 0, 0)\n",
      "('Création de la personne qui part de', 892, 461, 'pour aller à', 1023, 1023)\n",
      "('Création de la personne qui part de', 60, 382, 'pour aller à', 1023, 0)\n",
      "('Création de la personne qui part de', 210, 1004, 'pour aller à', 0, 0)\n",
      "('Création de la personne qui part de', 964, 91, 'pour aller à', 1023, 0)\n",
      "('Création de la personne qui part de', 250, 664, 'pour aller à', 0, 1023)\n",
      "('Création de la personne qui part de', 509, 995, 'pour aller à', 1023, 1023)\n",
      "('Création de la personne qui part de', 396, 106, 'pour aller à', 0, 0)\n",
      "('Création de la personne qui part de', 96, 718, 'pour aller à', 0, 1023)\n",
      "('Création de la personne qui part de', 14, 382, 'pour aller à', 1023, 1023)\n",
      "('Personne non créée, la place est occupée', 547, 672)\n",
      "('Création de la personne qui part de', 226, 837, 'pour aller à', 1023, 0)\n",
      "('Personne non créée, la place est occupée', 409, 623)\n",
      "('Création de la personne qui part de', 789, 813, 'pour aller à', 0, 0)\n",
      "('Création de la personne qui part de', 883, 76, 'pour aller à', 0, 0)\n",
      "('Création de la personne qui part de', 200, 847, 'pour aller à', 1023, 0)\n",
      "('Création de la personne qui part de', 238, 665, 'pour aller à', 1023, 0)\n",
      "('Création de la personne qui part de', 51, 682, 'pour aller à', 0, 0)\n",
      "('Création de la personne qui part de', 509, 977, 'pour aller à', 0, 1023)\n",
      "('Création de la personne qui part de', 435, 76, 'pour aller à', 0, 1023)\n",
      "('Création de la personne qui part de', 843, 581, 'pour aller à', 0, 0)\n",
      "('Création de la personne qui part de', 950, 312, 'pour aller à', 0, 1023)\n",
      "('Création de la personne qui part de', 160, 588, 'pour aller à', 1023, 1023)\n",
      "('Création de la personne qui part de', 415, 135, 'pour aller à', 1023, 1023)\n",
      "('Création de la personne qui part de', 276, 167, 'pour aller à', 1023, 1023)\n",
      "('Création de la personne qui part de', 573, 52, 'pour aller à', 1023, 0)\n",
      "('Création de la personne qui part de', 990, 989, 'pour aller à', 0, 1023)\n",
      "('Création de la personne qui part de', 25, 141, 'pour aller à', 1023, 0)\n",
      "('Création de la personne qui part de', 249, 651, 'pour aller à', 0, 0)\n",
      "('Création de la personne qui part de', 759, 887, 'pour aller à', 1023, 0)\n",
      "('Création de la personne qui part de', 782, 728, 'pour aller à', 0, 0)\n",
      "('Création de la personne qui part de', 594, 484, 'pour aller à', 0, 0)\n",
      "('Création de la personne qui part de', 835, 679, 'pour aller à', 1023, 1023)\n",
      "('Personne non créée, la place est occupée', 323, 312)\n",
      "('Création de la personne qui part de', 673, 422, 'pour aller à', 0, 0)\n",
      "('Création de la personne qui part de', 682, 405, 'pour aller à', 1023, 1023)\n",
      "('Création de la personne qui part de', 592, 328, 'pour aller à', 1023, 0)\n",
      "('Création de la personne qui part de', 537, 290, 'pour aller à', 0, 1023)\n",
      "('Création de la personne qui part de', 282, 251, 'pour aller à', 0, 1023)\n",
      "('Création de la personne qui part de', 682, 539, 'pour aller à', 0, 1023)\n",
      "('Personne non créée, la place est occupée', 416, 602)\n",
      "('Création de la personne qui part de', 576, 634, 'pour aller à', 0, 0)\n",
      "('Création de la personne qui part de', 470, 177, 'pour aller à', 0, 0)\n",
      "('Création de la personne qui part de', 698, 329, 'pour aller à', 1023, 1023)\n",
      "('Création de la personne qui part de', 529, 434, 'pour aller à', 0, 0)\n",
      "('Création de la personne qui part de', 209, 891, 'pour aller à', 0, 0)\n",
      "('Création de la personne qui part de', 453, 768, 'pour aller à', 0, 0)\n",
      "('Personne non créée, la place est occupée', 369, 318)\n",
      "('Création de la personne qui part de', 301, 873, 'pour aller à', 0, 1023)\n",
      "('Création de la personne qui part de', 485, 691, 'pour aller à', 1023, 1023)\n",
      "('Création de la personne qui part de', 281, 528, 'pour aller à', 0, 1023)\n",
      "('Création de la personne qui part de', 119, 931, 'pour aller à', 0, 0)\n",
      "('Création de la personne qui part de', 778, 460, 'pour aller à', 0, 0)\n",
      "('Création de la personne qui part de', 1002, 529, 'pour aller à', 0, 1023)\n",
      "('Création de la personne qui part de', 601, 438, 'pour aller à', 1023, 1023)\n",
      "('Création de la personne qui part de', 692, 188, 'pour aller à', 1023, 0)\n",
      "('Création de la personne qui part de', 817, 719, 'pour aller à', 1023, 1023)\n",
      "('Création de la personne qui part de', 794, 370, 'pour aller à', 0, 1023)\n",
      "('Création de la personne qui part de', 561, 704, 'pour aller à', 1023, 0)\n",
      "('Création de la personne qui part de', 7, 252, 'pour aller à', 0, 1023)\n",
      "('Création de la personne qui part de', 287, 998, 'pour aller à', 1023, 1023)\n",
      "('Personne non créée, la place est occupée', 282, 298)\n",
      "('Création de la personne qui part de', 623, 122, 'pour aller à', 1023, 0)\n",
      "('Création de la personne qui part de', 192, 623, 'pour aller à', 0, 0)\n",
      "('Création de la personne qui part de', 808, 114, 'pour aller à', 0, 0)\n",
      "('Création de la personne qui part de', 571, 391, 'pour aller à', 0, 1023)\n",
      "('Création de la personne qui part de', 296, 454, 'pour aller à', 0, 0)\n",
      "('Création de la personne qui part de', 711, 908, 'pour aller à', 0, 0)\n",
      "('Création de la personne qui part de', 364, 447, 'pour aller à', 1023, 0)\n",
      "('Personne non créée, la place est occupée', 414, 653)\n",
      "('Création de la personne qui part de', 707, 142, 'pour aller à', 0, 1023)\n",
      "('Création de la personne qui part de', 270, 570, 'pour aller à', 1023, 1023)\n",
      "('Création de la personne qui part de', 719, 342, 'pour aller à', 1023, 1023)\n",
      "('Création de la personne qui part de', 823, 266, 'pour aller à', 0, 0)\n",
      "('Création de la personne qui part de', 186, 249, 'pour aller à', 0, 1023)\n",
      "('Création de la personne qui part de', 948, 172, 'pour aller à', 1023, 1023)\n",
      "('Création de la personne qui part de', 41, 840, 'pour aller à', 0, 0)\n",
      "('Création de la personne qui part de', 274, 599, 'pour aller à', 0, 0)\n",
      "('Création de la personne qui part de', 410, 964, 'pour aller à', 1023, 0)\n",
      "('Personne non créée, la place est occupée', 396, 384)\n",
      "('Personne non créée, la place est occupée', 117, 295)\n",
      "('Création de la personne qui part de', 88, 42, 'pour aller à', 1023, 1023)\n",
      "('Création de la personne qui part de', 636, 416, 'pour aller à', 0, 0)\n",
      "('Création de la personne qui part de', 747, 761, 'pour aller à', 0, 1023)\n",
      "('Personne non créée, la place est occupée', 535, 682)\n",
      "('Création de la personne qui part de', 256, 492, 'pour aller à', 0, 1023)\n",
      "('Création de la personne qui part de', 13, 902, 'pour aller à', 1023, 1023)\n",
      "('Création de la personne qui part de', 1003, 862, 'pour aller à', 1023, 1023)\n",
      "('Personne non créée, la place est occupée', 471, 509)\n",
      "('Création de la personne qui part de', 802, 794, 'pour aller à', 1023, 0)\n",
      "('Création de la personne qui part de', 717, 445, 'pour aller à', 1023, 0)\n",
      "('Création de la personne qui part de', 410, 1018, 'pour aller à', 1023, 1023)\n",
      "('Création de la personne qui part de', 758, 690, 'pour aller à', 0, 0)\n",
      "('Création de la personne qui part de', 184, 484, 'pour aller à', 1023, 0)\n",
      "('Création de la personne qui part de', 299, 147, 'pour aller à', 1023, 1023)\n",
      "('Création de la personne qui part de', 469, 239, 'pour aller à', 1023, 0)\n",
      "('Création de la personne qui part de', 603, 352, 'pour aller à', 1023, 0)\n",
      "('Création de la personne qui part de', 875, 287, 'pour aller à', 1023, 1023)\n",
      "('Création de la personne qui part de', 552, 122, 'pour aller à', 1023, 1023)\n",
      "('Création de la personne qui part de', 1, 474, 'pour aller à', 1023, 1023)\n",
      "('Création de la personne qui part de', 45, 520, 'pour aller à', 1023, 0)\n",
      "('Création de la personne qui part de', 813, 804, 'pour aller à', 0, 1023)\n",
      "('Création de la personne qui part de', 906, 424, 'pour aller à', 1023, 1023)\n",
      "('Création de la personne qui part de', 69, 507, 'pour aller à', 1023, 1023)\n",
      "('Création de la personne qui part de', 67, 138, 'pour aller à', 0, 0)\n",
      "('Création de la personne qui part de', 830, 390, 'pour aller à', 1023, 0)\n",
      "('Création de la personne qui part de', 658, 77, 'pour aller à', 1023, 0)\n",
      "('Création de la personne qui part de', 856, 812, 'pour aller à', 1023, 1023)\n",
      "('Personne non créée, la place est occupée', 162, 193)\n",
      "('Création de la personne qui part de', 10, 770, 'pour aller à', 0, 0)\n",
      "('Création de la personne qui part de', 757, 166, 'pour aller à', 1023, 0)\n",
      "('Personne non créée, la place est occupée', 466, 611)\n",
      "('Création de la personne qui part de', 100, 796, 'pour aller à', 0, 1023)\n",
      "('Création de la personne qui part de', 398, 178, 'pour aller à', 1023, 1023)\n",
      "('Création de la personne qui part de', 994, 290, 'pour aller à', 0, 1023)\n",
      "('Création de la personne qui part de', 997, 24, 'pour aller à', 1023, 0)\n",
      "('Création de la personne qui part de', 772, 640, 'pour aller à', 1023, 1023)\n",
      "('Création de la personne qui part de', 52, 542, 'pour aller à', 0, 1023)\n",
      "('Création de la personne qui part de', 711, 122, 'pour aller à', 0, 0)\n",
      "('Création de la personne qui part de', 895, 546, 'pour aller à', 1023, 0)\n",
      "('Création de la personne qui part de', 912, 647, 'pour aller à', 1023, 0)\n",
      "('Création de la personne qui part de', 710, 993, 'pour aller à', 1023, 0)\n",
      "('Création de la personne qui part de', 691, 519, 'pour aller à', 1023, 1023)\n",
      "('Création de la personne qui part de', 189, 340, 'pour aller à', 0, 1023)\n",
      "('Création de la personne qui part de', 107, 584, 'pour aller à', 1023, 0)\n",
      "('Création de la personne qui part de', 206, 424, 'pour aller à', 1023, 0)\n",
      "('Création de la personne qui part de', 678, 97, 'pour aller à', 0, 1023)\n",
      "('Création de la personne qui part de', 185, 23, 'pour aller à', 1023, 0)\n",
      "('Création de la personne qui part de', 240, 112, 'pour aller à', 1023, 1023)\n",
      "('Personne non créée, la place est occupée', 774, 956)\n",
      "('Personne non créée, la place est occupée', 455, 492)\n",
      "('Personne non créée, la place est occupée', 101, 207)\n",
      "('Création de la personne qui part de', 122, 530, 'pour aller à', 1023, 1023)\n",
      "('Création de la personne qui part de', 489, 450, 'pour aller à', 0, 1023)\n",
      "('Création de la personne qui part de', 777, 342, 'pour aller à', 1023, 1023)\n",
      "('Création de la personne qui part de', 996, 750, 'pour aller à', 0, 1023)\n",
      "('Création de la personne qui part de', 680, 751, 'pour aller à', 1023, 1023)\n",
      "('Création de la personne qui part de', 28, 739, 'pour aller à', 0, 0)\n",
      "('Création de la personne qui part de', 558, 439, 'pour aller à', 1023, 0)\n",
      "('Création de la personne qui part de', 753, 14, 'pour aller à', 0, 0)\n",
      "('Personne non créée, la place est occupée', 502, 588)\n",
      "('Création de la personne qui part de', 440, 972, 'pour aller à', 0, 1023)\n",
      "('Création de la personne qui part de', 692, 674, 'pour aller à', 0, 1023)\n",
      "('Création de la personne qui part de', 529, 127, 'pour aller à', 1023, 0)\n",
      "('Création de la personne qui part de', 907, 631, 'pour aller à', 0, 0)\n",
      "('Création de la personne qui part de', 136, 590, 'pour aller à', 0, 1023)\n",
      "('Création de la personne qui part de', 327, 91, 'pour aller à', 1023, 0)\n",
      "('Création de la personne qui part de', 633, 703, 'pour aller à', 1023, 1023)\n",
      "('Création de la personne qui part de', 72, 390, 'pour aller à', 1023, 1023)\n",
      "('Création de la personne qui part de', 206, 81, 'pour aller à', 0, 0)\n",
      "('Création de la personne qui part de', 873, 912, 'pour aller à', 1023, 0)\n",
      "('Création de la personne qui part de', 431, 110, 'pour aller à', 0, 1023)\n",
      "('Création de la personne qui part de', 3, 246, 'pour aller à', 0, 1023)\n",
      "('Personne non créée, la place est occupée', 334, 381)\n",
      "('Création de la personne qui part de', 261, 372, 'pour aller à', 1023, 1023)\n",
      "('Personne non créée, la place est occupée', 509, 567)\n",
      "('Création de la personne qui part de', 1011, 90, 'pour aller à', 1023, 1023)\n",
      "('Création de la personne qui part de', 338, 929, 'pour aller à', 1023, 0)\n",
      "('Création de la personne qui part de', 359, 697, 'pour aller à', 1023, 0)\n",
      "('Création de la personne qui part de', 371, 728, 'pour aller à', 1023, 0)\n",
      "('Création de la personne qui part de', 170, 869, 'pour aller à', 1023, 1023)\n",
      "('Création de la personne qui part de', 55, 206, 'pour aller à', 1023, 1023)\n",
      "('Création de la personne qui part de', 612, 461, 'pour aller à', 0, 1023)\n",
      "('Création de la personne qui part de', 492, 710, 'pour aller à', 1023, 1023)\n",
      "('Création de la personne qui part de', 829, 375, 'pour aller à', 0, 0)\n",
      "('Création de la personne qui part de', 626, 725, 'pour aller à', 1023, 1023)\n",
      "('Création de la personne qui part de', 50, 441, 'pour aller à', 0, 1023)\n",
      "('Création de la personne qui part de', 803, 754, 'pour aller à', 0, 0)\n",
      "('Création de la personne qui part de', 648, 55, 'pour aller à', 0, 0)\n",
      "('Création de la personne qui part de', 780, 773, 'pour aller à', 1023, 1023)\n",
      "('Création de la personne qui part de', 190, 86, 'pour aller à', 1023, 0)\n",
      "('Création de la personne qui part de', 201, 564, 'pour aller à', 0, 1023)\n",
      "('Création de la personne qui part de', 832, 626, 'pour aller à', 0, 1023)\n",
      "('Création de la personne qui part de', 471, 437, 'pour aller à', 1023, 1023)\n",
      "('Création de la personne qui part de', 797, 270, 'pour aller à', 1023, 1023)\n",
      "('Création de la personne qui part de', 571, 154, 'pour aller à', 0, 1023)\n",
      "('Création de la personne qui part de', 196, 232, 'pour aller à', 1023, 1023)\n",
      "('Création de la personne qui part de', 449, 823, 'pour aller à', 0, 0)\n",
      "('Création de la personne qui part de', 529, 938, 'pour aller à', 1023, 0)\n",
      "('Création de la personne qui part de', 15, 860, 'pour aller à', 1023, 0)\n",
      "('Création de la personne qui part de', 484, 480, 'pour aller à', 1023, 1023)\n",
      "(1024, 'personnes ont été créées')\n"
     ]
    }
   ],
   "source": [
    "# La grille contient 2^10 personnes\n",
    "nb_person = np.power(2,10)\n",
    "\n",
    "coordonnee = np.zeros((2,1), dtype=np.int)\n",
    "sortie = np.zeros((2,1), dtype=np.int)\n",
    "while len(grid.personneList)<nb_person:\n",
    "    coordonnee[0] = np.random.randint(1,X)\n",
    "    coordonnee[1] = np.random.randint(1,Y)\n",
    "    sortie[0] = (X-1)*np.random.randint(2)\n",
    "    sortie[1] = (Y-1)*np.random.randint(2)\n",
    "    Personne(grid, int(coordonnee[0]), int(coordonnee[1]), int(sortie[0]), int(sortie[1]), debug)\n",
    "    \n",
    "debug.affiche(len(grid.personneList), \"personnes ont été créées\")"
   ]
  },
  {
   "cell_type": "code",
   "execution_count": 41,
   "metadata": {},
   "outputs": [],
   "source": [
    "# Sauvegarde de l'objet grille\n",
    "grid.Save(grande_grille)"
   ]
  },
  {
   "cell_type": "code",
   "execution_count": 42,
   "metadata": {},
   "outputs": [],
   "source": [
    "# Affichage de la grille créée\n",
    "if UI==affichage.OpenCV:\n",
    "    cv2.imshow(\"img\", createImage(grid.map))\n",
    "    cv2.waitKey(5000) # Affichage pendant 5 secondes\n",
    "    cv2.destroyAllWindows()"
   ]
  },
  {
   "cell_type": "markdown",
   "metadata": {},
   "source": [
    "## Solution itérative\n",
    "\n",
    "Chaque personne doit rejoindre sa case de sortie. Le code est fourni à titre d'exemple. Il est malheureusement incomplet car si une personne ne peut pas rejoindre sa case de sortie alors la simulation ne s'arrête pas.\n",
    "\n",
    "Si vous avez besoin de modifier les classes proposées. Il suffit de construire par héritage la nouvelle classe qui doit porter le même nom que la classe parente suffixé par \\_1 ou \\_2 ou \\_3 selon l'étape du projet, et de surcharger les méthodes qui doivent l'être.\n",
    "\n",
    "Les cellules suivantes donnent des exemples d'utilisation des primitives précédemment écrites."
   ]
  },
  {
   "cell_type": "markdown",
   "metadata": {},
   "source": [
    "### Avec trace mais sans visualisation"
   ]
  },
  {
   "cell_type": "code",
   "execution_count": 43,
   "metadata": {
    "ExecuteTime": {
     "end_time": "2020-09-09T14:57:23.812307Z",
     "start_time": "2020-09-09T14:57:23.802324Z"
    }
   },
   "outputs": [
    {
     "name": "stdout",
     "output_type": "stream",
     "text": [
      "('Ouverture du fichier', 'maps/map-initial.txt')\n",
      "('Simulation pour une grille:', 10, '*', 10)\n",
      "(\"Initilisation de l'objet grille\",)\n",
      "('obstacle non créé', ['-1', '-1', '-1', '-1'])\n",
      "(\"Création de l'obstacle (\", 1, 1, ') - (', 2, 7, ')')\n",
      "(\"Création de l'obstacle (\", 1, 7, ') - (', 8, 8, ')')\n",
      "(2, 'obstacles ont été créés')\n",
      "('Création de la personne qui part de', 2, 2, 'pour aller à', 0, 0)\n",
      "(1, 'personnes ont été créées')\n",
      "********************\n",
      "Début de la simulation\n",
      "('La personne (', 2, 2, ') peut se déplacer sur :', [(3, 2, 1)])\n",
      "('Déplacement de la personne de (', 2, 2, ') à (', 2, 1, ')')\n",
      "('La personne (', 2, 1, ') peut se déplacer sur :', [(2, 1, 1), (2, 2, 0)])\n",
      "('Déplacement de la personne de (', 2, 1, ') à (', 1, 1, ')')\n",
      "('La personne (', 1, 1, ') peut se déplacer sur :', [(1, 0, 1), (1, 1, 0)])\n",
      "('Déplacement de la personne de (', 1, 1, ') à (', 0, 1, ')')\n",
      "('La personne (', 0, 1, ') peut se déplacer sur :', [(0, 0, 0)])\n",
      "('Déplacement de la personne de (', 0, 1, ') à (', 0, 0, ')')\n",
      "('Une personne vient de sortir, il reste', 0, 'personnes')\n"
     ]
    }
   ],
   "source": [
    "# En mode debug avec 1 personne, sans UI\n",
    "debug = Debug(True)\n",
    "\n",
    "file = open_file(petite_grille, debug)  # On ouvre le fichier\n",
    "X, Y = read_grid_size(file, debug) # On lit la taille\n",
    "grid = Grille(X, Y, affichage.Aucun, debug)     # On créée l'objet grille\n",
    "read_obstacles(file, grid, Obstacle, debug)  # On lit et positionne les obstacles\n",
    "read_personnes(file, grid, Personne, 1, debug) # On lit et positionne une seule personne\n",
    "print(\"*\"*20)\n",
    "print(\"Début de la simulation\")\n",
    "grid.Simulation()"
   ]
  },
  {
   "cell_type": "markdown",
   "metadata": {},
   "source": [
    "### Visualisation de chacune des itérations avec Matplotlib"
   ]
  },
  {
   "cell_type": "code",
   "execution_count": 44,
   "metadata": {
    "ExecuteTime": {
     "end_time": "2020-09-09T14:49:25.241960Z",
     "start_time": "2020-09-09T14:49:24.715633Z"
    },
    "scrolled": true
   },
   "outputs": [
    {
     "data": {
      "image/png": "[encoded data removed]",
      "text/plain": [
       "<Figure size 432x288 with 1 Axes>"
      ]
     },
     "metadata": {
      "needs_background": "light"
     },
     "output_type": "display_data"
    },
    {
     "data": {
      "image/png": "[encoded data removed]",
      "text/plain": [
       "<Figure size 432x288 with 1 Axes>"
      ]
     },
     "metadata": {
      "needs_background": "light"
     },
     "output_type": "display_data"
    },
    {
     "data": {
      "image/png": "[encoded data removed]",
      "text/plain": [
       "<Figure size 432x288 with 1 Axes>"
      ]
     },
     "metadata": {
      "needs_background": "light"
     },
     "output_type": "display_data"
    },
    {
     "data": {
      "image/png": "[encoded data removed]",
      "text/plain": [
       "<Figure size 432x288 with 1 Axes>"
      ]
     },
     "metadata": {
      "needs_background": "light"
     },
     "output_type": "display_data"
    },
    {
     "data": {
      "image/png": "[encoded data removed]",
      "text/plain": [
       "<Figure size 432x288 with 1 Axes>"
      ]
     },
     "metadata": {
      "needs_background": "light"
     },
     "output_type": "display_data"
    },
    {
     "data": {
      "image/png": "[encoded data removed]",
      "text/plain": [
       "<Figure size 432x288 with 1 Axes>"
      ]
     },
     "metadata": {
      "needs_background": "light"
     },
     "output_type": "display_data"
    }
   ],
   "source": [
    "for img in grid.mapList:\n",
    "    plt.imshow(img, cmap='Paired', vmin=0, vmax=5)\n",
    "    plt.show()"
   ]
  },
  {
   "cell_type": "markdown",
   "metadata": {},
   "source": [
    "### Visualisation de chacune des itérations avec OpenCV"
   ]
  },
  {
   "cell_type": "code",
   "execution_count": 45,
   "metadata": {
    "ExecuteTime": {
     "end_time": "2020-09-09T14:49:37.845993Z",
     "start_time": "2020-09-09T14:49:25.860666Z"
    }
   },
   "outputs": [],
   "source": [
    "if UI==affichage.OpenCV:\n",
    "    for image in grid.mapList:\n",
    "        cv2.imshow(\"img\", createImage(image))\n",
    "        cv2.waitKey(500) # Wait for 0.5 second\n",
    "    cv2.destroyAllWindows()"
   ]
  },
  {
   "cell_type": "markdown",
   "metadata": {},
   "source": [
    "### Sans trace mais avec visualisation"
   ]
  },
  {
   "cell_type": "code",
   "execution_count": 46,
   "metadata": {
    "ExecuteTime": {
     "end_time": "2020-09-09T14:49:49.836016Z",
     "start_time": "2020-09-09T14:49:37.849761Z"
    }
   },
   "outputs": [],
   "source": [
    "# En mode sans trace avec 1 personne mais avec UI\n",
    "if UI==affichage.OpenCV:\n",
    "    debug = Debug(False)\n",
    "    file = open_file(petite_grille, debug)  # On ouvre le fichier\n",
    "    X, Y = read_grid_size(file, debug) # On lit la taille\n",
    "    grid = Grille(X, Y, affichage.OpenCV, debug)     # On créée l'objet grille\n",
    "    read_obstacles(file, grid, Obstacle, debug)  # On lit et positionne les obstacles\n",
    "    read_personnes(file, grid, Personne, 1, debug) # On lit et positionne une seule personne\n",
    "    grid.Simulation()"
   ]
  },
  {
   "cell_type": "markdown",
   "metadata": {},
   "source": [
    "## <span style=\"color:red\">Votre travail</span>\n",
    "\n",
    "Mettre en oeuvre plusieurs version du simulateur :\n",
    "1. Version itérative : un seul flot d'exécution. Celui-ci est presque terminé, il faut reste à trouver une manière la plus judicieuse possible pour résoudre le problème des personnes bloquées par un obsatacle sans modifier le comportement d'une personne.\n",
    "1. Version un flot d'exécution par personne. Attention a bien protéger par une section critique tout accès à une ressource concurrente que ce soit une trace d'exécution en mode debug ou une ressource partagée. On fera attention a reduire dans la mesure du possible la portée d'une section critique\n",
    "1. Version un flot d'exécution pour un quard de la grille. Une personne de coordonnée X, Y sera gérée par le flot d'exécution numéro $i = 2* (Y//(Ymax//2)) + X//(Xmax//2)$.\n",
    "\n",
    "Vous construirez ces différentes versions en créant si nécessaire des sous-classes aux classes existantes.\n",
    "\n"
   ]
  },
  {
   "cell_type": "markdown",
   "metadata": {
    "ExecuteTime": {
     "end_time": "2020-09-01T14:38:38.843007Z",
     "start_time": "2020-09-01T14:38:19.214514Z"
    }
   },
   "source": [
    "Bien évidemment, on attend une étude comparative des différentes approches. Pour vous aider dans l'analyse des solutions qui doivent être décrites vous utiliserez un nombre variable de personnes. Pour cela, vous adapterez le code suivant afin de pouvoir mesurer l'évolution du temps d'exécution en fonction du nombre de personnes présentes sur la grille et comparer les temps d'exécution entre les scénarios\n",
    "<code>\n",
    "debug = Debug(False)\n",
    "\n",
    "duration_i = []  # i est le numéro du scénario\n",
    "nb_personnes = []\n",
    "for i in range(11):\n",
    "    nb_personnes += [np.power(2, i)]\n",
    "    print(\"*\"*30)\n",
    "    print(\"pour\", nb_personnes[-1], \"personnes\")\n",
    "\n",
    "    file = open_file(grande_grille, debug)  # On ouvre le fichier\n",
    "    X, Y = read_grid_size(file, debug) # On lit la taille\n",
    "    debug.affiche(\"simulation pour une grille:\", X, Y)\n",
    "    grid = Grille(X, Y, debug)     # On créée l'objet grille\n",
    "    read_obstacles(file, grid, Obstacle, debug)  # On lit et positionne les obstacles\n",
    "    read_personnes(file, grid, Personne, nb_personnes[-1], debug) # On lit et positionne le nombre de personne souhaité seule personne\n",
    "    debug.affiche(\"nbre de personnes\", len(grid.personneList))\n",
    "    \n",
    "    start = time.time()\n",
    "    grid.Simulation(debug)\n",
    "    end = time.time()\n",
    "    duration_i += [end-start]\n",
    "    print(\"La simulation a duré\", duration1[-1], \"secondes\")\n",
    "    print(\"Il restait\", XXXXX, \"personnes immobiles\")<code>"
   ]
  },
  {
   "cell_type": "markdown",
   "metadata": {},
   "source": [
    "Vous ferez un plot de l'évolution des temps d'exécution\n",
    "<code>\n",
    "plt.plot(nb_personnes, duration_1, label=\"Une seule thread\")\n",
    "plt.plot(nb_personnes, duration_2, label=\"Une thread par personne\")\n",
    "plt.plot(nb_personnes, duration_2, label=\"Une thread par quard de terrain\")\n",
    "plt.xlabel(\"nombre de personnes\")\n",
    "plt.ylabel(\"temps en secondes\")\n",
    "plt.legend()\n",
    "plt.show()<code>"
   ]
  },
  {
   "cell_type": "markdown",
   "metadata": {
    "ExecuteTime": {
     "end_time": "2020-09-01T15:08:57.408399Z",
     "start_time": "2020-09-01T15:08:57.304373Z"
    }
   },
   "source": [
    "Vous calculerez les ratios entre les scénarios\n",
    "<code>\n",
    "ratio_2 = []\n",
    "ratio_3 = []\n",
    "for i,j,k in zip(duration_1, duration_2, duration_3):\n",
    "    ratio_2 += [j/i]\n",
    "    ratio_3 += [k/i]\n",
    "plt.plot(nb_personnes, ratio_2, label=\"...\")\n",
    "plt.plot(nb_personnes, ratio_3, label=\"...\")\n",
    "plt.xlabel(\"nombre de personnes\")\n",
    "plt.ylabel(\"...\")\n",
    "plt.legend()\n",
    "plt.show()<code>"
   ]
  },
  {
   "cell_type": "markdown",
   "metadata": {
    "ExecuteTime": {
     "end_time": "2020-09-09T14:49:56.668475Z",
     "start_time": "2020-09-09T14:49:56.663438Z"
    }
   },
   "source": [
    "Vous calculerez aussi le speedup (inverse du ratio précédent) et ferez un plot de celui-ci"
   ]
  },
  {
   "cell_type": "markdown",
   "metadata": {},
   "source": [
    "## Scénario 1 - version itérative"
   ]
  },
  {
   "cell_type": "code",
   "execution_count": 79,
   "metadata": {},
   "outputs": [],
   "source": [
    "class Grille_1(Grille):\n",
    "    def __init__(self, Xmax, Ymax, UI, debug):\n",
    "        Grille.__init__(self,Xmax,Ymax,UI,debug)\n",
    "        self.personneSuppriemList=[]\n",
    "    # Solution imparfaite car une personne peut être bloquée par un obstacle\n",
    "    def Simulation(self,debug):\n",
    "        if debug.debug or self.UI==affichage.OpenCV:\n",
    "            self.mapList.append(copy.copy(self.map))\n",
    "        if self.UI==affichage.OpenCV:\n",
    "            cv2.imshow(\"img\", createImage(self.map))\n",
    "            cv2.waitKey(500)\n",
    "    \n",
    "        while len(self.personneList)>0: \n",
    "            nb_pers_immobile=0 \n",
    "            for personne in self.personneList:\n",
    "                end, immobile = personne.deplacePersonne(self, debug)\n",
    "                if immobile:\n",
    "                    nb_pers_immobile+=1 # On compte le nombre de personnes immobile\n",
    "                if end:\n",
    "                    debug.affiche(\"Une personne vient de sortir, il reste\", len(self.personneList), \"personnes\")\n",
    "            if nb_pers_immobile==len(self.personneList): # S'il y a autant de personne bloqué que de personnes sur la grille, au moins une personne est bloqué\n",
    "                                                        # par un obstacle\n",
    "                self.personneSuppriemList=self.personneList\n",
    "                self.personneList.clear()\n",
    "            if debug.debug or self.UI==affichage.OpenCV:\n",
    "                self.mapList.append(copy.copy(self.map))\n",
    "                if self.UI==affichage.OpenCV:\n",
    "                    cv2.imshow(\"img\", createImage(self.map))\n",
    "                    cv2.waitKey(500)\n",
    "    \n",
    "        if self.UI==affichage.OpenCV:\n",
    "            cv2.destroyAllWindows()\n",
    "    "
   ]
  },
  {
   "cell_type": "code",
   "execution_count": 80,
   "metadata": {},
   "outputs": [
    {
     "name": "stdout",
     "output_type": "stream",
     "text": [
      "('Ouverture du fichier', 'maps/map-initial.txt')\n",
      "('Simulation pour une grille:', 10, '*', 10)\n",
      "(\"Initilisation de l'objet grille\",)\n",
      "('obstacle non créé', ['-1', '-1', '-1', '-1'])\n",
      "(\"Création de l'obstacle (\", 1, 1, ') - (', 2, 7, ')')\n",
      "(\"Création de l'obstacle (\", 1, 7, ') - (', 8, 8, ')')\n",
      "(2, 'obstacles ont été créés')\n",
      "('Création de la personne qui part de', 2, 2, 'pour aller à', 0, 0)\n",
      "('Création de la personne qui part de', 3, 3, 'pour aller à', 0, 9)\n",
      "(2, 'personnes ont été créées')\n",
      "********************\n",
      "Début de la simulation\n",
      "('La personne (', 2, 2, ') peut se déplacer sur :', [(3, 2, 1)])\n",
      "('Déplacement de la personne de (', 2, 2, ') à (', 2, 1, ')')\n",
      "('La personne (', 3, 3, ') peut se déplacer sur :', [(8, 2, 3), (8, 3, 4)])\n",
      "('Déplacement de la personne de (', 3, 3, ') à (', 2, 3, ')')\n",
      "('La personne (', 2, 1, ') peut se déplacer sur :', [(2, 1, 1), (2, 2, 0)])\n",
      "('Déplacement de la personne de (', 2, 1, ') à (', 1, 1, ')')\n",
      "('La personne (', 2, 3, ') peut se déplacer sur :', [(7, 2, 4)])\n",
      "('Déplacement de la personne de (', 2, 3, ') à (', 2, 4, ')')\n",
      "('La personne (', 1, 1, ') peut se déplacer sur :', [(1, 0, 1), (1, 1, 0)])\n",
      "('Déplacement de la personne de (', 1, 1, ') à (', 0, 1, ')')\n",
      "('La personne (', 2, 4, ') peut se déplacer sur :', [(6, 2, 5)])\n",
      "('Déplacement de la personne de (', 2, 4, ') à (', 2, 5, ')')\n",
      "('La personne (', 0, 1, ') peut se déplacer sur :', [(0, 0, 0)])\n",
      "('Déplacement de la personne de (', 0, 1, ') à (', 0, 0, ')')\n",
      "('La personne (', 2, 5, ') peut se déplacer sur :', [(5, 2, 6)])\n",
      "('Déplacement de la personne de (', 2, 5, ') à (', 2, 6, ')')\n",
      "('Une personne vient de sortir, il reste', 1, 'personnes')\n",
      "('La personne (', 2, 6, ') peut se déplacer sur :', [(4, 2, 7)])\n",
      "('Déplacement de la personne de (', 2, 6, ') à (', 2, 7, ')')\n",
      "('La personne (', 2, 7, ') peut se déplacer sur :', [])\n",
      "('La personne (', 2, 7, 'ne peut pas se déplacer')\n"
     ]
    },
    {
     "data": {
      "image/png": "[encoded data removed]",
      "text/plain": [
       "<Figure size 432x288 with 1 Axes>"
      ]
     },
     "metadata": {
      "needs_background": "light"
     },
     "output_type": "display_data"
    },
    {
     "data": {
      "image/png": "[encoded data removed]",
      "text/plain": [
       "<Figure size 432x288 with 1 Axes>"
      ]
     },
     "metadata": {
      "needs_background": "light"
     },
     "output_type": "display_data"
    },
    {
     "data": {
      "image/png": "[encoded data removed]",
      "text/plain": [
       "<Figure size 432x288 with 1 Axes>"
      ]
     },
     "metadata": {
      "needs_background": "light"
     },
     "output_type": "display_data"
    },
    {
     "data": {
      "image/png": "[encoded data removed]",
      "text/plain": [
       "<Figure size 432x288 with 1 Axes>"
      ]
     },
     "metadata": {
      "needs_background": "light"
     },
     "output_type": "display_data"
    },
    {
     "data": {
      "image/png": "[encoded data removed]",
      "text/plain": [
       "<Figure size 432x288 with 1 Axes>"
      ]
     },
     "metadata": {
      "needs_background": "light"
     },
     "output_type": "display_data"
    },
    {
     "data": {
      "image/png": "[encoded data removed]",
      "text/plain": [
       "<Figure size 432x288 with 1 Axes>"
      ]
     },
     "metadata": {
      "needs_background": "light"
     },
     "output_type": "display_data"
    },
    {
     "data": {
      "image/png": "[encoded data removed]",
      "text/plain": [
       "<Figure size 432x288 with 1 Axes>"
      ]
     },
     "metadata": {
      "needs_background": "light"
     },
     "output_type": "display_data"
    },
    {
     "data": {
      "image/png": "[encoded data removed]",
      "text/plain": [
       "<Figure size 432x288 with 1 Axes>"
      ]
     },
     "metadata": {
      "needs_background": "light"
     },
     "output_type": "display_data"
    }
   ],
   "source": [
    "''' code du scénario 1 - vous pouvez utiliser plusieurs cellule '''\n",
    "\n",
    "debug = Debug(True)\n",
    "\n",
    "file = open_file(petite_grille, debug)  # On ouvre le fichier\n",
    "X, Y = read_grid_size(file, debug) # On lit la taille\n",
    "grid = Grille_1(X, Y, affichage.Aucun, debug)     # On créée l'objet grille\n",
    "read_obstacles(file, grid, Obstacle, debug)  # On lit et positionne les obstacles\n",
    "read_personnes(file, grid, Personne, 2, debug) # On lit et positionne une seule personne\n",
    "print(\"*\"*20)\n",
    "print(\"Début de la simulation\")\n",
    "grid.Simulation(debug)\n",
    "\n",
    "for img in grid.mapList:\n",
    "    plt.imshow(img, cmap='Paired', vmin=0, vmax=5)\n",
    "    plt.show()\n"
   ]
  },
  {
   "cell_type": "code",
   "execution_count": 84,
   "metadata": {},
   "outputs": [
    {
     "data": {
      "text/plain": [
       "[<matplotlib.lines.Line2D at 0x7f2a9092ffa0>]"
      ]
     },
     "execution_count": 84,
     "metadata": {},
     "output_type": "execute_result"
    },
    {
     "data": {
      "image/png": "[encoded data removed]",
      "text/plain": [
       "<Figure size 432x288 with 1 Axes>"
      ]
     },
     "metadata": {
      "needs_background": "light"
     },
     "output_type": "display_data"
    }
   ],
   "source": [
    "''' plot du temps d'exécution en fonction du nombre de personnes '''\n",
    "duration_i = [] # i est le numéro du scénario \n",
    "nb_personnes=[]\n",
    "range_personnes=10\n",
    "debug = Debug(False)\n",
    "for x in range(1,range_personnes):\n",
    "    nb_personnes.append(x)\n",
    "    file = open_file(petite_grille, debug)  # On ouvre le fichier\n",
    "    X, Y = read_grid_size(file, debug) # On lit la taille\n",
    "    grid = Grille_1(X, Y, affichage.Aucun, debug)     # On créée l'objet grille\n",
    "    read_obstacles(file, grid, Obstacle, debug)  # On lit et positionne les obstacles\n",
    "    read_personnes(file, grid, Personne, x, debug) # On lit et positionne une seule personne\n",
    "    start = time.time()\n",
    "    grid.Simulation(debug)\n",
    "    end = time.time()\n",
    "    duration_i.append(end-start)\n",
    "plt.plot(nb_personnes, duration_i, label=\"Une seule thread\")"
   ]
  },
  {
   "cell_type": "markdown",
   "metadata": {},
   "source": [
    "Votre analyse du scénario 1"
   ]
  },
  {
   "cell_type": "markdown",
   "metadata": {},
   "source": [
    "## Scénario 2 - version 1 thread par personne"
   ]
  },
  {
   "cell_type": "markdown",
   "metadata": {},
   "source": [
    "## Scénario 3 - version 1 thread pour 1/4 de la grille"
   ]
  },
  {
   "cell_type": "markdown",
   "metadata": {},
   "source": [
    "## Comparaison des trois approches\n",
    "\n",
    "<span style=\"color:red\">On attend ici une comparaison argumentée permettant de mettre en évidence les points forts et les points faibles des différentes solutions</span>"
   ]
  },
  {
   "cell_type": "markdown",
   "metadata": {},
   "source": [
    "## Export du notebook dans un fichier python"
   ]
  },
  {
   "cell_type": "code",
   "execution_count": null,
   "metadata": {
    "ExecuteTime": {
     "end_time": "2020-09-09T14:49:56.670691Z",
     "start_time": "2020-09-09T14:49:41.283Z"
    }
   },
   "outputs": [],
   "source": [
    "import sys,json\n",
    "import ipyparams\n",
    "\n",
    "def convertNotebook(notebookPath, modulePath):\n",
    "    f = open(notebookPath, 'r') #input.ipynb\n",
    "    j = json.load(f)\n",
    "\n",
    "    of = open(modulePath, 'w') #output.py\n",
    "\n",
    "    if j[\"nbformat\"] >=4:\n",
    "        for i,cell in enumerate(j[\"cells\"]):\n",
    "            if cell['cell_type']=='code':\n",
    "                of.write(\"#cell \"+str(i+1)+\"\\n\")\n",
    "                for line in cell[\"source\"]:\n",
    "                    of.write(line)\n",
    "                of.write('\\n\\n')\n",
    "    else:\n",
    "        print(\"not implemented\")\n",
    "\n",
    "    of.close()"
   ]
  },
  {
   "cell_type": "code",
   "execution_count": null,
   "metadata": {
    "ExecuteTime": {
     "end_time": "2020-09-09T14:49:56.671833Z",
     "start_time": "2020-09-09T14:49:46.226Z"
    }
   },
   "outputs": [],
   "source": [
    "''' Remarks: it is necessary to put the import code in a separate cell above the call of function.\n",
    "Otherwise Jupyter will try to run the code before the library is fully loaded,\n",
    "so the currentNotebook variable is still blank.\n",
    "\n",
    "Putting the import in its own cell forces it to load before moving to the next cell.\n",
    "'''\n",
    "if is_running_from_ipython():\n",
    "    currentNotebook = ipyparams.notebook_name\n",
    "    pythonName = currentNotebook.split(\".\")[0]+\".py\"\n",
    "    \n",
    "    convertNotebook(currentNotebook, pythonName)"
   ]
  },
  {
   "cell_type": "code",
   "execution_count": null,
   "metadata": {},
   "outputs": [],
   "source": []
  }
 ],
 "metadata": {
  "kernelspec": {
   "display_name": "Python 3",
   "language": "python",
   "name": "python3"
  },
  "language_info": {
   "codemirror_mode": {
    "name": "ipython",
    "version": 3
   },
   "file_extension": ".py",
   "mimetype": "text/x-python",
   "name": "python",
   "nbconvert_exporter": "python",
   "pygments_lexer": "ipython3",
   "version": "3.7.9"
  },
  "latex_envs": {
   "LaTeX_envs_menu_present": true,
   "autoclose": true,
   "autocomplete": true,
   "bibliofile": "biblio.bib",
   "cite_by": "apalike",
   "current_citInitial": 1,
   "eqLabelWithNumbers": true,
   "eqNumInitial": 1,
   "hotkeys": {
    "equation": "Ctrl-E",
    "itemize": "Ctrl-I"
   },
   "labels_anchors": false,
   "latex_user_defs": false,
   "report_style_numbering": false,
   "user_envs_cfg": false
  },
  "nbTranslate": {
   "displayLangs": [
    "*"
   ],
   "hotkey": "alt-t",
   "langInMainMenu": true,
   "sourceLang": "en",
   "targetLang": "fr",
   "useGoogleTranslate": true
  },
  "toc": {
   "base_numbering": 1,
   "nav_menu": {},
   "number_sections": true,
   "sideBar": true,
   "skip_h1_title": true,
   "title_cell": "Table of Contents",
   "title_sidebar": "Contents",
   "toc_cell": true,
   "toc_position": {},
   "toc_section_display": true,
   "toc_window_display": false
  }
 },
 "nbformat": 4,
 "nbformat_minor": 4
}
