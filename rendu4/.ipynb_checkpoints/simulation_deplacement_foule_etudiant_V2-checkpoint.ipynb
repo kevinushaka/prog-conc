{
 "cells": [
  {
   "cell_type": "markdown",
   "metadata": {
    "id": "VqXeFgZWgNrH"
   },
   "source": [
    "# Simulation de déplacement d'une foule\n",
    "\n",
    "* USHAKA KUBWAWE Kévin\n",
    "\n",
    "*   ADANLEHOUSSI Komi Denis\n",
    "\n",
    "\n"
   ]
  },
  {
   "cell_type": "markdown",
   "metadata": {
    "id": "413TubpHgNrJ"
   },
   "source": [
    "## Introduction\n",
    "<span style=\"color:red\">Mettre ici votre description du projet.</span>"
   ]
  },
  {
   "cell_type": "markdown",
   "metadata": {
    "id": "4LhToZsjgNrK"
   },
   "source": [
    "<h1>Table of Contents<span class=\"tocSkip\"></span></h1>\n",
    "<div class=\"toc\"><ul class=\"toc-item\"><li><span><a href=\"#Introduction\" data-toc-modified-id=\"Introduction-1\"><span class=\"toc-item-num\">1&nbsp;&nbsp;</span>Introduction</a></span></li><li><span><a href=\"#Bibliothèque-Python-pour-le-multi-flots-d'exécution.\" data-toc-modified-id=\"Bibliothèque-Python-pour-le-multi-flots-d'exécution.-2\"><span class=\"toc-item-num\">2&nbsp;&nbsp;</span>Bibliothèque Python pour le multi-flots d'exécution.</a></span></li><li><span><a href=\"#Les-mécanismes-de-synchronisation-en-Python\" data-toc-modified-id=\"Les-mécanismes-de-synchronisation-en-Python-3\"><span class=\"toc-item-num\">3&nbsp;&nbsp;</span>Les mécanismes de synchronisation en Python</a></span></li><li><span><a href=\"#Définitions-de-quelques-procédures-pour-initialiser-une-grille-à-partir-d'un-fichier-de-configuration\" data-toc-modified-id=\"Définitions-de-quelques-procédures-pour-initialiser-une-grille-à-partir-d'un-fichier-de-configuration-4\"><span class=\"toc-item-num\">4&nbsp;&nbsp;</span>Définitions de quelques procédures pour initialiser une grille à partir d'un fichier de configuration</a></span><ul class=\"toc-item\"><li><span><a href=\"#Définition-de-la-grille\" data-toc-modified-id=\"Définition-de-la-grille-4.1\"><span class=\"toc-item-num\">4.1&nbsp;&nbsp;</span>Définition de la grille</a></span></li><li><span><a href=\"#Définition-d'un-obstacle\" data-toc-modified-id=\"Définition-d'un-obstacle-4.2\"><span class=\"toc-item-num\">4.2&nbsp;&nbsp;</span>Définition d'un obstacle</a></span></li><li><span><a href=\"#Définition-d'une-personne\" data-toc-modified-id=\"Définition-d'une-personne-4.3\"><span class=\"toc-item-num\">4.3&nbsp;&nbsp;</span>Définition d'une personne</a></span></li><li><span><a href=\"#Construction-d'une-image-pour-OpenCV\" data-toc-modified-id=\"Construction-d'une-image-pour-OpenCV-4.4\"><span class=\"toc-item-num\">4.4&nbsp;&nbsp;</span>Construction d'une image pour OpenCV</a></span></li></ul></li><li><span><a href=\"#Solution-itérative\" data-toc-modified-id=\"Solution-itérative-5\"><span class=\"toc-item-num\">5&nbsp;&nbsp;</span>Solution itérative</a></span><ul class=\"toc-item\"><li><span><a href=\"#Avec-trace-mais-sans-visualisation\" data-toc-modified-id=\"Avec-trace-mais-sans-visualisation-5.1\"><span class=\"toc-item-num\">5.1&nbsp;&nbsp;</span>Avec trace mais sans visualisation</a></span></li><li><span><a href=\"#Visualisation-de-chacune-des-itérations-avec-Matplotlib\" data-toc-modified-id=\"Visualisation-de-chacune-des-itérations-avec-Matplotlib-5.2\"><span class=\"toc-item-num\">5.2&nbsp;&nbsp;</span>Visualisation de chacune des itérations avec Matplotlib</a></span></li><li><span><a href=\"#Visualisation-de-chacune-des-itérations-avec-OpenCV\" data-toc-modified-id=\"Visualisation-de-chacune-des-itérations-avec-OpenCV-5.3\"><span class=\"toc-item-num\">5.3&nbsp;&nbsp;</span>Visualisation de chacune des itérations avec OpenCV</a></span></li><li><span><a href=\"#Sans-trace-mais-avec-visualisation\" data-toc-modified-id=\"Sans-trace-mais-avec-visualisation-5.4\"><span class=\"toc-item-num\">5.4&nbsp;&nbsp;</span>Sans trace mais avec visualisation</a></span></li><li><span><a href=\"#Utilisation-des-procédures-précédentes-pour-créer-une-nouvelle-grille-qui-sera-sauvegardée-dans-un-fichier\" data-toc-modified-id=\"Utilisation-des-procédures-précédentes-pour-créer-une-nouvelle-grille-qui-sera-sauvegardée-dans-un-fichier-5.5\"><span class=\"toc-item-num\">5.5&nbsp;&nbsp;</span>Utilisation des procédures précédentes pour créer une nouvelle grille qui sera sauvegardée dans un fichier</a></span></li></ul></li><li><span><a href=\"#Votre-travail\" data-toc-modified-id=\"Votre-travail-6\"><span class=\"toc-item-num\">6&nbsp;&nbsp;</span><span style=\"color: red\">Votre travail</span></a></span></li><li><span><a href=\"#Scénario-1\" data-toc-modified-id=\"Scénario-1-7\"><span class=\"toc-item-num\">7&nbsp;&nbsp;</span>Scénario 1</a></span></li><li><span><a href=\"#Scénario-2\" data-toc-modified-id=\"Scénario-2-8\"><span class=\"toc-item-num\">8&nbsp;&nbsp;</span>Scénario 2</a></span></li><li><span><a href=\"#Scénario-3\" data-toc-modified-id=\"Scénario-3-9\"><span class=\"toc-item-num\">9&nbsp;&nbsp;</span>Scénario 3</a></span></li><li><span><a href=\"#Comparaison-des-trois-approches\" data-toc-modified-id=\"Comparaison-des-trois-approches-10\"><span class=\"toc-item-num\">10&nbsp;&nbsp;</span>Comparaison des trois approches</a></span></li><li><span><a href=\"#Export-du-notebook-dans-un-fichier-python\" data-toc-modified-id=\"Export-du-notebook-dans-un-fichier-python-11\"><span class=\"toc-item-num\">11&nbsp;&nbsp;</span>Export du notebook dans un fichier python</a></span></li></ul></div>"
   ]
  },
  {
   "cell_type": "markdown",
   "metadata": {
    "id": "bKyn-XVXgNrL"
   },
   "source": [
    "## Bibliothèque Python pour le multi-flots d'exécution.\n",
    "\n",
    "<span style=\"color:red\">Dans cette section vous présenterez votre étude comparative, avec exemple, des bibliothèques python permettant d'exécuter plusieurs flots en parallèle</span>\n",
    "\n",
    "<span style=\"color:red\">Vous préciserez de manière justifiée à la fin de cette section la bibliothèque choisie. La cellule suivante, exécutable comprendra l'import de la bibliothèque.</span>"
   ]
  },
  {
   "cell_type": "code",
   "execution_count": null,
   "metadata": {
    "id": "QqJjzf_VulcP"
   },
   "outputs": [],
   "source": [
    "import threading"
   ]
  },
  {
   "cell_type": "markdown",
   "metadata": {
    "id": "vwtXW_8ZgNrV"
   },
   "source": [
    "Il existe plusieures modules qui prennent en charge l'utilisation des threads en Python: _thread, multiprocessing, threading, asyncio.\n",
    "\n",
    "Le module _thread traite un thread comme une fonction, tandis que les modules multiprocessing, threading et asyncio sont implémentés de manière orientée objet, c'est-à-dire que chaque processus/thread correspond à un objet.\n",
    "\n",
    "Quand on fait du multi-threading en python, 2 threads ne peuvent pas exécuter du code python en même temps à cause du Global Interpreter Lock. L'exécution simultanée de plusieurs tâches nécessite une implémentation non standard de Python ou l'utilisation du multiprocessing qui entraîne une surcharge supplémentaire.\n",
    "\n",
    "Quand on fait du multi-processing, c'est plus lourd, car il faut créer des processus, et la communication entre process est plus difficile car ils ne partagent pas la mémoire.\n",
    "\n",
    "\n",
    "##Pourquoi GIL? \n",
    "\n",
    "Python utilise le comptage de références pour la gestion de la mémoire. Cela signifie que les objets créés en Python ont une variable de comptage de références qui assure le suivi du nombre de références pointant vers l'objet. Lorsque ce décompte atteint zéro, la mémoire occupée par l'objet est libérée.\n",
    "\n",
    "Le problème est que cette variable de comptage de référence nécessite une protection contre les conditions de concurrence où deux threads augmentent ou diminuent simultanément sa valeur. Cela peut provoquer une fuite de mémoire qui n'est jamais libérée ouune libération incorrecte de la mémoire alors qu'une référence à cet objet existe toujours.\n"
   ]
  },
  {
   "cell_type": "markdown",
   "metadata": {
    "id": "Yz5ZBkgBgNrb"
   },
   "source": [
    "## _thread"
   ]
  },
  {
   "cell_type": "markdown",
   "metadata": {
    "id": "SoRhIC9xgNrd"
   },
   "source": [
    "Il est possible d'exécuter des fonctions dans un thread séparé avec le module Thread.\n",
    "\n",
    "thread.start_new_thread (fonction, args [, kwargs])\n",
    "\n",
    "Cette méthode démarre un nouveau thread et renvoie son identifiant. Le thread exécute la fonction avec l'argument list args. L'argument kwargs facultatif spécifie un dictionnaire d'arguments de mot-clé. Lorsque la fonction revient, le thread se ferme silencieusement. Lorsque la fonction se termine avec une exception non gérée, une trace de pile est imprimée, puis le thread se termine.\n"
   ]
  },
  {
   "cell_type": "code",
   "execution_count": null,
   "metadata": {
    "colab": {
     "base_uri": "https://localhost:8080/"
    },
    "id": "1wn4NUu1gNre",
    "outputId": "a36a259a-2b09-4392-8003-b7a28161aeff"
   },
   "outputs": [
    {
     "name": "stdout",
     "output_type": "stream",
     "text": [
      "Done.\n",
      "Thread 99: starting.\n",
      "Thread 1733: starting.\n",
      "Thread 999: starting.\n"
     ]
    }
   ],
   "source": [
    "from _thread import start_new_thread\n",
    "import time\n",
    "\n",
    "def thread_function(name):\n",
    "    print(\"Thread \" +str(name)+ \": starting.\")\n",
    "    time.sleep(2)\n",
    "    print(\"Thread \" +str(name)+\": finishing.\")\n",
    "\n",
    "start_new_thread(thread_function,(99,))\n",
    "start_new_thread(thread_function,(999,))\n",
    "start_new_thread(thread_function,(1733,))\n",
    "\n",
    "print(\"Done.\")"
   ]
  },
  {
   "cell_type": "markdown",
   "metadata": {
    "id": "Jos1xA-6gNrn"
   },
   "source": [
    "## threading"
   ]
  },
  {
   "cell_type": "markdown",
   "metadata": {
    "id": "UJonTATJgNrp"
   },
   "source": [
    "Le module threading fournit une API de fils d'exécution de haut niveau, plus facile à utiliser et construite à partir de ce module.\n",
    "\n",
    "Pour implémenter un nouveau thread à l'aide du module de threading,on doit-\n",
    "\n",
    "Définir une nouvelle sous-classe de la classe Thread.\n",
    "\n",
    "Override la méthode __init __ (self [, args]) pour ajouter des arguments supplémentaires.\n",
    "\n",
    "Override la méthode run (self [, args]) pour implémenter ce que le thread doit faire au démarrage."
   ]
  },
  {
   "cell_type": "code",
   "execution_count": null,
   "metadata": {
    "colab": {
     "base_uri": "https://localhost:8080/"
    },
    "id": "tU5zmxB9gNrq",
    "outputId": "f0e116b1-fe25-422e-9cb1-e350bdbf6cc6"
   },
   "outputs": [
    {
     "name": "stdout",
     "output_type": "stream",
     "text": [
      "Starting Thread-1\n",
      "Starting Thread-2\n",
      "Exiting Main Thread\n"
     ]
    }
   ],
   "source": [
    "import time\n",
    "\n",
    "exitFlag = 0\n",
    "\n",
    "class myThread (threading.Thread):\n",
    "   def __init__(self, threadID, name, counter):\n",
    "      threading.Thread.__init__(self)\n",
    "      self.threadID = threadID\n",
    "      self.name = name\n",
    "      self.counter = counter\n",
    "   def run(self):\n",
    "      print (\"Starting \" + self.name)\n",
    "      print_time(self.name, 5, self.counter)\n",
    "      print (\"Exiting \" + self.name)\n",
    "\n",
    "def print_time(threadName, counter, delay):\n",
    "   while counter:\n",
    "      if exitFlag:\n",
    "         threadName.exit()\n",
    "      time.sleep(delay)\n",
    "      print (threadName + time.ctime(time.time()))\n",
    "      counter -= 1\n",
    "\n",
    "# Create new threads\n",
    "thread1 = myThread(1, \"Thread-1\", 1)\n",
    "thread2 = myThread(2, \"Thread-2\", 2)\n",
    "\n",
    "# Start new Threads\n",
    "thread1.start()\n",
    "thread2.start()\n",
    "\n",
    "print (\"Exiting Main Thread\")"
   ]
  },
  {
   "cell_type": "markdown",
   "metadata": {
    "id": "usNZ_Di_gNrw"
   },
   "source": [
    "## multiprocessing"
   ]
  },
  {
   "cell_type": "code",
   "execution_count": null,
   "metadata": {
    "id": "sV4v4vM0gNrx"
   },
   "outputs": [],
   "source": [
    "import multiprocessing"
   ]
  },
  {
   "cell_type": "markdown",
   "metadata": {
    "id": "gnoKKVG_gNr_"
   },
   "source": [
    "Le module multiprocessing permet de tirer pleinement parti de plusieurs processeurs sur une machine donnée. L'API utilisée est similaire au module de threading classique. Pour créer un second processus, il faut instancier un objet Process avec une fonction cible et appeler start () pour le laisser commencer à fonctionner. Le guide de style multiprocessing Python recommande de placer le code multiprocesseur dans l'idiome name == 'main'. Cela est dû à la façon dont les processus sont créés sous Windows. Le but est d'éviter la boucle sans fin des générations de processus."
   ]
  },
  {
   "cell_type": "code",
   "execution_count": null,
   "metadata": {
    "colab": {
     "base_uri": "https://localhost:8080/"
    },
    "id": "dk0QqWoAgNsA",
    "outputId": "a72ca203-375b-4356-9808-932052969c4f"
   },
   "outputs": [
    {
     "name": "stdout",
     "output_type": "stream",
     "text": [
      "Worker:0\n",
      "Worker:1\n",
      "Worker:3\n",
      "Worker:2\n",
      "Worker:4\n"
     ]
    }
   ],
   "source": [
    "def worker(num):\n",
    "    print ('Worker:'+ str(num))\n",
    "    return\n",
    "\n",
    "if __name__ == '__main__':\n",
    "    jobs = []\n",
    "    for i in range(5):\n",
    "        p = multiprocessing.Process(target=worker, args=(i,))\n",
    "        jobs.append(p)\n",
    "        p.start()"
   ]
  },
  {
   "cell_type": "markdown",
   "metadata": {
    "id": "frqIIk7_gNsU"
   },
   "source": [
    "Par défaut, le programme principal ne se fermera pas tant que tous les enfants ne seront pas sortis.\n",
    "\n",
    "Un thread daemon s'arrêtera immédiatement lorsque le programme se fermera. Le thread daemon est un thread qui s'exécute en arrière-plan sans se soucier de l'arrêter.\n",
    "\n",
    "Un programme exécutant des threads qui ne sont pas des daemon attendra que ces threads se terminent avant de se terminer. Cependant, les threads qui sont des daemons sont simplement tués où qu'ils soient lorsque le programme se termine.\n",
    "\n",
    "Pour marquer un processus comme un daemon, il faut définir son attribut de démon avec une valeur booléenne. La valeur par défaut est que les processus ne sont pas des daemon, donc passer True active le mode daemon."
   ]
  },
  {
   "cell_type": "code",
   "execution_count": null,
   "metadata": {
    "colab": {
     "base_uri": "https://localhost:8080/"
    },
    "id": "mF1vPE7AgNsX",
    "outputId": "496d269d-3072-4d7e-b6b7-21da81b4f711"
   },
   "outputs": [
    {
     "name": "stdout",
     "output_type": "stream",
     "text": [
      "End of main thread\n",
      "Hello from daemon\n",
      "Hello from non daemon\n",
      "Hello from non daemon\n",
      "Hello from daemon\n",
      "Hello from daemon\n",
      "Hello from daemon\n",
      "Hello from non daemon\n",
      "Hello from daemon\n",
      "Hello from non daemon\n",
      "Hello from non daemon\n"
     ]
    }
   ],
   "source": [
    "import time\n",
    "import sys\n",
    "\n",
    "def nondaemon():\n",
    "    for x in range(5): \n",
    "        print(\"Hello from non daemon\")\n",
    "def daemon():\n",
    "    for x in range(5): \n",
    "        print(\"Hello from daemon\")\n",
    "    \n",
    "if __name__ == '__main__':\n",
    "    d = multiprocessing.Process(target=daemon)\n",
    "    d.daemon = True\n",
    "\n",
    "    n = multiprocessing.Process(target=nondaemon)\n",
    "    n.daemon = False\n",
    "\n",
    "    d.start()\n",
    "    n.start()\n",
    "\n",
    "    print(\"End of main thread\")"
   ]
  },
  {
   "cell_type": "markdown",
   "metadata": {
    "id": "A9F-BBJngNsd"
   },
   "source": [
    "Les processus ont leur propre espace virtuel, ils ne partagent pas leur mémoire. C'est pourquoi le module multiprocessing gère deux types de canaux de communication entre les processus : Queue , Tubes."
   ]
  },
  {
   "cell_type": "code",
   "execution_count": null,
   "metadata": {
    "colab": {
     "base_uri": "https://localhost:8080/"
    },
    "id": "CxGlvrvVgNse",
    "outputId": "dd3cb59e-88d8-4f52-f51a-40b5f0ba7d34"
   },
   "outputs": [
    {
     "name": "stdout",
     "output_type": "stream",
     "text": [
      "[42, None, 'hello']\n"
     ]
    }
   ],
   "source": [
    "from multiprocessing import Process, Queue\n",
    "\n",
    "def f(q):\n",
    "    q.put([42, None, 'hello'])\n",
    "\n",
    "if __name__ == '__main__':\n",
    "    q = Queue()\n",
    "    p = Process(target=f, args=(q,))\n",
    "    p.start()\n",
    "    print(q.get())    # prints \"[42, None, 'hello']\"\n",
    "    p.join()"
   ]
  },
  {
   "cell_type": "markdown",
   "metadata": {
    "id": "-2cUTObhgNsm"
   },
   "source": [
    "Pour utiliser un tube on instancie un objet Pipe. Les deux objets de connexion renvoyés par Pipe() représentent les deux bouts d'un tube. Chaque objet de connexion possède des méthodes send() et recv()."
   ]
  },
  {
   "cell_type": "code",
   "execution_count": null,
   "metadata": {
    "colab": {
     "base_uri": "https://localhost:8080/"
    },
    "id": "LaKsOEu2gNso",
    "outputId": "3405a466-2532-4512-92ab-b79461ed62ac"
   },
   "outputs": [
    {
     "name": "stdout",
     "output_type": "stream",
     "text": [
      "[42, None, 'hello']\n"
     ]
    }
   ],
   "source": [
    "from multiprocessing import Process, Pipe\n",
    "\n",
    "def f(conn):\n",
    "    conn.send([42, None, 'hello'])\n",
    "    conn.close()\n",
    "\n",
    "if __name__ == '__main__':\n",
    "    parent_conn, child_conn = Pipe()\n",
    "    p = Process(target=f, args=(child_conn,))\n",
    "    p.start()\n",
    "    print(parent_conn.recv())   # prints \"[42, None, 'hello']\"\n",
    "    p.join()"
   ]
  },
  {
   "cell_type": "markdown",
   "metadata": {
    "id": "zmBgHk4ggNsz"
   },
   "source": [
    "Il est également possible de créer des objets partagés utilisant une mémoire partagée pouvant être héritée par les processus enfants avec multiprocessing.Value(typecode_or_type, *args, lock=True).\n",
    "\n",
    "Les opérations telles que += qui impliquent une lecture et une écriture ne sont pas atomique. Ainsi si on souhaite par exemple réaliser une incrémentation atomique sur une valeur partagée, on ne peut pas simplement faire."
   ]
  },
  {
   "cell_type": "code",
   "execution_count": null,
   "metadata": {
    "colab": {
     "base_uri": "https://localhost:8080/"
    },
    "id": "TNlJ162FgNs0",
    "outputId": "151d0c7c-2ad4-4dd2-8975-f4e243da71a4"
   },
   "outputs": [
    {
     "name": "stdout",
     "output_type": "stream",
     "text": [
      "Final balance = 2\n"
     ]
    }
   ],
   "source": [
    "# function to deposit to account \n",
    "def increment(variable):     \n",
    "    variable.value = variable.value + 1\n",
    "\n",
    "if __name__ == \"__main__\": \n",
    "    counter = multiprocessing.Value('i', 0)\n",
    "\n",
    "    p1 = multiprocessing.Process(target=increment, args=(counter,)) \n",
    "    p2 = multiprocessing.Process(target=increment, args=(counter,)) \n",
    "  \n",
    "    p1.start() \n",
    "    p2.start() \n",
    "\n",
    "    p1.join();\n",
    "    p2.join();\n",
    "\n",
    "    print(\"Final balance = \"+str(counter.value)) "
   ]
  },
  {
   "cell_type": "markdown",
   "metadata": {
    "id": "YVlmdX7DgNs7"
   },
   "source": [
    "## asyncio"
   ]
  },
  {
   "cell_type": "markdown",
   "metadata": {
    "id": "vWtVBClSgNs8"
   },
   "source": [
    "Le concept général de asyncio est qu’un seul objet Python, appelé la boucle d’événements, contrôle comment et quand chaque tâche est exécutée. La boucle d’événements est consciente de chaque tâche et sait dans quel état elle se trouve. En réalité, il existe de nombreux états dans lesquels les tâches pourraient être mais nous allons dans un souci de simplicité supposer qu'il n'y a que deux états.\n",
    "\n",
    "L’état prêt indique qu’une tâche a du travail à faire et est prête à être exécutée, et l’état d’attente signifie que la tâche attend que quelque chose externe se termine (une opération réseau par exemple).\n",
    "\n",
    "La boucle d’événements simplifiée gère deux listes de tâches, une pour chacun de ces états. Il sélectionne l’une des tâches prêtes et la redémarre. Cette tâche est sous contrôle complet jusqu’à ce qu’elle remette en coopération le contrôle à la boucle d’événements.\n",
    "\n",
    "Lorsque la tâche en cours d’exécution redonne le contrôle à la boucle d’événements, la boucle d’événements place cette tâche dans la liste prête ou en attente, puis passe en revue chacune des tâches de la liste d’attente pour voir si elle est devenue prête par une opération d’E/S achèvement. Et ainsi de suite jusqu'a la fin de l'execution du programme."
   ]
  },
  {
   "cell_type": "code",
   "execution_count": null,
   "metadata": {
    "id": "0U7dEKxugNs-"
   },
   "outputs": [],
   "source": [
    "import asyncio"
   ]
  },
  {
   "cell_type": "code",
   "execution_count": null,
   "metadata": {
    "id": "XjgzbZ5-gNuW"
   },
   "outputs": [],
   "source": [
    "#!/usr/bin/env python3\n",
    "# countasync.py\n",
    "\n",
    "async def count():\n",
    "    print(\"One\")\n",
    "    await asyncio.sleep(1)\n",
    "    print(\"Two\")\n",
    "\n",
    "async def main():\n",
    "    await asyncio.gather(count(), count(), count())\n",
    "\n",
    "if __name__ == \"__main__\":\n",
    "    import time\n",
    "    s = time.perf_counter()\n",
    "    loop = asyncio.get_event_loop()\n",
    "    loop.run_until_complete(main())\n",
    "    elapsed = time.perf_counter() - s\n",
    "    print(f\"{__file__} executed in {elapsed:0.2f} seconds.\")"
   ]
  },
  {
   "cell_type": "markdown",
   "metadata": {
    "id": "6OmbtcHrOxe5"
   },
   "source": [
    "## Choix\n",
    "\n",
    "*  _thread ne nous permet que de créer des thread. Nous n'avons pas la flexibilite de gerer à notre gré les processus concurents\n",
    "*  Pour multiprocessing, les processus auront leur propre espace virtuel, ils ne partageront pas leur mémoire. Ce qui n'est pas idéal pour notre probleme vu que nos personnes doivent partager une meme ressource : la grille\n",
    "\n",
    "\n",
    "*   Tout comme _thread asyncio nous pemet de mettre en section critique tout une methode sans avoir la flexibilité de gerer de maniere isolé des varible specifiques.\n",
    "*   threading lui nous permet de gerer avec flexibilité de part toutes les primitives qu'elle nous offre les section criques, aussi bien sur des methodes mais aussi sur des variables specifiques.\n",
    "\n",
    "Nous avons donc pour cela decidé d'utiliser la bibliotheque **threading**\n",
    "\n",
    "\n",
    "\n",
    "\n"
   ]
  },
  {
   "cell_type": "markdown",
   "metadata": {
    "id": "AaoR2iU7gNub"
   },
   "source": [
    "## Les mécanismes de synchronisation en Python\n",
    "\n",
    "<span style=\"color:red\">Dans cette section vous présenterez votre étude comparative, avec exemple, des mécanimes présent dans la bibliothèque ou pouvant être associé pour construire une section critique ou permettant de contrôler l'accès à des ressources critiques.\n",
    "    \n",
    "<span style=\"color:red\">Vous préciserez de manière justifiée à la fin de cette section les mécanismes choisis. La cellule suivante, exécutable comprendra l'import des bibliothèques.</span>"
   ]
  },
  {
   "cell_type": "markdown",
   "metadata": {
    "id": "xAZNkj3QbTdr"
   },
   "source": [
    "## Module threading"
   ]
  },
  {
   "cell_type": "markdown",
   "metadata": {
    "id": "D6Gz0SGwgNud"
   },
   "source": [
    "### Lock\n",
    "\n",
    "Un verrou primitif est soit « verrouillé » soit « déverrouillé ». Il est créé dans un état déverrouillé. Il a deux méthodes, acquire() et release(). Lorsque l'état est déverrouillé, acquire() verrouille et se termine immédiatement. Lorsque l'état est verrouillé, acquire() bloque jusqu'à ce qu'un appel à release() provenant d'un autre fil d'exécution le déverrouille.\n",
    "\n",
    "Lorsque plus d'un thread est bloqué dans acquire () en attendant que l'état passe à déverrouillé, un seul thread se poursuit lorsqu'un appel release () réinitialise l'état à déverrouillé; lequel des threads en attente continue n'est pas défini et peut varier selon les implémentations.\n",
    "\n",
    "Pour un fonctionnement correct, il est important de libérer le verrou même si quelque chose ne va pas lors de l’accès à la ressource. On peut utiliser try-finally.\n",
    "\n",
    "lock.acquire()\n",
    "try:\n",
    "    ... access shared resource\n",
    "finally:\n",
    "    lock.release() # release lock, no matter what\n",
    "    \n",
    "La méthode acquire() prend un indicateur d'attente facultatif, qui peut être utilisé pour éviter le blocage si le verrou est détenu par quelqu'un d'autre."
   ]
  },
  {
   "cell_type": "markdown",
   "metadata": {
    "id": "eSA0rq10gNud"
   },
   "source": [
    "if not lock.acquire(False):\n",
    "    ... failed to lock the resource\n",
    "else:\n",
    "    try:\n",
    "        ... access shared resource\n",
    "    finally:\n",
    "        lock.release()"
   ]
  },
  {
   "cell_type": "markdown",
   "metadata": {
    "id": "f7c2srkfgNue"
   },
   "source": [
    "Dans l'exemple suivant, deux methodes utilisent une même varible globale g, on gère pas les sections critqiues.\n",
    "\n",
    "Dans add_one_one() on reinitialise g à 0 puis on l'incrément de 1. Par la suite on cré une boucle de 30 avec affichage de texte juste pour faire durer l'execution de la methode . On incremente encore une fois g avant de l'afficher La resultat attendu appres cette afficheage est donc 2.\n",
    "\n",
    "Dans add_two() on incremente juste g de 2.\n",
    "\n",
    "Nous appelons deux threads sur ces deux methodes (add_one_one() en premier et add_two() apres).\n",
    "Notons que l'on attends que les deux threads se termine ( fonction join()), pour afficher le résultat seulement lexecution totale des deux Threads."
   ]
  },
  {
   "cell_type": "code",
   "execution_count": null,
   "metadata": {
    "id": "hpJf4IFXgNug"
   },
   "outputs": [],
   "source": [
    "#lock_tut.py\n",
    "from threading import Lock, Thread\n",
    "lock = Lock()\n",
    "g = 0\n",
    "\n",
    "def add_one_one():\n",
    "\n",
    "   global g\n",
    "   g=0\n",
    "   g += 1\n",
    "   for i in range(30):\n",
    "     print('boucle d\\'attente')\n",
    "   g += 1\n",
    "   print('Affichage de g dans add one one :',g)\n",
    "\n",
    "def add_two():\n",
    "   global g\n",
    "   g += 2\n",
    "\n",
    "threads = []\n",
    "for func in [add_one_one, add_two]:\n",
    "   threads.append(Thread(target=func))\n",
    "\n",
    "threads[0].start() \n",
    "threads[1].start()\n",
    "\n",
    "for thread in threads:\n",
    "   \"\"\"\n",
    "   Waits for threads to complete before moving on with the main\n",
    "   script.\n",
    "   \"\"\"\n",
    "   thread.join()\n",
    "\n",
    "print(g)"
   ]
  },
  {
   "cell_type": "markdown",
   "metadata": {
    "id": "MX4icAJNgNum"
   },
   "source": [
    "Dans l'exemple suivant, nous gèrons les sections critqiues avec le verrou threading.Lock. On obtient toujours 2 pour l'affichage dans add_one_one et 4 à la fin"
   ]
  },
  {
   "cell_type": "code",
   "execution_count": null,
   "metadata": {
    "id": "sEYRxaSmgNun",
    "outputId": "6904ec66-f13e-4a6c-f916-a47a8ee95776"
   },
   "outputs": [
    {
     "name": "stdout",
     "output_type": "stream",
     "text": [
      "boucle d'attente\n",
      "boucle d'attente\n",
      "boucle d'attente\n",
      "boucle d'attente\n",
      "boucle d'attente\n",
      "boucle d'attente\n",
      "boucle d'attente\n",
      "boucle d'attente\n",
      "boucle d'attente\n",
      "boucle d'attente\n",
      "boucle d'attente\n",
      "boucle d'attente\n",
      "boucle d'attente\n",
      "boucle d'attente\n",
      "boucle d'attente\n",
      "boucle d'attente\n",
      "boucle d'attente\n",
      "boucle d'attente\n",
      "boucle d'attente\n",
      "boucle d'attente\n",
      "boucle d'attente\n",
      "boucle d'attente\n",
      "boucle d'attente\n",
      "boucle d'attente\n",
      "boucle d'attente\n",
      "boucle d'attente\n",
      "boucle d'attente\n",
      "boucle d'attente\n",
      "boucle d'attente\n",
      "boucle d'attente\n",
      "Affichage de g dans add one : 2\n",
      "4\n"
     ]
    }
   ],
   "source": [
    "#lock_tut.py\n",
    "from threading import Lock, Thread\n",
    "lock = Lock()\n",
    "g = 0\n",
    "\n",
    "def add_one():\n",
    "   global g\n",
    "   lock.acquire()\n",
    "   g=0\n",
    "   g += 1\n",
    "   for i in range(30):\n",
    "     print('boucle d\\'attente')\n",
    "   g += 1\n",
    "   print('Affichage de g dans add one :',g)\n",
    "   lock.release()\n",
    "\n",
    "def add_two():\n",
    "   global g\n",
    "   lock.acquire()\n",
    "   g += 2\n",
    "   lock.release()\n",
    "\n",
    "threads = []\n",
    "for func in [add_one, add_two]:\n",
    "   threads.append(Thread(target=func))\n",
    "   threads[-1].start()\n",
    "\n",
    "for thread in threads:\n",
    "   \"\"\"\n",
    "   Waits for threads to complete before moving on with the main\n",
    "   script.\n",
    "   \"\"\"\n",
    "   thread.join()\n",
    "\n",
    "print(g)"
   ]
  },
  {
   "cell_type": "markdown",
   "metadata": {
    "id": "7X5bYXSKgNus"
   },
   "source": [
    "### ReLock\n",
    "\n",
    "L'objet de verrouillage standard ne se soucie pas du thread qui détient actuellement le verrou; si le verrou est maintenu, tout thread qui tente d'acquérir le verrou se bloque, même si le même thread détient déjà le verrou. Dans l'exemple suivant, un deuxieme essai d'obtention du verrou sera bloqué:"
   ]
  },
  {
   "cell_type": "code",
   "execution_count": null,
   "metadata": {
    "id": "dUwffMxBgNut"
   },
   "outputs": [],
   "source": [
    "lock = threading.Lock()\n",
    "\n",
    "print('First try :',lock.acquire())\n",
    "print('Second try:',lock.acquire(0))\n",
    "print(\"print this if not blocked...\")"
   ]
  },
  {
   "cell_type": "markdown",
   "metadata": {
    "id": "Q2aQOA-8gNu4"
   },
   "source": [
    "La classe RLock est une version du verrouillage qui ne se bloque que si le verrou est détenu par un autre thread. Alors que les verrous simples se bloquent si le même thread tente d'acquérir le même verrou deux fois, un verrou rentrant ne se bloque que si un autre thread détient actuellement le verrou. Si le thread actuel tente d'acquérir un verrou qu'il détient déjà, l'exécution se poursuit comme d'habitude."
   ]
  },
  {
   "cell_type": "code",
   "execution_count": null,
   "metadata": {
    "id": "v-tB3c3IgNu5"
   },
   "outputs": [],
   "source": [
    "lock = threading.RLock()\n",
    "\n",
    "print('First try :', lock.acquire())\n",
    "print('Second try:', lock.acquire(blocking = True, timeout = -1))\n",
    "print(\"print this if not blocked...\")"
   ]
  },
  {
   "cell_type": "markdown",
   "metadata": {
    "id": "mGW28MVLgNu_"
   },
   "source": [
    "En reprenant le même exemple mais avec un ReLock, , on réussi à réobtenir le verrou."
   ]
  },
  {
   "cell_type": "markdown",
   "metadata": {
    "id": "bcs5xUR3gNvB"
   },
   "source": [
    "### Semaphore\n",
    "\n",
    "Un sémaphore gère un compteur interne qui est décrémenté à chaque appel acquise () et incrémenté à chaque appel release (). Le compteur ne peut jamais descendre en dessous de zéro; quand acquiert () trouve qu'il est égal à zéro, il bloque, en attendant qu'un autre thread appelle release ()."
   ]
  },
  {
   "cell_type": "code",
   "execution_count": null,
   "metadata": {
    "id": "V24xon47gNvB"
   },
   "outputs": [],
   "source": [
    "class Counter(object):\n",
    "    def __init__(self, start = 0):\n",
    "        self.semaphore = threading.BoundedSemaphore(value=1)\n",
    "        self.value = start\n",
    "    def increment(self):\n",
    "        print('Waiting for a lock')\n",
    "        self.semaphore.acquire()\n",
    "        try:\n",
    "            print('Acquired a lock')\n",
    "            self.value = self.value + 1\n",
    "        finally:\n",
    "            print('Released a lock')\n",
    "            self.semaphore.release()\n",
    "\n",
    "def worker(c):\n",
    "    c.increment()\n",
    "    print('Done')\n",
    "\n",
    "\n",
    "my_list=[]\n",
    "counter = Counter()\n",
    "for i in range(2):\n",
    "    t = threading.Thread(target=worker, args=(counter,))\n",
    "    my_list.append(t)\n",
    "    t.start()\n",
    "\n",
    "print('Waiting for worker threads')\n",
    "main_thread = threading.currentThread()\n",
    "for t in my_list:\n",
    "    t.join()\n",
    "print('Counter:'+ str(counter.value))"
   ]
  },
  {
   "cell_type": "markdown",
   "metadata": {
    "id": "beVDLK0aFmUq"
   },
   "source": [
    "### Les objets condition\n",
    "La gestion de la concurrence se fait aussi à travers les objets obtenus à base de la methode condition(). Celui-ci permet lors d'un accées à la ressource de créer une attente du thread pour une condition donnée. A chaque modification, la condition notifie les autres thread afin que la condition soit réévaluée."
   ]
  },
  {
   "cell_type": "code",
   "execution_count": null,
   "metadata": {
    "colab": {
     "base_uri": "https://localhost:8080/"
    },
    "id": "6aMn1EugIK8Q",
    "outputId": "7e331e10-a20a-428b-89df-fe1a47ae7cb0"
   },
   "outputs": [
    {
     "name": "stderr",
     "output_type": "stream",
     "text": [
      "(consumer1) Consumer thread started ...\n",
      "(consumer1) Consumer waiting ...\n",
      "(consumer2) Consumer thread started ...\n",
      "(consumer2) Consumer waiting ...\n",
      "(producer ) Producer thread started ...\n",
      "(producer ) Making resource available\n",
      "(producer ) Notifying to all consumers\n",
      "(consumer1) Consumer consumed the resource\n",
      "(consumer2) Consumer consumed the resource\n"
     ]
    }
   ],
   "source": [
    "import threading\n",
    "import time\n",
    "import logging\n",
    "\n",
    "logging.basicConfig(level=logging.DEBUG,\n",
    "                    format='(%(threadName)-9s) %(message)s',)\n",
    "\n",
    "def consumer(cv):\n",
    "    logging.debug('Consumer thread started ...')\n",
    "    with cv:\n",
    "        logging.debug('Consumer waiting ...')\n",
    "        cv.wait()\n",
    "        logging.debug('Consumer consumed the resource')\n",
    "\n",
    "def producer(cv):\n",
    "    logging.debug('Producer thread started ...')\n",
    "    with cv:\n",
    "        logging.debug('Making resource available')\n",
    "        logging.debug('Notifying to all consumers')\n",
    "        cv.notifyAll()\n",
    "\n",
    "if __name__ == '__main__':\n",
    "    condition = threading.Condition()\n",
    "    cs1 = threading.Thread(name='consumer1', target=consumer, args=(condition,))\n",
    "    cs2 = threading.Thread(name='consumer2', target=consumer, args=(condition,))\n",
    "    pd = threading.Thread(name='producer', target=producer, args=(condition,))\n",
    "\n",
    "    cs1.start()\n",
    "    time.sleep(2)\n",
    "    cs2.start()\n",
    "    time.sleep(2)\n",
    "    pd.start()"
   ]
  },
  {
   "cell_type": "markdown",
   "metadata": {
    "id": "TYBpgQFIgNvI"
   },
   "source": [
    "### Barrier\n",
    "\n",
    "Une barrière est une simple primitive de synchronisation qui peut être utilisée par différents threads pour s'attendre les uns les autres. Chaque thread tente de passer une barrière en appelant la wait()méthode, qui se bloquera jusqu'à ce que tous les threads aient effectué cet appel. Dès que cela se produit, les threads sont libérés simultanément. L'extrait de code suivant illustre l'utilisation de Barrier"
   ]
  },
  {
   "cell_type": "code",
   "execution_count": null,
   "metadata": {
    "id": "A6jJUIYDgNvJ"
   },
   "outputs": [],
   "source": [
    "#barrier_tut.py\n",
    "from random import randrange\n",
    "from threading import Barrier, Thread\n",
    "from time import ctime, sleep\n",
    "\n",
    "num = 4\n",
    "# 4 threads will need to pass this barrier to get released.\n",
    "b = Barrier(num)\n",
    "names = [\"Harsh\", \"Lokesh\", \"George\", \"Iqbal\"]\n",
    "\n",
    "def player():\n",
    "    name = names.pop()\n",
    "    sleep(randrange(2, 5))\n",
    "    print(\"%s reached the barrier at: %s\" % (name, ctime()))\n",
    "    b.wait()\n",
    "    \n",
    "threads = []\n",
    "print(\"Race starts now…\")\n",
    "\n",
    "for i in range(num):\n",
    "    threads.append(Thread(target=player))\n",
    "    threads[-1].start()\n",
    "\"\"\"\n",
    "Following loop enables waiting for the threads to complete before moving on with the main script.\n",
    "\"\"\"\n",
    "for thread in threads:\n",
    "    thread.join()\n",
    "print()\n",
    "print(\"Race over!\")"
   ]
  },
  {
   "cell_type": "markdown",
   "metadata": {
    "id": "v7tkTXFugNvN"
   },
   "source": [
    "### Objet Event\n",
    "\n",
    "Nous utilisons plusieurs threads pour faire tourner des opérations séparées afin de les exécuter simultanément, cependant, il y a des moments où il est important de pouvoir synchroniser les opérations de deux ou plusieurs threads. L'utilisation d' objets Event est le moyen simple de communiquer entre les threads.\n",
    "\n",
    "Un événement gère un indicateur interne que les appelants peuvent définir () ou effacer () . D'autres threads peuvent attendre () que l'indicateur soit défini () . On note que la méthode wait () se bloque jusqu'à ce que l'indicateur soit vrai.\n"
   ]
  },
  {
   "cell_type": "code",
   "execution_count": null,
   "metadata": {
    "id": "jddjGS_8gNvO"
   },
   "outputs": [],
   "source": [
    "import time\n",
    "import logging\n",
    "\n",
    "logging.basicConfig(level=logging.DEBUG,\n",
    "                    format='(%(threadName)-9s) %(message)s',)\n",
    "                    \n",
    "def wait_for_event(e):\n",
    "    logging.debug('wait_for_event starting')\n",
    "    event_is_set = e.wait()\n",
    "    logging.debug('event set: %s', event_is_set)\n",
    "\n",
    "def wait_for_event_timeout(e, t):\n",
    "    while not e.isSet():\n",
    "        logging.debug('wait_for_event_timeout starting')\n",
    "        event_is_set = e.wait(t)\n",
    "        logging.debug('event set: %s', event_is_set)\n",
    "        if event_is_set:\n",
    "            logging.debug('processing event')\n",
    "        else:\n",
    "            logging.debug('doing other things')\n",
    "\n",
    "if __name__ == '__main__':\n",
    "    e = threading.Event()\n",
    "    t1 = threading.Thread(name='blocking', \n",
    "                      target=wait_for_event,\n",
    "                      args=(e,))\n",
    "    t1.start()\n",
    "\n",
    "    t2 = threading.Thread(name='non-blocking', \n",
    "                      target=wait_for_event_timeout, \n",
    "                      args=(e, 2))\n",
    "    t2.start()\n",
    "\n",
    "    logging.debug('Waiting before calling Event.set()')\n",
    "    time.sleep(3)\n",
    "    e.set()\n",
    "    logging.debug('Event is set')"
   ]
  },
  {
   "cell_type": "code",
   "execution_count": null,
   "metadata": {
    "id": "yDuy_1xke6cR"
   },
   "outputs": [],
   "source": []
  },
  {
   "cell_type": "markdown",
   "metadata": {
    "id": "Dg-Rl6omeBw9"
   },
   "source": [
    "## Choix"
   ]
  },
  {
   "cell_type": "markdown",
   "metadata": {
    "id": "nGBOoONdeG_o"
   },
   "source": [
    "\n",
    "Au vu du probleme que nous etudions notre choix s'est porté sur l'utilisation de **condition** qui nous offrera une flexibilité dans la syncronisation de nos ressources partagées."
   ]
  },
  {
   "cell_type": "markdown",
   "metadata": {
    "id": "-auGuVeEgNvV"
   },
   "source": [
    "## Définitions de quelques procédures pour initialiser une grille à partir d'un fichier de configuration\n",
    "\n",
    "<span style=\"color:red\">Vous ne pouvez pas modifier les classes/procédures/fonctions suivantes</span>"
   ]
  },
  {
   "cell_type": "code",
   "execution_count": 1,
   "metadata": {
    "id": "FuGAfljngNvV"
   },
   "outputs": [],
   "source": [
    "def is_running_from_ipython():\n",
    "    # Renvoie True si on execute le code depuis un notebook\n",
    "       from IPython import get_ipython\n",
    "       return get_ipython() is not None\n",
    "is_running_from_ipython()\n",
    "# Permet de savoir qui exécute le code\n",
    "import platform\n",
    "MICHEL = ('michel' in platform.node()) or ('charvin' in platform.node())"
   ]
  },
  {
   "cell_type": "code",
   "execution_count": 2,
   "metadata": {
    "id": "SKNwn_R8gNvc"
   },
   "outputs": [],
   "source": [
    "class Debug:\n",
    "    def __init__(self, debug=False):\n",
    "        self.debug = debug\n",
    "        \n",
    "    def affiche(self, *args):\n",
    "        if self.debug:\n",
    "            print(args)"
   ]
  },
  {
   "cell_type": "code",
   "execution_count": 3,
   "metadata": {
    "id": "yStyjqEYgNvm"
   },
   "outputs": [],
   "source": [
    "# Différents imports\n",
    "import copy\n",
    "import math\n",
    "import time\n",
    "import numpy as np\n",
    "\n",
    "%matplotlib inline\n",
    "import matplotlib.pyplot as plt"
   ]
  },
  {
   "cell_type": "code",
   "execution_count": 4,
   "metadata": {
    "id": "3Fx6YpvCgNvs"
   },
   "outputs": [],
   "source": [
    "# Reglage de l'affichage\n",
    "\n",
    "# Définition des affichage possible définition\n",
    "!echo 'Aucun = 0' >affichage.py\n",
    "!echo 'tkinter = 1' >>affichage.py # Not implemented\n",
    "!echo 'OpenCV = 2' >> affichage.py # Not completly implemented\n",
    "\n",
    "!echo 'PERSONNE = (0.0, 0.0, 1.0)' >>affichage.py\n",
    "!echo 'IMMOBILE = (1.0, 0.0, 0.0)' >>affichage.py\n",
    "!echo 'OBSTACLE = (0.0, 1.0, 0.0)' >>affichage.py\n",
    "!echo 'EMPTY = (1.0, 1.0, 1.0)' >>affichage.py\n",
    "!echo 'ARRIVEE = (0.0, 0.0, 0.0)' >>affichage.py # Not used\n",
    "\n",
    "import affichage\n",
    "import cv2\n",
    "\n",
    "UI = affichage.OpenCV"
   ]
  },
  {
   "cell_type": "code",
   "execution_count": 5,
   "metadata": {
    "colab": {
     "base_uri": "https://localhost:8080/"
    },
    "id": "RNic1_8egNvy",
    "outputId": "bc356cae-a4d3-4738-ae63-b96b761c6ad5"
   },
   "outputs": [
    {
     "ename": "ModuleNotFoundError",
     "evalue": "No module named 'google.colab'",
     "output_type": "error",
     "traceback": [
      "\u001b[0;31m---------------------------------------------------------------------------\u001b[0m",
      "\u001b[0;31mModuleNotFoundError\u001b[0m                       Traceback (most recent call last)",
      "\u001b[0;32m<ipython-input-5-ab950a211bd8>\u001b[0m in \u001b[0;36m<module>\u001b[0;34m\u001b[0m\n\u001b[1;32m      3\u001b[0m   \u001b[0mgrande_grille\u001b[0m \u001b[0;34m=\u001b[0m \u001b[0;34m\"maps/map-final.txt\"\u001b[0m  \u001b[0;31m# fichier décrivant une grande grille\u001b[0m\u001b[0;34m\u001b[0m\u001b[0;34m\u001b[0m\u001b[0m\n\u001b[1;32m      4\u001b[0m \u001b[0;32melse\u001b[0m \u001b[0;34m:\u001b[0m\u001b[0;34m\u001b[0m\u001b[0;34m\u001b[0m\u001b[0m\n\u001b[0;32m----> 5\u001b[0;31m     \u001b[0;32mfrom\u001b[0m \u001b[0mgoogle\u001b[0m\u001b[0;34m.\u001b[0m\u001b[0mcolab\u001b[0m \u001b[0;32mimport\u001b[0m \u001b[0mdrive\u001b[0m\u001b[0;34m\u001b[0m\u001b[0;34m\u001b[0m\u001b[0m\n\u001b[0m\u001b[1;32m      6\u001b[0m     \u001b[0mdrive\u001b[0m\u001b[0;34m.\u001b[0m\u001b[0mmount\u001b[0m\u001b[0;34m(\u001b[0m\u001b[0;34m'/content/drive'\u001b[0m\u001b[0;34m)\u001b[0m\u001b[0;34m\u001b[0m\u001b[0;34m\u001b[0m\u001b[0m\n\u001b[1;32m      7\u001b[0m     \u001b[0mpetite_grille\u001b[0m \u001b[0;34m=\u001b[0m \u001b[0;34m\"/content/drive/My Drive/Colab Notebooks/rendu 3/maps/map-initial.txt\"\u001b[0m \u001b[0;31m# fichier décrivant une petite grille\u001b[0m\u001b[0;34m\u001b[0m\u001b[0;34m\u001b[0m\u001b[0m\n",
      "\u001b[0;31mModuleNotFoundError\u001b[0m: No module named 'google.colab'"
     ]
    }
   ],
   "source": [
    "if MICHEL:\n",
    "  petite_grille = \"maps/map-initial.txt\" # fichier décrivant une petite grille\n",
    "  grande_grille = \"maps/map-final.txt\"  # fichier décrivant une grande grille\n",
    "else :\n",
    "    from google.colab import drive\n",
    "    drive.mount('/content/drive')\n",
    "    petite_grille = \"/content/drive/My Drive/Colab Notebooks/rendu 3/maps/map-initial.txt\" # fichier décrivant une petite grille\n",
    "    grande_grille = \"/content/drive/My Drive/Colab Notebooks/rendu 3/maps/map-final.txt\"  # fichier décrivant une grande grille\n",
    "    debug = Debug(True)\n",
    "debug = Debug(True)"
   ]
  },
  {
   "cell_type": "code",
   "execution_count": null,
   "metadata": {
    "id": "G2gJQ_jagNv6"
   },
   "outputs": [],
   "source": [
    "# Constant définition\n",
    "!echo 'EMPTY = 0' >const.py\n",
    "!echo 'OBSTACLE = 1' >>const.py\n",
    "!echo 'PERSONNE = 2' >> const.py\n",
    "!echo 'IMMOBILE = 3' >> const.py\n",
    "!echo 'ARRIVEE = 4' >> const.py\n",
    "import const"
   ]
  },
  {
   "cell_type": "code",
   "execution_count": null,
   "metadata": {
    "colab": {
     "base_uri": "https://localhost:8080/"
    },
    "id": "GJx17Z3MgNwA",
    "outputId": "2ace35f8-bca0-4d0b-95e7-4bda3fa85622"
   },
   "outputs": [],
   "source": [
    "# Lecture du fichier de configuration\n",
    "def open_file(filename, debug):\n",
    "    debug.affiche(\"Ouverture du fichier\", filename)\n",
    "    fileMap = open(filename, 'r')\n",
    "    return fileMap\n",
    "\n",
    "file = open_file(petite_grille, debug)"
   ]
  },
  {
   "cell_type": "markdown",
   "metadata": {
    "id": "QgsT9veggNwL"
   },
   "source": [
    "### Définition de la grille"
   ]
  },
  {
   "cell_type": "code",
   "execution_count": null,
   "metadata": {
    "id": "boOSoZwxgNwM"
   },
   "outputs": [],
   "source": [
    "def read_grid_size(file, debug):\n",
    "    line = file.readline()\n",
    "    while line[0]=='#':\t# on saute les commentaires\n",
    "        line = file.readline()\n",
    "    \n",
    "    # Lecture de la taille de la grille\n",
    "    while line[0]!='#':\t# on lit jusqu'au prochain commentaires\n",
    "        if (line[0]=='X'):\n",
    "            X = int(line.split(' ')[1])\n",
    "        if (line[0]=='Y'):\n",
    "            Y = int(line.split(' ')[1])\n",
    "        line = file.readline()\n",
    "\n",
    "    debug.affiche(\"Simulation pour une grille:\", X, \"*\", Y)\n",
    "    \n",
    "    return X, Y"
   ]
  },
  {
   "cell_type": "code",
   "execution_count": null,
   "metadata": {
    "colab": {
     "base_uri": "https://localhost:8080/"
    },
    "id": "bcrJWQXTgNwT",
    "outputId": "ecc7eaf5-d45a-4fdb-c00e-bf86bc69d2c1"
   },
   "outputs": [],
   "source": [
    "X, Y = read_grid_size(file, debug)"
   ]
  },
  {
   "cell_type": "code",
   "execution_count": null,
   "metadata": {
    "id": "8C5vmXjjgNwa"
   },
   "outputs": [],
   "source": [
    "# Definition de la grille\n",
    "class Grille:\n",
    "    # Crée un objet list\n",
    "    def __init__(self, Xmax, Ymax, UI, debug):\n",
    "        debug.affiche(\"Initilisation de l'objet grille\")\n",
    "        self.Xmax = Xmax\n",
    "        self.Ymax = Ymax\n",
    "        if const.EMPTY==0:\n",
    "            self.map = np.zeros((Xmax, Ymax))\n",
    "        elif const.EMPTY==1:\n",
    "            self.map = np.ones((Xmax, Ymax))\n",
    "        else:\n",
    "            self.map = np.array(Xmax, Ymax)\n",
    "            for i in range(Xmax):\n",
    "                for j in range(Ymax):\n",
    "                    self.map[i,j] = const.EMPTY\n",
    "        self.mapList = []\n",
    "        self.obstacleList = []\n",
    "        self.personneList = []\n",
    "        self.debug = debug\n",
    "        self.UI = UI\n",
    "\n",
    "    def SetObstacle(self, obstacle):\n",
    "        for x in range(obstacle.Xmin, obstacle.Xmax+1):\n",
    "            for y in range(obstacle.Ymin, obstacle.Ymax+1):\n",
    "                self.map[x][y] = const.OBSTACLE\n",
    "        self.obstacleList += [obstacle]\n",
    "\n",
    "    def SetPersonne(self, personne):\n",
    "        if self.map[personne.X][personne.Y]==const.EMPTY:\n",
    "            # la case est vide\n",
    "            self.map[personne.X][personne.Y] = const.PERSONNE\n",
    "            self.personneList += [personne]\n",
    "            return True\n",
    "        else:\n",
    "            debug.affiche(\"Personne non créée, la place est occupée\", personne.X, personne.Y)\n",
    "            return False\n",
    "        \n",
    "    def isCellEmpty(self, x, y):\n",
    "        return self.map[x][y]==const.EMPTY\n",
    "    \n",
    "    def Set(self, x, y, status):\n",
    "        self.map[x][y] = status\n",
    "        \n",
    "    def Save(self, name):\n",
    "        with open(name, 'w') as file:\n",
    "            file.write(\"# taille de la grille\\n\")\n",
    "            file.write(\"X \"+str(self.Xmax)+\"\\n\")\n",
    "            file.write(\"Y \"+str(self.Ymax)+\"\\n\")\n",
    "            file.write(\"# position des obstacles\\n\")\n",
    "            file.write(\"# Xmin Xmax Ymin Ymax\\n\")\n",
    "            file.write(\"# si pas obstacle : mettre -1 comme valeur\\n\")\n",
    "            file.write(\"# \"+str(len(self.obstacleList))+\" obstacles\\n\")\n",
    "            for o in self.obstacleList:\n",
    "                file.write(str(o.Xmin)+\" \"+str(o.Xmax)+\" \"+str(o.Ymin)+\" \"+str(o.Ymax)+\"\\n\")\n",
    "            file.write(\"# position initiale des personnes (X, Y) et case de sortie (X, Y)\\n\")\n",
    "            file.write(\"# \"+str(len(self.personneList))+\" personnes\\n\")\n",
    "            for p in self.personneList:\n",
    "                file.write(str(p.X)+\" \"+str(p.Y)+\" \"+str(p.Xsortie)+\" \"+str(p.Ysortie)+\"\\n\")\n",
    "                \n",
    "    # Solution imparfaite car une personne peut être bloquée par un obstacle\n",
    "    def Simulation(self):\n",
    "        if self.debug.debug or self.UI==affichage.OpenCV:\n",
    "            self.mapList.append(copy.copy(self.map))\n",
    "        if self.UI==affichage.OpenCV:\n",
    "            cv2.imshow(\"img\", createImage(self.map))\n",
    "            cv2.waitKey(500)\n",
    "    \n",
    "        while len(self.personneList)>0: # il y a encore une personne dans la liste qui peut bouger\n",
    "            for personne in self.personneList:\n",
    "                end, immobile = personne.deplacePersonne(self, self.debug)\n",
    "                if end:\n",
    "                    self.debug.affiche(\"Une personne vient de sortir, il reste\", len(self.personneList), \"personnes\")\n",
    "            if self.debug.debug or self.UI==affichage.OpenCV:\n",
    "                self.mapList.append(copy.copy(self.map))\n",
    "                if self.UI==affichage.OpenCV:\n",
    "                    cv2.imshow(\"img\", createImage(self.map))\n",
    "                    cv2.waitKey(500)\n",
    "    \n",
    "        if self.UI==affichage.OpenCV:\n",
    "            cv2.destroyAllWindows()"
   ]
  },
  {
   "cell_type": "code",
   "execution_count": null,
   "metadata": {
    "colab": {
     "base_uri": "https://localhost:8080/"
    },
    "id": "9rl3pQmXgNwe",
    "outputId": "4c777c2c-f2f7-49a1-f867-ce15195859dd"
   },
   "outputs": [],
   "source": [
    "# Creation de la grille\n",
    "grid = Grille(X, Y, affichage.Aucun, debug)"
   ]
  },
  {
   "cell_type": "markdown",
   "metadata": {
    "id": "0FKhUrGtgNwl"
   },
   "source": [
    "### Définition d'un obstacle"
   ]
  },
  {
   "cell_type": "code",
   "execution_count": 6,
   "metadata": {
    "id": "27XKbDVxgNwm"
   },
   "outputs": [],
   "source": [
    "class Obstacle():\n",
    "    def __init__(self, grid,  Xmin, Xmax, Ymin, Ymax, debug):\n",
    "        self.Xmin = Xmin\n",
    "        self.Xmax = Xmax\n",
    "        self.Ymin = Ymin\n",
    "        self.Ymax = Ymax\n",
    "        self.debug = debug\n",
    "        grid.SetObstacle(self)\n",
    "        debug.affiche(\"Création de l'obstacle (\", Xmin, Xmax, \") - (\", Ymin, Ymax, \")\")"
   ]
  },
  {
   "cell_type": "code",
   "execution_count": 7,
   "metadata": {
    "id": "rNoC1JItgNwu"
   },
   "outputs": [],
   "source": [
    "def read_obstacles(file, grid, Obstacle, debug):\n",
    "    # Lecture de la liste des obstacles et placement sur la grille\n",
    "    line = file.readline()\n",
    "    while line[0]=='#':\t# on saute les commentaires\n",
    "        line = file.readline()\n",
    "\n",
    "    while line[0]!='#':\t# on lit jusqu'au prochain commentaires\n",
    "        coordonnee = line.strip().split(' ')\n",
    "        if int(coordonnee[0])>=0:\n",
    "            assert (int(coordonnee[0])>0 and int(coordonnee[2])>0)\n",
    "            assert (int(coordonnee[1])<X)\n",
    "            assert (int(coordonnee[3])<Y)\n",
    "            Obstacle(grid, int(coordonnee[0]), int(coordonnee[1]), int(coordonnee[2]), int(coordonnee[3]), debug)\n",
    "        else:\n",
    "            debug.affiche(\"obstacle non créé\", coordonnee)\n",
    "        line = file.readline()        \n",
    "\n",
    "    debug.affiche(len(grid.obstacleList), \"obstacles ont été créés\")"
   ]
  },
  {
   "cell_type": "code",
   "execution_count": 8,
   "metadata": {
    "colab": {
     "base_uri": "https://localhost:8080/"
    },
    "id": "szJKYNFogNw2",
    "outputId": "0f239e9b-4a30-467b-8170-c7a8012051ad"
   },
   "outputs": [
    {
     "ename": "NameError",
     "evalue": "name 'file' is not defined",
     "output_type": "error",
     "traceback": [
      "\u001b[0;31m---------------------------------------------------------------------------\u001b[0m",
      "\u001b[0;31mNameError\u001b[0m                                 Traceback (most recent call last)",
      "\u001b[0;32m<ipython-input-8-edfd16eb8e2d>\u001b[0m in \u001b[0;36m<module>\u001b[0;34m\u001b[0m\n\u001b[1;32m      1\u001b[0m \u001b[0;31m# On lit tous les obstacles contenus dans le fichier de configuration\u001b[0m\u001b[0;34m\u001b[0m\u001b[0;34m\u001b[0m\u001b[0;34m\u001b[0m\u001b[0m\n\u001b[0;32m----> 2\u001b[0;31m \u001b[0mread_obstacles\u001b[0m\u001b[0;34m(\u001b[0m\u001b[0mfile\u001b[0m\u001b[0;34m,\u001b[0m \u001b[0mgrid\u001b[0m\u001b[0;34m,\u001b[0m \u001b[0mObstacle\u001b[0m\u001b[0;34m,\u001b[0m \u001b[0mdebug\u001b[0m\u001b[0;34m)\u001b[0m\u001b[0;34m\u001b[0m\u001b[0;34m\u001b[0m\u001b[0m\n\u001b[0m",
      "\u001b[0;31mNameError\u001b[0m: name 'file' is not defined"
     ]
    }
   ],
   "source": [
    "# On lit tous les obstacles contenus dans le fichier de configuration\n",
    "read_obstacles(file, grid, Obstacle, debug)"
   ]
  },
  {
   "cell_type": "code",
   "execution_count": 9,
   "metadata": {
    "colab": {
     "base_uri": "https://localhost:8080/",
     "height": 0
    },
    "id": "d4CWhPSKgNw9",
    "outputId": "8c6c4bbb-b1f8-4c13-a0e6-12dbe5b4e2f5"
   },
   "outputs": [
    {
     "ename": "NameError",
     "evalue": "name 'grid' is not defined",
     "output_type": "error",
     "traceback": [
      "\u001b[0;31m---------------------------------------------------------------------------\u001b[0m",
      "\u001b[0;31mNameError\u001b[0m                                 Traceback (most recent call last)",
      "\u001b[0;32m<ipython-input-9-98003718db23>\u001b[0m in \u001b[0;36m<module>\u001b[0;34m\u001b[0m\n\u001b[1;32m      1\u001b[0m \u001b[0;31m# Affichage de la grille\u001b[0m\u001b[0;34m\u001b[0m\u001b[0;34m\u001b[0m\u001b[0;34m\u001b[0m\u001b[0m\n\u001b[0;32m----> 2\u001b[0;31m \u001b[0mplt\u001b[0m\u001b[0;34m.\u001b[0m\u001b[0mimshow\u001b[0m\u001b[0;34m(\u001b[0m\u001b[0mgrid\u001b[0m\u001b[0;34m.\u001b[0m\u001b[0mmap\u001b[0m\u001b[0;34m,\u001b[0m \u001b[0mcmap\u001b[0m\u001b[0;34m=\u001b[0m\u001b[0;34m'Paired'\u001b[0m\u001b[0;34m,\u001b[0m \u001b[0mvmin\u001b[0m\u001b[0;34m=\u001b[0m\u001b[0;36m0\u001b[0m\u001b[0;34m,\u001b[0m \u001b[0mvmax\u001b[0m\u001b[0;34m=\u001b[0m\u001b[0;36m5\u001b[0m\u001b[0;34m)\u001b[0m\u001b[0;34m\u001b[0m\u001b[0;34m\u001b[0m\u001b[0m\n\u001b[0m\u001b[1;32m      3\u001b[0m \u001b[0mplt\u001b[0m\u001b[0;34m.\u001b[0m\u001b[0mshow\u001b[0m\u001b[0;34m(\u001b[0m\u001b[0;34m)\u001b[0m\u001b[0;34m\u001b[0m\u001b[0;34m\u001b[0m\u001b[0m\n",
      "\u001b[0;31mNameError\u001b[0m: name 'grid' is not defined"
     ]
    }
   ],
   "source": [
    "# Affichage de la grille\n",
    "plt.imshow(grid.map, cmap='Paired', vmin=0, vmax=5)\n",
    "plt.show()"
   ]
  },
  {
   "cell_type": "markdown",
   "metadata": {
    "id": "60_g1B47gNxF"
   },
   "source": [
    "### Définition d'une personne"
   ]
  },
  {
   "cell_type": "code",
   "execution_count": 10,
   "metadata": {
    "id": "gpUnaBetgNxG"
   },
   "outputs": [],
   "source": [
    "def distance(X, Y):\n",
    "    return int(np.abs(X[0]-Y[0])+np.abs(X[1]-Y[1]))\n",
    "\n",
    "class Personne():\n",
    "    def __init__(self, grid, Xinit, Yinit, Xsortie, Ysortie, debug):\n",
    "        self.X = Xinit\n",
    "        self.Y = Yinit\n",
    "        self.Xsortie = Xsortie\n",
    "        self.Ysortie = Ysortie\n",
    "        self.debug = debug\n",
    "        personneCrée = grid.SetPersonne(self)\n",
    "        if personneCrée:\n",
    "            debug.affiche(\"Création de la personne qui part de\", Xinit, Yinit, \"pour aller à\", Xsortie, Ysortie)\n",
    "    \n",
    "    def getAvailableMove(self, grid): # retourne la liste triée des déplacements possibles\n",
    "        # distance à la grille\n",
    "        dist_actuel = distance((self.X, self.Y), (self.Xsortie, self.Ysortie))\n",
    "        depl = []\n",
    "        # on calcule la distance entre les case adjacente et la sortie\n",
    "        for x in range(self.X-1, self.X+2):\n",
    "            for y in range (self.Y-1, self.Y+2):\n",
    "                if (x!=self.X or y!=self.Y) and (x==self.X or y==self.Y) and (x>=0 and y>=0 and x<grid.Xmax and y<grid.Ymax): # deplacement uniquement points cardinaux\n",
    "                    # on est sur une case adjacente et on est sur la grille\n",
    "                    if grid.isCellEmpty(x, y): # si la case est vide\n",
    "                        dist = distance((self.Xsortie, self.Ysortie), (x,y))\n",
    "                        if (dist<dist_actuel): # on se rappproche\n",
    "                             depl.append((dist, x, y))\n",
    "        return sorted(depl)\n",
    "\n",
    "    def getBetterMove(self, grid):\n",
    "        return self.getAvailableMove(grid)[0]\n",
    "\n",
    "    def Move(self, grid, depl):\n",
    "        debug.affiche(\"Déplacement de la personne de (\", self.X, self.Y, \") à (\", depl[1], depl[2], \")\")\n",
    "        grid.Set(self.X, self.Y, const.EMPTY)\n",
    "        self.X = depl[1]\n",
    "        self.Y = depl[2]\n",
    "        grid.Set(self.X, self.Y, const.PERSONNE)\n",
    "        \n",
    "    def deplacePersonne(self, grid, debug):\n",
    "        if self.X==self.Xsortie and self.Y==self.Ysortie:\n",
    "            # la personne est arrivée à la sortie\n",
    "            # on retire la personne de la liste\n",
    "            grid.personneList.remove(self)\n",
    "            # on libere la case de sortie\n",
    "            grid.Set(self.X, self.Y, const.EMPTY)\n",
    "            return True, False\n",
    "    \n",
    "        # sinon on recherche les déplacements possibles\n",
    "        availableMove = self.getAvailableMove(grid)\n",
    "        debug.affiche(\"La personne (\", self.X, self.Y, \") peut se déplacer sur :\", availableMove)\n",
    "            \n",
    "        if len(availableMove)>0:\n",
    "            # on se déplace sure la nouvelle case\n",
    "            self.Move(grid, availableMove[0]) \n",
    "            return False, False\n",
    "        \n",
    "        # sinon aucun d\"éplacement n'est possible\n",
    "        if grid.UI==affichage.OpenCV:\n",
    "            grid.Set(self.X, self.Y, const.IMMOBILE)\n",
    "        debug.affiche(\"La personne (\", self.X, self.Y, \"ne peut pas se déplacer\")\n",
    "        return False, True"
   ]
  },
  {
   "cell_type": "code",
   "execution_count": 11,
   "metadata": {
    "id": "1gevQ6iTgNxQ"
   },
   "outputs": [],
   "source": [
    "def read_personnes(file, grid, Personne, nombre, debug):\n",
    "    # Lecture de la liste des personnes et placement sur la grille\n",
    "    # s'arrête quand le nombre de personnes souhaité est atteind\n",
    "    # Si nombre = -1, on lit jusqu'à la fin du fichier (idem si nombre est supérieur aux nombres de personnes dans le fichier)\n",
    "    line = file.readline()\n",
    "    while line[0]=='#':\t# on saute les commentaires\n",
    "        line = file.readline()\n",
    "        \n",
    "    while line:\t# on lit jusqu'à la fin du fichier\n",
    "        coordonnee = line.strip().split(' ')\n",
    "        if coordonnee[0]!='#':\n",
    "            assert (int(coordonnee[0])>0 and int(coordonnee[1])>0\n",
    "                and int(coordonnee[2])<X or int(coordonnee[3])<Y) # La personne est sur la grille\n",
    "            assert ((int(coordonnee[2])==0 or int(coordonnee[2])==X-1)  # elle sort sur un bord X\n",
    "                and                                                  # et\n",
    "                (int(coordonnee[3])==0 or int(coordonnee[3])==Y-1)) # elle sort sur un bord Y\n",
    "            Personne(grid, int(coordonnee[0]), int(coordonnee[1]), int(coordonnee[2]), int(coordonnee[3]), debug)\n",
    "            \n",
    "        if len(grid.personneList)==nombre:\n",
    "            debug.affiche(len(grid.personneList), \"personnes ont été créées\")\n",
    "            file.close()\n",
    "            return\n",
    "        line = file.readline()\n",
    "    debug.affiche(\"Fermeture du fichier\")\n",
    "    file.close()\n",
    "    \n",
    "    debug.affiche(\"On a lut tout le fichier,\", len(grid.personneList), \"personnes ont été créées\")"
   ]
  },
  {
   "cell_type": "code",
   "execution_count": 12,
   "metadata": {
    "colab": {
     "base_uri": "https://localhost:8080/"
    },
    "id": "Xkjt0wcUgNxc",
    "outputId": "2f823101-3ddb-4cce-f938-980301810cd9"
   },
   "outputs": [
    {
     "ename": "NameError",
     "evalue": "name 'file' is not defined",
     "output_type": "error",
     "traceback": [
      "\u001b[0;31m---------------------------------------------------------------------------\u001b[0m",
      "\u001b[0;31mNameError\u001b[0m                                 Traceback (most recent call last)",
      "\u001b[0;32m<ipython-input-12-c7180a0b846e>\u001b[0m in \u001b[0;36m<module>\u001b[0;34m\u001b[0m\n\u001b[1;32m      1\u001b[0m \u001b[0;31m# On lit toutes les personnes contenues dans le fichier de configuration\u001b[0m\u001b[0;34m\u001b[0m\u001b[0;34m\u001b[0m\u001b[0;34m\u001b[0m\u001b[0m\n\u001b[0;32m----> 2\u001b[0;31m \u001b[0mread_personnes\u001b[0m\u001b[0;34m(\u001b[0m\u001b[0mfile\u001b[0m\u001b[0;34m,\u001b[0m \u001b[0mgrid\u001b[0m\u001b[0;34m,\u001b[0m \u001b[0mPersonne\u001b[0m\u001b[0;34m,\u001b[0m \u001b[0;34m-\u001b[0m\u001b[0;36m1\u001b[0m\u001b[0;34m,\u001b[0m \u001b[0mdebug\u001b[0m\u001b[0;34m)\u001b[0m\u001b[0;34m\u001b[0m\u001b[0;34m\u001b[0m\u001b[0m\n\u001b[0m",
      "\u001b[0;31mNameError\u001b[0m: name 'file' is not defined"
     ]
    }
   ],
   "source": [
    "# On lit toutes les personnes contenues dans le fichier de configuration\n",
    "read_personnes(file, grid, Personne, -1, debug)"
   ]
  },
  {
   "cell_type": "code",
   "execution_count": 13,
   "metadata": {
    "colab": {
     "base_uri": "https://localhost:8080/",
     "height": 0
    },
    "id": "9-B1Ycu5gNxi",
    "outputId": "2ad84771-41af-490e-9842-4bae8bcbd0ac"
   },
   "outputs": [
    {
     "ename": "NameError",
     "evalue": "name 'grid' is not defined",
     "output_type": "error",
     "traceback": [
      "\u001b[0;31m---------------------------------------------------------------------------\u001b[0m",
      "\u001b[0;31mNameError\u001b[0m                                 Traceback (most recent call last)",
      "\u001b[0;32m<ipython-input-13-98003718db23>\u001b[0m in \u001b[0;36m<module>\u001b[0;34m\u001b[0m\n\u001b[1;32m      1\u001b[0m \u001b[0;31m# Affichage de la grille\u001b[0m\u001b[0;34m\u001b[0m\u001b[0;34m\u001b[0m\u001b[0;34m\u001b[0m\u001b[0m\n\u001b[0;32m----> 2\u001b[0;31m \u001b[0mplt\u001b[0m\u001b[0;34m.\u001b[0m\u001b[0mimshow\u001b[0m\u001b[0;34m(\u001b[0m\u001b[0mgrid\u001b[0m\u001b[0;34m.\u001b[0m\u001b[0mmap\u001b[0m\u001b[0;34m,\u001b[0m \u001b[0mcmap\u001b[0m\u001b[0;34m=\u001b[0m\u001b[0;34m'Paired'\u001b[0m\u001b[0;34m,\u001b[0m \u001b[0mvmin\u001b[0m\u001b[0;34m=\u001b[0m\u001b[0;36m0\u001b[0m\u001b[0;34m,\u001b[0m \u001b[0mvmax\u001b[0m\u001b[0;34m=\u001b[0m\u001b[0;36m5\u001b[0m\u001b[0;34m)\u001b[0m\u001b[0;34m\u001b[0m\u001b[0;34m\u001b[0m\u001b[0m\n\u001b[0m\u001b[1;32m      3\u001b[0m \u001b[0mplt\u001b[0m\u001b[0;34m.\u001b[0m\u001b[0mshow\u001b[0m\u001b[0;34m(\u001b[0m\u001b[0;34m)\u001b[0m\u001b[0;34m\u001b[0m\u001b[0;34m\u001b[0m\u001b[0m\n",
      "\u001b[0;31mNameError\u001b[0m: name 'grid' is not defined"
     ]
    }
   ],
   "source": [
    "# Affichage de la grille\n",
    "plt.imshow(grid.map, cmap='Paired', vmin=0, vmax=5)\n",
    "plt.show()"
   ]
  },
  {
   "cell_type": "markdown",
   "metadata": {
    "id": "UzHkl58EgNxp"
   },
   "source": [
    "### Construction d'une image pour OpenCV"
   ]
  },
  {
   "cell_type": "code",
   "execution_count": 77,
   "metadata": {
    "id": "NrI35EOQgNxq"
   },
   "outputs": [],
   "source": [
    "# Uniquement nécessaire pour la visualisation en OpenCV\n",
    "def createImage(image):\n",
    "    X = image.shape[0]\n",
    "    Y = image.shape[1]\n",
    "    ZOOM = max(min(1024//X, 1024//Y), 1)\n",
    "    img = np.zeros((X*ZOOM, Y*ZOOM, 3), dtype=np.float)\n",
    "    for i in range(X):\n",
    "        for t in range(ZOOM):\n",
    "            for j in range(Y):\n",
    "                for u in range(ZOOM):\n",
    "                    if image[i][j]==const.EMPTY:\n",
    "                        img[ZOOM*i+t][ZOOM*j+u]=affichage.EMPTY\n",
    "                    elif image[i][j]==const.OBSTACLE:\n",
    "                        img[ZOOM*i+t][ZOOM*j+u]=affichage.OBSTACLE\n",
    "                    elif image[i][j]==const.PERSONNE:\n",
    "                        img[ZOOM*i+t][ZOOM*j+u]=affichage.PERSONNE\n",
    "                    elif image[i][j]==const.IMMOBILE:\n",
    "                        img[ZOOM*i+t][ZOOM*j+u]=affichage.IMMOBILE\n",
    "                    elif image[i][j]==const.ARRIVEE:  \n",
    "                        img[ZOOM*i+t][ZOOM*j+u]=affichage.ARRIVEE\n",
    "    return img"
   ]
  },
  {
   "cell_type": "code",
   "execution_count": 78,
   "metadata": {
    "id": "lM8TH6VegNx0"
   },
   "outputs": [],
   "source": [
    "# Affichage en OpenCV de la grille créée\n",
    "if MICHEL:\n",
    "  if UI==affichage.OpenCV:\n",
    "      cv2.imshow(\"img\", createImage(grid.map))\n",
    "      cv2.waitKey(5000) # Affichage pendant 5 secondes\n",
    "      cv2.destroyAllWindows()"
   ]
  },
  {
   "cell_type": "markdown",
   "metadata": {
    "id": "4-l29CIVgNx_"
   },
   "source": [
    "## Utilisation des procédures précédentes pour créer une nouvelle grille qui sera sauvegardée dans un fichier"
   ]
  },
  {
   "cell_type": "code",
   "execution_count": 79,
   "metadata": {
    "colab": {
     "base_uri": "https://localhost:8080/"
    },
    "id": "8m_CR4p5gNyB",
    "outputId": "3ea165da-2775-4576-b655-722085199f74"
   },
   "outputs": [
    {
     "name": "stdout",
     "output_type": "stream",
     "text": [
      "(\"Initilisation de l'objet grille\",)\n"
     ]
    }
   ],
   "source": [
    "# Création d'une grille de 1024*1024\n",
    "debug = Debug(True)\n",
    "UI = affichage.Aucun\n",
    "\n",
    "X = 1024\n",
    "Y = 1024\n",
    "grid = Grille(X, Y, UI, debug)"
   ]
  },
  {
   "cell_type": "code",
   "execution_count": 80,
   "metadata": {
    "colab": {
     "base_uri": "https://localhost:8080/"
    },
    "id": "JHXckQsJgNyE",
    "outputId": "14d9a012-5cb3-4498-87be-71a7fd49844f"
   },
   "outputs": [
    {
     "name": "stdout",
     "output_type": "stream",
     "text": [
      "(\"Création de l'obstacle (\", 13, 43, ') - (', 187, 94, ')')\n",
      "(\"Création de l'obstacle (\", 53, 107, ') - (', 141, 272, ')')\n",
      "(\"Création de l'obstacle (\", 103, 128, ') - (', 248, 223, ')')\n",
      "(\"Création de l'obstacle (\", 163, 252, ') - (', 191, 304, ')')\n",
      "(\"Création de l'obstacle (\", 206, 283, ') - (', 213, 422, ')')\n",
      "(\"Création de l'obstacle (\", 254, 341, ') - (', 376, 404, ')')\n",
      "(\"Création de l'obstacle (\", 302, 337, ') - (', 451, 301, ')')\n",
      "(\"Création de l'obstacle (\", 354, 366, ') - (', 392, 537, ')')\n",
      "(\"Création de l'obstacle (\", 401, 457, ') - (', 467, 647, ')')\n",
      "(\"Création de l'obstacle (\", 451, 481, ') - (', 539, 613, ')')\n",
      "(\"Création de l'obstacle (\", 516, 522, ') - (', 621, 625, ')')\n",
      "(\"Création de l'obstacle (\", 558, 574, ') - (', 711, 769, ')')\n",
      "(\"Création de l'obstacle (\", 604, 614, ') - (', 662, 631, ')')\n",
      "(\"Création de l'obstacle (\", 662, 682, ') - (', 838, 745, ')')\n",
      "(\"Création de l'obstacle (\", 715, 779, ') - (', 801, 735, ')')\n",
      "(\"Création de l'obstacle (\", 753, 751, ') - (', 811, 876, ')')\n",
      "(16, 'obstacles ont été créés')\n"
     ]
    }
   ],
   "source": [
    "# La grille contient 2^4 obstacles\n",
    "nb_obs = np.power(2,4)\n",
    "\n",
    "coordonnee = np.zeros((4,1), dtype=np.int)\n",
    "for i in range(nb_obs):\n",
    "    for j in range(4):\n",
    "        val_min = 1+50*i+np.random.randint(10)*10*j\n",
    "        if j%2 == 0:\n",
    "            val_max = min(1+val_min+np.random.randint(20), grid.Xmax)\n",
    "        else:\n",
    "            val_max = min(1+val_min+np.random.randint(20), grid.Ymax)\n",
    "        coordonnee[j] = np.random.randint(val_min, val_max)\n",
    "    \n",
    "    assert (int(coordonnee[0])>0 and int(coordonnee[2])>0)\n",
    "    assert (int(coordonnee[1])<X)\n",
    "    assert (int(coordonnee[3])<Y)\n",
    "    Obstacle(grid, int(coordonnee[0]), int(coordonnee[1]), int(coordonnee[2]), int(coordonnee[3]), debug)\n",
    "    \n",
    "debug.affiche(len(grid.obstacleList), \"obstacles ont été créés\")"
   ]
  },
  {
   "cell_type": "code",
   "execution_count": 81,
   "metadata": {
    "colab": {
     "base_uri": "https://localhost:8080/"
    },
    "id": "JxK6eeSZgNyR",
    "outputId": "ec1e76b5-40a0-4817-e4e4-c0eaad772c78"
   },
   "outputs": [
    {
     "name": "stdout",
     "output_type": "stream",
     "text": [
      "('Création de la personne qui part de', 24, 213, 'pour aller à', 1023, 1023)\n",
      "('Création de la personne qui part de', 360, 273, 'pour aller à', 1023, 0)\n",
      "('Création de la personne qui part de', 863, 214, 'pour aller à', 1023, 1023)\n",
      "('Création de la personne qui part de', 484, 580, 'pour aller à', 1023, 1023)\n",
      "('Création de la personne qui part de', 83, 519, 'pour aller à', 0, 1023)\n",
      "('Création de la personne qui part de', 981, 959, 'pour aller à', 0, 0)\n",
      "('Création de la personne qui part de', 393, 291, 'pour aller à', 0, 1023)\n",
      "('Personne non créée, la place est occupée', 453, 592)\n",
      "('Personne non créée, la place est occupée', 229, 235)\n",
      "('Création de la personne qui part de', 843, 704, 'pour aller à', 0, 1023)\n",
      "('Création de la personne qui part de', 608, 2, 'pour aller à', 1023, 1023)\n",
      "('Création de la personne qui part de', 677, 220, 'pour aller à', 1023, 0)\n",
      "('Création de la personne qui part de', 123, 709, 'pour aller à', 1023, 0)\n",
      "('Création de la personne qui part de', 1002, 814, 'pour aller à', 1023, 0)\n",
      "('Création de la personne qui part de', 912, 992, 'pour aller à', 0, 0)\n",
      "('Création de la personne qui part de', 915, 994, 'pour aller à', 0, 0)\n",
      "('Création de la personne qui part de', 608, 505, 'pour aller à', 1023, 0)\n",
      "('Création de la personne qui part de', 135, 939, 'pour aller à', 0, 0)\n",
      "('Création de la personne qui part de', 469, 803, 'pour aller à', 0, 0)\n",
      "('Création de la personne qui part de', 522, 433, 'pour aller à', 0, 0)\n",
      "('Personne non créée, la place est occupée', 186, 224)\n",
      "('Création de la personne qui part de', 921, 22, 'pour aller à', 0, 1023)\n",
      "('Création de la personne qui part de', 862, 494, 'pour aller à', 0, 1023)\n",
      "('Création de la personne qui part de', 714, 521, 'pour aller à', 0, 1023)\n",
      "('Création de la personne qui part de', 19, 114, 'pour aller à', 0, 0)\n",
      "('Création de la personne qui part de', 499, 648, 'pour aller à', 1023, 0)\n",
      "('Création de la personne qui part de', 641, 304, 'pour aller à', 1023, 0)\n",
      "('Création de la personne qui part de', 382, 949, 'pour aller à', 0, 0)\n",
      "('Création de la personne qui part de', 245, 879, 'pour aller à', 0, 0)\n",
      "('Création de la personne qui part de', 71, 5, 'pour aller à', 0, 1023)\n",
      "('Création de la personne qui part de', 204, 404, 'pour aller à', 0, 1023)\n",
      "('Création de la personne qui part de', 603, 759, 'pour aller à', 0, 1023)\n",
      "('Création de la personne qui part de', 319, 202, 'pour aller à', 0, 0)\n",
      "('Création de la personne qui part de', 106, 506, 'pour aller à', 0, 0)\n",
      "('Création de la personne qui part de', 737, 46, 'pour aller à', 1023, 1023)\n",
      "('Création de la personne qui part de', 669, 770, 'pour aller à', 1023, 1023)\n",
      "('Création de la personne qui part de', 357, 550, 'pour aller à', 1023, 1023)\n",
      "('Création de la personne qui part de', 718, 68, 'pour aller à', 0, 0)\n",
      "('Création de la personne qui part de', 843, 308, 'pour aller à', 0, 1023)\n",
      "('Création de la personne qui part de', 39, 11, 'pour aller à', 1023, 0)\n",
      "('Création de la personne qui part de', 657, 160, 'pour aller à', 1023, 0)\n",
      "('Création de la personne qui part de', 311, 186, 'pour aller à', 0, 1023)\n",
      "('Création de la personne qui part de', 771, 438, 'pour aller à', 0, 1023)\n",
      "('Création de la personne qui part de', 954, 206, 'pour aller à', 1023, 0)\n",
      "('Création de la personne qui part de', 30, 341, 'pour aller à', 1023, 0)\n",
      "('Création de la personne qui part de', 696, 415, 'pour aller à', 0, 0)\n",
      "('Création de la personne qui part de', 24, 850, 'pour aller à', 0, 1023)\n",
      "('Création de la personne qui part de', 787, 33, 'pour aller à', 0, 0)\n",
      "('Création de la personne qui part de', 739, 206, 'pour aller à', 0, 0)\n",
      "('Création de la personne qui part de', 703, 924, 'pour aller à', 0, 1023)\n",
      "('Création de la personne qui part de', 354, 918, 'pour aller à', 1023, 1023)\n",
      "('Création de la personne qui part de', 341, 148, 'pour aller à', 0, 1023)\n",
      "('Création de la personne qui part de', 629, 259, 'pour aller à', 0, 1023)\n",
      "('Création de la personne qui part de', 428, 924, 'pour aller à', 1023, 1023)\n",
      "('Création de la personne qui part de', 395, 880, 'pour aller à', 1023, 1023)\n",
      "('Création de la personne qui part de', 835, 833, 'pour aller à', 1023, 1023)\n",
      "('Création de la personne qui part de', 294, 200, 'pour aller à', 1023, 1023)\n",
      "('Création de la personne qui part de', 376, 852, 'pour aller à', 1023, 0)\n",
      "('Création de la personne qui part de', 951, 600, 'pour aller à', 1023, 0)\n",
      "('Création de la personne qui part de', 585, 999, 'pour aller à', 1023, 1023)\n",
      "('Création de la personne qui part de', 691, 791, 'pour aller à', 1023, 0)\n",
      "('Création de la personne qui part de', 458, 495, 'pour aller à', 0, 0)\n",
      "('Création de la personne qui part de', 133, 325, 'pour aller à', 0, 1023)\n",
      "('Création de la personne qui part de', 903, 196, 'pour aller à', 0, 0)\n",
      "('Création de la personne qui part de', 589, 773, 'pour aller à', 1023, 0)\n",
      "('Création de la personne qui part de', 679, 761, 'pour aller à', 0, 0)\n",
      "('Création de la personne qui part de', 523, 863, 'pour aller à', 0, 0)\n",
      "('Création de la personne qui part de', 156, 669, 'pour aller à', 0, 1023)\n",
      "('Création de la personne qui part de', 669, 52, 'pour aller à', 1023, 1023)\n",
      "('Création de la personne qui part de', 241, 792, 'pour aller à', 1023, 1023)\n",
      "('Création de la personne qui part de', 913, 539, 'pour aller à', 0, 1023)\n",
      "('Création de la personne qui part de', 1010, 852, 'pour aller à', 0, 0)\n",
      "('Création de la personne qui part de', 843, 925, 'pour aller à', 1023, 1023)\n",
      "('Création de la personne qui part de', 111, 967, 'pour aller à', 1023, 0)\n",
      "('Création de la personne qui part de', 391, 811, 'pour aller à', 1023, 1023)\n",
      "('Création de la personne qui part de', 901, 972, 'pour aller à', 0, 1023)\n",
      "('Personne non créée, la place est occupée', 227, 366)\n",
      "('Personne non créée, la place est occupée', 86, 145)\n",
      "('Création de la personne qui part de', 746, 965, 'pour aller à', 1023, 0)\n",
      "('Création de la personne qui part de', 547, 1015, 'pour aller à', 1023, 0)\n",
      "('Création de la personne qui part de', 616, 919, 'pour aller à', 1023, 0)\n",
      "('Création de la personne qui part de', 319, 373, 'pour aller à', 1023, 1023)\n",
      "('Création de la personne qui part de', 670, 691, 'pour aller à', 0, 1023)\n",
      "('Création de la personne qui part de', 592, 389, 'pour aller à', 0, 1023)\n",
      "('Création de la personne qui part de', 829, 645, 'pour aller à', 1023, 1023)\n",
      "('Création de la personne qui part de', 728, 576, 'pour aller à', 0, 1023)\n",
      "('Création de la personne qui part de', 133, 823, 'pour aller à', 1023, 1023)\n",
      "('Création de la personne qui part de', 565, 331, 'pour aller à', 0, 1023)\n",
      "('Création de la personne qui part de', 651, 310, 'pour aller à', 1023, 0)\n",
      "('Création de la personne qui part de', 421, 77, 'pour aller à', 0, 1023)\n",
      "('Création de la personne qui part de', 704, 475, 'pour aller à', 0, 0)\n",
      "('Création de la personne qui part de', 13, 354, 'pour aller à', 0, 0)\n",
      "('Création de la personne qui part de', 742, 659, 'pour aller à', 0, 1023)\n",
      "('Création de la personne qui part de', 810, 427, 'pour aller à', 0, 0)\n",
      "('Création de la personne qui part de', 67, 449, 'pour aller à', 1023, 0)\n",
      "('Création de la personne qui part de', 839, 555, 'pour aller à', 0, 0)\n",
      "('Création de la personne qui part de', 172, 362, 'pour aller à', 0, 1023)\n",
      "('Création de la personne qui part de', 606, 879, 'pour aller à', 0, 0)\n",
      "('Création de la personne qui part de', 526, 63, 'pour aller à', 1023, 0)\n",
      "('Création de la personne qui part de', 129, 502, 'pour aller à', 0, 0)\n",
      "('Création de la personne qui part de', 1009, 271, 'pour aller à', 0, 0)\n",
      "('Création de la personne qui part de', 545, 83, 'pour aller à', 1023, 0)\n",
      "('Création de la personne qui part de', 869, 493, 'pour aller à', 0, 1023)\n",
      "('Création de la personne qui part de', 619, 4, 'pour aller à', 0, 1023)\n",
      "('Création de la personne qui part de', 1010, 898, 'pour aller à', 1023, 1023)\n",
      "('Création de la personne qui part de', 526, 512, 'pour aller à', 1023, 1023)\n",
      "('Création de la personne qui part de', 402, 427, 'pour aller à', 0, 1023)\n",
      "('Création de la personne qui part de', 4, 127, 'pour aller à', 1023, 0)\n",
      "('Création de la personne qui part de', 532, 820, 'pour aller à', 1023, 0)\n",
      "('Création de la personne qui part de', 894, 694, 'pour aller à', 0, 0)\n",
      "('Création de la personne qui part de', 136, 171, 'pour aller à', 1023, 1023)\n",
      "('Création de la personne qui part de', 860, 487, 'pour aller à', 0, 1023)\n",
      "('Création de la personne qui part de', 39, 705, 'pour aller à', 0, 0)\n",
      "('Création de la personne qui part de', 308, 605, 'pour aller à', 0, 1023)\n",
      "('Création de la personne qui part de', 554, 557, 'pour aller à', 1023, 1023)\n",
      "('Création de la personne qui part de', 882, 179, 'pour aller à', 1023, 0)\n",
      "('Création de la personne qui part de', 120, 458, 'pour aller à', 0, 1023)\n",
      "('Création de la personne qui part de', 773, 874, 'pour aller à', 1023, 0)\n",
      "('Création de la personne qui part de', 427, 1018, 'pour aller à', 0, 1023)\n",
      "('Création de la personne qui part de', 999, 317, 'pour aller à', 0, 1023)\n",
      "('Création de la personne qui part de', 814, 148, 'pour aller à', 1023, 0)\n",
      "('Création de la personne qui part de', 375, 458, 'pour aller à', 0, 1023)\n",
      "('Création de la personne qui part de', 769, 751, 'pour aller à', 1023, 0)\n",
      "('Création de la personne qui part de', 863, 630, 'pour aller à', 0, 0)\n",
      "('Création de la personne qui part de', 422, 20, 'pour aller à', 1023, 1023)\n",
      "('Création de la personne qui part de', 337, 632, 'pour aller à', 0, 1023)\n",
      "('Création de la personne qui part de', 746, 981, 'pour aller à', 0, 0)\n",
      "('Création de la personne qui part de', 231, 509, 'pour aller à', 0, 0)\n",
      "('Création de la personne qui part de', 402, 768, 'pour aller à', 1023, 1023)\n",
      "('Création de la personne qui part de', 587, 919, 'pour aller à', 1023, 1023)\n",
      "('Personne non créée, la place est occupée', 328, 388)\n",
      "('Création de la personne qui part de', 474, 188, 'pour aller à', 1023, 1023)\n",
      "('Création de la personne qui part de', 499, 298, 'pour aller à', 1023, 1023)\n",
      "('Création de la personne qui part de', 290, 548, 'pour aller à', 0, 0)\n",
      "('Création de la personne qui part de', 139, 477, 'pour aller à', 1023, 0)\n",
      "('Personne non créée, la place est occupée', 569, 758)\n",
      "('Création de la personne qui part de', 164, 925, 'pour aller à', 1023, 1023)\n",
      "('Création de la personne qui part de', 181, 606, 'pour aller à', 0, 0)\n",
      "('Création de la personne qui part de', 971, 160, 'pour aller à', 1023, 1023)\n",
      "('Création de la personne qui part de', 92, 494, 'pour aller à', 0, 1023)\n",
      "('Personne non créée, la place est occupée', 207, 382)\n",
      "('Création de la personne qui part de', 730, 74, 'pour aller à', 0, 0)\n",
      "('Création de la personne qui part de', 748, 590, 'pour aller à', 0, 1023)\n",
      "('Création de la personne qui part de', 91, 676, 'pour aller à', 1023, 0)\n",
      "('Création de la personne qui part de', 889, 162, 'pour aller à', 0, 0)\n",
      "('Création de la personne qui part de', 711, 324, 'pour aller à', 1023, 0)\n",
      "('Création de la personne qui part de', 954, 741, 'pour aller à', 1023, 1023)\n",
      "('Création de la personne qui part de', 314, 908, 'pour aller à', 1023, 1023)\n",
      "('Création de la personne qui part de', 49, 501, 'pour aller à', 0, 0)\n",
      "('Création de la personne qui part de', 297, 763, 'pour aller à', 1023, 1023)\n",
      "('Création de la personne qui part de', 505, 877, 'pour aller à', 0, 1023)\n",
      "('Création de la personne qui part de', 824, 269, 'pour aller à', 1023, 1023)\n",
      "('Création de la personne qui part de', 404, 839, 'pour aller à', 0, 0)\n",
      "('Création de la personne qui part de', 427, 194, 'pour aller à', 0, 0)\n",
      "('Création de la personne qui part de', 668, 807, 'pour aller à', 1023, 1023)\n",
      "('Création de la personne qui part de', 562, 699, 'pour aller à', 1023, 1023)\n",
      "('Création de la personne qui part de', 523, 827, 'pour aller à', 0, 1023)\n",
      "('Création de la personne qui part de', 674, 31, 'pour aller à', 0, 0)\n",
      "('Création de la personne qui part de', 772, 572, 'pour aller à', 1023, 0)\n",
      "('Création de la personne qui part de', 704, 390, 'pour aller à', 1023, 1023)\n",
      "('Création de la personne qui part de', 198, 352, 'pour aller à', 1023, 0)\n",
      "('Création de la personne qui part de', 34, 890, 'pour aller à', 1023, 1023)\n",
      "('Création de la personne qui part de', 498, 76, 'pour aller à', 1023, 1023)\n",
      "('Création de la personne qui part de', 193, 125, 'pour aller à', 0, 1023)\n",
      "('Création de la personne qui part de', 736, 264, 'pour aller à', 1023, 0)\n",
      "('Création de la personne qui part de', 531, 889, 'pour aller à', 1023, 0)\n",
      "('Création de la personne qui part de', 503, 852, 'pour aller à', 0, 1023)\n",
      "('Création de la personne qui part de', 700, 890, 'pour aller à', 1023, 1023)\n",
      "('Création de la personne qui part de', 915, 640, 'pour aller à', 0, 1023)\n",
      "('Création de la personne qui part de', 760, 851, 'pour aller à', 0, 0)\n",
      "('Création de la personne qui part de', 530, 189, 'pour aller à', 1023, 0)\n",
      "('Création de la personne qui part de', 92, 624, 'pour aller à', 1023, 1023)\n",
      "('Création de la personne qui part de', 742, 977, 'pour aller à', 0, 1023)\n",
      "('Personne non créée, la place est occupée', 417, 564)\n",
      "('Création de la personne qui part de', 890, 136, 'pour aller à', 0, 1023)\n",
      "('Création de la personne qui part de', 435, 229, 'pour aller à', 0, 1023)\n",
      "('Création de la personne qui part de', 259, 209, 'pour aller à', 0, 0)\n",
      "('Création de la personne qui part de', 780, 966, 'pour aller à', 1023, 1023)\n",
      "('Création de la personne qui part de', 600, 820, 'pour aller à', 0, 0)\n",
      "('Création de la personne qui part de', 331, 711, 'pour aller à', 0, 0)\n",
      "('Création de la personne qui part de', 427, 383, 'pour aller à', 1023, 1023)\n",
      "('Création de la personne qui part de', 843, 548, 'pour aller à', 1023, 1023)\n",
      "('Création de la personne qui part de', 276, 692, 'pour aller à', 0, 1023)\n",
      "('Création de la personne qui part de', 689, 435, 'pour aller à', 1023, 0)\n",
      "('Personne non créée, la place est occupée', 203, 243)\n",
      "('Personne non créée, la place est occupée', 219, 214)\n",
      "('Création de la personne qui part de', 438, 659, 'pour aller à', 0, 1023)\n",
      "('Création de la personne qui part de', 115, 991, 'pour aller à', 0, 1023)\n",
      "('Création de la personne qui part de', 567, 779, 'pour aller à', 0, 1023)\n",
      "('Création de la personne qui part de', 302, 831, 'pour aller à', 0, 1023)\n",
      "('Création de la personne qui part de', 64, 922, 'pour aller à', 0, 1023)\n",
      "('Création de la personne qui part de', 561, 832, 'pour aller à', 0, 1023)\n",
      "('Création de la personne qui part de', 135, 907, 'pour aller à', 1023, 0)\n",
      "('Création de la personne qui part de', 814, 990, 'pour aller à', 1023, 0)\n",
      "('Création de la personne qui part de', 417, 344, 'pour aller à', 1023, 0)\n",
      "('Création de la personne qui part de', 290, 20, 'pour aller à', 0, 0)\n",
      "('Création de la personne qui part de', 6, 893, 'pour aller à', 0, 0)\n",
      "('Création de la personne qui part de', 480, 976, 'pour aller à', 1023, 1023)\n",
      "('Création de la personne qui part de', 838, 313, 'pour aller à', 0, 0)\n",
      "('Création de la personne qui part de', 775, 947, 'pour aller à', 1023, 1023)\n",
      "('Création de la personne qui part de', 440, 1022, 'pour aller à', 1023, 0)\n",
      "('Création de la personne qui part de', 981, 358, 'pour aller à', 0, 0)\n",
      "('Création de la personne qui part de', 69, 846, 'pour aller à', 0, 1023)\n",
      "('Création de la personne qui part de', 777, 486, 'pour aller à', 0, 1023)\n",
      "('Création de la personne qui part de', 393, 217, 'pour aller à', 0, 1023)\n",
      "('Création de la personne qui part de', 117, 476, 'pour aller à', 0, 1023)\n",
      "('Création de la personne qui part de', 425, 161, 'pour aller à', 1023, 1023)\n",
      "('Création de la personne qui part de', 933, 390, 'pour aller à', 0, 1023)\n",
      "('Création de la personne qui part de', 847, 769, 'pour aller à', 1023, 0)\n",
      "('Création de la personne qui part de', 194, 915, 'pour aller à', 1023, 1023)\n",
      "('Création de la personne qui part de', 656, 52, 'pour aller à', 1023, 0)\n",
      "('Création de la personne qui part de', 889, 357, 'pour aller à', 1023, 0)\n",
      "('Création de la personne qui part de', 445, 969, 'pour aller à', 1023, 1023)\n",
      "('Création de la personne qui part de', 774, 375, 'pour aller à', 0, 1023)\n",
      "('Création de la personne qui part de', 763, 754, 'pour aller à', 0, 1023)\n",
      "('Création de la personne qui part de', 594, 399, 'pour aller à', 0, 1023)\n",
      "('Personne non créée, la place est occupée', 438, 606)\n",
      "('Création de la personne qui part de', 334, 589, 'pour aller à', 0, 1023)\n",
      "('Création de la personne qui part de', 792, 945, 'pour aller à', 1023, 0)\n",
      "('Création de la personne qui part de', 692, 945, 'pour aller à', 0, 0)\n",
      "('Création de la personne qui part de', 509, 697, 'pour aller à', 1023, 0)\n",
      "('Création de la personne qui part de', 500, 72, 'pour aller à', 0, 1023)\n",
      "('Création de la personne qui part de', 714, 373, 'pour aller à', 1023, 0)\n",
      "('Création de la personne qui part de', 67, 495, 'pour aller à', 1023, 0)\n",
      "('Personne non créée, la place est occupée', 100, 239)\n",
      "('Création de la personne qui part de', 233, 795, 'pour aller à', 0, 0)\n",
      "('Création de la personne qui part de', 346, 856, 'pour aller à', 0, 0)\n",
      "('Création de la personne qui part de', 21, 758, 'pour aller à', 0, 1023)\n",
      "('Création de la personne qui part de', 50, 491, 'pour aller à', 0, 1023)\n",
      "('Création de la personne qui part de', 983, 33, 'pour aller à', 1023, 1023)\n",
      "('Création de la personne qui part de', 734, 323, 'pour aller à', 0, 1023)\n",
      "('Création de la personne qui part de', 59, 443, 'pour aller à', 1023, 1023)\n",
      "('Création de la personne qui part de', 440, 38, 'pour aller à', 0, 1023)\n",
      "('Création de la personne qui part de', 91, 85, 'pour aller à', 0, 1023)\n",
      "('Création de la personne qui part de', 139, 1016, 'pour aller à', 0, 1023)\n",
      "('Personne non créée, la place est occupée', 246, 399)\n",
      "('Création de la personne qui part de', 139, 542, 'pour aller à', 1023, 0)\n",
      "('Création de la personne qui part de', 978, 674, 'pour aller à', 1023, 1023)\n",
      "('Création de la personne qui part de', 117, 349, 'pour aller à', 1023, 1023)\n",
      "('Création de la personne qui part de', 582, 245, 'pour aller à', 1023, 1023)\n",
      "('Création de la personne qui part de', 662, 393, 'pour aller à', 1023, 1023)\n",
      "('Création de la personne qui part de', 814, 394, 'pour aller à', 1023, 1023)\n",
      "('Création de la personne qui part de', 879, 143, 'pour aller à', 0, 1023)\n",
      "('Création de la personne qui part de', 707, 592, 'pour aller à', 1023, 1023)\n",
      "('Création de la personne qui part de', 268, 839, 'pour aller à', 1023, 1023)\n",
      "('Création de la personne qui part de', 1, 248, 'pour aller à', 1023, 1023)\n",
      "('Création de la personne qui part de', 144, 24, 'pour aller à', 1023, 0)\n",
      "('Création de la personne qui part de', 377, 81, 'pour aller à', 1023, 1023)\n",
      "('Personne non créée, la place est occupée', 191, 265)\n",
      "('Création de la personne qui part de', 489, 467, 'pour aller à', 1023, 1023)\n",
      "('Création de la personne qui part de', 73, 987, 'pour aller à', 0, 0)\n",
      "('Personne non créée, la place est occupée', 236, 296)\n",
      "('Création de la personne qui part de', 527, 227, 'pour aller à', 0, 1023)\n",
      "('Création de la personne qui part de', 848, 506, 'pour aller à', 0, 0)\n",
      "('Création de la personne qui part de', 509, 125, 'pour aller à', 1023, 0)\n",
      "('Création de la personne qui part de', 541, 797, 'pour aller à', 1023, 1023)\n",
      "('Création de la personne qui part de', 740, 14, 'pour aller à', 0, 0)\n",
      "('Création de la personne qui part de', 785, 1015, 'pour aller à', 1023, 1023)\n",
      "('Création de la personne qui part de', 83, 435, 'pour aller à', 0, 0)\n",
      "('Création de la personne qui part de', 51, 679, 'pour aller à', 0, 1023)\n",
      "('Création de la personne qui part de', 877, 830, 'pour aller à', 1023, 0)\n",
      "('Création de la personne qui part de', 823, 13, 'pour aller à', 0, 0)\n",
      "('Création de la personne qui part de', 655, 494, 'pour aller à', 1023, 1023)\n",
      "('Création de la personne qui part de', 488, 677, 'pour aller à', 1023, 1023)\n",
      "('Création de la personne qui part de', 562, 691, 'pour aller à', 1023, 0)\n",
      "('Création de la personne qui part de', 346, 686, 'pour aller à', 1023, 0)\n",
      "('Création de la personne qui part de', 524, 558, 'pour aller à', 1023, 1023)\n",
      "('Création de la personne qui part de', 789, 482, 'pour aller à', 0, 0)\n",
      "('Création de la personne qui part de', 374, 152, 'pour aller à', 1023, 1023)\n",
      "('Création de la personne qui part de', 40, 989, 'pour aller à', 1023, 1023)\n",
      "('Création de la personne qui part de', 527, 1011, 'pour aller à', 0, 0)\n",
      "('Création de la personne qui part de', 400, 324, 'pour aller à', 1023, 0)\n",
      "('Création de la personne qui part de', 768, 48, 'pour aller à', 1023, 0)\n",
      "('Création de la personne qui part de', 718, 831, 'pour aller à', 0, 1023)\n",
      "('Création de la personne qui part de', 31, 408, 'pour aller à', 1023, 0)\n",
      "('Création de la personne qui part de', 588, 951, 'pour aller à', 1023, 0)\n",
      "('Création de la personne qui part de', 26, 901, 'pour aller à', 1023, 0)\n",
      "('Création de la personne qui part de', 703, 817, 'pour aller à', 1023, 0)\n",
      "('Création de la personne qui part de', 357, 170, 'pour aller à', 0, 0)\n",
      "('Création de la personne qui part de', 485, 967, 'pour aller à', 0, 0)\n",
      "('Création de la personne qui part de', 363, 576, 'pour aller à', 0, 0)\n",
      "('Création de la personne qui part de', 762, 695, 'pour aller à', 0, 0)\n",
      "('Création de la personne qui part de', 315, 229, 'pour aller à', 1023, 1023)\n",
      "('Création de la personne qui part de', 545, 160, 'pour aller à', 0, 0)\n",
      "('Création de la personne qui part de', 24, 471, 'pour aller à', 1023, 1023)\n",
      "('Création de la personne qui part de', 326, 736, 'pour aller à', 1023, 0)\n",
      "('Création de la personne qui part de', 100, 849, 'pour aller à', 1023, 0)\n",
      "('Création de la personne qui part de', 895, 672, 'pour aller à', 0, 0)\n",
      "('Création de la personne qui part de', 33, 42, 'pour aller à', 1023, 1023)\n",
      "('Création de la personne qui part de', 613, 463, 'pour aller à', 1023, 1023)\n",
      "('Création de la personne qui part de', 310, 689, 'pour aller à', 1023, 1023)\n",
      "('Création de la personne qui part de', 883, 549, 'pour aller à', 0, 0)\n",
      "('Création de la personne qui part de', 738, 681, 'pour aller à', 1023, 0)\n",
      "('Création de la personne qui part de', 636, 957, 'pour aller à', 0, 0)\n",
      "('Création de la personne qui part de', 537, 940, 'pour aller à', 0, 1023)\n",
      "('Création de la personne qui part de', 458, 941, 'pour aller à', 0, 1023)\n",
      "('Création de la personne qui part de', 715, 178, 'pour aller à', 0, 1023)\n",
      "('Création de la personne qui part de', 992, 559, 'pour aller à', 1023, 1023)\n",
      "('Création de la personne qui part de', 470, 410, 'pour aller à', 0, 0)\n",
      "('Création de la personne qui part de', 16, 397, 'pour aller à', 0, 1023)\n",
      "('Création de la personne qui part de', 501, 261, 'pour aller à', 1023, 1023)\n",
      "('Personne non créée, la place est occupée', 276, 294)\n",
      "('Création de la personne qui part de', 729, 51, 'pour aller à', 1023, 1023)\n",
      "('Création de la personne qui part de', 173, 325, 'pour aller à', 1023, 1023)\n",
      "('Création de la personne qui part de', 960, 334, 'pour aller à', 1023, 1023)\n",
      "('Création de la personne qui part de', 587, 519, 'pour aller à', 1023, 1023)\n",
      "('Création de la personne qui part de', 91, 560, 'pour aller à', 1023, 1023)\n",
      "('Création de la personne qui part de', 920, 503, 'pour aller à', 1023, 1023)\n",
      "('Création de la personne qui part de', 932, 456, 'pour aller à', 0, 0)\n",
      "('Création de la personne qui part de', 116, 168, 'pour aller à', 1023, 0)\n",
      "('Création de la personne qui part de', 961, 734, 'pour aller à', 0, 0)\n",
      "('Création de la personne qui part de', 912, 242, 'pour aller à', 1023, 1023)\n",
      "('Création de la personne qui part de', 98, 773, 'pour aller à', 0, 0)\n",
      "('Création de la personne qui part de', 445, 26, 'pour aller à', 0, 1023)\n",
      "('Création de la personne qui part de', 649, 888, 'pour aller à', 1023, 1023)\n",
      "('Création de la personne qui part de', 281, 101, 'pour aller à', 1023, 1023)\n",
      "('Création de la personne qui part de', 401, 288, 'pour aller à', 0, 0)\n",
      "('Création de la personne qui part de', 934, 350, 'pour aller à', 1023, 0)\n",
      "('Création de la personne qui part de', 1022, 877, 'pour aller à', 1023, 1023)\n",
      "('Création de la personne qui part de', 843, 914, 'pour aller à', 1023, 0)\n",
      "('Création de la personne qui part de', 172, 1015, 'pour aller à', 1023, 0)\n",
      "('Création de la personne qui part de', 344, 151, 'pour aller à', 1023, 0)\n",
      "('Création de la personne qui part de', 253, 857, 'pour aller à', 1023, 1023)\n",
      "('Création de la personne qui part de', 831, 133, 'pour aller à', 0, 1023)\n",
      "('Création de la personne qui part de', 350, 414, 'pour aller à', 1023, 0)\n",
      "('Création de la personne qui part de', 136, 647, 'pour aller à', 1023, 0)\n",
      "('Création de la personne qui part de', 849, 888, 'pour aller à', 0, 0)\n",
      "('Création de la personne qui part de', 103, 556, 'pour aller à', 1023, 1023)\n",
      "('Création de la personne qui part de', 124, 663, 'pour aller à', 0, 0)\n",
      "('Création de la personne qui part de', 2, 490, 'pour aller à', 1023, 1023)\n",
      "('Création de la personne qui part de', 70, 917, 'pour aller à', 0, 0)\n",
      "('Création de la personne qui part de', 357, 1009, 'pour aller à', 1023, 1023)\n",
      "('Création de la personne qui part de', 975, 642, 'pour aller à', 0, 0)\n",
      "('Création de la personne qui part de', 728, 274, 'pour aller à', 1023, 1023)\n",
      "('Création de la personne qui part de', 692, 328, 'pour aller à', 1023, 1023)\n",
      "('Création de la personne qui part de', 547, 113, 'pour aller à', 1023, 1023)\n",
      "('Création de la personne qui part de', 695, 246, 'pour aller à', 1023, 1023)\n",
      "('Création de la personne qui part de', 493, 485, 'pour aller à', 1023, 0)\n",
      "('Création de la personne qui part de', 83, 583, 'pour aller à', 0, 1023)\n",
      "('Création de la personne qui part de', 523, 498, 'pour aller à', 1023, 1023)\n",
      "('Création de la personne qui part de', 114, 579, 'pour aller à', 0, 0)\n",
      "('Création de la personne qui part de', 892, 591, 'pour aller à', 1023, 0)\n",
      "('Personne non créée, la place est occupée', 272, 265)\n",
      "('Création de la personne qui part de', 754, 99, 'pour aller à', 0, 1023)\n",
      "('Création de la personne qui part de', 307, 911, 'pour aller à', 0, 1023)\n",
      "('Création de la personne qui part de', 919, 398, 'pour aller à', 0, 0)\n",
      "('Création de la personne qui part de', 760, 797, 'pour aller à', 0, 1023)\n",
      "('Création de la personne qui part de', 374, 145, 'pour aller à', 1023, 0)\n",
      "('Création de la personne qui part de', 600, 953, 'pour aller à', 0, 1023)\n",
      "('Création de la personne qui part de', 609, 918, 'pour aller à', 0, 0)\n",
      "('Personne non créée, la place est occupée', 225, 269)\n",
      "('Création de la personne qui part de', 984, 62, 'pour aller à', 0, 0)\n",
      "('Création de la personne qui part de', 17, 162, 'pour aller à', 0, 1023)\n",
      "('Création de la personne qui part de', 358, 1011, 'pour aller à', 0, 1023)\n",
      "('Création de la personne qui part de', 13, 206, 'pour aller à', 0, 0)\n",
      "('Création de la personne qui part de', 733, 719, 'pour aller à', 1023, 1023)\n",
      "('Création de la personne qui part de', 11, 707, 'pour aller à', 0, 0)\n",
      "('Création de la personne qui part de', 797, 876, 'pour aller à', 0, 0)\n",
      "('Création de la personne qui part de', 428, 398, 'pour aller à', 1023, 0)\n",
      "('Création de la personne qui part de', 989, 195, 'pour aller à', 0, 0)\n",
      "('Personne non créée, la place est occupée', 239, 366)\n",
      "('Création de la personne qui part de', 308, 855, 'pour aller à', 0, 0)\n",
      "('Création de la personne qui part de', 117, 9, 'pour aller à', 0, 0)\n",
      "('Création de la personne qui part de', 129, 524, 'pour aller à', 1023, 1023)\n",
      "('Création de la personne qui part de', 948, 68, 'pour aller à', 1023, 1023)\n",
      "('Création de la personne qui part de', 628, 334, 'pour aller à', 0, 1023)\n",
      "('Création de la personne qui part de', 817, 1018, 'pour aller à', 0, 0)\n",
      "('Création de la personne qui part de', 106, 597, 'pour aller à', 1023, 0)\n",
      "('Création de la personne qui part de', 549, 327, 'pour aller à', 1023, 1023)\n",
      "('Création de la personne qui part de', 540, 594, 'pour aller à', 0, 0)\n",
      "('Création de la personne qui part de', 594, 436, 'pour aller à', 0, 1023)\n",
      "('Création de la personne qui part de', 171, 618, 'pour aller à', 0, 0)\n",
      "('Création de la personne qui part de', 393, 858, 'pour aller à', 0, 1023)\n",
      "('Création de la personne qui part de', 658, 988, 'pour aller à', 1023, 1023)\n",
      "('Création de la personne qui part de', 627, 288, 'pour aller à', 1023, 1023)\n",
      "('Création de la personne qui part de', 1003, 121, 'pour aller à', 1023, 0)\n",
      "('Création de la personne qui part de', 109, 504, 'pour aller à', 1023, 0)\n",
      "('Création de la personne qui part de', 239, 668, 'pour aller à', 0, 0)\n",
      "('Création de la personne qui part de', 410, 365, 'pour aller à', 0, 1023)\n",
      "('Création de la personne qui part de', 93, 950, 'pour aller à', 1023, 0)\n",
      "('Création de la personne qui part de', 115, 398, 'pour aller à', 0, 1023)\n",
      "('Création de la personne qui part de', 292, 289, 'pour aller à', 1023, 0)\n",
      "('Création de la personne qui part de', 390, 237, 'pour aller à', 0, 1023)\n",
      "('Création de la personne qui part de', 785, 631, 'pour aller à', 0, 0)\n",
      "('Création de la personne qui part de', 644, 569, 'pour aller à', 0, 1023)\n",
      "('Personne non créée, la place est occupée', 477, 591)\n",
      "('Création de la personne qui part de', 498, 609, 'pour aller à', 1023, 0)\n",
      "('Création de la personne qui part de', 575, 950, 'pour aller à', 0, 1023)\n",
      "('Création de la personne qui part de', 948, 442, 'pour aller à', 1023, 1023)\n",
      "('Création de la personne qui part de', 108, 261, 'pour aller à', 1023, 0)\n",
      "('Création de la personne qui part de', 144, 213, 'pour aller à', 0, 0)\n",
      "('Création de la personne qui part de', 338, 941, 'pour aller à', 0, 1023)\n",
      "('Création de la personne qui part de', 295, 102, 'pour aller à', 1023, 0)\n",
      "('Création de la personne qui part de', 644, 306, 'pour aller à', 0, 0)\n",
      "('Création de la personne qui part de', 754, 13, 'pour aller à', 1023, 0)\n",
      "('Création de la personne qui part de', 118, 706, 'pour aller à', 0, 0)\n",
      "('Personne non créée, la place est occupée', 407, 502)\n",
      "('Création de la personne qui part de', 286, 574, 'pour aller à', 1023, 1023)\n",
      "('Création de la personne qui part de', 425, 341, 'pour aller à', 1023, 1023)\n",
      "('Création de la personne qui part de', 486, 878, 'pour aller à', 0, 0)\n",
      "('Création de la personne qui part de', 492, 731, 'pour aller à', 0, 1023)\n",
      "('Création de la personne qui part de', 664, 351, 'pour aller à', 1023, 0)\n",
      "('Création de la personne qui part de', 337, 57, 'pour aller à', 1023, 1023)\n",
      "('Création de la personne qui part de', 123, 949, 'pour aller à', 0, 1023)\n",
      "('Création de la personne qui part de', 707, 555, 'pour aller à', 1023, 0)\n",
      "('Création de la personne qui part de', 957, 411, 'pour aller à', 1023, 0)\n",
      "('Création de la personne qui part de', 956, 527, 'pour aller à', 0, 0)\n",
      "('Création de la personne qui part de', 410, 835, 'pour aller à', 1023, 0)\n",
      "('Création de la personne qui part de', 124, 270, 'pour aller à', 1023, 1023)\n",
      "('Création de la personne qui part de', 717, 7, 'pour aller à', 0, 1023)\n",
      "('Création de la personne qui part de', 475, 415, 'pour aller à', 1023, 1023)\n",
      "('Création de la personne qui part de', 88, 629, 'pour aller à', 0, 0)\n",
      "('Création de la personne qui part de', 286, 135, 'pour aller à', 0, 1023)\n",
      "('Création de la personne qui part de', 2, 496, 'pour aller à', 0, 1023)\n",
      "('Création de la personne qui part de', 870, 95, 'pour aller à', 1023, 1023)\n",
      "('Création de la personne qui part de', 473, 485, 'pour aller à', 1023, 0)\n",
      "('Création de la personne qui part de', 134, 674, 'pour aller à', 1023, 0)\n",
      "('Création de la personne qui part de', 780, 61, 'pour aller à', 0, 0)\n",
      "('Personne non créée, la place est occupée', 210, 233)\n",
      "('Création de la personne qui part de', 101, 371, 'pour aller à', 0, 1023)\n",
      "('Création de la personne qui part de', 82, 512, 'pour aller à', 0, 0)\n",
      "('Création de la personne qui part de', 1023, 771, 'pour aller à', 1023, 1023)\n",
      "('Création de la personne qui part de', 543, 265, 'pour aller à', 0, 1023)\n",
      "('Création de la personne qui part de', 111, 649, 'pour aller à', 1023, 0)\n",
      "('Création de la personne qui part de', 856, 938, 'pour aller à', 0, 0)\n",
      "('Création de la personne qui part de', 960, 88, 'pour aller à', 0, 1023)\n",
      "('Personne non créée, la place est occupée', 355, 408)\n",
      "('Création de la personne qui part de', 3, 105, 'pour aller à', 0, 1023)\n",
      "('Création de la personne qui part de', 749, 453, 'pour aller à', 0, 0)\n",
      "('Création de la personne qui part de', 483, 330, 'pour aller à', 0, 0)\n",
      "('Création de la personne qui part de', 734, 676, 'pour aller à', 0, 1023)\n",
      "('Création de la personne qui part de', 70, 480, 'pour aller à', 0, 1023)\n",
      "('Création de la personne qui part de', 226, 630, 'pour aller à', 1023, 1023)\n",
      "('Création de la personne qui part de', 456, 979, 'pour aller à', 1023, 0)\n",
      "('Création de la personne qui part de', 297, 174, 'pour aller à', 1023, 0)\n",
      "('Création de la personne qui part de', 188, 687, 'pour aller à', 1023, 0)\n",
      "('Création de la personne qui part de', 388, 826, 'pour aller à', 0, 0)\n",
      "('Création de la personne qui part de', 47, 120, 'pour aller à', 1023, 1023)\n",
      "('Création de la personne qui part de', 768, 362, 'pour aller à', 1023, 0)\n",
      "('Création de la personne qui part de', 771, 150, 'pour aller à', 0, 1023)\n",
      "('Création de la personne qui part de', 477, 49, 'pour aller à', 0, 0)\n",
      "('Création de la personne qui part de', 233, 9, 'pour aller à', 1023, 0)\n",
      "('Création de la personne qui part de', 46, 863, 'pour aller à', 1023, 1023)\n",
      "('Création de la personne qui part de', 691, 14, 'pour aller à', 0, 1023)\n",
      "('Création de la personne qui part de', 491, 747, 'pour aller à', 0, 1023)\n",
      "('Création de la personne qui part de', 258, 947, 'pour aller à', 1023, 0)\n",
      "('Création de la personne qui part de', 105, 473, 'pour aller à', 0, 0)\n",
      "('Création de la personne qui part de', 512, 560, 'pour aller à', 0, 0)\n",
      "('Création de la personne qui part de', 256, 583, 'pour aller à', 0, 0)\n",
      "('Création de la personne qui part de', 748, 746, 'pour aller à', 0, 1023)\n",
      "('Création de la personne qui part de', 188, 778, 'pour aller à', 0, 1023)\n",
      "('Création de la personne qui part de', 232, 984, 'pour aller à', 0, 0)\n",
      "('Création de la personne qui part de', 18, 230, 'pour aller à', 0, 0)\n",
      "('Personne non créée, la place est occupée', 251, 318)\n",
      "('Création de la personne qui part de', 463, 424, 'pour aller à', 0, 1023)\n",
      "('Création de la personne qui part de', 392, 282, 'pour aller à', 1023, 0)\n",
      "('Création de la personne qui part de', 1000, 921, 'pour aller à', 1023, 0)\n",
      "('Création de la personne qui part de', 493, 392, 'pour aller à', 1023, 0)\n",
      "('Création de la personne qui part de', 471, 673, 'pour aller à', 0, 1023)\n",
      "('Création de la personne qui part de', 244, 584, 'pour aller à', 0, 0)\n",
      "('Création de la personne qui part de', 264, 739, 'pour aller à', 0, 1023)\n",
      "('Création de la personne qui part de', 635, 80, 'pour aller à', 1023, 0)\n",
      "('Création de la personne qui part de', 331, 816, 'pour aller à', 1023, 0)\n",
      "('Création de la personne qui part de', 262, 538, 'pour aller à', 1023, 1023)\n",
      "('Création de la personne qui part de', 284, 834, 'pour aller à', 1023, 0)\n",
      "('Création de la personne qui part de', 631, 610, 'pour aller à', 1023, 1023)\n",
      "('Création de la personne qui part de', 802, 197, 'pour aller à', 0, 0)\n",
      "('Création de la personne qui part de', 513, 430, 'pour aller à', 0, 1023)\n",
      "('Création de la personne qui part de', 504, 159, 'pour aller à', 0, 0)\n",
      "('Création de la personne qui part de', 462, 182, 'pour aller à', 1023, 0)\n",
      "('Création de la personne qui part de', 962, 290, 'pour aller à', 1023, 1023)\n",
      "('Création de la personne qui part de', 796, 185, 'pour aller à', 1023, 1023)\n",
      "('Création de la personne qui part de', 697, 542, 'pour aller à', 0, 1023)\n",
      "('Création de la personne qui part de', 77, 348, 'pour aller à', 1023, 0)\n",
      "('Création de la personne qui part de', 122, 14, 'pour aller à', 1023, 1023)\n",
      "('Création de la personne qui part de', 423, 347, 'pour aller à', 1023, 1023)\n",
      "('Création de la personne qui part de', 349, 601, 'pour aller à', 1023, 0)\n",
      "('Personne non créée, la place est occupée', 424, 550)\n",
      "('Création de la personne qui part de', 323, 26, 'pour aller à', 1023, 0)\n",
      "('Personne non créée, la place est occupée', 416, 501)\n",
      "('Création de la personne qui part de', 185, 629, 'pour aller à', 0, 0)\n",
      "('Création de la personne qui part de', 394, 868, 'pour aller à', 1023, 0)\n",
      "('Création de la personne qui part de', 299, 795, 'pour aller à', 1023, 0)\n",
      "('Création de la personne qui part de', 298, 549, 'pour aller à', 0, 0)\n",
      "('Création de la personne qui part de', 43, 504, 'pour aller à', 0, 0)\n",
      "('Création de la personne qui part de', 808, 174, 'pour aller à', 1023, 0)\n",
      "('Création de la personne qui part de', 742, 781, 'pour aller à', 0, 0)\n",
      "('Création de la personne qui part de', 968, 4, 'pour aller à', 0, 0)\n",
      "('Création de la personne qui part de', 739, 84, 'pour aller à', 0, 0)\n",
      "('Création de la personne qui part de', 339, 914, 'pour aller à', 1023, 1023)\n",
      "('Création de la personne qui part de', 132, 535, 'pour aller à', 1023, 1023)\n",
      "('Création de la personne qui part de', 161, 165, 'pour aller à', 1023, 0)\n",
      "('Création de la personne qui part de', 991, 396, 'pour aller à', 0, 1023)\n",
      "('Création de la personne qui part de', 525, 35, 'pour aller à', 1023, 0)\n",
      "('Création de la personne qui part de', 478, 180, 'pour aller à', 0, 1023)\n",
      "('Création de la personne qui part de', 77, 545, 'pour aller à', 0, 1023)\n",
      "('Création de la personne qui part de', 483, 266, 'pour aller à', 1023, 1023)\n",
      "('Création de la personne qui part de', 736, 115, 'pour aller à', 0, 0)\n",
      "('Création de la personne qui part de', 869, 532, 'pour aller à', 1023, 0)\n",
      "('Création de la personne qui part de', 714, 86, 'pour aller à', 0, 0)\n",
      "('Création de la personne qui part de', 25, 844, 'pour aller à', 1023, 1023)\n",
      "('Création de la personne qui part de', 74, 738, 'pour aller à', 0, 0)\n",
      "('Création de la personne qui part de', 925, 657, 'pour aller à', 0, 1023)\n",
      "('Création de la personne qui part de', 219, 603, 'pour aller à', 1023, 0)\n",
      "('Création de la personne qui part de', 623, 430, 'pour aller à', 1023, 1023)\n",
      "('Personne non créée, la place est occupée', 275, 412)\n",
      "('Création de la personne qui part de', 956, 388, 'pour aller à', 0, 0)\n",
      "('Création de la personne qui part de', 622, 742, 'pour aller à', 0, 0)\n",
      "('Création de la personne qui part de', 297, 263, 'pour aller à', 1023, 1023)\n",
      "('Création de la personne qui part de', 173, 327, 'pour aller à', 0, 0)\n",
      "('Création de la personne qui part de', 733, 448, 'pour aller à', 1023, 0)\n",
      "('Création de la personne qui part de', 254, 750, 'pour aller à', 1023, 1023)\n",
      "('Création de la personne qui part de', 154, 455, 'pour aller à', 1023, 1023)\n",
      "('Personne non créée, la place est occupée', 443, 552)\n",
      "('Création de la personne qui part de', 749, 788, 'pour aller à', 1023, 1023)\n",
      "('Création de la personne qui part de', 272, 795, 'pour aller à', 0, 0)\n",
      "('Personne non créée, la place est occupée', 415, 475)\n",
      "('Création de la personne qui part de', 420, 465, 'pour aller à', 1023, 0)\n",
      "('Création de la personne qui part de', 301, 843, 'pour aller à', 1023, 0)\n",
      "('Création de la personne qui part de', 79, 485, 'pour aller à', 0, 0)\n",
      "('Création de la personne qui part de', 95, 426, 'pour aller à', 0, 0)\n",
      "('Création de la personne qui part de', 62, 975, 'pour aller à', 0, 0)\n",
      "('Création de la personne qui part de', 556, 953, 'pour aller à', 1023, 1023)\n",
      "('Création de la personne qui part de', 196, 158, 'pour aller à', 0, 1023)\n",
      "('Création de la personne qui part de', 258, 989, 'pour aller à', 1023, 0)\n",
      "('Personne non créée, la place est occupée', 228, 399)\n",
      "('Création de la personne qui part de', 72, 955, 'pour aller à', 1023, 1023)\n",
      "('Création de la personne qui part de', 813, 685, 'pour aller à', 0, 1023)\n",
      "('Création de la personne qui part de', 204, 308, 'pour aller à', 1023, 0)\n",
      "('Personne non créée, la place est occupée', 182, 302)\n",
      "('Création de la personne qui part de', 75, 542, 'pour aller à', 0, 1023)\n",
      "('Création de la personne qui part de', 316, 237, 'pour aller à', 0, 0)\n",
      "('Création de la personne qui part de', 676, 872, 'pour aller à', 0, 0)\n",
      "('Création de la personne qui part de', 710, 663, 'pour aller à', 0, 1023)\n",
      "('Création de la personne qui part de', 70, 651, 'pour aller à', 1023, 1023)\n",
      "('Création de la personne qui part de', 156, 494, 'pour aller à', 1023, 0)\n",
      "('Création de la personne qui part de', 681, 1001, 'pour aller à', 0, 1023)\n",
      "('Création de la personne qui part de', 899, 617, 'pour aller à', 1023, 1023)\n",
      "('Création de la personne qui part de', 17, 541, 'pour aller à', 1023, 1023)\n",
      "('Création de la personne qui part de', 549, 638, 'pour aller à', 0, 0)\n",
      "('Création de la personne qui part de', 777, 18, 'pour aller à', 0, 0)\n",
      "('Création de la personne qui part de', 641, 608, 'pour aller à', 1023, 1023)\n",
      "('Création de la personne qui part de', 558, 237, 'pour aller à', 1023, 1023)\n",
      "('Création de la personne qui part de', 651, 973, 'pour aller à', 0, 1023)\n",
      "('Création de la personne qui part de', 552, 730, 'pour aller à', 0, 0)\n",
      "('Création de la personne qui part de', 560, 314, 'pour aller à', 1023, 1023)\n",
      "('Création de la personne qui part de', 843, 313, 'pour aller à', 0, 0)\n",
      "('Création de la personne qui part de', 668, 827, 'pour aller à', 1023, 0)\n",
      "('Création de la personne qui part de', 804, 665, 'pour aller à', 1023, 0)\n",
      "('Création de la personne qui part de', 315, 8, 'pour aller à', 1023, 1023)\n",
      "('Création de la personne qui part de', 349, 184, 'pour aller à', 0, 1023)\n",
      "('Création de la personne qui part de', 135, 360, 'pour aller à', 0, 1023)\n",
      "('Personne non créée, la place est occupée', 225, 246)\n",
      "('Création de la personne qui part de', 709, 994, 'pour aller à', 0, 1023)\n",
      "('Création de la personne qui part de', 489, 478, 'pour aller à', 0, 1023)\n",
      "('Création de la personne qui part de', 38, 788, 'pour aller à', 0, 0)\n",
      "('Création de la personne qui part de', 789, 321, 'pour aller à', 1023, 1023)\n",
      "('Création de la personne qui part de', 80, 317, 'pour aller à', 0, 1023)\n",
      "('Création de la personne qui part de', 256, 1011, 'pour aller à', 1023, 0)\n",
      "('Personne non créée, la place est occupée', 179, 275)\n",
      "('Création de la personne qui part de', 304, 955, 'pour aller à', 1023, 1023)\n",
      "('Création de la personne qui part de', 908, 431, 'pour aller à', 1023, 0)\n",
      "('Création de la personne qui part de', 798, 394, 'pour aller à', 0, 1023)\n",
      "('Personne non créée, la place est occupée', 209, 234)\n",
      "('Création de la personne qui part de', 734, 80, 'pour aller à', 0, 0)\n",
      "('Personne non créée, la place est occupée', 254, 359)\n",
      "('Création de la personne qui part de', 625, 313, 'pour aller à', 1023, 0)\n",
      "('Création de la personne qui part de', 318, 826, 'pour aller à', 0, 0)\n",
      "('Création de la personne qui part de', 661, 699, 'pour aller à', 0, 0)\n",
      "('Création de la personne qui part de', 260, 147, 'pour aller à', 1023, 1023)\n",
      "('Création de la personne qui part de', 309, 780, 'pour aller à', 0, 1023)\n",
      "('Création de la personne qui part de', 84, 138, 'pour aller à', 0, 0)\n",
      "('Création de la personne qui part de', 64, 819, 'pour aller à', 1023, 0)\n",
      "('Création de la personne qui part de', 865, 1009, 'pour aller à', 0, 1023)\n",
      "('Création de la personne qui part de', 789, 737, 'pour aller à', 1023, 0)\n",
      "('Création de la personne qui part de', 1022, 486, 'pour aller à', 0, 1023)\n",
      "('Création de la personne qui part de', 157, 326, 'pour aller à', 0, 1023)\n",
      "('Création de la personne qui part de', 101, 354, 'pour aller à', 1023, 1023)\n",
      "('Création de la personne qui part de', 875, 752, 'pour aller à', 1023, 0)\n",
      "('Création de la personne qui part de', 434, 868, 'pour aller à', 0, 0)\n",
      "('Création de la personne qui part de', 762, 569, 'pour aller à', 0, 0)\n",
      "('Création de la personne qui part de', 556, 759, 'pour aller à', 0, 0)\n",
      "('Création de la personne qui part de', 199, 323, 'pour aller à', 0, 0)\n",
      "('Création de la personne qui part de', 879, 44, 'pour aller à', 1023, 1023)\n",
      "('Création de la personne qui part de', 854, 976, 'pour aller à', 1023, 0)\n",
      "('Création de la personne qui part de', 287, 505, 'pour aller à', 0, 0)\n",
      "('Création de la personne qui part de', 149, 783, 'pour aller à', 0, 0)\n",
      "('Création de la personne qui part de', 263, 639, 'pour aller à', 0, 1023)\n",
      "('Création de la personne qui part de', 126, 515, 'pour aller à', 0, 0)\n",
      "('Création de la personne qui part de', 710, 627, 'pour aller à', 0, 1023)\n",
      "('Création de la personne qui part de', 947, 198, 'pour aller à', 0, 1023)\n",
      "('Création de la personne qui part de', 239, 612, 'pour aller à', 0, 0)\n",
      "('Création de la personne qui part de', 903, 29, 'pour aller à', 1023, 0)\n",
      "('Création de la personne qui part de', 619, 769, 'pour aller à', 1023, 0)\n",
      "('Création de la personne qui part de', 659, 995, 'pour aller à', 1023, 1023)\n",
      "('Création de la personne qui part de', 514, 438, 'pour aller à', 0, 1023)\n",
      "('Création de la personne qui part de', 425, 43, 'pour aller à', 1023, 0)\n",
      "('Création de la personne qui part de', 340, 143, 'pour aller à', 1023, 1023)\n",
      "('Création de la personne qui part de', 516, 193, 'pour aller à', 0, 1023)\n",
      "('Création de la personne qui part de', 32, 891, 'pour aller à', 0, 1023)\n",
      "('Création de la personne qui part de', 750, 580, 'pour aller à', 1023, 1023)\n",
      "('Création de la personne qui part de', 50, 819, 'pour aller à', 1023, 0)\n",
      "('Personne non créée, la place est occupée', 86, 226)\n",
      "('Création de la personne qui part de', 699, 518, 'pour aller à', 1023, 1023)\n",
      "('Création de la personne qui part de', 261, 966, 'pour aller à', 0, 1023)\n",
      "('Création de la personne qui part de', 386, 84, 'pour aller à', 0, 1023)\n",
      "('Création de la personne qui part de', 1013, 98, 'pour aller à', 0, 1023)\n",
      "('Création de la personne qui part de', 240, 639, 'pour aller à', 1023, 1023)\n",
      "('Création de la personne qui part de', 674, 891, 'pour aller à', 0, 1023)\n",
      "('Création de la personne qui part de', 657, 873, 'pour aller à', 0, 1023)\n",
      "('Création de la personne qui part de', 22, 404, 'pour aller à', 0, 1023)\n",
      "('Création de la personne qui part de', 120, 720, 'pour aller à', 1023, 0)\n",
      "('Création de la personne qui part de', 598, 699, 'pour aller à', 1023, 1023)\n",
      "('Création de la personne qui part de', 719, 796, 'pour aller à', 1023, 1023)\n",
      "('Création de la personne qui part de', 121, 96, 'pour aller à', 1023, 0)\n",
      "('Création de la personne qui part de', 699, 311, 'pour aller à', 0, 0)\n",
      "('Création de la personne qui part de', 946, 447, 'pour aller à', 0, 1023)\n",
      "('Création de la personne qui part de', 391, 303, 'pour aller à', 0, 1023)\n",
      "('Création de la personne qui part de', 923, 969, 'pour aller à', 1023, 0)\n",
      "('Création de la personne qui part de', 576, 400, 'pour aller à', 1023, 1023)\n",
      "('Création de la personne qui part de', 227, 610, 'pour aller à', 1023, 1023)\n",
      "('Création de la personne qui part de', 814, 939, 'pour aller à', 1023, 0)\n",
      "('Création de la personne qui part de', 49, 638, 'pour aller à', 0, 1023)\n",
      "('Création de la personne qui part de', 313, 113, 'pour aller à', 1023, 0)\n",
      "('Création de la personne qui part de', 999, 15, 'pour aller à', 1023, 1023)\n",
      "('Création de la personne qui part de', 124, 640, 'pour aller à', 1023, 0)\n",
      "('Création de la personne qui part de', 405, 877, 'pour aller à', 1023, 0)\n",
      "('Création de la personne qui part de', 897, 210, 'pour aller à', 1023, 1023)\n",
      "('Création de la personne qui part de', 683, 832, 'pour aller à', 1023, 0)\n",
      "('Création de la personne qui part de', 643, 701, 'pour aller à', 1023, 1023)\n",
      "('Création de la personne qui part de', 892, 488, 'pour aller à', 1023, 0)\n",
      "('Création de la personne qui part de', 685, 938, 'pour aller à', 1023, 1023)\n",
      "('Création de la personne qui part de', 298, 567, 'pour aller à', 1023, 0)\n",
      "('Création de la personne qui part de', 10, 293, 'pour aller à', 1023, 0)\n",
      "('Personne non créée, la place est occupée', 248, 370)\n",
      "('Création de la personne qui part de', 177, 942, 'pour aller à', 1023, 1023)\n",
      "('Création de la personne qui part de', 135, 402, 'pour aller à', 1023, 0)\n",
      "('Création de la personne qui part de', 279, 588, 'pour aller à', 0, 0)\n",
      "('Création de la personne qui part de', 787, 625, 'pour aller à', 0, 1023)\n",
      "('Création de la personne qui part de', 972, 726, 'pour aller à', 0, 1023)\n",
      "('Personne non créée, la place est occupée', 432, 597)\n",
      "('Création de la personne qui part de', 721, 798, 'pour aller à', 0, 0)\n",
      "('Création de la personne qui part de', 329, 45, 'pour aller à', 1023, 0)\n",
      "('Création de la personne qui part de', 391, 603, 'pour aller à', 0, 0)\n",
      "('Création de la personne qui part de', 481, 862, 'pour aller à', 1023, 0)\n",
      "('Personne non créée, la place est occupée', 412, 582)\n",
      "('Création de la personne qui part de', 746, 668, 'pour aller à', 1023, 0)\n",
      "('Création de la personne qui part de', 1016, 986, 'pour aller à', 0, 1023)\n",
      "('Création de la personne qui part de', 602, 802, 'pour aller à', 0, 1023)\n",
      "('Création de la personne qui part de', 585, 654, 'pour aller à', 1023, 0)\n",
      "('Création de la personne qui part de', 752, 582, 'pour aller à', 0, 1023)\n",
      "('Création de la personne qui part de', 1002, 378, 'pour aller à', 0, 1023)\n",
      "('Création de la personne qui part de', 548, 427, 'pour aller à', 1023, 1023)\n",
      "('Création de la personne qui part de', 356, 126, 'pour aller à', 0, 1023)\n",
      "('Création de la personne qui part de', 597, 49, 'pour aller à', 0, 1023)\n",
      "('Création de la personne qui part de', 188, 686, 'pour aller à', 1023, 0)\n",
      "('Création de la personne qui part de', 438, 396, 'pour aller à', 1023, 1023)\n",
      "('Création de la personne qui part de', 437, 246, 'pour aller à', 0, 1023)\n",
      "('Création de la personne qui part de', 403, 438, 'pour aller à', 1023, 1023)\n",
      "('Création de la personne qui part de', 603, 499, 'pour aller à', 0, 1023)\n",
      "('Personne non créée, la place est occupée', 568, 722)\n",
      "('Création de la personne qui part de', 942, 548, 'pour aller à', 0, 0)\n",
      "('Création de la personne qui part de', 449, 450, 'pour aller à', 0, 0)\n",
      "('Création de la personne qui part de', 404, 124, 'pour aller à', 0, 0)\n",
      "('Création de la personne qui part de', 841, 958, 'pour aller à', 0, 0)\n",
      "('Création de la personne qui part de', 730, 686, 'pour aller à', 0, 1023)\n",
      "('Création de la personne qui part de', 662, 561, 'pour aller à', 0, 1023)\n",
      "('Création de la personne qui part de', 189, 181, 'pour aller à', 1023, 1023)\n",
      "('Création de la personne qui part de', 870, 964, 'pour aller à', 1023, 0)\n",
      "('Création de la personne qui part de', 198, 51, 'pour aller à', 1023, 1023)\n",
      "('Création de la personne qui part de', 934, 206, 'pour aller à', 0, 1023)\n",
      "('Création de la personne qui part de', 537, 977, 'pour aller à', 1023, 0)\n",
      "('Création de la personne qui part de', 282, 25, 'pour aller à', 0, 0)\n",
      "('Création de la personne qui part de', 108, 515, 'pour aller à', 0, 0)\n",
      "('Création de la personne qui part de', 529, 981, 'pour aller à', 1023, 1023)\n",
      "('Personne non créée, la place est occupée', 228, 279)\n",
      "('Création de la personne qui part de', 316, 1006, 'pour aller à', 0, 0)\n",
      "('Création de la personne qui part de', 247, 161, 'pour aller à', 1023, 1023)\n",
      "('Création de la personne qui part de', 813, 573, 'pour aller à', 0, 0)\n",
      "('Création de la personne qui part de', 392, 592, 'pour aller à', 1023, 0)\n",
      "('Création de la personne qui part de', 52, 384, 'pour aller à', 1023, 0)\n",
      "('Création de la personne qui part de', 867, 778, 'pour aller à', 0, 1023)\n",
      "('Création de la personne qui part de', 990, 64, 'pour aller à', 1023, 1023)\n",
      "('Création de la personne qui part de', 737, 22, 'pour aller à', 0, 0)\n",
      "('Création de la personne qui part de', 941, 29, 'pour aller à', 0, 0)\n",
      "('Création de la personne qui part de', 423, 249, 'pour aller à', 1023, 1023)\n",
      "('Création de la personne qui part de', 406, 11, 'pour aller à', 0, 0)\n",
      "('Création de la personne qui part de', 427, 398, 'pour aller à', 1023, 0)\n",
      "('Création de la personne qui part de', 238, 533, 'pour aller à', 1023, 0)\n",
      "('Personne non créée, la place est occupée', 408, 561)\n",
      "('Création de la personne qui part de', 514, 963, 'pour aller à', 1023, 1023)\n",
      "('Création de la personne qui part de', 681, 705, 'pour aller à', 0, 1023)\n",
      "('Création de la personne qui part de', 826, 552, 'pour aller à', 0, 1023)\n",
      "('Création de la personne qui part de', 385, 979, 'pour aller à', 0, 0)\n",
      "('Création de la personne qui part de', 984, 836, 'pour aller à', 0, 1023)\n",
      "('Création de la personne qui part de', 836, 770, 'pour aller à', 0, 0)\n",
      "('Création de la personne qui part de', 651, 892, 'pour aller à', 0, 0)\n",
      "('Création de la personne qui part de', 603, 797, 'pour aller à', 1023, 1023)\n",
      "('Création de la personne qui part de', 608, 686, 'pour aller à', 1023, 0)\n",
      "('Création de la personne qui part de', 963, 417, 'pour aller à', 1023, 1023)\n",
      "('Création de la personne qui part de', 230, 996, 'pour aller à', 1023, 1023)\n",
      "('Création de la personne qui part de', 179, 159, 'pour aller à', 0, 1023)\n",
      "('Création de la personne qui part de', 564, 169, 'pour aller à', 0, 0)\n",
      "('Création de la personne qui part de', 713, 1013, 'pour aller à', 1023, 0)\n",
      "('Création de la personne qui part de', 223, 490, 'pour aller à', 1023, 0)\n",
      "('Création de la personne qui part de', 720, 344, 'pour aller à', 1023, 0)\n",
      "('Création de la personne qui part de', 361, 175, 'pour aller à', 0, 1023)\n",
      "('Création de la personne qui part de', 64, 690, 'pour aller à', 1023, 1023)\n",
      "('Création de la personne qui part de', 691, 155, 'pour aller à', 0, 1023)\n",
      "('Création de la personne qui part de', 445, 99, 'pour aller à', 0, 1023)\n",
      "('Création de la personne qui part de', 636, 210, 'pour aller à', 1023, 1023)\n",
      "('Création de la personne qui part de', 605, 731, 'pour aller à', 1023, 0)\n",
      "('Création de la personne qui part de', 735, 156, 'pour aller à', 0, 0)\n",
      "('Création de la personne qui part de', 357, 163, 'pour aller à', 0, 0)\n",
      "('Création de la personne qui part de', 950, 973, 'pour aller à', 1023, 1023)\n",
      "('Création de la personne qui part de', 736, 691, 'pour aller à', 1023, 0)\n",
      "('Création de la personne qui part de', 255, 583, 'pour aller à', 1023, 1023)\n",
      "('Création de la personne qui part de', 720, 578, 'pour aller à', 1023, 1023)\n",
      "('Création de la personne qui part de', 903, 692, 'pour aller à', 1023, 0)\n",
      "('Création de la personne qui part de', 348, 595, 'pour aller à', 1023, 1023)\n",
      "('Création de la personne qui part de', 457, 843, 'pour aller à', 0, 1023)\n",
      "('Création de la personne qui part de', 245, 83, 'pour aller à', 1023, 0)\n",
      "('Création de la personne qui part de', 285, 237, 'pour aller à', 1023, 0)\n",
      "('Création de la personne qui part de', 633, 495, 'pour aller à', 1023, 1023)\n",
      "('Personne non créée, la place est occupée', 232, 261)\n",
      "('Création de la personne qui part de', 188, 789, 'pour aller à', 0, 1023)\n",
      "('Création de la personne qui part de', 292, 124, 'pour aller à', 1023, 1023)\n",
      "('Création de la personne qui part de', 733, 101, 'pour aller à', 1023, 0)\n",
      "('Création de la personne qui part de', 119, 222, 'pour aller à', 0, 1023)\n",
      "('Création de la personne qui part de', 636, 794, 'pour aller à', 0, 1023)\n",
      "('Création de la personne qui part de', 341, 362, 'pour aller à', 1023, 1023)\n",
      "('Création de la personne qui part de', 804, 552, 'pour aller à', 0, 1023)\n",
      "('Création de la personne qui part de', 125, 734, 'pour aller à', 0, 0)\n",
      "('Création de la personne qui part de', 972, 112, 'pour aller à', 0, 1023)\n",
      "('Création de la personne qui part de', 92, 281, 'pour aller à', 1023, 0)\n",
      "('Création de la personne qui part de', 132, 859, 'pour aller à', 1023, 0)\n",
      "('Création de la personne qui part de', 21, 561, 'pour aller à', 1023, 0)\n",
      "('Création de la personne qui part de', 604, 744, 'pour aller à', 1023, 1023)\n",
      "('Création de la personne qui part de', 473, 688, 'pour aller à', 0, 0)\n",
      "('Création de la personne qui part de', 924, 944, 'pour aller à', 1023, 0)\n",
      "('Création de la personne qui part de', 178, 919, 'pour aller à', 1023, 1023)\n",
      "('Création de la personne qui part de', 849, 592, 'pour aller à', 0, 1023)\n",
      "('Création de la personne qui part de', 848, 484, 'pour aller à', 0, 0)\n",
      "('Création de la personne qui part de', 632, 259, 'pour aller à', 1023, 1023)\n",
      "('Création de la personne qui part de', 524, 720, 'pour aller à', 1023, 0)\n",
      "('Création de la personne qui part de', 955, 851, 'pour aller à', 1023, 1023)\n",
      "('Création de la personne qui part de', 308, 529, 'pour aller à', 1023, 1023)\n",
      "('Création de la personne qui part de', 462, 827, 'pour aller à', 1023, 0)\n",
      "('Création de la personne qui part de', 699, 260, 'pour aller à', 0, 0)\n",
      "('Création de la personne qui part de', 501, 848, 'pour aller à', 0, 1023)\n",
      "('Création de la personne qui part de', 583, 155, 'pour aller à', 1023, 1023)\n",
      "('Création de la personne qui part de', 522, 732, 'pour aller à', 1023, 0)\n",
      "('Création de la personne qui part de', 284, 210, 'pour aller à', 1023, 0)\n",
      "('Création de la personne qui part de', 907, 399, 'pour aller à', 0, 0)\n",
      "('Création de la personne qui part de', 151, 783, 'pour aller à', 1023, 0)\n",
      "('Création de la personne qui part de', 944, 395, 'pour aller à', 0, 0)\n",
      "('Création de la personne qui part de', 915, 585, 'pour aller à', 1023, 0)\n",
      "('Création de la personne qui part de', 370, 134, 'pour aller à', 1023, 1023)\n",
      "('Création de la personne qui part de', 190, 170, 'pour aller à', 0, 0)\n",
      "('Création de la personne qui part de', 624, 845, 'pour aller à', 1023, 0)\n",
      "('Création de la personne qui part de', 997, 354, 'pour aller à', 1023, 0)\n",
      "('Création de la personne qui part de', 374, 295, 'pour aller à', 1023, 1023)\n",
      "('Création de la personne qui part de', 400, 107, 'pour aller à', 1023, 0)\n",
      "('Création de la personne qui part de', 922, 827, 'pour aller à', 0, 0)\n",
      "('Création de la personne qui part de', 615, 78, 'pour aller à', 1023, 0)\n",
      "('Création de la personne qui part de', 766, 157, 'pour aller à', 0, 0)\n",
      "('Création de la personne qui part de', 117, 4, 'pour aller à', 0, 0)\n",
      "('Création de la personne qui part de', 469, 629, 'pour aller à', 0, 1023)\n",
      "('Création de la personne qui part de', 101, 508, 'pour aller à', 1023, 1023)\n",
      "('Création de la personne qui part de', 674, 73, 'pour aller à', 1023, 0)\n",
      "('Création de la personne qui part de', 999, 156, 'pour aller à', 1023, 0)\n",
      "('Création de la personne qui part de', 101, 118, 'pour aller à', 1023, 0)\n",
      "('Création de la personne qui part de', 666, 584, 'pour aller à', 0, 0)\n",
      "('Création de la personne qui part de', 459, 634, 'pour aller à', 1023, 0)\n",
      "('Personne non créée, la place est occupée', 457, 497)\n",
      "('Création de la personne qui part de', 295, 741, 'pour aller à', 1023, 0)\n",
      "('Création de la personne qui part de', 72, 75, 'pour aller à', 0, 0)\n",
      "('Création de la personne qui part de', 487, 694, 'pour aller à', 1023, 0)\n",
      "('Création de la personne qui part de', 519, 203, 'pour aller à', 1023, 1023)\n",
      "('Création de la personne qui part de', 619, 743, 'pour aller à', 1023, 1023)\n",
      "('Création de la personne qui part de', 282, 624, 'pour aller à', 1023, 0)\n",
      "('Création de la personne qui part de', 26, 984, 'pour aller à', 1023, 0)\n",
      "('Création de la personne qui part de', 127, 95, 'pour aller à', 1023, 0)\n",
      "('Création de la personne qui part de', 536, 591, 'pour aller à', 1023, 0)\n",
      "('Création de la personne qui part de', 229, 16, 'pour aller à', 1023, 1023)\n",
      "('Création de la personne qui part de', 801, 523, 'pour aller à', 0, 0)\n",
      "('Création de la personne qui part de', 897, 787, 'pour aller à', 0, 0)\n",
      "('Création de la personne qui part de', 338, 427, 'pour aller à', 1023, 0)\n",
      "('Création de la personne qui part de', 1020, 488, 'pour aller à', 0, 1023)\n",
      "('Création de la personne qui part de', 951, 706, 'pour aller à', 1023, 0)\n",
      "('Création de la personne qui part de', 213, 975, 'pour aller à', 0, 1023)\n",
      "('Création de la personne qui part de', 325, 572, 'pour aller à', 0, 0)\n",
      "('Création de la personne qui part de', 730, 752, 'pour aller à', 0, 1023)\n",
      "('Création de la personne qui part de', 747, 737, 'pour aller à', 0, 0)\n",
      "('Création de la personne qui part de', 528, 46, 'pour aller à', 0, 0)\n",
      "('Création de la personne qui part de', 51, 147, 'pour aller à', 0, 0)\n",
      "('Création de la personne qui part de', 119, 346, 'pour aller à', 0, 1023)\n",
      "('Création de la personne qui part de', 425, 459, 'pour aller à', 0, 0)\n",
      "('Création de la personne qui part de', 476, 164, 'pour aller à', 0, 1023)\n",
      "('Création de la personne qui part de', 589, 523, 'pour aller à', 0, 1023)\n",
      "('Création de la personne qui part de', 987, 962, 'pour aller à', 1023, 1023)\n",
      "('Création de la personne qui part de', 507, 525, 'pour aller à', 0, 0)\n",
      "('Création de la personne qui part de', 335, 526, 'pour aller à', 1023, 1023)\n",
      "('Création de la personne qui part de', 209, 1012, 'pour aller à', 0, 1023)\n",
      "('Création de la personne qui part de', 294, 746, 'pour aller à', 1023, 0)\n",
      "('Création de la personne qui part de', 316, 982, 'pour aller à', 0, 1023)\n",
      "('Création de la personne qui part de', 334, 943, 'pour aller à', 1023, 1023)\n",
      "('Création de la personne qui part de', 1017, 262, 'pour aller à', 1023, 1023)\n",
      "('Création de la personne qui part de', 367, 355, 'pour aller à', 1023, 1023)\n",
      "('Création de la personne qui part de', 512, 223, 'pour aller à', 1023, 0)\n",
      "('Création de la personne qui part de', 901, 21, 'pour aller à', 1023, 1023)\n",
      "('Création de la personne qui part de', 937, 1016, 'pour aller à', 0, 0)\n",
      "('Création de la personne qui part de', 169, 762, 'pour aller à', 0, 0)\n",
      "('Création de la personne qui part de', 390, 830, 'pour aller à', 1023, 0)\n",
      "('Création de la personne qui part de', 22, 30, 'pour aller à', 1023, 1023)\n",
      "('Création de la personne qui part de', 33, 215, 'pour aller à', 1023, 1023)\n",
      "('Création de la personne qui part de', 882, 831, 'pour aller à', 0, 1023)\n",
      "('Création de la personne qui part de', 330, 627, 'pour aller à', 1023, 1023)\n",
      "('Création de la personne qui part de', 82, 876, 'pour aller à', 1023, 0)\n",
      "('Création de la personne qui part de', 633, 190, 'pour aller à', 1023, 0)\n",
      "('Création de la personne qui part de', 821, 433, 'pour aller à', 0, 0)\n",
      "('Création de la personne qui part de', 90, 912, 'pour aller à', 1023, 0)\n",
      "('Création de la personne qui part de', 615, 332, 'pour aller à', 0, 0)\n",
      "('Création de la personne qui part de', 931, 741, 'pour aller à', 0, 1023)\n",
      "('Création de la personne qui part de', 174, 69, 'pour aller à', 1023, 0)\n",
      "('Création de la personne qui part de', 371, 593, 'pour aller à', 0, 0)\n",
      "('Création de la personne qui part de', 334, 586, 'pour aller à', 1023, 0)\n",
      "('Création de la personne qui part de', 269, 125, 'pour aller à', 0, 1023)\n",
      "('Création de la personne qui part de', 345, 989, 'pour aller à', 0, 0)\n",
      "('Création de la personne qui part de', 344, 120, 'pour aller à', 1023, 0)\n",
      "('Création de la personne qui part de', 712, 998, 'pour aller à', 0, 0)\n",
      "('Création de la personne qui part de', 521, 227, 'pour aller à', 0, 1023)\n",
      "('Création de la personne qui part de', 862, 432, 'pour aller à', 0, 0)\n",
      "('Création de la personne qui part de', 201, 970, 'pour aller à', 0, 0)\n",
      "('Création de la personne qui part de', 520, 572, 'pour aller à', 0, 1023)\n",
      "('Création de la personne qui part de', 654, 433, 'pour aller à', 0, 0)\n",
      "('Création de la personne qui part de', 943, 602, 'pour aller à', 0, 1023)\n",
      "('Création de la personne qui part de', 659, 10, 'pour aller à', 1023, 0)\n",
      "('Création de la personne qui part de', 389, 848, 'pour aller à', 0, 1023)\n",
      "('Création de la personne qui part de', 79, 814, 'pour aller à', 1023, 0)\n",
      "('Création de la personne qui part de', 385, 980, 'pour aller à', 1023, 0)\n",
      "('Création de la personne qui part de', 426, 82, 'pour aller à', 0, 1023)\n",
      "('Création de la personne qui part de', 570, 855, 'pour aller à', 0, 1023)\n",
      "('Création de la personne qui part de', 749, 112, 'pour aller à', 1023, 0)\n",
      "('Création de la personne qui part de', 306, 878, 'pour aller à', 0, 0)\n",
      "('Création de la personne qui part de', 735, 447, 'pour aller à', 0, 0)\n",
      "('Personne non créée, la place est occupée', 55, 207)\n",
      "('Création de la personne qui part de', 657, 637, 'pour aller à', 1023, 1023)\n",
      "('Création de la personne qui part de', 497, 149, 'pour aller à', 1023, 0)\n",
      "('Création de la personne qui part de', 239, 663, 'pour aller à', 0, 1023)\n",
      "('Création de la personne qui part de', 561, 638, 'pour aller à', 1023, 1023)\n",
      "('Création de la personne qui part de', 172, 891, 'pour aller à', 0, 0)\n",
      "('Création de la personne qui part de', 537, 64, 'pour aller à', 0, 0)\n",
      "('Création de la personne qui part de', 561, 669, 'pour aller à', 0, 0)\n",
      "('Création de la personne qui part de', 438, 884, 'pour aller à', 0, 1023)\n",
      "('Création de la personne qui part de', 488, 945, 'pour aller à', 1023, 0)\n",
      "('Création de la personne qui part de', 828, 960, 'pour aller à', 1023, 0)\n",
      "('Création de la personne qui part de', 568, 527, 'pour aller à', 1023, 0)\n",
      "('Personne non créée, la place est occupée', 340, 389)\n",
      "('Création de la personne qui part de', 134, 169, 'pour aller à', 0, 0)\n",
      "('Création de la personne qui part de', 903, 646, 'pour aller à', 1023, 1023)\n",
      "('Création de la personne qui part de', 375, 841, 'pour aller à', 0, 0)\n",
      "('Création de la personne qui part de', 207, 801, 'pour aller à', 1023, 1023)\n",
      "('Création de la personne qui part de', 720, 554, 'pour aller à', 1023, 1023)\n",
      "('Création de la personne qui part de', 669, 505, 'pour aller à', 1023, 1023)\n",
      "('Création de la personne qui part de', 598, 262, 'pour aller à', 1023, 1023)\n",
      "('Création de la personne qui part de', 821, 4, 'pour aller à', 1023, 0)\n",
      "('Création de la personne qui part de', 627, 637, 'pour aller à', 1023, 1023)\n",
      "('Création de la personne qui part de', 1001, 297, 'pour aller à', 0, 1023)\n",
      "('Création de la personne qui part de', 319, 837, 'pour aller à', 1023, 1023)\n",
      "('Création de la personne qui part de', 791, 120, 'pour aller à', 1023, 1023)\n",
      "('Création de la personne qui part de', 189, 395, 'pour aller à', 0, 1023)\n",
      "('Création de la personne qui part de', 350, 820, 'pour aller à', 0, 1023)\n",
      "('Création de la personne qui part de', 902, 828, 'pour aller à', 0, 1023)\n",
      "('Création de la personne qui part de', 348, 474, 'pour aller à', 0, 0)\n",
      "('Création de la personne qui part de', 680, 573, 'pour aller à', 0, 0)\n",
      "('Création de la personne qui part de', 138, 113, 'pour aller à', 0, 0)\n",
      "('Création de la personne qui part de', 981, 893, 'pour aller à', 1023, 1023)\n",
      "('Création de la personne qui part de', 684, 801, 'pour aller à', 0, 0)\n",
      "('Création de la personne qui part de', 998, 533, 'pour aller à', 0, 1023)\n",
      "('Création de la personne qui part de', 689, 801, 'pour aller à', 1023, 0)\n",
      "('Création de la personne qui part de', 88, 685, 'pour aller à', 0, 0)\n",
      "('Création de la personne qui part de', 812, 397, 'pour aller à', 0, 1023)\n",
      "('Création de la personne qui part de', 60, 870, 'pour aller à', 0, 0)\n",
      "('Création de la personne qui part de', 678, 303, 'pour aller à', 0, 0)\n",
      "('Création de la personne qui part de', 512, 583, 'pour aller à', 1023, 0)\n",
      "('Création de la personne qui part de', 251, 910, 'pour aller à', 1023, 1023)\n",
      "('Création de la personne qui part de', 816, 22, 'pour aller à', 1023, 1023)\n",
      "('Création de la personne qui part de', 776, 840, 'pour aller à', 1023, 1023)\n",
      "('Création de la personne qui part de', 176, 924, 'pour aller à', 1023, 0)\n",
      "('Création de la personne qui part de', 815, 786, 'pour aller à', 1023, 0)\n",
      "('Création de la personne qui part de', 136, 742, 'pour aller à', 1023, 1023)\n",
      "('Création de la personne qui part de', 885, 148, 'pour aller à', 1023, 0)\n",
      "('Création de la personne qui part de', 326, 488, 'pour aller à', 1023, 1023)\n",
      "('Création de la personne qui part de', 771, 945, 'pour aller à', 0, 0)\n",
      "('Création de la personne qui part de', 143, 401, 'pour aller à', 0, 1023)\n",
      "('Personne non créée, la place est occupée', 226, 299)\n",
      "('Création de la personne qui part de', 297, 560, 'pour aller à', 0, 0)\n",
      "('Création de la personne qui part de', 564, 21, 'pour aller à', 1023, 1023)\n",
      "('Création de la personne qui part de', 307, 176, 'pour aller à', 0, 0)\n",
      "('Création de la personne qui part de', 984, 166, 'pour aller à', 1023, 1023)\n",
      "('Création de la personne qui part de', 892, 991, 'pour aller à', 0, 0)\n",
      "('Création de la personne qui part de', 606, 264, 'pour aller à', 1023, 1023)\n",
      "('Création de la personne qui part de', 223, 763, 'pour aller à', 1023, 1023)\n",
      "('Création de la personne qui part de', 463, 199, 'pour aller à', 0, 0)\n",
      "('Création de la personne qui part de', 1013, 880, 'pour aller à', 1023, 1023)\n",
      "('Création de la personne qui part de', 335, 924, 'pour aller à', 1023, 0)\n",
      "('Création de la personne qui part de', 74, 475, 'pour aller à', 1023, 1023)\n",
      "('Création de la personne qui part de', 549, 342, 'pour aller à', 0, 0)\n",
      "('Création de la personne qui part de', 812, 63, 'pour aller à', 0, 1023)\n",
      "('Création de la personne qui part de', 429, 987, 'pour aller à', 0, 0)\n",
      "('Création de la personne qui part de', 380, 616, 'pour aller à', 0, 1023)\n",
      "('Création de la personne qui part de', 930, 530, 'pour aller à', 1023, 0)\n",
      "('Création de la personne qui part de', 181, 18, 'pour aller à', 0, 0)\n",
      "('Création de la personne qui part de', 886, 661, 'pour aller à', 0, 1023)\n",
      "('Création de la personne qui part de', 289, 214, 'pour aller à', 0, 1023)\n",
      "('Création de la personne qui part de', 321, 517, 'pour aller à', 0, 0)\n",
      "('Création de la personne qui part de', 11, 1019, 'pour aller à', 1023, 1023)\n",
      "('Personne non créée, la place est occupée', 225, 310)\n",
      "('Création de la personne qui part de', 954, 981, 'pour aller à', 0, 1023)\n",
      "('Création de la personne qui part de', 658, 476, 'pour aller à', 1023, 0)\n",
      "('Création de la personne qui part de', 787, 609, 'pour aller à', 1023, 0)\n",
      "('Création de la personne qui part de', 187, 649, 'pour aller à', 1023, 0)\n",
      "('Création de la personne qui part de', 1007, 910, 'pour aller à', 0, 0)\n",
      "('Création de la personne qui part de', 1008, 406, 'pour aller à', 1023, 1023)\n",
      "('Création de la personne qui part de', 402, 224, 'pour aller à', 0, 1023)\n",
      "('Création de la personne qui part de', 320, 641, 'pour aller à', 0, 1023)\n",
      "('Création de la personne qui part de', 171, 820, 'pour aller à', 1023, 1023)\n",
      "('Création de la personne qui part de', 551, 824, 'pour aller à', 0, 1023)\n",
      "('Création de la personne qui part de', 494, 930, 'pour aller à', 1023, 0)\n",
      "('Création de la personne qui part de', 847, 130, 'pour aller à', 0, 0)\n",
      "('Création de la personne qui part de', 628, 218, 'pour aller à', 1023, 1023)\n",
      "('Création de la personne qui part de', 871, 822, 'pour aller à', 1023, 0)\n",
      "('Création de la personne qui part de', 289, 862, 'pour aller à', 0, 0)\n",
      "('Création de la personne qui part de', 719, 247, 'pour aller à', 0, 1023)\n",
      "('Création de la personne qui part de', 753, 726, 'pour aller à', 0, 0)\n",
      "('Création de la personne qui part de', 576, 528, 'pour aller à', 1023, 1023)\n",
      "('Création de la personne qui part de', 653, 172, 'pour aller à', 1023, 1023)\n",
      "('Création de la personne qui part de', 590, 547, 'pour aller à', 1023, 1023)\n",
      "('Création de la personne qui part de', 607, 800, 'pour aller à', 1023, 0)\n",
      "('Création de la personne qui part de', 646, 566, 'pour aller à', 0, 0)\n",
      "('Création de la personne qui part de', 523, 864, 'pour aller à', 1023, 0)\n",
      "('Création de la personne qui part de', 953, 268, 'pour aller à', 0, 1023)\n",
      "('Création de la personne qui part de', 323, 201, 'pour aller à', 1023, 1023)\n",
      "('Création de la personne qui part de', 22, 999, 'pour aller à', 1023, 1023)\n",
      "('Création de la personne qui part de', 353, 718, 'pour aller à', 0, 1023)\n",
      "('Création de la personne qui part de', 221, 792, 'pour aller à', 0, 1023)\n",
      "('Création de la personne qui part de', 997, 726, 'pour aller à', 0, 0)\n",
      "('Création de la personne qui part de', 493, 396, 'pour aller à', 0, 1023)\n",
      "('Création de la personne qui part de', 979, 62, 'pour aller à', 1023, 1023)\n",
      "('Création de la personne qui part de', 257, 990, 'pour aller à', 0, 0)\n",
      "('Personne non créée, la place est occupée', 528, 46)\n",
      "('Création de la personne qui part de', 150, 77, 'pour aller à', 1023, 0)\n",
      "('Création de la personne qui part de', 492, 235, 'pour aller à', 1023, 0)\n",
      "('Création de la personne qui part de', 888, 1013, 'pour aller à', 0, 1023)\n",
      "('Création de la personne qui part de', 837, 933, 'pour aller à', 1023, 1023)\n",
      "('Création de la personne qui part de', 286, 46, 'pour aller à', 0, 0)\n",
      "('Création de la personne qui part de', 779, 492, 'pour aller à', 0, 1023)\n",
      "('Création de la personne qui part de', 700, 825, 'pour aller à', 0, 0)\n",
      "('Création de la personne qui part de', 101, 925, 'pour aller à', 1023, 1023)\n",
      "('Création de la personne qui part de', 860, 356, 'pour aller à', 0, 0)\n",
      "('Création de la personne qui part de', 908, 97, 'pour aller à', 0, 1023)\n",
      "('Création de la personne qui part de', 735, 854, 'pour aller à', 1023, 1023)\n",
      "('Création de la personne qui part de', 700, 195, 'pour aller à', 0, 1023)\n",
      "('Création de la personne qui part de', 704, 840, 'pour aller à', 1023, 0)\n",
      "('Création de la personne qui part de', 480, 171, 'pour aller à', 0, 1023)\n",
      "('Création de la personne qui part de', 388, 415, 'pour aller à', 1023, 0)\n",
      "('Création de la personne qui part de', 932, 675, 'pour aller à', 0, 1023)\n",
      "('Création de la personne qui part de', 399, 534, 'pour aller à', 0, 1023)\n",
      "('Création de la personne qui part de', 943, 541, 'pour aller à', 0, 1023)\n",
      "('Création de la personne qui part de', 302, 461, 'pour aller à', 1023, 1023)\n",
      "('Création de la personne qui part de', 634, 102, 'pour aller à', 0, 1023)\n",
      "('Création de la personne qui part de', 117, 8, 'pour aller à', 1023, 1023)\n",
      "('Création de la personne qui part de', 113, 617, 'pour aller à', 0, 1023)\n",
      "('Création de la personne qui part de', 953, 826, 'pour aller à', 0, 0)\n",
      "('Création de la personne qui part de', 894, 633, 'pour aller à', 0, 0)\n",
      "('Création de la personne qui part de', 208, 628, 'pour aller à', 1023, 0)\n",
      "('Création de la personne qui part de', 772, 548, 'pour aller à', 1023, 0)\n",
      "('Création de la personne qui part de', 147, 1020, 'pour aller à', 1023, 1023)\n",
      "('Création de la personne qui part de', 930, 386, 'pour aller à', 0, 0)\n",
      "('Création de la personne qui part de', 155, 370, 'pour aller à', 1023, 1023)\n",
      "('Création de la personne qui part de', 672, 697, 'pour aller à', 1023, 1023)\n",
      "('Création de la personne qui part de', 944, 399, 'pour aller à', 1023, 0)\n",
      "('Création de la personne qui part de', 773, 49, 'pour aller à', 0, 1023)\n",
      "('Création de la personne qui part de', 810, 542, 'pour aller à', 1023, 1023)\n",
      "('Création de la personne qui part de', 928, 434, 'pour aller à', 0, 0)\n",
      "('Création de la personne qui part de', 812, 822, 'pour aller à', 1023, 0)\n",
      "('Création de la personne qui part de', 802, 5, 'pour aller à', 0, 1023)\n",
      "('Création de la personne qui part de', 512, 745, 'pour aller à', 0, 0)\n",
      "('Création de la personne qui part de', 824, 10, 'pour aller à', 1023, 0)\n",
      "('Création de la personne qui part de', 1000, 453, 'pour aller à', 0, 0)\n",
      "('Création de la personne qui part de', 113, 359, 'pour aller à', 0, 0)\n",
      "('Création de la personne qui part de', 647, 916, 'pour aller à', 1023, 1023)\n",
      "('Création de la personne qui part de', 381, 605, 'pour aller à', 0, 0)\n",
      "('Création de la personne qui part de', 531, 471, 'pour aller à', 1023, 0)\n",
      "('Création de la personne qui part de', 810, 939, 'pour aller à', 0, 1023)\n",
      "('Création de la personne qui part de', 951, 55, 'pour aller à', 1023, 1023)\n",
      "('Création de la personne qui part de', 484, 132, 'pour aller à', 0, 1023)\n",
      "('Création de la personne qui part de', 84, 532, 'pour aller à', 0, 1023)\n",
      "('Création de la personne qui part de', 979, 799, 'pour aller à', 1023, 1023)\n",
      "('Création de la personne qui part de', 630, 801, 'pour aller à', 1023, 1023)\n",
      "('Personne non créée, la place est occupée', 271, 310)\n",
      "('Création de la personne qui part de', 522, 698, 'pour aller à', 0, 1023)\n",
      "('Création de la personne qui part de', 36, 84, 'pour aller à', 1023, 1023)\n",
      "('Création de la personne qui part de', 802, 474, 'pour aller à', 1023, 0)\n",
      "('Création de la personne qui part de', 766, 678, 'pour aller à', 0, 0)\n",
      "('Création de la personne qui part de', 914, 247, 'pour aller à', 0, 0)\n",
      "('Création de la personne qui part de', 924, 938, 'pour aller à', 1023, 0)\n",
      "('Création de la personne qui part de', 648, 629, 'pour aller à', 1023, 0)\n",
      "('Création de la personne qui part de', 888, 665, 'pour aller à', 1023, 0)\n",
      "('Création de la personne qui part de', 370, 616, 'pour aller à', 0, 0)\n",
      "('Création de la personne qui part de', 863, 207, 'pour aller à', 0, 1023)\n",
      "('Création de la personne qui part de', 236, 766, 'pour aller à', 1023, 1023)\n",
      "('Création de la personne qui part de', 98, 408, 'pour aller à', 0, 0)\n",
      "('Création de la personne qui part de', 755, 992, 'pour aller à', 1023, 1023)\n",
      "('Création de la personne qui part de', 797, 69, 'pour aller à', 0, 1023)\n",
      "('Création de la personne qui part de', 228, 938, 'pour aller à', 1023, 1023)\n",
      "('Création de la personne qui part de', 53, 778, 'pour aller à', 1023, 1023)\n",
      "('Personne non créée, la place est occupée', 253, 413)\n",
      "('Création de la personne qui part de', 856, 466, 'pour aller à', 1023, 0)\n",
      "('Création de la personne qui part de', 970, 260, 'pour aller à', 1023, 1023)\n",
      "('Création de la personne qui part de', 383, 92, 'pour aller à', 0, 1023)\n",
      "('Création de la personne qui part de', 580, 373, 'pour aller à', 1023, 0)\n",
      "('Création de la personne qui part de', 148, 294, 'pour aller à', 1023, 1023)\n",
      "('Création de la personne qui part de', 438, 750, 'pour aller à', 1023, 0)\n",
      "('Création de la personne qui part de', 356, 650, 'pour aller à', 0, 1023)\n",
      "('Création de la personne qui part de', 826, 329, 'pour aller à', 1023, 0)\n",
      "('Création de la personne qui part de', 594, 763, 'pour aller à', 1023, 1023)\n",
      "('Création de la personne qui part de', 546, 159, 'pour aller à', 1023, 0)\n",
      "('Création de la personne qui part de', 778, 221, 'pour aller à', 1023, 1023)\n",
      "('Création de la personne qui part de', 966, 101, 'pour aller à', 0, 0)\n",
      "('Création de la personne qui part de', 417, 330, 'pour aller à', 1023, 0)\n",
      "('Création de la personne qui part de', 965, 598, 'pour aller à', 0, 0)\n",
      "('Création de la personne qui part de', 711, 245, 'pour aller à', 1023, 1023)\n",
      "('Création de la personne qui part de', 180, 124, 'pour aller à', 1023, 0)\n",
      "('Création de la personne qui part de', 203, 99, 'pour aller à', 1023, 1023)\n",
      "('Création de la personne qui part de', 117, 624, 'pour aller à', 0, 1023)\n",
      "('Création de la personne qui part de', 44, 208, 'pour aller à', 0, 1023)\n",
      "('Création de la personne qui part de', 822, 292, 'pour aller à', 0, 1023)\n",
      "('Création de la personne qui part de', 169, 311, 'pour aller à', 0, 1023)\n",
      "('Création de la personne qui part de', 69, 777, 'pour aller à', 1023, 0)\n",
      "('Création de la personne qui part de', 250, 811, 'pour aller à', 1023, 1023)\n",
      "('Création de la personne qui part de', 230, 1018, 'pour aller à', 0, 1023)\n",
      "('Personne non créée, la place est occupée', 471, 570)\n",
      "('Création de la personne qui part de', 2, 652, 'pour aller à', 0, 0)\n",
      "('Création de la personne qui part de', 659, 663, 'pour aller à', 0, 1023)\n",
      "('Création de la personne qui part de', 840, 979, 'pour aller à', 1023, 1023)\n",
      "('Création de la personne qui part de', 20, 445, 'pour aller à', 0, 1023)\n",
      "('Création de la personne qui part de', 525, 697, 'pour aller à', 0, 0)\n",
      "('Création de la personne qui part de', 993, 326, 'pour aller à', 1023, 0)\n",
      "('Création de la personne qui part de', 36, 996, 'pour aller à', 0, 0)\n",
      "('Création de la personne qui part de', 153, 269, 'pour aller à', 0, 1023)\n",
      "('Création de la personne qui part de', 758, 611, 'pour aller à', 1023, 1023)\n",
      "('Création de la personne qui part de', 852, 632, 'pour aller à', 1023, 0)\n",
      "('Personne non créée, la place est occupée', 232, 369)\n",
      "('Création de la personne qui part de', 587, 826, 'pour aller à', 0, 0)\n",
      "('Création de la personne qui part de', 1000, 619, 'pour aller à', 0, 1023)\n",
      "('Création de la personne qui part de', 38, 629, 'pour aller à', 1023, 0)\n",
      "('Création de la personne qui part de', 455, 715, 'pour aller à', 0, 0)\n",
      "('Création de la personne qui part de', 435, 288, 'pour aller à', 0, 1023)\n",
      "('Création de la personne qui part de', 818, 879, 'pour aller à', 0, 0)\n",
      "('Création de la personne qui part de', 751, 659, 'pour aller à', 1023, 1023)\n",
      "('Création de la personne qui part de', 924, 950, 'pour aller à', 0, 0)\n",
      "('Création de la personne qui part de', 540, 126, 'pour aller à', 1023, 0)\n",
      "('Création de la personne qui part de', 356, 114, 'pour aller à', 0, 0)\n",
      "('Création de la personne qui part de', 461, 221, 'pour aller à', 0, 1023)\n",
      "('Création de la personne qui part de', 794, 509, 'pour aller à', 1023, 0)\n",
      "('Création de la personne qui part de', 708, 499, 'pour aller à', 0, 0)\n",
      "('Création de la personne qui part de', 489, 5, 'pour aller à', 0, 0)\n",
      "('Personne non créée, la place est occupée', 289, 400)\n",
      "('Création de la personne qui part de', 799, 231, 'pour aller à', 1023, 0)\n",
      "('Création de la personne qui part de', 482, 511, 'pour aller à', 0, 1023)\n",
      "('Création de la personne qui part de', 609, 838, 'pour aller à', 0, 0)\n",
      "('Création de la personne qui part de', 160, 84, 'pour aller à', 0, 1023)\n",
      "('Création de la personne qui part de', 457, 369, 'pour aller à', 0, 1023)\n",
      "('Création de la personne qui part de', 726, 321, 'pour aller à', 1023, 0)\n",
      "('Création de la personne qui part de', 432, 249, 'pour aller à', 0, 0)\n",
      "('Création de la personne qui part de', 954, 858, 'pour aller à', 0, 1023)\n",
      "('Création de la personne qui part de', 570, 580, 'pour aller à', 1023, 0)\n",
      "(1024, 'personnes ont été créées')\n"
     ]
    }
   ],
   "source": [
    "# La grille contient 2^10 personnes\n",
    "nb_person = np.power(2,10)\n",
    "\n",
    "coordonnee = np.zeros((2,1), dtype=np.int)\n",
    "sortie = np.zeros((2,1), dtype=np.int)\n",
    "while len(grid.personneList)<nb_person:\n",
    "    coordonnee[0] = np.random.randint(1,X)\n",
    "    coordonnee[1] = np.random.randint(1,Y)\n",
    "    sortie[0] = (X-1)*np.random.randint(2)\n",
    "    sortie[1] = (Y-1)*np.random.randint(2)\n",
    "    Personne(grid, int(coordonnee[0]), int(coordonnee[1]), int(sortie[0]), int(sortie[1]), debug)\n",
    "    \n",
    "debug.affiche(len(grid.personneList), \"personnes ont été créées\")"
   ]
  },
  {
   "cell_type": "code",
   "execution_count": 82,
   "metadata": {
    "id": "i01XPW0qgNyg"
   },
   "outputs": [],
   "source": [
    "# Sauvegarde de l'objet grille\n",
    "grid.Save(grande_grille)"
   ]
  },
  {
   "cell_type": "code",
   "execution_count": 83,
   "metadata": {
    "id": "dc1weFTcgNys"
   },
   "outputs": [],
   "source": [
    "# Affichage de la grille créée\n",
    "if UI==affichage.OpenCV:\n",
    "    cv2.imshow(\"img\", createImage(grid.map))\n",
    "    cv2.waitKey(5000) # Affichage pendant 5 secondes\n",
    "    cv2.destroyAllWindows()"
   ]
  },
  {
   "cell_type": "markdown",
   "metadata": {
    "id": "WH5y3I6DgNzH"
   },
   "source": [
    "## Solution itérative\n",
    "\n",
    "Chaque personne doit rejoindre sa case de sortie. Le code est fourni à titre d'exemple. Il est malheureusement incomplet car si une personne ne peut pas rejoindre sa case de sortie alors la simulation ne s'arrête pas.\n",
    "\n",
    "Si vous avez besoin de modifier les classes proposées. Il suffit de construire par héritage la nouvelle classe qui doit porter le même nom que la classe parente suffixé par \\_1 ou \\_2 ou \\_3 selon l'étape du projet, et de surcharger les méthodes qui doivent l'être.\n",
    "\n",
    "Les cellules suivantes donnent des exemples d'utilisation des primitives précédemment écrites."
   ]
  },
  {
   "cell_type": "markdown",
   "metadata": {
    "id": "TR8LPPi0gNzI"
   },
   "source": [
    "### Avec trace mais sans visualisation"
   ]
  },
  {
   "cell_type": "code",
   "execution_count": 84,
   "metadata": {
    "colab": {
     "base_uri": "https://localhost:8080/"
    },
    "id": "LnP_af4dgNzJ",
    "outputId": "8f5f956f-0e29-43dd-b0ef-314664ab01a0"
   },
   "outputs": [
    {
     "name": "stdout",
     "output_type": "stream",
     "text": [
      "('Ouverture du fichier', '/content/drive/My Drive/Colab Notebooks/rendu 3/maps/map-initial.txt')\n",
      "('Simulation pour une grille:', 10, '*', 10)\n",
      "(\"Initilisation de l'objet grille\",)\n",
      "('obstacle non créé', ['-1', '-1', '-1', '-1'])\n",
      "(\"Création de l'obstacle (\", 1, 1, ') - (', 2, 7, ')')\n",
      "(\"Création de l'obstacle (\", 1, 7, ') - (', 8, 8, ')')\n",
      "(2, 'obstacles ont été créés')\n",
      "('Création de la personne qui part de', 2, 2, 'pour aller à', 0, 0)\n",
      "(1, 'personnes ont été créées')\n",
      "********************\n",
      "Début de la simulation\n",
      "('La personne (', 2, 2, ') peut se déplacer sur :', [(3, 2, 1)])\n",
      "('Déplacement de la personne de (', 2, 2, ') à (', 2, 1, ')')\n",
      "('La personne (', 2, 1, ') peut se déplacer sur :', [(2, 1, 1), (2, 2, 0)])\n",
      "('Déplacement de la personne de (', 2, 1, ') à (', 1, 1, ')')\n",
      "('La personne (', 1, 1, ') peut se déplacer sur :', [(1, 0, 1), (1, 1, 0)])\n",
      "('Déplacement de la personne de (', 1, 1, ') à (', 0, 1, ')')\n",
      "('La personne (', 0, 1, ') peut se déplacer sur :', [(0, 0, 0)])\n",
      "('Déplacement de la personne de (', 0, 1, ') à (', 0, 0, ')')\n",
      "('Une personne vient de sortir, il reste', 0, 'personnes')\n"
     ]
    }
   ],
   "source": [
    "# En mode debug avec 1 personne, sans UI\n",
    "debug = Debug(True)\n",
    "\n",
    "file = open_file(petite_grille, debug)  # On ouvre le fichier\n",
    "X, Y = read_grid_size(file, debug) # On lit la taille\n",
    "grid = Grille(X, Y, affichage.Aucun, debug)     # On créée l'objet grille\n",
    "read_obstacles(file, grid, Obstacle, debug)  # On lit et positionne les obstacles\n",
    "read_personnes(file, grid, Personne, 1, debug) # On lit et positionne une seule personne\n",
    "print(\"*\"*20)\n",
    "print(\"Début de la simulation\")\n",
    "grid.Simulation()"
   ]
  },
  {
   "cell_type": "markdown",
   "metadata": {
    "id": "Sq1BRZZagNzT"
   },
   "source": [
    "### Visualisation de chacune des itérations avec Matplotlib"
   ]
  },
  {
   "cell_type": "code",
   "execution_count": 85,
   "metadata": {
    "colab": {
     "base_uri": "https://localhost:8080/",
     "height": 0
    },
    "id": "m1ukyCAugNzZ",
    "outputId": "8fc987f4-1c3e-4702-d115-a01e723e1f5c",
    "scrolled": true
   },
   "outputs": [
    {
     "data": {
      "image/png": "[encoded data removed]",
      "text/plain": [
       "<Figure size 432x288 with 1 Axes>"
      ]
     },
     "metadata": {
      "needs_background": "light",
      "tags": []
     },
     "output_type": "display_data"
    },
    {
     "data": {
      "image/png": "[encoded data removed]",
      "text/plain": [
       "<Figure size 432x288 with 1 Axes>"
      ]
     },
     "metadata": {
      "needs_background": "light",
      "tags": []
     },
     "output_type": "display_data"
    },
    {
     "data": {
      "image/png": "[encoded data removed]",
      "text/plain": [
       "<Figure size 432x288 with 1 Axes>"
      ]
     },
     "metadata": {
      "needs_background": "light",
      "tags": []
     },
     "output_type": "display_data"
    },
    {
     "data": {
      "image/png": "[encoded data removed]",
      "text/plain": [
       "<Figure size 432x288 with 1 Axes>"
      ]
     },
     "metadata": {
      "needs_background": "light",
      "tags": []
     },
     "output_type": "display_data"
    },
    {
     "data": {
      "image/png": "[encoded data removed]",
      "text/plain": [
       "<Figure size 432x288 with 1 Axes>"
      ]
     },
     "metadata": {
      "needs_background": "light",
      "tags": []
     },
     "output_type": "display_data"
    },
    {
     "data": {
      "image/png": "[encoded data removed]",
      "text/plain": [
       "<Figure size 432x288 with 1 Axes>"
      ]
     },
     "metadata": {
      "needs_background": "light",
      "tags": []
     },
     "output_type": "display_data"
    }
   ],
   "source": [
    "for img in grid.mapList:\n",
    "    plt.imshow(img, cmap='Paired', vmin=0, vmax=5)\n",
    "    plt.show()"
   ]
  },
  {
   "cell_type": "markdown",
   "metadata": {
    "id": "-VpaBhfngNzu"
   },
   "source": [
    "### Visualisation de chacune des itérations avec OpenCV"
   ]
  },
  {
   "cell_type": "code",
   "execution_count": 86,
   "metadata": {
    "id": "mCJLVGi1gNzx"
   },
   "outputs": [],
   "source": [
    "if UI==affichage.OpenCV:\n",
    "    for image in grid.mapList:\n",
    "        cv2.imshow(\"img\", createImage(image))\n",
    "        cv2.waitKey(500) # Wait for 0.5 second\n",
    "    cv2.destroyAllWindows()"
   ]
  },
  {
   "cell_type": "markdown",
   "metadata": {
    "id": "yCh1-HwYgNz_"
   },
   "source": [
    "### Sans trace mais avec visualisation"
   ]
  },
  {
   "cell_type": "code",
   "execution_count": 87,
   "metadata": {
    "id": "8Uf1sWkEgN0C"
   },
   "outputs": [],
   "source": [
    "# En mode sans trace avec 1 personne mais avec UI\n",
    "if UI==affichage.OpenCV:\n",
    "    debug = Debug(False)\n",
    "    file = open_file(petite_grille, debug)  # On ouvre le fichier\n",
    "    X, Y = read_grid_size(file, debug) # On lit la taille\n",
    "    grid = Grille(X, Y, affichage.OpenCV, debug)     # On créée l'objet grille\n",
    "    read_obstacles(file, grid, Obstacle, debug)  # On lit et positionne les obstacles\n",
    "    read_personnes(file, grid, Personne, 1, debug) # On lit et positionne une seule personne\n",
    "    grid.Simulation()"
   ]
  },
  {
   "cell_type": "markdown",
   "metadata": {
    "id": "77lVN_SegN0H"
   },
   "source": [
    "## <span style=\"color:red\">Votre travail</span>\n",
    "\n",
    "Mettre en oeuvre plusieurs version du simulateur :\n",
    "1. Version itérative : un seul flot d'exécution. Celui-ci est presque terminé, il faut reste à trouver une manière la plus judicieuse possible pour résoudre le problème des personnes bloquées par un obsatacle sans modifier le comportement d'une personne.\n",
    "1. Version un flot d'exécution par personne. Attention a bien protéger par une section critique tout accès à une ressource concurrente que ce soit une trace d'exécution en mode debug ou une ressource partagée. On fera attention a reduire dans la mesure du possible la portée d'une section critique\n",
    "1. Version un flot d'exécution pour un quard de la grille. Une personne de coordonnée X, Y sera gérée par le flot d'exécution numéro $i = 2* (Y//(Ymax//2)) + X//(Xmax//2)$.\n",
    "\n",
    "Vous construirez ces différentes versions en créant si nécessaire des sous-classes aux classes existantes.\n",
    "\n"
   ]
  },
  {
   "cell_type": "markdown",
   "metadata": {
    "id": "J824gJ_9gN0I"
   },
   "source": [
    "Bien évidemment, on attend une étude comparative des différentes approches. Pour vous aider dans l'analyse des solutions qui doivent être décrites vous utiliserez un nombre variable de personnes. Pour cela, vous adapterez le code suivant afin de pouvoir mesurer l'évolution du temps d'exécution en fonction du nombre de personnes présentes sur la grille et comparer les temps d'exécution entre les scénarios\n",
    "<code>\n",
    "debug = Debug(False)\n",
    "\n",
    "duration_i = []  # i est le numéro du scénario\n",
    "nb_personnes = []\n",
    "for i in range(11):\n",
    "    nb_personnes += [np.power(2, i)]\n",
    "    print(\"*\"*30)\n",
    "    print(\"pour\", nb_personnes[-1], \"personnes\")\n",
    "\n",
    "    file = open_file(grande_grille, debug)  # On ouvre le fichier\n",
    "    X, Y = read_grid_size(file, debug) # On lit la taille\n",
    "    debug.affiche(\"simulation pour une grille:\", X, Y)\n",
    "    grid = Grille(X, Y, debug)     # On créée l'objet grille\n",
    "    read_obstacles(file, grid, Obstacle, debug)  # On lit et positionne les obstacles\n",
    "    read_personnes(file, grid, Personne, nb_personnes[-1], debug) # On lit et positionne le nombre de personne souhaité seule personne\n",
    "    debug.affiche(\"nbre de personnes\", len(grid.personneList))\n",
    "    \n",
    "    start = time.time()\n",
    "    grid.Simulation(debug)\n",
    "    end = time.time()\n",
    "    duration_i += [end-start]\n",
    "    print(\"La simulation a duré\", duration1[-1], \"secondes\")\n",
    "    print(\"Il restait\", XXXXX, \"personnes immobiles\")<code>"
   ]
  },
  {
   "cell_type": "markdown",
   "metadata": {
    "id": "gNlSsNpIgN0J"
   },
   "source": [
    "Vous ferez un plot de l'évolution des temps d'exécution\n",
    "<code>\n",
    "plt.plot(nb_personnes, duration_1, label=\"Une seule thread\")\n",
    "plt.plot(nb_personnes, duration_2, label=\"Une thread par personne\")\n",
    "plt.plot(nb_personnes, duration_2, label=\"Une thread par quard de terrain\")\n",
    "plt.xlabel(\"nombre de personnes\")\n",
    "plt.ylabel(\"temps en secondes\")\n",
    "plt.legend()\n",
    "plt.show()<code>"
   ]
  },
  {
   "cell_type": "markdown",
   "metadata": {
    "id": "TqjUyZG_gN0M"
   },
   "source": [
    "Vous calculerez les ratios entre les scénarios\n",
    "<code>\n",
    "ratio_2 = []\n",
    "ratio_3 = []\n",
    "for i,j,k in zip(duration_1, duration_2, duration_3):\n",
    "    ratio_2 += [j/i]\n",
    "    ratio_3 += [k/i]\n",
    "plt.plot(nb_personnes, ratio_2, label=\"...\")\n",
    "plt.plot(nb_personnes, ratio_3, label=\"...\")\n",
    "plt.xlabel(\"nombre de personnes\")\n",
    "plt.ylabel(\"...\")\n",
    "plt.legend()\n",
    "plt.show()<code>"
   ]
  },
  {
   "cell_type": "markdown",
   "metadata": {
    "id": "EnRRN3logN0N"
   },
   "source": [
    "Vous calculerez aussi le speedup (inverse du ratio précédent) et ferez un plot de celui-ci"
   ]
  },
  {
   "cell_type": "markdown",
   "metadata": {
    "id": "aDWwDPFsgN0V"
   },
   "source": [
    "## Scénario 1 - version itérative"
   ]
  },
  {
   "cell_type": "code",
   "execution_count": 88,
   "metadata": {
    "id": "9E7R4gVggN0W"
   },
   "outputs": [],
   "source": [
    "class Grille_1(Grille):\n",
    "    def __init__(self, Xmax, Ymax, UI, debug):\n",
    "        Grille.__init__(self,Xmax,Ymax,UI,debug)\n",
    "        self.personneSuppriemList=[]\n",
    "   \n",
    "    def Simulation(self,debug):\n",
    "        if debug.debug or self.UI==affichage.OpenCV:\n",
    "            self.mapList.append(copy.copy(self.map))\n",
    "        if self.UI==affichage.OpenCV:\n",
    "            cv2.imshow(\"img\", createImage(self.map))\n",
    "            cv2.waitKey(500)\n",
    "    \n",
    "        while len(self.personneList)>0: \n",
    "            nb_pers_immobile=0 \n",
    "            for personne in self.personneList:\n",
    "                end, immobile = personne.deplacePersonne(self, debug)\n",
    "                if immobile:\n",
    "                    nb_pers_immobile+=1 # On compte le nombre de personnes immobile\n",
    "                if end:\n",
    "                    debug.affiche(\"Une personne vient de sortir, il reste\", len(self.personneList), \"personnes\")\n",
    "            if nb_pers_immobile==len(self.personneList): # S'il y a autant de personne bloqué que de personnes sur la grille, au moins une personne est bloqué\n",
    "                                                        # par un obstacle\n",
    "                self.personneSuppriemList=self.personneList\n",
    "                self.personneList.clear()\n",
    "            if debug.debug or self.UI==affichage.OpenCV:\n",
    "                self.mapList.append(copy.copy(self.map))\n",
    "                if self.UI==affichage.OpenCV:\n",
    "                    cv2.imshow(\"img\", createImage(self.map))\n",
    "                    cv2.waitKey(500)\n",
    "    \n",
    "        if self.UI==affichage.OpenCV:\n",
    "            cv2.destroyAllWindows()"
   ]
  },
  {
   "cell_type": "code",
   "execution_count": 89,
   "metadata": {
    "colab": {
     "base_uri": "https://localhost:8080/",
     "height": 1000
    },
    "id": "mePFfPf2gN0e",
    "outputId": "421b9df1-46ac-48c5-e06b-1a4aad5beb90"
   },
   "outputs": [
    {
     "name": "stdout",
     "output_type": "stream",
     "text": [
      "('Ouverture du fichier', '/content/drive/My Drive/Colab Notebooks/rendu 3/maps/map-initial.txt')\n",
      "('Simulation pour une grille:', 10, '*', 10)\n",
      "(\"Initilisation de l'objet grille\",)\n",
      "('obstacle non créé', ['-1', '-1', '-1', '-1'])\n",
      "(\"Création de l'obstacle (\", 1, 1, ') - (', 2, 7, ')')\n",
      "(\"Création de l'obstacle (\", 1, 7, ') - (', 8, 8, ')')\n",
      "(2, 'obstacles ont été créés')\n",
      "('Création de la personne qui part de', 2, 2, 'pour aller à', 0, 0)\n",
      "('Création de la personne qui part de', 3, 3, 'pour aller à', 0, 9)\n",
      "('Création de la personne qui part de', 6, 6, 'pour aller à', 9, 0)\n",
      "(3, 'personnes ont été créées')\n",
      "********************\n",
      "Début de la simulation\n",
      "('La personne (', 2, 2, ') peut se déplacer sur :', [(3, 2, 1)])\n",
      "('Déplacement de la personne de (', 2, 2, ') à (', 2, 1, ')')\n",
      "('La personne (', 3, 3, ') peut se déplacer sur :', [(8, 2, 3), (8, 3, 4)])\n",
      "('Déplacement de la personne de (', 3, 3, ') à (', 2, 3, ')')\n",
      "('La personne (', 6, 6, ') peut se déplacer sur :', [(8, 6, 5), (8, 7, 6)])\n",
      "('Déplacement de la personne de (', 6, 6, ') à (', 6, 5, ')')\n",
      "('La personne (', 2, 1, ') peut se déplacer sur :', [(2, 1, 1), (2, 2, 0)])\n",
      "('Déplacement de la personne de (', 2, 1, ') à (', 1, 1, ')')\n",
      "('La personne (', 2, 3, ') peut se déplacer sur :', [(7, 2, 4)])\n",
      "('Déplacement de la personne de (', 2, 3, ') à (', 2, 4, ')')\n",
      "('La personne (', 6, 5, ') peut se déplacer sur :', [(7, 6, 4), (7, 7, 5)])\n",
      "('Déplacement de la personne de (', 6, 5, ') à (', 6, 4, ')')\n",
      "('La personne (', 1, 1, ') peut se déplacer sur :', [(1, 0, 1), (1, 1, 0)])\n",
      "('Déplacement de la personne de (', 1, 1, ') à (', 0, 1, ')')\n",
      "('La personne (', 2, 4, ') peut se déplacer sur :', [(6, 2, 5)])\n",
      "('Déplacement de la personne de (', 2, 4, ') à (', 2, 5, ')')\n",
      "('La personne (', 6, 4, ') peut se déplacer sur :', [(6, 6, 3), (6, 7, 4)])\n",
      "('Déplacement de la personne de (', 6, 4, ') à (', 6, 3, ')')\n",
      "('La personne (', 0, 1, ') peut se déplacer sur :', [(0, 0, 0)])\n",
      "('Déplacement de la personne de (', 0, 1, ') à (', 0, 0, ')')\n",
      "('La personne (', 2, 5, ') peut se déplacer sur :', [(5, 2, 6)])\n",
      "('Déplacement de la personne de (', 2, 5, ') à (', 2, 6, ')')\n",
      "('La personne (', 6, 3, ') peut se déplacer sur :', [(5, 6, 2), (5, 7, 3)])\n",
      "('Déplacement de la personne de (', 6, 3, ') à (', 6, 2, ')')\n",
      "('Une personne vient de sortir, il reste', 2, 'personnes')\n",
      "('La personne (', 6, 2, ') peut se déplacer sur :', [(4, 6, 1), (4, 7, 2)])\n",
      "('Déplacement de la personne de (', 6, 2, ') à (', 6, 1, ')')\n",
      "('La personne (', 2, 6, ') peut se déplacer sur :', [(4, 2, 7)])\n",
      "('Déplacement de la personne de (', 2, 6, ') à (', 2, 7, ')')\n",
      "('La personne (', 6, 1, ') peut se déplacer sur :', [(3, 6, 0), (3, 7, 1)])\n",
      "('Déplacement de la personne de (', 6, 1, ') à (', 6, 0, ')')\n",
      "('La personne (', 2, 7, ') peut se déplacer sur :', [])\n",
      "('La personne (', 2, 7, 'ne peut pas se déplacer')\n",
      "('La personne (', 6, 0, ') peut se déplacer sur :', [(2, 7, 0)])\n",
      "('Déplacement de la personne de (', 6, 0, ') à (', 7, 0, ')')\n",
      "('La personne (', 2, 7, ') peut se déplacer sur :', [])\n",
      "('La personne (', 2, 7, 'ne peut pas se déplacer')\n",
      "('La personne (', 7, 0, ') peut se déplacer sur :', [(1, 8, 0)])\n",
      "('Déplacement de la personne de (', 7, 0, ') à (', 8, 0, ')')\n",
      "('La personne (', 2, 7, ') peut se déplacer sur :', [])\n",
      "('La personne (', 2, 7, 'ne peut pas se déplacer')\n",
      "('La personne (', 8, 0, ') peut se déplacer sur :', [(0, 9, 0)])\n",
      "('Déplacement de la personne de (', 8, 0, ') à (', 9, 0, ')')\n",
      "('La personne (', 2, 7, ') peut se déplacer sur :', [])\n",
      "('La personne (', 2, 7, 'ne peut pas se déplacer')\n",
      "('Une personne vient de sortir, il reste', 1, 'personnes')\n"
     ]
    },
    {
     "data": {
      "image/png": "[encoded data removed]",
      "text/plain": [
       "<Figure size 432x288 with 1 Axes>"
      ]
     },
     "metadata": {
      "needs_background": "light",
      "tags": []
     },
     "output_type": "display_data"
    },
    {
     "data": {
      "image/png": "[encoded data removed]",
      "text/plain": [
       "<Figure size 432x288 with 1 Axes>"
      ]
     },
     "metadata": {
      "needs_background": "light",
      "tags": []
     },
     "output_type": "display_data"
    },
    {
     "data": {
      "image/png": "[encoded data removed]",
      "text/plain": [
       "<Figure size 432x288 with 1 Axes>"
      ]
     },
     "metadata": {
      "needs_background": "light",
      "tags": []
     },
     "output_type": "display_data"
    },
    {
     "data": {
      "image/png": "[encoded data removed]",
      "text/plain": [
       "<Figure size 432x288 with 1 Axes>"
      ]
     },
     "metadata": {
      "needs_background": "light",
      "tags": []
     },
     "output_type": "display_data"
    },
    {
     "data": {
      "image/png": "[encoded data removed]",
      "text/plain": [
       "<Figure size 432x288 with 1 Axes>"
      ]
     },
     "metadata": {
      "needs_background": "light",
      "tags": []
     },
     "output_type": "display_data"
    },
    {
     "data": {
      "image/png": "[encoded data removed]",
      "text/plain": [
       "<Figure size 432x288 with 1 Axes>"
      ]
     },
     "metadata": {
      "needs_background": "light",
      "tags": []
     },
     "output_type": "display_data"
    },
    {
     "data": {
      "image/png": "[encoded data removed]",
      "text/plain": [
       "<Figure size 432x288 with 1 Axes>"
      ]
     },
     "metadata": {
      "needs_background": "light",
      "tags": []
     },
     "output_type": "display_data"
    },
    {
     "data": {
      "image/png": "[encoded data removed]",
      "text/plain": [
       "<Figure size 432x288 with 1 Axes>"
      ]
     },
     "metadata": {
      "needs_background": "light",
      "tags": []
     },
     "output_type": "display_data"
    },
    {
     "data": {
      "image/png": "[encoded data removed]",
      "text/plain": [
       "<Figure size 432x288 with 1 Axes>"
      ]
     },
     "metadata": {
      "needs_background": "light",
      "tags": []
     },
     "output_type": "display_data"
    },
    {
     "data": {
      "image/png": "[encoded data removed]",
      "text/plain": [
       "<Figure size 432x288 with 1 Axes>"
      ]
     },
     "metadata": {
      "needs_background": "light",
      "tags": []
     },
     "output_type": "display_data"
    },
    {
     "data": {
      "image/png": "[encoded data removed]",
      "text/plain": [
       "<Figure size 432x288 with 1 Axes>"
      ]
     },
     "metadata": {
      "needs_background": "light",
      "tags": []
     },
     "output_type": "display_data"
    }
   ],
   "source": [
    "''' code du scénario 1 - vous pouvez utiliser plusieurs cellule '''\n",
    "\n",
    "debug = Debug(True)\n",
    "\n",
    "file = open_file(petite_grille, debug)  # On ouvre le fichier\n",
    "X, Y = read_grid_size(file, debug) # On lit la taille\n",
    "grid = Grille_1(X, Y, affichage.Aucun, debug)     # On créée l'objet grille\n",
    "read_obstacles(file, grid, Obstacle, debug)  # On lit et positionne les obstacles\n",
    "read_personnes(file, grid, Personne, 3, debug) # On lit et positionne trois personnes\n",
    "print(\"*\"*20)\n",
    "print(\"Début de la simulation\")\n",
    "grid.Simulation(debug)\n",
    "\n",
    "for img in grid.mapList:\n",
    "    plt.imshow(img, cmap='Paired', vmin=0, vmax=5)\n",
    "    plt.show()\n"
   ]
  },
  {
   "cell_type": "code",
   "execution_count": 91,
   "metadata": {
    "colab": {
     "base_uri": "https://localhost:8080/",
     "height": 282
    },
    "id": "tMn4uJrLgN0l",
    "outputId": "5c7e94d4-d1de-4147-f46f-fb7ce0269561"
   },
   "outputs": [
    {
     "data": {
      "text/plain": [
       "[<matplotlib.lines.Line2D at 0x7ff8b9e2c828>]"
      ]
     },
     "execution_count": 91,
     "metadata": {
      "tags": []
     },
     "output_type": "execute_result"
    },
    {
     "data": {
      "image/png": "[encoded data removed]",
      "text/plain": [
       "<Figure size 432x288 with 1 Axes>"
      ]
     },
     "metadata": {
      "needs_background": "light",
      "tags": []
     },
     "output_type": "display_data"
    }
   ],
   "source": [
    "''' plot du temps d'exécution en fonction du nombre de personnes '''\n",
    "duration_i = [] # i est le numéro du scénario \n",
    "nb_personnes=[]\n",
    "range_personnes=10\n",
    "debug = Debug(False)\n",
    "for x in range(1,range_personnes):\n",
    "    nb_personnes.append(x)\n",
    "    file = open_file(petite_grille, debug)  # On ouvre le fichier\n",
    "    X, Y = read_grid_size(file, debug) # On lit la taille\n",
    "    grid = Grille_1(X, Y, affichage.Aucun, debug)     # On créée l'objet grille\n",
    "    read_obstacles(file, grid, Obstacle, debug)  # On lit et positionne les obstacles\n",
    "    read_personnes(file, grid, Personne, x, debug) # On lit et positionne une seule personne\n",
    "    start = time.time()\n",
    "    grid.Simulation(debug)\n",
    "    end = time.time()\n",
    "    duration_i.append(end-start)\n",
    "plt.plot(nb_personnes, duration_i, label=\"Une seule thread\")"
   ]
  },
  {
   "cell_type": "markdown",
   "metadata": {
    "id": "TPpTFkEmgN0u"
   },
   "source": [
    "Votre analyse du scénario 1"
   ]
  },
  {
   "cell_type": "markdown",
   "metadata": {
    "id": "bKddy_GbgN0w"
   },
   "source": [
    "## Scénario 2 - version 1 thread par personne"
   ]
  },
  {
   "cell_type": "code",
   "execution_count": 108,
   "metadata": {
    "id": "btTwdgxU33V6"
   },
   "outputs": [],
   "source": [
    "from threading import Thread\n",
    "from threading import Lock"
   ]
  },
  {
   "cell_type": "code",
   "execution_count": 109,
   "metadata": {
    "id": "rBnYio4l4E_n"
   },
   "outputs": [],
   "source": [
    "class Grille_2(Grille): \n",
    "    #L'objectif est de placer des vérous sur chaque case de nottre grille. Vu que les persoones pourront se déplacer en paralèle,\n",
    "    # pour éviter que deux personnes ne se deplace sur la meme case,\n",
    "  #lorqu'une personne veut se déplacer, toutes les cases autour de lui sont bloquées, et libéré apres le depacement\n",
    "  \n",
    "    # Crée de la grille et on place sur chaque case un verrou\n",
    "    def __init__(self, Xmax, Ymax, UI, debug):\n",
    "        \n",
    "        super().__init__(Xmax, Ymax, UI, debug)\n",
    "        self.mapLock = [[Lock() for _ in range(Xmax)] for _ in range(Ymax)]\n",
    "\n",
    "          #fontion permettant de bloquer les cases de deplacement possible          \n",
    "    def lock_adj_positions(self, pos):\n",
    "        for x in range(pos[0]-1, pos[0]+2):\n",
    "            for y in range (pos[1]-1, pos[1]+2):\n",
    "                if (x!=pos[0] or y!=pos[1]) and (x==pos[0] or y==pos[1]) and (x>=0 and y>=0 and x<self.Xmax and y<self.Ymax): # deplacement uniquement points cardinaux\n",
    "                    # on est sur une case adjacente et on est sur la grille\n",
    "                    self.mapLock[x][y].acquire()\n",
    "\n",
    "              #fontion permettant de debloquer les cases bloquées apres deplacement     \n",
    "    def enlock_adj_positions(self, pos):\n",
    "        for x in range(pos[0]-1, pos[0]+2):\n",
    "            for y in range (pos[1]-1, pos[1]+2):\n",
    "                if (x!=pos[0] or y!=pos[1]) and (x==pos[0] or y==pos[1]) and (x>=0 and y>=0 and x<self.Xmax and y<self.Ymax): # deplacement uniquement points cardinaux\n",
    "                    # on est sur une case adjacente et on est sur la grille\n",
    "                    self.mapLock[x][y].release()\n",
    "                \n",
    "    \n",
    "    def Simulation(self,debug):\n",
    "        if debug.debug or self.UI==affichage.OpenCV:\n",
    "            self.mapList.append(copy.copy(self.map))\n",
    "        if self.UI==affichage.OpenCV:\n",
    "            cv2.imshow(\"img\", createImage(self.map))\n",
    "            cv2.waitKey(500)\n",
    "        self.lock = Lock()\n",
    "        self.nb_imob = 0\n",
    "        threads_person = []\n",
    "        \n",
    "        for person in self.personneList:\n",
    "            t = Thread(target=self.deplacement, args=[person])\n",
    "            threads_person.append(t)\n",
    "            \n",
    "        for t in threads_person:\n",
    "            t.start()\n",
    "            \n",
    "        for t in threads_person:\n",
    "            t.join()\n",
    "\n",
    "        return self.nb_imob\n",
    "\n",
    "            \n",
    "\n",
    "    def deplacement(self, personne):\n",
    "        end ,immobile=(False,False)\n",
    "        while not end and not immobile:\n",
    "            end, immobile = personne.deplacePersonne(self, self.debug)                \n",
    "\n",
    "        if immobile:  \n",
    "            self.lock.acquire()\n",
    "            self.nb_imob+=1  # Variable nb_imob qui compte le nombre de personne immobiles\n",
    "            self.lock.release()\n",
    "            \n",
    "        else:\n",
    "            self.debug.affiche(\"Une personne vient de sortir, il reste\", len(self.personneList), \"personnes\")\n",
    "        "
   ]
  },
  {
   "cell_type": "code",
   "execution_count": 110,
   "metadata": {
    "id": "1ZGoSh9K4Vmo"
   },
   "outputs": [],
   "source": [
    "class Personne_2(Personne): \n",
    "    \n",
    "    def deplacePersonne(self, grid, debug):\n",
    "        \n",
    "        posInitiale = (self.X, self.Y)\n",
    "        \n",
    "        if self.X==self.Xsortie and self.Y==self.Ysortie:\n",
    "            # la personne est arrivée à la sortie\n",
    "            # on retire la personne de la liste\n",
    "            grid.personneList.remove(self)\n",
    "            # on libere la case de sortie\n",
    "            grid.Set(self.X, self.Y, const.EMPTY)\n",
    "            return True, False\n",
    "        \n",
    "        # bloque toutes les case autour de nous\n",
    "    \n",
    "        # sinon on recherche les déplacements possibles\n",
    "        availableMove = self.getAvailableMove(grid)\n",
    "        debug.affiche(\"La personne (\", self.X, self.Y, \") peut se déplacer sur :\", availableMove)\n",
    "            \n",
    "        if len(availableMove)>0:\n",
    "            # on se déplace sure la nouvelle case\n",
    "            grid.lock_adj_positions(posInitiale)\n",
    "            self.Move(grid, availableMove[0])\n",
    "            #débloquer toutes les case autour de nous\n",
    "            grid.enlock_adj_positions(posInitiale)\n",
    "            return False, False\n",
    "        \n",
    "        # sinon aucun d\"éplacement n'est possible\n",
    "        if grid.UI==affichage.OpenCV:\n",
    "            grid.Set(self.X, self.Y, const.IMMOBILE)\n",
    "        debug.affiche(\"La personne (\", self.X, self.Y, \"ne peut pas se déplacer\")\n",
    "        #débloquer toutes les case autour de nous\n",
    "        return False, True\n",
    "                        "
   ]
  },
  {
   "cell_type": "code",
   "execution_count": 111,
   "metadata": {
    "colab": {
     "base_uri": "https://localhost:8080/",
     "height": 1000
    },
    "id": "cBjwtu9Y8BT7",
    "outputId": "f1af643b-8a30-435a-fcdb-d590c77edef2"
   },
   "outputs": [
    {
     "name": "stdout",
     "output_type": "stream",
     "text": [
      "('Ouverture du fichier', '/content/drive/My Drive/Colab Notebooks/rendu 3/maps/map-initial.txt')\n",
      "('Simulation pour une grille:', 10, '*', 10)\n",
      "(\"Initilisation de l'objet grille\",)\n",
      "('obstacle non créé', ['-1', '-1', '-1', '-1'])\n",
      "(\"Création de l'obstacle (\", 1, 1, ') - (', 2, 7, ')')\n",
      "(\"Création de l'obstacle (\", 1, 7, ') - (', 8, 8, ')')\n",
      "(2, 'obstacles ont été créés')\n",
      "('Création de la personne qui part de', 2, 2, 'pour aller à', 0, 0)\n",
      "('Création de la personne qui part de', 3, 3, 'pour aller à', 0, 9)\n",
      "('Création de la personne qui part de', 6, 6, 'pour aller à', 9, 0)\n",
      "(3, 'personnes ont été créées')\n",
      "********************\n",
      "Début de la simulation\n",
      "('La personne (', 2, 2, ') peut se déplacer sur :', [(3, 2, 1)])\n",
      "('Déplacement de la personne de (', 2, 2, ') à (', 2, 1, ')')\n",
      "('La personne (', 2, 1, ') peut se déplacer sur :', [(2, 1, 1), (2, 2, 0)])\n",
      "('Déplacement de la personne de (', 2, 1, ') à (', 1, 1, ')')\n",
      "('La personne (', 1, 1, ') peut se déplacer sur :', [(1, 0, 1), (1, 1, 0)])\n",
      "('Déplacement de la personne de (', 1, 1, ') à (', 0, 1, ')')\n",
      "('La personne (', 0, 1, ') peut se déplacer sur :', [(0, 0, 0)])\n",
      "('Déplacement de la personne de (', 0, 1, ') à (', 0, 0, ')')\n",
      "('Une personne vient de sortir, il reste', 2, 'personnes')\n",
      "('La personne (', 3, 3, ') peut se déplacer sur :', [(8, 2, 3), (8, 3, 4)])\n",
      "('Déplacement de la personne de (', 3, 3, ') à (', 2, 3, ')')\n",
      "('La personne (', 2, 3, ') peut se déplacer sur :', [(7, 2, 4)])\n",
      "('Déplacement de la personne de (', 2, 3, ') à (', 2, 4, ')')\n",
      "('La personne (', 2, 4, ') peut se déplacer sur :', [(6, 2, 5)])\n",
      "('Déplacement de la personne de (', 2, 4, ') à (', 2, 5, ')')\n",
      "('La personne (', 2, 5, ') peut se déplacer sur :', [(5, 2, 6)])\n",
      "('La personne (', 6, 6, ') peut se déplacer sur :', [(8, 6, 5), (8, 7, 6)])\n",
      "('Déplacement de la personne de (', 6, 6, ') à (', 6, 5, ')')\n",
      "('La personne (', 6, 5, ') peut se déplacer sur :', [(7, 6, 4), (7, 7, 5)])\n",
      "('Déplacement de la personne de (', 6, 5, ') à (', 6, 4, ')')\n",
      "('La personne (', 6, 4, ') peut se déplacer sur :', [(6, 6, 3), (6, 7, 4)])\n",
      "('Déplacement de la personne de (', 6, 4, ') à (', 6, 3, ')')\n",
      "('La personne (', 6, 3, ') peut se déplacer sur :', [(5, 6, 2), (5, 7, 3)])\n",
      "('Déplacement de la personne de (', 6, 3, ') à (', 6, 2, ')')\n",
      "('La personne (', 6, 2, ') peut se déplacer sur :', [(4, 6, 1), (4, 7, 2)])\n",
      "('Déplacement de la personne de (', 6, 2, ') à (', 6, 1, ')')\n",
      "('La personne (', 6, 1, ') peut se déplacer sur :', [(3, 6, 0), (3, 7, 1)])\n",
      "('Déplacement de la personne de (', 2, 5, ') à (', 2, 6, ')')('Déplacement de la personne de (', 6, 1, ') à (', 6, 0, ')')\n",
      "('La personne (', 6, 0, ') peut se déplacer sur :', [(2, 7, 0)])\n",
      "('Déplacement de la personne de (', 6, 0, ') à (', 7, 0, ')')\n",
      "('La personne (', 7, 0, ') peut se déplacer sur :', [(1, 8, 0)])\n",
      "('Déplacement de la personne de (', 7, 0, ') à (', 8, 0, ')')\n",
      "('La personne (', 8, 0, ') peut se déplacer sur :', [(0, 9, 0)])\n",
      "('Déplacement de la personne de (', 8, 0, ') à (', 9, 0, ')')\n",
      "('Une personne vient de sortir, il reste', 1, 'personnes')\n",
      "\n",
      "('La personne (', 2, 6, ') peut se déplacer sur :', [(4, 2, 7)])\n",
      "('Déplacement de la personne de (', 2, 6, ') à (', 2, 7, ')')\n",
      "('La personne (', 2, 7, ') peut se déplacer sur :', [])\n",
      "('La personne (', 2, 7, 'ne peut pas se déplacer')\n"
     ]
    },
    {
     "data": {
      "image/png": "[encoded data removed]",
      "text/plain": [
       "<Figure size 432x288 with 1 Axes>"
      ]
     },
     "metadata": {
      "needs_background": "light",
      "tags": []
     },
     "output_type": "display_data"
    }
   ],
   "source": [
    "''' code du scénario 1 - vous pouvez utiliser plusieurs cellule '''\n",
    "\n",
    "debug = Debug(True)\n",
    "\n",
    "file = open_file(petite_grille, debug)  # On ouvre le fichier\n",
    "X, Y = read_grid_size(file, debug) # On lit la taille\n",
    "grid = Grille_2(X, Y, affichage.Aucun, debug)     # On créée l'objet grille\n",
    "read_obstacles(file, grid, Obstacle, debug)  # On lit et positionne les obstacles\n",
    "read_personnes(file, grid, Personne_2, 3, debug) # On lit et positionne une seule personne\n",
    "print(\"*\"*20)\n",
    "print(\"Début de la simulation\")\n",
    "grid.Simulation(debug)\n",
    "\n",
    "for img in grid.mapList:\n",
    "    plt.imshow(img, cmap='Paired', vmin=0, vmax=5)\n",
    "    plt.show()\n",
    "\n"
   ]
  },
  {
   "cell_type": "code",
   "execution_count": 112,
   "metadata": {
    "colab": {
     "base_uri": "https://localhost:8080/",
     "height": 284
    },
    "id": "TlQ5R6iSDdCy",
    "outputId": "cedd01ca-43e2-45ef-b351-94e98c8532b7"
   },
   "outputs": [
    {
     "data": {
      "text/plain": [
       "[<matplotlib.lines.Line2D at 0x7ff8b8a8f908>]"
      ]
     },
     "execution_count": 112,
     "metadata": {
      "tags": []
     },
     "output_type": "execute_result"
    },
    {
     "data": {
      "image/png": "[encoded data removed]",
      "text/plain": [
       "<Figure size 432x288 with 1 Axes>"
      ]
     },
     "metadata": {
      "needs_background": "light",
      "tags": []
     },
     "output_type": "display_data"
    }
   ],
   "source": [
    "duration_i = [] # i est le numéro du scénario \n",
    "nb_personnes=[]\n",
    "range_personnes=10\n",
    "debug = Debug(False)\n",
    "for x in range(1,range_personnes):\n",
    "    nb_personnes.append(x)\n",
    "    file = open_file(petite_grille, debug)  # On ouvre le fichier\n",
    "    X, Y = read_grid_size(file, debug) # On lit la taille\n",
    "    grid = Grille_2(X, Y, affichage.Aucun, debug)     # On créée l'objet grille\n",
    "    read_obstacles(file, grid, Obstacle, debug)  # On lit et positionne les obstacles\n",
    "    read_personnes(file, grid, Personne, x, debug) # On lit et positionne une seule personne\n",
    "    start = time.time()\n",
    "    grid.Simulation(debug)\n",
    "    end = time.time()\n",
    "    duration_i.append(end-start)\n",
    "plt.plot(nb_personnes, duration_i, label=\"Une seule thread\")"
   ]
  },
  {
   "cell_type": "markdown",
   "metadata": {
    "id": "FRub3Db3gN0z"
   },
   "source": [
    "## Scénario 3 - version 1 thread pour 1/4 de la grille"
   ]
  },
  {
   "cell_type": "markdown",
   "metadata": {
    "id": "V1DdnbthgN01"
   },
   "source": [
    "## Comparaison des trois approches\n",
    "\n",
    "<span style=\"color:red\">On attend ici une comparaison argumentée permettant de mettre en évidence les points forts et les points faibles des différentes solutions</span>"
   ]
  },
  {
   "cell_type": "markdown",
   "metadata": {
    "id": "fBVLeiTdgN09"
   },
   "source": [
    "## Export du notebook dans un fichier python"
   ]
  },
  {
   "cell_type": "code",
   "execution_count": null,
   "metadata": {
    "id": "TRHhI2M-gN1H"
   },
   "outputs": [],
   "source": [
    "import sys,json\n",
    "import ipyparams\n",
    "\n",
    "def convertNotebook(notebookPath, modulePath):\n",
    "    f = open(notebookPath, 'r') #input.ipynb\n",
    "    j = json.load(f)\n",
    "\n",
    "    of = open(modulePath, 'w') #output.py\n",
    "\n",
    "    if j[\"nbformat\"] >=4:\n",
    "        for i,cell in enumerate(j[\"cells\"]):\n",
    "            if cell['cell_type']=='code':\n",
    "                of.write(\"#cell \"+str(i+1)+\"\\n\")\n",
    "                for line in cell[\"source\"]:\n",
    "                    of.write(line)\n",
    "                of.write('\\n\\n')\n",
    "    else:\n",
    "        print(\"not implemented\")\n",
    "\n",
    "    of.close()"
   ]
  },
  {
   "cell_type": "code",
   "execution_count": null,
   "metadata": {
    "id": "Am0H35LRgN1W"
   },
   "outputs": [],
   "source": [
    "''' Remarks: it is necessary to put the import code in a separate cell above the call of function.\n",
    "Otherwise Jupyter will try to run the code before the library is fully loaded,\n",
    "so the currentNotebook variable is still blank.\n",
    "\n",
    "Putting the import in its own cell forces it to load before moving to the next cell.\n",
    "'''\n",
    "if is_running_from_ipython():\n",
    "    currentNotebook = ipyparams.notebook_name\n",
    "    pythonName = currentNotebook.split(\".\")[0]+\".py\"\n",
    "    \n",
    "    convertNotebook(currentNotebook, pythonName)"
   ]
  },
  {
   "cell_type": "code",
   "execution_count": null,
   "metadata": {
    "id": "Aa-n4WSPgN1e"
   },
   "outputs": [],
   "source": []
  }
 ],
 "metadata": {
  "colab": {
   "name": "simulation_deplacement_foule_etudiant_V2.ipynb",
   "provenance": [],
   "toc_visible": true
  },
  "kernelspec": {
   "display_name": "Python 3",
   "language": "python",
   "name": "python3"
  },
  "language_info": {
   "codemirror_mode": {
    "name": "ipython",
    "version": 3
   },
   "file_extension": ".py",
   "mimetype": "text/x-python",
   "name": "python",
   "nbconvert_exporter": "python",
   "pygments_lexer": "ipython3",
   "version": "3.8.5"
  },
  "latex_envs": {
   "LaTeX_envs_menu_present": true,
   "autoclose": true,
   "autocomplete": true,
   "bibliofile": "biblio.bib",
   "cite_by": "apalike",
   "current_citInitial": 1,
   "eqLabelWithNumbers": true,
   "eqNumInitial": 1,
   "hotkeys": {
    "equation": "Ctrl-E",
    "itemize": "Ctrl-I"
   },
   "labels_anchors": false,
   "latex_user_defs": false,
   "report_style_numbering": false,
   "user_envs_cfg": false
  },
  "nbTranslate": {
   "displayLangs": [
    "*"
   ],
   "hotkey": "alt-t",
   "langInMainMenu": true,
   "sourceLang": "en",
   "targetLang": "fr",
   "useGoogleTranslate": true
  },
  "toc": {
   "base_numbering": 1,
   "nav_menu": {},
   "number_sections": true,
   "sideBar": true,
   "skip_h1_title": true,
   "title_cell": "Table of Contents",
   "title_sidebar": "Contents",
   "toc_cell": true,
   "toc_position": {},
   "toc_section_display": true,
   "toc_window_display": false
  }
 },
 "nbformat": 4,
 "nbformat_minor": 1
}
