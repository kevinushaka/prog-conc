{
 "cells": [
  {
   "cell_type": "markdown",
   "metadata": {},
   "source": [
    "# Simulation de déplacement d'une foule\n",
    "\n",
    "USHAKA KUBWAWE Kévin\n",
    "ADANLEHOUSSI Denis"
   ]
  },
  {
   "cell_type": "markdown",
   "metadata": {
    "ExecuteTime": {
     "end_time": "2020-09-09T14:05:18.487484Z",
     "start_time": "2020-09-09T14:05:18.483571Z"
    }
   },
   "source": [
    "## Introduction\n",
    "<span style=\"color:red\">Mettre ici votre description du projet.</span>"
   ]
  },
  {
   "cell_type": "markdown",
   "metadata": {
    "toc": true
   },
   "source": [
    "<h1>Table of Contents<span class=\"tocSkip\"></span></h1>\n",
    "<div class=\"toc\"><ul class=\"toc-item\"><li><span><a href=\"#Introduction\" data-toc-modified-id=\"Introduction-1\"><span class=\"toc-item-num\">1&nbsp;&nbsp;</span>Introduction</a></span></li><li><span><a href=\"#Bibliothèque-Python-pour-le-multi-flots-d'exécution.\" data-toc-modified-id=\"Bibliothèque-Python-pour-le-multi-flots-d'exécution.-2\"><span class=\"toc-item-num\">2&nbsp;&nbsp;</span>Bibliothèque Python pour le multi-flots d'exécution.</a></span></li><li><span><a href=\"#Les-mécanismes-de-synchronisation-en-Python\" data-toc-modified-id=\"Les-mécanismes-de-synchronisation-en-Python-3\"><span class=\"toc-item-num\">3&nbsp;&nbsp;</span>Les mécanismes de synchronisation en Python</a></span></li><li><span><a href=\"#Définitions-de-quelques-procédures-pour-initialiser-une-grille-à-partir-d'un-fichier-de-configuration\" data-toc-modified-id=\"Définitions-de-quelques-procédures-pour-initialiser-une-grille-à-partir-d'un-fichier-de-configuration-4\"><span class=\"toc-item-num\">4&nbsp;&nbsp;</span>Définitions de quelques procédures pour initialiser une grille à partir d'un fichier de configuration</a></span><ul class=\"toc-item\"><li><span><a href=\"#Définition-de-la-grille\" data-toc-modified-id=\"Définition-de-la-grille-4.1\"><span class=\"toc-item-num\">4.1&nbsp;&nbsp;</span>Définition de la grille</a></span></li><li><span><a href=\"#Définition-d'un-obstacle\" data-toc-modified-id=\"Définition-d'un-obstacle-4.2\"><span class=\"toc-item-num\">4.2&nbsp;&nbsp;</span>Définition d'un obstacle</a></span></li><li><span><a href=\"#Définition-d'une-personne\" data-toc-modified-id=\"Définition-d'une-personne-4.3\"><span class=\"toc-item-num\">4.3&nbsp;&nbsp;</span>Définition d'une personne</a></span></li><li><span><a href=\"#Construction-d'une-image-pour-OpenCV\" data-toc-modified-id=\"Construction-d'une-image-pour-OpenCV-4.4\"><span class=\"toc-item-num\">4.4&nbsp;&nbsp;</span>Construction d'une image pour OpenCV</a></span></li></ul></li><li><span><a href=\"#Solution-itérative\" data-toc-modified-id=\"Solution-itérative-5\"><span class=\"toc-item-num\">5&nbsp;&nbsp;</span>Solution itérative</a></span><ul class=\"toc-item\"><li><span><a href=\"#Avec-trace-mais-sans-visualisation\" data-toc-modified-id=\"Avec-trace-mais-sans-visualisation-5.1\"><span class=\"toc-item-num\">5.1&nbsp;&nbsp;</span>Avec trace mais sans visualisation</a></span></li><li><span><a href=\"#Visualisation-de-chacune-des-itérations-avec-Matplotlib\" data-toc-modified-id=\"Visualisation-de-chacune-des-itérations-avec-Matplotlib-5.2\"><span class=\"toc-item-num\">5.2&nbsp;&nbsp;</span>Visualisation de chacune des itérations avec Matplotlib</a></span></li><li><span><a href=\"#Visualisation-de-chacune-des-itérations-avec-OpenCV\" data-toc-modified-id=\"Visualisation-de-chacune-des-itérations-avec-OpenCV-5.3\"><span class=\"toc-item-num\">5.3&nbsp;&nbsp;</span>Visualisation de chacune des itérations avec OpenCV</a></span></li><li><span><a href=\"#Sans-trace-mais-avec-visualisation\" data-toc-modified-id=\"Sans-trace-mais-avec-visualisation-5.4\"><span class=\"toc-item-num\">5.4&nbsp;&nbsp;</span>Sans trace mais avec visualisation</a></span></li><li><span><a href=\"#Utilisation-des-procédures-précédentes-pour-créer-une-nouvelle-grille-qui-sera-sauvegardée-dans-un-fichier\" data-toc-modified-id=\"Utilisation-des-procédures-précédentes-pour-créer-une-nouvelle-grille-qui-sera-sauvegardée-dans-un-fichier-5.5\"><span class=\"toc-item-num\">5.5&nbsp;&nbsp;</span>Utilisation des procédures précédentes pour créer une nouvelle grille qui sera sauvegardée dans un fichier</a></span></li></ul></li><li><span><a href=\"#Votre-travail\" data-toc-modified-id=\"Votre-travail-6\"><span class=\"toc-item-num\">6&nbsp;&nbsp;</span><span style=\"color: red\">Votre travail</span></a></span></li><li><span><a href=\"#Scénario-1\" data-toc-modified-id=\"Scénario-1-7\"><span class=\"toc-item-num\">7&nbsp;&nbsp;</span>Scénario 1</a></span></li><li><span><a href=\"#Scénario-2\" data-toc-modified-id=\"Scénario-2-8\"><span class=\"toc-item-num\">8&nbsp;&nbsp;</span>Scénario 2</a></span></li><li><span><a href=\"#Scénario-3\" data-toc-modified-id=\"Scénario-3-9\"><span class=\"toc-item-num\">9&nbsp;&nbsp;</span>Scénario 3</a></span></li><li><span><a href=\"#Comparaison-des-trois-approches\" data-toc-modified-id=\"Comparaison-des-trois-approches-10\"><span class=\"toc-item-num\">10&nbsp;&nbsp;</span>Comparaison des trois approches</a></span></li><li><span><a href=\"#Export-du-notebook-dans-un-fichier-python\" data-toc-modified-id=\"Export-du-notebook-dans-un-fichier-python-11\"><span class=\"toc-item-num\">11&nbsp;&nbsp;</span>Export du notebook dans un fichier python</a></span></li></ul></div>"
   ]
  },
  {
   "cell_type": "markdown",
   "metadata": {},
   "source": [
    "## Bibliothèque Python pour le multi-flots d'exécution.\n",
    "\n",
    "<span style=\"color:red\">Dans cette section vous présenterez votre étude comparative, avec exemple, des bibliothèques python permettant d'exécuter plusieurs flots en parallèle</span>\n",
    "\n",
    "<span style=\"color:red\">Vous préciserez de manière justifiée à la fin de cette section la bibliothèque choisie. La cellule suivante, exécutable comprendra l'import de la bibliothèque.</span>"
   ]
  },
  {
   "cell_type": "code",
   "execution_count": 1,
   "metadata": {},
   "outputs": [],
   "source": [
    "import threading"
   ]
  },
  {
   "cell_type": "markdown",
   "metadata": {},
   "source": [
    "Il existe plusieures modules qui prennent en charge l'utilisation des threads en Python: _thread, multiprocessing, threading, asyncio.\n",
    "\n",
    "Le module _thread traite un thread comme une fonction, tandis que les modules multiprocessing, threading et asyncio sont implémentés de manière orientée objet, c'est-à-dire que chaque processus/thread correspond à un objet.\n",
    "\n",
    "Quand on fait du multi-threading en python, 2 threads ne peuvent pas exécuter du code python en même temps à cause du Global Interpreter Lock. L'exécution simultanée de plusieurs tâches nécessite une implémentation non standard de Python ou l'utilisation du multiprocessing qui entraîne une surcharge supplémentaire.\n",
    "\n",
    "Quand on fait du multi-processing, c'est plus lourd, car il faut créer des processus, et la communication entre process est plus difficile car ils ne partagent pas la mémoire.\n",
    "\n",
    "\n",
    "#Pourquoi GIL? Python utilise le comptage de références pour la gestion de la mémoire. Cela signifie que les objets créés en Python ont une variable de comptage de références qui assure le suivi du nombre de références pointant vers l'objet. Lorsque ce décompte atteint zéro, la mémoire occupée par l'objet est libérée.\n",
    "\n",
    "Le problème est que cette variable de comptage de référence nécessite une protection contre les conditions de concurrence où deux threads augmentent ou diminuent simultanément sa valeur. Cela peut provoquer une fuite de mémoire qui n'est jamais libérée ouune libération incorrecte de la mémoire alors qu'une référence à cet objet existe toujours.\n"
   ]
  },
  {
   "cell_type": "markdown",
   "metadata": {},
   "source": [
    "# _thread"
   ]
  },
  {
   "cell_type": "markdown",
   "metadata": {},
   "source": [
    "Il est possible d'exécuter des fonctions dans un thread séparé avec le module Thread.\n",
    "\n",
    "thread.start_new_thread (fonction, args [, kwargs])\n",
    "\n",
    "Cette méthode démarre un nouveau thread et renvoie son identifiant. Le thread exécute la fonction avec l'argument list args. L'argument kwargs facultatif spécifie un dictionnaire d'arguments de mot-clé. Lorsque la fonction revient, le thread se ferme silencieusement. Lorsque la fonction se termine avec une exception non gérée, une trace de pile est imprimée, puis le thread se termine.\n"
   ]
  },
  {
   "cell_type": "markdown",
   "metadata": {},
   "source": [
    "from _thread import start_new_thread\n",
    "import time\n",
    "\n",
    "def thread_function(name):\n",
    "    print(\"Thread \" +str(name)+ \": starting.\")\n",
    "    time.sleep(2)\n",
    "    print(\"Thread \" +str(name)+\": finishing.\")\n",
    "\n",
    "_thread.\n",
    "start_new_thread(thread_function,(99,))\n",
    "start_new_thread(thread_function,(999,))\n",
    "start_new_thread(thread_function,(1733,))\n",
    "\n",
    "print(\"Done.\")"
   ]
  },
  {
   "cell_type": "markdown",
   "metadata": {},
   "source": [
    "# threading"
   ]
  },
  {
   "cell_type": "markdown",
   "metadata": {},
   "source": [
    "Le module threading fournit une API de fils d'exécution de haut niveau, plus facile à utiliser et construite à partir de ce module.\n",
    "\n",
    "Pour implémenter un nouveau thread à l'aide du module de threading,on doit-\n",
    "\n",
    "Définir une nouvelle sous-classe de la classe Thread.\n",
    "\n",
    "Override la méthode __init __ (self [, args]) pour ajouter des arguments supplémentaires.\n",
    "\n",
    "Override la méthode run (self [, args]) pour implémenter ce que le thread doit faire au démarrage."
   ]
  },
  {
   "cell_type": "code",
   "execution_count": 2,
   "metadata": {},
   "outputs": [
    {
     "name": "stdout",
     "output_type": "stream",
     "text": [
      "Starting Thread-1\n",
      "Starting Thread-2\n",
      "Exiting Main Thread\n"
     ]
    }
   ],
   "source": [
    "import time\n",
    "\n",
    "exitFlag = 0\n",
    "\n",
    "class myThread (threading.Thread):\n",
    "   def __init__(self, threadID, name, counter):\n",
    "      threading.Thread.__init__(self)\n",
    "      self.threadID = threadID\n",
    "      self.name = name\n",
    "      self.counter = counter\n",
    "   def run(self):\n",
    "      print (\"Starting \" + self.name)\n",
    "      print_time(self.name, 5, self.counter)\n",
    "      print (\"Exiting \" + self.name)\n",
    "\n",
    "def print_time(threadName, counter, delay):\n",
    "   while counter:\n",
    "      if exitFlag:\n",
    "         threadName.exit()\n",
    "      time.sleep(delay)\n",
    "      print (threadName + time.ctime(time.time()))\n",
    "      counter -= 1\n",
    "\n",
    "# Create new threads\n",
    "thread1 = myThread(1, \"Thread-1\", 1)\n",
    "thread2 = myThread(2, \"Thread-2\", 2)\n",
    "\n",
    "# Start new Threads\n",
    "thread1.start()\n",
    "thread2.start()\n",
    "\n",
    "print (\"Exiting Main Thread\")"
   ]
  },
  {
   "cell_type": "markdown",
   "metadata": {},
   "source": [
    "# multiprocessing"
   ]
  },
  {
   "cell_type": "code",
   "execution_count": 3,
   "metadata": {},
   "outputs": [
    {
     "name": "stdout",
     "output_type": "stream",
     "text": [
      "Thread-1Sat Oct 31 20:48:54 2020\n"
     ]
    }
   ],
   "source": [
    "import multiprocessing"
   ]
  },
  {
   "cell_type": "markdown",
   "metadata": {},
   "source": [
    "Le module multiprocessing permet de tirer pleinement parti de plusieurs processeurs sur une machine donnée. L'API utilisée est similaire au module de threading classique. Pour créer un second processus, il faut instancier un objet Process avec une fonction cible et appeler start () pour le laisser commencer à fonctionner. Le guide de style multiprocessing Python recommande de placer le code multiprocesseur dans l'idiome name == 'main'. Cela est dû à la façon dont les processus sont créés sous Windows. Le but est d'éviter la boucle sans fin des générations de processus."
   ]
  },
  {
   "cell_type": "code",
   "execution_count": 4,
   "metadata": {},
   "outputs": [
    {
     "name": "stdout",
     "output_type": "stream",
     "text": [
      "Worker:1\n",
      "Worker:0Worker:2\n",
      "Worker:4\n",
      "Worker:3\n",
      "\n",
      "Thread-2Sat Oct 31 20:48:55 2020\n",
      "Thread-1Sat Oct 31 20:48:55 2020\n"
     ]
    }
   ],
   "source": [
    "def worker(num):\n",
    "    print ('Worker:'+ str(num))\n",
    "    return\n",
    "\n",
    "if __name__ == '__main__':\n",
    "    jobs = []\n",
    "    for i in range(5):\n",
    "        p = multiprocessing.Process(target=worker, args=(i,))\n",
    "        jobs.append(p)\n",
    "        p.start()"
   ]
  },
  {
   "cell_type": "markdown",
   "metadata": {},
   "source": [
    "Par défaut, le programme principal ne se fermera pas tant que tous les enfants ne seront pas sortis.\n",
    "\n",
    "Un thread daemon s'arrêtera immédiatement lorsque le programme se fermera. Le thread daemon est un thread qui s'exécute en arrière-plan sans se soucier de l'arrêter.\n",
    "\n",
    "Un programme exécutant des threads qui ne sont pas des daemon attendra que ces threads se terminent avant de se terminer. Cependant, les threads qui sont des daemons sont simplement tués où qu'ils soient lorsque le programme se termine.\n",
    "\n",
    "Pour marquer un processus comme un daemon, il faut définir son attribut de démon avec une valeur booléenne. La valeur par défaut est que les processus ne sont pas des daemon, donc passer True active le mode daemon."
   ]
  },
  {
   "cell_type": "code",
   "execution_count": 5,
   "metadata": {},
   "outputs": [
    {
     "name": "stdout",
     "output_type": "stream",
     "text": [
      "End of main thread\n",
      "Hello from non daemonHello from daemon\n",
      "Hello from daemon\n",
      "Hello from daemon\n",
      "Hello from daemon\n",
      "\n",
      "Hello from non daemonHello from daemon\n",
      "\n",
      "Hello from non daemon\n",
      "Hello from non daemon\n",
      "Hello from non daemon\n"
     ]
    }
   ],
   "source": [
    "import time\n",
    "import sys\n",
    "\n",
    "def nondaemon():\n",
    "    for x in range(5): \n",
    "        print(\"Hello from non daemon\")\n",
    "def daemon():\n",
    "    for x in range(5): \n",
    "        print(\"Hello from daemon\")\n",
    "    \n",
    "if __name__ == '__main__':\n",
    "    d = multiprocessing.Process(target=daemon)\n",
    "    d.daemon = True\n",
    "\n",
    "    n = multiprocessing.Process(target=nondaemon)\n",
    "    n.daemon = False\n",
    "\n",
    "    d.start()\n",
    "    n.start()\n",
    "\n",
    "    print(\"End of main thread\")"
   ]
  },
  {
   "cell_type": "markdown",
   "metadata": {},
   "source": [
    "Les processus ont leur propre espace virtuel, ils ne partagent pas leur mémoire. C'est pourquoi le module multiprocessing gère deux types de canaux de communication entre les processus : Queue , Tubes."
   ]
  },
  {
   "cell_type": "code",
   "execution_count": 6,
   "metadata": {},
   "outputs": [
    {
     "name": "stdout",
     "output_type": "stream",
     "text": [
      "[42, None, 'hello']\n",
      "Thread-1Sat Oct 31 20:48:56 2020\n"
     ]
    }
   ],
   "source": [
    "from multiprocessing import Process, Queue\n",
    "\n",
    "def f(q):\n",
    "    q.put([42, None, 'hello'])\n",
    "\n",
    "if __name__ == '__main__':\n",
    "    q = Queue()\n",
    "    p = Process(target=f, args=(q,))\n",
    "    p.start()\n",
    "    print(q.get())    # prints \"[42, None, 'hello']\"\n",
    "    p.join()"
   ]
  },
  {
   "cell_type": "markdown",
   "metadata": {},
   "source": [
    "Pour utiliser un tube on instancie un objet Pipe. Les deux objets de connexion renvoyés par Pipe() représentent les deux bouts d'un tube. Chaque objet de connexion possède des méthodes send() et recv()."
   ]
  },
  {
   "cell_type": "code",
   "execution_count": 7,
   "metadata": {},
   "outputs": [
    {
     "name": "stdout",
     "output_type": "stream",
     "text": [
      "[42, None, 'hello']\n"
     ]
    }
   ],
   "source": [
    "from multiprocessing import Process, Pipe\n",
    "\n",
    "def f(conn):\n",
    "    conn.send([42, None, 'hello'])\n",
    "    conn.close()\n",
    "\n",
    "if __name__ == '__main__':\n",
    "    parent_conn, child_conn = Pipe()\n",
    "    p = Process(target=f, args=(child_conn,))\n",
    "    p.start()\n",
    "    print(parent_conn.recv())   # prints \"[42, None, 'hello']\"\n",
    "    p.join()"
   ]
  },
  {
   "cell_type": "markdown",
   "metadata": {},
   "source": [
    "Il est également possible de créer des objets partagés utilisant une mémoire partagée pouvant être héritée par les processus enfants avec multiprocessing.Value(typecode_or_type, *args, lock=True).\n",
    "\n",
    "Les opérations telles que += qui impliquent une lecture et une écriture ne sont pas atomique. Ainsi si on souhaite par exemple réaliser une incrémentation atomique sur une valeur partagée, on ne peut pas simplement faire."
   ]
  },
  {
   "cell_type": "code",
   "execution_count": 8,
   "metadata": {},
   "outputs": [
    {
     "name": "stdout",
     "output_type": "stream",
     "text": [
      "Thread-2Sat Oct 31 20:48:57 2020\n",
      "Thread-1Sat Oct 31 20:48:57 2020\n",
      "Final balance = 2\n"
     ]
    }
   ],
   "source": [
    "# function to deposit to account \n",
    "def increment(variable):     \n",
    "    variable.value = variable.value + 1\n",
    "\n",
    "if __name__ == \"__main__\": \n",
    "    counter = multiprocessing.Value('i', 0)\n",
    "\n",
    "    p1 = multiprocessing.Process(target=increment, args=(counter,)) \n",
    "    p2 = multiprocessing.Process(target=increment, args=(counter,)) \n",
    "  \n",
    "    p1.start() \n",
    "    p2.start() \n",
    "\n",
    "    p1.join();\n",
    "    p2.join();\n",
    "\n",
    "    print(\"Final balance = \"+str(counter.value)) "
   ]
  },
  {
   "cell_type": "markdown",
   "metadata": {},
   "source": [
    "# **asyncio**"
   ]
  },
  {
   "cell_type": "markdown",
   "metadata": {},
   "source": [
    "Le concept général de asyncio est qu’un seul objet Python, appelé la boucle d’événements, contrôle comment et quand chaque tâche est exécutée. La boucle d’événements est consciente de chaque tâche et sait dans quel état elle se trouve. En réalité, il existe de nombreux états dans lesquels les tâches pourraient être mais nous allons dans un souci de simplicité supposer qu'il n'y a que deux états.\n",
    "\n",
    "L’état prêt indique qu’une tâche a du travail à faire et est prête à être exécutée, et l’état d’attente signifie que la tâche attend que quelque chose externe se termine (une opération réseau par exemple).\n",
    "\n",
    "La boucle d’événements simplifiée gère deux listes de tâches, une pour chacun de ces états. Il sélectionne l’une des tâches prêtes et la redémarre. Cette tâche est sous contrôle complet jusqu’à ce qu’elle remette en coopération le contrôle à la boucle d’événements.\n",
    "\n",
    "Lorsque la tâche en cours d’exécution redonne le contrôle à la boucle d’événements, la boucle d’événements place cette tâche dans la liste prête ou en attente, puis passe en revue chacune des tâches de la liste d’attente pour voir si elle est devenue prête par une opération d’E/S achèvement. Et ainsi de suite jusqu'a la fin de l'execution du programme."
   ]
  },
  {
   "cell_type": "raw",
   "metadata": {},
   "source": [
    "import asyncio"
   ]
  },
  {
   "cell_type": "raw",
   "metadata": {},
   "source": [
    "#!/usr/bin/env python3\n",
    "# countasync.py\n",
    "\n",
    "async def count():\n",
    "    print(\"One\")\n",
    "    await asyncio.sleep(1)\n",
    "    print(\"Two\")\n",
    "\n",
    "async def main():\n",
    "    await asyncio.gather(count(), count(), count())\n",
    "\n",
    "if __name__ == \"__main__\":\n",
    "    import time\n",
    "    s = time.perf_counter()\n",
    "    loop = asyncio.get_event_loop()\n",
    "    loop.run_until_complete(main())\n",
    "    elapsed = time.perf_counter() - s\n",
    "    print(f\"{__file__} executed in {elapsed:0.2f} seconds.\")"
   ]
  },
  {
   "cell_type": "markdown",
   "metadata": {
    "id": "6OmbtcHrOxe5"
   },
   "source": [
    "## Bilan\n",
    "\n",
    "*  _thread ne nous permet que de créer des thread. Nous n'avons pas la flexibilite de gerer à notre gré les processus concurents\n",
    "*  Pour multiprocessing, les processus auront leur propre espace virtuel, ils ne partageront pas leur mémoire. Ce qui n'est pas idéal pour notre probleme vu que nos personnes doivent partager une meme ressource : la grille\n",
    "\n",
    "\n",
    "*   Tout comme _thread asyncio nous pemet de mettre en section critique tou une methode sans avoir la flexibilité de gerer de maniere isolé des varible specifiques.\n",
    "*   threading lui nous permet de gerer avec flexibilité de part toutes les primitives qu'elle nous offre les section criques, aussi bien sur des methodes mais aussi sur des variables specifiques.\n",
    "\n",
    "Nous avons donc pour cela decidé d'utiliser la bibliotheque **threading**\n",
    "\n",
    "\n",
    "\n",
    "\n"
   ]
  },
  {
   "cell_type": "markdown",
   "metadata": {},
   "source": [
    "## Les mécanismes de synchronisation en Python\n",
    "\n",
    "<span style=\"color:red\">Dans cette section vous présenterez votre étude comparative, avec exemple, des mécanimes présent dans la bibliothèque ou pouvant être associé pour construire une section critique ou permettant de contrôler l'accès à des ressources critiques.\n",
    "    \n",
    "<span style=\"color:red\">Vous préciserez de manière justifiée à la fin de cette section les mécanismes choisis. La cellule suivante, exécutable comprendra l'import des bibliothèques.</span>"
   ]
  },
  {
   "cell_type": "markdown",
   "metadata": {},
   "source": [
    "### Lock\n",
    "\n",
    "Un verrou primitif est soit « verrouillé » soit « déverrouillé ». Il est créé dans un état déverrouillé. Il a deux méthodes, acquire() et release(). Lorsque l'état est déverrouillé, acquire() verrouille et se termine immédiatement. Lorsque l'état est verrouillé, acquire() bloque jusqu'à ce qu'un appel à release() provenant d'un autre fil d'exécution le déverrouille.\n",
    "\n",
    "Lorsque plus d'un thread est bloqué dans acquire () en attendant que l'état passe à déverrouillé, un seul thread se poursuit lorsqu'un appel release () réinitialise l'état à déverrouillé; lequel des threads en attente continue n'est pas défini et peut varier selon les implémentations.\n",
    "\n",
    "Pour un fonctionnement correct, il est important de libérer le verrou même si quelque chose ne va pas lors de l’accès à la ressource. On peut utiliser try-finally.\n",
    "\n",
    "lock.acquire()\n",
    "try:\n",
    "    ... access shared resource\n",
    "finally:\n",
    "    lock.release() # release lock, no matter what\n",
    "    \n",
    "La méthode acquire() prend un indicateur d'attente facultatif, qui peut être utilisé pour éviter le blocage si le verrou est détenu par quelqu'un d'autre."
   ]
  },
  {
   "cell_type": "markdown",
   "metadata": {},
   "source": [
    "if not lock.acquire(False):\n",
    "    ... failed to lock the resource\n",
    "else:\n",
    "    try:\n",
    "        ... access shared resource\n",
    "    finally:\n",
    "        lock.release()"
   ]
  },
  {
   "cell_type": "markdown",
   "metadata": {},
   "source": [
    "Dans l'exemple suivant, deux methodes utilisent une même varible globale g, on gère pas les sections critqiues.\n",
    "\n",
    "Dans add_one_one() on reinitialise g à 0 puis on l'incrément de 1. Par la suite on cré une boucle de 30 avec affichage de texte juste pour faire durer l'execution de la methode . On incremente encore une fois g avant de l'afficher La resultat attendu appres cette afficheage est donc 2.\n",
    "\n",
    "Dans add_two() on incremente juste g de 2.\n",
    "\n",
    "Nous appelons deux threads sur ces deux methodes (add_one_one() en premier et add_two() apres).\n",
    "Notons que l'on attends que les deux threads se termine ( fonction join()), pour afficher le résultat seulement lexecution totale des deux Threads."
   ]
  },
  {
   "cell_type": "code",
   "execution_count": 11,
   "metadata": {},
   "outputs": [
    {
     "name": "stdout",
     "output_type": "stream",
     "text": [
      "boucle d'attente\n",
      "boucle d'attente\n",
      "boucle d'attente\n",
      "boucle d'attente\n",
      "boucle d'attente\n",
      "boucle d'attente\n",
      "boucle d'attente\n",
      "boucle d'attente\n",
      "boucle d'attente\n",
      "boucle d'attente\n",
      "boucle d'attente\n",
      "boucle d'attente\n",
      "boucle d'attente\n",
      "boucle d'attente\n",
      "boucle d'attente\n",
      "boucle d'attente\n",
      "boucle d'attente\n",
      "boucle d'attente\n",
      "boucle d'attente\n",
      "boucle d'attente\n",
      "boucle d'attente\n",
      "boucle d'attente\n",
      "boucle d'attente\n",
      "boucle d'attente\n",
      "boucle d'attente\n",
      "boucle d'attente\n",
      "boucle d'attente\n",
      "boucle d'attente\n",
      "boucle d'attente\n",
      "boucle d'attente\n",
      "Affichage de g dans add one one : 4\n",
      "4\n"
     ]
    }
   ],
   "source": [
    "#lock_tut.py\n",
    "from threading import Lock, Thread\n",
    "lock = Lock()\n",
    "g = 0\n",
    "\n",
    "def add_one_one():\n",
    "\n",
    "   global g\n",
    "   g=0\n",
    "   g += 1\n",
    "   for i in range(30):\n",
    "     print('boucle d\\'attente')\n",
    "   g += 1\n",
    "   print('Affichage de g dans add one one :',g)\n",
    "\n",
    "def add_two():\n",
    "   global g\n",
    "   g += 2\n",
    "\n",
    "threads = []\n",
    "for func in [add_one_one, add_two]:\n",
    "   threads.append(Thread(target=func))\n",
    "\n",
    "threads[0].start() \n",
    "threads[1].start()\n",
    "\n",
    "for thread in threads:\n",
    "   \"\"\"\n",
    "   Waits for threads to complete before moving on with the main\n",
    "   script.\n",
    "   \"\"\"\n",
    "   thread.join()\n",
    "\n",
    "print(g)"
   ]
  },
  {
   "cell_type": "markdown",
   "metadata": {},
   "source": [
    "Dans l'exemple suivant, nous gèrons les sections critqiues avec le verrou threading.Lock. On obtient toujours 2 pour l'affichage dans add_one_one et 4 à la fin"
   ]
  },
  {
   "cell_type": "code",
   "execution_count": 12,
   "metadata": {},
   "outputs": [
    {
     "name": "stdout",
     "output_type": "stream",
     "text": [
      "boucle d'attente\n",
      "boucle d'attente\n",
      "boucle d'attente\n",
      "boucle d'attente\n",
      "boucle d'attente\n",
      "boucle d'attente\n",
      "boucle d'attente\n",
      "boucle d'attente\n",
      "boucle d'attente\n",
      "boucle d'attente\n",
      "boucle d'attente\n",
      "boucle d'attente\n",
      "boucle d'attente\n",
      "boucle d'attente\n",
      "boucle d'attente\n",
      "boucle d'attente\n",
      "boucle d'attente\n",
      "boucle d'attente\n",
      "boucle d'attente\n",
      "boucle d'attente\n",
      "boucle d'attente\n",
      "boucle d'attente\n",
      "boucle d'attente\n",
      "boucle d'attente\n",
      "boucle d'attente\n",
      "boucle d'attente\n",
      "boucle d'attente\n",
      "boucle d'attente\n",
      "boucle d'attente\n",
      "boucle d'attente\n",
      "Affichage de g dans add one : 2\n",
      "4\n",
      "Thread-2Sat Oct 31 20:49:03 2020\n",
      "Exiting Thread-2\n"
     ]
    }
   ],
   "source": [
    "#lock_tut.py\n",
    "from threading import Lock, Thread\n",
    "lock = Lock()\n",
    "g = 0\n",
    "\n",
    "def add_one():\n",
    "   global g\n",
    "   lock.acquire()\n",
    "   g=0\n",
    "   g += 1\n",
    "   for i in range(30):\n",
    "     print('boucle d\\'attente')\n",
    "   g += 1\n",
    "   print('Affichage de g dans add one :',g)\n",
    "   lock.release()\n",
    "\n",
    "def add_two():\n",
    "   global g\n",
    "   lock.acquire()\n",
    "   g += 2\n",
    "   lock.release()\n",
    "\n",
    "threads = []\n",
    "for func in [add_one, add_two]:\n",
    "   threads.append(Thread(target=func))\n",
    "   threads[-1].start()\n",
    "\n",
    "for thread in threads:\n",
    "   \"\"\"\n",
    "   Waits for threads to complete before moving on with the main\n",
    "   script.\n",
    "   \"\"\"\n",
    "   thread.join()\n",
    "\n",
    "print(g)"
   ]
  },
  {
   "cell_type": "markdown",
   "metadata": {},
   "source": [
    "### ReLock\n",
    "\n",
    "L'objet de verrouillage standard ne se soucie pas du thread qui détient actuellement le verrou; si le verrou est maintenu, tout thread qui tente d'acquérir le verrou se bloque, même si le même thread détient déjà le verrou. Dans l'exemple suivant, les fonctions get_first_part() et get_second_part() resteront bloquées, car la fonction externe increment() détient déjà le verrou."
   ]
  },
  {
   "cell_type": "code",
   "execution_count": 13,
   "metadata": {},
   "outputs": [
    {
     "name": "stdout",
     "output_type": "stream",
     "text": [
      "First try : True\n",
      "Second try: False\n",
      "print this if not blocked...\n"
     ]
    }
   ],
   "source": [
    "lock = threading.Lock()\n",
    "\n",
    "print('First try :',lock.acquire())\n",
    "print('Second try:',lock.acquire(0))\n",
    "print(\"print this if not blocked...\")"
   ]
  },
  {
   "cell_type": "markdown",
   "metadata": {},
   "source": [
    "La classe RLock est une version du verrouillage qui ne se bloque que si le verrou est détenu par un autre thread. Alors que les verrous simples se bloquent si le même thread tente d'acquérir le même verrou deux fois, un verrou rentrant ne se bloque que si un autre thread détient actuellement le verrou. Si le thread actuel tente d'acquérir un verrou qu'il détient déjà, l'exécution se poursuit comme d'habitude."
   ]
  },
  {
   "cell_type": "code",
   "execution_count": 14,
   "metadata": {},
   "outputs": [
    {
     "name": "stdout",
     "output_type": "stream",
     "text": [
      "First try : True\n",
      "Second try: True\n",
      "print this if not blocked...\n"
     ]
    }
   ],
   "source": [
    "lock = threading.RLock()\n",
    "\n",
    "print('First try :', lock.acquire())\n",
    "print('Second try:', lock.acquire(blocking = True, timeout = -1))\n",
    "print(\"print this if not blocked...\")"
   ]
  },
  {
   "cell_type": "markdown",
   "metadata": {},
   "source": [
    "En reprenant le même exemple mais avec un ReLock, , on réussi à réobtenir le verrou."
   ]
  },
  {
   "cell_type": "markdown",
   "metadata": {},
   "source": [
    "### Semaphore\n",
    "\n",
    "Un sémaphore gère un compteur interne qui est décrémenté à chaque appel acquise () et incrémenté à chaque appel release (). Le compteur ne peut jamais descendre en dessous de zéro; quand acquiert () trouve qu'il est égal à zéro, il bloque, en attendant qu'un autre thread appelle release ()."
   ]
  },
  {
   "cell_type": "code",
   "execution_count": 15,
   "metadata": {},
   "outputs": [
    {
     "name": "stdout",
     "output_type": "stream",
     "text": [
      "Waiting for a lock\n",
      "Acquired a lock\n",
      "Released a lock\n",
      "Done\n",
      "Waiting for a lockWaiting for worker threads\n",
      "\n",
      "Acquired a lock\n",
      "Released a lock\n",
      "Done\n",
      "Counter:2\n"
     ]
    }
   ],
   "source": [
    "class Counter(object):\n",
    "    def __init__(self, start = 0):\n",
    "        self.semaphore = threading.BoundedSemaphore(value=1)\n",
    "        self.value = start\n",
    "    def increment(self):\n",
    "        print('Waiting for a lock')\n",
    "        self.semaphore.acquire()\n",
    "        try:\n",
    "            print('Acquired a lock')\n",
    "            self.value = self.value + 1\n",
    "        finally:\n",
    "            print('Released a lock')\n",
    "            self.semaphore.release()\n",
    "\n",
    "def worker(c):\n",
    "    c.increment()\n",
    "    print('Done')\n",
    "\n",
    "\n",
    "my_list=[]\n",
    "counter = Counter()\n",
    "for i in range(2):\n",
    "    t = threading.Thread(target=worker, args=(counter,))\n",
    "    my_list.append(t)\n",
    "    t.start()\n",
    "\n",
    "print('Waiting for worker threads')\n",
    "main_thread = threading.currentThread()\n",
    "for t in my_list:\n",
    "    t.join()\n",
    "print('Counter:'+ str(counter.value))"
   ]
  },
  {
   "cell_type": "markdown",
   "metadata": {
    "id": "beVDLK0aFmUq"
   },
   "source": [
    "### Les objets condition\n",
    "La gestion de la concurrence se fait aussi atravers les objets obtenus à base de la methode condition(). Celui-ci permet lors d'un accées à la ressource de créer une attente du thread pour une condition donnée. A chaque modification, la condition notifie les autres thread afin que la condition soit réévaluée."
   ]
  },
  {
   "cell_type": "raw",
   "metadata": {
    "colab": {
     "base_uri": "https://localhost:8080/"
    },
    "id": "6aMn1EugIK8Q",
    "outputId": "7e331e10-a20a-428b-89df-fe1a47ae7cb0"
   },
   "source": [
    "import threading\n",
    "import time\n",
    "import logging\n",
    "\n",
    "logging.basicConfig(level=logging.DEBUG,\n",
    "                    format='(%(threadName)-9s) %(message)s',)\n",
    "\n",
    "def consumer(cv):\n",
    "    logging.debug('Consumer thread started ...')\n",
    "    with cv:\n",
    "        logging.debug('Consumer waiting ...')\n",
    "        cv.wait()\n",
    "        logging.debug('Consumer consumed the resource')\n",
    "\n",
    "def producer(cv):\n",
    "    logging.debug('Producer thread started ...')\n",
    "    with cv:\n",
    "        logging.debug('Making resource available')\n",
    "        logging.debug('Notifying to all consumers')\n",
    "        cv.notifyAll()\n",
    "\n",
    "if __name__ == '__main__':\n",
    "    condition = threading.Condition()\n",
    "    cs1 = threading.Thread(name='consumer1', target=consumer, args=(condition,))\n",
    "    cs2 = threading.Thread(name='consumer2', target=consumer, args=(condition,))\n",
    "    pd = threading.Thread(name='producer', target=producer, args=(condition,))\n",
    "\n",
    "    cs1.start()\n",
    "    time.sleep(2)\n",
    "    cs2.start()\n",
    "    time.sleep(2)\n",
    "    pd.start()"
   ]
  },
  {
   "cell_type": "markdown",
   "metadata": {},
   "source": [
    "### Barrier\n",
    "\n",
    "Une barrière est une simple primitive de synchronisation qui peut être utilisée par différents threads pour s'attendre les uns les autres. Chaque thread tente de passer une barrière en appelant la wait()méthode, qui se bloquera jusqu'à ce que tous les threads aient effectué cet appel. Dès que cela se produit, les threads sont libérés simultanément. L'extrait de code suivant illustre l'utilisation de Barrier"
   ]
  },
  {
   "cell_type": "code",
   "execution_count": 16,
   "metadata": {},
   "outputs": [
    {
     "name": "stdout",
     "output_type": "stream",
     "text": [
      "Race starts now…\n",
      "Lokesh reached the barrier at: Sat Oct 31 20:49:08 2020\n",
      "Iqbal reached the barrier at: Sat Oct 31 20:49:09 2020\n",
      "George reached the barrier at: Sat Oct 31 20:49:09 2020\n",
      "Harsh reached the barrier at: Sat Oct 31 20:49:09 2020\n",
      "\n",
      "Race over!\n"
     ]
    }
   ],
   "source": [
    "#barrier_tut.py\n",
    "from random import randrange\n",
    "from threading import Barrier, Thread\n",
    "from time import ctime, sleep\n",
    "\n",
    "num = 4\n",
    "# 4 threads will need to pass this barrier to get released.\n",
    "b = Barrier(num)\n",
    "names = [\"Harsh\", \"Lokesh\", \"George\", \"Iqbal\"]\n",
    "\n",
    "def player():\n",
    "    name = names.pop()\n",
    "    sleep(randrange(2, 5))\n",
    "    print(\"%s reached the barrier at: %s\" % (name, ctime()))\n",
    "    b.wait()\n",
    "    \n",
    "threads = []\n",
    "print(\"Race starts now…\")\n",
    "\n",
    "for i in range(num):\n",
    "    threads.append(Thread(target=player))\n",
    "    threads[-1].start()\n",
    "\"\"\"\n",
    "Following loop enables waiting for the threads to complete before moving on with the main script.\n",
    "\"\"\"\n",
    "for thread in threads:\n",
    "    thread.join()\n",
    "print()\n",
    "print(\"Race over!\")"
   ]
  },
  {
   "cell_type": "markdown",
   "metadata": {},
   "source": [
    "### Objet Event\n",
    "\n",
    "Nous utilisons plusieurs threads pour faire tourner des opérations séparées afin de les exécuter simultanément, cependant, il y a des moments où il est important de pouvoir synchroniser les opérations de deux ou plusieurs threads. L'utilisation d' objets Event est le moyen simple de communiquer entre les threads.\n",
    "\n",
    "Un événement gère un indicateur interne que les appelants peuvent définir () ou effacer () . D'autres threads peuvent attendre () que l'indicateur soit défini () . On note que la méthode wait () se bloque jusqu'à ce que l'indicateur soit vrai.\n"
   ]
  },
  {
   "cell_type": "raw",
   "metadata": {},
   "source": [
    "import time\n",
    "import logging\n",
    "\n",
    "logging.basicConfig(level=logging.DEBUG,\n",
    "                    format='(%(threadName)-9s) %(message)s',)\n",
    "                    \n",
    "def wait_for_event(e):\n",
    "    logging.debug('wait_for_event starting')\n",
    "    event_is_set = e.wait()\n",
    "    logging.debug('event set: %s', event_is_set)\n",
    "\n",
    "def wait_for_event_timeout(e, t):\n",
    "    while not e.isSet():\n",
    "        logging.debug('wait_for_event_timeout starting')\n",
    "        event_is_set = e.wait(t)\n",
    "        logging.debug('event set: %s', event_is_set)\n",
    "        if event_is_set:\n",
    "            logging.debug('processing event')\n",
    "        else:\n",
    "            logging.debug('doing other things')\n",
    "\n",
    "if __name__ == '__main__':\n",
    "    e = threading.Event()\n",
    "    t1 = threading.Thread(name='blocking', \n",
    "                      target=wait_for_event,\n",
    "                      args=(e,))\n",
    "    t1.start()\n",
    "\n",
    "    t2 = threading.Thread(name='non-blocking', \n",
    "                      target=wait_for_event_timeout, \n",
    "                      args=(e, 2))\n",
    "    t2.start()\n",
    "\n",
    "    logging.debug('Waiting before calling Event.set()')\n",
    "    time.sleep(3)\n",
    "    e.set()\n",
    "    logging.debug('Event is set')"
   ]
  },
  {
   "cell_type": "markdown",
   "metadata": {},
   "source": [
    "## Définitions de quelques procédures pour initialiser une grille à partir d'un fichier de configuration\n",
    "\n",
    "<span style=\"color:red\">Vous ne pouvez pas modifier les classes/procédures/fonctions suivantes</span>"
   ]
  },
  {
   "cell_type": "code",
   "execution_count": 1,
   "metadata": {
    "ExecuteTime": {
     "end_time": "2020-09-09T14:56:37.017896Z",
     "start_time": "2020-09-09T14:56:37.014070Z"
    }
   },
   "outputs": [],
   "source": [
    "def is_running_from_ipython():\n",
    "    # Renvoie True si on execute le code depuis un notebook\n",
    "       from IPython import get_ipython\n",
    "       return get_ipython() is not None\n",
    "\n",
    "# Permet de savoir qui exécute le code\n",
    "import platform\n",
    "MICHEL = ('michel' in platform.node()) or ('charvin' in platform.node())"
   ]
  },
  {
   "cell_type": "code",
   "execution_count": 2,
   "metadata": {},
   "outputs": [],
   "source": [
    "class Debug:\n",
    "    def __init__(self, debug=False):\n",
    "        self.debug = debug\n",
    "        \n",
    "    def affiche(self, *args):\n",
    "        if self.debug:\n",
    "            print(args)"
   ]
  },
  {
   "cell_type": "code",
   "execution_count": 3,
   "metadata": {
    "ExecuteTime": {
     "end_time": "2020-09-09T14:56:38.411155Z",
     "start_time": "2020-09-09T14:56:38.406363Z"
    }
   },
   "outputs": [],
   "source": [
    "# Différents imports\n",
    "import copy\n",
    "import math\n",
    "import time\n",
    "import numpy as np\n",
    "\n",
    "%matplotlib inline\n",
    "import matplotlib.pyplot as plt"
   ]
  },
  {
   "cell_type": "code",
   "execution_count": 4,
   "metadata": {
    "ExecuteTime": {
     "end_time": "2020-09-09T14:56:40.469475Z",
     "start_time": "2020-09-09T14:56:39.487216Z"
    }
   },
   "outputs": [],
   "source": [
    "# Reglage de l'affichage\n",
    "\n",
    "# Définition des affichage possible définition\n",
    "!echo 'Aucun = 0' >affichage.py\n",
    "!echo 'tkinter = 1' >>affichage.py # Not implemented\n",
    "!echo 'OpenCV = 2' >> affichage.py # Not completly implemented\n",
    "\n",
    "!echo 'PERSONNE = (0.0, 0.0, 1.0)' >>affichage.py\n",
    "!echo 'IMMOBILE = (1.0, 0.0, 0.0)' >>affichage.py\n",
    "!echo 'OBSTACLE = (0.0, 1.0, 0.0)' >>affichage.py\n",
    "!echo 'EMPTY = (1.0, 1.0, 1.0)' >>affichage.py\n",
    "!echo 'ARRIVEE = (0.0, 0.0, 0.0)' >>affichage.py # Not used\n",
    "\n",
    "import affichage\n",
    "import cv2\n",
    "\n",
    "UI = affichage.OpenCV"
   ]
  },
  {
   "cell_type": "code",
   "execution_count": 5,
   "metadata": {
    "ExecuteTime": {
     "end_time": "2020-09-09T14:56:40.476993Z",
     "start_time": "2020-09-09T14:56:40.472805Z"
    }
   },
   "outputs": [],
   "source": [
    "#if MICHEL:\n",
    "petite_grille = \"maps/map-initial.txt\" # fichier décrivant une petite grille\n",
    "grande_grille = \"maps/map-final.txt\"  # fichier décrivant une grande grille\n",
    "debug = Debug(True)"
   ]
  },
  {
   "cell_type": "code",
   "execution_count": 6,
   "metadata": {
    "ExecuteTime": {
     "end_time": "2020-09-09T14:56:41.169989Z",
     "start_time": "2020-09-09T14:56:40.563847Z"
    }
   },
   "outputs": [],
   "source": [
    "# Constant définition\n",
    "!echo 'EMPTY = 0' >const.py\n",
    "!echo 'OBSTACLE = 1' >>const.py\n",
    "!echo 'PERSONNE = 2' >> const.py\n",
    "!echo 'IMMOBILE = 3' >> const.py\n",
    "!echo 'ARRIVEE = 4' >> const.py\n",
    "import const"
   ]
  },
  {
   "cell_type": "code",
   "execution_count": 7,
   "metadata": {
    "ExecuteTime": {
     "end_time": "2020-09-09T14:56:41.181031Z",
     "start_time": "2020-09-09T14:56:41.175015Z"
    }
   },
   "outputs": [
    {
     "name": "stdout",
     "output_type": "stream",
     "text": [
      "('Ouverture du fichier', 'maps/map-initial.txt')\n"
     ]
    }
   ],
   "source": [
    "# Lecture du fichier de configuration\n",
    "def open_file(filename, debug):\n",
    "    debug.affiche(\"Ouverture du fichier\", filename)\n",
    "    fileMap = open(filename, 'r')\n",
    "    return fileMap\n",
    "\n",
    "file = open_file(petite_grille, debug)"
   ]
  },
  {
   "cell_type": "markdown",
   "metadata": {},
   "source": [
    "### Définition de la grille"
   ]
  },
  {
   "cell_type": "code",
   "execution_count": 8,
   "metadata": {
    "ExecuteTime": {
     "end_time": "2020-09-09T14:56:42.917234Z",
     "start_time": "2020-09-09T14:56:42.910654Z"
    }
   },
   "outputs": [],
   "source": [
    "def read_grid_size(file, debug):\n",
    "    line = file.readline()\n",
    "    while line[0]=='#':\t# on saute les commentaires\n",
    "        line = file.readline()\n",
    "    \n",
    "    # Lecture de la taille de la grille\n",
    "    while line[0]!='#':\t# on lit jusqu'au prochain commentaires\n",
    "        if (line[0]=='X'):\n",
    "            X = int(line.split(' ')[1])\n",
    "        if (line[0]=='Y'):\n",
    "            Y = int(line.split(' ')[1])\n",
    "        line = file.readline()\n",
    "\n",
    "    debug.affiche(\"Simulation pour une grille:\", X, \"*\", Y)\n",
    "    \n",
    "    return X, Y"
   ]
  },
  {
   "cell_type": "code",
   "execution_count": 9,
   "metadata": {},
   "outputs": [
    {
     "name": "stdout",
     "output_type": "stream",
     "text": [
      "('Simulation pour une grille:', 10, '*', 10)\n"
     ]
    }
   ],
   "source": [
    "X, Y = read_grid_size(file, debug)"
   ]
  },
  {
   "cell_type": "code",
   "execution_count": 10,
   "metadata": {
    "ExecuteTime": {
     "end_time": "2020-09-09T14:56:43.748661Z",
     "start_time": "2020-09-09T14:56:43.726699Z"
    }
   },
   "outputs": [],
   "source": [
    "# Definition de la grille\n",
    "class Grille:\n",
    "    # Crée un objet list\n",
    "    def __init__(self, Xmax, Ymax, UI, debug):\n",
    "        debug.affiche(\"Initilisation de l'objet grille\")\n",
    "        self.Xmax = Xmax\n",
    "        self.Ymax = Ymax\n",
    "        if const.EMPTY==0:\n",
    "            self.map = np.zeros((Xmax, Ymax))\n",
    "        elif const.EMPTY==1:\n",
    "            self.map = np.ones((Xmax, Ymax))\n",
    "        else:\n",
    "            self.map = np.array(Xmax, Ymax)\n",
    "            for i in range(Xmax):\n",
    "                for j in range(Ymax):\n",
    "                    self.map[i,j] = const.EMPTY\n",
    "        self.mapList = []\n",
    "        self.obstacleList = []\n",
    "        self.personneList = []\n",
    "        self.debug = debug\n",
    "        self.UI = UI\n",
    "\n",
    "    def SetObstacle(self, obstacle):\n",
    "        for x in range(obstacle.Xmin, obstacle.Xmax+1):\n",
    "            for y in range(obstacle.Ymin, obstacle.Ymax+1):\n",
    "                self.map[x][y] = const.OBSTACLE\n",
    "        self.obstacleList += [obstacle]\n",
    "\n",
    "    def SetPersonne(self, personne):\n",
    "        if self.map[personne.X][personne.Y]==const.EMPTY:\n",
    "            # la case est vide\n",
    "            self.map[personne.X][personne.Y] = const.PERSONNE\n",
    "            self.personneList += [personne]\n",
    "            return True\n",
    "        else:\n",
    "            debug.affiche(\"Personne non créée, la place est occupée\", personne.X, personne.Y)\n",
    "            return False\n",
    "        \n",
    "    def isCellEmpty(self, x, y):\n",
    "        return self.map[x][y]==const.EMPTY\n",
    "    \n",
    "    def Set(self, x, y, status):\n",
    "        self.map[x][y] = status\n",
    "        \n",
    "    def Save(self, name):\n",
    "        with open(name, 'w') as file:\n",
    "            file.write(\"# taille de la grille\\n\")\n",
    "            file.write(\"X \"+str(self.Xmax)+\"\\n\")\n",
    "            file.write(\"Y \"+str(self.Ymax)+\"\\n\")\n",
    "            file.write(\"# position des obstacles\\n\")\n",
    "            file.write(\"# Xmin Xmax Ymin Ymax\\n\")\n",
    "            file.write(\"# si pas obstacle : mettre -1 comme valeur\\n\")\n",
    "            file.write(\"# \"+str(len(self.obstacleList))+\" obstacles\\n\")\n",
    "            for o in self.obstacleList:\n",
    "                file.write(str(o.Xmin)+\" \"+str(o.Xmax)+\" \"+str(o.Ymin)+\" \"+str(o.Ymax)+\"\\n\")\n",
    "            file.write(\"# position initiale des personnes (X, Y) et case de sortie (X, Y)\\n\")\n",
    "            file.write(\"# \"+str(len(self.personneList))+\" personnes\\n\")\n",
    "            for p in self.personneList:\n",
    "                file.write(str(p.X)+\" \"+str(p.Y)+\" \"+str(p.Xsortie)+\" \"+str(p.Ysortie)+\"\\n\")\n",
    "                \n",
    "    # Solution imparfaite car une personne peut être bloquée par un obstacle\n",
    "    def Simulation(self):\n",
    "        if self.debug.debug or self.UI==affichage.OpenCV:\n",
    "            self.mapList.append(copy.copy(self.map))\n",
    "        if self.UI==affichage.OpenCV:\n",
    "            cv2.imshow(\"img\", createImage(self.map))\n",
    "            cv2.waitKey(500)\n",
    "    \n",
    "        while len(self.personneList)>0: # il y a encore une personne dans la liste qui peut bouger\n",
    "            for personne in self.personneList:\n",
    "                end, immobile = personne.deplacePersonne(self, self.debug)\n",
    "                if end:\n",
    "                    self.debug.affiche(\"Une personne vient de sortir, il reste\", len(self.personneList), \"personnes\")\n",
    "            if self.debug.debug or self.UI==affichage.OpenCV:\n",
    "                self.mapList.append(copy.copy(self.map))\n",
    "                if self.UI==affichage.OpenCV:\n",
    "                    cv2.imshow(\"img\", createImage(self.map))\n",
    "                    cv2.waitKey(500)\n",
    "    \n",
    "        if self.UI==affichage.OpenCV:\n",
    "            cv2.destroyAllWindows()"
   ]
  },
  {
   "cell_type": "code",
   "execution_count": 11,
   "metadata": {
    "ExecuteTime": {
     "end_time": "2020-09-09T14:56:44.483524Z",
     "start_time": "2020-09-09T14:56:44.478404Z"
    }
   },
   "outputs": [
    {
     "name": "stdout",
     "output_type": "stream",
     "text": [
      "(\"Initilisation de l'objet grille\",)\n"
     ]
    }
   ],
   "source": [
    "# Creation de la grille\n",
    "grid = Grille(X, Y, affichage.Aucun, debug)"
   ]
  },
  {
   "cell_type": "markdown",
   "metadata": {},
   "source": [
    "### Définition d'un obstacle"
   ]
  },
  {
   "cell_type": "code",
   "execution_count": 12,
   "metadata": {
    "ExecuteTime": {
     "end_time": "2020-09-09T14:56:45.740092Z",
     "start_time": "2020-09-09T14:56:45.735268Z"
    }
   },
   "outputs": [],
   "source": [
    "class Obstacle():\n",
    "    def __init__(self, grid,  Xmin, Xmax, Ymin, Ymax, debug):\n",
    "        self.Xmin = Xmin\n",
    "        self.Xmax = Xmax\n",
    "        self.Ymin = Ymin\n",
    "        self.Ymax = Ymax\n",
    "        self.debug = debug\n",
    "        grid.SetObstacle(self)\n",
    "        debug.affiche(\"Création de l'obstacle (\", Xmin, Xmax, \") - (\", Ymin, Ymax, \")\")"
   ]
  },
  {
   "cell_type": "code",
   "execution_count": 13,
   "metadata": {
    "ExecuteTime": {
     "end_time": "2020-09-09T14:56:46.248553Z",
     "start_time": "2020-09-09T14:56:46.238774Z"
    },
    "code_folding": []
   },
   "outputs": [],
   "source": [
    "def read_obstacles(file, grid, Obstacle, debug):\n",
    "    # Lecture de la liste des obstacles et placement sur la grille\n",
    "    line = file.readline()\n",
    "    while line[0]=='#':\t# on saute les commentaires\n",
    "        line = file.readline()\n",
    "\n",
    "    while line[0]!='#':\t# on lit jusqu'au prochain commentaires\n",
    "        coordonnee = line.strip().split(' ')\n",
    "        if int(coordonnee[0])>=0:\n",
    "            assert (int(coordonnee[0])>0 and int(coordonnee[2])>0)\n",
    "            assert (int(coordonnee[1])<X)\n",
    "            assert (int(coordonnee[3])<Y)\n",
    "            Obstacle(grid, int(coordonnee[0]), int(coordonnee[1]), int(coordonnee[2]), int(coordonnee[3]), debug)\n",
    "        else:\n",
    "            debug.affiche(\"obstacle non créé\", coordonnee)\n",
    "        line = file.readline()        \n",
    "\n",
    "    debug.affiche(len(grid.obstacleList), \"obstacles ont été créés\")"
   ]
  },
  {
   "cell_type": "code",
   "execution_count": 14,
   "metadata": {},
   "outputs": [
    {
     "name": "stdout",
     "output_type": "stream",
     "text": [
      "('obstacle non créé', ['-1', '-1', '-1', '-1'])\n",
      "(\"Création de l'obstacle (\", 1, 1, ') - (', 2, 7, ')')\n",
      "(\"Création de l'obstacle (\", 1, 7, ') - (', 8, 8, ')')\n",
      "(2, 'obstacles ont été créés')\n"
     ]
    }
   ],
   "source": [
    "# On lit tous les obstacles contenus dans le fichier de configuration\n",
    "read_obstacles(file, grid, Obstacle, debug)"
   ]
  },
  {
   "cell_type": "code",
   "execution_count": 15,
   "metadata": {
    "ExecuteTime": {
     "end_time": "2020-09-09T14:56:46.829744Z",
     "start_time": "2020-09-09T14:56:46.734536Z"
    }
   },
   "outputs": [
    {
     "data": {
      "image/png": "[encoded data removed]",
      "text/plain": [
       "<Figure size 432x288 with 1 Axes>"
      ]
     },
     "metadata": {
      "needs_background": "light"
     },
     "output_type": "display_data"
    }
   ],
   "source": [
    "# Affichage de la grille\n",
    "plt.imshow(grid.map, cmap='Paired', vmin=0, vmax=5)\n",
    "plt.show()"
   ]
  },
  {
   "cell_type": "markdown",
   "metadata": {},
   "source": [
    "### Définition d'une personne"
   ]
  },
  {
   "cell_type": "code",
   "execution_count": 16,
   "metadata": {
    "ExecuteTime": {
     "end_time": "2020-09-09T14:56:47.956152Z",
     "start_time": "2020-09-09T14:56:47.941709Z"
    }
   },
   "outputs": [],
   "source": [
    "def distance(X, Y):\n",
    "    return int(np.abs(X[0]-Y[0])+np.abs(X[1]-Y[1]))\n",
    "\n",
    "class Personne():\n",
    "    def __init__(self, grid, Xinit, Yinit, Xsortie, Ysortie, debug):\n",
    "        self.X = Xinit\n",
    "        self.Y = Yinit\n",
    "        self.Xsortie = Xsortie\n",
    "        self.Ysortie = Ysortie\n",
    "        self.debug = debug\n",
    "        personneCrée = grid.SetPersonne(self)\n",
    "        if personneCrée:\n",
    "            debug.affiche(\"Création de la personne qui part de\", Xinit, Yinit, \"pour aller à\", Xsortie, Ysortie)\n",
    "    \n",
    "    def getAvailableMove(self, grid): # retourne la liste triée des déplacements possibles\n",
    "        # distance à la grille\n",
    "        dist_actuel = distance((self.X, self.Y), (self.Xsortie, self.Ysortie))\n",
    "        depl = []\n",
    "        # on calcule la distance entre les case adjacente et la sortie\n",
    "        for x in range(self.X-1, self.X+2):\n",
    "            for y in range (self.Y-1, self.Y+2):\n",
    "                if (x!=self.X or y!=self.Y) and (x==self.X or y==self.Y) and (x>=0 and y>=0 and x<grid.Xmax and y<grid.Ymax): # deplacement uniquement points cardinaux\n",
    "                    # on est sur une case adjacente et on est sur la grille\n",
    "                    if grid.isCellEmpty(x, y): # si la case est vide\n",
    "                        dist = distance((self.Xsortie, self.Ysortie), (x,y))\n",
    "                        if (dist<dist_actuel): # on se rappproche\n",
    "                             depl.append((dist, x, y))\n",
    "        return sorted(depl)\n",
    "\n",
    "    def getBetterMove(self, grid):\n",
    "        return self.getAvailableMove(grid)[0]\n",
    "\n",
    "    def Move(self, grid, depl):\n",
    "        debug.affiche(\"Déplacement de la personne de (\", self.X, self.Y, \") à (\", depl[1], depl[2], \")\")\n",
    "        grid.Set(self.X, self.Y, const.EMPTY)\n",
    "        self.X = depl[1]\n",
    "        self.Y = depl[2]\n",
    "        grid.Set(self.X, self.Y, const.PERSONNE)\n",
    "        \n",
    "    def deplacePersonne(self, grid, debug):\n",
    "        if self.X==self.Xsortie and self.Y==self.Ysortie:\n",
    "            # la personne est arrivée à la sortie\n",
    "            # on retire la personne de la liste\n",
    "            grid.personneList.remove(self)\n",
    "            # on libere la case de sortie\n",
    "            grid.Set(self.X, self.Y, const.EMPTY)\n",
    "            return True, False\n",
    "    \n",
    "        # sinon on recherche les déplacements possibles\n",
    "        availableMove = self.getAvailableMove(grid)\n",
    "        debug.affiche(\"La personne (\", self.X, self.Y, \") peut se déplacer sur :\", availableMove)\n",
    "            \n",
    "        if len(availableMove)>0:\n",
    "            # on se déplace sure la nouvelle case\n",
    "            self.Move(grid, availableMove[0]) \n",
    "            return False, False\n",
    "        \n",
    "        # sinon aucun d\"éplacement n'est possible\n",
    "        if grid.UI==affichage.OpenCV:\n",
    "            grid.Set(self.X, self.Y, const.IMMOBILE)\n",
    "        debug.affiche(\"La personne (\", self.X, self.Y, \"ne peut pas se déplacer\")\n",
    "        return False, True"
   ]
  },
  {
   "cell_type": "code",
   "execution_count": 17,
   "metadata": {
    "ExecuteTime": {
     "end_time": "2020-09-09T14:56:48.629455Z",
     "start_time": "2020-09-09T14:56:48.617795Z"
    }
   },
   "outputs": [],
   "source": [
    "def read_personnes(file, grid, Personne, nombre, debug):\n",
    "    # Lecture de la liste des personnes et placement sur la grille\n",
    "    # s'arrête quand le nombre de personnes souhaité est atteind\n",
    "    # Si nombre = -1, on lit jusqu'à la fin du fichier (idem si nombre est supérieur aux nombres de personnes dans le fichier)\n",
    "    line = file.readline()\n",
    "    while line[0]=='#':\t# on saute les commentaires\n",
    "        line = file.readline()\n",
    "        \n",
    "    while line:\t# on lit jusqu'à la fin du fichier\n",
    "        coordonnee = line.strip().split(' ')\n",
    "        if coordonnee[0]!='#':\n",
    "            assert (int(coordonnee[0])>0 and int(coordonnee[1])>0\n",
    "                and int(coordonnee[2])<X or int(coordonnee[3])<Y) # La personne est sur la grille\n",
    "            assert ((int(coordonnee[2])==0 or int(coordonnee[2])==X-1)  # elle sort sur un bord X\n",
    "                and                                                  # et\n",
    "                (int(coordonnee[3])==0 or int(coordonnee[3])==Y-1)) # elle sort sur un bord Y\n",
    "            Personne(grid, int(coordonnee[0]), int(coordonnee[1]), int(coordonnee[2]), int(coordonnee[3]), debug)\n",
    "            \n",
    "        if len(grid.personneList)==nombre:\n",
    "            debug.affiche(len(grid.personneList), \"personnes ont été créées\")\n",
    "            file.close()\n",
    "            return\n",
    "        line = file.readline()\n",
    "    debug.affiche(\"Fermeture du fichier\")\n",
    "    file.close()\n",
    "    \n",
    "    debug.affiche(\"On a lut tout le fichier,\", len(grid.personneList), \"personnes ont été créées\")"
   ]
  },
  {
   "cell_type": "code",
   "execution_count": 18,
   "metadata": {},
   "outputs": [
    {
     "name": "stdout",
     "output_type": "stream",
     "text": [
      "('Création de la personne qui part de', 2, 2, 'pour aller à', 0, 0)\n",
      "('Création de la personne qui part de', 3, 3, 'pour aller à', 0, 9)\n",
      "('Création de la personne qui part de', 6, 6, 'pour aller à', 9, 0)\n",
      "('Création de la personne qui part de', 7, 7, 'pour aller à', 9, 9)\n",
      "('Fermeture du fichier',)\n",
      "('On a lut tout le fichier,', 4, 'personnes ont été créées')\n"
     ]
    }
   ],
   "source": [
    "# On lit toutes les personnes contenues dans le fichier de configuration\n",
    "read_personnes(file, grid, Personne, -1, debug)"
   ]
  },
  {
   "cell_type": "code",
   "execution_count": 19,
   "metadata": {
    "ExecuteTime": {
     "end_time": "2020-09-09T14:56:49.611918Z",
     "start_time": "2020-09-09T14:56:49.518984Z"
    }
   },
   "outputs": [
    {
     "data": {
      "image/png": "[encoded data removed]",
      "text/plain": [
       "<Figure size 432x288 with 1 Axes>"
      ]
     },
     "metadata": {
      "needs_background": "light"
     },
     "output_type": "display_data"
    }
   ],
   "source": [
    "# Affichage de la grille\n",
    "plt.imshow(grid.map, cmap='Paired', vmin=0, vmax=5)\n",
    "plt.show()"
   ]
  },
  {
   "cell_type": "markdown",
   "metadata": {},
   "source": [
    "### Construction d'une image pour OpenCV"
   ]
  },
  {
   "cell_type": "code",
   "execution_count": 20,
   "metadata": {
    "ExecuteTime": {
     "end_time": "2020-09-09T14:56:52.548943Z",
     "start_time": "2020-09-09T14:56:52.539805Z"
    }
   },
   "outputs": [],
   "source": [
    "# Uniquement nécessaire pour la visualisation en OpenCV\n",
    "def createImage(image):\n",
    "    X = image.shape[0]\n",
    "    Y = image.shape[1]\n",
    "    ZOOM = max(min(1024//X, 1024//Y), 1)\n",
    "    img = np.zeros((X*ZOOM, Y*ZOOM, 3), dtype=np.float)\n",
    "    for i in range(X):\n",
    "        for t in range(ZOOM):\n",
    "            for j in range(Y):\n",
    "                for u in range(ZOOM):\n",
    "                    if image[i][j]==const.EMPTY:\n",
    "                        img[ZOOM*i+t][ZOOM*j+u]=affichage.EMPTY\n",
    "                    elif image[i][j]==const.OBSTACLE:\n",
    "                        img[ZOOM*i+t][ZOOM*j+u]=affichage.OBSTACLE\n",
    "                    elif image[i][j]==const.PERSONNE:\n",
    "                        img[ZOOM*i+t][ZOOM*j+u]=affichage.PERSONNE\n",
    "                    elif image[i][j]==const.IMMOBILE:\n",
    "                        img[ZOOM*i+t][ZOOM*j+u]=affichage.IMMOBILE\n",
    "                    elif image[i][j]==const.ARRIVEE:  \n",
    "                        img[ZOOM*i+t][ZOOM*j+u]=affichage.ARRIVEE\n",
    "    return img"
   ]
  },
  {
   "cell_type": "code",
   "execution_count": 21,
   "metadata": {},
   "outputs": [],
   "source": [
    "# Affichage en OpenCV de la grille créée\n",
    "if UI==affichage.OpenCV:\n",
    "    cv2.imshow(\"img\", createImage(grid.map))\n",
    "    cv2.waitKey(5000) # Affichage pendant 5 secondes\n",
    "    cv2.destroyAllWindows()"
   ]
  },
  {
   "cell_type": "markdown",
   "metadata": {},
   "source": [
    "## Utilisation des procédures précédentes pour créer une nouvelle grille qui sera sauvegardée dans un fichier"
   ]
  },
  {
   "cell_type": "code",
   "execution_count": 22,
   "metadata": {},
   "outputs": [
    {
     "name": "stdout",
     "output_type": "stream",
     "text": [
      "(\"Initilisation de l'objet grille\",)\n"
     ]
    }
   ],
   "source": [
    "# Création d'une grille de 1024*1024\n",
    "debug = Debug(True)\n",
    "UI = affichage.Aucun\n",
    "\n",
    "X = 1024\n",
    "Y = 1024\n",
    "grid = Grille(X, Y, UI, debug)"
   ]
  },
  {
   "cell_type": "code",
   "execution_count": 23,
   "metadata": {},
   "outputs": [
    {
     "name": "stdout",
     "output_type": "stream",
     "text": [
      "(\"Création de l'obstacle (\", 2, 83, ') - (', 21, 62, ')')\n",
      "(\"Création de l'obstacle (\", 56, 138, ') - (', 181, 171, ')')\n",
      "(\"Création de l'obstacle (\", 106, 193, ') - (', 143, 311, ')')\n",
      "(\"Création de l'obstacle (\", 153, 177, ') - (', 331, 313, ')')\n",
      "(\"Création de l'obstacle (\", 203, 286, ') - (', 242, 237, ')')\n",
      "(\"Création de l'obstacle (\", 258, 349, ') - (', 273, 384, ')')\n",
      "(\"Création de l'obstacle (\", 306, 316, ') - (', 361, 455, ')')\n",
      "(\"Création de l'obstacle (\", 351, 393, ') - (', 402, 413, ')')\n",
      "(\"Création de l'obstacle (\", 405, 414, ') - (', 422, 558, ')')\n",
      "(\"Création de l'obstacle (\", 452, 526, ') - (', 602, 640, ')')\n",
      "(\"Création de l'obstacle (\", 511, 506, ') - (', 605, 747, ')')\n",
      "(\"Création de l'obstacle (\", 555, 591, ') - (', 734, 764, ')')\n",
      "(\"Création de l'obstacle (\", 602, 632, ') - (', 723, 874, ')')\n",
      "(\"Création de l'obstacle (\", 658, 651, ') - (', 794, 651, ')')\n",
      "(\"Création de l'obstacle (\", 705, 776, ') - (', 721, 704, ')')\n",
      "(\"Création de l'obstacle (\", 762, 845, ') - (', 916, 972, ')')\n",
      "(16, 'obstacles ont été créés')\n"
     ]
    }
   ],
   "source": [
    "# La grille contient 2^4 obstacles\n",
    "nb_obs = np.power(2,4)\n",
    "\n",
    "coordonnee = np.zeros((4,1), dtype=np.int)\n",
    "for i in range(nb_obs):\n",
    "    for j in range(4):\n",
    "        val_min = 1+50*i+np.random.randint(10)*10*j\n",
    "        if j%2 == 0:\n",
    "            val_max = min(1+val_min+np.random.randint(20), grid.Xmax)\n",
    "        else:\n",
    "            val_max = min(1+val_min+np.random.randint(20), grid.Ymax)\n",
    "        coordonnee[j] = np.random.randint(val_min, val_max)\n",
    "    \n",
    "    assert (int(coordonnee[0])>0 and int(coordonnee[2])>0)\n",
    "    assert (int(coordonnee[1])<X)\n",
    "    assert (int(coordonnee[3])<Y)\n",
    "    Obstacle(grid, int(coordonnee[0]), int(coordonnee[1]), int(coordonnee[2]), int(coordonnee[3]), debug)\n",
    "    \n",
    "debug.affiche(len(grid.obstacleList), \"obstacles ont été créés\")"
   ]
  },
  {
   "cell_type": "code",
   "execution_count": 24,
   "metadata": {},
   "outputs": [
    {
     "name": "stdout",
     "output_type": "stream",
     "text": [
      "('Personne non créée, la place est occupée', 801, 942)\n",
      "('Création de la personne qui part de', 405, 677, 'pour aller à', 0, 1023)\n",
      "('Création de la personne qui part de', 250, 155, 'pour aller à', 0, 1023)\n",
      "('Création de la personne qui part de', 369, 554, 'pour aller à', 1023, 1023)\n",
      "('Création de la personne qui part de', 518, 702, 'pour aller à', 1023, 0)\n",
      "('Création de la personne qui part de', 619, 1012, 'pour aller à', 0, 1023)\n",
      "('Création de la personne qui part de', 214, 831, 'pour aller à', 1023, 0)\n",
      "('Création de la personne qui part de', 390, 197, 'pour aller à', 0, 1023)\n",
      "('Création de la personne qui part de', 40, 770, 'pour aller à', 0, 0)\n",
      "('Création de la personne qui part de', 982, 17, 'pour aller à', 1023, 0)\n",
      "('Création de la personne qui part de', 757, 204, 'pour aller à', 1023, 1023)\n",
      "('Création de la personne qui part de', 323, 199, 'pour aller à', 0, 1023)\n",
      "('Création de la personne qui part de', 889, 150, 'pour aller à', 0, 0)\n",
      "('Création de la personne qui part de', 745, 459, 'pour aller à', 1023, 1023)\n",
      "('Création de la personne qui part de', 788, 448, 'pour aller à', 0, 1023)\n",
      "('Création de la personne qui part de', 436, 852, 'pour aller à', 0, 0)\n",
      "('Création de la personne qui part de', 401, 332, 'pour aller à', 1023, 0)\n",
      "('Création de la personne qui part de', 703, 230, 'pour aller à', 0, 1023)\n",
      "('Création de la personne qui part de', 286, 855, 'pour aller à', 0, 0)\n",
      "('Création de la personne qui part de', 467, 415, 'pour aller à', 1023, 0)\n",
      "('Création de la personne qui part de', 998, 597, 'pour aller à', 1023, 1023)\n",
      "('Création de la personne qui part de', 531, 609, 'pour aller à', 0, 0)\n",
      "('Création de la personne qui part de', 195, 246, 'pour aller à', 1023, 0)\n",
      "('Création de la personne qui part de', 695, 932, 'pour aller à', 1023, 0)\n",
      "('Création de la personne qui part de', 447, 650, 'pour aller à', 0, 1023)\n",
      "('Création de la personne qui part de', 113, 687, 'pour aller à', 0, 1023)\n",
      "('Création de la personne qui part de', 308, 154, 'pour aller à', 0, 1023)\n",
      "('Création de la personne qui part de', 675, 78, 'pour aller à', 0, 1023)\n",
      "('Création de la personne qui part de', 1011, 791, 'pour aller à', 0, 1023)\n",
      "('Création de la personne qui part de', 788, 513, 'pour aller à', 1023, 0)\n",
      "('Création de la personne qui part de', 629, 397, 'pour aller à', 0, 0)\n",
      "('Création de la personne qui part de', 523, 401, 'pour aller à', 1023, 1023)\n",
      "('Création de la personne qui part de', 345, 605, 'pour aller à', 1023, 0)\n",
      "('Création de la personne qui part de', 683, 967, 'pour aller à', 1023, 0)\n",
      "('Création de la personne qui part de', 589, 948, 'pour aller à', 0, 1023)\n",
      "('Création de la personne qui part de', 218, 446, 'pour aller à', 1023, 1023)\n",
      "('Création de la personne qui part de', 27, 672, 'pour aller à', 0, 0)\n",
      "('Création de la personne qui part de', 172, 1017, 'pour aller à', 0, 0)\n",
      "('Création de la personne qui part de', 504, 464, 'pour aller à', 1023, 0)\n",
      "('Création de la personne qui part de', 413, 50, 'pour aller à', 1023, 1023)\n",
      "('Création de la personne qui part de', 859, 903, 'pour aller à', 0, 0)\n",
      "('Création de la personne qui part de', 429, 831, 'pour aller à', 0, 1023)\n",
      "('Création de la personne qui part de', 1013, 844, 'pour aller à', 1023, 0)\n",
      "('Création de la personne qui part de', 650, 261, 'pour aller à', 1023, 0)\n",
      "('Création de la personne qui part de', 98, 446, 'pour aller à', 0, 1023)\n",
      "('Création de la personne qui part de', 768, 995, 'pour aller à', 0, 1023)\n",
      "('Création de la personne qui part de', 570, 99, 'pour aller à', 0, 0)\n",
      "('Création de la personne qui part de', 550, 682, 'pour aller à', 1023, 0)\n",
      "('Création de la personne qui part de', 693, 710, 'pour aller à', 1023, 0)\n",
      "('Création de la personne qui part de', 644, 520, 'pour aller à', 0, 0)\n",
      "('Création de la personne qui part de', 169, 415, 'pour aller à', 0, 1023)\n",
      "('Création de la personne qui part de', 676, 293, 'pour aller à', 1023, 1023)\n",
      "('Création de la personne qui part de', 817, 659, 'pour aller à', 0, 0)\n",
      "('Création de la personne qui part de', 368, 805, 'pour aller à', 0, 0)\n",
      "('Création de la personne qui part de', 7, 676, 'pour aller à', 1023, 0)\n",
      "('Création de la personne qui part de', 775, 436, 'pour aller à', 1023, 0)\n",
      "('Création de la personne qui part de', 31, 854, 'pour aller à', 1023, 1023)\n",
      "('Création de la personne qui part de', 745, 56, 'pour aller à', 0, 1023)\n",
      "('Création de la personne qui part de', 131, 378, 'pour aller à', 1023, 1023)\n",
      "('Création de la personne qui part de', 418, 229, 'pour aller à', 1023, 1023)\n",
      "('Création de la personne qui part de', 241, 247, 'pour aller à', 0, 1023)\n",
      "('Création de la personne qui part de', 933, 807, 'pour aller à', 1023, 0)\n",
      "('Création de la personne qui part de', 826, 554, 'pour aller à', 1023, 0)\n",
      "('Création de la personne qui part de', 53, 548, 'pour aller à', 0, 0)\n",
      "('Création de la personne qui part de', 361, 588, 'pour aller à', 1023, 0)\n",
      "('Création de la personne qui part de', 385, 131, 'pour aller à', 0, 1023)\n",
      "('Création de la personne qui part de', 903, 136, 'pour aller à', 0, 0)\n",
      "('Création de la personne qui part de', 235, 83, 'pour aller à', 0, 0)\n",
      "('Création de la personne qui part de', 976, 1021, 'pour aller à', 1023, 1023)\n",
      "('Création de la personne qui part de', 85, 966, 'pour aller à', 1023, 1023)\n",
      "('Création de la personne qui part de', 782, 974, 'pour aller à', 0, 1023)\n",
      "('Création de la personne qui part de', 505, 385, 'pour aller à', 1023, 0)\n",
      "('Création de la personne qui part de', 739, 570, 'pour aller à', 0, 1023)\n",
      "('Création de la personne qui part de', 861, 918, 'pour aller à', 1023, 0)\n",
      "('Création de la personne qui part de', 365, 92, 'pour aller à', 1023, 0)\n",
      "('Création de la personne qui part de', 744, 999, 'pour aller à', 0, 1023)\n",
      "('Création de la personne qui part de', 1015, 126, 'pour aller à', 1023, 1023)\n",
      "('Personne non créée, la place est occupée', 300, 303)\n",
      "('Création de la personne qui part de', 273, 152, 'pour aller à', 0, 1023)\n",
      "('Création de la personne qui part de', 684, 82, 'pour aller à', 0, 1023)\n",
      "('Création de la personne qui part de', 527, 577, 'pour aller à', 0, 0)\n",
      "('Création de la personne qui part de', 537, 954, 'pour aller à', 0, 0)\n",
      "('Création de la personne qui part de', 8, 888, 'pour aller à', 1023, 0)\n",
      "('Création de la personne qui part de', 259, 620, 'pour aller à', 0, 1023)\n",
      "('Création de la personne qui part de', 434, 384, 'pour aller à', 1023, 0)\n",
      "('Création de la personne qui part de', 56, 822, 'pour aller à', 0, 1023)\n",
      "('Création de la personne qui part de', 628, 558, 'pour aller à', 0, 0)\n",
      "('Création de la personne qui part de', 411, 596, 'pour aller à', 0, 0)\n",
      "('Création de la personne qui part de', 905, 569, 'pour aller à', 1023, 1023)\n",
      "('Création de la personne qui part de', 120, 667, 'pour aller à', 0, 0)\n",
      "('Création de la personne qui part de', 745, 9, 'pour aller à', 0, 0)\n",
      "('Création de la personne qui part de', 233, 418, 'pour aller à', 0, 1023)\n",
      "('Création de la personne qui part de', 472, 427, 'pour aller à', 1023, 1023)\n",
      "('Création de la personne qui part de', 680, 904, 'pour aller à', 0, 0)\n",
      "('Création de la personne qui part de', 194, 940, 'pour aller à', 1023, 1023)\n",
      "('Création de la personne qui part de', 681, 259, 'pour aller à', 1023, 0)\n",
      "('Création de la personne qui part de', 208, 196, 'pour aller à', 1023, 0)\n",
      "('Création de la personne qui part de', 806, 356, 'pour aller à', 0, 0)\n",
      "('Création de la personne qui part de', 49, 655, 'pour aller à', 1023, 1023)\n",
      "('Création de la personne qui part de', 724, 277, 'pour aller à', 0, 1023)\n",
      "('Création de la personne qui part de', 321, 508, 'pour aller à', 1023, 1023)\n",
      "('Création de la personne qui part de', 542, 882, 'pour aller à', 0, 1023)\n",
      "('Création de la personne qui part de', 474, 549, 'pour aller à', 0, 0)\n",
      "('Création de la personne qui part de', 801, 323, 'pour aller à', 0, 1023)\n",
      "('Création de la personne qui part de', 25, 841, 'pour aller à', 1023, 1023)\n",
      "('Création de la personne qui part de', 156, 129, 'pour aller à', 0, 1023)\n",
      "('Création de la personne qui part de', 64, 114, 'pour aller à', 0, 1023)\n",
      "('Création de la personne qui part de', 962, 776, 'pour aller à', 0, 0)\n",
      "('Création de la personne qui part de', 104, 150, 'pour aller à', 0, 0)\n",
      "('Création de la personne qui part de', 831, 564, 'pour aller à', 0, 1023)\n",
      "('Création de la personne qui part de', 105, 648, 'pour aller à', 0, 1023)\n",
      "('Création de la personne qui part de', 930, 588, 'pour aller à', 0, 1023)\n",
      "('Création de la personne qui part de', 26, 865, 'pour aller à', 1023, 0)\n",
      "('Création de la personne qui part de', 174, 101, 'pour aller à', 0, 0)\n",
      "('Création de la personne qui part de', 768, 197, 'pour aller à', 0, 1023)\n",
      "('Création de la personne qui part de', 785, 669, 'pour aller à', 1023, 0)\n",
      "('Création de la personne qui part de', 1012, 190, 'pour aller à', 0, 1023)\n",
      "('Création de la personne qui part de', 230, 374, 'pour aller à', 1023, 0)\n",
      "('Création de la personne qui part de', 407, 236, 'pour aller à', 0, 1023)\n",
      "('Création de la personne qui part de', 196, 934, 'pour aller à', 0, 0)\n",
      "('Création de la personne qui part de', 55, 221, 'pour aller à', 1023, 1023)\n",
      "('Création de la personne qui part de', 616, 135, 'pour aller à', 1023, 1023)\n",
      "('Création de la personne qui part de', 246, 828, 'pour aller à', 1023, 1023)\n",
      "('Création de la personne qui part de', 633, 586, 'pour aller à', 1023, 0)\n",
      "('Création de la personne qui part de', 14, 729, 'pour aller à', 0, 1023)\n",
      "('Création de la personne qui part de', 332, 111, 'pour aller à', 1023, 1023)\n",
      "('Création de la personne qui part de', 399, 356, 'pour aller à', 0, 0)\n",
      "('Création de la personne qui part de', 225, 53, 'pour aller à', 0, 1023)\n",
      "('Création de la personne qui part de', 883, 526, 'pour aller à', 1023, 1023)\n",
      "('Création de la personne qui part de', 296, 725, 'pour aller à', 1023, 0)\n",
      "('Création de la personne qui part de', 612, 370, 'pour aller à', 0, 0)\n",
      "('Création de la personne qui part de', 623, 707, 'pour aller à', 0, 0)\n",
      "('Création de la personne qui part de', 642, 73, 'pour aller à', 1023, 0)\n",
      "('Création de la personne qui part de', 31, 292, 'pour aller à', 0, 0)\n",
      "('Création de la personne qui part de', 315, 738, 'pour aller à', 0, 0)\n",
      "('Création de la personne qui part de', 497, 758, 'pour aller à', 1023, 0)\n",
      "('Création de la personne qui part de', 306, 544, 'pour aller à', 0, 1023)\n",
      "('Création de la personne qui part de', 159, 554, 'pour aller à', 1023, 0)\n",
      "('Création de la personne qui part de', 532, 898, 'pour aller à', 1023, 0)\n",
      "('Création de la personne qui part de', 550, 867, 'pour aller à', 1023, 0)\n",
      "('Création de la personne qui part de', 552, 89, 'pour aller à', 0, 1023)\n",
      "('Création de la personne qui part de', 380, 328, 'pour aller à', 1023, 0)\n",
      "('Création de la personne qui part de', 335, 269, 'pour aller à', 0, 0)\n",
      "('Création de la personne qui part de', 656, 714, 'pour aller à', 1023, 0)\n",
      "('Création de la personne qui part de', 220, 85, 'pour aller à', 0, 0)\n",
      "('Création de la personne qui part de', 742, 631, 'pour aller à', 1023, 0)\n",
      "('Création de la personne qui part de', 665, 641, 'pour aller à', 1023, 1023)\n",
      "('Création de la personne qui part de', 821, 76, 'pour aller à', 1023, 1023)\n",
      "('Création de la personne qui part de', 361, 708, 'pour aller à', 0, 1023)\n",
      "('Création de la personne qui part de', 442, 948, 'pour aller à', 0, 0)\n",
      "('Création de la personne qui part de', 78, 217, 'pour aller à', 0, 0)\n",
      "('Création de la personne qui part de', 744, 100, 'pour aller à', 1023, 1023)\n",
      "('Création de la personne qui part de', 46, 724, 'pour aller à', 1023, 1023)\n",
      "('Personne non créée, la place est occupée', 765, 963)\n",
      "('Création de la personne qui part de', 155, 117, 'pour aller à', 0, 1023)\n",
      "('Création de la personne qui part de', 218, 983, 'pour aller à', 1023, 0)\n",
      "('Création de la personne qui part de', 807, 695, 'pour aller à', 0, 1023)\n",
      "('Création de la personne qui part de', 271, 10, 'pour aller à', 1023, 0)\n",
      "('Création de la personne qui part de', 512, 482, 'pour aller à', 1023, 0)\n",
      "('Création de la personne qui part de', 901, 25, 'pour aller à', 1023, 0)\n",
      "('Création de la personne qui part de', 527, 681, 'pour aller à', 0, 1023)\n",
      "('Création de la personne qui part de', 493, 128, 'pour aller à', 0, 0)\n",
      "('Création de la personne qui part de', 684, 211, 'pour aller à', 1023, 1023)\n",
      "('Création de la personne qui part de', 946, 458, 'pour aller à', 0, 1023)\n",
      "('Création de la personne qui part de', 360, 575, 'pour aller à', 0, 1023)\n",
      "('Création de la personne qui part de', 645, 667, 'pour aller à', 1023, 0)\n",
      "('Création de la personne qui part de', 227, 677, 'pour aller à', 1023, 0)\n",
      "('Création de la personne qui part de', 924, 784, 'pour aller à', 0, 1023)\n",
      "('Création de la personne qui part de', 559, 356, 'pour aller à', 0, 0)\n",
      "('Création de la personne qui part de', 274, 892, 'pour aller à', 1023, 0)\n",
      "('Création de la personne qui part de', 225, 609, 'pour aller à', 1023, 0)\n",
      "('Création de la personne qui part de', 205, 877, 'pour aller à', 0, 1023)\n",
      "('Création de la personne qui part de', 244, 646, 'pour aller à', 1023, 0)\n",
      "('Création de la personne qui part de', 594, 633, 'pour aller à', 1023, 1023)\n",
      "('Création de la personne qui part de', 29, 238, 'pour aller à', 0, 0)\n",
      "('Création de la personne qui part de', 810, 439, 'pour aller à', 1023, 0)\n",
      "('Création de la personne qui part de', 666, 130, 'pour aller à', 0, 0)\n",
      "('Création de la personne qui part de', 336, 507, 'pour aller à', 1023, 0)\n",
      "('Création de la personne qui part de', 417, 331, 'pour aller à', 0, 1023)\n",
      "('Création de la personne qui part de', 31, 953, 'pour aller à', 1023, 0)\n",
      "('Création de la personne qui part de', 716, 408, 'pour aller à', 0, 1023)\n",
      "('Personne non créée, la place est occupée', 799, 972)\n",
      "('Création de la personne qui part de', 757, 692, 'pour aller à', 0, 0)\n",
      "('Création de la personne qui part de', 617, 961, 'pour aller à', 0, 0)\n",
      "('Création de la personne qui part de', 585, 332, 'pour aller à', 1023, 1023)\n",
      "('Création de la personne qui part de', 142, 432, 'pour aller à', 0, 1023)\n",
      "('Création de la personne qui part de', 545, 322, 'pour aller à', 0, 1023)\n",
      "('Création de la personne qui part de', 496, 953, 'pour aller à', 0, 1023)\n",
      "('Création de la personne qui part de', 403, 416, 'pour aller à', 1023, 1023)\n",
      "('Création de la personne qui part de', 670, 864, 'pour aller à', 1023, 0)\n",
      "('Création de la personne qui part de', 3, 828, 'pour aller à', 1023, 0)\n",
      "('Création de la personne qui part de', 944, 986, 'pour aller à', 1023, 0)\n",
      "('Création de la personne qui part de', 108, 962, 'pour aller à', 1023, 1023)\n",
      "('Personne non créée, la place est occupée', 29, 34)\n",
      "('Création de la personne qui part de', 956, 770, 'pour aller à', 1023, 0)\n",
      "('Création de la personne qui part de', 439, 851, 'pour aller à', 0, 0)\n",
      "('Création de la personne qui part de', 296, 791, 'pour aller à', 0, 1023)\n",
      "('Création de la personne qui part de', 649, 177, 'pour aller à', 0, 1023)\n",
      "('Création de la personne qui part de', 219, 453, 'pour aller à', 0, 0)\n",
      "('Création de la personne qui part de', 888, 312, 'pour aller à', 1023, 1023)\n",
      "('Création de la personne qui part de', 67, 727, 'pour aller à', 0, 0)\n",
      "('Création de la personne qui part de', 931, 418, 'pour aller à', 0, 0)\n",
      "('Création de la personne qui part de', 47, 390, 'pour aller à', 0, 1023)\n",
      "('Personne non créée, la place est occupée', 618, 728)\n",
      "('Création de la personne qui part de', 504, 504, 'pour aller à', 0, 0)\n",
      "('Création de la personne qui part de', 201, 599, 'pour aller à', 1023, 1023)\n",
      "('Création de la personne qui part de', 789, 276, 'pour aller à', 1023, 0)\n",
      "('Création de la personne qui part de', 973, 865, 'pour aller à', 1023, 1023)\n",
      "('Création de la personne qui part de', 119, 773, 'pour aller à', 1023, 0)\n",
      "('Création de la personne qui part de', 238, 437, 'pour aller à', 1023, 1023)\n",
      "('Création de la personne qui part de', 898, 439, 'pour aller à', 0, 1023)\n",
      "('Création de la personne qui part de', 91, 499, 'pour aller à', 0, 0)\n",
      "('Création de la personne qui part de', 791, 464, 'pour aller à', 0, 0)\n",
      "('Création de la personne qui part de', 261, 654, 'pour aller à', 1023, 0)\n",
      "('Création de la personne qui part de', 840, 113, 'pour aller à', 1023, 1023)\n",
      "('Création de la personne qui part de', 364, 181, 'pour aller à', 1023, 1023)\n",
      "('Création de la personne qui part de', 299, 818, 'pour aller à', 1023, 0)\n",
      "('Création de la personne qui part de', 7, 989, 'pour aller à', 0, 0)\n",
      "('Création de la personne qui part de', 914, 210, 'pour aller à', 1023, 1023)\n",
      "('Création de la personne qui part de', 513, 358, 'pour aller à', 1023, 0)\n",
      "('Création de la personne qui part de', 103, 764, 'pour aller à', 0, 0)\n",
      "('Création de la personne qui part de', 834, 103, 'pour aller à', 1023, 0)\n",
      "('Création de la personne qui part de', 280, 740, 'pour aller à', 0, 0)\n",
      "('Création de la personne qui part de', 802, 825, 'pour aller à', 1023, 1023)\n",
      "('Création de la personne qui part de', 926, 451, 'pour aller à', 1023, 0)\n",
      "('Création de la personne qui part de', 825, 129, 'pour aller à', 1023, 1023)\n",
      "('Création de la personne qui part de', 258, 421, 'pour aller à', 0, 0)\n",
      "('Création de la personne qui part de', 432, 247, 'pour aller à', 0, 0)\n",
      "('Création de la personne qui part de', 902, 163, 'pour aller à', 1023, 1023)\n",
      "('Création de la personne qui part de', 557, 616, 'pour aller à', 0, 0)\n",
      "('Création de la personne qui part de', 679, 295, 'pour aller à', 0, 0)\n",
      "('Création de la personne qui part de', 981, 555, 'pour aller à', 0, 1023)\n",
      "('Création de la personne qui part de', 552, 229, 'pour aller à', 1023, 1023)\n",
      "('Création de la personne qui part de', 529, 773, 'pour aller à', 1023, 0)\n",
      "('Création de la personne qui part de', 156, 458, 'pour aller à', 0, 1023)\n",
      "('Création de la personne qui part de', 312, 127, 'pour aller à', 1023, 0)\n",
      "('Création de la personne qui part de', 645, 814, 'pour aller à', 1023, 0)\n",
      "('Création de la personne qui part de', 227, 674, 'pour aller à', 1023, 0)\n",
      "('Création de la personne qui part de', 893, 147, 'pour aller à', 1023, 0)\n",
      "('Création de la personne qui part de', 465, 495, 'pour aller à', 0, 0)\n",
      "('Création de la personne qui part de', 492, 505, 'pour aller à', 0, 1023)\n",
      "('Création de la personne qui part de', 581, 462, 'pour aller à', 1023, 1023)\n",
      "('Création de la personne qui part de', 974, 525, 'pour aller à', 0, 1023)\n",
      "('Création de la personne qui part de', 1019, 274, 'pour aller à', 0, 0)\n",
      "('Création de la personne qui part de', 990, 801, 'pour aller à', 1023, 1023)\n",
      "('Création de la personne qui part de', 142, 568, 'pour aller à', 0, 0)\n",
      "('Création de la personne qui part de', 152, 706, 'pour aller à', 1023, 0)\n",
      "('Création de la personne qui part de', 240, 819, 'pour aller à', 1023, 1023)\n",
      "('Création de la personne qui part de', 502, 912, 'pour aller à', 0, 1023)\n",
      "('Création de la personne qui part de', 747, 514, 'pour aller à', 1023, 0)\n",
      "('Création de la personne qui part de', 955, 153, 'pour aller à', 1023, 0)\n",
      "('Création de la personne qui part de', 958, 301, 'pour aller à', 0, 0)\n",
      "('Création de la personne qui part de', 931, 381, 'pour aller à', 1023, 1023)\n",
      "('Création de la personne qui part de', 612, 298, 'pour aller à', 0, 0)\n",
      "('Création de la personne qui part de', 72, 674, 'pour aller à', 0, 1023)\n",
      "('Création de la personne qui part de', 112, 810, 'pour aller à', 1023, 0)\n",
      "('Création de la personne qui part de', 924, 532, 'pour aller à', 0, 1023)\n",
      "('Création de la personne qui part de', 94, 563, 'pour aller à', 1023, 0)\n",
      "('Création de la personne qui part de', 602, 997, 'pour aller à', 1023, 0)\n",
      "('Création de la personne qui part de', 860, 712, 'pour aller à', 1023, 1023)\n",
      "('Création de la personne qui part de', 342, 791, 'pour aller à', 1023, 0)\n",
      "('Création de la personne qui part de', 1010, 944, 'pour aller à', 1023, 0)\n",
      "('Création de la personne qui part de', 981, 780, 'pour aller à', 1023, 0)\n",
      "('Personne non créée, la place est occupée', 617, 775)\n",
      "('Création de la personne qui part de', 591, 237, 'pour aller à', 1023, 1023)\n",
      "('Création de la personne qui part de', 725, 52, 'pour aller à', 0, 1023)\n",
      "('Création de la personne qui part de', 798, 686, 'pour aller à', 0, 0)\n",
      "('Création de la personne qui part de', 504, 718, 'pour aller à', 1023, 1023)\n",
      "('Création de la personne qui part de', 645, 421, 'pour aller à', 1023, 0)\n",
      "('Création de la personne qui part de', 194, 534, 'pour aller à', 1023, 0)\n",
      "('Création de la personne qui part de', 1010, 646, 'pour aller à', 0, 1023)\n",
      "('Création de la personne qui part de', 370, 172, 'pour aller à', 1023, 1023)\n",
      "('Création de la personne qui part de', 686, 847, 'pour aller à', 1023, 0)\n",
      "('Création de la personne qui part de', 955, 553, 'pour aller à', 1023, 1023)\n",
      "('Création de la personne qui part de', 974, 488, 'pour aller à', 0, 1023)\n",
      "('Création de la personne qui part de', 406, 901, 'pour aller à', 0, 0)\n",
      "('Création de la personne qui part de', 391, 46, 'pour aller à', 0, 1023)\n",
      "('Création de la personne qui part de', 234, 726, 'pour aller à', 1023, 0)\n",
      "('Création de la personne qui part de', 135, 758, 'pour aller à', 1023, 1023)\n",
      "('Création de la personne qui part de', 996, 600, 'pour aller à', 0, 0)\n",
      "('Création de la personne qui part de', 770, 726, 'pour aller à', 1023, 1023)\n",
      "('Création de la personne qui part de', 585, 850, 'pour aller à', 0, 0)\n",
      "('Création de la personne qui part de', 892, 342, 'pour aller à', 0, 0)\n",
      "('Création de la personne qui part de', 338, 945, 'pour aller à', 0, 0)\n",
      "('Création de la personne qui part de', 829, 899, 'pour aller à', 0, 1023)\n",
      "('Création de la personne qui part de', 81, 275, 'pour aller à', 1023, 0)\n",
      "('Création de la personne qui part de', 149, 548, 'pour aller à', 0, 0)\n",
      "('Création de la personne qui part de', 572, 128, 'pour aller à', 1023, 0)\n",
      "('Création de la personne qui part de', 934, 162, 'pour aller à', 1023, 1023)\n",
      "('Création de la personne qui part de', 198, 369, 'pour aller à', 1023, 1023)\n",
      "('Création de la personne qui part de', 249, 690, 'pour aller à', 0, 1023)\n",
      "('Création de la personne qui part de', 566, 573, 'pour aller à', 0, 1023)\n",
      "('Création de la personne qui part de', 166, 75, 'pour aller à', 0, 0)\n",
      "('Création de la personne qui part de', 473, 399, 'pour aller à', 1023, 1023)\n",
      "('Création de la personne qui part de', 687, 434, 'pour aller à', 0, 1023)\n",
      "('Création de la personne qui part de', 26, 180, 'pour aller à', 0, 0)\n",
      "('Création de la personne qui part de', 709, 978, 'pour aller à', 0, 0)\n",
      "('Création de la personne qui part de', 637, 793, 'pour aller à', 0, 1023)\n",
      "('Création de la personne qui part de', 209, 580, 'pour aller à', 1023, 0)\n",
      "('Création de la personne qui part de', 939, 771, 'pour aller à', 0, 0)\n",
      "('Création de la personne qui part de', 247, 522, 'pour aller à', 0, 1023)\n",
      "('Création de la personne qui part de', 628, 617, 'pour aller à', 1023, 0)\n",
      "('Création de la personne qui part de', 61, 660, 'pour aller à', 0, 1023)\n",
      "('Création de la personne qui part de', 949, 394, 'pour aller à', 1023, 0)\n",
      "('Création de la personne qui part de', 136, 994, 'pour aller à', 1023, 0)\n",
      "('Création de la personne qui part de', 814, 158, 'pour aller à', 1023, 1023)\n",
      "('Création de la personne qui part de', 625, 170, 'pour aller à', 1023, 1023)\n",
      "('Personne non créée, la place est occupée', 191, 149)\n",
      "('Création de la personne qui part de', 546, 231, 'pour aller à', 1023, 1023)\n",
      "('Création de la personne qui part de', 184, 138, 'pour aller à', 0, 0)\n",
      "('Création de la personne qui part de', 291, 992, 'pour aller à', 1023, 0)\n",
      "('Création de la personne qui part de', 505, 40, 'pour aller à', 0, 1023)\n",
      "('Création de la personne qui part de', 410, 984, 'pour aller à', 1023, 0)\n",
      "('Création de la personne qui part de', 334, 567, 'pour aller à', 0, 0)\n",
      "('Création de la personne qui part de', 366, 215, 'pour aller à', 1023, 0)\n",
      "('Création de la personne qui part de', 832, 750, 'pour aller à', 0, 0)\n",
      "('Création de la personne qui part de', 914, 8, 'pour aller à', 0, 0)\n",
      "('Création de la personne qui part de', 881, 872, 'pour aller à', 1023, 0)\n",
      "('Création de la personne qui part de', 204, 811, 'pour aller à', 0, 0)\n",
      "('Création de la personne qui part de', 434, 415, 'pour aller à', 1023, 1023)\n",
      "('Création de la personne qui part de', 445, 292, 'pour aller à', 1023, 0)\n",
      "('Création de la personne qui part de', 54, 18, 'pour aller à', 0, 1023)\n",
      "('Création de la personne qui part de', 334, 775, 'pour aller à', 1023, 1023)\n",
      "('Création de la personne qui part de', 1007, 155, 'pour aller à', 0, 1023)\n",
      "('Création de la personne qui part de', 750, 945, 'pour aller à', 1023, 0)\n",
      "('Création de la personne qui part de', 819, 203, 'pour aller à', 0, 0)\n",
      "('Création de la personne qui part de', 784, 803, 'pour aller à', 1023, 1023)\n",
      "('Création de la personne qui part de', 693, 926, 'pour aller à', 1023, 1023)\n",
      "('Création de la personne qui part de', 376, 637, 'pour aller à', 0, 0)\n",
      "('Création de la personne qui part de', 173, 471, 'pour aller à', 0, 1023)\n",
      "('Personne non créée, la place est occupée', 143, 222)\n",
      "('Création de la personne qui part de', 27, 492, 'pour aller à', 1023, 0)\n",
      "('Création de la personne qui part de', 688, 349, 'pour aller à', 1023, 1023)\n",
      "('Création de la personne qui part de', 323, 477, 'pour aller à', 0, 0)\n",
      "('Création de la personne qui part de', 934, 46, 'pour aller à', 0, 1023)\n",
      "('Création de la personne qui part de', 363, 955, 'pour aller à', 0, 1023)\n",
      "('Création de la personne qui part de', 349, 186, 'pour aller à', 0, 1023)\n",
      "('Création de la personne qui part de', 351, 512, 'pour aller à', 0, 0)\n",
      "('Création de la personne qui part de', 260, 859, 'pour aller à', 0, 1023)\n",
      "('Création de la personne qui part de', 797, 722, 'pour aller à', 1023, 1023)\n",
      "('Création de la personne qui part de', 82, 211, 'pour aller à', 1023, 0)\n",
      "('Création de la personne qui part de', 439, 606, 'pour aller à', 0, 0)\n",
      "('Création de la personne qui part de', 672, 219, 'pour aller à', 1023, 0)\n",
      "('Création de la personne qui part de', 793, 196, 'pour aller à', 0, 0)\n",
      "('Création de la personne qui part de', 187, 400, 'pour aller à', 0, 0)\n",
      "('Création de la personne qui part de', 565, 121, 'pour aller à', 1023, 1023)\n",
      "('Création de la personne qui part de', 46, 523, 'pour aller à', 0, 0)\n",
      "('Personne non créée, la place est occupée', 615, 869)\n",
      "('Création de la personne qui part de', 170, 358, 'pour aller à', 1023, 0)\n",
      "('Création de la personne qui part de', 495, 677, 'pour aller à', 0, 1023)\n",
      "('Création de la personne qui part de', 898, 472, 'pour aller à', 1023, 1023)\n",
      "('Personne non créée, la place est occupée', 550, 867)\n",
      "('Création de la personne qui part de', 958, 50, 'pour aller à', 1023, 1023)\n",
      "('Création de la personne qui part de', 284, 219, 'pour aller à', 1023, 0)\n",
      "('Création de la personne qui part de', 697, 933, 'pour aller à', 1023, 0)\n",
      "('Création de la personne qui part de', 118, 678, 'pour aller à', 0, 1023)\n",
      "('Création de la personne qui part de', 624, 81, 'pour aller à', 1023, 0)\n",
      "('Création de la personne qui part de', 731, 464, 'pour aller à', 1023, 0)\n",
      "('Personne non créée, la place est occupée', 158, 295)\n",
      "('Création de la personne qui part de', 65, 304, 'pour aller à', 1023, 0)\n",
      "('Création de la personne qui part de', 3, 380, 'pour aller à', 1023, 0)\n",
      "('Création de la personne qui part de', 280, 504, 'pour aller à', 0, 0)\n",
      "('Création de la personne qui part de', 58, 158, 'pour aller à', 1023, 1023)\n",
      "('Création de la personne qui part de', 1021, 353, 'pour aller à', 1023, 1023)\n",
      "('Création de la personne qui part de', 936, 66, 'pour aller à', 0, 1023)\n",
      "('Création de la personne qui part de', 955, 660, 'pour aller à', 1023, 0)\n",
      "('Création de la personne qui part de', 75, 1006, 'pour aller à', 0, 1023)\n",
      "('Création de la personne qui part de', 870, 272, 'pour aller à', 1023, 1023)\n",
      "('Création de la personne qui part de', 550, 946, 'pour aller à', 1023, 1023)\n",
      "('Création de la personne qui part de', 64, 594, 'pour aller à', 1023, 0)\n",
      "('Création de la personne qui part de', 235, 632, 'pour aller à', 1023, 1023)\n",
      "('Création de la personne qui part de', 911, 565, 'pour aller à', 0, 0)\n",
      "('Création de la personne qui part de', 193, 578, 'pour aller à', 1023, 0)\n",
      "('Création de la personne qui part de', 802, 271, 'pour aller à', 0, 0)\n",
      "('Création de la personne qui part de', 261, 1006, 'pour aller à', 0, 0)\n",
      "('Création de la personne qui part de', 697, 254, 'pour aller à', 0, 1023)\n",
      "('Personne non créée, la place est occupée', 814, 936)\n",
      "('Création de la personne qui part de', 657, 82, 'pour aller à', 1023, 0)\n",
      "('Création de la personne qui part de', 609, 516, 'pour aller à', 0, 0)\n",
      "('Création de la personne qui part de', 72, 90, 'pour aller à', 1023, 1023)\n",
      "('Création de la personne qui part de', 206, 379, 'pour aller à', 1023, 0)\n",
      "('Création de la personne qui part de', 925, 1023, 'pour aller à', 1023, 1023)\n",
      "('Création de la personne qui part de', 716, 149, 'pour aller à', 1023, 0)\n",
      "('Création de la personne qui part de', 148, 611, 'pour aller à', 0, 1023)\n",
      "('Création de la personne qui part de', 648, 804, 'pour aller à', 0, 0)\n",
      "('Création de la personne qui part de', 745, 733, 'pour aller à', 0, 0)\n",
      "('Création de la personne qui part de', 269, 724, 'pour aller à', 0, 0)\n",
      "('Création de la personne qui part de', 888, 86, 'pour aller à', 0, 0)\n",
      "('Création de la personne qui part de', 922, 479, 'pour aller à', 1023, 0)\n",
      "('Création de la personne qui part de', 786, 160, 'pour aller à', 1023, 1023)\n",
      "('Création de la personne qui part de', 70, 555, 'pour aller à', 0, 0)\n",
      "('Création de la personne qui part de', 346, 235, 'pour aller à', 1023, 1023)\n",
      "('Création de la personne qui part de', 157, 724, 'pour aller à', 0, 1023)\n",
      "('Création de la personne qui part de', 782, 114, 'pour aller à', 0, 1023)\n",
      "('Création de la personne qui part de', 752, 612, 'pour aller à', 1023, 0)\n",
      "('Personne non créée, la place est occupée', 258, 356)\n",
      "('Création de la personne qui part de', 100, 861, 'pour aller à', 0, 1023)\n",
      "('Création de la personne qui part de', 972, 481, 'pour aller à', 0, 1023)\n",
      "('Création de la personne qui part de', 932, 179, 'pour aller à', 1023, 1023)\n",
      "('Création de la personne qui part de', 666, 145, 'pour aller à', 1023, 0)\n",
      "('Création de la personne qui part de', 233, 112, 'pour aller à', 1023, 0)\n",
      "('Création de la personne qui part de', 319, 992, 'pour aller à', 0, 1023)\n",
      "('Création de la personne qui part de', 860, 23, 'pour aller à', 0, 0)\n",
      "('Création de la personne qui part de', 781, 585, 'pour aller à', 0, 0)\n",
      "('Création de la personne qui part de', 377, 373, 'pour aller à', 0, 0)\n",
      "('Création de la personne qui part de', 613, 233, 'pour aller à', 0, 0)\n",
      "('Création de la personne qui part de', 391, 731, 'pour aller à', 0, 0)\n",
      "('Création de la personne qui part de', 600, 295, 'pour aller à', 1023, 0)\n",
      "('Création de la personne qui part de', 75, 899, 'pour aller à', 0, 1023)\n",
      "('Création de la personne qui part de', 361, 649, 'pour aller à', 0, 0)\n",
      "('Création de la personne qui part de', 30, 707, 'pour aller à', 0, 1023)\n",
      "('Création de la personne qui part de', 124, 687, 'pour aller à', 1023, 0)\n",
      "('Création de la personne qui part de', 11, 335, 'pour aller à', 0, 1023)\n",
      "('Création de la personne qui part de', 81, 11, 'pour aller à', 0, 0)\n",
      "('Création de la personne qui part de', 729, 816, 'pour aller à', 0, 0)\n",
      "('Création de la personne qui part de', 478, 56, 'pour aller à', 0, 0)\n",
      "('Création de la personne qui part de', 566, 785, 'pour aller à', 0, 1023)\n",
      "('Création de la personne qui part de', 733, 462, 'pour aller à', 0, 0)\n",
      "('Création de la personne qui part de', 245, 738, 'pour aller à', 1023, 0)\n",
      "('Création de la personne qui part de', 680, 147, 'pour aller à', 1023, 0)\n",
      "('Création de la personne qui part de', 82, 257, 'pour aller à', 1023, 0)\n",
      "('Création de la personne qui part de', 109, 611, 'pour aller à', 1023, 0)\n",
      "('Création de la personne qui part de', 426, 22, 'pour aller à', 0, 0)\n",
      "('Création de la personne qui part de', 1011, 1017, 'pour aller à', 0, 0)\n",
      "('Création de la personne qui part de', 504, 552, 'pour aller à', 1023, 1023)\n",
      "('Création de la personne qui part de', 600, 546, 'pour aller à', 0, 1023)\n",
      "('Création de la personne qui part de', 806, 891, 'pour aller à', 1023, 1023)\n",
      "('Création de la personne qui part de', 1000, 375, 'pour aller à', 1023, 1023)\n",
      "('Création de la personne qui part de', 971, 495, 'pour aller à', 0, 0)\n",
      "('Création de la personne qui part de', 691, 302, 'pour aller à', 1023, 0)\n",
      "('Création de la personne qui part de', 589, 411, 'pour aller à', 0, 1023)\n",
      "('Création de la personne qui part de', 1012, 282, 'pour aller à', 0, 1023)\n",
      "('Création de la personne qui part de', 631, 326, 'pour aller à', 0, 0)\n",
      "('Création de la personne qui part de', 847, 266, 'pour aller à', 1023, 1023)\n",
      "('Création de la personne qui part de', 480, 779, 'pour aller à', 1023, 0)\n",
      "('Création de la personne qui part de', 889, 176, 'pour aller à', 0, 0)\n"
     ]
    },
    {
     "name": "stdout",
     "output_type": "stream",
     "text": [
      "('Création de la personne qui part de', 573, 373, 'pour aller à', 0, 1023)\n",
      "('Création de la personne qui part de', 307, 984, 'pour aller à', 1023, 0)\n",
      "('Création de la personne qui part de', 733, 767, 'pour aller à', 1023, 1023)\n",
      "('Création de la personne qui part de', 585, 320, 'pour aller à', 1023, 0)\n",
      "('Création de la personne qui part de', 397, 603, 'pour aller à', 0, 1023)\n",
      "('Création de la personne qui part de', 860, 332, 'pour aller à', 0, 1023)\n",
      "('Création de la personne qui part de', 348, 460, 'pour aller à', 1023, 1023)\n",
      "('Création de la personne qui part de', 902, 475, 'pour aller à', 1023, 0)\n",
      "('Création de la personne qui part de', 998, 598, 'pour aller à', 1023, 0)\n",
      "('Création de la personne qui part de', 553, 355, 'pour aller à', 1023, 0)\n",
      "('Création de la personne qui part de', 315, 730, 'pour aller à', 0, 0)\n",
      "('Création de la personne qui part de', 150, 591, 'pour aller à', 1023, 1023)\n",
      "('Création de la personne qui part de', 814, 524, 'pour aller à', 1023, 0)\n",
      "('Création de la personne qui part de', 595, 136, 'pour aller à', 0, 1023)\n",
      "('Création de la personne qui part de', 539, 616, 'pour aller à', 0, 1023)\n",
      "('Création de la personne qui part de', 980, 844, 'pour aller à', 1023, 1023)\n",
      "('Création de la personne qui part de', 281, 128, 'pour aller à', 1023, 0)\n",
      "('Création de la personne qui part de', 344, 83, 'pour aller à', 0, 1023)\n",
      "('Création de la personne qui part de', 851, 576, 'pour aller à', 1023, 1023)\n",
      "('Création de la personne qui part de', 865, 177, 'pour aller à', 1023, 0)\n",
      "('Création de la personne qui part de', 35, 335, 'pour aller à', 1023, 0)\n",
      "('Création de la personne qui part de', 940, 741, 'pour aller à', 1023, 0)\n",
      "('Création de la personne qui part de', 928, 658, 'pour aller à', 1023, 1023)\n",
      "('Création de la personne qui part de', 15, 767, 'pour aller à', 0, 1023)\n",
      "('Création de la personne qui part de', 431, 198, 'pour aller à', 0, 1023)\n",
      "('Création de la personne qui part de', 297, 838, 'pour aller à', 0, 0)\n",
      "('Création de la personne qui part de', 768, 291, 'pour aller à', 0, 0)\n",
      "('Création de la personne qui part de', 326, 592, 'pour aller à', 1023, 1023)\n",
      "('Création de la personne qui part de', 44, 531, 'pour aller à', 1023, 1023)\n",
      "('Personne non créée, la place est occupée', 340, 332)\n",
      "('Création de la personne qui part de', 890, 392, 'pour aller à', 1023, 0)\n",
      "('Création de la personne qui part de', 233, 123, 'pour aller à', 1023, 0)\n",
      "('Création de la personne qui part de', 463, 816, 'pour aller à', 0, 1023)\n",
      "('Création de la personne qui part de', 588, 24, 'pour aller à', 1023, 0)\n",
      "('Création de la personne qui part de', 561, 782, 'pour aller à', 1023, 1023)\n",
      "('Création de la personne qui part de', 428, 865, 'pour aller à', 1023, 1023)\n",
      "('Création de la personne qui part de', 638, 130, 'pour aller à', 0, 0)\n",
      "('Création de la personne qui part de', 579, 6, 'pour aller à', 1023, 0)\n",
      "('Création de la personne qui part de', 496, 17, 'pour aller à', 0, 0)\n",
      "('Création de la personne qui part de', 786, 328, 'pour aller à', 1023, 1023)\n",
      "('Création de la personne qui part de', 368, 971, 'pour aller à', 0, 1023)\n",
      "('Création de la personne qui part de', 942, 595, 'pour aller à', 0, 0)\n",
      "('Création de la personne qui part de', 921, 181, 'pour aller à', 0, 1023)\n",
      "('Création de la personne qui part de', 284, 795, 'pour aller à', 1023, 0)\n",
      "('Création de la personne qui part de', 703, 624, 'pour aller à', 1023, 1023)\n",
      "('Création de la personne qui part de', 761, 642, 'pour aller à', 0, 1023)\n",
      "('Création de la personne qui part de', 438, 910, 'pour aller à', 0, 1023)\n",
      "('Création de la personne qui part de', 155, 426, 'pour aller à', 0, 0)\n",
      "('Création de la personne qui part de', 398, 264, 'pour aller à', 1023, 1023)\n",
      "('Création de la personne qui part de', 738, 707, 'pour aller à', 1023, 0)\n",
      "('Création de la personne qui part de', 59, 528, 'pour aller à', 1023, 1023)\n",
      "('Création de la personne qui part de', 627, 607, 'pour aller à', 0, 0)\n",
      "('Création de la personne qui part de', 498, 499, 'pour aller à', 1023, 0)\n",
      "('Création de la personne qui part de', 277, 676, 'pour aller à', 1023, 1023)\n",
      "('Création de la personne qui part de', 623, 557, 'pour aller à', 0, 1023)\n",
      "('Création de la personne qui part de', 92, 327, 'pour aller à', 0, 0)\n",
      "('Création de la personne qui part de', 95, 165, 'pour aller à', 1023, 0)\n",
      "('Création de la personne qui part de', 860, 988, 'pour aller à', 0, 0)\n",
      "('Création de la personne qui part de', 684, 490, 'pour aller à', 1023, 0)\n",
      "('Création de la personne qui part de', 154, 72, 'pour aller à', 1023, 0)\n",
      "('Création de la personne qui part de', 49, 135, 'pour aller à', 0, 0)\n",
      "('Création de la personne qui part de', 421, 703, 'pour aller à', 1023, 0)\n",
      "('Création de la personne qui part de', 495, 529, 'pour aller à', 1023, 0)\n",
      "('Création de la personne qui part de', 914, 855, 'pour aller à', 1023, 1023)\n",
      "('Création de la personne qui part de', 985, 867, 'pour aller à', 1023, 1023)\n",
      "('Création de la personne qui part de', 399, 406, 'pour aller à', 1023, 0)\n",
      "('Création de la personne qui part de', 892, 56, 'pour aller à', 0, 1023)\n",
      "('Création de la personne qui part de', 142, 87, 'pour aller à', 1023, 0)\n",
      "('Création de la personne qui part de', 1020, 1023, 'pour aller à', 1023, 1023)\n",
      "('Création de la personne qui part de', 504, 265, 'pour aller à', 0, 0)\n",
      "('Création de la personne qui part de', 305, 65, 'pour aller à', 1023, 0)\n",
      "('Création de la personne qui part de', 319, 526, 'pour aller à', 0, 0)\n",
      "('Création de la personne qui part de', 171, 632, 'pour aller à', 0, 0)\n",
      "('Création de la personne qui part de', 934, 827, 'pour aller à', 1023, 0)\n",
      "('Création de la personne qui part de', 863, 455, 'pour aller à', 0, 1023)\n",
      "('Création de la personne qui part de', 1022, 451, 'pour aller à', 1023, 1023)\n",
      "('Création de la personne qui part de', 530, 853, 'pour aller à', 0, 1023)\n",
      "('Création de la personne qui part de', 598, 839, 'pour aller à', 1023, 1023)\n",
      "('Création de la personne qui part de', 842, 347, 'pour aller à', 1023, 1023)\n",
      "('Création de la personne qui part de', 14, 571, 'pour aller à', 1023, 0)\n",
      "('Création de la personne qui part de', 1006, 82, 'pour aller à', 0, 0)\n",
      "('Création de la personne qui part de', 281, 958, 'pour aller à', 0, 0)\n",
      "('Création de la personne qui part de', 197, 812, 'pour aller à', 1023, 0)\n",
      "('Création de la personne qui part de', 422, 468, 'pour aller à', 0, 0)\n",
      "('Création de la personne qui part de', 209, 398, 'pour aller à', 1023, 1023)\n",
      "('Création de la personne qui part de', 211, 524, 'pour aller à', 0, 0)\n",
      "('Création de la personne qui part de', 736, 914, 'pour aller à', 0, 0)\n",
      "('Création de la personne qui part de', 907, 594, 'pour aller à', 1023, 1023)\n",
      "('Création de la personne qui part de', 372, 781, 'pour aller à', 1023, 1023)\n",
      "('Création de la personne qui part de', 803, 352, 'pour aller à', 1023, 0)\n",
      "('Création de la personne qui part de', 427, 830, 'pour aller à', 0, 0)\n",
      "('Création de la personne qui part de', 886, 899, 'pour aller à', 0, 1023)\n",
      "('Création de la personne qui part de', 133, 412, 'pour aller à', 1023, 1023)\n",
      "('Création de la personne qui part de', 710, 428, 'pour aller à', 1023, 0)\n",
      "('Création de la personne qui part de', 810, 300, 'pour aller à', 0, 0)\n",
      "('Création de la personne qui part de', 548, 376, 'pour aller à', 1023, 0)\n",
      "('Création de la personne qui part de', 53, 153, 'pour aller à', 0, 1023)\n",
      "('Création de la personne qui part de', 611, 50, 'pour aller à', 0, 0)\n",
      "('Création de la personne qui part de', 956, 668, 'pour aller à', 0, 1023)\n",
      "('Création de la personne qui part de', 192, 962, 'pour aller à', 1023, 0)\n",
      "('Création de la personne qui part de', 821, 344, 'pour aller à', 0, 0)\n",
      "('Création de la personne qui part de', 973, 439, 'pour aller à', 0, 1023)\n",
      "('Création de la personne qui part de', 226, 459, 'pour aller à', 0, 1023)\n",
      "('Création de la personne qui part de', 391, 1017, 'pour aller à', 0, 0)\n",
      "('Création de la personne qui part de', 3, 717, 'pour aller à', 1023, 0)\n",
      "('Création de la personne qui part de', 359, 790, 'pour aller à', 1023, 1023)\n",
      "('Création de la personne qui part de', 387, 1006, 'pour aller à', 0, 1023)\n",
      "('Création de la personne qui part de', 367, 103, 'pour aller à', 0, 1023)\n",
      "('Création de la personne qui part de', 808, 3, 'pour aller à', 1023, 0)\n",
      "('Création de la personne qui part de', 695, 681, 'pour aller à', 0, 1023)\n",
      "('Création de la personne qui part de', 15, 443, 'pour aller à', 1023, 0)\n",
      "('Création de la personne qui part de', 347, 461, 'pour aller à', 1023, 0)\n",
      "('Création de la personne qui part de', 661, 294, 'pour aller à', 0, 0)\n",
      "('Création de la personne qui part de', 181, 499, 'pour aller à', 1023, 0)\n",
      "('Création de la personne qui part de', 320, 800, 'pour aller à', 1023, 1023)\n",
      "('Création de la personne qui part de', 866, 699, 'pour aller à', 1023, 1023)\n",
      "('Personne non créée, la place est occupée', 470, 607)\n",
      "('Création de la personne qui part de', 1002, 181, 'pour aller à', 0, 0)\n",
      "('Personne non créée, la place est occupée', 800, 958)\n",
      "('Création de la personne qui part de', 751, 873, 'pour aller à', 0, 1023)\n",
      "('Création de la personne qui part de', 225, 156, 'pour aller à', 1023, 0)\n",
      "('Création de la personne qui part de', 915, 659, 'pour aller à', 1023, 0)\n",
      "('Création de la personne qui part de', 787, 785, 'pour aller à', 0, 1023)\n",
      "('Personne non créée, la place est occupée', 503, 633)\n",
      "('Création de la personne qui part de', 612, 402, 'pour aller à', 0, 0)\n",
      "('Création de la personne qui part de', 160, 135, 'pour aller à', 0, 1023)\n",
      "('Création de la personne qui part de', 592, 260, 'pour aller à', 0, 1023)\n",
      "('Création de la personne qui part de', 279, 638, 'pour aller à', 0, 1023)\n",
      "('Création de la personne qui part de', 773, 18, 'pour aller à', 1023, 1023)\n",
      "('Création de la personne qui part de', 45, 736, 'pour aller à', 0, 0)\n",
      "('Création de la personne qui part de', 868, 584, 'pour aller à', 1023, 1023)\n",
      "('Création de la personne qui part de', 934, 390, 'pour aller à', 1023, 0)\n",
      "('Création de la personne qui part de', 161, 545, 'pour aller à', 0, 1023)\n",
      "('Création de la personne qui part de', 546, 837, 'pour aller à', 1023, 0)\n",
      "('Création de la personne qui part de', 947, 100, 'pour aller à', 0, 0)\n",
      "('Création de la personne qui part de', 509, 135, 'pour aller à', 1023, 1023)\n",
      "('Création de la personne qui part de', 432, 710, 'pour aller à', 1023, 1023)\n",
      "('Création de la personne qui part de', 688, 517, 'pour aller à', 0, 0)\n",
      "('Création de la personne qui part de', 2, 874, 'pour aller à', 0, 0)\n",
      "('Création de la personne qui part de', 339, 586, 'pour aller à', 0, 1023)\n",
      "('Création de la personne qui part de', 371, 303, 'pour aller à', 1023, 1023)\n",
      "('Création de la personne qui part de', 749, 710, 'pour aller à', 1023, 0)\n",
      "('Création de la personne qui part de', 509, 190, 'pour aller à', 1023, 0)\n",
      "('Création de la personne qui part de', 567, 64, 'pour aller à', 0, 0)\n",
      "('Création de la personne qui part de', 34, 78, 'pour aller à', 1023, 0)\n",
      "('Création de la personne qui part de', 701, 99, 'pour aller à', 1023, 0)\n",
      "('Création de la personne qui part de', 168, 337, 'pour aller à', 0, 1023)\n",
      "('Création de la personne qui part de', 984, 491, 'pour aller à', 1023, 0)\n",
      "('Création de la personne qui part de', 909, 821, 'pour aller à', 0, 1023)\n",
      "('Création de la personne qui part de', 996, 279, 'pour aller à', 0, 1023)\n",
      "('Création de la personne qui part de', 695, 789, 'pour aller à', 1023, 0)\n",
      "('Création de la personne qui part de', 888, 718, 'pour aller à', 1023, 1023)\n",
      "('Création de la personne qui part de', 506, 686, 'pour aller à', 1023, 1023)\n",
      "('Création de la personne qui part de', 129, 2, 'pour aller à', 0, 1023)\n",
      "('Création de la personne qui part de', 221, 973, 'pour aller à', 0, 1023)\n",
      "('Création de la personne qui part de', 431, 18, 'pour aller à', 1023, 1023)\n",
      "('Création de la personne qui part de', 250, 758, 'pour aller à', 0, 1023)\n",
      "('Création de la personne qui part de', 981, 304, 'pour aller à', 0, 1023)\n",
      "('Création de la personne qui part de', 564, 130, 'pour aller à', 0, 0)\n",
      "('Création de la personne qui part de', 6, 946, 'pour aller à', 0, 1023)\n",
      "('Création de la personne qui part de', 254, 233, 'pour aller à', 0, 1023)\n",
      "('Création de la personne qui part de', 208, 896, 'pour aller à', 0, 1023)\n",
      "('Création de la personne qui part de', 561, 564, 'pour aller à', 1023, 1023)\n",
      "('Création de la personne qui part de', 805, 493, 'pour aller à', 1023, 1023)\n",
      "('Création de la personne qui part de', 739, 293, 'pour aller à', 0, 1023)\n",
      "('Création de la personne qui part de', 333, 752, 'pour aller à', 1023, 0)\n",
      "('Création de la personne qui part de', 829, 391, 'pour aller à', 0, 0)\n",
      "('Création de la personne qui part de', 402, 3, 'pour aller à', 0, 0)\n",
      "('Création de la personne qui part de', 835, 197, 'pour aller à', 1023, 0)\n",
      "('Création de la personne qui part de', 79, 440, 'pour aller à', 0, 1023)\n",
      "('Création de la personne qui part de', 960, 483, 'pour aller à', 1023, 1023)\n",
      "('Création de la personne qui part de', 401, 754, 'pour aller à', 0, 0)\n",
      "('Création de la personne qui part de', 574, 177, 'pour aller à', 0, 1023)\n",
      "('Création de la personne qui part de', 982, 107, 'pour aller à', 1023, 0)\n",
      "('Création de la personne qui part de', 45, 946, 'pour aller à', 1023, 1023)\n",
      "('Création de la personne qui part de', 276, 978, 'pour aller à', 0, 1023)\n",
      "('Création de la personne qui part de', 857, 134, 'pour aller à', 0, 1023)\n",
      "('Création de la personne qui part de', 133, 105, 'pour aller à', 0, 1023)\n",
      "('Création de la personne qui part de', 654, 292, 'pour aller à', 1023, 1023)\n",
      "('Création de la personne qui part de', 829, 1012, 'pour aller à', 0, 1023)\n",
      "('Création de la personne qui part de', 598, 635, 'pour aller à', 0, 1023)\n",
      "('Création de la personne qui part de', 679, 166, 'pour aller à', 0, 0)\n",
      "('Création de la personne qui part de', 630, 371, 'pour aller à', 1023, 1023)\n",
      "('Création de la personne qui part de', 627, 156, 'pour aller à', 0, 0)\n",
      "('Création de la personne qui part de', 107, 416, 'pour aller à', 0, 0)\n",
      "('Création de la personne qui part de', 653, 818, 'pour aller à', 1023, 0)\n",
      "('Création de la personne qui part de', 243, 934, 'pour aller à', 0, 0)\n",
      "('Création de la personne qui part de', 647, 166, 'pour aller à', 1023, 1023)\n",
      "('Création de la personne qui part de', 367, 792, 'pour aller à', 0, 1023)\n",
      "('Création de la personne qui part de', 772, 446, 'pour aller à', 1023, 1023)\n",
      "('Personne non créée, la place est occupée', 150, 209)\n",
      "('Création de la personne qui part de', 894, 225, 'pour aller à', 0, 1023)\n",
      "('Création de la personne qui part de', 765, 894, 'pour aller à', 0, 1023)\n",
      "('Création de la personne qui part de', 489, 988, 'pour aller à', 1023, 1023)\n",
      "('Création de la personne qui part de', 408, 64, 'pour aller à', 0, 1023)\n",
      "('Création de la personne qui part de', 376, 435, 'pour aller à', 0, 1023)\n",
      "('Personne non créée, la place est occupée', 118, 283)\n",
      "('Création de la personne qui part de', 616, 981, 'pour aller à', 1023, 1023)\n",
      "('Création de la personne qui part de', 261, 962, 'pour aller à', 0, 1023)\n",
      "('Création de la personne qui part de', 752, 331, 'pour aller à', 1023, 0)\n",
      "('Création de la personne qui part de', 804, 429, 'pour aller à', 1023, 1023)\n",
      "('Création de la personne qui part de', 803, 131, 'pour aller à', 0, 1023)\n",
      "('Création de la personne qui part de', 567, 18, 'pour aller à', 1023, 1023)\n",
      "('Création de la personne qui part de', 138, 18, 'pour aller à', 1023, 0)\n",
      "('Création de la personne qui part de', 220, 563, 'pour aller à', 0, 1023)\n",
      "('Création de la personne qui part de', 58, 187, 'pour aller à', 1023, 0)\n",
      "('Création de la personne qui part de', 429, 878, 'pour aller à', 1023, 0)\n",
      "('Création de la personne qui part de', 9, 752, 'pour aller à', 0, 1023)\n",
      "('Création de la personne qui part de', 1005, 875, 'pour aller à', 0, 0)\n",
      "('Création de la personne qui part de', 1022, 460, 'pour aller à', 0, 0)\n",
      "('Création de la personne qui part de', 831, 478, 'pour aller à', 0, 1023)\n",
      "('Création de la personne qui part de', 421, 191, 'pour aller à', 0, 1023)\n",
      "('Création de la personne qui part de', 98, 473, 'pour aller à', 1023, 1023)\n",
      "('Création de la personne qui part de', 504, 673, 'pour aller à', 1023, 0)\n",
      "('Création de la personne qui part de', 938, 259, 'pour aller à', 1023, 0)\n",
      "('Création de la personne qui part de', 504, 483, 'pour aller à', 0, 0)\n",
      "('Création de la personne qui part de', 539, 706, 'pour aller à', 0, 1023)\n",
      "('Création de la personne qui part de', 743, 257, 'pour aller à', 1023, 1023)\n",
      "('Création de la personne qui part de', 203, 117, 'pour aller à', 1023, 1023)\n",
      "('Création de la personne qui part de', 186, 1013, 'pour aller à', 0, 1023)\n",
      "('Création de la personne qui part de', 604, 878, 'pour aller à', 0, 1023)\n",
      "('Création de la personne qui part de', 447, 301, 'pour aller à', 1023, 0)\n",
      "('Création de la personne qui part de', 297, 1013, 'pour aller à', 1023, 0)\n",
      "('Création de la personne qui part de', 817, 676, 'pour aller à', 0, 1023)\n",
      "('Personne non créée, la place est occupée', 325, 384)\n",
      "('Création de la personne qui part de', 172, 589, 'pour aller à', 1023, 0)\n",
      "('Création de la personne qui part de', 355, 637, 'pour aller à', 1023, 0)\n",
      "('Création de la personne qui part de', 754, 15, 'pour aller à', 0, 0)\n",
      "('Création de la personne qui part de', 346, 153, 'pour aller à', 0, 1023)\n",
      "('Création de la personne qui part de', 936, 619, 'pour aller à', 0, 0)\n",
      "('Création de la personne qui part de', 814, 347, 'pour aller à', 0, 0)\n",
      "('Création de la personne qui part de', 526, 230, 'pour aller à', 1023, 0)\n",
      "('Création de la personne qui part de', 1005, 928, 'pour aller à', 1023, 0)\n",
      "('Création de la personne qui part de', 953, 967, 'pour aller à', 0, 1023)\n",
      "('Création de la personne qui part de', 772, 856, 'pour aller à', 0, 1023)\n",
      "('Personne non créée, la place est occupée', 153, 223)\n",
      "('Création de la personne qui part de', 550, 301, 'pour aller à', 1023, 1023)\n",
      "('Création de la personne qui part de', 709, 826, 'pour aller à', 1023, 1023)\n",
      "('Création de la personne qui part de', 652, 633, 'pour aller à', 0, 0)\n",
      "('Création de la personne qui part de', 576, 128, 'pour aller à', 1023, 1023)\n",
      "('Création de la personne qui part de', 963, 457, 'pour aller à', 1023, 1023)\n",
      "('Création de la personne qui part de', 165, 905, 'pour aller à', 1023, 0)\n",
      "('Création de la personne qui part de', 425, 65, 'pour aller à', 1023, 1023)\n",
      "('Création de la personne qui part de', 705, 366, 'pour aller à', 0, 1023)\n",
      "('Création de la personne qui part de', 589, 500, 'pour aller à', 0, 1023)\n",
      "('Création de la personne qui part de', 562, 318, 'pour aller à', 0, 1023)\n",
      "('Création de la personne qui part de', 971, 313, 'pour aller à', 0, 0)\n",
      "('Création de la personne qui part de', 1023, 906, 'pour aller à', 1023, 0)\n",
      "('Création de la personne qui part de', 955, 860, 'pour aller à', 1023, 1023)\n",
      "('Création de la personne qui part de', 931, 813, 'pour aller à', 0, 0)\n",
      "('Création de la personne qui part de', 157, 995, 'pour aller à', 0, 1023)\n",
      "('Création de la personne qui part de', 423, 513, 'pour aller à', 0, 0)\n",
      "('Création de la personne qui part de', 532, 14, 'pour aller à', 1023, 0)\n",
      "('Création de la personne qui part de', 413, 875, 'pour aller à', 0, 1023)\n",
      "('Création de la personne qui part de', 212, 367, 'pour aller à', 0, 1023)\n",
      "('Création de la personne qui part de', 745, 112, 'pour aller à', 0, 0)\n",
      "('Création de la personne qui part de', 846, 1015, 'pour aller à', 1023, 0)\n",
      "('Création de la personne qui part de', 979, 794, 'pour aller à', 0, 1023)\n",
      "('Création de la personne qui part de', 884, 926, 'pour aller à', 1023, 1023)\n",
      "('Création de la personne qui part de', 80, 357, 'pour aller à', 0, 1023)\n",
      "('Création de la personne qui part de', 507, 292, 'pour aller à', 0, 1023)\n",
      "('Création de la personne qui part de', 886, 337, 'pour aller à', 0, 1023)\n",
      "('Création de la personne qui part de', 959, 992, 'pour aller à', 1023, 1023)\n",
      "('Création de la personne qui part de', 974, 771, 'pour aller à', 0, 1023)\n",
      "('Création de la personne qui part de', 14, 298, 'pour aller à', 1023, 0)\n",
      "('Création de la personne qui part de', 606, 681, 'pour aller à', 0, 1023)\n",
      "('Création de la personne qui part de', 861, 172, 'pour aller à', 1023, 1023)\n",
      "('Création de la personne qui part de', 439, 316, 'pour aller à', 0, 0)\n",
      "('Création de la personne qui part de', 139, 55, 'pour aller à', 0, 1023)\n",
      "('Personne non créée, la place est occupée', 510, 627)\n",
      "('Création de la personne qui part de', 980, 387, 'pour aller à', 1023, 1023)\n",
      "('Création de la personne qui part de', 571, 63, 'pour aller à', 1023, 1023)\n",
      "('Création de la personne qui part de', 541, 386, 'pour aller à', 0, 1023)\n",
      "('Création de la personne qui part de', 238, 449, 'pour aller à', 0, 1023)\n",
      "('Création de la personne qui part de', 611, 137, 'pour aller à', 1023, 0)\n",
      "('Création de la personne qui part de', 712, 134, 'pour aller à', 1023, 0)\n",
      "('Création de la personne qui part de', 618, 575, 'pour aller à', 1023, 1023)\n",
      "('Création de la personne qui part de', 593, 274, 'pour aller à', 0, 0)\n",
      "('Création de la personne qui part de', 984, 675, 'pour aller à', 0, 1023)\n",
      "('Création de la personne qui part de', 712, 794, 'pour aller à', 1023, 1023)\n",
      "('Création de la personne qui part de', 556, 575, 'pour aller à', 0, 0)\n",
      "('Création de la personne qui part de', 827, 975, 'pour aller à', 0, 1023)\n",
      "('Création de la personne qui part de', 773, 405, 'pour aller à', 0, 1023)\n",
      "('Création de la personne qui part de', 798, 291, 'pour aller à', 1023, 0)\n",
      "('Création de la personne qui part de', 406, 843, 'pour aller à', 1023, 1023)\n",
      "('Création de la personne qui part de', 202, 844, 'pour aller à', 1023, 0)\n",
      "('Création de la personne qui part de', 664, 47, 'pour aller à', 1023, 1023)\n",
      "('Création de la personne qui part de', 544, 303, 'pour aller à', 0, 1023)\n",
      "('Création de la personne qui part de', 314, 721, 'pour aller à', 1023, 0)\n",
      "('Création de la personne qui part de', 574, 796, 'pour aller à', 1023, 1023)\n",
      "('Création de la personne qui part de', 2, 954, 'pour aller à', 1023, 1023)\n",
      "('Création de la personne qui part de', 975, 644, 'pour aller à', 1023, 1023)\n",
      "('Création de la personne qui part de', 121, 361, 'pour aller à', 0, 1023)\n",
      "('Création de la personne qui part de', 427, 323, 'pour aller à', 0, 0)\n",
      "('Création de la personne qui part de', 14, 630, 'pour aller à', 1023, 0)\n",
      "('Création de la personne qui part de', 533, 131, 'pour aller à', 0, 0)\n",
      "('Création de la personne qui part de', 476, 769, 'pour aller à', 0, 1023)\n",
      "('Création de la personne qui part de', 287, 1, 'pour aller à', 1023, 1023)\n"
     ]
    },
    {
     "name": "stdout",
     "output_type": "stream",
     "text": [
      "('Création de la personne qui part de', 702, 349, 'pour aller à', 0, 0)\n",
      "('Création de la personne qui part de', 498, 778, 'pour aller à', 0, 0)\n",
      "('Création de la personne qui part de', 64, 279, 'pour aller à', 1023, 1023)\n",
      "('Création de la personne qui part de', 433, 430, 'pour aller à', 1023, 0)\n",
      "('Création de la personne qui part de', 867, 827, 'pour aller à', 0, 0)\n",
      "('Création de la personne qui part de', 622, 506, 'pour aller à', 0, 1023)\n",
      "('Création de la personne qui part de', 106, 843, 'pour aller à', 1023, 1023)\n",
      "('Création de la personne qui part de', 471, 268, 'pour aller à', 0, 0)\n",
      "('Création de la personne qui part de', 712, 6, 'pour aller à', 0, 0)\n",
      "('Création de la personne qui part de', 301, 820, 'pour aller à', 1023, 0)\n",
      "('Création de la personne qui part de', 328, 388, 'pour aller à', 1023, 1023)\n",
      "('Création de la personne qui part de', 408, 253, 'pour aller à', 0, 1023)\n",
      "('Personne non créée, la place est occupée', 188, 298)\n",
      "('Création de la personne qui part de', 830, 700, 'pour aller à', 0, 0)\n",
      "('Création de la personne qui part de', 793, 543, 'pour aller à', 0, 0)\n",
      "('Création de la personne qui part de', 696, 782, 'pour aller à', 1023, 1023)\n",
      "('Création de la personne qui part de', 122, 447, 'pour aller à', 0, 1023)\n",
      "('Création de la personne qui part de', 367, 329, 'pour aller à', 1023, 1023)\n",
      "('Création de la personne qui part de', 604, 938, 'pour aller à', 1023, 0)\n",
      "('Création de la personne qui part de', 265, 208, 'pour aller à', 1023, 1023)\n",
      "('Création de la personne qui part de', 647, 560, 'pour aller à', 0, 0)\n",
      "('Création de la personne qui part de', 395, 840, 'pour aller à', 1023, 0)\n",
      "('Création de la personne qui part de', 299, 213, 'pour aller à', 1023, 1023)\n",
      "('Création de la personne qui part de', 578, 457, 'pour aller à', 0, 1023)\n",
      "('Création de la personne qui part de', 35, 279, 'pour aller à', 1023, 0)\n",
      "('Création de la personne qui part de', 83, 552, 'pour aller à', 1023, 1023)\n",
      "('Création de la personne qui part de', 740, 44, 'pour aller à', 0, 0)\n",
      "('Création de la personne qui part de', 453, 991, 'pour aller à', 0, 0)\n",
      "('Création de la personne qui part de', 265, 474, 'pour aller à', 0, 0)\n",
      "('Création de la personne qui part de', 138, 10, 'pour aller à', 1023, 1023)\n",
      "('Création de la personne qui part de', 50, 1014, 'pour aller à', 1023, 1023)\n",
      "('Création de la personne qui part de', 78, 196, 'pour aller à', 1023, 1023)\n",
      "('Création de la personne qui part de', 166, 1014, 'pour aller à', 1023, 1023)\n",
      "('Création de la personne qui part de', 983, 65, 'pour aller à', 0, 1023)\n",
      "('Création de la personne qui part de', 580, 809, 'pour aller à', 0, 0)\n",
      "('Création de la personne qui part de', 36, 277, 'pour aller à', 0, 1023)\n",
      "('Création de la personne qui part de', 988, 305, 'pour aller à', 0, 0)\n",
      "('Création de la personne qui part de', 470, 712, 'pour aller à', 1023, 1023)\n",
      "('Création de la personne qui part de', 908, 149, 'pour aller à', 1023, 0)\n",
      "('Création de la personne qui part de', 97, 128, 'pour aller à', 0, 0)\n",
      "('Création de la personne qui part de', 561, 310, 'pour aller à', 1023, 0)\n",
      "('Création de la personne qui part de', 10, 329, 'pour aller à', 0, 0)\n",
      "('Création de la personne qui part de', 435, 849, 'pour aller à', 1023, 1023)\n",
      "('Création de la personne qui part de', 987, 575, 'pour aller à', 1023, 0)\n",
      "('Création de la personne qui part de', 68, 570, 'pour aller à', 1023, 0)\n",
      "('Création de la personne qui part de', 320, 746, 'pour aller à', 0, 1023)\n",
      "('Création de la personne qui part de', 736, 52, 'pour aller à', 1023, 1023)\n",
      "('Création de la personne qui part de', 768, 157, 'pour aller à', 1023, 0)\n",
      "('Personne non créée, la place est occupée', 115, 240)\n",
      "('Création de la personne qui part de', 874, 96, 'pour aller à', 0, 1023)\n",
      "('Création de la personne qui part de', 79, 646, 'pour aller à', 1023, 0)\n",
      "('Création de la personne qui part de', 605, 229, 'pour aller à', 1023, 0)\n",
      "('Création de la personne qui part de', 348, 812, 'pour aller à', 1023, 1023)\n",
      "('Création de la personne qui part de', 84, 780, 'pour aller à', 1023, 0)\n",
      "('Création de la personne qui part de', 607, 280, 'pour aller à', 1023, 0)\n",
      "('Création de la personne qui part de', 508, 795, 'pour aller à', 1023, 0)\n",
      "('Création de la personne qui part de', 383, 259, 'pour aller à', 1023, 1023)\n",
      "('Création de la personne qui part de', 184, 880, 'pour aller à', 1023, 0)\n",
      "('Création de la personne qui part de', 81, 337, 'pour aller à', 1023, 1023)\n",
      "('Création de la personne qui part de', 515, 403, 'pour aller à', 0, 1023)\n",
      "('Personne non créée, la place est occupée', 189, 235)\n",
      "('Création de la personne qui part de', 320, 150, 'pour aller à', 1023, 1023)\n",
      "('Création de la personne qui part de', 493, 366, 'pour aller à', 0, 1023)\n",
      "('Création de la personne qui part de', 458, 569, 'pour aller à', 1023, 0)\n",
      "('Création de la personne qui part de', 192, 759, 'pour aller à', 1023, 1023)\n",
      "('Création de la personne qui part de', 409, 143, 'pour aller à', 1023, 0)\n",
      "('Création de la personne qui part de', 475, 929, 'pour aller à', 0, 0)\n",
      "('Création de la personne qui part de', 779, 352, 'pour aller à', 0, 0)\n",
      "('Création de la personne qui part de', 595, 340, 'pour aller à', 1023, 0)\n",
      "('Création de la personne qui part de', 394, 148, 'pour aller à', 0, 0)\n",
      "('Personne non créée, la place est occupée', 801, 960)\n",
      "('Création de la personne qui part de', 461, 737, 'pour aller à', 1023, 1023)\n",
      "('Création de la personne qui part de', 118, 1011, 'pour aller à', 0, 0)\n",
      "('Création de la personne qui part de', 587, 181, 'pour aller à', 0, 1023)\n",
      "('Création de la personne qui part de', 797, 287, 'pour aller à', 1023, 1023)\n",
      "('Création de la personne qui part de', 935, 162, 'pour aller à', 0, 1023)\n",
      "('Création de la personne qui part de', 271, 500, 'pour aller à', 1023, 1023)\n",
      "('Création de la personne qui part de', 858, 979, 'pour aller à', 0, 1023)\n",
      "('Création de la personne qui part de', 24, 751, 'pour aller à', 0, 1023)\n",
      "('Création de la personne qui part de', 1023, 233, 'pour aller à', 0, 1023)\n",
      "('Création de la personne qui part de', 815, 708, 'pour aller à', 0, 1023)\n",
      "('Création de la personne qui part de', 672, 300, 'pour aller à', 1023, 0)\n",
      "('Création de la personne qui part de', 4, 999, 'pour aller à', 1023, 1023)\n",
      "('Création de la personne qui part de', 1, 989, 'pour aller à', 0, 1023)\n",
      "('Création de la personne qui part de', 515, 570, 'pour aller à', 0, 1023)\n",
      "('Création de la personne qui part de', 625, 626, 'pour aller à', 1023, 0)\n",
      "('Création de la personne qui part de', 897, 639, 'pour aller à', 1023, 0)\n",
      "('Création de la personne qui part de', 185, 438, 'pour aller à', 1023, 1023)\n",
      "('Création de la personne qui part de', 44, 969, 'pour aller à', 0, 1023)\n",
      "('Création de la personne qui part de', 530, 822, 'pour aller à', 0, 0)\n",
      "('Création de la personne qui part de', 123, 105, 'pour aller à', 1023, 1023)\n",
      "('Création de la personne qui part de', 478, 986, 'pour aller à', 1023, 0)\n",
      "('Création de la personne qui part de', 207, 6, 'pour aller à', 0, 0)\n",
      "('Création de la personne qui part de', 995, 509, 'pour aller à', 0, 0)\n",
      "('Personne non créée, la place est occupée', 173, 287)\n",
      "('Création de la personne qui part de', 163, 892, 'pour aller à', 1023, 0)\n",
      "('Création de la personne qui part de', 113, 451, 'pour aller à', 1023, 0)\n",
      "('Création de la personne qui part de', 865, 665, 'pour aller à', 1023, 1023)\n",
      "('Création de la personne qui part de', 486, 784, 'pour aller à', 0, 1023)\n",
      "('Création de la personne qui part de', 235, 326, 'pour aller à', 1023, 0)\n",
      "('Création de la personne qui part de', 403, 227, 'pour aller à', 1023, 1023)\n",
      "('Création de la personne qui part de', 542, 1014, 'pour aller à', 0, 1023)\n",
      "('Création de la personne qui part de', 852, 934, 'pour aller à', 0, 0)\n",
      "('Création de la personne qui part de', 978, 529, 'pour aller à', 1023, 0)\n",
      "('Création de la personne qui part de', 51, 785, 'pour aller à', 0, 1023)\n",
      "('Création de la personne qui part de', 221, 105, 'pour aller à', 1023, 1023)\n",
      "('Création de la personne qui part de', 676, 615, 'pour aller à', 0, 1023)\n",
      "('Création de la personne qui part de', 166, 483, 'pour aller à', 1023, 0)\n",
      "('Création de la personne qui part de', 253, 669, 'pour aller à', 1023, 0)\n",
      "('Création de la personne qui part de', 39, 635, 'pour aller à', 0, 0)\n",
      "('Création de la personne qui part de', 650, 815, 'pour aller à', 0, 0)\n",
      "('Personne non créée, la place est occupée', 779, 939)\n",
      "('Création de la personne qui part de', 593, 24, 'pour aller à', 1023, 0)\n",
      "('Création de la personne qui part de', 205, 565, 'pour aller à', 0, 0)\n",
      "('Création de la personne qui part de', 442, 167, 'pour aller à', 1023, 1023)\n",
      "('Création de la personne qui part de', 94, 981, 'pour aller à', 1023, 1023)\n",
      "('Création de la personne qui part de', 539, 844, 'pour aller à', 1023, 1023)\n",
      "('Création de la personne qui part de', 764, 189, 'pour aller à', 1023, 1023)\n",
      "('Création de la personne qui part de', 501, 510, 'pour aller à', 1023, 0)\n",
      "('Création de la personne qui part de', 926, 973, 'pour aller à', 1023, 0)\n",
      "('Création de la personne qui part de', 862, 996, 'pour aller à', 0, 0)\n",
      "('Création de la personne qui part de', 966, 717, 'pour aller à', 1023, 0)\n",
      "('Création de la personne qui part de', 989, 1, 'pour aller à', 0, 0)\n",
      "('Création de la personne qui part de', 225, 750, 'pour aller à', 0, 0)\n",
      "('Création de la personne qui part de', 558, 395, 'pour aller à', 0, 0)\n",
      "('Création de la personne qui part de', 102, 595, 'pour aller à', 1023, 1023)\n",
      "('Création de la personne qui part de', 548, 339, 'pour aller à', 0, 0)\n",
      "('Création de la personne qui part de', 593, 537, 'pour aller à', 1023, 0)\n",
      "('Création de la personne qui part de', 206, 580, 'pour aller à', 1023, 0)\n",
      "('Création de la personne qui part de', 920, 275, 'pour aller à', 0, 0)\n",
      "('Création de la personne qui part de', 816, 821, 'pour aller à', 1023, 0)\n",
      "('Création de la personne qui part de', 964, 938, 'pour aller à', 1023, 0)\n",
      "('Création de la personne qui part de', 522, 90, 'pour aller à', 1023, 0)\n",
      "('Création de la personne qui part de', 769, 682, 'pour aller à', 1023, 0)\n",
      "('Création de la personne qui part de', 344, 919, 'pour aller à', 1023, 0)\n",
      "('Création de la personne qui part de', 416, 441, 'pour aller à', 0, 1023)\n",
      "('Création de la personne qui part de', 343, 153, 'pour aller à', 0, 0)\n",
      "('Création de la personne qui part de', 880, 164, 'pour aller à', 1023, 1023)\n",
      "('Création de la personne qui part de', 802, 59, 'pour aller à', 0, 1023)\n",
      "('Création de la personne qui part de', 283, 1016, 'pour aller à', 0, 1023)\n",
      "('Création de la personne qui part de', 695, 252, 'pour aller à', 1023, 1023)\n",
      "('Création de la personne qui part de', 339, 408, 'pour aller à', 1023, 0)\n",
      "('Création de la personne qui part de', 180, 817, 'pour aller à', 1023, 0)\n",
      "('Création de la personne qui part de', 776, 405, 'pour aller à', 1023, 1023)\n",
      "('Création de la personne qui part de', 906, 300, 'pour aller à', 1023, 1023)\n",
      "('Création de la personne qui part de', 634, 844, 'pour aller à', 1023, 0)\n",
      "('Création de la personne qui part de', 942, 265, 'pour aller à', 1023, 0)\n",
      "('Création de la personne qui part de', 263, 679, 'pour aller à', 1023, 0)\n",
      "('Création de la personne qui part de', 14, 795, 'pour aller à', 1023, 1023)\n",
      "('Création de la personne qui part de', 885, 234, 'pour aller à', 1023, 0)\n",
      "('Création de la personne qui part de', 452, 396, 'pour aller à', 1023, 1023)\n",
      "('Création de la personne qui part de', 1013, 528, 'pour aller à', 0, 1023)\n",
      "('Création de la personne qui part de', 747, 379, 'pour aller à', 0, 1023)\n",
      "('Création de la personne qui part de', 874, 637, 'pour aller à', 1023, 0)\n",
      "('Création de la personne qui part de', 147, 841, 'pour aller à', 1023, 1023)\n",
      "('Création de la personne qui part de', 1015, 814, 'pour aller à', 0, 0)\n",
      "('Création de la personne qui part de', 1015, 61, 'pour aller à', 1023, 1023)\n",
      "('Création de la personne qui part de', 980, 338, 'pour aller à', 0, 0)\n",
      "('Création de la personne qui part de', 150, 509, 'pour aller à', 0, 1023)\n",
      "('Création de la personne qui part de', 858, 439, 'pour aller à', 0, 0)\n",
      "('Création de la personne qui part de', 804, 183, 'pour aller à', 1023, 1023)\n",
      "('Création de la personne qui part de', 388, 804, 'pour aller à', 0, 1023)\n",
      "('Création de la personne qui part de', 1, 481, 'pour aller à', 0, 0)\n",
      "('Création de la personne qui part de', 291, 494, 'pour aller à', 1023, 1023)\n",
      "('Création de la personne qui part de', 797, 537, 'pour aller à', 1023, 1023)\n",
      "('Création de la personne qui part de', 330, 73, 'pour aller à', 1023, 1023)\n",
      "('Création de la personne qui part de', 268, 894, 'pour aller à', 1023, 1023)\n",
      "('Création de la personne qui part de', 37, 124, 'pour aller à', 0, 1023)\n",
      "('Création de la personne qui part de', 484, 737, 'pour aller à', 0, 0)\n",
      "('Création de la personne qui part de', 134, 497, 'pour aller à', 1023, 0)\n",
      "('Création de la personne qui part de', 194, 961, 'pour aller à', 0, 0)\n",
      "('Création de la personne qui part de', 511, 850, 'pour aller à', 0, 0)\n",
      "('Création de la personne qui part de', 842, 691, 'pour aller à', 1023, 0)\n",
      "('Création de la personne qui part de', 955, 13, 'pour aller à', 0, 1023)\n",
      "('Création de la personne qui part de', 814, 712, 'pour aller à', 0, 1023)\n",
      "('Création de la personne qui part de', 189, 394, 'pour aller à', 0, 0)\n",
      "('Création de la personne qui part de', 573, 709, 'pour aller à', 1023, 1023)\n",
      "('Création de la personne qui part de', 536, 770, 'pour aller à', 0, 1023)\n",
      "('Création de la personne qui part de', 807, 66, 'pour aller à', 1023, 1023)\n",
      "('Création de la personne qui part de', 48, 1014, 'pour aller à', 1023, 0)\n",
      "('Création de la personne qui part de', 687, 930, 'pour aller à', 1023, 1023)\n",
      "('Création de la personne qui part de', 945, 792, 'pour aller à', 0, 1023)\n",
      "('Création de la personne qui part de', 125, 680, 'pour aller à', 1023, 1023)\n",
      "('Création de la personne qui part de', 1014, 487, 'pour aller à', 0, 1023)\n",
      "('Création de la personne qui part de', 483, 586, 'pour aller à', 1023, 1023)\n",
      "('Création de la personne qui part de', 237, 449, 'pour aller à', 1023, 0)\n",
      "('Création de la personne qui part de', 16, 482, 'pour aller à', 1023, 1023)\n",
      "('Création de la personne qui part de', 547, 827, 'pour aller à', 1023, 1023)\n",
      "('Création de la personne qui part de', 21, 439, 'pour aller à', 0, 0)\n",
      "('Création de la personne qui part de', 336, 538, 'pour aller à', 0, 0)\n",
      "('Création de la personne qui part de', 237, 683, 'pour aller à', 1023, 1023)\n",
      "('Création de la personne qui part de', 648, 844, 'pour aller à', 0, 1023)\n",
      "('Création de la personne qui part de', 296, 564, 'pour aller à', 0, 0)\n",
      "('Création de la personne qui part de', 1000, 220, 'pour aller à', 1023, 0)\n",
      "('Création de la personne qui part de', 293, 193, 'pour aller à', 0, 0)\n",
      "('Création de la personne qui part de', 291, 393, 'pour aller à', 0, 1023)\n",
      "('Création de la personne qui part de', 705, 790, 'pour aller à', 1023, 0)\n",
      "('Création de la personne qui part de', 707, 1021, 'pour aller à', 1023, 1023)\n",
      "('Création de la personne qui part de', 322, 73, 'pour aller à', 0, 1023)\n",
      "('Création de la personne qui part de', 601, 496, 'pour aller à', 1023, 1023)\n",
      "('Création de la personne qui part de', 20, 196, 'pour aller à', 1023, 0)\n",
      "('Personne non créée, la place est occupée', 74, 35)\n",
      "('Création de la personne qui part de', 17, 264, 'pour aller à', 0, 0)\n",
      "('Création de la personne qui part de', 486, 920, 'pour aller à', 0, 1023)\n",
      "('Création de la personne qui part de', 409, 695, 'pour aller à', 1023, 0)\n",
      "('Création de la personne qui part de', 549, 515, 'pour aller à', 1023, 0)\n",
      "('Création de la personne qui part de', 134, 326, 'pour aller à', 0, 1023)\n",
      "('Création de la personne qui part de', 938, 708, 'pour aller à', 1023, 1023)\n",
      "('Création de la personne qui part de', 1012, 78, 'pour aller à', 1023, 1023)\n",
      "('Création de la personne qui part de', 370, 521, 'pour aller à', 1023, 1023)\n",
      "('Création de la personne qui part de', 227, 21, 'pour aller à', 0, 1023)\n",
      "('Création de la personne qui part de', 597, 33, 'pour aller à', 0, 0)\n",
      "('Création de la personne qui part de', 569, 727, 'pour aller à', 1023, 0)\n",
      "('Création de la personne qui part de', 253, 316, 'pour aller à', 1023, 1023)\n",
      "('Création de la personne qui part de', 638, 345, 'pour aller à', 1023, 0)\n",
      "('Création de la personne qui part de', 485, 69, 'pour aller à', 0, 1023)\n",
      "('Création de la personne qui part de', 17, 745, 'pour aller à', 1023, 0)\n",
      "('Création de la personne qui part de', 847, 358, 'pour aller à', 1023, 0)\n",
      "('Création de la personne qui part de', 690, 180, 'pour aller à', 0, 1023)\n",
      "('Création de la personne qui part de', 658, 768, 'pour aller à', 0, 0)\n",
      "('Personne non créée, la place est occupée', 409, 438)\n",
      "('Personne non créée, la place est occupée', 622, 808)\n",
      "('Création de la personne qui part de', 991, 646, 'pour aller à', 1023, 0)\n",
      "('Création de la personne qui part de', 490, 233, 'pour aller à', 1023, 0)\n",
      "('Création de la personne qui part de', 518, 1007, 'pour aller à', 0, 1023)\n",
      "('Création de la personne qui part de', 772, 885, 'pour aller à', 1023, 1023)\n",
      "('Création de la personne qui part de', 166, 955, 'pour aller à', 1023, 1023)\n",
      "('Création de la personne qui part de', 843, 67, 'pour aller à', 1023, 0)\n",
      "('Création de la personne qui part de', 924, 39, 'pour aller à', 1023, 0)\n",
      "('Création de la personne qui part de', 435, 274, 'pour aller à', 0, 1023)\n",
      "('Création de la personne qui part de', 8, 463, 'pour aller à', 0, 0)\n",
      "('Création de la personne qui part de', 780, 338, 'pour aller à', 0, 0)\n",
      "('Création de la personne qui part de', 950, 209, 'pour aller à', 1023, 1023)\n",
      "('Création de la personne qui part de', 101, 674, 'pour aller à', 0, 1023)\n",
      "('Création de la personne qui part de', 73, 498, 'pour aller à', 0, 1023)\n",
      "('Création de la personne qui part de', 314, 225, 'pour aller à', 0, 1023)\n",
      "('Création de la personne qui part de', 1, 879, 'pour aller à', 1023, 1023)\n",
      "('Création de la personne qui part de', 20, 235, 'pour aller à', 1023, 1023)\n",
      "('Création de la personne qui part de', 664, 984, 'pour aller à', 0, 0)\n",
      "('Création de la personne qui part de', 306, 654, 'pour aller à', 1023, 0)\n",
      "('Création de la personne qui part de', 289, 782, 'pour aller à', 0, 0)\n",
      "('Création de la personne qui part de', 960, 1023, 'pour aller à', 1023, 0)\n",
      "('Création de la personne qui part de', 807, 197, 'pour aller à', 1023, 1023)\n",
      "('Création de la personne qui part de', 62, 960, 'pour aller à', 0, 0)\n",
      "('Création de la personne qui part de', 537, 401, 'pour aller à', 1023, 1023)\n",
      "('Création de la personne qui part de', 470, 70, 'pour aller à', 1023, 1023)\n",
      "('Création de la personne qui part de', 964, 221, 'pour aller à', 1023, 0)\n",
      "('Création de la personne qui part de', 779, 804, 'pour aller à', 0, 1023)\n",
      "('Création de la personne qui part de', 65, 418, 'pour aller à', 1023, 0)\n",
      "('Création de la personne qui part de', 275, 224, 'pour aller à', 0, 1023)\n",
      "('Création de la personne qui part de', 443, 598, 'pour aller à', 1023, 1023)\n",
      "('Création de la personne qui part de', 393, 96, 'pour aller à', 0, 0)\n",
      "('Création de la personne qui part de', 282, 449, 'pour aller à', 1023, 1023)\n",
      "('Création de la personne qui part de', 946, 244, 'pour aller à', 0, 0)\n",
      "('Personne non créée, la place est occupée', 186, 152)\n",
      "('Création de la personne qui part de', 940, 562, 'pour aller à', 0, 0)\n",
      "('Création de la personne qui part de', 438, 648, 'pour aller à', 1023, 1023)\n",
      "('Création de la personne qui part de', 329, 684, 'pour aller à', 0, 0)\n",
      "('Création de la personne qui part de', 23, 340, 'pour aller à', 0, 0)\n",
      "('Création de la personne qui part de', 297, 618, 'pour aller à', 0, 1023)\n",
      "('Création de la personne qui part de', 983, 145, 'pour aller à', 0, 0)\n",
      "('Création de la personne qui part de', 844, 131, 'pour aller à', 1023, 0)\n",
      "('Création de la personne qui part de', 773, 701, 'pour aller à', 1023, 0)\n",
      "('Création de la personne qui part de', 873, 116, 'pour aller à', 1023, 0)\n",
      "('Création de la personne qui part de', 746, 605, 'pour aller à', 0, 0)\n",
      "('Création de la personne qui part de', 229, 375, 'pour aller à', 1023, 1023)\n",
      "('Création de la personne qui part de', 68, 253, 'pour aller à', 0, 1023)\n",
      "('Création de la personne qui part de', 348, 986, 'pour aller à', 1023, 0)\n",
      "('Création de la personne qui part de', 901, 964, 'pour aller à', 0, 1023)\n",
      "('Création de la personne qui part de', 560, 130, 'pour aller à', 0, 1023)\n",
      "('Création de la personne qui part de', 338, 12, 'pour aller à', 0, 1023)\n",
      "('Création de la personne qui part de', 308, 778, 'pour aller à', 0, 1023)\n",
      "('Création de la personne qui part de', 340, 253, 'pour aller à', 0, 1023)\n",
      "('Création de la personne qui part de', 239, 124, 'pour aller à', 0, 1023)\n",
      "('Création de la personne qui part de', 883, 790, 'pour aller à', 0, 0)\n",
      "('Création de la personne qui part de', 272, 640, 'pour aller à', 0, 1023)\n",
      "('Création de la personne qui part de', 607, 694, 'pour aller à', 0, 1023)\n",
      "('Création de la personne qui part de', 329, 516, 'pour aller à', 1023, 1023)\n",
      "('Création de la personne qui part de', 733, 982, 'pour aller à', 1023, 0)\n",
      "('Création de la personne qui part de', 234, 386, 'pour aller à', 0, 0)\n",
      "('Création de la personne qui part de', 396, 961, 'pour aller à', 1023, 1023)\n",
      "('Création de la personne qui part de', 278, 820, 'pour aller à', 0, 1023)\n",
      "('Création de la personne qui part de', 935, 177, 'pour aller à', 1023, 0)\n",
      "('Création de la personne qui part de', 935, 769, 'pour aller à', 1023, 0)\n",
      "('Personne non créée, la place est occupée', 274, 360)\n",
      "('Création de la personne qui part de', 756, 186, 'pour aller à', 1023, 1023)\n",
      "('Création de la personne qui part de', 109, 871, 'pour aller à', 1023, 1023)\n",
      "('Création de la personne qui part de', 195, 318, 'pour aller à', 0, 1023)\n",
      "('Création de la personne qui part de', 719, 798, 'pour aller à', 0, 1023)\n",
      "('Création de la personne qui part de', 841, 1019, 'pour aller à', 0, 1023)\n",
      "('Création de la personne qui part de', 137, 968, 'pour aller à', 1023, 1023)\n",
      "('Création de la personne qui part de', 709, 411, 'pour aller à', 1023, 1023)\n",
      "('Création de la personne qui part de', 7, 305, 'pour aller à', 0, 1023)\n",
      "('Création de la personne qui part de', 49, 82, 'pour aller à', 1023, 0)\n",
      "('Création de la personne qui part de', 63, 667, 'pour aller à', 1023, 1023)\n",
      "('Création de la personne qui part de', 836, 366, 'pour aller à', 1023, 1023)\n",
      "('Création de la personne qui part de', 966, 981, 'pour aller à', 1023, 1023)\n",
      "('Création de la personne qui part de', 647, 167, 'pour aller à', 0, 0)\n",
      "('Création de la personne qui part de', 155, 871, 'pour aller à', 1023, 1023)\n",
      "('Création de la personne qui part de', 490, 370, 'pour aller à', 1023, 1023)\n",
      "('Création de la personne qui part de', 118, 31, 'pour aller à', 1023, 0)\n",
      "('Création de la personne qui part de', 853, 686, 'pour aller à', 0, 1023)\n",
      "('Création de la personne qui part de', 675, 361, 'pour aller à', 1023, 1023)\n",
      "('Création de la personne qui part de', 170, 42, 'pour aller à', 0, 0)\n",
      "('Création de la personne qui part de', 731, 108, 'pour aller à', 1023, 0)\n",
      "('Création de la personne qui part de', 404, 128, 'pour aller à', 0, 0)\n",
      "('Création de la personne qui part de', 711, 379, 'pour aller à', 0, 1023)\n",
      "('Création de la personne qui part de', 34, 652, 'pour aller à', 0, 1023)\n",
      "('Création de la personne qui part de', 810, 560, 'pour aller à', 1023, 0)\n",
      "('Création de la personne qui part de', 793, 1005, 'pour aller à', 1023, 1023)\n",
      "('Création de la personne qui part de', 262, 806, 'pour aller à', 0, 1023)\n",
      "('Création de la personne qui part de', 144, 547, 'pour aller à', 1023, 0)\n",
      "('Création de la personne qui part de', 610, 905, 'pour aller à', 1023, 1023)\n",
      "('Création de la personne qui part de', 995, 744, 'pour aller à', 1023, 1023)\n",
      "('Création de la personne qui part de', 927, 697, 'pour aller à', 1023, 1023)\n",
      "('Création de la personne qui part de', 932, 683, 'pour aller à', 0, 0)\n",
      "('Création de la personne qui part de', 753, 650, 'pour aller à', 0, 1023)\n",
      "('Création de la personne qui part de', 1023, 726, 'pour aller à', 1023, 0)\n",
      "('Création de la personne qui part de', 482, 721, 'pour aller à', 0, 1023)\n",
      "('Personne non créée, la place est occupée', 320, 294)\n",
      "('Création de la personne qui part de', 211, 938, 'pour aller à', 1023, 1023)\n",
      "('Création de la personne qui part de', 619, 372, 'pour aller à', 0, 1023)\n",
      "('Personne non créée, la place est occupée', 117, 172)\n",
      "('Création de la personne qui part de', 97, 408, 'pour aller à', 0, 0)\n",
      "('Création de la personne qui part de', 965, 406, 'pour aller à', 1023, 0)\n",
      "('Création de la personne qui part de', 96, 207, 'pour aller à', 0, 1023)\n",
      "(1024, 'personnes ont été créées')\n"
     ]
    }
   ],
   "source": [
    "# La grille contient 2^10 personnes\n",
    "nb_person = np.power(2,10)\n",
    "\n",
    "coordonnee = np.zeros((2,1), dtype=np.int)\n",
    "sortie = np.zeros((2,1), dtype=np.int)\n",
    "while len(grid.personneList)<nb_person:\n",
    "    coordonnee[0] = np.random.randint(1,X)\n",
    "    coordonnee[1] = np.random.randint(1,Y)\n",
    "    sortie[0] = (X-1)*np.random.randint(2)\n",
    "    sortie[1] = (Y-1)*np.random.randint(2)\n",
    "    Personne(grid, int(coordonnee[0]), int(coordonnee[1]), int(sortie[0]), int(sortie[1]), debug)\n",
    "    \n",
    "debug.affiche(len(grid.personneList), \"personnes ont été créées\")"
   ]
  },
  {
   "cell_type": "code",
   "execution_count": 25,
   "metadata": {},
   "outputs": [],
   "source": [
    "# Sauvegarde de l'objet grille\n",
    "grid.Save(grande_grille)"
   ]
  },
  {
   "cell_type": "code",
   "execution_count": 26,
   "metadata": {},
   "outputs": [],
   "source": [
    "# Affichage de la grille créée\n",
    "if UI==affichage.OpenCV:\n",
    "    cv2.imshow(\"img\", createImage(grid.map))\n",
    "    cv2.waitKey(5000) # Affichage pendant 5 secondes\n",
    "    cv2.destroyAllWindows()"
   ]
  },
  {
   "cell_type": "markdown",
   "metadata": {},
   "source": [
    "## Solution itérative\n",
    "\n",
    "Chaque personne doit rejoindre sa case de sortie. Le code est fourni à titre d'exemple. Il est malheureusement incomplet car si une personne ne peut pas rejoindre sa case de sortie alors la simulation ne s'arrête pas.\n",
    "\n",
    "Si vous avez besoin de modifier les classes proposées. Il suffit de construire par héritage la nouvelle classe qui doit porter le même nom que la classe parente suffixé par \\_1 ou \\_2 ou \\_3 selon l'étape du projet, et de surcharger les méthodes qui doivent l'être.\n",
    "\n",
    "Les cellules suivantes donnent des exemples d'utilisation des primitives précédemment écrites."
   ]
  },
  {
   "cell_type": "markdown",
   "metadata": {},
   "source": [
    "### Avec trace mais sans visualisation"
   ]
  },
  {
   "cell_type": "code",
   "execution_count": 29,
   "metadata": {
    "ExecuteTime": {
     "end_time": "2020-09-09T14:57:23.812307Z",
     "start_time": "2020-09-09T14:57:23.802324Z"
    }
   },
   "outputs": [
    {
     "name": "stdout",
     "output_type": "stream",
     "text": [
      "('Ouverture du fichier', 'maps/map-initial.txt')\n",
      "('Simulation pour une grille:', 10, '*', 10)\n",
      "(\"Initilisation de l'objet grille\",)\n",
      "('obstacle non créé', ['-1', '-1', '-1', '-1'])\n",
      "(\"Création de l'obstacle (\", 1, 1, ') - (', 2, 7, ')')\n",
      "(\"Création de l'obstacle (\", 1, 7, ') - (', 8, 8, ')')\n",
      "(2, 'obstacles ont été créés')\n",
      "('Création de la personne qui part de', 2, 2, 'pour aller à', 0, 0)\n",
      "(1, 'personnes ont été créées')\n",
      "********************\n",
      "Début de la simulation\n",
      "('La personne (', 2, 2, ') peut se déplacer sur :', [(3, 2, 1)])\n",
      "('Déplacement de la personne de (', 2, 2, ') à (', 2, 1, ')')\n",
      "('La personne (', 2, 1, ') peut se déplacer sur :', [(2, 1, 1), (2, 2, 0)])\n",
      "('Déplacement de la personne de (', 2, 1, ') à (', 1, 1, ')')\n",
      "('La personne (', 1, 1, ') peut se déplacer sur :', [(1, 0, 1), (1, 1, 0)])\n",
      "('Déplacement de la personne de (', 1, 1, ') à (', 0, 1, ')')\n",
      "('La personne (', 0, 1, ') peut se déplacer sur :', [(0, 0, 0)])\n",
      "('Déplacement de la personne de (', 0, 1, ') à (', 0, 0, ')')\n",
      "('Une personne vient de sortir, il reste', 0, 'personnes')\n"
     ]
    }
   ],
   "source": [
    "# En mode debug avec 1 personne, sans UI\n",
    "debug = Debug(True)\n",
    "\n",
    "file = open_file(petite_grille, debug)  # On ouvre le fichier\n",
    "X, Y = read_grid_size(file, debug) # On lit la taille\n",
    "grid = Grille(X, Y, affichage.Aucun, debug)     # On créée l'objet grille\n",
    "read_obstacles(file, grid, Obstacle, debug)  # On lit et positionne les obstacles\n",
    "read_personnes(file, grid, Personne, 1, debug) # On lit et positionne une seule personne\n",
    "print(\"*\"*20)\n",
    "print(\"Début de la simulation\")\n",
    "grid.Simulation()"
   ]
  },
  {
   "cell_type": "markdown",
   "metadata": {},
   "source": [
    "### Visualisation de chacune des itérations avec Matplotlib"
   ]
  },
  {
   "cell_type": "code",
   "execution_count": 30,
   "metadata": {
    "ExecuteTime": {
     "end_time": "2020-09-09T14:49:25.241960Z",
     "start_time": "2020-09-09T14:49:24.715633Z"
    },
    "scrolled": true
   },
   "outputs": [
    {
     "data": {
      "image/png": "[encoded data removed]",
      "text/plain": [
       "<Figure size 432x288 with 1 Axes>"
      ]
     },
     "metadata": {
      "needs_background": "light"
     },
     "output_type": "display_data"
    },
    {
     "data": {
      "image/png": "[encoded data removed]",
      "text/plain": [
       "<Figure size 432x288 with 1 Axes>"
      ]
     },
     "metadata": {
      "needs_background": "light"
     },
     "output_type": "display_data"
    },
    {
     "data": {
      "image/png": "[encoded data removed]",
      "text/plain": [
       "<Figure size 432x288 with 1 Axes>"
      ]
     },
     "metadata": {
      "needs_background": "light"
     },
     "output_type": "display_data"
    },
    {
     "data": {
      "image/png": "[encoded data removed]",
      "text/plain": [
       "<Figure size 432x288 with 1 Axes>"
      ]
     },
     "metadata": {
      "needs_background": "light"
     },
     "output_type": "display_data"
    },
    {
     "data": {
      "image/png": "[encoded data removed]",
      "text/plain": [
       "<Figure size 432x288 with 1 Axes>"
      ]
     },
     "metadata": {
      "needs_background": "light"
     },
     "output_type": "display_data"
    },
    {
     "data": {
      "image/png": "[encoded data removed]",
      "text/plain": [
       "<Figure size 432x288 with 1 Axes>"
      ]
     },
     "metadata": {
      "needs_background": "light"
     },
     "output_type": "display_data"
    }
   ],
   "source": [
    "for img in grid.mapList:\n",
    "    plt.imshow(img, cmap='Paired', vmin=0, vmax=5)\n",
    "    plt.show()"
   ]
  },
  {
   "cell_type": "markdown",
   "metadata": {},
   "source": [
    "### Visualisation de chacune des itérations avec OpenCV"
   ]
  },
  {
   "cell_type": "code",
   "execution_count": 31,
   "metadata": {
    "ExecuteTime": {
     "end_time": "2020-09-09T14:49:37.845993Z",
     "start_time": "2020-09-09T14:49:25.860666Z"
    }
   },
   "outputs": [],
   "source": [
    "if UI==affichage.OpenCV:\n",
    "    for image in grid.mapList:\n",
    "        cv2.imshow(\"img\", createImage(image))\n",
    "        cv2.waitKey(500) # Wait for 0.5 second\n",
    "    cv2.destroyAllWindows()"
   ]
  },
  {
   "cell_type": "markdown",
   "metadata": {},
   "source": [
    "### Sans trace mais avec visualisation"
   ]
  },
  {
   "cell_type": "code",
   "execution_count": 32,
   "metadata": {
    "ExecuteTime": {
     "end_time": "2020-09-09T14:49:49.836016Z",
     "start_time": "2020-09-09T14:49:37.849761Z"
    }
   },
   "outputs": [],
   "source": [
    "# En mode sans trace avec 1 personne mais avec UI\n",
    "if UI==affichage.OpenCV:\n",
    "    debug = Debug(False)\n",
    "    file = open_file(petite_grille, debug)  # On ouvre le fichier\n",
    "    X, Y = read_grid_size(file, debug) # On lit la taille\n",
    "    grid = Grille(X, Y, affichage.OpenCV, debug)     # On créée l'objet grille\n",
    "    read_obstacles(file, grid, Obstacle, debug)  # On lit et positionne les obstacles\n",
    "    read_personnes(file, grid, Personne, 1, debug) # On lit et positionne une seule personne\n",
    "    grid.Simulation()"
   ]
  },
  {
   "cell_type": "markdown",
   "metadata": {},
   "source": [
    "## <span style=\"color:red\">Votre travail</span>\n",
    "\n",
    "Mettre en oeuvre plusieurs version du simulateur :\n",
    "1. Version itérative : un seul flot d'exécution. Celui-ci est presque terminé, il faut reste à trouver une manière la plus judicieuse possible pour résoudre le problème des personnes bloquées par un obsatacle sans modifier le comportement d'une personne.\n",
    "1. Version un flot d'exécution par personne. Attention a bien protéger par une section critique tout accès à une ressource concurrente que ce soit une trace d'exécution en mode debug ou une ressource partagée. On fera attention a reduire dans la mesure du possible la portée d'une section critique\n",
    "1. Version un flot d'exécution pour un quard de la grille. Une personne de coordonnée X, Y sera gérée par le flot d'exécution numéro $i = 2* (Y//(Ymax//2)) + X//(Xmax//2)$.\n",
    "\n",
    "Vous construirez ces différentes versions en créant si nécessaire des sous-classes aux classes existantes.\n",
    "\n"
   ]
  },
  {
   "cell_type": "markdown",
   "metadata": {
    "ExecuteTime": {
     "end_time": "2020-09-01T14:38:38.843007Z",
     "start_time": "2020-09-01T14:38:19.214514Z"
    }
   },
   "source": [
    "Bien évidemment, on attend une étude comparative des différentes approches. Pour vous aider dans l'analyse des solutions qui doivent être décrites vous utiliserez un nombre variable de personnes. Pour cela, vous adapterez le code suivant afin de pouvoir mesurer l'évolution du temps d'exécution en fonction du nombre de personnes présentes sur la grille et comparer les temps d'exécution entre les scénarios\n",
    "<code>\n",
    "debug = Debug(False)\n",
    "\n",
    "duration_i = []  # i est le numéro du scénario\n",
    "nb_personnes = []\n",
    "for i in range(11):\n",
    "    nb_personnes += [np.power(2, i)]\n",
    "    print(\"*\"*30)\n",
    "    print(\"pour\", nb_personnes[-1], \"personnes\")\n",
    "\n",
    "    file = open_file(grande_grille, debug)  # On ouvre le fichier\n",
    "    X, Y = read_grid_size(file, debug) # On lit la taille\n",
    "    debug.affiche(\"simulation pour une grille:\", X, Y)\n",
    "    grid = Grille(X, Y, debug)     # On créée l'objet grille\n",
    "    read_obstacles(file, grid, Obstacle, debug)  # On lit et positionne les obstacles\n",
    "    read_personnes(file, grid, Personne, nb_personnes[-1], debug) # On lit et positionne le nombre de personne souhaité seule personne\n",
    "    debug.affiche(\"nbre de personnes\", len(grid.personneList))\n",
    "    \n",
    "    start = time.time()\n",
    "    grid.Simulation(debug)\n",
    "    end = time.time()\n",
    "    duration_i += [end-start]\n",
    "    print(\"La simulation a duré\", duration1[-1], \"secondes\")\n",
    "    print(\"Il restait\", XXXXX, \"personnes immobiles\")<code>"
   ]
  },
  {
   "cell_type": "markdown",
   "metadata": {},
   "source": [
    "Vous ferez un plot de l'évolution des temps d'exécution\n",
    "<code>\n",
    "plt.plot(nb_personnes, duration_1, label=\"Une seule thread\")\n",
    "plt.plot(nb_personnes, duration_2, label=\"Une thread par personne\")\n",
    "plt.plot(nb_personnes, duration_2, label=\"Une thread par quard de terrain\")\n",
    "plt.xlabel(\"nombre de personnes\")\n",
    "plt.ylabel(\"temps en secondes\")\n",
    "plt.legend()\n",
    "plt.show()<code>"
   ]
  },
  {
   "cell_type": "markdown",
   "metadata": {
    "ExecuteTime": {
     "end_time": "2020-09-01T15:08:57.408399Z",
     "start_time": "2020-09-01T15:08:57.304373Z"
    }
   },
   "source": [
    "Vous calculerez les ratios entre les scénarios\n",
    "<code>\n",
    "ratio_2 = []\n",
    "ratio_3 = []\n",
    "for i,j,k in zip(duration_1, duration_2, duration_3):\n",
    "    ratio_2 += [j/i]\n",
    "    ratio_3 += [k/i]\n",
    "plt.plot(nb_personnes, ratio_2, label=\"...\")\n",
    "plt.plot(nb_personnes, ratio_3, label=\"...\")\n",
    "plt.xlabel(\"nombre de personnes\")\n",
    "plt.ylabel(\"...\")\n",
    "plt.legend()\n",
    "plt.show()<code>"
   ]
  },
  {
   "cell_type": "markdown",
   "metadata": {
    "ExecuteTime": {
     "end_time": "2020-09-09T14:49:56.668475Z",
     "start_time": "2020-09-09T14:49:56.663438Z"
    }
   },
   "source": [
    "Vous calculerez aussi le speedup (inverse du ratio précédent) et ferez un plot de celui-ci"
   ]
  },
  {
   "cell_type": "markdown",
   "metadata": {},
   "source": [
    "## Scénario 1 - version itérative"
   ]
  },
  {
   "cell_type": "code",
   "execution_count": 33,
   "metadata": {},
   "outputs": [],
   "source": [
    "class Grille_1(Grille):\n",
    "    def __init__(self, Xmax, Ymax, UI, debug):\n",
    "        Grille.__init__(self,Xmax,Ymax,UI,debug)\n",
    "        self.personneSuppriemList=[]\n",
    "    # Solution imparfaite car une personne peut être bloquée par un obstacle\n",
    "    def Simulation(self,debug):\n",
    "        if debug.debug or self.UI==affichage.OpenCV:\n",
    "            self.mapList.append(copy.copy(self.map))\n",
    "        if self.UI==affichage.OpenCV:\n",
    "            cv2.imshow(\"img\", createImage(self.map))\n",
    "            cv2.waitKey(500)\n",
    "    \n",
    "        while len(self.personneList)>0: \n",
    "            nb_pers_immobile=0 \n",
    "            for personne in self.personneList:\n",
    "                end, immobile = personne.deplacePersonne(self, debug)\n",
    "                if immobile:\n",
    "                    nb_pers_immobile+=1 # On compte le nombre de personnes immobile\n",
    "                if end:\n",
    "                    debug.affiche(\"Une personne vient de sortir, il reste\", len(self.personneList), \"personnes\")\n",
    "            if nb_pers_immobile==len(self.personneList): # S'il y a autant de personne bloqué que de personnes sur la grille, au moins une personne est bloqué\n",
    "                                                        # par un obstacle\n",
    "                self.personneSuppriemList=self.personneList\n",
    "                self.personneList.clear()\n",
    "            if debug.debug or self.UI==affichage.OpenCV:\n",
    "                self.mapList.append(copy.copy(self.map))\n",
    "                if self.UI==affichage.OpenCV:\n",
    "                    cv2.imshow(\"img\", createImage(self.map))\n",
    "                    cv2.waitKey(500)\n",
    "    \n",
    "        if self.UI==affichage.OpenCV:\n",
    "            cv2.destroyAllWindows()\n",
    "    "
   ]
  },
  {
   "cell_type": "code",
   "execution_count": 34,
   "metadata": {},
   "outputs": [
    {
     "name": "stdout",
     "output_type": "stream",
     "text": [
      "('Ouverture du fichier', 'maps/map-initial.txt')\n",
      "('Simulation pour une grille:', 10, '*', 10)\n",
      "(\"Initilisation de l'objet grille\",)\n",
      "('obstacle non créé', ['-1', '-1', '-1', '-1'])\n",
      "(\"Création de l'obstacle (\", 1, 1, ') - (', 2, 7, ')')\n",
      "(\"Création de l'obstacle (\", 1, 7, ') - (', 8, 8, ')')\n",
      "(2, 'obstacles ont été créés')\n",
      "('Création de la personne qui part de', 2, 2, 'pour aller à', 0, 0)\n",
      "('Création de la personne qui part de', 3, 3, 'pour aller à', 0, 9)\n",
      "(2, 'personnes ont été créées')\n",
      "********************\n",
      "Début de la simulation\n",
      "('La personne (', 2, 2, ') peut se déplacer sur :', [(3, 2, 1)])\n",
      "('Déplacement de la personne de (', 2, 2, ') à (', 2, 1, ')')\n",
      "('La personne (', 3, 3, ') peut se déplacer sur :', [(8, 2, 3), (8, 3, 4)])\n",
      "('Déplacement de la personne de (', 3, 3, ') à (', 2, 3, ')')\n",
      "('La personne (', 2, 1, ') peut se déplacer sur :', [(2, 1, 1), (2, 2, 0)])\n",
      "('Déplacement de la personne de (', 2, 1, ') à (', 1, 1, ')')\n",
      "('La personne (', 2, 3, ') peut se déplacer sur :', [(7, 2, 4)])\n",
      "('Déplacement de la personne de (', 2, 3, ') à (', 2, 4, ')')\n",
      "('La personne (', 1, 1, ') peut se déplacer sur :', [(1, 0, 1), (1, 1, 0)])\n",
      "('Déplacement de la personne de (', 1, 1, ') à (', 0, 1, ')')\n",
      "('La personne (', 2, 4, ') peut se déplacer sur :', [(6, 2, 5)])\n",
      "('Déplacement de la personne de (', 2, 4, ') à (', 2, 5, ')')\n",
      "('La personne (', 0, 1, ') peut se déplacer sur :', [(0, 0, 0)])\n",
      "('Déplacement de la personne de (', 0, 1, ') à (', 0, 0, ')')\n",
      "('La personne (', 2, 5, ') peut se déplacer sur :', [(5, 2, 6)])\n",
      "('Déplacement de la personne de (', 2, 5, ') à (', 2, 6, ')')\n",
      "('Une personne vient de sortir, il reste', 1, 'personnes')\n",
      "('La personne (', 2, 6, ') peut se déplacer sur :', [(4, 2, 7)])\n",
      "('Déplacement de la personne de (', 2, 6, ') à (', 2, 7, ')')\n",
      "('La personne (', 2, 7, ') peut se déplacer sur :', [])\n",
      "('La personne (', 2, 7, 'ne peut pas se déplacer')\n"
     ]
    },
    {
     "data": {
      "image/png": "[encoded data removed]",
      "text/plain": [
       "<Figure size 432x288 with 1 Axes>"
      ]
     },
     "metadata": {
      "needs_background": "light"
     },
     "output_type": "display_data"
    },
    {
     "data": {
      "image/png": "[encoded data removed]",
      "text/plain": [
       "<Figure size 432x288 with 1 Axes>"
      ]
     },
     "metadata": {
      "needs_background": "light"
     },
     "output_type": "display_data"
    },
    {
     "data": {
      "image/png": "[encoded data removed]",
      "text/plain": [
       "<Figure size 432x288 with 1 Axes>"
      ]
     },
     "metadata": {
      "needs_background": "light"
     },
     "output_type": "display_data"
    },
    {
     "data": {
      "image/png": "[encoded data removed]",
      "text/plain": [
       "<Figure size 432x288 with 1 Axes>"
      ]
     },
     "metadata": {
      "needs_background": "light"
     },
     "output_type": "display_data"
    },
    {
     "data": {
      "image/png": "[encoded data removed]",
      "text/plain": [
       "<Figure size 432x288 with 1 Axes>"
      ]
     },
     "metadata": {
      "needs_background": "light"
     },
     "output_type": "display_data"
    },
    {
     "data": {
      "image/png": "[encoded data removed]",
      "text/plain": [
       "<Figure size 432x288 with 1 Axes>"
      ]
     },
     "metadata": {
      "needs_background": "light"
     },
     "output_type": "display_data"
    },
    {
     "data": {
      "image/png": "[encoded data removed]",
      "text/plain": [
       "<Figure size 432x288 with 1 Axes>"
      ]
     },
     "metadata": {
      "needs_background": "light"
     },
     "output_type": "display_data"
    },
    {
     "data": {
      "image/png": "[encoded data removed]",
      "text/plain": [
       "<Figure size 432x288 with 1 Axes>"
      ]
     },
     "metadata": {
      "needs_background": "light"
     },
     "output_type": "display_data"
    }
   ],
   "source": [
    "''' code du scénario 1 - vous pouvez utiliser plusieurs cellule '''\n",
    "\n",
    "debug = Debug(True)\n",
    "\n",
    "file = open_file(petite_grille, debug)  # On ouvre le fichier\n",
    "X, Y = read_grid_size(file, debug) # On lit la taille\n",
    "grid = Grille_1(X, Y, affichage.Aucun, debug)     # On créée l'objet grille\n",
    "read_obstacles(file, grid, Obstacle, debug)  # On lit et positionne les obstacles\n",
    "read_personnes(file, grid, Personne, 2, debug) # On lit et positionne une seule personne\n",
    "print(\"*\"*20)\n",
    "print(\"Début de la simulation\")\n",
    "grid.Simulation(debug)\n",
    "\n",
    "for img in grid.mapList:\n",
    "    plt.imshow(img, cmap='Paired', vmin=0, vmax=5)\n",
    "    plt.show()\n"
   ]
  },
  {
   "cell_type": "code",
   "execution_count": null,
   "metadata": {},
   "outputs": [],
   "source": []
  },
  {
   "cell_type": "code",
   "execution_count": 35,
   "metadata": {},
   "outputs": [
    {
     "data": {
      "text/plain": [
       "[<matplotlib.lines.Line2D at 0x7f3dcf380d60>]"
      ]
     },
     "execution_count": 35,
     "metadata": {},
     "output_type": "execute_result"
    },
    {
     "data": {
      "image/png": "[encoded data removed]",
      "text/plain": [
       "<Figure size 432x288 with 1 Axes>"
      ]
     },
     "metadata": {
      "needs_background": "light"
     },
     "output_type": "display_data"
    }
   ],
   "source": [
    "''' plot du temps d'exécution en fonction du nombre de personnes '''\n",
    "duration_i = [] # i est le numéro du scénario \n",
    "nb_personnes=[]\n",
    "range_personnes=10\n",
    "debug = Debug(False)\n",
    "for x in range(1,range_personnes):\n",
    "    nb_personnes.append(x)\n",
    "    file = open_file(petite_grille, debug)  # On ouvre le fichier\n",
    "    X, Y = read_grid_size(file, debug) # On lit la taille\n",
    "    grid = Grille_1(X, Y, affichage.Aucun, debug)     # On créée l'objet grille\n",
    "    read_obstacles(file, grid, Obstacle, debug)  # On lit et positionne les obstacles\n",
    "    read_personnes(file, grid, Personne, x, debug) # On lit et positionne une seule personne\n",
    "    start = time.time()\n",
    "    grid.Simulation(debug)\n",
    "    end = time.time()\n",
    "    duration_i.append(end-start)\n",
    "plt.plot(nb_personnes, duration_i, label=\"Une seule thread\")"
   ]
  },
  {
   "cell_type": "markdown",
   "metadata": {},
   "source": [
    "Votre analyse du scénario 1"
   ]
  },
  {
   "cell_type": "markdown",
   "metadata": {},
   "source": [
    "## Scénario 2 - version 1 thread par personne"
   ]
  },
  {
   "cell_type": "code",
   "execution_count": 42,
   "metadata": {
    "ExecuteTime": {
     "end_time": "2020-09-09T14:56:47.956152Z",
     "start_time": "2020-09-09T14:56:47.941709Z"
    }
   },
   "outputs": [],
   "source": [
    "from threading import Thread\n",
    "from threading import Lock\n",
    "\n",
    "class Personne_2(Personne,Thread):\n",
    "    def __init__(self, grid, Xinit, Yinit, Xsortie, Ysortie, debug):\n",
    "        Personne.__init__(self, grid, Xinit, Yinit, Xsortie, Ysortie, debug)\n",
    "        Thread.__init__(self)\n",
    "        self.grid=grid\n",
    "        self.debug=debug\n",
    "        self.immobile=False\n",
    "        self.lock=Lock()\n",
    "        \n",
    "    \n",
    "    def getAvailableMove(self, grid): # retourne la liste triée des déplacements possibles\n",
    "        # distance à la grille\n",
    "        dist_actuel = distance((self.X, self.Y), (self.Xsortie, self.Ysortie))\n",
    "        depl = []\n",
    "        # on calcule la distance entre les case adjacente et la sortie\n",
    "        for x in range(self.X-1, self.X+2):\n",
    "            for y in range (self.Y-1, self.Y+2):\n",
    "                if (x!=self.X or y!=self.Y) and (x==self.X or y==self.Y) and (x>=0 and y>=0 and x<grid.Xmax and y<grid.Ymax): # deplacement uniquement points cardinaux\n",
    "                    # on est sur une case adjacente et on est sur la grille\n",
    "                    if grid.isCellEmpty(x, y): # si la case est vide\n",
    "                        dist = distance((self.Xsortie, self.Ysortie), (x,y))\n",
    "                        if (dist<dist_actuel): # on se rappproche\n",
    "                             depl.append((dist, x, y))\n",
    "        return sorted(depl)\n",
    "\n",
    "    def getBetterMove(self, grid):\n",
    "        return self.getAvailableMove(grid)[0]\n",
    "\n",
    "    def Move(self, grid, depl):\n",
    "        debug.affiche(\"Déplacement de la personne de (\", self.X, self.Y, \") à (\", depl[1], depl[2], \")\")\n",
    "        grid.Set(self.X, self.Y, const.EMPTY)\n",
    "        self.X = depl[1]\n",
    "        self.Y = depl[2]\n",
    "        grid.Set(self.X, self.Y, const.PERSONNE)\n",
    "        \n",
    "    def deplacePersonne(self, grid, debug):\n",
    "        while grid.isEveryoneStuck()==False: \n",
    "            \n",
    "            if self.X==self.Xsortie and self.Y==self.Ysortie:\n",
    "                # la personne est arrivée à la sortie\n",
    "                # on retire la personne de la liste\n",
    "                # on libere la case de sortie\n",
    "                grid.Set(self.X, self.Y, const.EMPTY)\n",
    "                grid.left()\n",
    "                debug.affiche(\"Une personne vient de sortir, il reste \"+str(grid.nbPersonneRunning)+\" personne(s)\")\n",
    "                self.immobile=False\n",
    "                break\n",
    "            \n",
    "            # sinon on recherche les déplacements possibles\n",
    "            availableMove = self.getAvailableMove(grid)\n",
    "            debug.affiche(\"La personne (\", self.X, self.Y, \") peut se déplacer sur :\", availableMove)\n",
    "            self.lock.acquire()\n",
    "            if len(availableMove)>0:\n",
    "                # on se déplace sure la nouvelle case\n",
    "                self.Move(grid, availableMove[0]) \n",
    "                self.lock.release()\n",
    "                self.immobile=False\n",
    "            else:# sinon aucun d\"éplacement n'est possible\n",
    "                grid.Set(self.X, self.Y, const.IMMOBILE)\n",
    "                self.lock.release()\n",
    "                self.immobile=True\n",
    "                if grid.UI==affichage.OpenCV:\n",
    "                    debug.affiche(\"La personne (\", self.X, self.Y, \"ne peut pas se déplacer\")\n",
    "            \n",
    "            if debug.debug or grid.UI==affichage.OpenCV:\n",
    "                self.lock.acquire()\n",
    "                grid.mapList.append(copy.copy(grid.map))\n",
    "                self.lock.release()\n",
    "                        \n",
    "            \n",
    "            \n",
    "    def run(self):\n",
    "        self.deplacePersonne(self.grid,self.debug)"
   ]
  },
  {
   "cell_type": "code",
   "execution_count": 43,
   "metadata": {},
   "outputs": [],
   "source": [
    "class Grille_2(Grille):\n",
    "    def __init__(self, Xmax, Ymax, UI, debug):\n",
    "        Grille.__init__(self,Xmax,Ymax,UI,debug)\n",
    "        self.nbPersonneRunning=0\n",
    "    # Solution imparfaite car une personne peut être bloquée par un obstacle\n",
    "    def isEveryoneStuck(self):\n",
    "        nb_pers_immobile=0\n",
    "        for personne in self.personneList:\n",
    "            if personne.immobile:\n",
    "                nb_pers_immobile+=1\n",
    "        if nb_pers_immobile==self.nbPersonneRunning:\n",
    "            return True\n",
    "        else: \n",
    "            return False\n",
    "    def left(self):\n",
    "        self.nbPersonneRunning-=1\n",
    "        \n",
    "    def Simulation(self,debug):\n",
    "        self.nbPersonneRunning=len(self.personneList)\n",
    "        if debug.debug or self.UI==affichage.OpenCV:\n",
    "            self.mapList.append(copy.copy(self.map))\n",
    "        if self.UI==affichage.OpenCV:\n",
    "            cv2.imshow(\"img\", createImage(self.map))\n",
    "            cv2.waitKey(500)\n",
    "        \n",
    "        lock=Lock()\n",
    "\n",
    "        for personne in self.personneList:\n",
    "            personne.lock=lock\n",
    "            personne.start()       \n",
    "\n",
    "            \n",
    "        for personne in self.personneList:\n",
    "            personne.join()\n",
    "            \n",
    "        if grid.UI==affichage.OpenCV:\n",
    "            cv2.imshow(\"img\", createImage(grid.map))\n",
    "            cv2.waitKey(500)\n",
    "            \n",
    "\n",
    "        if self.UI==affichage.OpenCV:\n",
    "            cv2.destroyAllWindows()\n",
    "    "
   ]
  },
  {
   "cell_type": "code",
   "execution_count": 44,
   "metadata": {},
   "outputs": [
    {
     "name": "stdout",
     "output_type": "stream",
     "text": [
      "('Ouverture du fichier', 'maps/map-initial.txt')\n",
      "('Simulation pour une grille:', 10, '*', 10)\n",
      "(\"Initilisation de l'objet grille\",)\n",
      "('obstacle non créé', ['-1', '-1', '-1', '-1'])\n",
      "(\"Création de l'obstacle (\", 1, 1, ') - (', 2, 7, ')')\n",
      "(\"Création de l'obstacle (\", 1, 7, ') - (', 8, 8, ')')\n",
      "(2, 'obstacles ont été créés')\n",
      "('Création de la personne qui part de', 2, 2, 'pour aller à', 0, 0)\n",
      "('Création de la personne qui part de', 3, 3, 'pour aller à', 0, 9)\n",
      "('Création de la personne qui part de', 6, 6, 'pour aller à', 9, 0)\n",
      "(3, 'personnes ont été créées')\n",
      "********************\n",
      "Début de la simulation\n",
      "('La personne (', 2, 2, ') peut se déplacer sur :', [(3, 2, 1)])\n",
      "('Déplacement de la personne de (', 2, 2, ') à (', 2, 1, ')')\n",
      "('La personne (', 2, 1, ') peut se déplacer sur :', [(2, 1, 1), (2, 2, 0)])\n",
      "('Déplacement de la personne de (', 2, 1, ') à (', 1, 1, ')')\n",
      "('La personne (', 1, 1, ') peut se déplacer sur :', [(1, 0, 1), (1, 1, 0)])\n",
      "('Déplacement de la personne de (', 1, 1, ') à (', 0, 1, ')')\n",
      "('La personne (', 0, 1, ') peut se déplacer sur :', [(0, 0, 0)])\n",
      "('Déplacement de la personne de (', 0, 1, ') à (', 0, 0, ')')\n",
      "('Une personne vient de sortir, il reste 2 personne(s)',)\n",
      "('La personne (', 3, 3, ') peut se déplacer sur :', [(8, 2, 3), (8, 3, 4)])\n",
      "('Déplacement de la personne de (', 3, 3, ') à (', 2, 3, ')')\n",
      "('La personne (', 2, 3, ') peut se déplacer sur :', [(7, 2, 4)])\n",
      "('Déplacement de la personne de (', 2, 3, ') à (', 2, 4, ')')\n",
      "('La personne (', 2, 4, ') peut se déplacer sur :', [(6, 2, 5)])\n",
      "('Déplacement de la personne de (', 2, 4, ') à (', 2, 5, ')')\n",
      "('La personne (', 2, 5, ') peut se déplacer sur :', [(5, 2, 6)])\n",
      "('Déplacement de la personne de (', 2, 5, ') à (', 2, 6, ')')\n",
      "('La personne (', 2, 6, ') peut se déplacer sur :', [(4, 2, 7)])\n",
      "('Déplacement de la personne de (', 2, 6, ') à (', 2, 7, ')')\n",
      "('La personne (', 2, 7, ') peut se déplacer sur :', [])\n",
      "('La personne (', 2, 7, ') peut se déplacer sur :', [])\n",
      "('La personne (', 2, 7, ') peut se déplacer sur :', [])\n",
      "('La personne (', 2, 7, ') peut se déplacer sur :', [])\n",
      "('La personne (', 2, 7, ') peut se déplacer sur :', [])\n",
      "('La personne (', 2, 7, ') peut se déplacer sur :', [])\n",
      "('La personne (', 6, 6, ') peut se déplacer sur :', [(8, 6, 5), (8, 7, 6)])\n",
      "('La personne (', 2, 7, ') peut se déplacer sur :', [])('Déplacement de la personne de (', 6, 6, ') à (', 6, 5, ')')\n",
      "('La personne (', 6, 5, ') peut se déplacer sur :', [(7, 6, 4), (7, 7, 5)])\n",
      "('La personne (', 2, 7, ') peut se déplacer sur :', [])\n",
      "\n",
      "('Déplacement de la personne de (', 6, 5, ') à (', 6, 4, ')')\n",
      "('La personne (', 6, 4, ') peut se déplacer sur :', [(6, 6, 3), (6, 7, 4)])('La personne (', 2, 7, ') peut se déplacer sur :', [])\n",
      "('La personne (', 2, 7, ') peut se déplacer sur :', [])\n",
      "('Déplacement de la personne de (', 6, 4, ') à (', 6, 3, ')')\n",
      "\n",
      "('La personne (', 6, 3, ') peut se déplacer sur :', [(5, 6, 2), (5, 7, 3)])('La personne (', 2, 7, ') peut se déplacer sur :', [])\n",
      "\n",
      "('La personne (', 2, 7, ') peut se déplacer sur :', [])('Déplacement de la personne de (', 6, 3, ') à (', 6, 2, ')')\n",
      "('La personne (', 6, 2, ') peut se déplacer sur :', [(4, 6, 1), (4, 7, 2)])\n",
      "('La personne (', 2, 7, ') peut se déplacer sur :', [])\n",
      "('Déplacement de la personne de (', 6, 2, ') à (', 6, 1, ')')\n",
      "\n",
      "('La personne (', 6, 1, ') peut se déplacer sur :', [(3, 6, 0), (3, 7, 1)])('La personne (', 2, 7, ') peut se déplacer sur :', [])\n",
      "('Déplacement de la personne de (', 6, 1, ') à (', 6, 0, ')')\n",
      "\n",
      "('La personne (', 6, 0, ') peut se déplacer sur :', [(2, 7, 0)])('La personne (', 2, 7, ') peut se déplacer sur :', [])\n",
      "('La personne (', 2, 7, ') peut se déplacer sur :', [])\n",
      "('Déplacement de la personne de (', 6, 0, ') à (', 7, 0, ')')\n",
      "('La personne (', 7, 0, ') peut se déplacer sur :', [(1, 8, 0)])\n",
      "('La personne (', 2, 7, ') peut se déplacer sur :', [])\n",
      "('Déplacement de la personne de (', 7, 0, ') à (', 8, 0, ')')\n",
      "\n",
      "('La personne (', 8, 0, ') peut se déplacer sur :', [(0, 9, 0)])('La personne (', 2, 7, ') peut se déplacer sur :', [])\n",
      "\n",
      "('La personne (', 2, 7, ') peut se déplacer sur :', [])('Déplacement de la personne de (', 8, 0, ') à (', 9, 0, ')')\n",
      "('Une personne vient de sortir, il reste 1 personne(s)',)\n",
      "\n"
     ]
    },
    {
     "data": {
      "image/png": "[encoded data removed]",
      "text/plain": [
       "<Figure size 432x288 with 1 Axes>"
      ]
     },
     "metadata": {
      "needs_background": "light"
     },
     "output_type": "display_data"
    },
    {
     "data": {
      "image/png": "[encoded data removed]",
      "text/plain": [
       "<Figure size 432x288 with 1 Axes>"
      ]
     },
     "metadata": {
      "needs_background": "light"
     },
     "output_type": "display_data"
    },
    {
     "data": {
      "image/png": "[encoded data removed]",
      "text/plain": [
       "<Figure size 432x288 with 1 Axes>"
      ]
     },
     "metadata": {
      "needs_background": "light"
     },
     "output_type": "display_data"
    },
    {
     "data": {
      "image/png": "[encoded data removed]",
      "text/plain": [
       "<Figure size 432x288 with 1 Axes>"
      ]
     },
     "metadata": {
      "needs_background": "light"
     },
     "output_type": "display_data"
    },
    {
     "data": {
      "image/png": "[encoded data removed]",
      "text/plain": [
       "<Figure size 432x288 with 1 Axes>"
      ]
     },
     "metadata": {
      "needs_background": "light"
     },
     "output_type": "display_data"
    },
    {
     "data": {
      "image/png": "[encoded data removed]",
      "text/plain": [
       "<Figure size 432x288 with 1 Axes>"
      ]
     },
     "metadata": {
      "needs_background": "light"
     },
     "output_type": "display_data"
    },
    {
     "data": {
      "image/png": "[encoded data removed]",
      "text/plain": [
       "<Figure size 432x288 with 1 Axes>"
      ]
     },
     "metadata": {
      "needs_background": "light"
     },
     "output_type": "display_data"
    },
    {
     "data": {
      "image/png": "[encoded data removed]",
      "text/plain": [
       "<Figure size 432x288 with 1 Axes>"
      ]
     },
     "metadata": {
      "needs_background": "light"
     },
     "output_type": "display_data"
    },
    {
     "data": {
      "image/png": "[encoded data removed]",
      "text/plain": [
       "<Figure size 432x288 with 1 Axes>"
      ]
     },
     "metadata": {
      "needs_background": "light"
     },
     "output_type": "display_data"
    },
    {
     "data": {
      "image/png": "[encoded data removed]",
      "text/plain": [
       "<Figure size 432x288 with 1 Axes>"
      ]
     },
     "metadata": {
      "needs_background": "light"
     },
     "output_type": "display_data"
    },
    {
     "data": {
      "image/png": "[encoded data removed]",
      "text/plain": [
       "<Figure size 432x288 with 1 Axes>"
      ]
     },
     "metadata": {
      "needs_background": "light"
     },
     "output_type": "display_data"
    },
    {
     "data": {
      "image/png": "[encoded data removed]",
      "text/plain": [
       "<Figure size 432x288 with 1 Axes>"
      ]
     },
     "metadata": {
      "needs_background": "light"
     },
     "output_type": "display_data"
    },
    {
     "data": {
      "image/png": "[encoded data removed]",
      "text/plain": [
       "<Figure size 432x288 with 1 Axes>"
      ]
     },
     "metadata": {
      "needs_background": "light"
     },
     "output_type": "display_data"
    },
    {
     "data": {
      "image/png": "[encoded data removed]",
      "text/plain": [
       "<Figure size 432x288 with 1 Axes>"
      ]
     },
     "metadata": {
      "needs_background": "light"
     },
     "output_type": "display_data"
    },
    {
     "data": {
      "image/png": "[encoded data removed]",
      "text/plain": [
       "<Figure size 432x288 with 1 Axes>"
      ]
     },
     "metadata": {
      "needs_background": "light"
     },
     "output_type": "display_data"
    },
    {
     "data": {
      "image/png": "[encoded data removed]",
      "text/plain": [
       "<Figure size 432x288 with 1 Axes>"
      ]
     },
     "metadata": {
      "needs_background": "light"
     },
     "output_type": "display_data"
    },
    {
     "data": {
      "image/png": "[encoded data removed]",
      "text/plain": [
       "<Figure size 432x288 with 1 Axes>"
      ]
     },
     "metadata": {
      "needs_background": "light"
     },
     "output_type": "display_data"
    },
    {
     "data": {
      "image/png": "[encoded data removed]",
      "text/plain": [
       "<Figure size 432x288 with 1 Axes>"
      ]
     },
     "metadata": {
      "needs_background": "light"
     },
     "output_type": "display_data"
    },
    {
     "data": {
      "image/png": "[encoded data removed]",
      "text/plain": [
       "<Figure size 432x288 with 1 Axes>"
      ]
     },
     "metadata": {
      "needs_background": "light"
     },
     "output_type": "display_data"
    },
    {
     "data": {
      "image/png": "[encoded data removed]",
      "text/plain": [
       "<Figure size 432x288 with 1 Axes>"
      ]
     },
     "metadata": {
      "needs_background": "light"
     },
     "output_type": "display_data"
    },
    {
     "data": {
      "image/png": "[encoded data removed]",
      "text/plain": [
       "<Figure size 432x288 with 1 Axes>"
      ]
     },
     "metadata": {
      "needs_background": "light"
     },
     "output_type": "display_data"
    },
    {
     "data": {
      "image/png": "[encoded data removed]",
      "text/plain": [
       "<Figure size 432x288 with 1 Axes>"
      ]
     },
     "metadata": {
      "needs_background": "light"
     },
     "output_type": "display_data"
    },
    {
     "data": {
      "image/png": "[encoded data removed]",
      "text/plain": [
       "<Figure size 432x288 with 1 Axes>"
      ]
     },
     "metadata": {
      "needs_background": "light"
     },
     "output_type": "display_data"
    },
    {
     "data": {
      "image/png": "[encoded data removed]",
      "text/plain": [
       "<Figure size 432x288 with 1 Axes>"
      ]
     },
     "metadata": {
      "needs_background": "light"
     },
     "output_type": "display_data"
    },
    {
     "data": {
      "image/png": "[encoded data removed]",
      "text/plain": [
       "<Figure size 432x288 with 1 Axes>"
      ]
     },
     "metadata": {
      "needs_background": "light"
     },
     "output_type": "display_data"
    },
    {
     "data": {
      "image/png": "[encoded data removed]",
      "text/plain": [
       "<Figure size 432x288 with 1 Axes>"
      ]
     },
     "metadata": {
      "needs_background": "light"
     },
     "output_type": "display_data"
    },
    {
     "data": {
      "image/png": "[encoded data removed]",
      "text/plain": [
       "<Figure size 432x288 with 1 Axes>"
      ]
     },
     "metadata": {
      "needs_background": "light"
     },
     "output_type": "display_data"
    },
    {
     "data": {
      "image/png": "[encoded data removed]",
      "text/plain": [
       "<Figure size 432x288 with 1 Axes>"
      ]
     },
     "metadata": {
      "needs_background": "light"
     },
     "output_type": "display_data"
    },
    {
     "data": {
      "image/png": "[encoded data removed]",
      "text/plain": [
       "<Figure size 432x288 with 1 Axes>"
      ]
     },
     "metadata": {
      "needs_background": "light"
     },
     "output_type": "display_data"
    },
    {
     "data": {
      "image/png": "[encoded data removed]",
      "text/plain": [
       "<Figure size 432x288 with 1 Axes>"
      ]
     },
     "metadata": {
      "needs_background": "light"
     },
     "output_type": "display_data"
    },
    {
     "data": {
      "image/png": "[encoded data removed]",
      "text/plain": [
       "<Figure size 432x288 with 1 Axes>"
      ]
     },
     "metadata": {
      "needs_background": "light"
     },
     "output_type": "display_data"
    },
    {
     "data": {
      "image/png": "[encoded data removed]",
      "text/plain": [
       "<Figure size 432x288 with 1 Axes>"
      ]
     },
     "metadata": {
      "needs_background": "light"
     },
     "output_type": "display_data"
    },
    {
     "data": {
      "image/png": "[encoded data removed]",
      "text/plain": [
       "<Figure size 432x288 with 1 Axes>"
      ]
     },
     "metadata": {
      "needs_background": "light"
     },
     "output_type": "display_data"
    },
    {
     "data": {
      "image/png": "[encoded data removed]",
      "text/plain": [
       "<Figure size 432x288 with 1 Axes>"
      ]
     },
     "metadata": {
      "needs_background": "light"
     },
     "output_type": "display_data"
    },
    {
     "data": {
      "image/png": "[encoded data removed]",
      "text/plain": [
       "<Figure size 432x288 with 1 Axes>"
      ]
     },
     "metadata": {
      "needs_background": "light"
     },
     "output_type": "display_data"
    },
    {
     "data": {
      "image/png": "[encoded data removed]",
      "text/plain": [
       "<Figure size 432x288 with 1 Axes>"
      ]
     },
     "metadata": {
      "needs_background": "light"
     },
     "output_type": "display_data"
    },
    {
     "data": {
      "image/png": "[encoded data removed]",
      "text/plain": [
       "<Figure size 432x288 with 1 Axes>"
      ]
     },
     "metadata": {
      "needs_background": "light"
     },
     "output_type": "display_data"
    },
    {
     "data": {
      "image/png": "[encoded data removed]",
      "text/plain": [
       "<Figure size 432x288 with 1 Axes>"
      ]
     },
     "metadata": {
      "needs_background": "light"
     },
     "output_type": "display_data"
    }
   ],
   "source": [
    "''' code du scénario 1 - vous pouvez utiliser plusieurs cellule '''\n",
    "\n",
    "debug = Debug(True)\n",
    "\n",
    "file = open_file(petite_grille, debug)  # On ouvre le fichier\n",
    "X, Y = read_grid_size(file, debug) # On lit la taille\n",
    "grid = Grille_2(X, Y, affichage.Aucun, debug)     # On créée l'objet grille\n",
    "read_obstacles(file, grid, Obstacle, debug)  # On lit et positionne les obstacles\n",
    "read_personnes(file, grid, Personne_2, 3, debug) # On lit et positionne une seule personne\n",
    "print(\"*\"*20)\n",
    "print(\"Début de la simulation\")\n",
    "grid.Simulation(debug)\n",
    "\n",
    "for img in grid.mapList:\n",
    "    plt.imshow(img, cmap='Paired', vmin=0, vmax=5)\n",
    "    plt.show()\n"
   ]
  },
  {
   "cell_type": "code",
   "execution_count": 47,
   "metadata": {},
   "outputs": [
    {
     "data": {
      "text/plain": [
       "[<matplotlib.lines.Line2D at 0x7f72e26b48b0>]"
      ]
     },
     "execution_count": 47,
     "metadata": {},
     "output_type": "execute_result"
    },
    {
     "data": {
      "image/png": "[encoded data removed]",
      "text/plain": [
       "<Figure size 432x288 with 1 Axes>"
      ]
     },
     "metadata": {
      "needs_background": "light"
     },
     "output_type": "display_data"
    }
   ],
   "source": [
    "''' plot du temps d'exécution en fonction du nombre de personnes '''\n",
    "duration_i = [] # i est le numéro du scénario \n",
    "nb_personnes=[]\n",
    "range_personnes=10\n",
    "debug = Debug(False)\n",
    "for x in range(1,range_personnes):\n",
    "    nb_personnes.append(x)\n",
    "    file = open_file(petite_grille, debug)  # On ouvre le fichier\n",
    "    X, Y = read_grid_size(file, debug) # On lit la taille\n",
    "    grid = Grille_2(X, Y, affichage.Aucun, debug)     # On créée l'objet grille\n",
    "    read_obstacles(file, grid, Obstacle, debug)  # On lit et positionne les obstacles\n",
    "    read_personnes(file, grid, Personne_2, x, debug) # On lit et positionne une seule personne\n",
    "    start = time.time()\n",
    "    grid.Simulation(debug)\n",
    "    end = time.time()\n",
    "    duration_i.append(end-start)\n",
    "plt.plot(nb_personnes, duration_i, label=\"Une seule thread\")"
   ]
  },
  {
   "cell_type": "markdown",
   "metadata": {},
   "source": [
    "## Scénario 3 - version 1 thread pour 1/4 de la grille"
   ]
  },
  {
   "cell_type": "markdown",
   "metadata": {},
   "source": [
    "## Comparaison des trois approches\n",
    "\n",
    "<span style=\"color:red\">On attend ici une comparaison argumentée permettant de mettre en évidence les points forts et les points faibles des différentes solutions</span>"
   ]
  },
  {
   "cell_type": "markdown",
   "metadata": {},
   "source": [
    "## Export du notebook dans un fichier python"
   ]
  },
  {
   "cell_type": "code",
   "execution_count": 68,
   "metadata": {
    "ExecuteTime": {
     "end_time": "2020-09-09T14:49:56.670691Z",
     "start_time": "2020-09-09T14:49:41.283Z"
    }
   },
   "outputs": [
    {
     "ename": "ModuleNotFoundError",
     "evalue": "No module named 'ipyparams'",
     "output_type": "error",
     "traceback": [
      "\u001b[0;31m---------------------------------------------------------------------------\u001b[0m",
      "\u001b[0;31mModuleNotFoundError\u001b[0m                       Traceback (most recent call last)",
      "\u001b[0;32m<ipython-input-68-7db6d31fb8d1>\u001b[0m in \u001b[0;36m<module>\u001b[0;34m\u001b[0m\n\u001b[1;32m      1\u001b[0m \u001b[0;32mimport\u001b[0m \u001b[0msys\u001b[0m\u001b[0;34m,\u001b[0m\u001b[0mjson\u001b[0m\u001b[0;34m\u001b[0m\u001b[0;34m\u001b[0m\u001b[0m\n\u001b[0;32m----> 2\u001b[0;31m \u001b[0;32mimport\u001b[0m \u001b[0mipyparams\u001b[0m\u001b[0;34m\u001b[0m\u001b[0;34m\u001b[0m\u001b[0m\n\u001b[0m\u001b[1;32m      3\u001b[0m \u001b[0;34m\u001b[0m\u001b[0m\n\u001b[1;32m      4\u001b[0m \u001b[0;32mdef\u001b[0m \u001b[0mconvertNotebook\u001b[0m\u001b[0;34m(\u001b[0m\u001b[0mnotebookPath\u001b[0m\u001b[0;34m,\u001b[0m \u001b[0mmodulePath\u001b[0m\u001b[0;34m)\u001b[0m\u001b[0;34m:\u001b[0m\u001b[0;34m\u001b[0m\u001b[0;34m\u001b[0m\u001b[0m\n\u001b[1;32m      5\u001b[0m     \u001b[0mf\u001b[0m \u001b[0;34m=\u001b[0m \u001b[0mopen\u001b[0m\u001b[0;34m(\u001b[0m\u001b[0mnotebookPath\u001b[0m\u001b[0;34m,\u001b[0m \u001b[0;34m'r'\u001b[0m\u001b[0;34m)\u001b[0m \u001b[0;31m#input.ipynb\u001b[0m\u001b[0;34m\u001b[0m\u001b[0;34m\u001b[0m\u001b[0m\n",
      "\u001b[0;31mModuleNotFoundError\u001b[0m: No module named 'ipyparams'"
     ]
    }
   ],
   "source": [
    "import sys,json\n",
    "import ipyparams\n",
    "\n",
    "def convertNotebook(notebookPath, modulePath):\n",
    "    f = open(notebookPath, 'r') #input.ipynb\n",
    "    j = json.load(f)\n",
    "\n",
    "    of = open(modulePath, 'w') #output.py\n",
    "\n",
    "    if j[\"nbformat\"] >=4:\n",
    "        for i,cell in enumerate(j[\"cells\"]):\n",
    "            if cell['cell_type']=='code':\n",
    "                of.write(\"#cell \"+str(i+1)+\"\\n\")\n",
    "                for line in cell[\"source\"]:\n",
    "                    of.write(line)\n",
    "                of.write('\\n\\n')\n",
    "    else:\n",
    "        print(\"not implemented\")\n",
    "\n",
    "    of.close()"
   ]
  },
  {
   "cell_type": "code",
   "execution_count": null,
   "metadata": {
    "ExecuteTime": {
     "end_time": "2020-09-09T14:49:56.671833Z",
     "start_time": "2020-09-09T14:49:46.226Z"
    }
   },
   "outputs": [],
   "source": [
    "''' Remarks: it is necessary to put the import code in a separate cell above the call of function.\n",
    "Otherwise Jupyter will try to run the code before the library is fully loaded,\n",
    "so the currentNotebook variable is still blank.\n",
    "\n",
    "Putting the import in its own cell forces it to load before moving to the next cell.\n",
    "'''\n",
    "if is_running_from_ipython():\n",
    "    currentNotebook = ipyparams.notebook_name\n",
    "    pythonName = currentNotebook.split(\".\")[0]+\".py\"\n",
    "    \n",
    "    convertNotebook(currentNotebook, pythonName)"
   ]
  },
  {
   "cell_type": "code",
   "execution_count": null,
   "metadata": {},
   "outputs": [],
   "source": []
  }
 ],
 "metadata": {
  "kernelspec": {
   "display_name": "Python 3",
   "language": "python",
   "name": "python3"
  },
  "language_info": {
   "codemirror_mode": {
    "name": "ipython",
    "version": 3
   },
   "file_extension": ".py",
   "mimetype": "text/x-python",
   "name": "python",
   "nbconvert_exporter": "python",
   "pygments_lexer": "ipython3",
   "version": "3.8.5"
  },
  "latex_envs": {
   "LaTeX_envs_menu_present": true,
   "autoclose": true,
   "autocomplete": true,
   "bibliofile": "biblio.bib",
   "cite_by": "apalike",
   "current_citInitial": 1,
   "eqLabelWithNumbers": true,
   "eqNumInitial": 1,
   "hotkeys": {
    "equation": "Ctrl-E",
    "itemize": "Ctrl-I"
   },
   "labels_anchors": false,
   "latex_user_defs": false,
   "report_style_numbering": false,
   "user_envs_cfg": false
  },
  "nbTranslate": {
   "displayLangs": [
    "*"
   ],
   "hotkey": "alt-t",
   "langInMainMenu": true,
   "sourceLang": "en",
   "targetLang": "fr",
   "useGoogleTranslate": true
  },
  "toc": {
   "base_numbering": 1,
   "nav_menu": {},
   "number_sections": true,
   "sideBar": true,
   "skip_h1_title": true,
   "title_cell": "Table of Contents",
   "title_sidebar": "Contents",
   "toc_cell": true,
   "toc_position": {},
   "toc_section_display": true,
   "toc_window_display": false
  }
 },
 "nbformat": 4,
 "nbformat_minor": 4
}
